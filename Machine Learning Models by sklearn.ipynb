{
 "cells": [
  {
   "cell_type": "markdown",
   "id": "9ac99ed6",
   "metadata": {},
   "source": [
    "# 1. Linear Models"
   ]
  },
  {
   "cell_type": "markdown",
   "id": "8893bf50",
   "metadata": {},
   "source": [
    "## 1.1 Ordinary Least Squares"
   ]
  },
  {
   "cell_type": "markdown",
   "id": "5843c1d2",
   "metadata": {},
   "source": [
    "```LinearRegression``` in sklearn fits a linear model with coefficients to minimise the residual sum of squares between the observed targets in the dataset, and the targets predicted by the linear approximation.  \n",
    "Mathematically, it can be notated as follows.  \n",
    "$$\\min_w||X_w-y||_2^2$$"
   ]
  },
  {
   "cell_type": "markdown",
   "id": "591905fa",
   "metadata": {},
   "source": [
    "OLS complexity: $O(n_{samples}\\times n_{feature}^2)$, assuming that $n_{samples}\\geq n_{features}$."
   ]
  },
  {
   "cell_type": "code",
   "execution_count": 18,
   "id": "0da3af6a",
   "metadata": {},
   "outputs": [
    {
     "name": "stdout",
     "output_type": "stream",
     "text": [
      "Requirement already satisfied: scikit-learn in c:\\users\\ivanj\\appdata\\local\\programs\\python\\python313\\lib\\site-packages (1.6.1)\n",
      "Requirement already satisfied: numpy>=1.19.5 in c:\\users\\ivanj\\appdata\\local\\programs\\python\\python313\\lib\\site-packages (from scikit-learn) (2.2.5)\n",
      "Requirement already satisfied: scipy>=1.6.0 in c:\\users\\ivanj\\appdata\\local\\programs\\python\\python313\\lib\\site-packages (from scikit-learn) (1.15.2)\n",
      "Requirement already satisfied: joblib>=1.2.0 in c:\\users\\ivanj\\appdata\\local\\programs\\python\\python313\\lib\\site-packages (from scikit-learn) (1.4.2)\n",
      "Requirement already satisfied: threadpoolctl>=3.1.0 in c:\\users\\ivanj\\appdata\\local\\programs\\python\\python313\\lib\\site-packages (from scikit-learn) (3.6.0)\n",
      "Note: you may need to restart the kernel to use updated packages.\n"
     ]
    },
    {
     "name": "stderr",
     "output_type": "stream",
     "text": [
      "\n",
      "[notice] A new release of pip is available: 24.3.1 -> 25.0.1\n",
      "[notice] To update, run: python.exe -m pip install --upgrade pip\n"
     ]
    }
   ],
   "source": [
    "pip install scikit-learn"
   ]
  },
  {
   "cell_type": "code",
   "execution_count": 20,
   "id": "d754d330",
   "metadata": {},
   "outputs": [
    {
     "name": "stdout",
     "output_type": "stream",
     "text": [
      "Collecting matplotlib\n",
      "  Using cached matplotlib-3.10.1-cp313-cp313-win_amd64.whl.metadata (11 kB)\n",
      "Collecting contourpy>=1.0.1 (from matplotlib)\n",
      "  Using cached contourpy-1.3.2-cp313-cp313-win_amd64.whl.metadata (5.5 kB)\n",
      "Collecting cycler>=0.10 (from matplotlib)\n",
      "  Using cached cycler-0.12.1-py3-none-any.whl.metadata (3.8 kB)\n",
      "Collecting fonttools>=4.22.0 (from matplotlib)\n",
      "  Using cached fonttools-4.57.0-cp313-cp313-win_amd64.whl.metadata (104 kB)\n",
      "Collecting kiwisolver>=1.3.1 (from matplotlib)\n",
      "  Using cached kiwisolver-1.4.8-cp313-cp313-win_amd64.whl.metadata (6.3 kB)\n",
      "Requirement already satisfied: numpy>=1.23 in c:\\users\\ivanj\\appdata\\local\\programs\\python\\python313\\lib\\site-packages (from matplotlib) (2.2.5)\n",
      "Requirement already satisfied: packaging>=20.0 in c:\\users\\ivanj\\appdata\\roaming\\python\\python313\\site-packages (from matplotlib) (25.0)\n",
      "Collecting pillow>=8 (from matplotlib)\n",
      "  Using cached pillow-11.2.1-cp313-cp313-win_amd64.whl.metadata (9.1 kB)\n",
      "Collecting pyparsing>=2.3.1 (from matplotlib)\n",
      "  Using cached pyparsing-3.2.3-py3-none-any.whl.metadata (5.0 kB)\n",
      "Requirement already satisfied: python-dateutil>=2.7 in c:\\users\\ivanj\\appdata\\roaming\\python\\python313\\site-packages (from matplotlib) (2.9.0.post0)\n",
      "Requirement already satisfied: six>=1.5 in c:\\users\\ivanj\\appdata\\roaming\\python\\python313\\site-packages (from python-dateutil>=2.7->matplotlib) (1.17.0)\n",
      "Downloading matplotlib-3.10.1-cp313-cp313-win_amd64.whl (8.1 MB)\n",
      "   ---------------------------------------- 0.0/8.1 MB ? eta -:--:--\n",
      "   ---------------------- ----------------- 4.5/8.1 MB 27.8 MB/s eta 0:00:01\n",
      "   ---------------------------------------- 8.1/8.1 MB 25.3 MB/s eta 0:00:00\n",
      "Downloading contourpy-1.3.2-cp313-cp313-win_amd64.whl (223 kB)\n",
      "Using cached cycler-0.12.1-py3-none-any.whl (8.3 kB)\n",
      "Downloading fonttools-4.57.0-cp313-cp313-win_amd64.whl (2.2 MB)\n",
      "   ---------------------------------------- 0.0/2.2 MB ? eta -:--:--\n",
      "   ---------------------------------------- 2.2/2.2 MB 21.8 MB/s eta 0:00:00\n",
      "Downloading kiwisolver-1.4.8-cp313-cp313-win_amd64.whl (71 kB)\n",
      "Downloading pillow-11.2.1-cp313-cp313-win_amd64.whl (2.7 MB)\n",
      "   ---------------------------------------- 0.0/2.7 MB ? eta -:--:--\n",
      "   ---------------------------------------- 2.7/2.7 MB 24.5 MB/s eta 0:00:00\n",
      "Downloading pyparsing-3.2.3-py3-none-any.whl (111 kB)\n",
      "Installing collected packages: pyparsing, pillow, kiwisolver, fonttools, cycler, contourpy, matplotlib\n",
      "Successfully installed contourpy-1.3.2 cycler-0.12.1 fonttools-4.57.0 kiwisolver-1.4.8 matplotlib-3.10.1 pillow-11.2.1 pyparsing-3.2.3\n",
      "Note: you may need to restart the kernel to use updated packages.\n"
     ]
    },
    {
     "name": "stderr",
     "output_type": "stream",
     "text": [
      "  WARNING: The scripts fonttools.exe, pyftmerge.exe, pyftsubset.exe and ttx.exe are installed in 'c:\\Users\\ivanj\\AppData\\Local\\Programs\\Python\\Python313\\Scripts' which is not on PATH.\n",
      "  Consider adding this directory to PATH or, if you prefer to suppress this warning, use --no-warn-script-location.\n",
      "\n",
      "[notice] A new release of pip is available: 24.3.1 -> 25.0.1\n",
      "[notice] To update, run: python.exe -m pip install --upgrade pip\n"
     ]
    }
   ],
   "source": [
    "pip install matplotlib"
   ]
  },
  {
   "cell_type": "markdown",
   "id": "f7f41120",
   "metadata": {},
   "source": [
    "### Example 1"
   ]
  },
  {
   "cell_type": "code",
   "execution_count": null,
   "id": "6b17a281",
   "metadata": {},
   "outputs": [
    {
     "name": "stdout",
     "output_type": "stream",
     "text": [
      "[0.5 0.5]\n",
      "1.1102230246251565e-16\n",
      "[3.]\n"
     ]
    }
   ],
   "source": [
    "from sklearn import linear_model\n",
    "reg = linear_model.LinearRegression()\n",
    "reg.fit([[0, 0], [1, 1], [2, 2]], [0, 1, 2])\n",
    "# (x1, x2) = (0, 0), (1, 1), (2, 2)\n",
    "# y = 0, 1, 2\n",
    "print(reg.coef_)\n",
    "print(reg.intercept_)\n",
    "print(reg.predict([[3, 3]]))"
   ]
  },
  {
   "cell_type": "markdown",
   "id": "64cce273",
   "metadata": {},
   "source": [
    "### Example 2"
   ]
  },
  {
   "cell_type": "code",
   "execution_count": 21,
   "id": "21af8f08",
   "metadata": {},
   "outputs": [],
   "source": [
    "from sklearn.datasets import load_diabetes\n",
    "from sklearn.model_selection import train_test_split\n",
    "from sklearn.linear_model import LinearRegression\n",
    "from sklearn.metrics import mean_squared_error, r2_score\n",
    "import matplotlib.pyplot as plt"
   ]
  },
  {
   "cell_type": "code",
   "execution_count": null,
   "id": "62046923",
   "metadata": {},
   "outputs": [
    {
     "name": "stdout",
     "output_type": "stream",
     "text": [
      "(array([[ 0.03807591,  0.05068012,  0.06169621, ..., -0.00259226,\n",
      "         0.01990749, -0.01764613],\n",
      "       [-0.00188202, -0.04464164, -0.05147406, ..., -0.03949338,\n",
      "        -0.06833155, -0.09220405],\n",
      "       [ 0.08529891,  0.05068012,  0.04445121, ..., -0.00259226,\n",
      "         0.00286131, -0.02593034],\n",
      "       ...,\n",
      "       [ 0.04170844,  0.05068012, -0.01590626, ..., -0.01107952,\n",
      "        -0.04688253,  0.01549073],\n",
      "       [-0.04547248, -0.04464164,  0.03906215, ...,  0.02655962,\n",
      "         0.04452873, -0.02593034],\n",
      "       [-0.04547248, -0.04464164, -0.0730303 , ..., -0.03949338,\n",
      "        -0.00422151,  0.00306441]], shape=(442, 10)), array([151.,  75., 141., 206., 135.,  97., 138.,  63., 110., 310., 101.,\n",
      "        69., 179., 185., 118., 171., 166., 144.,  97., 168.,  68.,  49.,\n",
      "        68., 245., 184., 202., 137.,  85., 131., 283., 129.,  59., 341.,\n",
      "        87.,  65., 102., 265., 276., 252.,  90., 100.,  55.,  61.,  92.,\n",
      "       259.,  53., 190., 142.,  75., 142., 155., 225.,  59., 104., 182.,\n",
      "       128.,  52.,  37., 170., 170.,  61., 144.,  52., 128.,  71., 163.,\n",
      "       150.,  97., 160., 178.,  48., 270., 202., 111.,  85.,  42., 170.,\n",
      "       200., 252., 113., 143.,  51.,  52., 210.,  65., 141.,  55., 134.,\n",
      "        42., 111.,  98., 164.,  48.,  96.,  90., 162., 150., 279.,  92.,\n",
      "        83., 128., 102., 302., 198.,  95.,  53., 134., 144., 232.,  81.,\n",
      "       104.,  59., 246., 297., 258., 229., 275., 281., 179., 200., 200.,\n",
      "       173., 180.,  84., 121., 161.,  99., 109., 115., 268., 274., 158.,\n",
      "       107.,  83., 103., 272.,  85., 280., 336., 281., 118., 317., 235.,\n",
      "        60., 174., 259., 178., 128.,  96., 126., 288.,  88., 292.,  71.,\n",
      "       197., 186.,  25.,  84.,  96., 195.,  53., 217., 172., 131., 214.,\n",
      "        59.,  70., 220., 268., 152.,  47.,  74., 295., 101., 151., 127.,\n",
      "       237., 225.,  81., 151., 107.,  64., 138., 185., 265., 101., 137.,\n",
      "       143., 141.,  79., 292., 178.,  91., 116.,  86., 122.,  72., 129.,\n",
      "       142.,  90., 158.,  39., 196., 222., 277.,  99., 196., 202., 155.,\n",
      "        77., 191.,  70.,  73.,  49.,  65., 263., 248., 296., 214., 185.,\n",
      "        78.,  93., 252., 150.,  77., 208.,  77., 108., 160.,  53., 220.,\n",
      "       154., 259.,  90., 246., 124.,  67.,  72., 257., 262., 275., 177.,\n",
      "        71.,  47., 187., 125.,  78.,  51., 258., 215., 303., 243.,  91.,\n",
      "       150., 310., 153., 346.,  63.,  89.,  50.,  39., 103., 308., 116.,\n",
      "       145.,  74.,  45., 115., 264.,  87., 202., 127., 182., 241.,  66.,\n",
      "        94., 283.,  64., 102., 200., 265.,  94., 230., 181., 156., 233.,\n",
      "        60., 219.,  80.,  68., 332., 248.,  84., 200.,  55.,  85.,  89.,\n",
      "        31., 129.,  83., 275.,  65., 198., 236., 253., 124.,  44., 172.,\n",
      "       114., 142., 109., 180., 144., 163., 147.,  97., 220., 190., 109.,\n",
      "       191., 122., 230., 242., 248., 249., 192., 131., 237.,  78., 135.,\n",
      "       244., 199., 270., 164.,  72.,  96., 306.,  91., 214.,  95., 216.,\n",
      "       263., 178., 113., 200., 139., 139.,  88., 148.,  88., 243.,  71.,\n",
      "        77., 109., 272.,  60.,  54., 221.,  90., 311., 281., 182., 321.,\n",
      "        58., 262., 206., 233., 242., 123., 167.,  63., 197.,  71., 168.,\n",
      "       140., 217., 121., 235., 245.,  40.,  52., 104., 132.,  88.,  69.,\n",
      "       219.,  72., 201., 110.,  51., 277.,  63., 118.,  69., 273., 258.,\n",
      "        43., 198., 242., 232., 175.,  93., 168., 275., 293., 281.,  72.,\n",
      "       140., 189., 181., 209., 136., 261., 113., 131., 174., 257.,  55.,\n",
      "        84.,  42., 146., 212., 233.,  91., 111., 152., 120.,  67., 310.,\n",
      "        94., 183.,  66., 173.,  72.,  49.,  64.,  48., 178., 104., 132.,\n",
      "       220.,  57.]))\n"
     ]
    }
   ],
   "source": [
    "# loading the diabetes dataset\n",
    "from sklearn.datasets import load_diabetes\n",
    "data = load_diabetes(return_X_y=True)\n",
    "print(data)\n",
    "'''\n",
    "return_X_y is False by defualt, which will then return a Bunch object.\n",
    "This object is like a container holding various pieces of information about the dataset,\n",
    "which includes the data, target, feature names, and other metadata like description.\n",
    "\n",
    "If return _X_y is set to True, the function will return a tuple (data, target).git/\n",
    "'''\n"
   ]
  },
  {
   "cell_type": "code",
   "execution_count": null,
   "id": "b21acdba",
   "metadata": {},
   "outputs": [
    {
     "data": {
      "text/plain": [
       "'\\n1. text_size: this parameter determines how large the test set should be when you split the dataset into a training set and a test set.\\n    if it is set to 0.2, it means that 20% of the data will be used for testing and 80% for training.\\n    if it is set to an integer like 20, it represents the absolute number of samples to include in the test set.\\n\\n2. shuffle: if set to True, the data will be shuffled before splitting into training and test sets.\\n    This is useful to ensure that the training and test sets are representative of the overall dataset.\\n    If set to False, the data will be split in the order it appears in the dataset.\\n'"
      ]
     },
     "execution_count": 11,
     "metadata": {},
     "output_type": "execute_result"
    }
   ],
   "source": [
    "# data processing\n",
    "X, y = data\n",
    "X = X[:, 2:3]  # Use only one feature for simplicity\n",
    "X_train, X_test, y_train, y_test = train_test_split(X, y, test_size=0.2, random_state=42, shuffle=False)\n",
    "'''\n",
    "1. text_size: this parameter determines how large the test set should be when you split the dataset into a training set and a test set.\n",
    "    if it is set to 0.2, it means that 20% of the data will be used for testing and 80% for training.\n",
    "    if it is set to an integer like 20, it represents the absolute number of samples to include in the test set.\n",
    "\n",
    "2. shuffle: if set to True, the data will be shuffled before splitting into training and test sets.\n",
    "    This is useful to ensure that the training and test sets are representative of the overall dataset.\n",
    "    If set to False, the data will be split in the order it appears in the dataset.\n",
    "'''"
   ]
  },
  {
   "cell_type": "code",
   "execution_count": null,
   "id": "ded111b0",
   "metadata": {},
   "outputs": [],
   "source": [
    "# model training\n",
    "regression_model = LinearRegression().fit(X_train, y_train)"
   ]
  },
  {
   "cell_type": "code",
   "execution_count": null,
   "id": "60861423",
   "metadata": {},
   "outputs": [
    {
     "name": "stdout",
     "output_type": "stream",
     "text": [
      "Coefficients:  [957.76202681]\n",
      "Intercept:  152.05351614434244\n",
      "Mean squared error:  4079.8238363494497\n",
      "Coefficient of determination:  0.36468857495916807\n"
     ]
    }
   ],
   "source": [
    "# model evaluation\n",
    "y_pred = regression_model.predict(X_test)\n",
    "print(\"Coefficients: \", regression_model.coef_)\n",
    "print(\"Intercept: \", regression_model.intercept_)\n",
    "print(\"Mean squared error: \", mean_squared_error(y_test, y_pred))\n",
    "print(\"Coefficient of determination: \", r2_score(y_test, y_pred))"
   ]
  },
  {
   "cell_type": "code",
   "execution_count": 22,
   "id": "5c124fca",
   "metadata": {},
   "outputs": [
    {
     "data": {
      "image/png": "[encoded data removed]",
      "text/plain": [
       "<Figure size 1000x500 with 2 Axes>"
      ]
     },
     "metadata": {},
     "output_type": "display_data"
    }
   ],
   "source": [
    "# data visualisation\n",
    "fig, ax = plt.subplots(ncols=2, figsize=(10, 5), sharex=True, sharey=True)\n",
    "\n",
    "ax[0].scatter(X_train, y_train, label=\"Train data points\")\n",
    "ax[0].plot(\n",
    "    X_train,\n",
    "    regression_model.predict(X_train),\n",
    "    linewidth=3,\n",
    "    color=\"tab:orange\",\n",
    "    label=\"Model predictions\",\n",
    ")\n",
    "ax[0].set(xlabel=\"Feature\", ylabel=\"Target\", title=\"Train set\")\n",
    "ax[0].legend()\n",
    "\n",
    "ax[1].scatter(X_test, y_test, label=\"Test data points\")\n",
    "ax[1].plot(X_test, y_pred, linewidth=3, color=\"tab:orange\", label=\"Model predictions\")\n",
    "ax[1].set(xlabel=\"Feature\", ylabel=\"Target\", title=\"Test set\")\n",
    "ax[1].legend()\n",
    "\n",
    "fig.suptitle(\"Linear Regression\")\n",
    "\n",
    "plt.show()"
   ]
  },
  {
   "cell_type": "markdown",
   "id": "aac13d3a",
   "metadata": {},
   "source": [
    "## 1.2 Ridge Regression"
   ]
  },
  {
   "cell_type": "markdown",
   "id": "96a25e19",
   "metadata": {},
   "source": [
    "```What Is Ridge Regression?```   \n",
    "Ridge regression is a modified version of linear regression designed to address two common problems that can arise with standard linear models (OLS):  \n",
    "1. **Multicollinearity**: When predictor variables (features) in the model are highly correlated with each other.  \n",
    "2. **Overfitting**: When the model learns the training data too well, including its noise, leading to poor performance on new, unseen data, especially when the number of features is large relative to the number of observations.  "
   ]
  },
  {
   "cell_type": "markdown",
   "id": "df7b1142",
   "metadata": {},
   "source": [
    "```How Ridge Regression Address These Problems?```   \n",
    "Ridge regression addresses these problems of OLS by imposing a penalty on the size of the coefficients. The ridge coefficients minimise a penalised residual sum of squares:  \n",
    "$$\\min_w||X_w-y||_2^2+\\alpha||w||_2^2$$  \n",
    "Here, the $\\alpha$ is called **regularisation parameter** or **tuning parameter**, which controls the strength of the penalty, with larger $\\alpha$ imposing a stronger penalty on large coefficients and being more robust to multicollinearity and less prone to overfitting."
   ]
  },
  {
   "cell_type": "markdown",
   "id": "d7467fcd",
   "metadata": {},
   "source": [
    "```Effect of Ridge Regression: Bias-Variance Tradeoff```  \n",
    "It introduces a small amount of bias into the coefficient estimates (they are shrunk away from the OLS values).  \n",
    "In return, it significantly reduces the variance of the model, especially when multicollinearity is present or the model is prone to overfitting.  \n",
    "This tradeoff often leads to a lower overall error on unseen data, resulting in better generalisation performance.  "
   ]
  },
  {
   "cell_type": "markdown",
   "id": "3a032b61",
   "metadata": {},
   "source": [
    "```Key Characteristics of Ridge Regression```  \n",
    "1. Coefficient Shrinkage: It shrinks coefficients towards zero but rarely shrinks any coefficient exactly to zero unless $\\lambda \\to \\infty$. This means ridge regression performs regularisation but does not perform automatic feature selection and all original features are retained in the final model.  \n",
    "2. Handles Multicollinearity: It  stablised coefficient estimates when predictors are highly correlated, often assigning similar shrunken coefficient values to correlated predictors.  \n",
    "3. Requires Feature Scaling: The penalty term is sensitive to the scale of the features. Features with larger values will have coefficients that are penalised more heavily. Therefore, it is standard practice to standardise or normalise the features before applying ridge regression."
   ]
  },
  {
   "cell_type": "markdown",
   "id": "02a17a19",
   "metadata": {},
   "source": [
    "``` Choosing Alpha```  \n",
    "The hyperparameter that needs to be selected based on the data.  \n",
    "The most common method is cross-validation and then choose the alpha that yields the best average performance.  \n",
    "In sklearn, Leave-One-Out Cross-Validation (LOOCV) can be used for setting regularisation parameter.  \n",
    "\n",
    "**What is LOOCV?**  \n",
    "For a dataset with N samples, LOOCV performs N iterations of training/validation.  \n",
    "In each iteration, it uses one sample as the validation set and the remaining N-1 samples as the training set.  \n",
    "For Ridge model, there is a computationally efficient formula to calculate the LOOCV error which is why RidgeCV uses it by default.\n",
    "\n",
    "**Candidate Values for Aplha**  \n",
    "1. Logarithmic Spacing: np.logscape(-6, 6, 13) which generates 13 numbers evenly spaced on a log scale between $10^{-6}$ and $10^6$.  \n",
    "2. Common Range:  \n",
    "    i. wide exploration: $10^{-6}$ to $10^6$.  \n",
    "    ii. more typical ranges: $10^{-4}$ to $10^4$ and $10^{-3}$ to $10^3$  \n",
    "    iii. fine-tuning: $0.1$ to $1$"
   ]
  },
  {
   "cell_type": "code",
   "execution_count": 12,
   "id": "0dd157af",
   "metadata": {},
   "outputs": [
    {
     "name": "stdout",
     "output_type": "stream",
     "text": [
      "[0.47146402 0.47146402]\n",
      "0.05235732009928473\n",
      "0.01\n",
      "[0.52382134]\n",
      "0.9917032828324677\n"
     ]
    }
   ],
   "source": [
    "import numpy as np\n",
    "reg = linear_model.RidgeCV(alphas=np.logspace(-6, 6, 13))\n",
    "reg.fit([[0, 0], [0, 0], [1, 1]], [0, .1, 1])\n",
    "print(reg.coef_)\n",
    "print(reg.intercept_)\n",
    "print(reg.alpha_)\n",
    "print(reg.predict([[1, 0]]))\n",
    "print(reg.score([[0, 0], [0, 0], [1, 1]], [0, .1, 1]))"
   ]
  },
  {
   "cell_type": "markdown",
   "id": "56766e95",
   "metadata": {},
   "source": [
    "## 1.3 Lasso Regression"
   ]
  },
  {
   "cell_type": "markdown",
   "id": "6d15edb2",
   "metadata": {},
   "source": [
    "Lasso (Least Absolute Shrinkage and Selection Operator) Regression is a type of regularised linear regression technique. Its main goals are to prevent model overfitting, similar to Ridge regression, but also, distinctively, to perform feature selection."
   ]
  },
  {
   "cell_type": "markdown",
   "id": "cc878d3f",
   "metadata": {},
   "source": [
    "```Core Idea```  \n",
    "Lasso Regression modifies the OLS objective function by adding penalty term based on the L1 norm of the coefficient vector.   \n",
    "This can be denoted as follows.  \n",
    "$$\\min_\\beta \\left\\{ \\sum^n_{i=1} (y_i-\\beta_0-\\sum_{j=1}^\\beta x_{ij}\\beta_j)^2+\\lambda \\sum^p_{j=1} |\\beta_j|\\right\\}$$\n",
    "\n",
    "For a vector $x = (x_1, x_2, x_3,\\dots ,x_n)$ is an n-domensional space, the L1 norm, denoted as ||x||_1, is defined as \n",
    "$$||X||_1 = \\sum^{n}_{i=1} |x_i|=|x_1| + |x_2| + \\dots + |x_n|$$\n",
    "L1 Norm: the sum of the absolute values of the components of the vector, also called <u>Manhattan Norm</u> or <u>Taxicab Norm</u>."
   ]
  },
  {
   "cell_type": "code",
   "execution_count": null,
   "id": "5d60024c",
   "metadata": {},
   "outputs": [],
   "source": []
  }
 ],
 "metadata": {
  "kernelspec": {
   "display_name": "Python 3",
   "language": "python",
   "name": "python3"
  },
  "language_info": {
   "codemirror_mode": {
    "name": "ipython",
    "version": 3
   },
   "file_extension": ".py",
   "mimetype": "text/x-python",
   "name": "python",
   "nbconvert_exporter": "python",
   "pygments_lexer": "ipython3",
   "version": "3.13.2"
  }
 },
 "nbformat": 4,
 "nbformat_minor": 5
}
