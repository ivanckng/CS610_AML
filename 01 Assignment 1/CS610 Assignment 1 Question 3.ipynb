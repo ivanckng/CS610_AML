{
 "cells": [
  {
   "cell_type": "markdown",
   "id": "dYZK2gAYZyYH",
   "metadata": {
    "id": "dYZK2gAYZyYH"
   },
   "source": [
    "### Import Libraries"
   ]
  },
  {
   "cell_type": "code",
   "execution_count": 1,
   "id": "GDofr7h3KLFe",
   "metadata": {
    "colab": {
     "base_uri": "https://localhost:8080/"
    },
    "executionInfo": {
     "elapsed": 22969,
     "status": "ok",
     "timestamp": 1747138517604,
     "user": {
      "displayName": "Ivan Ng",
      "userId": "04611729327448256593"
     },
     "user_tz": -480
    },
    "id": "GDofr7h3KLFe",
    "outputId": "c68b95ad-4ebd-4011-b85a-15ac7737fda2"
   },
   "outputs": [
    {
     "name": "stdout",
     "output_type": "stream",
     "text": [
      "Mounted at /content/drive\n"
     ]
    }
   ],
   "source": [
    "from google.colab import drive\n",
    "drive.mount('/content/drive')"
   ]
  },
  {
   "cell_type": "code",
   "execution_count": 2,
   "id": "5d34b76e",
   "metadata": {
    "colab": {
     "base_uri": "https://localhost:8080/"
    },
    "executionInfo": {
     "elapsed": 4722,
     "status": "ok",
     "timestamp": 1747053858280,
     "user": {
      "displayName": "Ivan Ng",
      "userId": "04611729327448256593"
     },
     "user_tz": -480
    },
    "id": "5d34b76e",
    "outputId": "5e57d43c-57ad-4610-ab6c-5be37b824059"
   },
   "outputs": [
    {
     "name": "stdout",
     "output_type": "stream",
     "text": [
      "Requirement already satisfied: xgboost in c:\\users\\ivanj\\appdata\\local\\programs\\python\\python313\\lib\\site-packages (3.0.0)\n",
      "Requirement already satisfied: numpy in c:\\users\\ivanj\\appdata\\local\\programs\\python\\python313\\lib\\site-packages (from xgboost) (2.2.5)\n",
      "Requirement already satisfied: scipy in c:\\users\\ivanj\\appdata\\local\\programs\\python\\python313\\lib\\site-packages (from xgboost) (1.15.2)\n",
      "Collecting lightgbm\n",
      "  Using cached lightgbm-4.6.0-py3-none-win_amd64.whl.metadata (17 kB)\n",
      "Requirement already satisfied: numpy>=1.17.0 in c:\\users\\ivanj\\appdata\\local\\programs\\python\\python313\\lib\\site-packages (from lightgbm) (2.2.5)\n",
      "Requirement already satisfied: scipy in c:\\users\\ivanj\\appdata\\local\\programs\\python\\python313\\lib\\site-packages (from lightgbm) (1.15.2)\n",
      "Using cached lightgbm-4.6.0-py3-none-win_amd64.whl (1.5 MB)\n",
      "Installing collected packages: lightgbm\n",
      "Successfully installed lightgbm-4.6.0\n"
     ]
    }
   ],
   "source": [
    "!pip install xgboost\n",
    "!pip install lightgbm"
   ]
  },
  {
   "cell_type": "code",
   "execution_count": 3,
   "id": "927df0a1",
   "metadata": {
    "executionInfo": {
     "elapsed": 2,
     "status": "ok",
     "timestamp": 1747142402838,
     "user": {
      "displayName": "Ivan Ng",
      "userId": "04611729327448256593"
     },
     "user_tz": -480
    },
    "id": "927df0a1"
   },
   "outputs": [],
   "source": [
    "import pandas as pd\n",
    "from sklearn import linear_model, metrics, preprocessing, tree, model_selection, feature_selection, ensemble\n",
    "import numpy as np\n",
    "import matplotlib.pyplot as plt\n",
    "import xgboost as xgb\n",
    "from collections import Counter\n",
    "import lightgbm as lgb\n",
    "\n",
    "import nltk\n",
    "import string\n",
    "import re\n",
    "from nltk.corpus import stopwords\n",
    "from nltk.stem import WordNetLemmatizer\n",
    "from nltk.sentiment.vader import SentimentIntensityAnalyzer"
   ]
  },
  {
   "cell_type": "code",
   "execution_count": 4,
   "id": "lufeWrpQWFT5",
   "metadata": {
    "executionInfo": {
     "elapsed": 23,
     "status": "ok",
     "timestamp": 1747142403580,
     "user": {
      "displayName": "Ivan Ng",
      "userId": "04611729327448256593"
     },
     "user_tz": -480
    },
    "id": "lufeWrpQWFT5"
   },
   "outputs": [
    {
     "name": "stderr",
     "output_type": "stream",
     "text": [
      "[nltk_data] Downloading package stopwords to\n",
      "[nltk_data]     C:\\Users\\ivanj\\AppData\\Roaming\\nltk_data...\n",
      "[nltk_data]   Unzipping corpora\\stopwords.zip.\n",
      "[nltk_data] Downloading package wordnet to\n",
      "[nltk_data]     C:\\Users\\ivanj\\AppData\\Roaming\\nltk_data...\n",
      "[nltk_data] Downloading package omw-1.4 to\n",
      "[nltk_data]     C:\\Users\\ivanj\\AppData\\Roaming\\nltk_data...\n",
      "[nltk_data] Downloading package vader_lexicon to\n",
      "[nltk_data]     C:\\Users\\ivanj\\AppData\\Roaming\\nltk_data...\n"
     ]
    }
   ],
   "source": [
    "try:\n",
    "    stopwords.words('english')\n",
    "except LookupError:\n",
    "    nltk.download('stopwords')\n",
    "try:\n",
    "    WordNetLemmatizer().lemmatize('cats')\n",
    "except LookupError:\n",
    "    nltk.download('wordnet')\n",
    "    nltk.download('omw-1.4')\n",
    "try:\n",
    "    SentimentIntensityAnalyzer().polarity_scores(\"hello\")\n",
    "except LookupError:\n",
    "    nltk.download('vader_lexicon')"
   ]
  },
  {
   "cell_type": "markdown",
   "id": "03f4fe43",
   "metadata": {
    "id": "03f4fe43"
   },
   "source": [
    "### Loading training and tesing data"
   ]
  },
  {
   "cell_type": "code",
   "execution_count": 5,
   "id": "c48ee560",
   "metadata": {
    "executionInfo": {
     "elapsed": 256,
     "status": "ok",
     "timestamp": 1747142406909,
     "user": {
      "displayName": "Ivan Ng",
      "userId": "04611729327448256593"
     },
     "user_tz": -480
    },
    "id": "c48ee560"
   },
   "outputs": [],
   "source": [
    "# train_set = pd.read_csv('/content/drive/MyDrive/10 Github/CS610_AML/01 Assignment 1/train.csv')\n",
    "# test_set = pd.read_csv('/content/drive/MyDrive/10 Github/CS610_AML/01 Assignment 1/test.csv')\n",
    "\n",
    "train_set = pd.read_csv('train.csv')\n",
    "test_set = pd.read_csv('test.csv')"
   ]
  },
  {
   "cell_type": "markdown",
   "id": "56bb3053",
   "metadata": {
    "id": "56bb3053"
   },
   "source": [
    "### Data Processing & EDA"
   ]
  },
  {
   "cell_type": "code",
   "execution_count": 6,
   "id": "a489fa8b",
   "metadata": {
    "executionInfo": {
     "elapsed": 2,
     "status": "ok",
     "timestamp": 1747142407322,
     "user": {
      "displayName": "Ivan Ng",
      "userId": "04611729327448256593"
     },
     "user_tz": -480
    },
    "id": "a489fa8b"
   },
   "outputs": [],
   "source": [
    "train_set.head()\n",
    "orgin_instrances = train_set.shape[0]"
   ]
  },
  {
   "cell_type": "code",
   "execution_count": 7,
   "id": "5IK0uz7KlIJp",
   "metadata": {
    "colab": {
     "base_uri": "https://localhost:8080/",
     "height": 300
    },
    "executionInfo": {
     "elapsed": 52,
     "status": "ok",
     "timestamp": 1747142408044,
     "user": {
      "displayName": "Ivan Ng",
      "userId": "04611729327448256593"
     },
     "user_tz": -480
    },
    "id": "5IK0uz7KlIJp",
    "outputId": "786ae479-fef1-4aa2-e2a8-73816957c8ed"
   },
   "outputs": [
    {
     "data": {
      "text/html": [
       "<div>\n",
       "<style scoped>\n",
       "    .dataframe tbody tr th:only-of-type {\n",
       "        vertical-align: middle;\n",
       "    }\n",
       "\n",
       "    .dataframe tbody tr th {\n",
       "        vertical-align: top;\n",
       "    }\n",
       "\n",
       "    .dataframe thead th {\n",
       "        text-align: right;\n",
       "    }\n",
       "</style>\n",
       "<table border=\"1\" class=\"dataframe\">\n",
       "  <thead>\n",
       "    <tr style=\"text-align: right;\">\n",
       "      <th></th>\n",
       "      <th>favourites_count</th>\n",
       "      <th>followers_count</th>\n",
       "      <th>friends_count</th>\n",
       "      <th>id</th>\n",
       "      <th>statuses_count</th>\n",
       "      <th>average_tweets_per_day</th>\n",
       "      <th>account_age_days</th>\n",
       "      <th>target</th>\n",
       "    </tr>\n",
       "  </thead>\n",
       "  <tbody>\n",
       "    <tr>\n",
       "      <th>count</th>\n",
       "      <td>26206.000000</td>\n",
       "      <td>2.620600e+04</td>\n",
       "      <td>2.620600e+04</td>\n",
       "      <td>2.620600e+04</td>\n",
       "      <td>2.620600e+04</td>\n",
       "      <td>26206.000000</td>\n",
       "      <td>26206.000000</td>\n",
       "      <td>26206.000000</td>\n",
       "    </tr>\n",
       "    <tr>\n",
       "      <th>mean</th>\n",
       "      <td>12159.971342</td>\n",
       "      <td>3.732983e+05</td>\n",
       "      <td>4.427275e+03</td>\n",
       "      <td>1.253306e+17</td>\n",
       "      <td>2.072485e+04</td>\n",
       "      <td>6.754636</td>\n",
       "      <td>3017.870831</td>\n",
       "      <td>0.335152</td>\n",
       "    </tr>\n",
       "    <tr>\n",
       "      <th>std</th>\n",
       "      <td>33628.948536</td>\n",
       "      <td>2.515996e+06</td>\n",
       "      <td>4.602204e+04</td>\n",
       "      <td>3.035728e+17</td>\n",
       "      <td>6.345569e+04</td>\n",
       "      <td>22.782745</td>\n",
       "      <td>1018.958572</td>\n",
       "      <td>0.472053</td>\n",
       "    </tr>\n",
       "    <tr>\n",
       "      <th>min</th>\n",
       "      <td>0.000000</td>\n",
       "      <td>0.000000e+00</td>\n",
       "      <td>0.000000e+00</td>\n",
       "      <td>5.860000e+02</td>\n",
       "      <td>0.000000e+00</td>\n",
       "      <td>0.000000</td>\n",
       "      <td>483.000000</td>\n",
       "      <td>0.000000</td>\n",
       "    </tr>\n",
       "    <tr>\n",
       "      <th>25%</th>\n",
       "      <td>347.000000</td>\n",
       "      <td>3.400000e+01</td>\n",
       "      <td>3.400000e+01</td>\n",
       "      <td>9.799366e+07</td>\n",
       "      <td>1.331000e+03</td>\n",
       "      <td>0.486250</td>\n",
       "      <td>2302.000000</td>\n",
       "      <td>0.000000</td>\n",
       "    </tr>\n",
       "    <tr>\n",
       "      <th>50%</th>\n",
       "      <td>2037.000000</td>\n",
       "      <td>3.540000e+02</td>\n",
       "      <td>2.920000e+02</td>\n",
       "      <td>3.997210e+08</td>\n",
       "      <td>4.143500e+03</td>\n",
       "      <td>1.464000</td>\n",
       "      <td>3218.000000</td>\n",
       "      <td>0.000000</td>\n",
       "    </tr>\n",
       "    <tr>\n",
       "      <th>75%</th>\n",
       "      <td>8751.750000</td>\n",
       "      <td>8.241500e+03</td>\n",
       "      <td>8.780000e+02</td>\n",
       "      <td>2.480241e+09</td>\n",
       "      <td>1.679150e+04</td>\n",
       "      <td>5.460000</td>\n",
       "      <td>3895.000000</td>\n",
       "      <td>1.000000</td>\n",
       "    </tr>\n",
       "    <tr>\n",
       "      <th>max</th>\n",
       "      <td>839929.000000</td>\n",
       "      <td>1.216415e+08</td>\n",
       "      <td>1.641962e+06</td>\n",
       "      <td>1.120974e+18</td>\n",
       "      <td>2.771910e+06</td>\n",
       "      <td>1191.286000</td>\n",
       "      <td>5151.000000</td>\n",
       "      <td>1.000000</td>\n",
       "    </tr>\n",
       "  </tbody>\n",
       "</table>\n",
       "</div>"
      ],
      "text/plain": [
       "       favourites_count  followers_count  friends_count            id  \\\n",
       "count      26206.000000     2.620600e+04   2.620600e+04  2.620600e+04   \n",
       "mean       12159.971342     3.732983e+05   4.427275e+03  1.253306e+17   \n",
       "std        33628.948536     2.515996e+06   4.602204e+04  3.035728e+17   \n",
       "min            0.000000     0.000000e+00   0.000000e+00  5.860000e+02   \n",
       "25%          347.000000     3.400000e+01   3.400000e+01  9.799366e+07   \n",
       "50%         2037.000000     3.540000e+02   2.920000e+02  3.997210e+08   \n",
       "75%         8751.750000     8.241500e+03   8.780000e+02  2.480241e+09   \n",
       "max       839929.000000     1.216415e+08   1.641962e+06  1.120974e+18   \n",
       "\n",
       "       statuses_count  average_tweets_per_day  account_age_days        target  \n",
       "count    2.620600e+04            26206.000000      26206.000000  26206.000000  \n",
       "mean     2.072485e+04                6.754636       3017.870831      0.335152  \n",
       "std      6.345569e+04               22.782745       1018.958572      0.472053  \n",
       "min      0.000000e+00                0.000000        483.000000      0.000000  \n",
       "25%      1.331000e+03                0.486250       2302.000000      0.000000  \n",
       "50%      4.143500e+03                1.464000       3218.000000      0.000000  \n",
       "75%      1.679150e+04                5.460000       3895.000000      1.000000  \n",
       "max      2.771910e+06             1191.286000       5151.000000      1.000000  "
      ]
     },
     "execution_count": 7,
     "metadata": {},
     "output_type": "execute_result"
    }
   ],
   "source": [
    "train_set.describe()"
   ]
  },
  {
   "cell_type": "code",
   "execution_count": 8,
   "id": "4OUpaNEJncmb",
   "metadata": {
    "colab": {
     "base_uri": "https://localhost:8080/",
     "height": 300
    },
    "executionInfo": {
     "elapsed": 35,
     "status": "ok",
     "timestamp": 1747100102798,
     "user": {
      "displayName": "Ivan Ng",
      "userId": "04611729327448256593"
     },
     "user_tz": -480
    },
    "id": "4OUpaNEJncmb",
    "outputId": "6d1197dc-2387-4eea-d16f-8c86f1135863"
   },
   "outputs": [
    {
     "data": {
      "text/html": [
       "<div>\n",
       "<style scoped>\n",
       "    .dataframe tbody tr th:only-of-type {\n",
       "        vertical-align: middle;\n",
       "    }\n",
       "\n",
       "    .dataframe tbody tr th {\n",
       "        vertical-align: top;\n",
       "    }\n",
       "\n",
       "    .dataframe thead th {\n",
       "        text-align: right;\n",
       "    }\n",
       "</style>\n",
       "<table border=\"1\" class=\"dataframe\">\n",
       "  <thead>\n",
       "    <tr style=\"text-align: right;\">\n",
       "      <th></th>\n",
       "      <th>favourites_count</th>\n",
       "      <th>followers_count</th>\n",
       "      <th>friends_count</th>\n",
       "      <th>id</th>\n",
       "      <th>statuses_count</th>\n",
       "      <th>average_tweets_per_day</th>\n",
       "      <th>account_age_days</th>\n",
       "      <th>target</th>\n",
       "    </tr>\n",
       "  </thead>\n",
       "  <tbody>\n",
       "    <tr>\n",
       "      <th>count</th>\n",
       "      <td>26206.000000</td>\n",
       "      <td>2.620600e+04</td>\n",
       "      <td>2.620600e+04</td>\n",
       "      <td>2.620600e+04</td>\n",
       "      <td>2.620600e+04</td>\n",
       "      <td>26206.000000</td>\n",
       "      <td>26206.000000</td>\n",
       "      <td>26206.000000</td>\n",
       "    </tr>\n",
       "    <tr>\n",
       "      <th>mean</th>\n",
       "      <td>12159.971342</td>\n",
       "      <td>3.732983e+05</td>\n",
       "      <td>4.427275e+03</td>\n",
       "      <td>1.253306e+17</td>\n",
       "      <td>2.072485e+04</td>\n",
       "      <td>6.754636</td>\n",
       "      <td>3017.870831</td>\n",
       "      <td>0.335152</td>\n",
       "    </tr>\n",
       "    <tr>\n",
       "      <th>std</th>\n",
       "      <td>33628.948536</td>\n",
       "      <td>2.515996e+06</td>\n",
       "      <td>4.602204e+04</td>\n",
       "      <td>3.035728e+17</td>\n",
       "      <td>6.345569e+04</td>\n",
       "      <td>22.782745</td>\n",
       "      <td>1018.958572</td>\n",
       "      <td>0.472053</td>\n",
       "    </tr>\n",
       "    <tr>\n",
       "      <th>min</th>\n",
       "      <td>0.000000</td>\n",
       "      <td>0.000000e+00</td>\n",
       "      <td>0.000000e+00</td>\n",
       "      <td>5.860000e+02</td>\n",
       "      <td>0.000000e+00</td>\n",
       "      <td>0.000000</td>\n",
       "      <td>483.000000</td>\n",
       "      <td>0.000000</td>\n",
       "    </tr>\n",
       "    <tr>\n",
       "      <th>25%</th>\n",
       "      <td>347.000000</td>\n",
       "      <td>3.400000e+01</td>\n",
       "      <td>3.400000e+01</td>\n",
       "      <td>9.799366e+07</td>\n",
       "      <td>1.331000e+03</td>\n",
       "      <td>0.486250</td>\n",
       "      <td>2302.000000</td>\n",
       "      <td>0.000000</td>\n",
       "    </tr>\n",
       "    <tr>\n",
       "      <th>50%</th>\n",
       "      <td>2037.000000</td>\n",
       "      <td>3.540000e+02</td>\n",
       "      <td>2.920000e+02</td>\n",
       "      <td>3.997210e+08</td>\n",
       "      <td>4.143500e+03</td>\n",
       "      <td>1.464000</td>\n",
       "      <td>3218.000000</td>\n",
       "      <td>0.000000</td>\n",
       "    </tr>\n",
       "    <tr>\n",
       "      <th>75%</th>\n",
       "      <td>8751.750000</td>\n",
       "      <td>8.241500e+03</td>\n",
       "      <td>8.780000e+02</td>\n",
       "      <td>2.480241e+09</td>\n",
       "      <td>1.679150e+04</td>\n",
       "      <td>5.460000</td>\n",
       "      <td>3895.000000</td>\n",
       "      <td>1.000000</td>\n",
       "    </tr>\n",
       "    <tr>\n",
       "      <th>max</th>\n",
       "      <td>839929.000000</td>\n",
       "      <td>1.216415e+08</td>\n",
       "      <td>1.641962e+06</td>\n",
       "      <td>1.120974e+18</td>\n",
       "      <td>2.771910e+06</td>\n",
       "      <td>1191.286000</td>\n",
       "      <td>5151.000000</td>\n",
       "      <td>1.000000</td>\n",
       "    </tr>\n",
       "  </tbody>\n",
       "</table>\n",
       "</div>"
      ],
      "text/plain": [
       "       favourites_count  followers_count  friends_count            id  \\\n",
       "count      26206.000000     2.620600e+04   2.620600e+04  2.620600e+04   \n",
       "mean       12159.971342     3.732983e+05   4.427275e+03  1.253306e+17   \n",
       "std        33628.948536     2.515996e+06   4.602204e+04  3.035728e+17   \n",
       "min            0.000000     0.000000e+00   0.000000e+00  5.860000e+02   \n",
       "25%          347.000000     3.400000e+01   3.400000e+01  9.799366e+07   \n",
       "50%         2037.000000     3.540000e+02   2.920000e+02  3.997210e+08   \n",
       "75%         8751.750000     8.241500e+03   8.780000e+02  2.480241e+09   \n",
       "max       839929.000000     1.216415e+08   1.641962e+06  1.120974e+18   \n",
       "\n",
       "       statuses_count  average_tweets_per_day  account_age_days        target  \n",
       "count    2.620600e+04            26206.000000      26206.000000  26206.000000  \n",
       "mean     2.072485e+04                6.754636       3017.870831      0.335152  \n",
       "std      6.345569e+04               22.782745       1018.958572      0.472053  \n",
       "min      0.000000e+00                0.000000        483.000000      0.000000  \n",
       "25%      1.331000e+03                0.486250       2302.000000      0.000000  \n",
       "50%      4.143500e+03                1.464000       3218.000000      0.000000  \n",
       "75%      1.679150e+04                5.460000       3895.000000      1.000000  \n",
       "max      2.771910e+06             1191.286000       5151.000000      1.000000  "
      ]
     },
     "execution_count": 8,
     "metadata": {},
     "output_type": "execute_result"
    }
   ],
   "source": [
    "train_set.describe()"
   ]
  },
  {
   "cell_type": "code",
   "execution_count": 9,
   "id": "1c462137",
   "metadata": {},
   "outputs": [
    {
     "data": {
      "text/html": [
       "<div>\n",
       "<style scoped>\n",
       "    .dataframe tbody tr th:only-of-type {\n",
       "        vertical-align: middle;\n",
       "    }\n",
       "\n",
       "    .dataframe tbody tr th {\n",
       "        vertical-align: top;\n",
       "    }\n",
       "\n",
       "    .dataframe thead th {\n",
       "        text-align: right;\n",
       "    }\n",
       "</style>\n",
       "<table border=\"1\" class=\"dataframe\">\n",
       "  <thead>\n",
       "    <tr style=\"text-align: right;\">\n",
       "      <th></th>\n",
       "      <th>index</th>\n",
       "      <th>favourites_count</th>\n",
       "      <th>followers_count</th>\n",
       "      <th>friends_count</th>\n",
       "      <th>id</th>\n",
       "      <th>statuses_count</th>\n",
       "      <th>average_tweets_per_day</th>\n",
       "      <th>account_age_days</th>\n",
       "    </tr>\n",
       "  </thead>\n",
       "  <tbody>\n",
       "    <tr>\n",
       "      <th>count</th>\n",
       "      <td>11232.000000</td>\n",
       "      <td>11232.000000</td>\n",
       "      <td>1.123200e+04</td>\n",
       "      <td>1.123200e+04</td>\n",
       "      <td>1.123200e+04</td>\n",
       "      <td>1.123200e+04</td>\n",
       "      <td>11232.000000</td>\n",
       "      <td>11232.000000</td>\n",
       "    </tr>\n",
       "    <tr>\n",
       "      <th>mean</th>\n",
       "      <td>5615.500000</td>\n",
       "      <td>12633.582176</td>\n",
       "      <td>3.633372e+05</td>\n",
       "      <td>4.489438e+03</td>\n",
       "      <td>1.147413e+17</td>\n",
       "      <td>2.188658e+04</td>\n",
       "      <td>7.211383</td>\n",
       "      <td>3032.060808</td>\n",
       "    </tr>\n",
       "    <tr>\n",
       "      <th>std</th>\n",
       "      <td>3242.543446</td>\n",
       "      <td>34600.722428</td>\n",
       "      <td>2.362189e+06</td>\n",
       "      <td>5.692586e+04</td>\n",
       "      <td>2.928501e+17</td>\n",
       "      <td>7.559739e+04</td>\n",
       "      <td>28.332281</td>\n",
       "      <td>1001.284291</td>\n",
       "    </tr>\n",
       "    <tr>\n",
       "      <th>min</th>\n",
       "      <td>0.000000</td>\n",
       "      <td>0.000000</td>\n",
       "      <td>0.000000e+00</td>\n",
       "      <td>0.000000e+00</td>\n",
       "      <td>4.180000e+02</td>\n",
       "      <td>0.000000e+00</td>\n",
       "      <td>0.000000</td>\n",
       "      <td>500.000000</td>\n",
       "    </tr>\n",
       "    <tr>\n",
       "      <th>25%</th>\n",
       "      <td>2807.750000</td>\n",
       "      <td>397.000000</td>\n",
       "      <td>3.700000e+01</td>\n",
       "      <td>4.375000e+01</td>\n",
       "      <td>1.019660e+08</td>\n",
       "      <td>1.422750e+03</td>\n",
       "      <td>0.511750</td>\n",
       "      <td>2345.000000</td>\n",
       "    </tr>\n",
       "    <tr>\n",
       "      <th>50%</th>\n",
       "      <td>5615.500000</td>\n",
       "      <td>2132.000000</td>\n",
       "      <td>3.900000e+02</td>\n",
       "      <td>3.060000e+02</td>\n",
       "      <td>3.969268e+08</td>\n",
       "      <td>4.392500e+03</td>\n",
       "      <td>1.553000</td>\n",
       "      <td>3222.000000</td>\n",
       "    </tr>\n",
       "    <tr>\n",
       "      <th>75%</th>\n",
       "      <td>8423.250000</td>\n",
       "      <td>9221.250000</td>\n",
       "      <td>8.979500e+03</td>\n",
       "      <td>9.232500e+02</td>\n",
       "      <td>2.403527e+09</td>\n",
       "      <td>1.800525e+04</td>\n",
       "      <td>5.676750</td>\n",
       "      <td>3879.000000</td>\n",
       "    </tr>\n",
       "    <tr>\n",
       "      <th>max</th>\n",
       "      <td>11231.000000</td>\n",
       "      <td>885123.000000</td>\n",
       "      <td>1.084423e+08</td>\n",
       "      <td>4.343060e+06</td>\n",
       "      <td>1.114681e+18</td>\n",
       "      <td>2.497571e+06</td>\n",
       "      <td>1269.055000</td>\n",
       "      <td>5158.000000</td>\n",
       "    </tr>\n",
       "  </tbody>\n",
       "</table>\n",
       "</div>"
      ],
      "text/plain": [
       "              index  favourites_count  followers_count  friends_count  \\\n",
       "count  11232.000000      11232.000000     1.123200e+04   1.123200e+04   \n",
       "mean    5615.500000      12633.582176     3.633372e+05   4.489438e+03   \n",
       "std     3242.543446      34600.722428     2.362189e+06   5.692586e+04   \n",
       "min        0.000000          0.000000     0.000000e+00   0.000000e+00   \n",
       "25%     2807.750000        397.000000     3.700000e+01   4.375000e+01   \n",
       "50%     5615.500000       2132.000000     3.900000e+02   3.060000e+02   \n",
       "75%     8423.250000       9221.250000     8.979500e+03   9.232500e+02   \n",
       "max    11231.000000     885123.000000     1.084423e+08   4.343060e+06   \n",
       "\n",
       "                 id  statuses_count  average_tweets_per_day  account_age_days  \n",
       "count  1.123200e+04    1.123200e+04            11232.000000      11232.000000  \n",
       "mean   1.147413e+17    2.188658e+04                7.211383       3032.060808  \n",
       "std    2.928501e+17    7.559739e+04               28.332281       1001.284291  \n",
       "min    4.180000e+02    0.000000e+00                0.000000        500.000000  \n",
       "25%    1.019660e+08    1.422750e+03                0.511750       2345.000000  \n",
       "50%    3.969268e+08    4.392500e+03                1.553000       3222.000000  \n",
       "75%    2.403527e+09    1.800525e+04                5.676750       3879.000000  \n",
       "max    1.114681e+18    2.497571e+06             1269.055000       5158.000000  "
      ]
     },
     "execution_count": 9,
     "metadata": {},
     "output_type": "execute_result"
    }
   ],
   "source": [
    "test_set.describe()"
   ]
  },
  {
   "cell_type": "code",
   "execution_count": 11,
   "id": "fa2ed237",
   "metadata": {
    "colab": {
     "base_uri": "https://localhost:8080/"
    },
    "executionInfo": {
     "elapsed": 28,
     "status": "ok",
     "timestamp": 1747142415297,
     "user": {
      "displayName": "Ivan Ng",
      "userId": "04611729327448256593"
     },
     "user_tz": -480
    },
    "id": "fa2ed237",
    "outputId": "c7dfde2f-b3da-46a3-c913-4f7885f305d0"
   },
   "outputs": [
    {
     "name": "stdout",
     "output_type": "stream",
     "text": [
      "Size of Training Instances: 26206\n",
      "Sice of Features: 19\n",
      "<class 'pandas.core.frame.DataFrame'>\n",
      "RangeIndex: 26206 entries, 0 to 26205\n",
      "Data columns (total 19 columns):\n",
      " #   Column                        Non-Null Count  Dtype  \n",
      "---  ------                        --------------  -----  \n",
      " 0   created_at                    26206 non-null  object \n",
      " 1   default_profile               26206 non-null  bool   \n",
      " 2   default_profile_image         26206 non-null  bool   \n",
      " 3   description                   21115 non-null  object \n",
      " 4   favourites_count              26206 non-null  int64  \n",
      " 5   followers_count               26206 non-null  int64  \n",
      " 6   friends_count                 26206 non-null  int64  \n",
      " 7   geo_enabled                   26206 non-null  bool   \n",
      " 8   id                            26206 non-null  int64  \n",
      " 9   lang                          20618 non-null  object \n",
      " 10  location                      26204 non-null  object \n",
      " 11  profile_background_image_url  22971 non-null  object \n",
      " 12  profile_image_url             26205 non-null  object \n",
      " 13  screen_name                   26206 non-null  object \n",
      " 14  statuses_count                26206 non-null  int64  \n",
      " 15  verified                      26206 non-null  bool   \n",
      " 16  average_tweets_per_day        26206 non-null  float64\n",
      " 17  account_age_days              26206 non-null  int64  \n",
      " 18  target                        26206 non-null  int64  \n",
      "dtypes: bool(4), float64(1), int64(7), object(7)\n",
      "memory usage: 3.1+ MB\n",
      "None\n"
     ]
    }
   ],
   "source": [
    "print(\"Size of Training Instances:\", train_set.shape[0])\n",
    "print(\"Sice of Features:\", train_set.shape[1])\n",
    "print(train_set.info())"
   ]
  },
  {
   "cell_type": "code",
   "execution_count": 12,
   "id": "2b349d0c",
   "metadata": {},
   "outputs": [
    {
     "name": "stdout",
     "output_type": "stream",
     "text": [
      "Size of Testing Instances: 11232\n",
      "Sice of Features: 19\n",
      "<class 'pandas.core.frame.DataFrame'>\n",
      "RangeIndex: 11232 entries, 0 to 11231\n",
      "Data columns (total 19 columns):\n",
      " #   Column                        Non-Null Count  Dtype  \n",
      "---  ------                        --------------  -----  \n",
      " 0   index                         11232 non-null  int64  \n",
      " 1   created_at                    11232 non-null  object \n",
      " 2   default_profile               11232 non-null  bool   \n",
      " 3   default_profile_image         11232 non-null  bool   \n",
      " 4   description                   9066 non-null   object \n",
      " 5   favourites_count              11232 non-null  int64  \n",
      " 6   followers_count               11232 non-null  int64  \n",
      " 7   friends_count                 11232 non-null  int64  \n",
      " 8   geo_enabled                   11232 non-null  bool   \n",
      " 9   id                            11232 non-null  int64  \n",
      " 10  lang                          8863 non-null   object \n",
      " 11  location                      11230 non-null  object \n",
      " 12  profile_background_image_url  9968 non-null   object \n",
      " 13  profile_image_url             11232 non-null  object \n",
      " 14  screen_name                   11232 non-null  object \n",
      " 15  statuses_count                11232 non-null  int64  \n",
      " 16  verified                      11232 non-null  bool   \n",
      " 17  average_tweets_per_day        11232 non-null  float64\n",
      " 18  account_age_days              11232 non-null  int64  \n",
      "dtypes: bool(4), float64(1), int64(7), object(7)\n",
      "memory usage: 1.3+ MB\n",
      "None\n"
     ]
    }
   ],
   "source": [
    "print(\"Size of Testing Instances:\", test_set.shape[0])\n",
    "print(\"Sice of Features:\", test_set.shape[1])\n",
    "print(test_set.info())"
   ]
  },
  {
   "cell_type": "code",
   "execution_count": 13,
   "id": "72e227c5",
   "metadata": {
    "executionInfo": {
     "elapsed": 28,
     "status": "ok",
     "timestamp": 1747142417469,
     "user": {
      "displayName": "Ivan Ng",
      "userId": "04611729327448256593"
     },
     "user_tz": -480
    },
    "id": "72e227c5"
   },
   "outputs": [],
   "source": [
    "train_set.drop(columns=['created_at','id', 'profile_background_image_url', 'profile_image_url', 'screen_name', 'location'], inplace=True)\n",
    "test_set.drop(columns=['created_at','id', 'profile_background_image_url', 'profile_image_url', 'screen_name', 'location'], inplace=True)"
   ]
  },
  {
   "cell_type": "code",
   "execution_count": 17,
   "id": "f610113a",
   "metadata": {
    "executionInfo": {
     "elapsed": 157,
     "status": "ok",
     "timestamp": 1747142418112,
     "user": {
      "displayName": "Ivan Ng",
      "userId": "04611729327448256593"
     },
     "user_tz": -480
    },
    "id": "f610113a"
   },
   "outputs": [],
   "source": [
    "train_set['lang'] = train_set['lang'].fillna('unknown')\n",
    "test_set['lang'] = test_set['lang'].fillna('unknown')\n",
    "train_set['lang'] = train_set['lang'].astype('category')\n",
    "test_set['lang'] = test_set['lang'].astype('category')"
   ]
  },
  {
   "cell_type": "code",
   "execution_count": 15,
   "id": "bae903ae",
   "metadata": {
    "executionInfo": {
     "elapsed": 7,
     "status": "ok",
     "timestamp": 1747142418410,
     "user": {
      "displayName": "Ivan Ng",
      "userId": "04611729327448256593"
     },
     "user_tz": -480
    },
    "id": "bae903ae"
   },
   "outputs": [],
   "source": [
    "train_set['default_profile'] = train_set['default_profile'].astype(int)\n",
    "train_set['default_profile_image'] = train_set['default_profile_image'].astype(int)\n",
    "train_set['geo_enabled'] = train_set['geo_enabled'].astype(int)\n",
    "train_set['verified'] = train_set['verified'].astype(int)\n",
    "\n",
    "test_set['default_profile'] = test_set['default_profile'].astype(int)\n",
    "test_set['default_profile_image'] = test_set['default_profile_image'].astype(int)\n",
    "test_set['geo_enabled'] = test_set['geo_enabled'].astype(int)\n",
    "test_set['verified'] = test_set['verified'].astype(int)"
   ]
  },
  {
   "cell_type": "code",
   "execution_count": 16,
   "id": "DvaUu35ZXeW1",
   "metadata": {
    "executionInfo": {
     "elapsed": 9,
     "status": "ok",
     "timestamp": 1747142418920,
     "user": {
      "displayName": "Ivan Ng",
      "userId": "04611729327448256593"
     },
     "user_tz": -480
    },
    "id": "DvaUu35ZXeW1"
   },
   "outputs": [],
   "source": [
    "train_set['follower_ratio'] = train_set['followers_count'] / (train_set['friends_count']+1)\n",
    "test_set['follower_ratio'] = test_set['followers_count'] / (test_set['friends_count']+1)\n",
    "train_set['favourite_per_tweet'] = train_set['favourites_count'] / (train_set['statuses_count']+1)\n",
    "test_set['favourite_per_tweet'] = test_set['favourites_count'] / (test_set['statuses_count']+1)\n",
    "train_set['favourite_per_day'] = train_set['favourites_count'] / (train_set['average_tweets_per_day']+1)\n",
    "test_set['favourite_per_day'] = test_set['favourites_count'] / (test_set['average_tweets_per_day']+1)"
   ]
  },
  {
   "cell_type": "code",
   "execution_count": 92,
   "id": "OVXYI6uQZiHD",
   "metadata": {
    "executionInfo": {
     "elapsed": 19,
     "status": "ok",
     "timestamp": 1747142420632,
     "user": {
      "displayName": "Ivan Ng",
      "userId": "04611729327448256593"
     },
     "user_tz": -480
    },
    "id": "OVXYI6uQZiHD"
   },
   "outputs": [],
   "source": [
    "# train_set.drop(columns=['statuses_count'], inplace=True)\n",
    "# test_set.drop(columns=['statuses_count'], inplace=True)"
   ]
  },
  {
   "cell_type": "markdown",
   "id": "EgBAgPeDGMsz",
   "metadata": {
    "id": "EgBAgPeDGMsz"
   },
   "source": [
    "### NLP"
   ]
  },
  {
   "cell_type": "code",
   "execution_count": 18,
   "id": "_jjrrZqkRxKj",
   "metadata": {
    "executionInfo": {
     "elapsed": 1404,
     "status": "ok",
     "timestamp": 1747142423205,
     "user": {
      "displayName": "Ivan Ng",
      "userId": "04611729327448256593"
     },
     "user_tz": -480
    },
    "id": "_jjrrZqkRxKj"
   },
   "outputs": [],
   "source": [
    "stop_words = set(stopwords.words('english'))\n",
    "lemmatizer = WordNetLemmatizer()\n",
    "\n",
    "def preprocess_text(text):\n",
    "    if pd.isna(text) or text == \"\":\n",
    "        return \"\"\n",
    "    text = text.lower()\n",
    "    text = text.translate(str.maketrans('', '', string.punctuation))\n",
    "    text = re.sub(r'\\d+', '', text)\n",
    "    words = text.split()\n",
    "    words = [lemmatizer.lemmatize(word) for word in words if word not in stop_words]\n",
    "    return \" \".join(words)\n",
    "\n",
    "train_set['description'] = train_set['description'].fillna('')\n",
    "train_set['description'] = train_set['description'].apply(preprocess_text)\n",
    "test_set['description'] = test_set['description'].fillna('')\n",
    "test_set['description'] = test_set['description'].apply(preprocess_text)"
   ]
  },
  {
   "cell_type": "code",
   "execution_count": 20,
   "id": "2mSc_u4ZGMDk",
   "metadata": {
    "executionInfo": {
     "elapsed": 8,
     "status": "ok",
     "timestamp": 1747142423213,
     "user": {
      "displayName": "Ivan Ng",
      "userId": "04611729327448256593"
     },
     "user_tz": -480
    },
    "id": "2mSc_u4ZGMDk"
   },
   "outputs": [],
   "source": [
    "train_set['desc_len'] = train_set['description'].apply(len)\n",
    "train_set['desc_wordcount'] = train_set['description'].apply(lambda x: len(x.split()))\n",
    "test_set['desc_len'] = test_set['description'].apply(len)\n",
    "test_set['desc_wordcount'] = test_set['description'].apply(lambda x: len(x.split()))"
   ]
  },
  {
   "cell_type": "code",
   "execution_count": 21,
   "id": "0Vu72c9rRY03",
   "metadata": {
    "executionInfo": {
     "elapsed": 2808,
     "status": "ok",
     "timestamp": 1747142426955,
     "user": {
      "displayName": "Ivan Ng",
      "userId": "04611729327448256593"
     },
     "user_tz": -480
    },
    "id": "0Vu72c9rRY03"
   },
   "outputs": [],
   "source": [
    "sid = SentimentIntensityAnalyzer()\n",
    "def get_sentiment_scores(text):\n",
    "    if pd.isna(text) or text == \"\":\n",
    "        return 0.0\n",
    "    return sid.polarity_scores(text)['compound']\n",
    "\n",
    "train_set['desc_sentiment'] = train_set['description'].apply(get_sentiment_scores)\n",
    "test_set['desc_sentiment'] = test_set['description'].apply(get_sentiment_scores)"
   ]
  },
  {
   "cell_type": "markdown",
   "id": "Hrzflk5yHYLv",
   "metadata": {
    "id": "Hrzflk5yHYLv"
   },
   "source": [
    "#### Data Split"
   ]
  },
  {
   "cell_type": "code",
   "execution_count": 22,
   "id": "G3sleddIHM5-",
   "metadata": {
    "executionInfo": {
     "elapsed": 6,
     "status": "ok",
     "timestamp": 1747142427826,
     "user": {
      "displayName": "Ivan Ng",
      "userId": "04611729327448256593"
     },
     "user_tz": -480
    },
    "id": "G3sleddIHM5-"
   },
   "outputs": [],
   "source": [
    "train_set = train_set.drop(columns=['description'])\n",
    "test_set = test_set.drop(columns=['description'])"
   ]
  },
  {
   "cell_type": "code",
   "execution_count": 23,
   "id": "gDnXdqBWSFXB",
   "metadata": {
    "executionInfo": {
     "elapsed": 5,
     "status": "ok",
     "timestamp": 1747142428758,
     "user": {
      "displayName": "Ivan Ng",
      "userId": "04611729327448256593"
     },
     "user_tz": -480
    },
    "id": "gDnXdqBWSFXB"
   },
   "outputs": [],
   "source": [
    "num_majority = train_set[train_set['target'] == 0].shape[0]\n",
    "num_minority = train_set[train_set['target'] == 1].shape[0]"
   ]
  },
  {
   "cell_type": "code",
   "execution_count": 24,
   "id": "5476b0d6",
   "metadata": {
    "executionInfo": {
     "elapsed": 24,
     "status": "ok",
     "timestamp": 1747142429793,
     "user": {
      "displayName": "Ivan Ng",
      "userId": "04611729327448256593"
     },
     "user_tz": -480
    },
    "id": "5476b0d6"
   },
   "outputs": [],
   "source": [
    "x_train, x_test, y_train, y_test = model_selection.train_test_split(train_set.drop(columns=['target']), train_set['target'], test_size=0.2, shuffle = True, random_state=42, stratify=train_set['target'])"
   ]
  },
  {
   "cell_type": "code",
   "execution_count": 25,
   "id": "h4y2eAC6Shve",
   "metadata": {
    "executionInfo": {
     "elapsed": 3,
     "status": "ok",
     "timestamp": 1747142431891,
     "user": {
      "displayName": "Ivan Ng",
      "userId": "04611729327448256593"
     },
     "user_tz": -480
    },
    "id": "h4y2eAC6Shve"
   },
   "outputs": [],
   "source": [
    "counter = Counter(y_train)\n",
    "estimate_scale_pos_weight = counter[0] / counter[1]"
   ]
  },
  {
   "cell_type": "code",
   "execution_count": 26,
   "id": "KB81FOwPUIyy",
   "metadata": {
    "executionInfo": {
     "elapsed": 41,
     "status": "ok",
     "timestamp": 1747142432275,
     "user": {
      "displayName": "Ivan Ng",
      "userId": "04611729327448256593"
     },
     "user_tz": -480
    },
    "id": "KB81FOwPUIyy"
   },
   "outputs": [],
   "source": [
    "train_predictors = train_set.drop(columns=['target'])\n",
    "train_target = train_set['target']"
   ]
  },
  {
   "cell_type": "code",
   "execution_count": 27,
   "id": "7CE5gho8UJ3F",
   "metadata": {
    "executionInfo": {
     "elapsed": 12,
     "status": "ok",
     "timestamp": 1747142432572,
     "user": {
      "displayName": "Ivan Ng",
      "userId": "04611729327448256593"
     },
     "user_tz": -480
    },
    "id": "7CE5gho8UJ3F"
   },
   "outputs": [],
   "source": [
    "counter_train = Counter(train_target)\n",
    "estimate_scale_pos_weight_train = counter_train[0] / counter_train[1]"
   ]
  },
  {
   "cell_type": "code",
   "execution_count": 28,
   "id": "_B8mX5kgHT0b",
   "metadata": {
    "colab": {
     "base_uri": "https://localhost:8080/",
     "height": 443
    },
    "executionInfo": {
     "elapsed": 108,
     "status": "ok",
     "timestamp": 1747142433090,
     "user": {
      "displayName": "Ivan Ng",
      "userId": "04611729327448256593"
     },
     "user_tz": -480
    },
    "id": "_B8mX5kgHT0b",
    "outputId": "d088484a-5c5a-40fa-c9a6-4420d430728e"
   },
   "outputs": [
    {
     "data": {
      "text/html": [
       "<div>\n",
       "<style scoped>\n",
       "    .dataframe tbody tr th:only-of-type {\n",
       "        vertical-align: middle;\n",
       "    }\n",
       "\n",
       "    .dataframe tbody tr th {\n",
       "        vertical-align: top;\n",
       "    }\n",
       "\n",
       "    .dataframe thead th {\n",
       "        text-align: right;\n",
       "    }\n",
       "</style>\n",
       "<table border=\"1\" class=\"dataframe\">\n",
       "  <thead>\n",
       "    <tr style=\"text-align: right;\">\n",
       "      <th></th>\n",
       "      <th>default_profile</th>\n",
       "      <th>default_profile_image</th>\n",
       "      <th>favourites_count</th>\n",
       "      <th>followers_count</th>\n",
       "      <th>friends_count</th>\n",
       "      <th>geo_enabled</th>\n",
       "      <th>lang</th>\n",
       "      <th>statuses_count</th>\n",
       "      <th>verified</th>\n",
       "      <th>average_tweets_per_day</th>\n",
       "      <th>account_age_days</th>\n",
       "      <th>follower_ratio</th>\n",
       "      <th>favourite_per_tweet</th>\n",
       "      <th>favourite_per_day</th>\n",
       "      <th>desc_len</th>\n",
       "      <th>desc_wordcount</th>\n",
       "      <th>desc_sentiment</th>\n",
       "    </tr>\n",
       "  </thead>\n",
       "  <tbody>\n",
       "    <tr>\n",
       "      <th>16919</th>\n",
       "      <td>0</td>\n",
       "      <td>0</td>\n",
       "      <td>1534</td>\n",
       "      <td>45</td>\n",
       "      <td>222</td>\n",
       "      <td>0</td>\n",
       "      <td>pt</td>\n",
       "      <td>2759</td>\n",
       "      <td>0</td>\n",
       "      <td>0.705</td>\n",
       "      <td>3915</td>\n",
       "      <td>0.201794</td>\n",
       "      <td>0.555797</td>\n",
       "      <td>899.706745</td>\n",
       "      <td>80</td>\n",
       "      <td>18</td>\n",
       "      <td>0.0000</td>\n",
       "    </tr>\n",
       "    <tr>\n",
       "      <th>3662</th>\n",
       "      <td>0</td>\n",
       "      <td>0</td>\n",
       "      <td>2207</td>\n",
       "      <td>11557</td>\n",
       "      <td>820</td>\n",
       "      <td>1</td>\n",
       "      <td>en</td>\n",
       "      <td>7577</td>\n",
       "      <td>0</td>\n",
       "      <td>1.984</td>\n",
       "      <td>3820</td>\n",
       "      <td>14.076736</td>\n",
       "      <td>0.291238</td>\n",
       "      <td>739.611260</td>\n",
       "      <td>33</td>\n",
       "      <td>6</td>\n",
       "      <td>0.0000</td>\n",
       "    </tr>\n",
       "    <tr>\n",
       "      <th>6669</th>\n",
       "      <td>0</td>\n",
       "      <td>0</td>\n",
       "      <td>738</td>\n",
       "      <td>36684</td>\n",
       "      <td>185</td>\n",
       "      <td>1</td>\n",
       "      <td>ar</td>\n",
       "      <td>141155</td>\n",
       "      <td>0</td>\n",
       "      <td>42.414</td>\n",
       "      <td>3328</td>\n",
       "      <td>197.225806</td>\n",
       "      <td>0.005228</td>\n",
       "      <td>16.999125</td>\n",
       "      <td>46</td>\n",
       "      <td>6</td>\n",
       "      <td>0.0000</td>\n",
       "    </tr>\n",
       "    <tr>\n",
       "      <th>7412</th>\n",
       "      <td>0</td>\n",
       "      <td>0</td>\n",
       "      <td>24553</td>\n",
       "      <td>970</td>\n",
       "      <td>968</td>\n",
       "      <td>1</td>\n",
       "      <td>en</td>\n",
       "      <td>10305</td>\n",
       "      <td>0</td>\n",
       "      <td>2.783</td>\n",
       "      <td>3703</td>\n",
       "      <td>1.001032</td>\n",
       "      <td>2.382399</td>\n",
       "      <td>6490.351573</td>\n",
       "      <td>27</td>\n",
       "      <td>3</td>\n",
       "      <td>0.0000</td>\n",
       "    </tr>\n",
       "    <tr>\n",
       "      <th>8506</th>\n",
       "      <td>0</td>\n",
       "      <td>0</td>\n",
       "      <td>8942</td>\n",
       "      <td>1898</td>\n",
       "      <td>807</td>\n",
       "      <td>1</td>\n",
       "      <td>en</td>\n",
       "      <td>10848</td>\n",
       "      <td>1</td>\n",
       "      <td>2.601</td>\n",
       "      <td>4170</td>\n",
       "      <td>2.349010</td>\n",
       "      <td>0.824223</td>\n",
       "      <td>2483.199111</td>\n",
       "      <td>64</td>\n",
       "      <td>9</td>\n",
       "      <td>0.0000</td>\n",
       "    </tr>\n",
       "    <tr>\n",
       "      <th>...</th>\n",
       "      <td>...</td>\n",
       "      <td>...</td>\n",
       "      <td>...</td>\n",
       "      <td>...</td>\n",
       "      <td>...</td>\n",
       "      <td>...</td>\n",
       "      <td>...</td>\n",
       "      <td>...</td>\n",
       "      <td>...</td>\n",
       "      <td>...</td>\n",
       "      <td>...</td>\n",
       "      <td>...</td>\n",
       "      <td>...</td>\n",
       "      <td>...</td>\n",
       "      <td>...</td>\n",
       "      <td>...</td>\n",
       "      <td>...</td>\n",
       "    </tr>\n",
       "    <tr>\n",
       "      <th>17356</th>\n",
       "      <td>0</td>\n",
       "      <td>0</td>\n",
       "      <td>2768</td>\n",
       "      <td>295</td>\n",
       "      <td>295</td>\n",
       "      <td>1</td>\n",
       "      <td>en</td>\n",
       "      <td>13869</td>\n",
       "      <td>0</td>\n",
       "      <td>4.086</td>\n",
       "      <td>3394</td>\n",
       "      <td>0.996622</td>\n",
       "      <td>0.199567</td>\n",
       "      <td>544.239088</td>\n",
       "      <td>13</td>\n",
       "      <td>3</td>\n",
       "      <td>0.0762</td>\n",
       "    </tr>\n",
       "    <tr>\n",
       "      <th>92</th>\n",
       "      <td>0</td>\n",
       "      <td>0</td>\n",
       "      <td>63616</td>\n",
       "      <td>883</td>\n",
       "      <td>742</td>\n",
       "      <td>1</td>\n",
       "      <td>it</td>\n",
       "      <td>52246</td>\n",
       "      <td>0</td>\n",
       "      <td>25.954</td>\n",
       "      <td>2013</td>\n",
       "      <td>1.188425</td>\n",
       "      <td>1.217601</td>\n",
       "      <td>2360.169177</td>\n",
       "      <td>20</td>\n",
       "      <td>4</td>\n",
       "      <td>0.0000</td>\n",
       "    </tr>\n",
       "    <tr>\n",
       "      <th>8298</th>\n",
       "      <td>0</td>\n",
       "      <td>0</td>\n",
       "      <td>3256</td>\n",
       "      <td>341</td>\n",
       "      <td>186</td>\n",
       "      <td>1</td>\n",
       "      <td>en</td>\n",
       "      <td>1580</td>\n",
       "      <td>0</td>\n",
       "      <td>0.386</td>\n",
       "      <td>4092</td>\n",
       "      <td>1.823529</td>\n",
       "      <td>2.059456</td>\n",
       "      <td>2349.206349</td>\n",
       "      <td>66</td>\n",
       "      <td>12</td>\n",
       "      <td>0.4215</td>\n",
       "    </tr>\n",
       "    <tr>\n",
       "      <th>14834</th>\n",
       "      <td>1</td>\n",
       "      <td>0</td>\n",
       "      <td>1332</td>\n",
       "      <td>8</td>\n",
       "      <td>31</td>\n",
       "      <td>0</td>\n",
       "      <td>en</td>\n",
       "      <td>1333</td>\n",
       "      <td>0</td>\n",
       "      <td>0.912</td>\n",
       "      <td>1462</td>\n",
       "      <td>0.250000</td>\n",
       "      <td>0.998501</td>\n",
       "      <td>696.652720</td>\n",
       "      <td>21</td>\n",
       "      <td>2</td>\n",
       "      <td>0.0000</td>\n",
       "    </tr>\n",
       "    <tr>\n",
       "      <th>24295</th>\n",
       "      <td>0</td>\n",
       "      <td>0</td>\n",
       "      <td>22686</td>\n",
       "      <td>1107</td>\n",
       "      <td>363</td>\n",
       "      <td>1</td>\n",
       "      <td>en</td>\n",
       "      <td>11407</td>\n",
       "      <td>0</td>\n",
       "      <td>4.917</td>\n",
       "      <td>2320</td>\n",
       "      <td>3.041209</td>\n",
       "      <td>1.988604</td>\n",
       "      <td>3834.037519</td>\n",
       "      <td>109</td>\n",
       "      <td>15</td>\n",
       "      <td>-0.3182</td>\n",
       "    </tr>\n",
       "  </tbody>\n",
       "</table>\n",
       "<p>20964 rows × 17 columns</p>\n",
       "</div>"
      ],
      "text/plain": [
       "       default_profile  default_profile_image  favourites_count  \\\n",
       "16919                0                      0              1534   \n",
       "3662                 0                      0              2207   \n",
       "6669                 0                      0               738   \n",
       "7412                 0                      0             24553   \n",
       "8506                 0                      0              8942   \n",
       "...                ...                    ...               ...   \n",
       "17356                0                      0              2768   \n",
       "92                   0                      0             63616   \n",
       "8298                 0                      0              3256   \n",
       "14834                1                      0              1332   \n",
       "24295                0                      0             22686   \n",
       "\n",
       "       followers_count  friends_count  geo_enabled lang  statuses_count  \\\n",
       "16919               45            222            0   pt            2759   \n",
       "3662             11557            820            1   en            7577   \n",
       "6669             36684            185            1   ar          141155   \n",
       "7412               970            968            1   en           10305   \n",
       "8506              1898            807            1   en           10848   \n",
       "...                ...            ...          ...  ...             ...   \n",
       "17356              295            295            1   en           13869   \n",
       "92                 883            742            1   it           52246   \n",
       "8298               341            186            1   en            1580   \n",
       "14834                8             31            0   en            1333   \n",
       "24295             1107            363            1   en           11407   \n",
       "\n",
       "       verified  average_tweets_per_day  account_age_days  follower_ratio  \\\n",
       "16919         0                   0.705              3915        0.201794   \n",
       "3662          0                   1.984              3820       14.076736   \n",
       "6669          0                  42.414              3328      197.225806   \n",
       "7412          0                   2.783              3703        1.001032   \n",
       "8506          1                   2.601              4170        2.349010   \n",
       "...         ...                     ...               ...             ...   \n",
       "17356         0                   4.086              3394        0.996622   \n",
       "92            0                  25.954              2013        1.188425   \n",
       "8298          0                   0.386              4092        1.823529   \n",
       "14834         0                   0.912              1462        0.250000   \n",
       "24295         0                   4.917              2320        3.041209   \n",
       "\n",
       "       favourite_per_tweet  favourite_per_day  desc_len  desc_wordcount  \\\n",
       "16919             0.555797         899.706745        80              18   \n",
       "3662              0.291238         739.611260        33               6   \n",
       "6669              0.005228          16.999125        46               6   \n",
       "7412              2.382399        6490.351573        27               3   \n",
       "8506              0.824223        2483.199111        64               9   \n",
       "...                    ...                ...       ...             ...   \n",
       "17356             0.199567         544.239088        13               3   \n",
       "92                1.217601        2360.169177        20               4   \n",
       "8298              2.059456        2349.206349        66              12   \n",
       "14834             0.998501         696.652720        21               2   \n",
       "24295             1.988604        3834.037519       109              15   \n",
       "\n",
       "       desc_sentiment  \n",
       "16919          0.0000  \n",
       "3662           0.0000  \n",
       "6669           0.0000  \n",
       "7412           0.0000  \n",
       "8506           0.0000  \n",
       "...               ...  \n",
       "17356          0.0762  \n",
       "92             0.0000  \n",
       "8298           0.4215  \n",
       "14834          0.0000  \n",
       "24295         -0.3182  \n",
       "\n",
       "[20964 rows x 17 columns]"
      ]
     },
     "execution_count": 28,
     "metadata": {},
     "output_type": "execute_result"
    }
   ],
   "source": [
    "x_train"
   ]
  },
  {
   "cell_type": "markdown",
   "id": "rJvAh3VCX8Wv",
   "metadata": {
    "id": "rJvAh3VCX8Wv"
   },
   "source": [
    "### LGB"
   ]
  },
  {
   "cell_type": "code",
   "execution_count": 50,
   "id": "sza8ktE-XJun",
   "metadata": {
    "executionInfo": {
     "elapsed": 12,
     "status": "ok",
     "timestamp": 1747142439220,
     "user": {
      "displayName": "Ivan Ng",
      "userId": "04611729327448256593"
     },
     "user_tz": -480
    },
    "id": "sza8ktE-XJun"
   },
   "outputs": [],
   "source": [
    "lgbm_classifier = lgb.LGBMClassifier(\n",
    "    objective='binary',\n",
    "    metric='auc',\n",
    "    n_estimators=500,\n",
    "    learning_rate=0.1,\n",
    "    num_leaves=31,\n",
    "    max_depth=-1,\n",
    "    min_child_samples=20,\n",
    "    subsample=0.8,\n",
    "    colsample_bytree=0.8,\n",
    "    random_state=42,\n",
    "    n_jobs=-1,\n",
    "    device='cuda',\n",
    "    gpu_platform_id=0,\n",
    "    gpu_device_id=0,\n",
    "    categorical_feature=['lang']\n",
    ")"
   ]
  },
  {
   "cell_type": "code",
   "execution_count": 51,
   "id": "DZISo5nKYQA_",
   "metadata": {
    "executionInfo": {
     "elapsed": 4,
     "status": "ok",
     "timestamp": 1747142439867,
     "user": {
      "displayName": "Ivan Ng",
      "userId": "04611729327448256593"
     },
     "user_tz": -480
    },
    "id": "DZISo5nKYQA_"
   },
   "outputs": [],
   "source": [
    "cv_strategy = model_selection.StratifiedKFold(n_splits=10, shuffle=True, random_state=42)"
   ]
  },
  {
   "cell_type": "code",
   "execution_count": 52,
   "id": "Ar2Pkz0TfuB0",
   "metadata": {
    "executionInfo": {
     "elapsed": 5,
     "status": "ok",
     "timestamp": 1747142441138,
     "user": {
      "displayName": "Ivan Ng",
      "userId": "04611729327448256593"
     },
     "user_tz": -480
    },
    "id": "Ar2Pkz0TfuB0"
   },
   "outputs": [],
   "source": [
    "param_grid_lgbm = {\n",
    "    'n_estimators': [400, 500, 600],\n",
    "    'learning_rate': [0.001, 0.01, 0.02],\n",
    "    'num_leaves': [15, 30, 45]\n",
    "\n",
    "}"
   ]
  },
  {
   "cell_type": "code",
   "execution_count": 53,
   "id": "ee5mtu3kYe7D",
   "metadata": {
    "executionInfo": {
     "elapsed": 3,
     "status": "ok",
     "timestamp": 1747142442016,
     "user": {
      "displayName": "Ivan Ng",
      "userId": "04611729327448256593"
     },
     "user_tz": -480
    },
    "id": "ee5mtu3kYe7D"
   },
   "outputs": [],
   "source": [
    "cv_strategy = model_selection.StratifiedKFold(n_splits=10, shuffle=True, random_state=42)"
   ]
  },
  {
   "cell_type": "code",
   "execution_count": 54,
   "id": "WKCk3II3ZE5a",
   "metadata": {
    "executionInfo": {
     "elapsed": 5,
     "status": "ok",
     "timestamp": 1747142442756,
     "user": {
      "displayName": "Ivan Ng",
      "userId": "04611729327448256593"
     },
     "user_tz": -480
    },
    "id": "WKCk3II3ZE5a"
   },
   "outputs": [],
   "source": [
    "grid_search_lgb = model_selection.GridSearchCV(\n",
    "    estimator=lgbm_classifier,\n",
    "    param_grid=param_grid_lgbm,\n",
    "    scoring='roc_auc',\n",
    "    cv=cv_strategy,\n",
    "    n_jobs=1,\n",
    "    verbose=2\n",
    ")"
   ]
  },
  {
   "cell_type": "code",
   "execution_count": 55,
   "id": "rU2fa05MerfG",
   "metadata": {
    "colab": {
     "base_uri": "https://localhost:8080/",
     "height": 1000
    },
    "collapsed": true,
    "executionInfo": {
     "elapsed": 649585,
     "status": "ok",
     "timestamp": 1747143099382,
     "user": {
      "displayName": "Ivan Ng",
      "userId": "04611729327448256593"
     },
     "user_tz": -480
    },
    "id": "rU2fa05MerfG",
    "outputId": "0dff9caf-7b8b-407a-f1a0-d00e0fc97d1d"
   },
   "outputs": [
    {
     "name": "stdout",
     "output_type": "stream",
     "text": [
      "Fitting 10 folds for each of 27 candidates, totalling 270 fits\n",
      "[LightGBM] [Warning] Using sparse features with CUDA is currently not supported.\n",
      "[LightGBM] [Warning] categorical_feature is set=lang, categorical_column=6 will be ignored. Current value: categorical_feature=lang\n",
      "[LightGBM] [Info] Number of positive: 6323, number of negative: 12544\n",
      "[CV] END learning_rate=0.001, n_estimators=400, num_leaves=15; total time=   0.0s\n",
      "[LightGBM] [Warning] Using sparse features with CUDA is currently not supported.\n",
      "[LightGBM] [Warning] categorical_feature is set=lang, categorical_column=6 will be ignored. Current value: categorical_feature=lang\n",
      "[LightGBM] [Info] Number of positive: 6323, number of negative: 12544\n",
      "[CV] END learning_rate=0.001, n_estimators=400, num_leaves=15; total time=   0.0s\n",
      "[LightGBM] [Warning] Using sparse features with CUDA is currently not supported.\n",
      "[LightGBM] [Warning] categorical_feature is set=lang, categorical_column=6 will be ignored. Current value: categorical_feature=lang\n",
      "[LightGBM] [Info] Number of positive: 6323, number of negative: 12544\n",
      "[CV] END learning_rate=0.001, n_estimators=400, num_leaves=15; total time=   0.0s\n",
      "[LightGBM] [Warning] Using sparse features with CUDA is currently not supported.\n",
      "[LightGBM] [Warning] categorical_feature is set=lang, categorical_column=6 will be ignored. Current value: categorical_feature=lang\n",
      "[LightGBM] [Info] Number of positive: 6323, number of negative: 12544\n",
      "[CV] END learning_rate=0.001, n_estimators=400, num_leaves=15; total time=   0.0s\n",
      "[LightGBM] [Warning] Using sparse features with CUDA is currently not supported.\n",
      "[LightGBM] [Warning] categorical_feature is set=lang, categorical_column=6 will be ignored. Current value: categorical_feature=lang\n",
      "[LightGBM] [Info] Number of positive: 6323, number of negative: 12545\n",
      "[CV] END learning_rate=0.001, n_estimators=400, num_leaves=15; total time=   0.0s\n",
      "[LightGBM] [Warning] Using sparse features with CUDA is currently not supported.\n",
      "[LightGBM] [Warning] categorical_feature is set=lang, categorical_column=6 will be ignored. Current value: categorical_feature=lang\n",
      "[LightGBM] [Info] Number of positive: 6323, number of negative: 12545\n",
      "[CV] END learning_rate=0.001, n_estimators=400, num_leaves=15; total time=   0.0s\n",
      "[LightGBM] [Warning] Using sparse features with CUDA is currently not supported.\n",
      "[LightGBM] [Warning] categorical_feature is set=lang, categorical_column=6 will be ignored. Current value: categorical_feature=lang\n",
      "[LightGBM] [Info] Number of positive: 6324, number of negative: 12544\n",
      "[CV] END learning_rate=0.001, n_estimators=400, num_leaves=15; total time=   0.0s\n",
      "[LightGBM] [Warning] Using sparse features with CUDA is currently not supported.\n",
      "[LightGBM] [Warning] categorical_feature is set=lang, categorical_column=6 will be ignored. Current value: categorical_feature=lang\n",
      "[LightGBM] [Info] Number of positive: 6324, number of negative: 12544\n",
      "[CV] END learning_rate=0.001, n_estimators=400, num_leaves=15; total time=   0.0s\n",
      "[LightGBM] [Warning] Using sparse features with CUDA is currently not supported.\n",
      "[LightGBM] [Warning] categorical_feature is set=lang, categorical_column=6 will be ignored. Current value: categorical_feature=lang\n",
      "[LightGBM] [Info] Number of positive: 6324, number of negative: 12544\n",
      "[CV] END learning_rate=0.001, n_estimators=400, num_leaves=15; total time=   0.0s\n",
      "[LightGBM] [Warning] Using sparse features with CUDA is currently not supported.\n",
      "[LightGBM] [Warning] categorical_feature is set=lang, categorical_column=6 will be ignored. Current value: categorical_feature=lang\n",
      "[LightGBM] [Info] Number of positive: 6324, number of negative: 12544\n",
      "[CV] END learning_rate=0.001, n_estimators=400, num_leaves=15; total time=   0.0s\n",
      "[LightGBM] [Warning] Using sparse features with CUDA is currently not supported.\n",
      "[LightGBM] [Warning] categorical_feature is set=lang, categorical_column=6 will be ignored. Current value: categorical_feature=lang\n",
      "[LightGBM] [Info] Number of positive: 6323, number of negative: 12544\n",
      "[CV] END learning_rate=0.001, n_estimators=400, num_leaves=30; total time=   0.0s\n",
      "[LightGBM] [Warning] Using sparse features with CUDA is currently not supported.\n",
      "[LightGBM] [Warning] categorical_feature is set=lang, categorical_column=6 will be ignored. Current value: categorical_feature=lang\n",
      "[LightGBM] [Info] Number of positive: 6323, number of negative: 12544\n",
      "[CV] END learning_rate=0.001, n_estimators=400, num_leaves=30; total time=   0.0s\n",
      "[LightGBM] [Warning] Using sparse features with CUDA is currently not supported.\n",
      "[LightGBM] [Warning] categorical_feature is set=lang, categorical_column=6 will be ignored. Current value: categorical_feature=lang\n",
      "[LightGBM] [Info] Number of positive: 6323, number of negative: 12544\n",
      "[CV] END learning_rate=0.001, n_estimators=400, num_leaves=30; total time=   0.0s\n",
      "[LightGBM] [Warning] Using sparse features with CUDA is currently not supported.\n",
      "[LightGBM] [Warning] categorical_feature is set=lang, categorical_column=6 will be ignored. Current value: categorical_feature=lang\n",
      "[LightGBM] [Info] Number of positive: 6323, number of negative: 12544\n",
      "[CV] END learning_rate=0.001, n_estimators=400, num_leaves=30; total time=   0.0s\n",
      "[LightGBM] [Warning] Using sparse features with CUDA is currently not supported.\n"
     ]
    },
    {
     "name": "stderr",
     "output_type": "stream",
     "text": [
      "c:\\Users\\ivanj\\AppData\\Local\\Programs\\Python\\Python313\\Lib\\site-packages\\lightgbm\\basic.py:2137: UserWarning: categorical_feature keyword has been found in `params` and will be ignored.\n",
      "Please use categorical_feature argument of the Dataset constructor to pass this parameter.\n",
      "  _log_warning(\n",
      "c:\\Users\\ivanj\\AppData\\Local\\Programs\\Python\\Python313\\Lib\\site-packages\\lightgbm\\basic.py:2159: UserWarning: categorical_feature in param dict is overridden.\n",
      "  _log_warning(f\"{cat_alias} in param dict is overridden.\")\n",
      "c:\\Users\\ivanj\\AppData\\Local\\Programs\\Python\\Python313\\Lib\\site-packages\\lightgbm\\basic.py:2137: UserWarning: categorical_feature keyword has been found in `params` and will be ignored.\n",
      "Please use categorical_feature argument of the Dataset constructor to pass this parameter.\n",
      "  _log_warning(\n",
      "c:\\Users\\ivanj\\AppData\\Local\\Programs\\Python\\Python313\\Lib\\site-packages\\lightgbm\\basic.py:2159: UserWarning: categorical_feature in param dict is overridden.\n",
      "  _log_warning(f\"{cat_alias} in param dict is overridden.\")\n",
      "c:\\Users\\ivanj\\AppData\\Local\\Programs\\Python\\Python313\\Lib\\site-packages\\lightgbm\\basic.py:2137: UserWarning: categorical_feature keyword has been found in `params` and will be ignored.\n",
      "Please use categorical_feature argument of the Dataset constructor to pass this parameter.\n",
      "  _log_warning(\n",
      "c:\\Users\\ivanj\\AppData\\Local\\Programs\\Python\\Python313\\Lib\\site-packages\\lightgbm\\basic.py:2159: UserWarning: categorical_feature in param dict is overridden.\n",
      "  _log_warning(f\"{cat_alias} in param dict is overridden.\")\n",
      "c:\\Users\\ivanj\\AppData\\Local\\Programs\\Python\\Python313\\Lib\\site-packages\\lightgbm\\basic.py:2137: UserWarning: categorical_feature keyword has been found in `params` and will be ignored.\n",
      "Please use categorical_feature argument of the Dataset constructor to pass this parameter.\n",
      "  _log_warning(\n",
      "c:\\Users\\ivanj\\AppData\\Local\\Programs\\Python\\Python313\\Lib\\site-packages\\lightgbm\\basic.py:2159: UserWarning: categorical_feature in param dict is overridden.\n",
      "  _log_warning(f\"{cat_alias} in param dict is overridden.\")\n",
      "c:\\Users\\ivanj\\AppData\\Local\\Programs\\Python\\Python313\\Lib\\site-packages\\lightgbm\\basic.py:2137: UserWarning: categorical_feature keyword has been found in `params` and will be ignored.\n",
      "Please use categorical_feature argument of the Dataset constructor to pass this parameter.\n",
      "  _log_warning(\n",
      "c:\\Users\\ivanj\\AppData\\Local\\Programs\\Python\\Python313\\Lib\\site-packages\\lightgbm\\basic.py:2159: UserWarning: categorical_feature in param dict is overridden.\n",
      "  _log_warning(f\"{cat_alias} in param dict is overridden.\")\n",
      "c:\\Users\\ivanj\\AppData\\Local\\Programs\\Python\\Python313\\Lib\\site-packages\\lightgbm\\basic.py:2137: UserWarning: categorical_feature keyword has been found in `params` and will be ignored.\n",
      "Please use categorical_feature argument of the Dataset constructor to pass this parameter.\n",
      "  _log_warning(\n",
      "c:\\Users\\ivanj\\AppData\\Local\\Programs\\Python\\Python313\\Lib\\site-packages\\lightgbm\\basic.py:2159: UserWarning: categorical_feature in param dict is overridden.\n",
      "  _log_warning(f\"{cat_alias} in param dict is overridden.\")\n",
      "c:\\Users\\ivanj\\AppData\\Local\\Programs\\Python\\Python313\\Lib\\site-packages\\lightgbm\\basic.py:2137: UserWarning: categorical_feature keyword has been found in `params` and will be ignored.\n",
      "Please use categorical_feature argument of the Dataset constructor to pass this parameter.\n",
      "  _log_warning(\n",
      "c:\\Users\\ivanj\\AppData\\Local\\Programs\\Python\\Python313\\Lib\\site-packages\\lightgbm\\basic.py:2159: UserWarning: categorical_feature in param dict is overridden.\n",
      "  _log_warning(f\"{cat_alias} in param dict is overridden.\")\n",
      "c:\\Users\\ivanj\\AppData\\Local\\Programs\\Python\\Python313\\Lib\\site-packages\\lightgbm\\basic.py:2137: UserWarning: categorical_feature keyword has been found in `params` and will be ignored.\n",
      "Please use categorical_feature argument of the Dataset constructor to pass this parameter.\n",
      "  _log_warning(\n",
      "c:\\Users\\ivanj\\AppData\\Local\\Programs\\Python\\Python313\\Lib\\site-packages\\lightgbm\\basic.py:2159: UserWarning: categorical_feature in param dict is overridden.\n",
      "  _log_warning(f\"{cat_alias} in param dict is overridden.\")\n",
      "c:\\Users\\ivanj\\AppData\\Local\\Programs\\Python\\Python313\\Lib\\site-packages\\lightgbm\\basic.py:2137: UserWarning: categorical_feature keyword has been found in `params` and will be ignored.\n",
      "Please use categorical_feature argument of the Dataset constructor to pass this parameter.\n",
      "  _log_warning(\n",
      "c:\\Users\\ivanj\\AppData\\Local\\Programs\\Python\\Python313\\Lib\\site-packages\\lightgbm\\basic.py:2159: UserWarning: categorical_feature in param dict is overridden.\n",
      "  _log_warning(f\"{cat_alias} in param dict is overridden.\")\n",
      "c:\\Users\\ivanj\\AppData\\Local\\Programs\\Python\\Python313\\Lib\\site-packages\\lightgbm\\basic.py:2137: UserWarning: categorical_feature keyword has been found in `params` and will be ignored.\n",
      "Please use categorical_feature argument of the Dataset constructor to pass this parameter.\n",
      "  _log_warning(\n",
      "c:\\Users\\ivanj\\AppData\\Local\\Programs\\Python\\Python313\\Lib\\site-packages\\lightgbm\\basic.py:2159: UserWarning: categorical_feature in param dict is overridden.\n",
      "  _log_warning(f\"{cat_alias} in param dict is overridden.\")\n",
      "c:\\Users\\ivanj\\AppData\\Local\\Programs\\Python\\Python313\\Lib\\site-packages\\lightgbm\\basic.py:2137: UserWarning: categorical_feature keyword has been found in `params` and will be ignored.\n",
      "Please use categorical_feature argument of the Dataset constructor to pass this parameter.\n",
      "  _log_warning(\n",
      "c:\\Users\\ivanj\\AppData\\Local\\Programs\\Python\\Python313\\Lib\\site-packages\\lightgbm\\basic.py:2159: UserWarning: categorical_feature in param dict is overridden.\n",
      "  _log_warning(f\"{cat_alias} in param dict is overridden.\")\n",
      "c:\\Users\\ivanj\\AppData\\Local\\Programs\\Python\\Python313\\Lib\\site-packages\\lightgbm\\basic.py:2137: UserWarning: categorical_feature keyword has been found in `params` and will be ignored.\n",
      "Please use categorical_feature argument of the Dataset constructor to pass this parameter.\n",
      "  _log_warning(\n",
      "c:\\Users\\ivanj\\AppData\\Local\\Programs\\Python\\Python313\\Lib\\site-packages\\lightgbm\\basic.py:2159: UserWarning: categorical_feature in param dict is overridden.\n",
      "  _log_warning(f\"{cat_alias} in param dict is overridden.\")\n",
      "c:\\Users\\ivanj\\AppData\\Local\\Programs\\Python\\Python313\\Lib\\site-packages\\lightgbm\\basic.py:2137: UserWarning: categorical_feature keyword has been found in `params` and will be ignored.\n",
      "Please use categorical_feature argument of the Dataset constructor to pass this parameter.\n",
      "  _log_warning(\n",
      "c:\\Users\\ivanj\\AppData\\Local\\Programs\\Python\\Python313\\Lib\\site-packages\\lightgbm\\basic.py:2159: UserWarning: categorical_feature in param dict is overridden.\n",
      "  _log_warning(f\"{cat_alias} in param dict is overridden.\")\n",
      "c:\\Users\\ivanj\\AppData\\Local\\Programs\\Python\\Python313\\Lib\\site-packages\\lightgbm\\basic.py:2137: UserWarning: categorical_feature keyword has been found in `params` and will be ignored.\n",
      "Please use categorical_feature argument of the Dataset constructor to pass this parameter.\n",
      "  _log_warning(\n",
      "c:\\Users\\ivanj\\AppData\\Local\\Programs\\Python\\Python313\\Lib\\site-packages\\lightgbm\\basic.py:2159: UserWarning: categorical_feature in param dict is overridden.\n",
      "  _log_warning(f\"{cat_alias} in param dict is overridden.\")\n",
      "c:\\Users\\ivanj\\AppData\\Local\\Programs\\Python\\Python313\\Lib\\site-packages\\lightgbm\\basic.py:2137: UserWarning: categorical_feature keyword has been found in `params` and will be ignored.\n",
      "Please use categorical_feature argument of the Dataset constructor to pass this parameter.\n",
      "  _log_warning(\n",
      "c:\\Users\\ivanj\\AppData\\Local\\Programs\\Python\\Python313\\Lib\\site-packages\\lightgbm\\basic.py:2159: UserWarning: categorical_feature in param dict is overridden.\n",
      "  _log_warning(f\"{cat_alias} in param dict is overridden.\")\n"
     ]
    },
    {
     "name": "stdout",
     "output_type": "stream",
     "text": [
      "[LightGBM] [Warning] categorical_feature is set=lang, categorical_column=6 will be ignored. Current value: categorical_feature=lang\n",
      "[LightGBM] [Info] Number of positive: 6323, number of negative: 12545\n",
      "[CV] END learning_rate=0.001, n_estimators=400, num_leaves=30; total time=   0.0s\n",
      "[LightGBM] [Warning] Using sparse features with CUDA is currently not supported.\n",
      "[LightGBM] [Warning] categorical_feature is set=lang, categorical_column=6 will be ignored. Current value: categorical_feature=lang\n",
      "[LightGBM] [Info] Number of positive: 6323, number of negative: 12545\n",
      "[CV] END learning_rate=0.001, n_estimators=400, num_leaves=30; total time=   0.0s\n",
      "[LightGBM] [Warning] Using sparse features with CUDA is currently not supported.\n",
      "[LightGBM] [Warning] categorical_feature is set=lang, categorical_column=6 will be ignored. Current value: categorical_feature=lang\n",
      "[LightGBM] [Info] Number of positive: 6324, number of negative: 12544\n",
      "[CV] END learning_rate=0.001, n_estimators=400, num_leaves=30; total time=   0.0s\n",
      "[LightGBM] [Warning] Using sparse features with CUDA is currently not supported.\n",
      "[LightGBM] [Warning] categorical_feature is set=lang, categorical_column=6 will be ignored. Current value: categorical_feature=lang\n",
      "[LightGBM] [Info] Number of positive: 6324, number of negative: 12544\n",
      "[CV] END learning_rate=0.001, n_estimators=400, num_leaves=30; total time=   0.0s\n",
      "[LightGBM] [Warning] Using sparse features with CUDA is currently not supported.\n",
      "[LightGBM] [Warning] categorical_feature is set=lang, categorical_column=6 will be ignored. Current value: categorical_feature=lang\n",
      "[LightGBM] [Info] Number of positive: 6324, number of negative: 12544\n",
      "[CV] END learning_rate=0.001, n_estimators=400, num_leaves=30; total time=   0.0s\n",
      "[LightGBM] [Warning] Using sparse features with CUDA is currently not supported.\n",
      "[LightGBM] [Warning] categorical_feature is set=lang, categorical_column=6 will be ignored. Current value: categorical_feature=lang\n",
      "[LightGBM] [Info] Number of positive: 6324, number of negative: 12544\n",
      "[CV] END learning_rate=0.001, n_estimators=400, num_leaves=30; total time=   0.0s\n",
      "[LightGBM] [Warning] Using sparse features with CUDA is currently not supported.\n",
      "[LightGBM] [Warning] categorical_feature is set=lang, categorical_column=6 will be ignored. Current value: categorical_feature=lang\n",
      "[LightGBM] [Info] Number of positive: 6323, number of negative: 12544\n",
      "[CV] END learning_rate=0.001, n_estimators=400, num_leaves=45; total time=   0.0s\n",
      "[LightGBM] [Warning] Using sparse features with CUDA is currently not supported.\n",
      "[LightGBM] [Warning] categorical_feature is set=lang, categorical_column=6 will be ignored. Current value: categorical_feature=lang\n",
      "[LightGBM] [Info] Number of positive: 6323, number of negative: 12544\n",
      "[CV] END learning_rate=0.001, n_estimators=400, num_leaves=45; total time=   0.0s\n",
      "[LightGBM] [Warning] Using sparse features with CUDA is currently not supported.\n",
      "[LightGBM] [Warning] categorical_feature is set=lang, categorical_column=6 will be ignored. Current value: categorical_feature=lang\n",
      "[LightGBM] [Info] Number of positive: 6323, number of negative: 12544\n",
      "[CV] END learning_rate=0.001, n_estimators=400, num_leaves=45; total time=   0.0s\n",
      "[LightGBM] [Warning] Using sparse features with CUDA is currently not supported.\n",
      "[LightGBM] [Warning] categorical_feature is set=lang, categorical_column=6 will be ignored. Current value: categorical_feature=lang\n",
      "[LightGBM] [Info] Number of positive: 6323, number of negative: 12544\n",
      "[CV] END learning_rate=0.001, n_estimators=400, num_leaves=45; total time=   0.0s\n",
      "[LightGBM] [Warning] Using sparse features with CUDA is currently not supported.\n",
      "[LightGBM] [Warning] categorical_feature is set=lang, categorical_column=6 will be ignored. Current value: categorical_feature=lang\n",
      "[LightGBM] [Info] Number of positive: 6323, number of negative: 12545\n",
      "[CV] END learning_rate=0.001, n_estimators=400, num_leaves=45; total time=   0.0s\n",
      "[LightGBM] [Warning] Using sparse features with CUDA is currently not supported.\n",
      "[LightGBM] [Warning] categorical_feature is set=lang, categorical_column=6 will be ignored. Current value: categorical_feature=lang\n",
      "[LightGBM] [Info] Number of positive: 6323, number of negative: 12545\n",
      "[CV] END learning_rate=0.001, n_estimators=400, num_leaves=45; total time=   0.0s\n",
      "[LightGBM] [Warning] Using sparse features with CUDA is currently not supported.\n",
      "[LightGBM] [Warning] categorical_feature is set=lang, categorical_column=6 will be ignored. Current value: categorical_feature=lang\n",
      "[LightGBM] [Info] Number of positive: 6324, number of negative: 12544\n",
      "[CV] END learning_rate=0.001, n_estimators=400, num_leaves=45; total time=   0.0s\n",
      "[LightGBM] [Warning] Using sparse features with CUDA is currently not supported.\n",
      "[LightGBM] [Warning] categorical_feature is set=lang, categorical_column=6 will be ignored. Current value: categorical_feature=lang\n",
      "[LightGBM] [Info] Number of positive: 6324, number of negative: 12544\n",
      "[CV] END learning_rate=0.001, n_estimators=400, num_leaves=45; total time=   0.0s\n",
      "[LightGBM] [Warning] Using sparse features with CUDA is currently not supported.\n",
      "[LightGBM] [Warning] categorical_feature is set=lang, categorical_column=6 will be ignored. Current value: categorical_feature=lang\n",
      "[LightGBM] [Info] Number of positive: 6324, number of negative: 12544\n",
      "[CV] END learning_rate=0.001, n_estimators=400, num_leaves=45; total time=   0.0s\n",
      "[LightGBM] [Warning] Using sparse features with CUDA is currently not supported.\n",
      "[LightGBM] [Warning] categorical_feature is set=lang, categorical_column=6 will be ignored. Current value: categorical_feature=lang\n",
      "[LightGBM] [Info] Number of positive: 6324, number of negative: 12544\n",
      "[CV] END learning_rate=0.001, n_estimators=400, num_leaves=45; total time=   0.0s\n"
     ]
    },
    {
     "name": "stderr",
     "output_type": "stream",
     "text": [
      "c:\\Users\\ivanj\\AppData\\Local\\Programs\\Python\\Python313\\Lib\\site-packages\\lightgbm\\basic.py:2137: UserWarning: categorical_feature keyword has been found in `params` and will be ignored.\n",
      "Please use categorical_feature argument of the Dataset constructor to pass this parameter.\n",
      "  _log_warning(\n",
      "c:\\Users\\ivanj\\AppData\\Local\\Programs\\Python\\Python313\\Lib\\site-packages\\lightgbm\\basic.py:2159: UserWarning: categorical_feature in param dict is overridden.\n",
      "  _log_warning(f\"{cat_alias} in param dict is overridden.\")\n",
      "c:\\Users\\ivanj\\AppData\\Local\\Programs\\Python\\Python313\\Lib\\site-packages\\lightgbm\\basic.py:2137: UserWarning: categorical_feature keyword has been found in `params` and will be ignored.\n",
      "Please use categorical_feature argument of the Dataset constructor to pass this parameter.\n",
      "  _log_warning(\n",
      "c:\\Users\\ivanj\\AppData\\Local\\Programs\\Python\\Python313\\Lib\\site-packages\\lightgbm\\basic.py:2159: UserWarning: categorical_feature in param dict is overridden.\n",
      "  _log_warning(f\"{cat_alias} in param dict is overridden.\")\n",
      "c:\\Users\\ivanj\\AppData\\Local\\Programs\\Python\\Python313\\Lib\\site-packages\\lightgbm\\basic.py:2137: UserWarning: categorical_feature keyword has been found in `params` and will be ignored.\n",
      "Please use categorical_feature argument of the Dataset constructor to pass this parameter.\n",
      "  _log_warning(\n",
      "c:\\Users\\ivanj\\AppData\\Local\\Programs\\Python\\Python313\\Lib\\site-packages\\lightgbm\\basic.py:2159: UserWarning: categorical_feature in param dict is overridden.\n",
      "  _log_warning(f\"{cat_alias} in param dict is overridden.\")\n",
      "c:\\Users\\ivanj\\AppData\\Local\\Programs\\Python\\Python313\\Lib\\site-packages\\lightgbm\\basic.py:2137: UserWarning: categorical_feature keyword has been found in `params` and will be ignored.\n",
      "Please use categorical_feature argument of the Dataset constructor to pass this parameter.\n",
      "  _log_warning(\n",
      "c:\\Users\\ivanj\\AppData\\Local\\Programs\\Python\\Python313\\Lib\\site-packages\\lightgbm\\basic.py:2159: UserWarning: categorical_feature in param dict is overridden.\n",
      "  _log_warning(f\"{cat_alias} in param dict is overridden.\")\n",
      "c:\\Users\\ivanj\\AppData\\Local\\Programs\\Python\\Python313\\Lib\\site-packages\\lightgbm\\basic.py:2137: UserWarning: categorical_feature keyword has been found in `params` and will be ignored.\n",
      "Please use categorical_feature argument of the Dataset constructor to pass this parameter.\n",
      "  _log_warning(\n",
      "c:\\Users\\ivanj\\AppData\\Local\\Programs\\Python\\Python313\\Lib\\site-packages\\lightgbm\\basic.py:2159: UserWarning: categorical_feature in param dict is overridden.\n",
      "  _log_warning(f\"{cat_alias} in param dict is overridden.\")\n",
      "c:\\Users\\ivanj\\AppData\\Local\\Programs\\Python\\Python313\\Lib\\site-packages\\lightgbm\\basic.py:2137: UserWarning: categorical_feature keyword has been found in `params` and will be ignored.\n",
      "Please use categorical_feature argument of the Dataset constructor to pass this parameter.\n",
      "  _log_warning(\n",
      "c:\\Users\\ivanj\\AppData\\Local\\Programs\\Python\\Python313\\Lib\\site-packages\\lightgbm\\basic.py:2159: UserWarning: categorical_feature in param dict is overridden.\n",
      "  _log_warning(f\"{cat_alias} in param dict is overridden.\")\n",
      "c:\\Users\\ivanj\\AppData\\Local\\Programs\\Python\\Python313\\Lib\\site-packages\\lightgbm\\basic.py:2137: UserWarning: categorical_feature keyword has been found in `params` and will be ignored.\n",
      "Please use categorical_feature argument of the Dataset constructor to pass this parameter.\n",
      "  _log_warning(\n",
      "c:\\Users\\ivanj\\AppData\\Local\\Programs\\Python\\Python313\\Lib\\site-packages\\lightgbm\\basic.py:2159: UserWarning: categorical_feature in param dict is overridden.\n",
      "  _log_warning(f\"{cat_alias} in param dict is overridden.\")\n",
      "c:\\Users\\ivanj\\AppData\\Local\\Programs\\Python\\Python313\\Lib\\site-packages\\lightgbm\\basic.py:2137: UserWarning: categorical_feature keyword has been found in `params` and will be ignored.\n",
      "Please use categorical_feature argument of the Dataset constructor to pass this parameter.\n",
      "  _log_warning(\n",
      "c:\\Users\\ivanj\\AppData\\Local\\Programs\\Python\\Python313\\Lib\\site-packages\\lightgbm\\basic.py:2159: UserWarning: categorical_feature in param dict is overridden.\n",
      "  _log_warning(f\"{cat_alias} in param dict is overridden.\")\n",
      "c:\\Users\\ivanj\\AppData\\Local\\Programs\\Python\\Python313\\Lib\\site-packages\\lightgbm\\basic.py:2137: UserWarning: categorical_feature keyword has been found in `params` and will be ignored.\n",
      "Please use categorical_feature argument of the Dataset constructor to pass this parameter.\n",
      "  _log_warning(\n",
      "c:\\Users\\ivanj\\AppData\\Local\\Programs\\Python\\Python313\\Lib\\site-packages\\lightgbm\\basic.py:2159: UserWarning: categorical_feature in param dict is overridden.\n",
      "  _log_warning(f\"{cat_alias} in param dict is overridden.\")\n",
      "c:\\Users\\ivanj\\AppData\\Local\\Programs\\Python\\Python313\\Lib\\site-packages\\lightgbm\\basic.py:2137: UserWarning: categorical_feature keyword has been found in `params` and will be ignored.\n",
      "Please use categorical_feature argument of the Dataset constructor to pass this parameter.\n",
      "  _log_warning(\n",
      "c:\\Users\\ivanj\\AppData\\Local\\Programs\\Python\\Python313\\Lib\\site-packages\\lightgbm\\basic.py:2159: UserWarning: categorical_feature in param dict is overridden.\n",
      "  _log_warning(f\"{cat_alias} in param dict is overridden.\")\n",
      "c:\\Users\\ivanj\\AppData\\Local\\Programs\\Python\\Python313\\Lib\\site-packages\\lightgbm\\basic.py:2137: UserWarning: categorical_feature keyword has been found in `params` and will be ignored.\n",
      "Please use categorical_feature argument of the Dataset constructor to pass this parameter.\n",
      "  _log_warning(\n",
      "c:\\Users\\ivanj\\AppData\\Local\\Programs\\Python\\Python313\\Lib\\site-packages\\lightgbm\\basic.py:2159: UserWarning: categorical_feature in param dict is overridden.\n",
      "  _log_warning(f\"{cat_alias} in param dict is overridden.\")\n",
      "c:\\Users\\ivanj\\AppData\\Local\\Programs\\Python\\Python313\\Lib\\site-packages\\lightgbm\\basic.py:2137: UserWarning: categorical_feature keyword has been found in `params` and will be ignored.\n",
      "Please use categorical_feature argument of the Dataset constructor to pass this parameter.\n",
      "  _log_warning(\n",
      "c:\\Users\\ivanj\\AppData\\Local\\Programs\\Python\\Python313\\Lib\\site-packages\\lightgbm\\basic.py:2159: UserWarning: categorical_feature in param dict is overridden.\n",
      "  _log_warning(f\"{cat_alias} in param dict is overridden.\")\n",
      "c:\\Users\\ivanj\\AppData\\Local\\Programs\\Python\\Python313\\Lib\\site-packages\\lightgbm\\basic.py:2137: UserWarning: categorical_feature keyword has been found in `params` and will be ignored.\n",
      "Please use categorical_feature argument of the Dataset constructor to pass this parameter.\n",
      "  _log_warning(\n",
      "c:\\Users\\ivanj\\AppData\\Local\\Programs\\Python\\Python313\\Lib\\site-packages\\lightgbm\\basic.py:2159: UserWarning: categorical_feature in param dict is overridden.\n",
      "  _log_warning(f\"{cat_alias} in param dict is overridden.\")\n",
      "c:\\Users\\ivanj\\AppData\\Local\\Programs\\Python\\Python313\\Lib\\site-packages\\lightgbm\\basic.py:2137: UserWarning: categorical_feature keyword has been found in `params` and will be ignored.\n",
      "Please use categorical_feature argument of the Dataset constructor to pass this parameter.\n",
      "  _log_warning(\n",
      "c:\\Users\\ivanj\\AppData\\Local\\Programs\\Python\\Python313\\Lib\\site-packages\\lightgbm\\basic.py:2159: UserWarning: categorical_feature in param dict is overridden.\n",
      "  _log_warning(f\"{cat_alias} in param dict is overridden.\")\n",
      "c:\\Users\\ivanj\\AppData\\Local\\Programs\\Python\\Python313\\Lib\\site-packages\\lightgbm\\basic.py:2137: UserWarning: categorical_feature keyword has been found in `params` and will be ignored.\n",
      "Please use categorical_feature argument of the Dataset constructor to pass this parameter.\n",
      "  _log_warning(\n",
      "c:\\Users\\ivanj\\AppData\\Local\\Programs\\Python\\Python313\\Lib\\site-packages\\lightgbm\\basic.py:2159: UserWarning: categorical_feature in param dict is overridden.\n",
      "  _log_warning(f\"{cat_alias} in param dict is overridden.\")\n",
      "c:\\Users\\ivanj\\AppData\\Local\\Programs\\Python\\Python313\\Lib\\site-packages\\lightgbm\\basic.py:2137: UserWarning: categorical_feature keyword has been found in `params` and will be ignored.\n",
      "Please use categorical_feature argument of the Dataset constructor to pass this parameter.\n",
      "  _log_warning(\n",
      "c:\\Users\\ivanj\\AppData\\Local\\Programs\\Python\\Python313\\Lib\\site-packages\\lightgbm\\basic.py:2159: UserWarning: categorical_feature in param dict is overridden.\n",
      "  _log_warning(f\"{cat_alias} in param dict is overridden.\")\n"
     ]
    },
    {
     "name": "stdout",
     "output_type": "stream",
     "text": [
      "[LightGBM] [Warning] Using sparse features with CUDA is currently not supported.\n",
      "[LightGBM] [Warning] categorical_feature is set=lang, categorical_column=6 will be ignored. Current value: categorical_feature=lang\n",
      "[LightGBM] [Info] Number of positive: 6323, number of negative: 12544\n",
      "[CV] END learning_rate=0.001, n_estimators=500, num_leaves=15; total time=   0.0s\n",
      "[LightGBM] [Warning] Using sparse features with CUDA is currently not supported.\n",
      "[LightGBM] [Warning] categorical_feature is set=lang, categorical_column=6 will be ignored. Current value: categorical_feature=lang\n",
      "[LightGBM] [Info] Number of positive: 6323, number of negative: 12544\n",
      "[CV] END learning_rate=0.001, n_estimators=500, num_leaves=15; total time=   0.0s\n",
      "[LightGBM] [Warning] Using sparse features with CUDA is currently not supported.\n",
      "[LightGBM] [Warning] categorical_feature is set=lang, categorical_column=6 will be ignored. Current value: categorical_feature=lang\n",
      "[LightGBM] [Info] Number of positive: 6323, number of negative: 12544\n",
      "[CV] END learning_rate=0.001, n_estimators=500, num_leaves=15; total time=   0.0s\n",
      "[LightGBM] [Warning] Using sparse features with CUDA is currently not supported.\n",
      "[LightGBM] [Warning] categorical_feature is set=lang, categorical_column=6 will be ignored. Current value: categorical_feature=lang\n",
      "[LightGBM] [Info] Number of positive: 6323, number of negative: 12544\n",
      "[CV] END learning_rate=0.001, n_estimators=500, num_leaves=15; total time=   0.0s\n",
      "[LightGBM] [Warning] Using sparse features with CUDA is currently not supported.\n",
      "[LightGBM] [Warning] categorical_feature is set=lang, categorical_column=6 will be ignored. Current value: categorical_feature=lang\n",
      "[LightGBM] [Info] Number of positive: 6323, number of negative: 12545\n",
      "[CV] END learning_rate=0.001, n_estimators=500, num_leaves=15; total time=   0.0s\n",
      "[LightGBM] [Warning] Using sparse features with CUDA is currently not supported.\n",
      "[LightGBM] [Warning] categorical_feature is set=lang, categorical_column=6 will be ignored. Current value: categorical_feature=lang\n",
      "[LightGBM] [Info] Number of positive: 6323, number of negative: 12545\n",
      "[CV] END learning_rate=0.001, n_estimators=500, num_leaves=15; total time=   0.0s\n",
      "[LightGBM] [Warning] Using sparse features with CUDA is currently not supported.\n",
      "[LightGBM] [Warning] categorical_feature is set=lang, categorical_column=6 will be ignored. Current value: categorical_feature=lang\n",
      "[LightGBM] [Info] Number of positive: 6324, number of negative: 12544\n",
      "[CV] END learning_rate=0.001, n_estimators=500, num_leaves=15; total time=   0.0s\n",
      "[LightGBM] [Warning] Using sparse features with CUDA is currently not supported.\n",
      "[LightGBM] [Warning] categorical_feature is set=lang, categorical_column=6 will be ignored. Current value: categorical_feature=lang\n",
      "[LightGBM] [Info] Number of positive: 6324, number of negative: 12544\n",
      "[CV] END learning_rate=0.001, n_estimators=500, num_leaves=15; total time=   0.0s\n",
      "[LightGBM] [Warning] Using sparse features with CUDA is currently not supported.\n",
      "[LightGBM] [Warning] categorical_feature is set=lang, categorical_column=6 will be ignored. Current value: categorical_feature=lang\n",
      "[LightGBM] [Info] Number of positive: 6324, number of negative: 12544\n",
      "[CV] END learning_rate=0.001, n_estimators=500, num_leaves=15; total time=   0.0s\n",
      "[LightGBM] [Warning] Using sparse features with CUDA is currently not supported.\n",
      "[LightGBM] [Warning] categorical_feature is set=lang, categorical_column=6 will be ignored. Current value: categorical_feature=lang\n",
      "[LightGBM] [Info] Number of positive: 6324, number of negative: 12544\n",
      "[CV] END learning_rate=0.001, n_estimators=500, num_leaves=15; total time=   0.0s\n",
      "[LightGBM] [Warning] Using sparse features with CUDA is currently not supported.\n",
      "[LightGBM] [Warning] categorical_feature is set=lang, categorical_column=6 will be ignored. Current value: categorical_feature=lang\n",
      "[LightGBM] [Info] Number of positive: 6323, number of negative: 12544\n",
      "[CV] END learning_rate=0.001, n_estimators=500, num_leaves=30; total time=   0.0s\n",
      "[LightGBM] [Warning] Using sparse features with CUDA is currently not supported.\n",
      "[LightGBM] [Warning] categorical_feature is set=lang, categorical_column=6 will be ignored. Current value: categorical_feature=lang\n",
      "[LightGBM] [Info] Number of positive: 6323, number of negative: 12544\n",
      "[CV] END learning_rate=0.001, n_estimators=500, num_leaves=30; total time=   0.0s\n",
      "[LightGBM] [Warning] Using sparse features with CUDA is currently not supported.\n",
      "[LightGBM] [Warning] categorical_feature is set=lang, categorical_column=6 will be ignored. Current value: categorical_feature=lang\n",
      "[LightGBM] [Info] Number of positive: 6323, number of negative: 12544\n",
      "[CV] END learning_rate=0.001, n_estimators=500, num_leaves=30; total time=   0.0s\n",
      "[LightGBM] [Warning] Using sparse features with CUDA is currently not supported.\n",
      "[LightGBM] [Warning] categorical_feature is set=lang, categorical_column=6 will be ignored. Current value: categorical_feature=lang\n",
      "[LightGBM] [Info] Number of positive: 6323, number of negative: 12544\n",
      "[CV] END learning_rate=0.001, n_estimators=500, num_leaves=30; total time=   0.0s\n",
      "[LightGBM] [Warning] Using sparse features with CUDA is currently not supported.\n",
      "[LightGBM] [Warning] categorical_feature is set=lang, categorical_column=6 will be ignored. Current value: categorical_feature=lang\n",
      "[LightGBM] [Info] Number of positive: 6323, number of negative: 12545\n",
      "[CV] END learning_rate=0.001, n_estimators=500, num_leaves=30; total time=   0.0s\n",
      "[LightGBM] [Warning] Using sparse features with CUDA is currently not supported.\n",
      "[LightGBM] [Warning] categorical_feature is set=lang, categorical_column=6 will be ignored. Current value: categorical_feature=lang\n",
      "[LightGBM] [Info] Number of positive: 6323, number of negative: 12545\n",
      "[CV] END learning_rate=0.001, n_estimators=500, num_leaves=30; total time=   0.0s\n",
      "[LightGBM] [Warning] Using sparse features with CUDA is currently not supported.\n",
      "[LightGBM] [Warning] categorical_feature is set=lang, categorical_column=6 will be ignored. Current value: categorical_feature=lang\n",
      "[LightGBM] [Info] Number of positive: 6324, number of negative: 12544\n"
     ]
    },
    {
     "name": "stderr",
     "output_type": "stream",
     "text": [
      "c:\\Users\\ivanj\\AppData\\Local\\Programs\\Python\\Python313\\Lib\\site-packages\\lightgbm\\basic.py:2137: UserWarning: categorical_feature keyword has been found in `params` and will be ignored.\n",
      "Please use categorical_feature argument of the Dataset constructor to pass this parameter.\n",
      "  _log_warning(\n",
      "c:\\Users\\ivanj\\AppData\\Local\\Programs\\Python\\Python313\\Lib\\site-packages\\lightgbm\\basic.py:2159: UserWarning: categorical_feature in param dict is overridden.\n",
      "  _log_warning(f\"{cat_alias} in param dict is overridden.\")\n",
      "c:\\Users\\ivanj\\AppData\\Local\\Programs\\Python\\Python313\\Lib\\site-packages\\lightgbm\\basic.py:2137: UserWarning: categorical_feature keyword has been found in `params` and will be ignored.\n",
      "Please use categorical_feature argument of the Dataset constructor to pass this parameter.\n",
      "  _log_warning(\n",
      "c:\\Users\\ivanj\\AppData\\Local\\Programs\\Python\\Python313\\Lib\\site-packages\\lightgbm\\basic.py:2159: UserWarning: categorical_feature in param dict is overridden.\n",
      "  _log_warning(f\"{cat_alias} in param dict is overridden.\")\n",
      "c:\\Users\\ivanj\\AppData\\Local\\Programs\\Python\\Python313\\Lib\\site-packages\\lightgbm\\basic.py:2137: UserWarning: categorical_feature keyword has been found in `params` and will be ignored.\n",
      "Please use categorical_feature argument of the Dataset constructor to pass this parameter.\n",
      "  _log_warning(\n",
      "c:\\Users\\ivanj\\AppData\\Local\\Programs\\Python\\Python313\\Lib\\site-packages\\lightgbm\\basic.py:2159: UserWarning: categorical_feature in param dict is overridden.\n",
      "  _log_warning(f\"{cat_alias} in param dict is overridden.\")\n",
      "c:\\Users\\ivanj\\AppData\\Local\\Programs\\Python\\Python313\\Lib\\site-packages\\lightgbm\\basic.py:2137: UserWarning: categorical_feature keyword has been found in `params` and will be ignored.\n",
      "Please use categorical_feature argument of the Dataset constructor to pass this parameter.\n",
      "  _log_warning(\n",
      "c:\\Users\\ivanj\\AppData\\Local\\Programs\\Python\\Python313\\Lib\\site-packages\\lightgbm\\basic.py:2159: UserWarning: categorical_feature in param dict is overridden.\n",
      "  _log_warning(f\"{cat_alias} in param dict is overridden.\")\n",
      "c:\\Users\\ivanj\\AppData\\Local\\Programs\\Python\\Python313\\Lib\\site-packages\\lightgbm\\basic.py:2137: UserWarning: categorical_feature keyword has been found in `params` and will be ignored.\n",
      "Please use categorical_feature argument of the Dataset constructor to pass this parameter.\n",
      "  _log_warning(\n",
      "c:\\Users\\ivanj\\AppData\\Local\\Programs\\Python\\Python313\\Lib\\site-packages\\lightgbm\\basic.py:2159: UserWarning: categorical_feature in param dict is overridden.\n",
      "  _log_warning(f\"{cat_alias} in param dict is overridden.\")\n",
      "c:\\Users\\ivanj\\AppData\\Local\\Programs\\Python\\Python313\\Lib\\site-packages\\lightgbm\\basic.py:2137: UserWarning: categorical_feature keyword has been found in `params` and will be ignored.\n",
      "Please use categorical_feature argument of the Dataset constructor to pass this parameter.\n",
      "  _log_warning(\n",
      "c:\\Users\\ivanj\\AppData\\Local\\Programs\\Python\\Python313\\Lib\\site-packages\\lightgbm\\basic.py:2159: UserWarning: categorical_feature in param dict is overridden.\n",
      "  _log_warning(f\"{cat_alias} in param dict is overridden.\")\n",
      "c:\\Users\\ivanj\\AppData\\Local\\Programs\\Python\\Python313\\Lib\\site-packages\\lightgbm\\basic.py:2137: UserWarning: categorical_feature keyword has been found in `params` and will be ignored.\n",
      "Please use categorical_feature argument of the Dataset constructor to pass this parameter.\n",
      "  _log_warning(\n",
      "c:\\Users\\ivanj\\AppData\\Local\\Programs\\Python\\Python313\\Lib\\site-packages\\lightgbm\\basic.py:2159: UserWarning: categorical_feature in param dict is overridden.\n",
      "  _log_warning(f\"{cat_alias} in param dict is overridden.\")\n",
      "c:\\Users\\ivanj\\AppData\\Local\\Programs\\Python\\Python313\\Lib\\site-packages\\lightgbm\\basic.py:2137: UserWarning: categorical_feature keyword has been found in `params` and will be ignored.\n",
      "Please use categorical_feature argument of the Dataset constructor to pass this parameter.\n",
      "  _log_warning(\n",
      "c:\\Users\\ivanj\\AppData\\Local\\Programs\\Python\\Python313\\Lib\\site-packages\\lightgbm\\basic.py:2159: UserWarning: categorical_feature in param dict is overridden.\n",
      "  _log_warning(f\"{cat_alias} in param dict is overridden.\")\n",
      "c:\\Users\\ivanj\\AppData\\Local\\Programs\\Python\\Python313\\Lib\\site-packages\\lightgbm\\basic.py:2137: UserWarning: categorical_feature keyword has been found in `params` and will be ignored.\n",
      "Please use categorical_feature argument of the Dataset constructor to pass this parameter.\n",
      "  _log_warning(\n",
      "c:\\Users\\ivanj\\AppData\\Local\\Programs\\Python\\Python313\\Lib\\site-packages\\lightgbm\\basic.py:2159: UserWarning: categorical_feature in param dict is overridden.\n",
      "  _log_warning(f\"{cat_alias} in param dict is overridden.\")\n",
      "c:\\Users\\ivanj\\AppData\\Local\\Programs\\Python\\Python313\\Lib\\site-packages\\lightgbm\\basic.py:2137: UserWarning: categorical_feature keyword has been found in `params` and will be ignored.\n",
      "Please use categorical_feature argument of the Dataset constructor to pass this parameter.\n",
      "  _log_warning(\n",
      "c:\\Users\\ivanj\\AppData\\Local\\Programs\\Python\\Python313\\Lib\\site-packages\\lightgbm\\basic.py:2159: UserWarning: categorical_feature in param dict is overridden.\n",
      "  _log_warning(f\"{cat_alias} in param dict is overridden.\")\n",
      "c:\\Users\\ivanj\\AppData\\Local\\Programs\\Python\\Python313\\Lib\\site-packages\\lightgbm\\basic.py:2137: UserWarning: categorical_feature keyword has been found in `params` and will be ignored.\n",
      "Please use categorical_feature argument of the Dataset constructor to pass this parameter.\n",
      "  _log_warning(\n",
      "c:\\Users\\ivanj\\AppData\\Local\\Programs\\Python\\Python313\\Lib\\site-packages\\lightgbm\\basic.py:2159: UserWarning: categorical_feature in param dict is overridden.\n",
      "  _log_warning(f\"{cat_alias} in param dict is overridden.\")\n",
      "c:\\Users\\ivanj\\AppData\\Local\\Programs\\Python\\Python313\\Lib\\site-packages\\lightgbm\\basic.py:2137: UserWarning: categorical_feature keyword has been found in `params` and will be ignored.\n",
      "Please use categorical_feature argument of the Dataset constructor to pass this parameter.\n",
      "  _log_warning(\n",
      "c:\\Users\\ivanj\\AppData\\Local\\Programs\\Python\\Python313\\Lib\\site-packages\\lightgbm\\basic.py:2159: UserWarning: categorical_feature in param dict is overridden.\n",
      "  _log_warning(f\"{cat_alias} in param dict is overridden.\")\n",
      "c:\\Users\\ivanj\\AppData\\Local\\Programs\\Python\\Python313\\Lib\\site-packages\\lightgbm\\basic.py:2137: UserWarning: categorical_feature keyword has been found in `params` and will be ignored.\n",
      "Please use categorical_feature argument of the Dataset constructor to pass this parameter.\n",
      "  _log_warning(\n",
      "c:\\Users\\ivanj\\AppData\\Local\\Programs\\Python\\Python313\\Lib\\site-packages\\lightgbm\\basic.py:2159: UserWarning: categorical_feature in param dict is overridden.\n",
      "  _log_warning(f\"{cat_alias} in param dict is overridden.\")\n",
      "c:\\Users\\ivanj\\AppData\\Local\\Programs\\Python\\Python313\\Lib\\site-packages\\lightgbm\\basic.py:2137: UserWarning: categorical_feature keyword has been found in `params` and will be ignored.\n",
      "Please use categorical_feature argument of the Dataset constructor to pass this parameter.\n",
      "  _log_warning(\n",
      "c:\\Users\\ivanj\\AppData\\Local\\Programs\\Python\\Python313\\Lib\\site-packages\\lightgbm\\basic.py:2159: UserWarning: categorical_feature in param dict is overridden.\n",
      "  _log_warning(f\"{cat_alias} in param dict is overridden.\")\n",
      "c:\\Users\\ivanj\\AppData\\Local\\Programs\\Python\\Python313\\Lib\\site-packages\\lightgbm\\basic.py:2137: UserWarning: categorical_feature keyword has been found in `params` and will be ignored.\n",
      "Please use categorical_feature argument of the Dataset constructor to pass this parameter.\n",
      "  _log_warning(\n",
      "c:\\Users\\ivanj\\AppData\\Local\\Programs\\Python\\Python313\\Lib\\site-packages\\lightgbm\\basic.py:2159: UserWarning: categorical_feature in param dict is overridden.\n",
      "  _log_warning(f\"{cat_alias} in param dict is overridden.\")\n",
      "c:\\Users\\ivanj\\AppData\\Local\\Programs\\Python\\Python313\\Lib\\site-packages\\lightgbm\\basic.py:2137: UserWarning: categorical_feature keyword has been found in `params` and will be ignored.\n",
      "Please use categorical_feature argument of the Dataset constructor to pass this parameter.\n",
      "  _log_warning(\n",
      "c:\\Users\\ivanj\\AppData\\Local\\Programs\\Python\\Python313\\Lib\\site-packages\\lightgbm\\basic.py:2159: UserWarning: categorical_feature in param dict is overridden.\n",
      "  _log_warning(f\"{cat_alias} in param dict is overridden.\")\n"
     ]
    },
    {
     "name": "stdout",
     "output_type": "stream",
     "text": [
      "[CV] END learning_rate=0.001, n_estimators=500, num_leaves=30; total time=   0.0s\n",
      "[LightGBM] [Warning] Using sparse features with CUDA is currently not supported.\n",
      "[LightGBM] [Warning] categorical_feature is set=lang, categorical_column=6 will be ignored. Current value: categorical_feature=lang\n",
      "[LightGBM] [Info] Number of positive: 6324, number of negative: 12544\n",
      "[CV] END learning_rate=0.001, n_estimators=500, num_leaves=30; total time=   0.0s\n",
      "[LightGBM] [Warning] Using sparse features with CUDA is currently not supported.\n",
      "[LightGBM] [Warning] categorical_feature is set=lang, categorical_column=6 will be ignored. Current value: categorical_feature=lang\n",
      "[LightGBM] [Info] Number of positive: 6324, number of negative: 12544\n",
      "[CV] END learning_rate=0.001, n_estimators=500, num_leaves=30; total time=   0.0s\n",
      "[LightGBM] [Warning] Using sparse features with CUDA is currently not supported.\n",
      "[LightGBM] [Warning] categorical_feature is set=lang, categorical_column=6 will be ignored. Current value: categorical_feature=lang\n",
      "[LightGBM] [Info] Number of positive: 6324, number of negative: 12544\n",
      "[CV] END learning_rate=0.001, n_estimators=500, num_leaves=30; total time=   0.0s\n",
      "[LightGBM] [Warning] Using sparse features with CUDA is currently not supported.\n",
      "[LightGBM] [Warning] categorical_feature is set=lang, categorical_column=6 will be ignored. Current value: categorical_feature=lang\n",
      "[LightGBM] [Info] Number of positive: 6323, number of negative: 12544\n",
      "[CV] END learning_rate=0.001, n_estimators=500, num_leaves=45; total time=   0.0s\n",
      "[LightGBM] [Warning] Using sparse features with CUDA is currently not supported.\n",
      "[LightGBM] [Warning] categorical_feature is set=lang, categorical_column=6 will be ignored. Current value: categorical_feature=lang\n",
      "[LightGBM] [Info] Number of positive: 6323, number of negative: 12544\n",
      "[CV] END learning_rate=0.001, n_estimators=500, num_leaves=45; total time=   0.0s\n",
      "[LightGBM] [Warning] Using sparse features with CUDA is currently not supported.\n",
      "[LightGBM] [Warning] categorical_feature is set=lang, categorical_column=6 will be ignored. Current value: categorical_feature=lang\n",
      "[LightGBM] [Info] Number of positive: 6323, number of negative: 12544\n",
      "[CV] END learning_rate=0.001, n_estimators=500, num_leaves=45; total time=   0.0s\n",
      "[LightGBM] [Warning] Using sparse features with CUDA is currently not supported.\n",
      "[LightGBM] [Warning] categorical_feature is set=lang, categorical_column=6 will be ignored. Current value: categorical_feature=lang\n",
      "[LightGBM] [Info] Number of positive: 6323, number of negative: 12544\n",
      "[CV] END learning_rate=0.001, n_estimators=500, num_leaves=45; total time=   0.0s\n",
      "[LightGBM] [Warning] Using sparse features with CUDA is currently not supported.\n",
      "[LightGBM] [Warning] categorical_feature is set=lang, categorical_column=6 will be ignored. Current value: categorical_feature=lang\n",
      "[LightGBM] [Info] Number of positive: 6323, number of negative: 12545\n",
      "[CV] END learning_rate=0.001, n_estimators=500, num_leaves=45; total time=   0.0s\n",
      "[LightGBM] [Warning] Using sparse features with CUDA is currently not supported.\n",
      "[LightGBM] [Warning] categorical_feature is set=lang, categorical_column=6 will be ignored. Current value: categorical_feature=lang\n",
      "[LightGBM] [Info] Number of positive: 6323, number of negative: 12545\n",
      "[CV] END learning_rate=0.001, n_estimators=500, num_leaves=45; total time=   0.0s\n",
      "[LightGBM] [Warning] Using sparse features with CUDA is currently not supported.\n",
      "[LightGBM] [Warning] categorical_feature is set=lang, categorical_column=6 will be ignored. Current value: categorical_feature=lang\n",
      "[LightGBM] [Info] Number of positive: 6324, number of negative: 12544\n",
      "[CV] END learning_rate=0.001, n_estimators=500, num_leaves=45; total time=   0.0s\n",
      "[LightGBM] [Warning] Using sparse features with CUDA is currently not supported.\n",
      "[LightGBM] [Warning] categorical_feature is set=lang, categorical_column=6 will be ignored. Current value: categorical_feature=lang\n",
      "[LightGBM] [Info] Number of positive: 6324, number of negative: 12544\n",
      "[CV] END learning_rate=0.001, n_estimators=500, num_leaves=45; total time=   0.0s\n",
      "[LightGBM] [Warning] Using sparse features with CUDA is currently not supported.\n",
      "[LightGBM] [Warning] categorical_feature is set=lang, categorical_column=6 will be ignored. Current value: categorical_feature=lang\n",
      "[LightGBM] [Info] Number of positive: 6324, number of negative: 12544\n",
      "[CV] END learning_rate=0.001, n_estimators=500, num_leaves=45; total time=   0.0s\n",
      "[LightGBM] [Warning] Using sparse features with CUDA is currently not supported.\n",
      "[LightGBM] [Warning] categorical_feature is set=lang, categorical_column=6 will be ignored. Current value: categorical_feature=lang\n",
      "[LightGBM] [Info] Number of positive: 6324, number of negative: 12544\n",
      "[CV] END learning_rate=0.001, n_estimators=500, num_leaves=45; total time=   0.0s\n",
      "[LightGBM] [Warning] Using sparse features with CUDA is currently not supported.\n",
      "[LightGBM] [Warning] categorical_feature is set=lang, categorical_column=6 will be ignored. Current value: categorical_feature=lang\n",
      "[LightGBM] [Info] Number of positive: 6323, number of negative: 12544\n",
      "[CV] END learning_rate=0.001, n_estimators=600, num_leaves=15; total time=   0.0s\n",
      "[LightGBM] [Warning] Using sparse features with CUDA is currently not supported.\n",
      "[LightGBM] [Warning] categorical_feature is set=lang, categorical_column=6 will be ignored. Current value: categorical_feature=lang\n",
      "[LightGBM] [Info] Number of positive: 6323, number of negative: 12544\n",
      "[CV] END learning_rate=0.001, n_estimators=600, num_leaves=15; total time=   0.0s\n"
     ]
    },
    {
     "name": "stderr",
     "output_type": "stream",
     "text": [
      "c:\\Users\\ivanj\\AppData\\Local\\Programs\\Python\\Python313\\Lib\\site-packages\\lightgbm\\basic.py:2137: UserWarning: categorical_feature keyword has been found in `params` and will be ignored.\n",
      "Please use categorical_feature argument of the Dataset constructor to pass this parameter.\n",
      "  _log_warning(\n",
      "c:\\Users\\ivanj\\AppData\\Local\\Programs\\Python\\Python313\\Lib\\site-packages\\lightgbm\\basic.py:2159: UserWarning: categorical_feature in param dict is overridden.\n",
      "  _log_warning(f\"{cat_alias} in param dict is overridden.\")\n",
      "c:\\Users\\ivanj\\AppData\\Local\\Programs\\Python\\Python313\\Lib\\site-packages\\lightgbm\\basic.py:2137: UserWarning: categorical_feature keyword has been found in `params` and will be ignored.\n",
      "Please use categorical_feature argument of the Dataset constructor to pass this parameter.\n",
      "  _log_warning(\n",
      "c:\\Users\\ivanj\\AppData\\Local\\Programs\\Python\\Python313\\Lib\\site-packages\\lightgbm\\basic.py:2159: UserWarning: categorical_feature in param dict is overridden.\n",
      "  _log_warning(f\"{cat_alias} in param dict is overridden.\")\n",
      "c:\\Users\\ivanj\\AppData\\Local\\Programs\\Python\\Python313\\Lib\\site-packages\\lightgbm\\basic.py:2137: UserWarning: categorical_feature keyword has been found in `params` and will be ignored.\n",
      "Please use categorical_feature argument of the Dataset constructor to pass this parameter.\n",
      "  _log_warning(\n",
      "c:\\Users\\ivanj\\AppData\\Local\\Programs\\Python\\Python313\\Lib\\site-packages\\lightgbm\\basic.py:2159: UserWarning: categorical_feature in param dict is overridden.\n",
      "  _log_warning(f\"{cat_alias} in param dict is overridden.\")\n",
      "c:\\Users\\ivanj\\AppData\\Local\\Programs\\Python\\Python313\\Lib\\site-packages\\lightgbm\\basic.py:2137: UserWarning: categorical_feature keyword has been found in `params` and will be ignored.\n",
      "Please use categorical_feature argument of the Dataset constructor to pass this parameter.\n",
      "  _log_warning(\n",
      "c:\\Users\\ivanj\\AppData\\Local\\Programs\\Python\\Python313\\Lib\\site-packages\\lightgbm\\basic.py:2159: UserWarning: categorical_feature in param dict is overridden.\n",
      "  _log_warning(f\"{cat_alias} in param dict is overridden.\")\n",
      "c:\\Users\\ivanj\\AppData\\Local\\Programs\\Python\\Python313\\Lib\\site-packages\\lightgbm\\basic.py:2137: UserWarning: categorical_feature keyword has been found in `params` and will be ignored.\n",
      "Please use categorical_feature argument of the Dataset constructor to pass this parameter.\n",
      "  _log_warning(\n",
      "c:\\Users\\ivanj\\AppData\\Local\\Programs\\Python\\Python313\\Lib\\site-packages\\lightgbm\\basic.py:2159: UserWarning: categorical_feature in param dict is overridden.\n",
      "  _log_warning(f\"{cat_alias} in param dict is overridden.\")\n",
      "c:\\Users\\ivanj\\AppData\\Local\\Programs\\Python\\Python313\\Lib\\site-packages\\lightgbm\\basic.py:2137: UserWarning: categorical_feature keyword has been found in `params` and will be ignored.\n",
      "Please use categorical_feature argument of the Dataset constructor to pass this parameter.\n",
      "  _log_warning(\n",
      "c:\\Users\\ivanj\\AppData\\Local\\Programs\\Python\\Python313\\Lib\\site-packages\\lightgbm\\basic.py:2159: UserWarning: categorical_feature in param dict is overridden.\n",
      "  _log_warning(f\"{cat_alias} in param dict is overridden.\")\n",
      "c:\\Users\\ivanj\\AppData\\Local\\Programs\\Python\\Python313\\Lib\\site-packages\\lightgbm\\basic.py:2137: UserWarning: categorical_feature keyword has been found in `params` and will be ignored.\n",
      "Please use categorical_feature argument of the Dataset constructor to pass this parameter.\n",
      "  _log_warning(\n",
      "c:\\Users\\ivanj\\AppData\\Local\\Programs\\Python\\Python313\\Lib\\site-packages\\lightgbm\\basic.py:2159: UserWarning: categorical_feature in param dict is overridden.\n",
      "  _log_warning(f\"{cat_alias} in param dict is overridden.\")\n",
      "c:\\Users\\ivanj\\AppData\\Local\\Programs\\Python\\Python313\\Lib\\site-packages\\lightgbm\\basic.py:2137: UserWarning: categorical_feature keyword has been found in `params` and will be ignored.\n",
      "Please use categorical_feature argument of the Dataset constructor to pass this parameter.\n",
      "  _log_warning(\n",
      "c:\\Users\\ivanj\\AppData\\Local\\Programs\\Python\\Python313\\Lib\\site-packages\\lightgbm\\basic.py:2159: UserWarning: categorical_feature in param dict is overridden.\n",
      "  _log_warning(f\"{cat_alias} in param dict is overridden.\")\n",
      "c:\\Users\\ivanj\\AppData\\Local\\Programs\\Python\\Python313\\Lib\\site-packages\\lightgbm\\basic.py:2137: UserWarning: categorical_feature keyword has been found in `params` and will be ignored.\n",
      "Please use categorical_feature argument of the Dataset constructor to pass this parameter.\n",
      "  _log_warning(\n",
      "c:\\Users\\ivanj\\AppData\\Local\\Programs\\Python\\Python313\\Lib\\site-packages\\lightgbm\\basic.py:2159: UserWarning: categorical_feature in param dict is overridden.\n",
      "  _log_warning(f\"{cat_alias} in param dict is overridden.\")\n",
      "c:\\Users\\ivanj\\AppData\\Local\\Programs\\Python\\Python313\\Lib\\site-packages\\lightgbm\\basic.py:2137: UserWarning: categorical_feature keyword has been found in `params` and will be ignored.\n",
      "Please use categorical_feature argument of the Dataset constructor to pass this parameter.\n",
      "  _log_warning(\n",
      "c:\\Users\\ivanj\\AppData\\Local\\Programs\\Python\\Python313\\Lib\\site-packages\\lightgbm\\basic.py:2159: UserWarning: categorical_feature in param dict is overridden.\n",
      "  _log_warning(f\"{cat_alias} in param dict is overridden.\")\n",
      "c:\\Users\\ivanj\\AppData\\Local\\Programs\\Python\\Python313\\Lib\\site-packages\\lightgbm\\basic.py:2137: UserWarning: categorical_feature keyword has been found in `params` and will be ignored.\n",
      "Please use categorical_feature argument of the Dataset constructor to pass this parameter.\n",
      "  _log_warning(\n",
      "c:\\Users\\ivanj\\AppData\\Local\\Programs\\Python\\Python313\\Lib\\site-packages\\lightgbm\\basic.py:2159: UserWarning: categorical_feature in param dict is overridden.\n",
      "  _log_warning(f\"{cat_alias} in param dict is overridden.\")\n",
      "c:\\Users\\ivanj\\AppData\\Local\\Programs\\Python\\Python313\\Lib\\site-packages\\lightgbm\\basic.py:2137: UserWarning: categorical_feature keyword has been found in `params` and will be ignored.\n",
      "Please use categorical_feature argument of the Dataset constructor to pass this parameter.\n",
      "  _log_warning(\n",
      "c:\\Users\\ivanj\\AppData\\Local\\Programs\\Python\\Python313\\Lib\\site-packages\\lightgbm\\basic.py:2159: UserWarning: categorical_feature in param dict is overridden.\n",
      "  _log_warning(f\"{cat_alias} in param dict is overridden.\")\n",
      "c:\\Users\\ivanj\\AppData\\Local\\Programs\\Python\\Python313\\Lib\\site-packages\\lightgbm\\basic.py:2137: UserWarning: categorical_feature keyword has been found in `params` and will be ignored.\n",
      "Please use categorical_feature argument of the Dataset constructor to pass this parameter.\n",
      "  _log_warning(\n",
      "c:\\Users\\ivanj\\AppData\\Local\\Programs\\Python\\Python313\\Lib\\site-packages\\lightgbm\\basic.py:2159: UserWarning: categorical_feature in param dict is overridden.\n",
      "  _log_warning(f\"{cat_alias} in param dict is overridden.\")\n",
      "c:\\Users\\ivanj\\AppData\\Local\\Programs\\Python\\Python313\\Lib\\site-packages\\lightgbm\\basic.py:2137: UserWarning: categorical_feature keyword has been found in `params` and will be ignored.\n",
      "Please use categorical_feature argument of the Dataset constructor to pass this parameter.\n",
      "  _log_warning(\n",
      "c:\\Users\\ivanj\\AppData\\Local\\Programs\\Python\\Python313\\Lib\\site-packages\\lightgbm\\basic.py:2159: UserWarning: categorical_feature in param dict is overridden.\n",
      "  _log_warning(f\"{cat_alias} in param dict is overridden.\")\n",
      "c:\\Users\\ivanj\\AppData\\Local\\Programs\\Python\\Python313\\Lib\\site-packages\\lightgbm\\basic.py:2137: UserWarning: categorical_feature keyword has been found in `params` and will be ignored.\n",
      "Please use categorical_feature argument of the Dataset constructor to pass this parameter.\n",
      "  _log_warning(\n",
      "c:\\Users\\ivanj\\AppData\\Local\\Programs\\Python\\Python313\\Lib\\site-packages\\lightgbm\\basic.py:2159: UserWarning: categorical_feature in param dict is overridden.\n",
      "  _log_warning(f\"{cat_alias} in param dict is overridden.\")\n",
      "c:\\Users\\ivanj\\AppData\\Local\\Programs\\Python\\Python313\\Lib\\site-packages\\lightgbm\\basic.py:2137: UserWarning: categorical_feature keyword has been found in `params` and will be ignored.\n",
      "Please use categorical_feature argument of the Dataset constructor to pass this parameter.\n",
      "  _log_warning(\n",
      "c:\\Users\\ivanj\\AppData\\Local\\Programs\\Python\\Python313\\Lib\\site-packages\\lightgbm\\basic.py:2159: UserWarning: categorical_feature in param dict is overridden.\n",
      "  _log_warning(f\"{cat_alias} in param dict is overridden.\")\n"
     ]
    },
    {
     "name": "stdout",
     "output_type": "stream",
     "text": [
      "[LightGBM] [Warning] Using sparse features with CUDA is currently not supported.\n",
      "[LightGBM] [Warning] categorical_feature is set=lang, categorical_column=6 will be ignored. Current value: categorical_feature=lang\n",
      "[LightGBM] [Info] Number of positive: 6323, number of negative: 12544\n",
      "[CV] END learning_rate=0.001, n_estimators=600, num_leaves=15; total time=   0.0s\n",
      "[LightGBM] [Warning] Using sparse features with CUDA is currently not supported.\n",
      "[LightGBM] [Warning] categorical_feature is set=lang, categorical_column=6 will be ignored. Current value: categorical_feature=lang\n",
      "[LightGBM] [Info] Number of positive: 6323, number of negative: 12544\n",
      "[CV] END learning_rate=0.001, n_estimators=600, num_leaves=15; total time=   0.0s\n",
      "[LightGBM] [Warning] Using sparse features with CUDA is currently not supported.\n",
      "[LightGBM] [Warning] categorical_feature is set=lang, categorical_column=6 will be ignored. Current value: categorical_feature=lang\n",
      "[LightGBM] [Info] Number of positive: 6323, number of negative: 12545\n",
      "[CV] END learning_rate=0.001, n_estimators=600, num_leaves=15; total time=   0.0s\n",
      "[LightGBM] [Warning] Using sparse features with CUDA is currently not supported.\n",
      "[LightGBM] [Warning] categorical_feature is set=lang, categorical_column=6 will be ignored. Current value: categorical_feature=lang\n",
      "[LightGBM] [Info] Number of positive: 6323, number of negative: 12545\n",
      "[CV] END learning_rate=0.001, n_estimators=600, num_leaves=15; total time=   0.0s\n",
      "[LightGBM] [Warning] Using sparse features with CUDA is currently not supported.\n",
      "[LightGBM] [Warning] categorical_feature is set=lang, categorical_column=6 will be ignored. Current value: categorical_feature=lang\n",
      "[LightGBM] [Info] Number of positive: 6324, number of negative: 12544\n",
      "[CV] END learning_rate=0.001, n_estimators=600, num_leaves=15; total time=   0.0s\n",
      "[LightGBM] [Warning] Using sparse features with CUDA is currently not supported.\n",
      "[LightGBM] [Warning] categorical_feature is set=lang, categorical_column=6 will be ignored. Current value: categorical_feature=lang\n",
      "[LightGBM] [Info] Number of positive: 6324, number of negative: 12544\n",
      "[CV] END learning_rate=0.001, n_estimators=600, num_leaves=15; total time=   0.0s\n",
      "[LightGBM] [Warning] Using sparse features with CUDA is currently not supported.\n",
      "[LightGBM] [Warning] categorical_feature is set=lang, categorical_column=6 will be ignored. Current value: categorical_feature=lang\n",
      "[LightGBM] [Info] Number of positive: 6324, number of negative: 12544\n",
      "[CV] END learning_rate=0.001, n_estimators=600, num_leaves=15; total time=   0.0s\n",
      "[LightGBM] [Warning] Using sparse features with CUDA is currently not supported.\n",
      "[LightGBM] [Warning] categorical_feature is set=lang, categorical_column=6 will be ignored. Current value: categorical_feature=lang\n",
      "[LightGBM] [Info] Number of positive: 6324, number of negative: 12544\n",
      "[CV] END learning_rate=0.001, n_estimators=600, num_leaves=15; total time=   0.0s\n",
      "[LightGBM] [Warning] Using sparse features with CUDA is currently not supported.\n",
      "[LightGBM] [Warning] categorical_feature is set=lang, categorical_column=6 will be ignored. Current value: categorical_feature=lang\n",
      "[LightGBM] [Info] Number of positive: 6323, number of negative: 12544\n",
      "[CV] END learning_rate=0.001, n_estimators=600, num_leaves=30; total time=   0.0s\n",
      "[LightGBM] [Warning] Using sparse features with CUDA is currently not supported.\n",
      "[LightGBM] [Warning] categorical_feature is set=lang, categorical_column=6 will be ignored. Current value: categorical_feature=lang\n",
      "[LightGBM] [Info] Number of positive: 6323, number of negative: 12544\n",
      "[CV] END learning_rate=0.001, n_estimators=600, num_leaves=30; total time=   0.0s\n",
      "[LightGBM] [Warning] Using sparse features with CUDA is currently not supported.\n",
      "[LightGBM] [Warning] categorical_feature is set=lang, categorical_column=6 will be ignored. Current value: categorical_feature=lang\n",
      "[LightGBM] [Info] Number of positive: 6323, number of negative: 12544\n",
      "[CV] END learning_rate=0.001, n_estimators=600, num_leaves=30; total time=   0.0s\n",
      "[LightGBM] [Warning] Using sparse features with CUDA is currently not supported.\n",
      "[LightGBM] [Warning] categorical_feature is set=lang, categorical_column=6 will be ignored. Current value: categorical_feature=lang\n",
      "[LightGBM] [Info] Number of positive: 6323, number of negative: 12544\n",
      "[CV] END learning_rate=0.001, n_estimators=600, num_leaves=30; total time=   0.0s\n",
      "[LightGBM] [Warning] Using sparse features with CUDA is currently not supported.\n",
      "[LightGBM] [Warning] categorical_feature is set=lang, categorical_column=6 will be ignored. Current value: categorical_feature=lang\n",
      "[LightGBM] [Info] Number of positive: 6323, number of negative: 12545\n",
      "[CV] END learning_rate=0.001, n_estimators=600, num_leaves=30; total time=   0.0s\n",
      "[LightGBM] [Warning] Using sparse features with CUDA is currently not supported.\n",
      "[LightGBM] [Warning] categorical_feature is set=lang, categorical_column=6 will be ignored. Current value: categorical_feature=lang\n",
      "[LightGBM] [Info] Number of positive: 6323, number of negative: 12545\n",
      "[CV] END learning_rate=0.001, n_estimators=600, num_leaves=30; total time=   0.0s\n",
      "[LightGBM] [Warning] Using sparse features with CUDA is currently not supported.\n",
      "[LightGBM] [Warning] categorical_feature is set=lang, categorical_column=6 will be ignored. Current value: categorical_feature=lang\n",
      "[LightGBM] [Info] Number of positive: 6324, number of negative: 12544\n",
      "[CV] END learning_rate=0.001, n_estimators=600, num_leaves=30; total time=   0.0s\n",
      "[LightGBM] [Warning] Using sparse features with CUDA is currently not supported.\n",
      "[LightGBM] [Warning] categorical_feature is set=lang, categorical_column=6 will be ignored. Current value: categorical_feature=lang\n",
      "[LightGBM] [Info] Number of positive: 6324, number of negative: 12544\n",
      "[CV] END learning_rate=0.001, n_estimators=600, num_leaves=30; total time=   0.0s\n"
     ]
    },
    {
     "name": "stderr",
     "output_type": "stream",
     "text": [
      "c:\\Users\\ivanj\\AppData\\Local\\Programs\\Python\\Python313\\Lib\\site-packages\\lightgbm\\basic.py:2137: UserWarning: categorical_feature keyword has been found in `params` and will be ignored.\n",
      "Please use categorical_feature argument of the Dataset constructor to pass this parameter.\n",
      "  _log_warning(\n",
      "c:\\Users\\ivanj\\AppData\\Local\\Programs\\Python\\Python313\\Lib\\site-packages\\lightgbm\\basic.py:2159: UserWarning: categorical_feature in param dict is overridden.\n",
      "  _log_warning(f\"{cat_alias} in param dict is overridden.\")\n",
      "c:\\Users\\ivanj\\AppData\\Local\\Programs\\Python\\Python313\\Lib\\site-packages\\lightgbm\\basic.py:2137: UserWarning: categorical_feature keyword has been found in `params` and will be ignored.\n",
      "Please use categorical_feature argument of the Dataset constructor to pass this parameter.\n",
      "  _log_warning(\n",
      "c:\\Users\\ivanj\\AppData\\Local\\Programs\\Python\\Python313\\Lib\\site-packages\\lightgbm\\basic.py:2159: UserWarning: categorical_feature in param dict is overridden.\n",
      "  _log_warning(f\"{cat_alias} in param dict is overridden.\")\n",
      "c:\\Users\\ivanj\\AppData\\Local\\Programs\\Python\\Python313\\Lib\\site-packages\\lightgbm\\basic.py:2137: UserWarning: categorical_feature keyword has been found in `params` and will be ignored.\n",
      "Please use categorical_feature argument of the Dataset constructor to pass this parameter.\n",
      "  _log_warning(\n",
      "c:\\Users\\ivanj\\AppData\\Local\\Programs\\Python\\Python313\\Lib\\site-packages\\lightgbm\\basic.py:2159: UserWarning: categorical_feature in param dict is overridden.\n",
      "  _log_warning(f\"{cat_alias} in param dict is overridden.\")\n",
      "c:\\Users\\ivanj\\AppData\\Local\\Programs\\Python\\Python313\\Lib\\site-packages\\lightgbm\\basic.py:2137: UserWarning: categorical_feature keyword has been found in `params` and will be ignored.\n",
      "Please use categorical_feature argument of the Dataset constructor to pass this parameter.\n",
      "  _log_warning(\n",
      "c:\\Users\\ivanj\\AppData\\Local\\Programs\\Python\\Python313\\Lib\\site-packages\\lightgbm\\basic.py:2159: UserWarning: categorical_feature in param dict is overridden.\n",
      "  _log_warning(f\"{cat_alias} in param dict is overridden.\")\n",
      "c:\\Users\\ivanj\\AppData\\Local\\Programs\\Python\\Python313\\Lib\\site-packages\\lightgbm\\basic.py:2137: UserWarning: categorical_feature keyword has been found in `params` and will be ignored.\n",
      "Please use categorical_feature argument of the Dataset constructor to pass this parameter.\n",
      "  _log_warning(\n",
      "c:\\Users\\ivanj\\AppData\\Local\\Programs\\Python\\Python313\\Lib\\site-packages\\lightgbm\\basic.py:2159: UserWarning: categorical_feature in param dict is overridden.\n",
      "  _log_warning(f\"{cat_alias} in param dict is overridden.\")\n",
      "c:\\Users\\ivanj\\AppData\\Local\\Programs\\Python\\Python313\\Lib\\site-packages\\lightgbm\\basic.py:2137: UserWarning: categorical_feature keyword has been found in `params` and will be ignored.\n",
      "Please use categorical_feature argument of the Dataset constructor to pass this parameter.\n",
      "  _log_warning(\n",
      "c:\\Users\\ivanj\\AppData\\Local\\Programs\\Python\\Python313\\Lib\\site-packages\\lightgbm\\basic.py:2159: UserWarning: categorical_feature in param dict is overridden.\n",
      "  _log_warning(f\"{cat_alias} in param dict is overridden.\")\n",
      "c:\\Users\\ivanj\\AppData\\Local\\Programs\\Python\\Python313\\Lib\\site-packages\\lightgbm\\basic.py:2137: UserWarning: categorical_feature keyword has been found in `params` and will be ignored.\n",
      "Please use categorical_feature argument of the Dataset constructor to pass this parameter.\n",
      "  _log_warning(\n",
      "c:\\Users\\ivanj\\AppData\\Local\\Programs\\Python\\Python313\\Lib\\site-packages\\lightgbm\\basic.py:2159: UserWarning: categorical_feature in param dict is overridden.\n",
      "  _log_warning(f\"{cat_alias} in param dict is overridden.\")\n",
      "c:\\Users\\ivanj\\AppData\\Local\\Programs\\Python\\Python313\\Lib\\site-packages\\lightgbm\\basic.py:2137: UserWarning: categorical_feature keyword has been found in `params` and will be ignored.\n",
      "Please use categorical_feature argument of the Dataset constructor to pass this parameter.\n",
      "  _log_warning(\n",
      "c:\\Users\\ivanj\\AppData\\Local\\Programs\\Python\\Python313\\Lib\\site-packages\\lightgbm\\basic.py:2159: UserWarning: categorical_feature in param dict is overridden.\n",
      "  _log_warning(f\"{cat_alias} in param dict is overridden.\")\n",
      "c:\\Users\\ivanj\\AppData\\Local\\Programs\\Python\\Python313\\Lib\\site-packages\\lightgbm\\basic.py:2137: UserWarning: categorical_feature keyword has been found in `params` and will be ignored.\n",
      "Please use categorical_feature argument of the Dataset constructor to pass this parameter.\n",
      "  _log_warning(\n",
      "c:\\Users\\ivanj\\AppData\\Local\\Programs\\Python\\Python313\\Lib\\site-packages\\lightgbm\\basic.py:2159: UserWarning: categorical_feature in param dict is overridden.\n",
      "  _log_warning(f\"{cat_alias} in param dict is overridden.\")\n",
      "c:\\Users\\ivanj\\AppData\\Local\\Programs\\Python\\Python313\\Lib\\site-packages\\lightgbm\\basic.py:2137: UserWarning: categorical_feature keyword has been found in `params` and will be ignored.\n",
      "Please use categorical_feature argument of the Dataset constructor to pass this parameter.\n",
      "  _log_warning(\n",
      "c:\\Users\\ivanj\\AppData\\Local\\Programs\\Python\\Python313\\Lib\\site-packages\\lightgbm\\basic.py:2159: UserWarning: categorical_feature in param dict is overridden.\n",
      "  _log_warning(f\"{cat_alias} in param dict is overridden.\")\n",
      "c:\\Users\\ivanj\\AppData\\Local\\Programs\\Python\\Python313\\Lib\\site-packages\\lightgbm\\basic.py:2137: UserWarning: categorical_feature keyword has been found in `params` and will be ignored.\n",
      "Please use categorical_feature argument of the Dataset constructor to pass this parameter.\n",
      "  _log_warning(\n",
      "c:\\Users\\ivanj\\AppData\\Local\\Programs\\Python\\Python313\\Lib\\site-packages\\lightgbm\\basic.py:2159: UserWarning: categorical_feature in param dict is overridden.\n",
      "  _log_warning(f\"{cat_alias} in param dict is overridden.\")\n",
      "c:\\Users\\ivanj\\AppData\\Local\\Programs\\Python\\Python313\\Lib\\site-packages\\lightgbm\\basic.py:2137: UserWarning: categorical_feature keyword has been found in `params` and will be ignored.\n",
      "Please use categorical_feature argument of the Dataset constructor to pass this parameter.\n",
      "  _log_warning(\n",
      "c:\\Users\\ivanj\\AppData\\Local\\Programs\\Python\\Python313\\Lib\\site-packages\\lightgbm\\basic.py:2159: UserWarning: categorical_feature in param dict is overridden.\n",
      "  _log_warning(f\"{cat_alias} in param dict is overridden.\")\n",
      "c:\\Users\\ivanj\\AppData\\Local\\Programs\\Python\\Python313\\Lib\\site-packages\\lightgbm\\basic.py:2137: UserWarning: categorical_feature keyword has been found in `params` and will be ignored.\n",
      "Please use categorical_feature argument of the Dataset constructor to pass this parameter.\n",
      "  _log_warning(\n",
      "c:\\Users\\ivanj\\AppData\\Local\\Programs\\Python\\Python313\\Lib\\site-packages\\lightgbm\\basic.py:2159: UserWarning: categorical_feature in param dict is overridden.\n",
      "  _log_warning(f\"{cat_alias} in param dict is overridden.\")\n",
      "c:\\Users\\ivanj\\AppData\\Local\\Programs\\Python\\Python313\\Lib\\site-packages\\lightgbm\\basic.py:2137: UserWarning: categorical_feature keyword has been found in `params` and will be ignored.\n",
      "Please use categorical_feature argument of the Dataset constructor to pass this parameter.\n",
      "  _log_warning(\n",
      "c:\\Users\\ivanj\\AppData\\Local\\Programs\\Python\\Python313\\Lib\\site-packages\\lightgbm\\basic.py:2159: UserWarning: categorical_feature in param dict is overridden.\n",
      "  _log_warning(f\"{cat_alias} in param dict is overridden.\")\n",
      "c:\\Users\\ivanj\\AppData\\Local\\Programs\\Python\\Python313\\Lib\\site-packages\\lightgbm\\basic.py:2137: UserWarning: categorical_feature keyword has been found in `params` and will be ignored.\n",
      "Please use categorical_feature argument of the Dataset constructor to pass this parameter.\n",
      "  _log_warning(\n",
      "c:\\Users\\ivanj\\AppData\\Local\\Programs\\Python\\Python313\\Lib\\site-packages\\lightgbm\\basic.py:2159: UserWarning: categorical_feature in param dict is overridden.\n",
      "  _log_warning(f\"{cat_alias} in param dict is overridden.\")\n",
      "c:\\Users\\ivanj\\AppData\\Local\\Programs\\Python\\Python313\\Lib\\site-packages\\lightgbm\\basic.py:2137: UserWarning: categorical_feature keyword has been found in `params` and will be ignored.\n",
      "Please use categorical_feature argument of the Dataset constructor to pass this parameter.\n",
      "  _log_warning(\n",
      "c:\\Users\\ivanj\\AppData\\Local\\Programs\\Python\\Python313\\Lib\\site-packages\\lightgbm\\basic.py:2159: UserWarning: categorical_feature in param dict is overridden.\n",
      "  _log_warning(f\"{cat_alias} in param dict is overridden.\")\n",
      "c:\\Users\\ivanj\\AppData\\Local\\Programs\\Python\\Python313\\Lib\\site-packages\\lightgbm\\basic.py:2137: UserWarning: categorical_feature keyword has been found in `params` and will be ignored.\n",
      "Please use categorical_feature argument of the Dataset constructor to pass this parameter.\n",
      "  _log_warning(\n",
      "c:\\Users\\ivanj\\AppData\\Local\\Programs\\Python\\Python313\\Lib\\site-packages\\lightgbm\\basic.py:2159: UserWarning: categorical_feature in param dict is overridden.\n",
      "  _log_warning(f\"{cat_alias} in param dict is overridden.\")\n"
     ]
    },
    {
     "name": "stdout",
     "output_type": "stream",
     "text": [
      "[LightGBM] [Warning] Using sparse features with CUDA is currently not supported.\n",
      "[LightGBM] [Warning] categorical_feature is set=lang, categorical_column=6 will be ignored. Current value: categorical_feature=lang\n",
      "[LightGBM] [Info] Number of positive: 6324, number of negative: 12544\n",
      "[CV] END learning_rate=0.001, n_estimators=600, num_leaves=30; total time=   0.0s\n",
      "[LightGBM] [Warning] Using sparse features with CUDA is currently not supported.\n",
      "[LightGBM] [Warning] categorical_feature is set=lang, categorical_column=6 will be ignored. Current value: categorical_feature=lang\n",
      "[LightGBM] [Info] Number of positive: 6324, number of negative: 12544\n",
      "[CV] END learning_rate=0.001, n_estimators=600, num_leaves=30; total time=   0.0s\n",
      "[LightGBM] [Warning] Using sparse features with CUDA is currently not supported.\n",
      "[LightGBM] [Warning] categorical_feature is set=lang, categorical_column=6 will be ignored. Current value: categorical_feature=lang\n",
      "[LightGBM] [Info] Number of positive: 6323, number of negative: 12544\n",
      "[CV] END learning_rate=0.001, n_estimators=600, num_leaves=45; total time=   0.0s\n",
      "[LightGBM] [Warning] Using sparse features with CUDA is currently not supported.\n",
      "[LightGBM] [Warning] categorical_feature is set=lang, categorical_column=6 will be ignored. Current value: categorical_feature=lang\n",
      "[LightGBM] [Info] Number of positive: 6323, number of negative: 12544\n",
      "[CV] END learning_rate=0.001, n_estimators=600, num_leaves=45; total time=   0.0s\n",
      "[LightGBM] [Warning] Using sparse features with CUDA is currently not supported.\n",
      "[LightGBM] [Warning] categorical_feature is set=lang, categorical_column=6 will be ignored. Current value: categorical_feature=lang\n",
      "[LightGBM] [Info] Number of positive: 6323, number of negative: 12544\n",
      "[CV] END learning_rate=0.001, n_estimators=600, num_leaves=45; total time=   0.0s\n",
      "[LightGBM] [Warning] Using sparse features with CUDA is currently not supported.\n",
      "[LightGBM] [Warning] categorical_feature is set=lang, categorical_column=6 will be ignored. Current value: categorical_feature=lang\n",
      "[LightGBM] [Info] Number of positive: 6323, number of negative: 12544\n",
      "[CV] END learning_rate=0.001, n_estimators=600, num_leaves=45; total time=   0.0s\n",
      "[LightGBM] [Warning] Using sparse features with CUDA is currently not supported.\n",
      "[LightGBM] [Warning] categorical_feature is set=lang, categorical_column=6 will be ignored. Current value: categorical_feature=lang\n",
      "[LightGBM] [Info] Number of positive: 6323, number of negative: 12545\n",
      "[CV] END learning_rate=0.001, n_estimators=600, num_leaves=45; total time=   0.0s\n",
      "[LightGBM] [Warning] Using sparse features with CUDA is currently not supported.\n",
      "[LightGBM] [Warning] categorical_feature is set=lang, categorical_column=6 will be ignored. Current value: categorical_feature=lang\n",
      "[LightGBM] [Info] Number of positive: 6323, number of negative: 12545\n",
      "[CV] END learning_rate=0.001, n_estimators=600, num_leaves=45; total time=   0.0s\n",
      "[LightGBM] [Warning] Using sparse features with CUDA is currently not supported.\n",
      "[LightGBM] [Warning] categorical_feature is set=lang, categorical_column=6 will be ignored. Current value: categorical_feature=lang\n",
      "[LightGBM] [Info] Number of positive: 6324, number of negative: 12544\n",
      "[CV] END learning_rate=0.001, n_estimators=600, num_leaves=45; total time=   0.0s\n",
      "[LightGBM] [Warning] Using sparse features with CUDA is currently not supported.\n",
      "[LightGBM] [Warning] categorical_feature is set=lang, categorical_column=6 will be ignored. Current value: categorical_feature=lang\n",
      "[LightGBM] [Info] Number of positive: 6324, number of negative: 12544\n",
      "[CV] END learning_rate=0.001, n_estimators=600, num_leaves=45; total time=   0.0s\n",
      "[LightGBM] [Warning] Using sparse features with CUDA is currently not supported.\n",
      "[LightGBM] [Warning] categorical_feature is set=lang, categorical_column=6 will be ignored. Current value: categorical_feature=lang\n",
      "[LightGBM] [Info] Number of positive: 6324, number of negative: 12544\n",
      "[CV] END learning_rate=0.001, n_estimators=600, num_leaves=45; total time=   0.0s\n",
      "[LightGBM] [Warning] Using sparse features with CUDA is currently not supported.\n",
      "[LightGBM] [Warning] categorical_feature is set=lang, categorical_column=6 will be ignored. Current value: categorical_feature=lang\n",
      "[LightGBM] [Info] Number of positive: 6324, number of negative: 12544\n",
      "[CV] END learning_rate=0.001, n_estimators=600, num_leaves=45; total time=   0.0s\n",
      "[LightGBM] [Warning] Using sparse features with CUDA is currently not supported.\n",
      "[LightGBM] [Warning] categorical_feature is set=lang, categorical_column=6 will be ignored. Current value: categorical_feature=lang\n",
      "[LightGBM] [Info] Number of positive: 6323, number of negative: 12544\n",
      "[CV] END learning_rate=0.01, n_estimators=400, num_leaves=15; total time=   0.0s\n",
      "[LightGBM] [Warning] Using sparse features with CUDA is currently not supported.\n",
      "[LightGBM] [Warning] categorical_feature is set=lang, categorical_column=6 will be ignored. Current value: categorical_feature=lang\n",
      "[LightGBM] [Info] Number of positive: 6323, number of negative: 12544\n",
      "[CV] END learning_rate=0.01, n_estimators=400, num_leaves=15; total time=   0.0s\n",
      "[LightGBM] [Warning] Using sparse features with CUDA is currently not supported.\n",
      "[LightGBM] [Warning] categorical_feature is set=lang, categorical_column=6 will be ignored. Current value: categorical_feature=lang\n",
      "[LightGBM] [Info] Number of positive: 6323, number of negative: 12544\n",
      "[CV] END learning_rate=0.01, n_estimators=400, num_leaves=15; total time=   0.0s\n"
     ]
    },
    {
     "name": "stderr",
     "output_type": "stream",
     "text": [
      "c:\\Users\\ivanj\\AppData\\Local\\Programs\\Python\\Python313\\Lib\\site-packages\\lightgbm\\basic.py:2137: UserWarning: categorical_feature keyword has been found in `params` and will be ignored.\n",
      "Please use categorical_feature argument of the Dataset constructor to pass this parameter.\n",
      "  _log_warning(\n",
      "c:\\Users\\ivanj\\AppData\\Local\\Programs\\Python\\Python313\\Lib\\site-packages\\lightgbm\\basic.py:2159: UserWarning: categorical_feature in param dict is overridden.\n",
      "  _log_warning(f\"{cat_alias} in param dict is overridden.\")\n",
      "c:\\Users\\ivanj\\AppData\\Local\\Programs\\Python\\Python313\\Lib\\site-packages\\lightgbm\\basic.py:2137: UserWarning: categorical_feature keyword has been found in `params` and will be ignored.\n",
      "Please use categorical_feature argument of the Dataset constructor to pass this parameter.\n",
      "  _log_warning(\n",
      "c:\\Users\\ivanj\\AppData\\Local\\Programs\\Python\\Python313\\Lib\\site-packages\\lightgbm\\basic.py:2159: UserWarning: categorical_feature in param dict is overridden.\n",
      "  _log_warning(f\"{cat_alias} in param dict is overridden.\")\n",
      "c:\\Users\\ivanj\\AppData\\Local\\Programs\\Python\\Python313\\Lib\\site-packages\\lightgbm\\basic.py:2137: UserWarning: categorical_feature keyword has been found in `params` and will be ignored.\n",
      "Please use categorical_feature argument of the Dataset constructor to pass this parameter.\n",
      "  _log_warning(\n",
      "c:\\Users\\ivanj\\AppData\\Local\\Programs\\Python\\Python313\\Lib\\site-packages\\lightgbm\\basic.py:2159: UserWarning: categorical_feature in param dict is overridden.\n",
      "  _log_warning(f\"{cat_alias} in param dict is overridden.\")\n",
      "c:\\Users\\ivanj\\AppData\\Local\\Programs\\Python\\Python313\\Lib\\site-packages\\lightgbm\\basic.py:2137: UserWarning: categorical_feature keyword has been found in `params` and will be ignored.\n",
      "Please use categorical_feature argument of the Dataset constructor to pass this parameter.\n",
      "  _log_warning(\n",
      "c:\\Users\\ivanj\\AppData\\Local\\Programs\\Python\\Python313\\Lib\\site-packages\\lightgbm\\basic.py:2159: UserWarning: categorical_feature in param dict is overridden.\n",
      "  _log_warning(f\"{cat_alias} in param dict is overridden.\")\n",
      "c:\\Users\\ivanj\\AppData\\Local\\Programs\\Python\\Python313\\Lib\\site-packages\\lightgbm\\basic.py:2137: UserWarning: categorical_feature keyword has been found in `params` and will be ignored.\n",
      "Please use categorical_feature argument of the Dataset constructor to pass this parameter.\n",
      "  _log_warning(\n",
      "c:\\Users\\ivanj\\AppData\\Local\\Programs\\Python\\Python313\\Lib\\site-packages\\lightgbm\\basic.py:2159: UserWarning: categorical_feature in param dict is overridden.\n",
      "  _log_warning(f\"{cat_alias} in param dict is overridden.\")\n",
      "c:\\Users\\ivanj\\AppData\\Local\\Programs\\Python\\Python313\\Lib\\site-packages\\lightgbm\\basic.py:2137: UserWarning: categorical_feature keyword has been found in `params` and will be ignored.\n",
      "Please use categorical_feature argument of the Dataset constructor to pass this parameter.\n",
      "  _log_warning(\n",
      "c:\\Users\\ivanj\\AppData\\Local\\Programs\\Python\\Python313\\Lib\\site-packages\\lightgbm\\basic.py:2159: UserWarning: categorical_feature in param dict is overridden.\n",
      "  _log_warning(f\"{cat_alias} in param dict is overridden.\")\n",
      "c:\\Users\\ivanj\\AppData\\Local\\Programs\\Python\\Python313\\Lib\\site-packages\\lightgbm\\basic.py:2137: UserWarning: categorical_feature keyword has been found in `params` and will be ignored.\n",
      "Please use categorical_feature argument of the Dataset constructor to pass this parameter.\n",
      "  _log_warning(\n",
      "c:\\Users\\ivanj\\AppData\\Local\\Programs\\Python\\Python313\\Lib\\site-packages\\lightgbm\\basic.py:2159: UserWarning: categorical_feature in param dict is overridden.\n",
      "  _log_warning(f\"{cat_alias} in param dict is overridden.\")\n",
      "c:\\Users\\ivanj\\AppData\\Local\\Programs\\Python\\Python313\\Lib\\site-packages\\lightgbm\\basic.py:2137: UserWarning: categorical_feature keyword has been found in `params` and will be ignored.\n",
      "Please use categorical_feature argument of the Dataset constructor to pass this parameter.\n",
      "  _log_warning(\n",
      "c:\\Users\\ivanj\\AppData\\Local\\Programs\\Python\\Python313\\Lib\\site-packages\\lightgbm\\basic.py:2159: UserWarning: categorical_feature in param dict is overridden.\n",
      "  _log_warning(f\"{cat_alias} in param dict is overridden.\")\n",
      "c:\\Users\\ivanj\\AppData\\Local\\Programs\\Python\\Python313\\Lib\\site-packages\\lightgbm\\basic.py:2137: UserWarning: categorical_feature keyword has been found in `params` and will be ignored.\n",
      "Please use categorical_feature argument of the Dataset constructor to pass this parameter.\n",
      "  _log_warning(\n",
      "c:\\Users\\ivanj\\AppData\\Local\\Programs\\Python\\Python313\\Lib\\site-packages\\lightgbm\\basic.py:2159: UserWarning: categorical_feature in param dict is overridden.\n",
      "  _log_warning(f\"{cat_alias} in param dict is overridden.\")\n",
      "c:\\Users\\ivanj\\AppData\\Local\\Programs\\Python\\Python313\\Lib\\site-packages\\lightgbm\\basic.py:2137: UserWarning: categorical_feature keyword has been found in `params` and will be ignored.\n",
      "Please use categorical_feature argument of the Dataset constructor to pass this parameter.\n",
      "  _log_warning(\n",
      "c:\\Users\\ivanj\\AppData\\Local\\Programs\\Python\\Python313\\Lib\\site-packages\\lightgbm\\basic.py:2159: UserWarning: categorical_feature in param dict is overridden.\n",
      "  _log_warning(f\"{cat_alias} in param dict is overridden.\")\n",
      "c:\\Users\\ivanj\\AppData\\Local\\Programs\\Python\\Python313\\Lib\\site-packages\\lightgbm\\basic.py:2137: UserWarning: categorical_feature keyword has been found in `params` and will be ignored.\n",
      "Please use categorical_feature argument of the Dataset constructor to pass this parameter.\n",
      "  _log_warning(\n",
      "c:\\Users\\ivanj\\AppData\\Local\\Programs\\Python\\Python313\\Lib\\site-packages\\lightgbm\\basic.py:2159: UserWarning: categorical_feature in param dict is overridden.\n",
      "  _log_warning(f\"{cat_alias} in param dict is overridden.\")\n",
      "c:\\Users\\ivanj\\AppData\\Local\\Programs\\Python\\Python313\\Lib\\site-packages\\lightgbm\\basic.py:2137: UserWarning: categorical_feature keyword has been found in `params` and will be ignored.\n",
      "Please use categorical_feature argument of the Dataset constructor to pass this parameter.\n",
      "  _log_warning(\n",
      "c:\\Users\\ivanj\\AppData\\Local\\Programs\\Python\\Python313\\Lib\\site-packages\\lightgbm\\basic.py:2159: UserWarning: categorical_feature in param dict is overridden.\n",
      "  _log_warning(f\"{cat_alias} in param dict is overridden.\")\n",
      "c:\\Users\\ivanj\\AppData\\Local\\Programs\\Python\\Python313\\Lib\\site-packages\\lightgbm\\basic.py:2137: UserWarning: categorical_feature keyword has been found in `params` and will be ignored.\n",
      "Please use categorical_feature argument of the Dataset constructor to pass this parameter.\n",
      "  _log_warning(\n",
      "c:\\Users\\ivanj\\AppData\\Local\\Programs\\Python\\Python313\\Lib\\site-packages\\lightgbm\\basic.py:2159: UserWarning: categorical_feature in param dict is overridden.\n",
      "  _log_warning(f\"{cat_alias} in param dict is overridden.\")\n",
      "c:\\Users\\ivanj\\AppData\\Local\\Programs\\Python\\Python313\\Lib\\site-packages\\lightgbm\\basic.py:2137: UserWarning: categorical_feature keyword has been found in `params` and will be ignored.\n",
      "Please use categorical_feature argument of the Dataset constructor to pass this parameter.\n",
      "  _log_warning(\n",
      "c:\\Users\\ivanj\\AppData\\Local\\Programs\\Python\\Python313\\Lib\\site-packages\\lightgbm\\basic.py:2159: UserWarning: categorical_feature in param dict is overridden.\n",
      "  _log_warning(f\"{cat_alias} in param dict is overridden.\")\n",
      "c:\\Users\\ivanj\\AppData\\Local\\Programs\\Python\\Python313\\Lib\\site-packages\\lightgbm\\basic.py:2137: UserWarning: categorical_feature keyword has been found in `params` and will be ignored.\n",
      "Please use categorical_feature argument of the Dataset constructor to pass this parameter.\n",
      "  _log_warning(\n",
      "c:\\Users\\ivanj\\AppData\\Local\\Programs\\Python\\Python313\\Lib\\site-packages\\lightgbm\\basic.py:2159: UserWarning: categorical_feature in param dict is overridden.\n",
      "  _log_warning(f\"{cat_alias} in param dict is overridden.\")\n"
     ]
    },
    {
     "name": "stdout",
     "output_type": "stream",
     "text": [
      "[LightGBM] [Warning] Using sparse features with CUDA is currently not supported.\n",
      "[LightGBM] [Warning] categorical_feature is set=lang, categorical_column=6 will be ignored. Current value: categorical_feature=lang\n",
      "[LightGBM] [Info] Number of positive: 6323, number of negative: 12544\n",
      "[CV] END learning_rate=0.01, n_estimators=400, num_leaves=15; total time=   0.0s\n",
      "[LightGBM] [Warning] Using sparse features with CUDA is currently not supported.\n",
      "[LightGBM] [Warning] categorical_feature is set=lang, categorical_column=6 will be ignored. Current value: categorical_feature=lang\n",
      "[LightGBM] [Info] Number of positive: 6323, number of negative: 12545\n",
      "[CV] END learning_rate=0.01, n_estimators=400, num_leaves=15; total time=   0.0s\n",
      "[LightGBM] [Warning] Using sparse features with CUDA is currently not supported.\n",
      "[LightGBM] [Warning] categorical_feature is set=lang, categorical_column=6 will be ignored. Current value: categorical_feature=lang\n",
      "[LightGBM] [Info] Number of positive: 6323, number of negative: 12545\n",
      "[CV] END learning_rate=0.01, n_estimators=400, num_leaves=15; total time=   0.0s\n",
      "[LightGBM] [Warning] Using sparse features with CUDA is currently not supported.\n",
      "[LightGBM] [Warning] categorical_feature is set=lang, categorical_column=6 will be ignored. Current value: categorical_feature=lang\n",
      "[LightGBM] [Info] Number of positive: 6324, number of negative: 12544\n",
      "[CV] END learning_rate=0.01, n_estimators=400, num_leaves=15; total time=   0.0s\n",
      "[LightGBM] [Warning] Using sparse features with CUDA is currently not supported.\n",
      "[LightGBM] [Warning] categorical_feature is set=lang, categorical_column=6 will be ignored. Current value: categorical_feature=lang\n",
      "[LightGBM] [Info] Number of positive: 6324, number of negative: 12544\n",
      "[CV] END learning_rate=0.01, n_estimators=400, num_leaves=15; total time=   0.0s\n",
      "[LightGBM] [Warning] Using sparse features with CUDA is currently not supported.\n",
      "[LightGBM] [Warning] categorical_feature is set=lang, categorical_column=6 will be ignored. Current value: categorical_feature=lang\n",
      "[LightGBM] [Info] Number of positive: 6324, number of negative: 12544\n",
      "[CV] END learning_rate=0.01, n_estimators=400, num_leaves=15; total time=   0.0s\n",
      "[LightGBM] [Warning] Using sparse features with CUDA is currently not supported.\n",
      "[LightGBM] [Warning] categorical_feature is set=lang, categorical_column=6 will be ignored. Current value: categorical_feature=lang\n",
      "[LightGBM] [Info] Number of positive: 6324, number of negative: 12544\n",
      "[CV] END learning_rate=0.01, n_estimators=400, num_leaves=15; total time=   0.0s\n",
      "[LightGBM] [Warning] Using sparse features with CUDA is currently not supported.\n",
      "[LightGBM] [Warning] categorical_feature is set=lang, categorical_column=6 will be ignored. Current value: categorical_feature=lang\n",
      "[LightGBM] [Info] Number of positive: 6323, number of negative: 12544\n",
      "[CV] END learning_rate=0.01, n_estimators=400, num_leaves=30; total time=   0.0s\n",
      "[LightGBM] [Warning] Using sparse features with CUDA is currently not supported.\n",
      "[LightGBM] [Warning] categorical_feature is set=lang, categorical_column=6 will be ignored. Current value: categorical_feature=lang\n",
      "[LightGBM] [Info] Number of positive: 6323, number of negative: 12544\n",
      "[CV] END learning_rate=0.01, n_estimators=400, num_leaves=30; total time=   0.0s\n",
      "[LightGBM] [Warning] Using sparse features with CUDA is currently not supported.\n",
      "[LightGBM] [Warning] categorical_feature is set=lang, categorical_column=6 will be ignored. Current value: categorical_feature=lang\n",
      "[LightGBM] [Info] Number of positive: 6323, number of negative: 12544\n",
      "[CV] END learning_rate=0.01, n_estimators=400, num_leaves=30; total time=   0.0s\n",
      "[LightGBM] [Warning] Using sparse features with CUDA is currently not supported.\n",
      "[LightGBM] [Warning] categorical_feature is set=lang, categorical_column=6 will be ignored. Current value: categorical_feature=lang\n",
      "[LightGBM] [Info] Number of positive: 6323, number of negative: 12544\n",
      "[CV] END learning_rate=0.01, n_estimators=400, num_leaves=30; total time=   0.0s\n",
      "[LightGBM] [Warning] Using sparse features with CUDA is currently not supported.\n",
      "[LightGBM] [Warning] categorical_feature is set=lang, categorical_column=6 will be ignored. Current value: categorical_feature=lang\n",
      "[LightGBM] [Info] Number of positive: 6323, number of negative: 12545\n",
      "[CV] END learning_rate=0.01, n_estimators=400, num_leaves=30; total time=   0.0s\n",
      "[LightGBM] [Warning] Using sparse features with CUDA is currently not supported.\n",
      "[LightGBM] [Warning] categorical_feature is set=lang, categorical_column=6 will be ignored. Current value: categorical_feature=lang\n",
      "[LightGBM] [Info] Number of positive: 6323, number of negative: 12545\n",
      "[CV] END learning_rate=0.01, n_estimators=400, num_leaves=30; total time=   0.0s\n",
      "[LightGBM] [Warning] Using sparse features with CUDA is currently not supported.\n",
      "[LightGBM] [Warning] categorical_feature is set=lang, categorical_column=6 will be ignored. Current value: categorical_feature=lang\n",
      "[LightGBM] [Info] Number of positive: 6324, number of negative: 12544\n",
      "[CV] END learning_rate=0.01, n_estimators=400, num_leaves=30; total time=   0.0s\n",
      "[LightGBM] [Warning] Using sparse features with CUDA is currently not supported.\n",
      "[LightGBM] [Warning] categorical_feature is set=lang, categorical_column=6 will be ignored. Current value: categorical_feature=lang\n",
      "[LightGBM] [Info] Number of positive: 6324, number of negative: 12544\n",
      "[CV] END learning_rate=0.01, n_estimators=400, num_leaves=30; total time=   0.0s\n",
      "[LightGBM] [Warning] Using sparse features with CUDA is currently not supported.\n",
      "[LightGBM] [Warning] categorical_feature is set=lang, categorical_column=6 will be ignored. Current value: categorical_feature=lang\n",
      "[LightGBM] [Info] Number of positive: 6324, number of negative: 12544\n",
      "[CV] END learning_rate=0.01, n_estimators=400, num_leaves=30; total time=   0.0s\n"
     ]
    },
    {
     "name": "stderr",
     "output_type": "stream",
     "text": [
      "c:\\Users\\ivanj\\AppData\\Local\\Programs\\Python\\Python313\\Lib\\site-packages\\lightgbm\\basic.py:2137: UserWarning: categorical_feature keyword has been found in `params` and will be ignored.\n",
      "Please use categorical_feature argument of the Dataset constructor to pass this parameter.\n",
      "  _log_warning(\n",
      "c:\\Users\\ivanj\\AppData\\Local\\Programs\\Python\\Python313\\Lib\\site-packages\\lightgbm\\basic.py:2159: UserWarning: categorical_feature in param dict is overridden.\n",
      "  _log_warning(f\"{cat_alias} in param dict is overridden.\")\n",
      "c:\\Users\\ivanj\\AppData\\Local\\Programs\\Python\\Python313\\Lib\\site-packages\\lightgbm\\basic.py:2137: UserWarning: categorical_feature keyword has been found in `params` and will be ignored.\n",
      "Please use categorical_feature argument of the Dataset constructor to pass this parameter.\n",
      "  _log_warning(\n",
      "c:\\Users\\ivanj\\AppData\\Local\\Programs\\Python\\Python313\\Lib\\site-packages\\lightgbm\\basic.py:2159: UserWarning: categorical_feature in param dict is overridden.\n",
      "  _log_warning(f\"{cat_alias} in param dict is overridden.\")\n",
      "c:\\Users\\ivanj\\AppData\\Local\\Programs\\Python\\Python313\\Lib\\site-packages\\lightgbm\\basic.py:2137: UserWarning: categorical_feature keyword has been found in `params` and will be ignored.\n",
      "Please use categorical_feature argument of the Dataset constructor to pass this parameter.\n",
      "  _log_warning(\n",
      "c:\\Users\\ivanj\\AppData\\Local\\Programs\\Python\\Python313\\Lib\\site-packages\\lightgbm\\basic.py:2159: UserWarning: categorical_feature in param dict is overridden.\n",
      "  _log_warning(f\"{cat_alias} in param dict is overridden.\")\n",
      "c:\\Users\\ivanj\\AppData\\Local\\Programs\\Python\\Python313\\Lib\\site-packages\\lightgbm\\basic.py:2137: UserWarning: categorical_feature keyword has been found in `params` and will be ignored.\n",
      "Please use categorical_feature argument of the Dataset constructor to pass this parameter.\n",
      "  _log_warning(\n",
      "c:\\Users\\ivanj\\AppData\\Local\\Programs\\Python\\Python313\\Lib\\site-packages\\lightgbm\\basic.py:2159: UserWarning: categorical_feature in param dict is overridden.\n",
      "  _log_warning(f\"{cat_alias} in param dict is overridden.\")\n",
      "c:\\Users\\ivanj\\AppData\\Local\\Programs\\Python\\Python313\\Lib\\site-packages\\lightgbm\\basic.py:2137: UserWarning: categorical_feature keyword has been found in `params` and will be ignored.\n",
      "Please use categorical_feature argument of the Dataset constructor to pass this parameter.\n",
      "  _log_warning(\n",
      "c:\\Users\\ivanj\\AppData\\Local\\Programs\\Python\\Python313\\Lib\\site-packages\\lightgbm\\basic.py:2159: UserWarning: categorical_feature in param dict is overridden.\n",
      "  _log_warning(f\"{cat_alias} in param dict is overridden.\")\n",
      "c:\\Users\\ivanj\\AppData\\Local\\Programs\\Python\\Python313\\Lib\\site-packages\\lightgbm\\basic.py:2137: UserWarning: categorical_feature keyword has been found in `params` and will be ignored.\n",
      "Please use categorical_feature argument of the Dataset constructor to pass this parameter.\n",
      "  _log_warning(\n",
      "c:\\Users\\ivanj\\AppData\\Local\\Programs\\Python\\Python313\\Lib\\site-packages\\lightgbm\\basic.py:2159: UserWarning: categorical_feature in param dict is overridden.\n",
      "  _log_warning(f\"{cat_alias} in param dict is overridden.\")\n",
      "c:\\Users\\ivanj\\AppData\\Local\\Programs\\Python\\Python313\\Lib\\site-packages\\lightgbm\\basic.py:2137: UserWarning: categorical_feature keyword has been found in `params` and will be ignored.\n",
      "Please use categorical_feature argument of the Dataset constructor to pass this parameter.\n",
      "  _log_warning(\n",
      "c:\\Users\\ivanj\\AppData\\Local\\Programs\\Python\\Python313\\Lib\\site-packages\\lightgbm\\basic.py:2159: UserWarning: categorical_feature in param dict is overridden.\n",
      "  _log_warning(f\"{cat_alias} in param dict is overridden.\")\n",
      "c:\\Users\\ivanj\\AppData\\Local\\Programs\\Python\\Python313\\Lib\\site-packages\\lightgbm\\basic.py:2137: UserWarning: categorical_feature keyword has been found in `params` and will be ignored.\n",
      "Please use categorical_feature argument of the Dataset constructor to pass this parameter.\n",
      "  _log_warning(\n",
      "c:\\Users\\ivanj\\AppData\\Local\\Programs\\Python\\Python313\\Lib\\site-packages\\lightgbm\\basic.py:2159: UserWarning: categorical_feature in param dict is overridden.\n",
      "  _log_warning(f\"{cat_alias} in param dict is overridden.\")\n",
      "c:\\Users\\ivanj\\AppData\\Local\\Programs\\Python\\Python313\\Lib\\site-packages\\lightgbm\\basic.py:2137: UserWarning: categorical_feature keyword has been found in `params` and will be ignored.\n",
      "Please use categorical_feature argument of the Dataset constructor to pass this parameter.\n",
      "  _log_warning(\n",
      "c:\\Users\\ivanj\\AppData\\Local\\Programs\\Python\\Python313\\Lib\\site-packages\\lightgbm\\basic.py:2159: UserWarning: categorical_feature in param dict is overridden.\n",
      "  _log_warning(f\"{cat_alias} in param dict is overridden.\")\n",
      "c:\\Users\\ivanj\\AppData\\Local\\Programs\\Python\\Python313\\Lib\\site-packages\\lightgbm\\basic.py:2137: UserWarning: categorical_feature keyword has been found in `params` and will be ignored.\n",
      "Please use categorical_feature argument of the Dataset constructor to pass this parameter.\n",
      "  _log_warning(\n",
      "c:\\Users\\ivanj\\AppData\\Local\\Programs\\Python\\Python313\\Lib\\site-packages\\lightgbm\\basic.py:2159: UserWarning: categorical_feature in param dict is overridden.\n",
      "  _log_warning(f\"{cat_alias} in param dict is overridden.\")\n",
      "c:\\Users\\ivanj\\AppData\\Local\\Programs\\Python\\Python313\\Lib\\site-packages\\lightgbm\\basic.py:2137: UserWarning: categorical_feature keyword has been found in `params` and will be ignored.\n",
      "Please use categorical_feature argument of the Dataset constructor to pass this parameter.\n",
      "  _log_warning(\n",
      "c:\\Users\\ivanj\\AppData\\Local\\Programs\\Python\\Python313\\Lib\\site-packages\\lightgbm\\basic.py:2159: UserWarning: categorical_feature in param dict is overridden.\n",
      "  _log_warning(f\"{cat_alias} in param dict is overridden.\")\n",
      "c:\\Users\\ivanj\\AppData\\Local\\Programs\\Python\\Python313\\Lib\\site-packages\\lightgbm\\basic.py:2137: UserWarning: categorical_feature keyword has been found in `params` and will be ignored.\n",
      "Please use categorical_feature argument of the Dataset constructor to pass this parameter.\n",
      "  _log_warning(\n",
      "c:\\Users\\ivanj\\AppData\\Local\\Programs\\Python\\Python313\\Lib\\site-packages\\lightgbm\\basic.py:2159: UserWarning: categorical_feature in param dict is overridden.\n",
      "  _log_warning(f\"{cat_alias} in param dict is overridden.\")\n",
      "c:\\Users\\ivanj\\AppData\\Local\\Programs\\Python\\Python313\\Lib\\site-packages\\lightgbm\\basic.py:2137: UserWarning: categorical_feature keyword has been found in `params` and will be ignored.\n",
      "Please use categorical_feature argument of the Dataset constructor to pass this parameter.\n",
      "  _log_warning(\n",
      "c:\\Users\\ivanj\\AppData\\Local\\Programs\\Python\\Python313\\Lib\\site-packages\\lightgbm\\basic.py:2159: UserWarning: categorical_feature in param dict is overridden.\n",
      "  _log_warning(f\"{cat_alias} in param dict is overridden.\")\n",
      "c:\\Users\\ivanj\\AppData\\Local\\Programs\\Python\\Python313\\Lib\\site-packages\\lightgbm\\basic.py:2137: UserWarning: categorical_feature keyword has been found in `params` and will be ignored.\n",
      "Please use categorical_feature argument of the Dataset constructor to pass this parameter.\n",
      "  _log_warning(\n",
      "c:\\Users\\ivanj\\AppData\\Local\\Programs\\Python\\Python313\\Lib\\site-packages\\lightgbm\\basic.py:2159: UserWarning: categorical_feature in param dict is overridden.\n",
      "  _log_warning(f\"{cat_alias} in param dict is overridden.\")\n",
      "c:\\Users\\ivanj\\AppData\\Local\\Programs\\Python\\Python313\\Lib\\site-packages\\lightgbm\\basic.py:2137: UserWarning: categorical_feature keyword has been found in `params` and will be ignored.\n",
      "Please use categorical_feature argument of the Dataset constructor to pass this parameter.\n",
      "  _log_warning(\n",
      "c:\\Users\\ivanj\\AppData\\Local\\Programs\\Python\\Python313\\Lib\\site-packages\\lightgbm\\basic.py:2159: UserWarning: categorical_feature in param dict is overridden.\n",
      "  _log_warning(f\"{cat_alias} in param dict is overridden.\")\n",
      "c:\\Users\\ivanj\\AppData\\Local\\Programs\\Python\\Python313\\Lib\\site-packages\\lightgbm\\basic.py:2137: UserWarning: categorical_feature keyword has been found in `params` and will be ignored.\n",
      "Please use categorical_feature argument of the Dataset constructor to pass this parameter.\n",
      "  _log_warning(\n",
      "c:\\Users\\ivanj\\AppData\\Local\\Programs\\Python\\Python313\\Lib\\site-packages\\lightgbm\\basic.py:2159: UserWarning: categorical_feature in param dict is overridden.\n",
      "  _log_warning(f\"{cat_alias} in param dict is overridden.\")\n",
      "c:\\Users\\ivanj\\AppData\\Local\\Programs\\Python\\Python313\\Lib\\site-packages\\lightgbm\\basic.py:2137: UserWarning: categorical_feature keyword has been found in `params` and will be ignored.\n",
      "Please use categorical_feature argument of the Dataset constructor to pass this parameter.\n",
      "  _log_warning(\n",
      "c:\\Users\\ivanj\\AppData\\Local\\Programs\\Python\\Python313\\Lib\\site-packages\\lightgbm\\basic.py:2159: UserWarning: categorical_feature in param dict is overridden.\n",
      "  _log_warning(f\"{cat_alias} in param dict is overridden.\")\n"
     ]
    },
    {
     "name": "stdout",
     "output_type": "stream",
     "text": [
      "[LightGBM] [Warning] Using sparse features with CUDA is currently not supported.\n",
      "[LightGBM] [Warning] categorical_feature is set=lang, categorical_column=6 will be ignored. Current value: categorical_feature=lang\n",
      "[LightGBM] [Info] Number of positive: 6324, number of negative: 12544\n",
      "[CV] END learning_rate=0.01, n_estimators=400, num_leaves=30; total time=   0.0s\n",
      "[LightGBM] [Warning] Using sparse features with CUDA is currently not supported.\n",
      "[LightGBM] [Warning] categorical_feature is set=lang, categorical_column=6 will be ignored. Current value: categorical_feature=lang\n",
      "[LightGBM] [Info] Number of positive: 6323, number of negative: 12544\n",
      "[CV] END learning_rate=0.01, n_estimators=400, num_leaves=45; total time=   0.0s\n",
      "[LightGBM] [Warning] Using sparse features with CUDA is currently not supported.\n",
      "[LightGBM] [Warning] categorical_feature is set=lang, categorical_column=6 will be ignored. Current value: categorical_feature=lang\n",
      "[LightGBM] [Info] Number of positive: 6323, number of negative: 12544\n",
      "[CV] END learning_rate=0.01, n_estimators=400, num_leaves=45; total time=   0.0s\n",
      "[LightGBM] [Warning] Using sparse features with CUDA is currently not supported.\n",
      "[LightGBM] [Warning] categorical_feature is set=lang, categorical_column=6 will be ignored. Current value: categorical_feature=lang\n",
      "[LightGBM] [Info] Number of positive: 6323, number of negative: 12544\n",
      "[CV] END learning_rate=0.01, n_estimators=400, num_leaves=45; total time=   0.0s\n",
      "[LightGBM] [Warning] Using sparse features with CUDA is currently not supported.\n",
      "[LightGBM] [Warning] categorical_feature is set=lang, categorical_column=6 will be ignored. Current value: categorical_feature=lang\n",
      "[LightGBM] [Info] Number of positive: 6323, number of negative: 12544\n",
      "[CV] END learning_rate=0.01, n_estimators=400, num_leaves=45; total time=   0.0s\n",
      "[LightGBM] [Warning] Using sparse features with CUDA is currently not supported.\n",
      "[LightGBM] [Warning] categorical_feature is set=lang, categorical_column=6 will be ignored. Current value: categorical_feature=lang\n",
      "[LightGBM] [Info] Number of positive: 6323, number of negative: 12545\n",
      "[CV] END learning_rate=0.01, n_estimators=400, num_leaves=45; total time=   0.0s\n",
      "[LightGBM] [Warning] Using sparse features with CUDA is currently not supported.\n",
      "[LightGBM] [Warning] categorical_feature is set=lang, categorical_column=6 will be ignored. Current value: categorical_feature=lang\n",
      "[LightGBM] [Info] Number of positive: 6323, number of negative: 12545\n",
      "[CV] END learning_rate=0.01, n_estimators=400, num_leaves=45; total time=   0.0s\n",
      "[LightGBM] [Warning] Using sparse features with CUDA is currently not supported.\n",
      "[LightGBM] [Warning] categorical_feature is set=lang, categorical_column=6 will be ignored. Current value: categorical_feature=lang\n",
      "[LightGBM] [Info] Number of positive: 6324, number of negative: 12544\n",
      "[CV] END learning_rate=0.01, n_estimators=400, num_leaves=45; total time=   0.0s\n",
      "[LightGBM] [Warning] Using sparse features with CUDA is currently not supported.\n",
      "[LightGBM] [Warning] categorical_feature is set=lang, categorical_column=6 will be ignored. Current value: categorical_feature=lang\n",
      "[LightGBM] [Info] Number of positive: 6324, number of negative: 12544\n",
      "[CV] END learning_rate=0.01, n_estimators=400, num_leaves=45; total time=   0.0s\n",
      "[LightGBM] [Warning] Using sparse features with CUDA is currently not supported.\n",
      "[LightGBM] [Warning] categorical_feature is set=lang, categorical_column=6 will be ignored. Current value: categorical_feature=lang\n",
      "[LightGBM] [Info] Number of positive: 6324, number of negative: 12544\n",
      "[CV] END learning_rate=0.01, n_estimators=400, num_leaves=45; total time=   0.0s\n",
      "[LightGBM] [Warning] Using sparse features with CUDA is currently not supported.\n",
      "[LightGBM] [Warning] categorical_feature is set=lang, categorical_column=6 will be ignored. Current value: categorical_feature=lang\n",
      "[LightGBM] [Info] Number of positive: 6324, number of negative: 12544\n",
      "[CV] END learning_rate=0.01, n_estimators=400, num_leaves=45; total time=   0.0s\n",
      "[LightGBM] [Warning] Using sparse features with CUDA is currently not supported.\n",
      "[LightGBM] [Warning] categorical_feature is set=lang, categorical_column=6 will be ignored. Current value: categorical_feature=lang\n",
      "[LightGBM] [Info] Number of positive: 6323, number of negative: 12544\n",
      "[CV] END learning_rate=0.01, n_estimators=500, num_leaves=15; total time=   0.0s\n",
      "[LightGBM] [Warning] Using sparse features with CUDA is currently not supported.\n",
      "[LightGBM] [Warning] categorical_feature is set=lang, categorical_column=6 will be ignored. Current value: categorical_feature=lang\n",
      "[LightGBM] [Info] Number of positive: 6323, number of negative: 12544\n",
      "[CV] END learning_rate=0.01, n_estimators=500, num_leaves=15; total time=   0.0s\n",
      "[LightGBM] [Warning] Using sparse features with CUDA is currently not supported.\n",
      "[LightGBM] [Warning] categorical_feature is set=lang, categorical_column=6 will be ignored. Current value: categorical_feature=lang\n",
      "[LightGBM] [Info] Number of positive: 6323, number of negative: 12544\n",
      "[CV] END learning_rate=0.01, n_estimators=500, num_leaves=15; total time=   0.0s\n",
      "[LightGBM] [Warning] Using sparse features with CUDA is currently not supported.\n",
      "[LightGBM] [Warning] categorical_feature is set=lang, categorical_column=6 will be ignored. Current value: categorical_feature=lang\n",
      "[LightGBM] [Info] Number of positive: 6323, number of negative: 12544\n",
      "[CV] END learning_rate=0.01, n_estimators=500, num_leaves=15; total time=   0.0s\n",
      "[LightGBM] [Warning] Using sparse features with CUDA is currently not supported.\n",
      "[LightGBM] [Warning] categorical_feature is set=lang, categorical_column=6 will be ignored. Current value: categorical_feature=lang\n",
      "[LightGBM] [Info] Number of positive: 6323, number of negative: 12545\n",
      "[CV] END learning_rate=0.01, n_estimators=500, num_leaves=15; total time=   0.0s\n"
     ]
    },
    {
     "name": "stderr",
     "output_type": "stream",
     "text": [
      "c:\\Users\\ivanj\\AppData\\Local\\Programs\\Python\\Python313\\Lib\\site-packages\\lightgbm\\basic.py:2137: UserWarning: categorical_feature keyword has been found in `params` and will be ignored.\n",
      "Please use categorical_feature argument of the Dataset constructor to pass this parameter.\n",
      "  _log_warning(\n",
      "c:\\Users\\ivanj\\AppData\\Local\\Programs\\Python\\Python313\\Lib\\site-packages\\lightgbm\\basic.py:2159: UserWarning: categorical_feature in param dict is overridden.\n",
      "  _log_warning(f\"{cat_alias} in param dict is overridden.\")\n",
      "c:\\Users\\ivanj\\AppData\\Local\\Programs\\Python\\Python313\\Lib\\site-packages\\lightgbm\\basic.py:2137: UserWarning: categorical_feature keyword has been found in `params` and will be ignored.\n",
      "Please use categorical_feature argument of the Dataset constructor to pass this parameter.\n",
      "  _log_warning(\n",
      "c:\\Users\\ivanj\\AppData\\Local\\Programs\\Python\\Python313\\Lib\\site-packages\\lightgbm\\basic.py:2159: UserWarning: categorical_feature in param dict is overridden.\n",
      "  _log_warning(f\"{cat_alias} in param dict is overridden.\")\n",
      "c:\\Users\\ivanj\\AppData\\Local\\Programs\\Python\\Python313\\Lib\\site-packages\\lightgbm\\basic.py:2137: UserWarning: categorical_feature keyword has been found in `params` and will be ignored.\n",
      "Please use categorical_feature argument of the Dataset constructor to pass this parameter.\n",
      "  _log_warning(\n",
      "c:\\Users\\ivanj\\AppData\\Local\\Programs\\Python\\Python313\\Lib\\site-packages\\lightgbm\\basic.py:2159: UserWarning: categorical_feature in param dict is overridden.\n",
      "  _log_warning(f\"{cat_alias} in param dict is overridden.\")\n",
      "c:\\Users\\ivanj\\AppData\\Local\\Programs\\Python\\Python313\\Lib\\site-packages\\lightgbm\\basic.py:2137: UserWarning: categorical_feature keyword has been found in `params` and will be ignored.\n",
      "Please use categorical_feature argument of the Dataset constructor to pass this parameter.\n",
      "  _log_warning(\n",
      "c:\\Users\\ivanj\\AppData\\Local\\Programs\\Python\\Python313\\Lib\\site-packages\\lightgbm\\basic.py:2159: UserWarning: categorical_feature in param dict is overridden.\n",
      "  _log_warning(f\"{cat_alias} in param dict is overridden.\")\n",
      "c:\\Users\\ivanj\\AppData\\Local\\Programs\\Python\\Python313\\Lib\\site-packages\\lightgbm\\basic.py:2137: UserWarning: categorical_feature keyword has been found in `params` and will be ignored.\n",
      "Please use categorical_feature argument of the Dataset constructor to pass this parameter.\n",
      "  _log_warning(\n",
      "c:\\Users\\ivanj\\AppData\\Local\\Programs\\Python\\Python313\\Lib\\site-packages\\lightgbm\\basic.py:2159: UserWarning: categorical_feature in param dict is overridden.\n",
      "  _log_warning(f\"{cat_alias} in param dict is overridden.\")\n",
      "c:\\Users\\ivanj\\AppData\\Local\\Programs\\Python\\Python313\\Lib\\site-packages\\lightgbm\\basic.py:2137: UserWarning: categorical_feature keyword has been found in `params` and will be ignored.\n",
      "Please use categorical_feature argument of the Dataset constructor to pass this parameter.\n",
      "  _log_warning(\n",
      "c:\\Users\\ivanj\\AppData\\Local\\Programs\\Python\\Python313\\Lib\\site-packages\\lightgbm\\basic.py:2159: UserWarning: categorical_feature in param dict is overridden.\n",
      "  _log_warning(f\"{cat_alias} in param dict is overridden.\")\n",
      "c:\\Users\\ivanj\\AppData\\Local\\Programs\\Python\\Python313\\Lib\\site-packages\\lightgbm\\basic.py:2137: UserWarning: categorical_feature keyword has been found in `params` and will be ignored.\n",
      "Please use categorical_feature argument of the Dataset constructor to pass this parameter.\n",
      "  _log_warning(\n",
      "c:\\Users\\ivanj\\AppData\\Local\\Programs\\Python\\Python313\\Lib\\site-packages\\lightgbm\\basic.py:2159: UserWarning: categorical_feature in param dict is overridden.\n",
      "  _log_warning(f\"{cat_alias} in param dict is overridden.\")\n",
      "c:\\Users\\ivanj\\AppData\\Local\\Programs\\Python\\Python313\\Lib\\site-packages\\lightgbm\\basic.py:2137: UserWarning: categorical_feature keyword has been found in `params` and will be ignored.\n",
      "Please use categorical_feature argument of the Dataset constructor to pass this parameter.\n",
      "  _log_warning(\n",
      "c:\\Users\\ivanj\\AppData\\Local\\Programs\\Python\\Python313\\Lib\\site-packages\\lightgbm\\basic.py:2159: UserWarning: categorical_feature in param dict is overridden.\n",
      "  _log_warning(f\"{cat_alias} in param dict is overridden.\")\n",
      "c:\\Users\\ivanj\\AppData\\Local\\Programs\\Python\\Python313\\Lib\\site-packages\\lightgbm\\basic.py:2137: UserWarning: categorical_feature keyword has been found in `params` and will be ignored.\n",
      "Please use categorical_feature argument of the Dataset constructor to pass this parameter.\n",
      "  _log_warning(\n",
      "c:\\Users\\ivanj\\AppData\\Local\\Programs\\Python\\Python313\\Lib\\site-packages\\lightgbm\\basic.py:2159: UserWarning: categorical_feature in param dict is overridden.\n",
      "  _log_warning(f\"{cat_alias} in param dict is overridden.\")\n",
      "c:\\Users\\ivanj\\AppData\\Local\\Programs\\Python\\Python313\\Lib\\site-packages\\lightgbm\\basic.py:2137: UserWarning: categorical_feature keyword has been found in `params` and will be ignored.\n",
      "Please use categorical_feature argument of the Dataset constructor to pass this parameter.\n",
      "  _log_warning(\n",
      "c:\\Users\\ivanj\\AppData\\Local\\Programs\\Python\\Python313\\Lib\\site-packages\\lightgbm\\basic.py:2159: UserWarning: categorical_feature in param dict is overridden.\n",
      "  _log_warning(f\"{cat_alias} in param dict is overridden.\")\n",
      "c:\\Users\\ivanj\\AppData\\Local\\Programs\\Python\\Python313\\Lib\\site-packages\\lightgbm\\basic.py:2137: UserWarning: categorical_feature keyword has been found in `params` and will be ignored.\n",
      "Please use categorical_feature argument of the Dataset constructor to pass this parameter.\n",
      "  _log_warning(\n",
      "c:\\Users\\ivanj\\AppData\\Local\\Programs\\Python\\Python313\\Lib\\site-packages\\lightgbm\\basic.py:2159: UserWarning: categorical_feature in param dict is overridden.\n",
      "  _log_warning(f\"{cat_alias} in param dict is overridden.\")\n",
      "c:\\Users\\ivanj\\AppData\\Local\\Programs\\Python\\Python313\\Lib\\site-packages\\lightgbm\\basic.py:2137: UserWarning: categorical_feature keyword has been found in `params` and will be ignored.\n",
      "Please use categorical_feature argument of the Dataset constructor to pass this parameter.\n",
      "  _log_warning(\n",
      "c:\\Users\\ivanj\\AppData\\Local\\Programs\\Python\\Python313\\Lib\\site-packages\\lightgbm\\basic.py:2159: UserWarning: categorical_feature in param dict is overridden.\n",
      "  _log_warning(f\"{cat_alias} in param dict is overridden.\")\n",
      "c:\\Users\\ivanj\\AppData\\Local\\Programs\\Python\\Python313\\Lib\\site-packages\\lightgbm\\basic.py:2137: UserWarning: categorical_feature keyword has been found in `params` and will be ignored.\n",
      "Please use categorical_feature argument of the Dataset constructor to pass this parameter.\n",
      "  _log_warning(\n",
      "c:\\Users\\ivanj\\AppData\\Local\\Programs\\Python\\Python313\\Lib\\site-packages\\lightgbm\\basic.py:2159: UserWarning: categorical_feature in param dict is overridden.\n",
      "  _log_warning(f\"{cat_alias} in param dict is overridden.\")\n",
      "c:\\Users\\ivanj\\AppData\\Local\\Programs\\Python\\Python313\\Lib\\site-packages\\lightgbm\\basic.py:2137: UserWarning: categorical_feature keyword has been found in `params` and will be ignored.\n",
      "Please use categorical_feature argument of the Dataset constructor to pass this parameter.\n",
      "  _log_warning(\n",
      "c:\\Users\\ivanj\\AppData\\Local\\Programs\\Python\\Python313\\Lib\\site-packages\\lightgbm\\basic.py:2159: UserWarning: categorical_feature in param dict is overridden.\n",
      "  _log_warning(f\"{cat_alias} in param dict is overridden.\")\n",
      "c:\\Users\\ivanj\\AppData\\Local\\Programs\\Python\\Python313\\Lib\\site-packages\\lightgbm\\basic.py:2137: UserWarning: categorical_feature keyword has been found in `params` and will be ignored.\n",
      "Please use categorical_feature argument of the Dataset constructor to pass this parameter.\n",
      "  _log_warning(\n",
      "c:\\Users\\ivanj\\AppData\\Local\\Programs\\Python\\Python313\\Lib\\site-packages\\lightgbm\\basic.py:2159: UserWarning: categorical_feature in param dict is overridden.\n",
      "  _log_warning(f\"{cat_alias} in param dict is overridden.\")\n",
      "c:\\Users\\ivanj\\AppData\\Local\\Programs\\Python\\Python313\\Lib\\site-packages\\lightgbm\\basic.py:2137: UserWarning: categorical_feature keyword has been found in `params` and will be ignored.\n",
      "Please use categorical_feature argument of the Dataset constructor to pass this parameter.\n",
      "  _log_warning(\n",
      "c:\\Users\\ivanj\\AppData\\Local\\Programs\\Python\\Python313\\Lib\\site-packages\\lightgbm\\basic.py:2159: UserWarning: categorical_feature in param dict is overridden.\n",
      "  _log_warning(f\"{cat_alias} in param dict is overridden.\")\n",
      "c:\\Users\\ivanj\\AppData\\Local\\Programs\\Python\\Python313\\Lib\\site-packages\\lightgbm\\basic.py:2137: UserWarning: categorical_feature keyword has been found in `params` and will be ignored.\n",
      "Please use categorical_feature argument of the Dataset constructor to pass this parameter.\n",
      "  _log_warning(\n",
      "c:\\Users\\ivanj\\AppData\\Local\\Programs\\Python\\Python313\\Lib\\site-packages\\lightgbm\\basic.py:2159: UserWarning: categorical_feature in param dict is overridden.\n",
      "  _log_warning(f\"{cat_alias} in param dict is overridden.\")\n"
     ]
    },
    {
     "name": "stdout",
     "output_type": "stream",
     "text": [
      "[LightGBM] [Warning] Using sparse features with CUDA is currently not supported.\n",
      "[LightGBM] [Warning] categorical_feature is set=lang, categorical_column=6 will be ignored. Current value: categorical_feature=lang\n",
      "[LightGBM] [Info] Number of positive: 6323, number of negative: 12545\n",
      "[CV] END learning_rate=0.01, n_estimators=500, num_leaves=15; total time=   0.0s\n",
      "[LightGBM] [Warning] Using sparse features with CUDA is currently not supported.\n",
      "[LightGBM] [Warning] categorical_feature is set=lang, categorical_column=6 will be ignored. Current value: categorical_feature=lang\n",
      "[LightGBM] [Info] Number of positive: 6324, number of negative: 12544\n",
      "[CV] END learning_rate=0.01, n_estimators=500, num_leaves=15; total time=   0.0s\n",
      "[LightGBM] [Warning] Using sparse features with CUDA is currently not supported.\n",
      "[LightGBM] [Warning] categorical_feature is set=lang, categorical_column=6 will be ignored. Current value: categorical_feature=lang\n",
      "[LightGBM] [Info] Number of positive: 6324, number of negative: 12544\n",
      "[CV] END learning_rate=0.01, n_estimators=500, num_leaves=15; total time=   0.0s\n",
      "[LightGBM] [Warning] Using sparse features with CUDA is currently not supported.\n",
      "[LightGBM] [Warning] categorical_feature is set=lang, categorical_column=6 will be ignored. Current value: categorical_feature=lang\n",
      "[LightGBM] [Info] Number of positive: 6324, number of negative: 12544\n",
      "[CV] END learning_rate=0.01, n_estimators=500, num_leaves=15; total time=   0.0s\n",
      "[LightGBM] [Warning] Using sparse features with CUDA is currently not supported.\n",
      "[LightGBM] [Warning] categorical_feature is set=lang, categorical_column=6 will be ignored. Current value: categorical_feature=lang\n",
      "[LightGBM] [Info] Number of positive: 6324, number of negative: 12544\n",
      "[CV] END learning_rate=0.01, n_estimators=500, num_leaves=15; total time=   0.0s\n",
      "[LightGBM] [Warning] Using sparse features with CUDA is currently not supported.\n",
      "[LightGBM] [Warning] categorical_feature is set=lang, categorical_column=6 will be ignored. Current value: categorical_feature=lang\n",
      "[LightGBM] [Info] Number of positive: 6323, number of negative: 12544\n",
      "[CV] END learning_rate=0.01, n_estimators=500, num_leaves=30; total time=   0.0s\n",
      "[LightGBM] [Warning] Using sparse features with CUDA is currently not supported.\n",
      "[LightGBM] [Warning] categorical_feature is set=lang, categorical_column=6 will be ignored. Current value: categorical_feature=lang\n",
      "[LightGBM] [Info] Number of positive: 6323, number of negative: 12544\n",
      "[CV] END learning_rate=0.01, n_estimators=500, num_leaves=30; total time=   0.0s\n",
      "[LightGBM] [Warning] Using sparse features with CUDA is currently not supported.\n",
      "[LightGBM] [Warning] categorical_feature is set=lang, categorical_column=6 will be ignored. Current value: categorical_feature=lang\n",
      "[LightGBM] [Info] Number of positive: 6323, number of negative: 12544\n",
      "[CV] END learning_rate=0.01, n_estimators=500, num_leaves=30; total time=   0.0s\n",
      "[LightGBM] [Warning] Using sparse features with CUDA is currently not supported.\n",
      "[LightGBM] [Warning] categorical_feature is set=lang, categorical_column=6 will be ignored. Current value: categorical_feature=lang\n",
      "[LightGBM] [Info] Number of positive: 6323, number of negative: 12544\n",
      "[CV] END learning_rate=0.01, n_estimators=500, num_leaves=30; total time=   0.0s\n",
      "[LightGBM] [Warning] Using sparse features with CUDA is currently not supported.\n",
      "[LightGBM] [Warning] categorical_feature is set=lang, categorical_column=6 will be ignored. Current value: categorical_feature=lang\n",
      "[LightGBM] [Info] Number of positive: 6323, number of negative: 12545\n",
      "[CV] END learning_rate=0.01, n_estimators=500, num_leaves=30; total time=   0.0s\n",
      "[LightGBM] [Warning] Using sparse features with CUDA is currently not supported.\n",
      "[LightGBM] [Warning] categorical_feature is set=lang, categorical_column=6 will be ignored. Current value: categorical_feature=lang\n",
      "[LightGBM] [Info] Number of positive: 6323, number of negative: 12545\n",
      "[CV] END learning_rate=0.01, n_estimators=500, num_leaves=30; total time=   0.0s\n",
      "[LightGBM] [Warning] Using sparse features with CUDA is currently not supported.\n",
      "[LightGBM] [Warning] categorical_feature is set=lang, categorical_column=6 will be ignored. Current value: categorical_feature=lang\n",
      "[LightGBM] [Info] Number of positive: 6324, number of negative: 12544\n",
      "[CV] END learning_rate=0.01, n_estimators=500, num_leaves=30; total time=   0.0s\n",
      "[LightGBM] [Warning] Using sparse features with CUDA is currently not supported.\n",
      "[LightGBM] [Warning] categorical_feature is set=lang, categorical_column=6 will be ignored. Current value: categorical_feature=lang\n",
      "[LightGBM] [Info] Number of positive: 6324, number of negative: 12544\n",
      "[CV] END learning_rate=0.01, n_estimators=500, num_leaves=30; total time=   0.0s\n",
      "[LightGBM] [Warning] Using sparse features with CUDA is currently not supported.\n",
      "[LightGBM] [Warning] categorical_feature is set=lang, categorical_column=6 will be ignored. Current value: categorical_feature=lang\n",
      "[LightGBM] [Info] Number of positive: 6324, number of negative: 12544\n",
      "[CV] END learning_rate=0.01, n_estimators=500, num_leaves=30; total time=   0.0s\n",
      "[LightGBM] [Warning] Using sparse features with CUDA is currently not supported.\n",
      "[LightGBM] [Warning] categorical_feature is set=lang, categorical_column=6 will be ignored. Current value: categorical_feature=lang\n",
      "[LightGBM] [Info] Number of positive: 6324, number of negative: 12544\n",
      "[CV] END learning_rate=0.01, n_estimators=500, num_leaves=30; total time=   0.0s\n",
      "[LightGBM] [Warning] Using sparse features with CUDA is currently not supported.\n",
      "[LightGBM] [Warning] categorical_feature is set=lang, categorical_column=6 will be ignored. Current value: categorical_feature=lang\n",
      "[LightGBM] [Info] Number of positive: 6323, number of negative: 12544\n",
      "[CV] END learning_rate=0.01, n_estimators=500, num_leaves=45; total time=   0.0s\n"
     ]
    },
    {
     "name": "stderr",
     "output_type": "stream",
     "text": [
      "c:\\Users\\ivanj\\AppData\\Local\\Programs\\Python\\Python313\\Lib\\site-packages\\lightgbm\\basic.py:2137: UserWarning: categorical_feature keyword has been found in `params` and will be ignored.\n",
      "Please use categorical_feature argument of the Dataset constructor to pass this parameter.\n",
      "  _log_warning(\n",
      "c:\\Users\\ivanj\\AppData\\Local\\Programs\\Python\\Python313\\Lib\\site-packages\\lightgbm\\basic.py:2159: UserWarning: categorical_feature in param dict is overridden.\n",
      "  _log_warning(f\"{cat_alias} in param dict is overridden.\")\n",
      "c:\\Users\\ivanj\\AppData\\Local\\Programs\\Python\\Python313\\Lib\\site-packages\\lightgbm\\basic.py:2137: UserWarning: categorical_feature keyword has been found in `params` and will be ignored.\n",
      "Please use categorical_feature argument of the Dataset constructor to pass this parameter.\n",
      "  _log_warning(\n",
      "c:\\Users\\ivanj\\AppData\\Local\\Programs\\Python\\Python313\\Lib\\site-packages\\lightgbm\\basic.py:2159: UserWarning: categorical_feature in param dict is overridden.\n",
      "  _log_warning(f\"{cat_alias} in param dict is overridden.\")\n",
      "c:\\Users\\ivanj\\AppData\\Local\\Programs\\Python\\Python313\\Lib\\site-packages\\lightgbm\\basic.py:2137: UserWarning: categorical_feature keyword has been found in `params` and will be ignored.\n",
      "Please use categorical_feature argument of the Dataset constructor to pass this parameter.\n",
      "  _log_warning(\n",
      "c:\\Users\\ivanj\\AppData\\Local\\Programs\\Python\\Python313\\Lib\\site-packages\\lightgbm\\basic.py:2159: UserWarning: categorical_feature in param dict is overridden.\n",
      "  _log_warning(f\"{cat_alias} in param dict is overridden.\")\n",
      "c:\\Users\\ivanj\\AppData\\Local\\Programs\\Python\\Python313\\Lib\\site-packages\\lightgbm\\basic.py:2137: UserWarning: categorical_feature keyword has been found in `params` and will be ignored.\n",
      "Please use categorical_feature argument of the Dataset constructor to pass this parameter.\n",
      "  _log_warning(\n",
      "c:\\Users\\ivanj\\AppData\\Local\\Programs\\Python\\Python313\\Lib\\site-packages\\lightgbm\\basic.py:2159: UserWarning: categorical_feature in param dict is overridden.\n",
      "  _log_warning(f\"{cat_alias} in param dict is overridden.\")\n",
      "c:\\Users\\ivanj\\AppData\\Local\\Programs\\Python\\Python313\\Lib\\site-packages\\lightgbm\\basic.py:2137: UserWarning: categorical_feature keyword has been found in `params` and will be ignored.\n",
      "Please use categorical_feature argument of the Dataset constructor to pass this parameter.\n",
      "  _log_warning(\n",
      "c:\\Users\\ivanj\\AppData\\Local\\Programs\\Python\\Python313\\Lib\\site-packages\\lightgbm\\basic.py:2159: UserWarning: categorical_feature in param dict is overridden.\n",
      "  _log_warning(f\"{cat_alias} in param dict is overridden.\")\n",
      "c:\\Users\\ivanj\\AppData\\Local\\Programs\\Python\\Python313\\Lib\\site-packages\\lightgbm\\basic.py:2137: UserWarning: categorical_feature keyword has been found in `params` and will be ignored.\n",
      "Please use categorical_feature argument of the Dataset constructor to pass this parameter.\n",
      "  _log_warning(\n",
      "c:\\Users\\ivanj\\AppData\\Local\\Programs\\Python\\Python313\\Lib\\site-packages\\lightgbm\\basic.py:2159: UserWarning: categorical_feature in param dict is overridden.\n",
      "  _log_warning(f\"{cat_alias} in param dict is overridden.\")\n",
      "c:\\Users\\ivanj\\AppData\\Local\\Programs\\Python\\Python313\\Lib\\site-packages\\lightgbm\\basic.py:2137: UserWarning: categorical_feature keyword has been found in `params` and will be ignored.\n",
      "Please use categorical_feature argument of the Dataset constructor to pass this parameter.\n",
      "  _log_warning(\n",
      "c:\\Users\\ivanj\\AppData\\Local\\Programs\\Python\\Python313\\Lib\\site-packages\\lightgbm\\basic.py:2159: UserWarning: categorical_feature in param dict is overridden.\n",
      "  _log_warning(f\"{cat_alias} in param dict is overridden.\")\n",
      "c:\\Users\\ivanj\\AppData\\Local\\Programs\\Python\\Python313\\Lib\\site-packages\\lightgbm\\basic.py:2137: UserWarning: categorical_feature keyword has been found in `params` and will be ignored.\n",
      "Please use categorical_feature argument of the Dataset constructor to pass this parameter.\n",
      "  _log_warning(\n",
      "c:\\Users\\ivanj\\AppData\\Local\\Programs\\Python\\Python313\\Lib\\site-packages\\lightgbm\\basic.py:2159: UserWarning: categorical_feature in param dict is overridden.\n",
      "  _log_warning(f\"{cat_alias} in param dict is overridden.\")\n",
      "c:\\Users\\ivanj\\AppData\\Local\\Programs\\Python\\Python313\\Lib\\site-packages\\lightgbm\\basic.py:2137: UserWarning: categorical_feature keyword has been found in `params` and will be ignored.\n",
      "Please use categorical_feature argument of the Dataset constructor to pass this parameter.\n",
      "  _log_warning(\n",
      "c:\\Users\\ivanj\\AppData\\Local\\Programs\\Python\\Python313\\Lib\\site-packages\\lightgbm\\basic.py:2159: UserWarning: categorical_feature in param dict is overridden.\n",
      "  _log_warning(f\"{cat_alias} in param dict is overridden.\")\n",
      "c:\\Users\\ivanj\\AppData\\Local\\Programs\\Python\\Python313\\Lib\\site-packages\\lightgbm\\basic.py:2137: UserWarning: categorical_feature keyword has been found in `params` and will be ignored.\n",
      "Please use categorical_feature argument of the Dataset constructor to pass this parameter.\n",
      "  _log_warning(\n",
      "c:\\Users\\ivanj\\AppData\\Local\\Programs\\Python\\Python313\\Lib\\site-packages\\lightgbm\\basic.py:2159: UserWarning: categorical_feature in param dict is overridden.\n",
      "  _log_warning(f\"{cat_alias} in param dict is overridden.\")\n",
      "c:\\Users\\ivanj\\AppData\\Local\\Programs\\Python\\Python313\\Lib\\site-packages\\lightgbm\\basic.py:2137: UserWarning: categorical_feature keyword has been found in `params` and will be ignored.\n",
      "Please use categorical_feature argument of the Dataset constructor to pass this parameter.\n",
      "  _log_warning(\n",
      "c:\\Users\\ivanj\\AppData\\Local\\Programs\\Python\\Python313\\Lib\\site-packages\\lightgbm\\basic.py:2159: UserWarning: categorical_feature in param dict is overridden.\n",
      "  _log_warning(f\"{cat_alias} in param dict is overridden.\")\n",
      "c:\\Users\\ivanj\\AppData\\Local\\Programs\\Python\\Python313\\Lib\\site-packages\\lightgbm\\basic.py:2137: UserWarning: categorical_feature keyword has been found in `params` and will be ignored.\n",
      "Please use categorical_feature argument of the Dataset constructor to pass this parameter.\n",
      "  _log_warning(\n",
      "c:\\Users\\ivanj\\AppData\\Local\\Programs\\Python\\Python313\\Lib\\site-packages\\lightgbm\\basic.py:2159: UserWarning: categorical_feature in param dict is overridden.\n",
      "  _log_warning(f\"{cat_alias} in param dict is overridden.\")\n",
      "c:\\Users\\ivanj\\AppData\\Local\\Programs\\Python\\Python313\\Lib\\site-packages\\lightgbm\\basic.py:2137: UserWarning: categorical_feature keyword has been found in `params` and will be ignored.\n",
      "Please use categorical_feature argument of the Dataset constructor to pass this parameter.\n",
      "  _log_warning(\n",
      "c:\\Users\\ivanj\\AppData\\Local\\Programs\\Python\\Python313\\Lib\\site-packages\\lightgbm\\basic.py:2159: UserWarning: categorical_feature in param dict is overridden.\n",
      "  _log_warning(f\"{cat_alias} in param dict is overridden.\")\n",
      "c:\\Users\\ivanj\\AppData\\Local\\Programs\\Python\\Python313\\Lib\\site-packages\\lightgbm\\basic.py:2137: UserWarning: categorical_feature keyword has been found in `params` and will be ignored.\n",
      "Please use categorical_feature argument of the Dataset constructor to pass this parameter.\n",
      "  _log_warning(\n",
      "c:\\Users\\ivanj\\AppData\\Local\\Programs\\Python\\Python313\\Lib\\site-packages\\lightgbm\\basic.py:2159: UserWarning: categorical_feature in param dict is overridden.\n",
      "  _log_warning(f\"{cat_alias} in param dict is overridden.\")\n",
      "c:\\Users\\ivanj\\AppData\\Local\\Programs\\Python\\Python313\\Lib\\site-packages\\lightgbm\\basic.py:2137: UserWarning: categorical_feature keyword has been found in `params` and will be ignored.\n",
      "Please use categorical_feature argument of the Dataset constructor to pass this parameter.\n",
      "  _log_warning(\n",
      "c:\\Users\\ivanj\\AppData\\Local\\Programs\\Python\\Python313\\Lib\\site-packages\\lightgbm\\basic.py:2159: UserWarning: categorical_feature in param dict is overridden.\n",
      "  _log_warning(f\"{cat_alias} in param dict is overridden.\")\n",
      "c:\\Users\\ivanj\\AppData\\Local\\Programs\\Python\\Python313\\Lib\\site-packages\\lightgbm\\basic.py:2137: UserWarning: categorical_feature keyword has been found in `params` and will be ignored.\n",
      "Please use categorical_feature argument of the Dataset constructor to pass this parameter.\n",
      "  _log_warning(\n",
      "c:\\Users\\ivanj\\AppData\\Local\\Programs\\Python\\Python313\\Lib\\site-packages\\lightgbm\\basic.py:2159: UserWarning: categorical_feature in param dict is overridden.\n",
      "  _log_warning(f\"{cat_alias} in param dict is overridden.\")\n"
     ]
    },
    {
     "name": "stdout",
     "output_type": "stream",
     "text": [
      "[LightGBM] [Warning] Using sparse features with CUDA is currently not supported.\n",
      "[LightGBM] [Warning] categorical_feature is set=lang, categorical_column=6 will be ignored. Current value: categorical_feature=lang\n",
      "[LightGBM] [Info] Number of positive: 6323, number of negative: 12544\n",
      "[CV] END learning_rate=0.01, n_estimators=500, num_leaves=45; total time=   0.0s\n",
      "[LightGBM] [Warning] Using sparse features with CUDA is currently not supported.\n",
      "[LightGBM] [Warning] categorical_feature is set=lang, categorical_column=6 will be ignored. Current value: categorical_feature=lang\n",
      "[LightGBM] [Info] Number of positive: 6323, number of negative: 12544\n",
      "[CV] END learning_rate=0.01, n_estimators=500, num_leaves=45; total time=   0.0s\n",
      "[LightGBM] [Warning] Using sparse features with CUDA is currently not supported.\n",
      "[LightGBM] [Warning] categorical_feature is set=lang, categorical_column=6 will be ignored. Current value: categorical_feature=lang\n",
      "[LightGBM] [Info] Number of positive: 6323, number of negative: 12544\n",
      "[CV] END learning_rate=0.01, n_estimators=500, num_leaves=45; total time=   0.0s\n",
      "[LightGBM] [Warning] Using sparse features with CUDA is currently not supported.\n",
      "[LightGBM] [Warning] categorical_feature is set=lang, categorical_column=6 will be ignored. Current value: categorical_feature=lang\n",
      "[LightGBM] [Info] Number of positive: 6323, number of negative: 12545\n",
      "[CV] END learning_rate=0.01, n_estimators=500, num_leaves=45; total time=   0.0s\n",
      "[LightGBM] [Warning] Using sparse features with CUDA is currently not supported.\n",
      "[LightGBM] [Warning] categorical_feature is set=lang, categorical_column=6 will be ignored. Current value: categorical_feature=lang\n",
      "[LightGBM] [Info] Number of positive: 6323, number of negative: 12545\n",
      "[CV] END learning_rate=0.01, n_estimators=500, num_leaves=45; total time=   0.0s\n",
      "[LightGBM] [Warning] Using sparse features with CUDA is currently not supported.\n",
      "[LightGBM] [Warning] categorical_feature is set=lang, categorical_column=6 will be ignored. Current value: categorical_feature=lang\n",
      "[LightGBM] [Info] Number of positive: 6324, number of negative: 12544\n",
      "[CV] END learning_rate=0.01, n_estimators=500, num_leaves=45; total time=   0.0s\n",
      "[LightGBM] [Warning] Using sparse features with CUDA is currently not supported.\n",
      "[LightGBM] [Warning] categorical_feature is set=lang, categorical_column=6 will be ignored. Current value: categorical_feature=lang\n",
      "[LightGBM] [Info] Number of positive: 6324, number of negative: 12544\n",
      "[CV] END learning_rate=0.01, n_estimators=500, num_leaves=45; total time=   0.0s\n",
      "[LightGBM] [Warning] Using sparse features with CUDA is currently not supported.\n",
      "[LightGBM] [Warning] categorical_feature is set=lang, categorical_column=6 will be ignored. Current value: categorical_feature=lang\n",
      "[LightGBM] [Info] Number of positive: 6324, number of negative: 12544\n",
      "[CV] END learning_rate=0.01, n_estimators=500, num_leaves=45; total time=   0.0s\n",
      "[LightGBM] [Warning] Using sparse features with CUDA is currently not supported.\n",
      "[LightGBM] [Warning] categorical_feature is set=lang, categorical_column=6 will be ignored. Current value: categorical_feature=lang\n",
      "[LightGBM] [Info] Number of positive: 6324, number of negative: 12544\n",
      "[CV] END learning_rate=0.01, n_estimators=500, num_leaves=45; total time=   0.0s\n",
      "[LightGBM] [Warning] Using sparse features with CUDA is currently not supported.\n",
      "[LightGBM] [Warning] categorical_feature is set=lang, categorical_column=6 will be ignored. Current value: categorical_feature=lang\n",
      "[LightGBM] [Info] Number of positive: 6323, number of negative: 12544\n",
      "[CV] END learning_rate=0.01, n_estimators=600, num_leaves=15; total time=   0.0s\n",
      "[LightGBM] [Warning] Using sparse features with CUDA is currently not supported.\n",
      "[LightGBM] [Warning] categorical_feature is set=lang, categorical_column=6 will be ignored. Current value: categorical_feature=lang\n",
      "[LightGBM] [Info] Number of positive: 6323, number of negative: 12544\n",
      "[CV] END learning_rate=0.01, n_estimators=600, num_leaves=15; total time=   0.0s\n",
      "[LightGBM] [Warning] Using sparse features with CUDA is currently not supported.\n",
      "[LightGBM] [Warning] categorical_feature is set=lang, categorical_column=6 will be ignored. Current value: categorical_feature=lang\n",
      "[LightGBM] [Info] Number of positive: 6323, number of negative: 12544\n",
      "[CV] END learning_rate=0.01, n_estimators=600, num_leaves=15; total time=   0.0s\n",
      "[LightGBM] [Warning] Using sparse features with CUDA is currently not supported.\n",
      "[LightGBM] [Warning] categorical_feature is set=lang, categorical_column=6 will be ignored. Current value: categorical_feature=lang\n",
      "[LightGBM] [Info] Number of positive: 6323, number of negative: 12544\n",
      "[CV] END learning_rate=0.01, n_estimators=600, num_leaves=15; total time=   0.0s\n",
      "[LightGBM] [Warning] Using sparse features with CUDA is currently not supported.\n",
      "[LightGBM] [Warning] categorical_feature is set=lang, categorical_column=6 will be ignored. Current value: categorical_feature=lang\n",
      "[LightGBM] [Info] Number of positive: 6323, number of negative: 12545\n",
      "[CV] END learning_rate=0.01, n_estimators=600, num_leaves=15; total time=   0.0s\n",
      "[LightGBM] [Warning] Using sparse features with CUDA is currently not supported.\n",
      "[LightGBM] [Warning] categorical_feature is set=lang, categorical_column=6 will be ignored. Current value: categorical_feature=lang\n",
      "[LightGBM] [Info] Number of positive: 6323, number of negative: 12545\n",
      "[CV] END learning_rate=0.01, n_estimators=600, num_leaves=15; total time=   0.0s\n",
      "[LightGBM] [Warning] Using sparse features with CUDA is currently not supported.\n",
      "[LightGBM] [Warning] categorical_feature is set=lang, categorical_column=6 will be ignored. Current value: categorical_feature=lang\n",
      "[LightGBM] [Info] Number of positive: 6324, number of negative: 12544\n",
      "[CV] END learning_rate=0.01, n_estimators=600, num_leaves=15; total time=   0.0s\n"
     ]
    },
    {
     "name": "stderr",
     "output_type": "stream",
     "text": [
      "c:\\Users\\ivanj\\AppData\\Local\\Programs\\Python\\Python313\\Lib\\site-packages\\lightgbm\\basic.py:2137: UserWarning: categorical_feature keyword has been found in `params` and will be ignored.\n",
      "Please use categorical_feature argument of the Dataset constructor to pass this parameter.\n",
      "  _log_warning(\n",
      "c:\\Users\\ivanj\\AppData\\Local\\Programs\\Python\\Python313\\Lib\\site-packages\\lightgbm\\basic.py:2159: UserWarning: categorical_feature in param dict is overridden.\n",
      "  _log_warning(f\"{cat_alias} in param dict is overridden.\")\n",
      "c:\\Users\\ivanj\\AppData\\Local\\Programs\\Python\\Python313\\Lib\\site-packages\\lightgbm\\basic.py:2137: UserWarning: categorical_feature keyword has been found in `params` and will be ignored.\n",
      "Please use categorical_feature argument of the Dataset constructor to pass this parameter.\n",
      "  _log_warning(\n",
      "c:\\Users\\ivanj\\AppData\\Local\\Programs\\Python\\Python313\\Lib\\site-packages\\lightgbm\\basic.py:2159: UserWarning: categorical_feature in param dict is overridden.\n",
      "  _log_warning(f\"{cat_alias} in param dict is overridden.\")\n",
      "c:\\Users\\ivanj\\AppData\\Local\\Programs\\Python\\Python313\\Lib\\site-packages\\lightgbm\\basic.py:2137: UserWarning: categorical_feature keyword has been found in `params` and will be ignored.\n",
      "Please use categorical_feature argument of the Dataset constructor to pass this parameter.\n",
      "  _log_warning(\n",
      "c:\\Users\\ivanj\\AppData\\Local\\Programs\\Python\\Python313\\Lib\\site-packages\\lightgbm\\basic.py:2159: UserWarning: categorical_feature in param dict is overridden.\n",
      "  _log_warning(f\"{cat_alias} in param dict is overridden.\")\n",
      "c:\\Users\\ivanj\\AppData\\Local\\Programs\\Python\\Python313\\Lib\\site-packages\\lightgbm\\basic.py:2137: UserWarning: categorical_feature keyword has been found in `params` and will be ignored.\n",
      "Please use categorical_feature argument of the Dataset constructor to pass this parameter.\n",
      "  _log_warning(\n",
      "c:\\Users\\ivanj\\AppData\\Local\\Programs\\Python\\Python313\\Lib\\site-packages\\lightgbm\\basic.py:2159: UserWarning: categorical_feature in param dict is overridden.\n",
      "  _log_warning(f\"{cat_alias} in param dict is overridden.\")\n",
      "c:\\Users\\ivanj\\AppData\\Local\\Programs\\Python\\Python313\\Lib\\site-packages\\lightgbm\\basic.py:2137: UserWarning: categorical_feature keyword has been found in `params` and will be ignored.\n",
      "Please use categorical_feature argument of the Dataset constructor to pass this parameter.\n",
      "  _log_warning(\n",
      "c:\\Users\\ivanj\\AppData\\Local\\Programs\\Python\\Python313\\Lib\\site-packages\\lightgbm\\basic.py:2159: UserWarning: categorical_feature in param dict is overridden.\n",
      "  _log_warning(f\"{cat_alias} in param dict is overridden.\")\n",
      "c:\\Users\\ivanj\\AppData\\Local\\Programs\\Python\\Python313\\Lib\\site-packages\\lightgbm\\basic.py:2137: UserWarning: categorical_feature keyword has been found in `params` and will be ignored.\n",
      "Please use categorical_feature argument of the Dataset constructor to pass this parameter.\n",
      "  _log_warning(\n",
      "c:\\Users\\ivanj\\AppData\\Local\\Programs\\Python\\Python313\\Lib\\site-packages\\lightgbm\\basic.py:2159: UserWarning: categorical_feature in param dict is overridden.\n",
      "  _log_warning(f\"{cat_alias} in param dict is overridden.\")\n",
      "c:\\Users\\ivanj\\AppData\\Local\\Programs\\Python\\Python313\\Lib\\site-packages\\lightgbm\\basic.py:2137: UserWarning: categorical_feature keyword has been found in `params` and will be ignored.\n",
      "Please use categorical_feature argument of the Dataset constructor to pass this parameter.\n",
      "  _log_warning(\n",
      "c:\\Users\\ivanj\\AppData\\Local\\Programs\\Python\\Python313\\Lib\\site-packages\\lightgbm\\basic.py:2159: UserWarning: categorical_feature in param dict is overridden.\n",
      "  _log_warning(f\"{cat_alias} in param dict is overridden.\")\n",
      "c:\\Users\\ivanj\\AppData\\Local\\Programs\\Python\\Python313\\Lib\\site-packages\\lightgbm\\basic.py:2137: UserWarning: categorical_feature keyword has been found in `params` and will be ignored.\n",
      "Please use categorical_feature argument of the Dataset constructor to pass this parameter.\n",
      "  _log_warning(\n",
      "c:\\Users\\ivanj\\AppData\\Local\\Programs\\Python\\Python313\\Lib\\site-packages\\lightgbm\\basic.py:2159: UserWarning: categorical_feature in param dict is overridden.\n",
      "  _log_warning(f\"{cat_alias} in param dict is overridden.\")\n",
      "c:\\Users\\ivanj\\AppData\\Local\\Programs\\Python\\Python313\\Lib\\site-packages\\lightgbm\\basic.py:2137: UserWarning: categorical_feature keyword has been found in `params` and will be ignored.\n",
      "Please use categorical_feature argument of the Dataset constructor to pass this parameter.\n",
      "  _log_warning(\n",
      "c:\\Users\\ivanj\\AppData\\Local\\Programs\\Python\\Python313\\Lib\\site-packages\\lightgbm\\basic.py:2159: UserWarning: categorical_feature in param dict is overridden.\n",
      "  _log_warning(f\"{cat_alias} in param dict is overridden.\")\n",
      "c:\\Users\\ivanj\\AppData\\Local\\Programs\\Python\\Python313\\Lib\\site-packages\\lightgbm\\basic.py:2137: UserWarning: categorical_feature keyword has been found in `params` and will be ignored.\n",
      "Please use categorical_feature argument of the Dataset constructor to pass this parameter.\n",
      "  _log_warning(\n",
      "c:\\Users\\ivanj\\AppData\\Local\\Programs\\Python\\Python313\\Lib\\site-packages\\lightgbm\\basic.py:2159: UserWarning: categorical_feature in param dict is overridden.\n",
      "  _log_warning(f\"{cat_alias} in param dict is overridden.\")\n",
      "c:\\Users\\ivanj\\AppData\\Local\\Programs\\Python\\Python313\\Lib\\site-packages\\lightgbm\\basic.py:2137: UserWarning: categorical_feature keyword has been found in `params` and will be ignored.\n",
      "Please use categorical_feature argument of the Dataset constructor to pass this parameter.\n",
      "  _log_warning(\n",
      "c:\\Users\\ivanj\\AppData\\Local\\Programs\\Python\\Python313\\Lib\\site-packages\\lightgbm\\basic.py:2159: UserWarning: categorical_feature in param dict is overridden.\n",
      "  _log_warning(f\"{cat_alias} in param dict is overridden.\")\n",
      "c:\\Users\\ivanj\\AppData\\Local\\Programs\\Python\\Python313\\Lib\\site-packages\\lightgbm\\basic.py:2137: UserWarning: categorical_feature keyword has been found in `params` and will be ignored.\n",
      "Please use categorical_feature argument of the Dataset constructor to pass this parameter.\n",
      "  _log_warning(\n",
      "c:\\Users\\ivanj\\AppData\\Local\\Programs\\Python\\Python313\\Lib\\site-packages\\lightgbm\\basic.py:2159: UserWarning: categorical_feature in param dict is overridden.\n",
      "  _log_warning(f\"{cat_alias} in param dict is overridden.\")\n",
      "c:\\Users\\ivanj\\AppData\\Local\\Programs\\Python\\Python313\\Lib\\site-packages\\lightgbm\\basic.py:2137: UserWarning: categorical_feature keyword has been found in `params` and will be ignored.\n",
      "Please use categorical_feature argument of the Dataset constructor to pass this parameter.\n",
      "  _log_warning(\n",
      "c:\\Users\\ivanj\\AppData\\Local\\Programs\\Python\\Python313\\Lib\\site-packages\\lightgbm\\basic.py:2159: UserWarning: categorical_feature in param dict is overridden.\n",
      "  _log_warning(f\"{cat_alias} in param dict is overridden.\")\n",
      "c:\\Users\\ivanj\\AppData\\Local\\Programs\\Python\\Python313\\Lib\\site-packages\\lightgbm\\basic.py:2137: UserWarning: categorical_feature keyword has been found in `params` and will be ignored.\n",
      "Please use categorical_feature argument of the Dataset constructor to pass this parameter.\n",
      "  _log_warning(\n",
      "c:\\Users\\ivanj\\AppData\\Local\\Programs\\Python\\Python313\\Lib\\site-packages\\lightgbm\\basic.py:2159: UserWarning: categorical_feature in param dict is overridden.\n",
      "  _log_warning(f\"{cat_alias} in param dict is overridden.\")\n",
      "c:\\Users\\ivanj\\AppData\\Local\\Programs\\Python\\Python313\\Lib\\site-packages\\lightgbm\\basic.py:2137: UserWarning: categorical_feature keyword has been found in `params` and will be ignored.\n",
      "Please use categorical_feature argument of the Dataset constructor to pass this parameter.\n",
      "  _log_warning(\n",
      "c:\\Users\\ivanj\\AppData\\Local\\Programs\\Python\\Python313\\Lib\\site-packages\\lightgbm\\basic.py:2159: UserWarning: categorical_feature in param dict is overridden.\n",
      "  _log_warning(f\"{cat_alias} in param dict is overridden.\")\n",
      "c:\\Users\\ivanj\\AppData\\Local\\Programs\\Python\\Python313\\Lib\\site-packages\\lightgbm\\basic.py:2137: UserWarning: categorical_feature keyword has been found in `params` and will be ignored.\n",
      "Please use categorical_feature argument of the Dataset constructor to pass this parameter.\n",
      "  _log_warning(\n",
      "c:\\Users\\ivanj\\AppData\\Local\\Programs\\Python\\Python313\\Lib\\site-packages\\lightgbm\\basic.py:2159: UserWarning: categorical_feature in param dict is overridden.\n",
      "  _log_warning(f\"{cat_alias} in param dict is overridden.\")\n",
      "c:\\Users\\ivanj\\AppData\\Local\\Programs\\Python\\Python313\\Lib\\site-packages\\lightgbm\\basic.py:2137: UserWarning: categorical_feature keyword has been found in `params` and will be ignored.\n",
      "Please use categorical_feature argument of the Dataset constructor to pass this parameter.\n",
      "  _log_warning(\n",
      "c:\\Users\\ivanj\\AppData\\Local\\Programs\\Python\\Python313\\Lib\\site-packages\\lightgbm\\basic.py:2159: UserWarning: categorical_feature in param dict is overridden.\n",
      "  _log_warning(f\"{cat_alias} in param dict is overridden.\")\n"
     ]
    },
    {
     "name": "stdout",
     "output_type": "stream",
     "text": [
      "[LightGBM] [Warning] Using sparse features with CUDA is currently not supported.\n",
      "[LightGBM] [Warning] categorical_feature is set=lang, categorical_column=6 will be ignored. Current value: categorical_feature=lang\n",
      "[LightGBM] [Info] Number of positive: 6324, number of negative: 12544\n",
      "[CV] END learning_rate=0.01, n_estimators=600, num_leaves=15; total time=   0.0s\n",
      "[LightGBM] [Warning] Using sparse features with CUDA is currently not supported.\n",
      "[LightGBM] [Warning] categorical_feature is set=lang, categorical_column=6 will be ignored. Current value: categorical_feature=lang\n",
      "[LightGBM] [Info] Number of positive: 6324, number of negative: 12544\n",
      "[CV] END learning_rate=0.01, n_estimators=600, num_leaves=15; total time=   0.0s\n",
      "[LightGBM] [Warning] Using sparse features with CUDA is currently not supported.\n",
      "[LightGBM] [Warning] categorical_feature is set=lang, categorical_column=6 will be ignored. Current value: categorical_feature=lang\n",
      "[LightGBM] [Info] Number of positive: 6324, number of negative: 12544\n",
      "[CV] END learning_rate=0.01, n_estimators=600, num_leaves=15; total time=   0.0s\n",
      "[LightGBM] [Warning] Using sparse features with CUDA is currently not supported.\n",
      "[LightGBM] [Warning] categorical_feature is set=lang, categorical_column=6 will be ignored. Current value: categorical_feature=lang\n",
      "[LightGBM] [Info] Number of positive: 6323, number of negative: 12544\n",
      "[CV] END learning_rate=0.01, n_estimators=600, num_leaves=30; total time=   0.0s\n",
      "[LightGBM] [Warning] Using sparse features with CUDA is currently not supported.\n",
      "[LightGBM] [Warning] categorical_feature is set=lang, categorical_column=6 will be ignored. Current value: categorical_feature=lang\n",
      "[LightGBM] [Info] Number of positive: 6323, number of negative: 12544\n",
      "[CV] END learning_rate=0.01, n_estimators=600, num_leaves=30; total time=   0.0s\n",
      "[LightGBM] [Warning] Using sparse features with CUDA is currently not supported.\n",
      "[LightGBM] [Warning] categorical_feature is set=lang, categorical_column=6 will be ignored. Current value: categorical_feature=lang\n",
      "[LightGBM] [Info] Number of positive: 6323, number of negative: 12544\n",
      "[CV] END learning_rate=0.01, n_estimators=600, num_leaves=30; total time=   0.0s\n",
      "[LightGBM] [Warning] Using sparse features with CUDA is currently not supported.\n",
      "[LightGBM] [Warning] categorical_feature is set=lang, categorical_column=6 will be ignored. Current value: categorical_feature=lang\n",
      "[LightGBM] [Info] Number of positive: 6323, number of negative: 12544\n",
      "[CV] END learning_rate=0.01, n_estimators=600, num_leaves=30; total time=   0.0s\n",
      "[LightGBM] [Warning] Using sparse features with CUDA is currently not supported.\n",
      "[LightGBM] [Warning] categorical_feature is set=lang, categorical_column=6 will be ignored. Current value: categorical_feature=lang\n",
      "[LightGBM] [Info] Number of positive: 6323, number of negative: 12545\n",
      "[CV] END learning_rate=0.01, n_estimators=600, num_leaves=30; total time=   0.0s\n",
      "[LightGBM] [Warning] Using sparse features with CUDA is currently not supported.\n",
      "[LightGBM] [Warning] categorical_feature is set=lang, categorical_column=6 will be ignored. Current value: categorical_feature=lang\n",
      "[LightGBM] [Info] Number of positive: 6323, number of negative: 12545\n",
      "[CV] END learning_rate=0.01, n_estimators=600, num_leaves=30; total time=   0.0s\n",
      "[LightGBM] [Warning] Using sparse features with CUDA is currently not supported.\n",
      "[LightGBM] [Warning] categorical_feature is set=lang, categorical_column=6 will be ignored. Current value: categorical_feature=lang\n",
      "[LightGBM] [Info] Number of positive: 6324, number of negative: 12544\n",
      "[CV] END learning_rate=0.01, n_estimators=600, num_leaves=30; total time=   0.0s\n",
      "[LightGBM] [Warning] Using sparse features with CUDA is currently not supported.\n",
      "[LightGBM] [Warning] categorical_feature is set=lang, categorical_column=6 will be ignored. Current value: categorical_feature=lang\n",
      "[LightGBM] [Info] Number of positive: 6324, number of negative: 12544\n",
      "[CV] END learning_rate=0.01, n_estimators=600, num_leaves=30; total time=   0.0s\n",
      "[LightGBM] [Warning] Using sparse features with CUDA is currently not supported.\n",
      "[LightGBM] [Warning] categorical_feature is set=lang, categorical_column=6 will be ignored. Current value: categorical_feature=lang\n",
      "[LightGBM] [Info] Number of positive: 6324, number of negative: 12544\n",
      "[CV] END learning_rate=0.01, n_estimators=600, num_leaves=30; total time=   0.0s\n",
      "[LightGBM] [Warning] Using sparse features with CUDA is currently not supported.\n",
      "[LightGBM] [Warning] categorical_feature is set=lang, categorical_column=6 will be ignored. Current value: categorical_feature=lang\n",
      "[LightGBM] [Info] Number of positive: 6324, number of negative: 12544\n",
      "[CV] END learning_rate=0.01, n_estimators=600, num_leaves=30; total time=   0.0s\n",
      "[LightGBM] [Warning] Using sparse features with CUDA is currently not supported.\n",
      "[LightGBM] [Warning] categorical_feature is set=lang, categorical_column=6 will be ignored. Current value: categorical_feature=lang\n",
      "[LightGBM] [Info] Number of positive: 6323, number of negative: 12544\n",
      "[CV] END learning_rate=0.01, n_estimators=600, num_leaves=45; total time=   0.0s\n",
      "[LightGBM] [Warning] Using sparse features with CUDA is currently not supported.\n",
      "[LightGBM] [Warning] categorical_feature is set=lang, categorical_column=6 will be ignored. Current value: categorical_feature=lang\n",
      "[LightGBM] [Info] Number of positive: 6323, number of negative: 12544\n",
      "[CV] END learning_rate=0.01, n_estimators=600, num_leaves=45; total time=   0.0s\n",
      "[LightGBM] [Warning] Using sparse features with CUDA is currently not supported.\n",
      "[LightGBM] [Warning] categorical_feature is set=lang, categorical_column=6 will be ignored. Current value: categorical_feature=lang\n",
      "[LightGBM] [Info] Number of positive: 6323, number of negative: 12544\n",
      "[CV] END learning_rate=0.01, n_estimators=600, num_leaves=45; total time=   0.0s\n",
      "[LightGBM] [Warning] Using sparse features with CUDA is currently not supported.\n",
      "[LightGBM] [Warning] categorical_feature is set=lang, categorical_column=6 will be ignored. Current value: categorical_feature=lang\n",
      "[LightGBM] [Info] Number of positive: 6323, number of negative: 12544\n"
     ]
    },
    {
     "name": "stderr",
     "output_type": "stream",
     "text": [
      "c:\\Users\\ivanj\\AppData\\Local\\Programs\\Python\\Python313\\Lib\\site-packages\\lightgbm\\basic.py:2137: UserWarning: categorical_feature keyword has been found in `params` and will be ignored.\n",
      "Please use categorical_feature argument of the Dataset constructor to pass this parameter.\n",
      "  _log_warning(\n",
      "c:\\Users\\ivanj\\AppData\\Local\\Programs\\Python\\Python313\\Lib\\site-packages\\lightgbm\\basic.py:2159: UserWarning: categorical_feature in param dict is overridden.\n",
      "  _log_warning(f\"{cat_alias} in param dict is overridden.\")\n",
      "c:\\Users\\ivanj\\AppData\\Local\\Programs\\Python\\Python313\\Lib\\site-packages\\lightgbm\\basic.py:2137: UserWarning: categorical_feature keyword has been found in `params` and will be ignored.\n",
      "Please use categorical_feature argument of the Dataset constructor to pass this parameter.\n",
      "  _log_warning(\n",
      "c:\\Users\\ivanj\\AppData\\Local\\Programs\\Python\\Python313\\Lib\\site-packages\\lightgbm\\basic.py:2159: UserWarning: categorical_feature in param dict is overridden.\n",
      "  _log_warning(f\"{cat_alias} in param dict is overridden.\")\n",
      "c:\\Users\\ivanj\\AppData\\Local\\Programs\\Python\\Python313\\Lib\\site-packages\\lightgbm\\basic.py:2137: UserWarning: categorical_feature keyword has been found in `params` and will be ignored.\n",
      "Please use categorical_feature argument of the Dataset constructor to pass this parameter.\n",
      "  _log_warning(\n",
      "c:\\Users\\ivanj\\AppData\\Local\\Programs\\Python\\Python313\\Lib\\site-packages\\lightgbm\\basic.py:2159: UserWarning: categorical_feature in param dict is overridden.\n",
      "  _log_warning(f\"{cat_alias} in param dict is overridden.\")\n",
      "c:\\Users\\ivanj\\AppData\\Local\\Programs\\Python\\Python313\\Lib\\site-packages\\lightgbm\\basic.py:2137: UserWarning: categorical_feature keyword has been found in `params` and will be ignored.\n",
      "Please use categorical_feature argument of the Dataset constructor to pass this parameter.\n",
      "  _log_warning(\n",
      "c:\\Users\\ivanj\\AppData\\Local\\Programs\\Python\\Python313\\Lib\\site-packages\\lightgbm\\basic.py:2159: UserWarning: categorical_feature in param dict is overridden.\n",
      "  _log_warning(f\"{cat_alias} in param dict is overridden.\")\n",
      "c:\\Users\\ivanj\\AppData\\Local\\Programs\\Python\\Python313\\Lib\\site-packages\\lightgbm\\basic.py:2137: UserWarning: categorical_feature keyword has been found in `params` and will be ignored.\n",
      "Please use categorical_feature argument of the Dataset constructor to pass this parameter.\n",
      "  _log_warning(\n",
      "c:\\Users\\ivanj\\AppData\\Local\\Programs\\Python\\Python313\\Lib\\site-packages\\lightgbm\\basic.py:2159: UserWarning: categorical_feature in param dict is overridden.\n",
      "  _log_warning(f\"{cat_alias} in param dict is overridden.\")\n",
      "c:\\Users\\ivanj\\AppData\\Local\\Programs\\Python\\Python313\\Lib\\site-packages\\lightgbm\\basic.py:2137: UserWarning: categorical_feature keyword has been found in `params` and will be ignored.\n",
      "Please use categorical_feature argument of the Dataset constructor to pass this parameter.\n",
      "  _log_warning(\n",
      "c:\\Users\\ivanj\\AppData\\Local\\Programs\\Python\\Python313\\Lib\\site-packages\\lightgbm\\basic.py:2159: UserWarning: categorical_feature in param dict is overridden.\n",
      "  _log_warning(f\"{cat_alias} in param dict is overridden.\")\n",
      "c:\\Users\\ivanj\\AppData\\Local\\Programs\\Python\\Python313\\Lib\\site-packages\\lightgbm\\basic.py:2137: UserWarning: categorical_feature keyword has been found in `params` and will be ignored.\n",
      "Please use categorical_feature argument of the Dataset constructor to pass this parameter.\n",
      "  _log_warning(\n",
      "c:\\Users\\ivanj\\AppData\\Local\\Programs\\Python\\Python313\\Lib\\site-packages\\lightgbm\\basic.py:2159: UserWarning: categorical_feature in param dict is overridden.\n",
      "  _log_warning(f\"{cat_alias} in param dict is overridden.\")\n",
      "c:\\Users\\ivanj\\AppData\\Local\\Programs\\Python\\Python313\\Lib\\site-packages\\lightgbm\\basic.py:2137: UserWarning: categorical_feature keyword has been found in `params` and will be ignored.\n",
      "Please use categorical_feature argument of the Dataset constructor to pass this parameter.\n",
      "  _log_warning(\n",
      "c:\\Users\\ivanj\\AppData\\Local\\Programs\\Python\\Python313\\Lib\\site-packages\\lightgbm\\basic.py:2159: UserWarning: categorical_feature in param dict is overridden.\n",
      "  _log_warning(f\"{cat_alias} in param dict is overridden.\")\n",
      "c:\\Users\\ivanj\\AppData\\Local\\Programs\\Python\\Python313\\Lib\\site-packages\\lightgbm\\basic.py:2137: UserWarning: categorical_feature keyword has been found in `params` and will be ignored.\n",
      "Please use categorical_feature argument of the Dataset constructor to pass this parameter.\n",
      "  _log_warning(\n",
      "c:\\Users\\ivanj\\AppData\\Local\\Programs\\Python\\Python313\\Lib\\site-packages\\lightgbm\\basic.py:2159: UserWarning: categorical_feature in param dict is overridden.\n",
      "  _log_warning(f\"{cat_alias} in param dict is overridden.\")\n",
      "c:\\Users\\ivanj\\AppData\\Local\\Programs\\Python\\Python313\\Lib\\site-packages\\lightgbm\\basic.py:2137: UserWarning: categorical_feature keyword has been found in `params` and will be ignored.\n",
      "Please use categorical_feature argument of the Dataset constructor to pass this parameter.\n",
      "  _log_warning(\n",
      "c:\\Users\\ivanj\\AppData\\Local\\Programs\\Python\\Python313\\Lib\\site-packages\\lightgbm\\basic.py:2159: UserWarning: categorical_feature in param dict is overridden.\n",
      "  _log_warning(f\"{cat_alias} in param dict is overridden.\")\n",
      "c:\\Users\\ivanj\\AppData\\Local\\Programs\\Python\\Python313\\Lib\\site-packages\\lightgbm\\basic.py:2137: UserWarning: categorical_feature keyword has been found in `params` and will be ignored.\n",
      "Please use categorical_feature argument of the Dataset constructor to pass this parameter.\n",
      "  _log_warning(\n",
      "c:\\Users\\ivanj\\AppData\\Local\\Programs\\Python\\Python313\\Lib\\site-packages\\lightgbm\\basic.py:2159: UserWarning: categorical_feature in param dict is overridden.\n",
      "  _log_warning(f\"{cat_alias} in param dict is overridden.\")\n",
      "c:\\Users\\ivanj\\AppData\\Local\\Programs\\Python\\Python313\\Lib\\site-packages\\lightgbm\\basic.py:2137: UserWarning: categorical_feature keyword has been found in `params` and will be ignored.\n",
      "Please use categorical_feature argument of the Dataset constructor to pass this parameter.\n",
      "  _log_warning(\n",
      "c:\\Users\\ivanj\\AppData\\Local\\Programs\\Python\\Python313\\Lib\\site-packages\\lightgbm\\basic.py:2159: UserWarning: categorical_feature in param dict is overridden.\n",
      "  _log_warning(f\"{cat_alias} in param dict is overridden.\")\n",
      "c:\\Users\\ivanj\\AppData\\Local\\Programs\\Python\\Python313\\Lib\\site-packages\\lightgbm\\basic.py:2137: UserWarning: categorical_feature keyword has been found in `params` and will be ignored.\n",
      "Please use categorical_feature argument of the Dataset constructor to pass this parameter.\n",
      "  _log_warning(\n",
      "c:\\Users\\ivanj\\AppData\\Local\\Programs\\Python\\Python313\\Lib\\site-packages\\lightgbm\\basic.py:2159: UserWarning: categorical_feature in param dict is overridden.\n",
      "  _log_warning(f\"{cat_alias} in param dict is overridden.\")\n",
      "c:\\Users\\ivanj\\AppData\\Local\\Programs\\Python\\Python313\\Lib\\site-packages\\lightgbm\\basic.py:2137: UserWarning: categorical_feature keyword has been found in `params` and will be ignored.\n",
      "Please use categorical_feature argument of the Dataset constructor to pass this parameter.\n",
      "  _log_warning(\n",
      "c:\\Users\\ivanj\\AppData\\Local\\Programs\\Python\\Python313\\Lib\\site-packages\\lightgbm\\basic.py:2159: UserWarning: categorical_feature in param dict is overridden.\n",
      "  _log_warning(f\"{cat_alias} in param dict is overridden.\")\n",
      "c:\\Users\\ivanj\\AppData\\Local\\Programs\\Python\\Python313\\Lib\\site-packages\\lightgbm\\basic.py:2137: UserWarning: categorical_feature keyword has been found in `params` and will be ignored.\n",
      "Please use categorical_feature argument of the Dataset constructor to pass this parameter.\n",
      "  _log_warning(\n",
      "c:\\Users\\ivanj\\AppData\\Local\\Programs\\Python\\Python313\\Lib\\site-packages\\lightgbm\\basic.py:2159: UserWarning: categorical_feature in param dict is overridden.\n",
      "  _log_warning(f\"{cat_alias} in param dict is overridden.\")\n",
      "c:\\Users\\ivanj\\AppData\\Local\\Programs\\Python\\Python313\\Lib\\site-packages\\lightgbm\\basic.py:2137: UserWarning: categorical_feature keyword has been found in `params` and will be ignored.\n",
      "Please use categorical_feature argument of the Dataset constructor to pass this parameter.\n",
      "  _log_warning(\n",
      "c:\\Users\\ivanj\\AppData\\Local\\Programs\\Python\\Python313\\Lib\\site-packages\\lightgbm\\basic.py:2159: UserWarning: categorical_feature in param dict is overridden.\n",
      "  _log_warning(f\"{cat_alias} in param dict is overridden.\")\n"
     ]
    },
    {
     "name": "stdout",
     "output_type": "stream",
     "text": [
      "[CV] END learning_rate=0.01, n_estimators=600, num_leaves=45; total time=   0.0s\n",
      "[LightGBM] [Warning] Using sparse features with CUDA is currently not supported.\n",
      "[LightGBM] [Warning] categorical_feature is set=lang, categorical_column=6 will be ignored. Current value: categorical_feature=lang\n",
      "[LightGBM] [Info] Number of positive: 6323, number of negative: 12545\n",
      "[CV] END learning_rate=0.01, n_estimators=600, num_leaves=45; total time=   0.0s\n",
      "[LightGBM] [Warning] Using sparse features with CUDA is currently not supported.\n",
      "[LightGBM] [Warning] categorical_feature is set=lang, categorical_column=6 will be ignored. Current value: categorical_feature=lang\n",
      "[LightGBM] [Info] Number of positive: 6323, number of negative: 12545\n",
      "[CV] END learning_rate=0.01, n_estimators=600, num_leaves=45; total time=   0.0s\n",
      "[LightGBM] [Warning] Using sparse features with CUDA is currently not supported.\n",
      "[LightGBM] [Warning] categorical_feature is set=lang, categorical_column=6 will be ignored. Current value: categorical_feature=lang\n",
      "[LightGBM] [Info] Number of positive: 6324, number of negative: 12544\n",
      "[CV] END learning_rate=0.01, n_estimators=600, num_leaves=45; total time=   0.0s\n",
      "[LightGBM] [Warning] Using sparse features with CUDA is currently not supported.\n",
      "[LightGBM] [Warning] categorical_feature is set=lang, categorical_column=6 will be ignored. Current value: categorical_feature=lang\n",
      "[LightGBM] [Info] Number of positive: 6324, number of negative: 12544\n",
      "[CV] END learning_rate=0.01, n_estimators=600, num_leaves=45; total time=   0.0s\n",
      "[LightGBM] [Warning] Using sparse features with CUDA is currently not supported.\n",
      "[LightGBM] [Warning] categorical_feature is set=lang, categorical_column=6 will be ignored. Current value: categorical_feature=lang\n",
      "[LightGBM] [Info] Number of positive: 6324, number of negative: 12544\n",
      "[CV] END learning_rate=0.01, n_estimators=600, num_leaves=45; total time=   0.0s\n",
      "[LightGBM] [Warning] Using sparse features with CUDA is currently not supported.\n",
      "[LightGBM] [Warning] categorical_feature is set=lang, categorical_column=6 will be ignored. Current value: categorical_feature=lang\n",
      "[LightGBM] [Info] Number of positive: 6324, number of negative: 12544\n",
      "[CV] END learning_rate=0.01, n_estimators=600, num_leaves=45; total time=   0.0s\n",
      "[LightGBM] [Warning] Using sparse features with CUDA is currently not supported.\n",
      "[LightGBM] [Warning] categorical_feature is set=lang, categorical_column=6 will be ignored. Current value: categorical_feature=lang\n",
      "[LightGBM] [Info] Number of positive: 6323, number of negative: 12544\n",
      "[CV] END learning_rate=0.02, n_estimators=400, num_leaves=15; total time=   0.0s\n",
      "[LightGBM] [Warning] Using sparse features with CUDA is currently not supported.\n",
      "[LightGBM] [Warning] categorical_feature is set=lang, categorical_column=6 will be ignored. Current value: categorical_feature=lang\n",
      "[LightGBM] [Info] Number of positive: 6323, number of negative: 12544\n",
      "[CV] END learning_rate=0.02, n_estimators=400, num_leaves=15; total time=   0.0s\n",
      "[LightGBM] [Warning] Using sparse features with CUDA is currently not supported.\n",
      "[LightGBM] [Warning] categorical_feature is set=lang, categorical_column=6 will be ignored. Current value: categorical_feature=lang\n",
      "[LightGBM] [Info] Number of positive: 6323, number of negative: 12544\n",
      "[CV] END learning_rate=0.02, n_estimators=400, num_leaves=15; total time=   0.0s\n",
      "[LightGBM] [Warning] Using sparse features with CUDA is currently not supported.\n",
      "[LightGBM] [Warning] categorical_feature is set=lang, categorical_column=6 will be ignored. Current value: categorical_feature=lang\n",
      "[LightGBM] [Info] Number of positive: 6323, number of negative: 12544\n",
      "[CV] END learning_rate=0.02, n_estimators=400, num_leaves=15; total time=   0.0s\n",
      "[LightGBM] [Warning] Using sparse features with CUDA is currently not supported.\n",
      "[LightGBM] [Warning] categorical_feature is set=lang, categorical_column=6 will be ignored. Current value: categorical_feature=lang\n",
      "[LightGBM] [Info] Number of positive: 6323, number of negative: 12545\n",
      "[CV] END learning_rate=0.02, n_estimators=400, num_leaves=15; total time=   0.0s\n",
      "[LightGBM] [Warning] Using sparse features with CUDA is currently not supported.\n",
      "[LightGBM] [Warning] categorical_feature is set=lang, categorical_column=6 will be ignored. Current value: categorical_feature=lang\n",
      "[LightGBM] [Info] Number of positive: 6323, number of negative: 12545\n",
      "[CV] END learning_rate=0.02, n_estimators=400, num_leaves=15; total time=   0.0s\n",
      "[LightGBM] [Warning] Using sparse features with CUDA is currently not supported.\n",
      "[LightGBM] [Warning] categorical_feature is set=lang, categorical_column=6 will be ignored. Current value: categorical_feature=lang\n",
      "[LightGBM] [Info] Number of positive: 6324, number of negative: 12544\n",
      "[CV] END learning_rate=0.02, n_estimators=400, num_leaves=15; total time=   0.0s\n",
      "[LightGBM] [Warning] Using sparse features with CUDA is currently not supported.\n",
      "[LightGBM] [Warning] categorical_feature is set=lang, categorical_column=6 will be ignored. Current value: categorical_feature=lang\n",
      "[LightGBM] [Info] Number of positive: 6324, number of negative: 12544\n",
      "[CV] END learning_rate=0.02, n_estimators=400, num_leaves=15; total time=   0.0s\n",
      "[LightGBM] [Warning] Using sparse features with CUDA is currently not supported.\n"
     ]
    },
    {
     "name": "stderr",
     "output_type": "stream",
     "text": [
      "c:\\Users\\ivanj\\AppData\\Local\\Programs\\Python\\Python313\\Lib\\site-packages\\lightgbm\\basic.py:2137: UserWarning: categorical_feature keyword has been found in `params` and will be ignored.\n",
      "Please use categorical_feature argument of the Dataset constructor to pass this parameter.\n",
      "  _log_warning(\n",
      "c:\\Users\\ivanj\\AppData\\Local\\Programs\\Python\\Python313\\Lib\\site-packages\\lightgbm\\basic.py:2159: UserWarning: categorical_feature in param dict is overridden.\n",
      "  _log_warning(f\"{cat_alias} in param dict is overridden.\")\n",
      "c:\\Users\\ivanj\\AppData\\Local\\Programs\\Python\\Python313\\Lib\\site-packages\\lightgbm\\basic.py:2137: UserWarning: categorical_feature keyword has been found in `params` and will be ignored.\n",
      "Please use categorical_feature argument of the Dataset constructor to pass this parameter.\n",
      "  _log_warning(\n",
      "c:\\Users\\ivanj\\AppData\\Local\\Programs\\Python\\Python313\\Lib\\site-packages\\lightgbm\\basic.py:2159: UserWarning: categorical_feature in param dict is overridden.\n",
      "  _log_warning(f\"{cat_alias} in param dict is overridden.\")\n",
      "c:\\Users\\ivanj\\AppData\\Local\\Programs\\Python\\Python313\\Lib\\site-packages\\lightgbm\\basic.py:2137: UserWarning: categorical_feature keyword has been found in `params` and will be ignored.\n",
      "Please use categorical_feature argument of the Dataset constructor to pass this parameter.\n",
      "  _log_warning(\n",
      "c:\\Users\\ivanj\\AppData\\Local\\Programs\\Python\\Python313\\Lib\\site-packages\\lightgbm\\basic.py:2159: UserWarning: categorical_feature in param dict is overridden.\n",
      "  _log_warning(f\"{cat_alias} in param dict is overridden.\")\n",
      "c:\\Users\\ivanj\\AppData\\Local\\Programs\\Python\\Python313\\Lib\\site-packages\\lightgbm\\basic.py:2137: UserWarning: categorical_feature keyword has been found in `params` and will be ignored.\n",
      "Please use categorical_feature argument of the Dataset constructor to pass this parameter.\n",
      "  _log_warning(\n",
      "c:\\Users\\ivanj\\AppData\\Local\\Programs\\Python\\Python313\\Lib\\site-packages\\lightgbm\\basic.py:2159: UserWarning: categorical_feature in param dict is overridden.\n",
      "  _log_warning(f\"{cat_alias} in param dict is overridden.\")\n",
      "c:\\Users\\ivanj\\AppData\\Local\\Programs\\Python\\Python313\\Lib\\site-packages\\lightgbm\\basic.py:2137: UserWarning: categorical_feature keyword has been found in `params` and will be ignored.\n",
      "Please use categorical_feature argument of the Dataset constructor to pass this parameter.\n",
      "  _log_warning(\n",
      "c:\\Users\\ivanj\\AppData\\Local\\Programs\\Python\\Python313\\Lib\\site-packages\\lightgbm\\basic.py:2159: UserWarning: categorical_feature in param dict is overridden.\n",
      "  _log_warning(f\"{cat_alias} in param dict is overridden.\")\n",
      "c:\\Users\\ivanj\\AppData\\Local\\Programs\\Python\\Python313\\Lib\\site-packages\\lightgbm\\basic.py:2137: UserWarning: categorical_feature keyword has been found in `params` and will be ignored.\n",
      "Please use categorical_feature argument of the Dataset constructor to pass this parameter.\n",
      "  _log_warning(\n",
      "c:\\Users\\ivanj\\AppData\\Local\\Programs\\Python\\Python313\\Lib\\site-packages\\lightgbm\\basic.py:2159: UserWarning: categorical_feature in param dict is overridden.\n",
      "  _log_warning(f\"{cat_alias} in param dict is overridden.\")\n",
      "c:\\Users\\ivanj\\AppData\\Local\\Programs\\Python\\Python313\\Lib\\site-packages\\lightgbm\\basic.py:2137: UserWarning: categorical_feature keyword has been found in `params` and will be ignored.\n",
      "Please use categorical_feature argument of the Dataset constructor to pass this parameter.\n",
      "  _log_warning(\n",
      "c:\\Users\\ivanj\\AppData\\Local\\Programs\\Python\\Python313\\Lib\\site-packages\\lightgbm\\basic.py:2159: UserWarning: categorical_feature in param dict is overridden.\n",
      "  _log_warning(f\"{cat_alias} in param dict is overridden.\")\n",
      "c:\\Users\\ivanj\\AppData\\Local\\Programs\\Python\\Python313\\Lib\\site-packages\\lightgbm\\basic.py:2137: UserWarning: categorical_feature keyword has been found in `params` and will be ignored.\n",
      "Please use categorical_feature argument of the Dataset constructor to pass this parameter.\n",
      "  _log_warning(\n",
      "c:\\Users\\ivanj\\AppData\\Local\\Programs\\Python\\Python313\\Lib\\site-packages\\lightgbm\\basic.py:2159: UserWarning: categorical_feature in param dict is overridden.\n",
      "  _log_warning(f\"{cat_alias} in param dict is overridden.\")\n",
      "c:\\Users\\ivanj\\AppData\\Local\\Programs\\Python\\Python313\\Lib\\site-packages\\lightgbm\\basic.py:2137: UserWarning: categorical_feature keyword has been found in `params` and will be ignored.\n",
      "Please use categorical_feature argument of the Dataset constructor to pass this parameter.\n",
      "  _log_warning(\n",
      "c:\\Users\\ivanj\\AppData\\Local\\Programs\\Python\\Python313\\Lib\\site-packages\\lightgbm\\basic.py:2159: UserWarning: categorical_feature in param dict is overridden.\n",
      "  _log_warning(f\"{cat_alias} in param dict is overridden.\")\n",
      "c:\\Users\\ivanj\\AppData\\Local\\Programs\\Python\\Python313\\Lib\\site-packages\\lightgbm\\basic.py:2137: UserWarning: categorical_feature keyword has been found in `params` and will be ignored.\n",
      "Please use categorical_feature argument of the Dataset constructor to pass this parameter.\n",
      "  _log_warning(\n",
      "c:\\Users\\ivanj\\AppData\\Local\\Programs\\Python\\Python313\\Lib\\site-packages\\lightgbm\\basic.py:2159: UserWarning: categorical_feature in param dict is overridden.\n",
      "  _log_warning(f\"{cat_alias} in param dict is overridden.\")\n",
      "c:\\Users\\ivanj\\AppData\\Local\\Programs\\Python\\Python313\\Lib\\site-packages\\lightgbm\\basic.py:2137: UserWarning: categorical_feature keyword has been found in `params` and will be ignored.\n",
      "Please use categorical_feature argument of the Dataset constructor to pass this parameter.\n",
      "  _log_warning(\n",
      "c:\\Users\\ivanj\\AppData\\Local\\Programs\\Python\\Python313\\Lib\\site-packages\\lightgbm\\basic.py:2159: UserWarning: categorical_feature in param dict is overridden.\n",
      "  _log_warning(f\"{cat_alias} in param dict is overridden.\")\n",
      "c:\\Users\\ivanj\\AppData\\Local\\Programs\\Python\\Python313\\Lib\\site-packages\\lightgbm\\basic.py:2137: UserWarning: categorical_feature keyword has been found in `params` and will be ignored.\n",
      "Please use categorical_feature argument of the Dataset constructor to pass this parameter.\n",
      "  _log_warning(\n",
      "c:\\Users\\ivanj\\AppData\\Local\\Programs\\Python\\Python313\\Lib\\site-packages\\lightgbm\\basic.py:2159: UserWarning: categorical_feature in param dict is overridden.\n",
      "  _log_warning(f\"{cat_alias} in param dict is overridden.\")\n",
      "c:\\Users\\ivanj\\AppData\\Local\\Programs\\Python\\Python313\\Lib\\site-packages\\lightgbm\\basic.py:2137: UserWarning: categorical_feature keyword has been found in `params` and will be ignored.\n",
      "Please use categorical_feature argument of the Dataset constructor to pass this parameter.\n",
      "  _log_warning(\n",
      "c:\\Users\\ivanj\\AppData\\Local\\Programs\\Python\\Python313\\Lib\\site-packages\\lightgbm\\basic.py:2159: UserWarning: categorical_feature in param dict is overridden.\n",
      "  _log_warning(f\"{cat_alias} in param dict is overridden.\")\n",
      "c:\\Users\\ivanj\\AppData\\Local\\Programs\\Python\\Python313\\Lib\\site-packages\\lightgbm\\basic.py:2137: UserWarning: categorical_feature keyword has been found in `params` and will be ignored.\n",
      "Please use categorical_feature argument of the Dataset constructor to pass this parameter.\n",
      "  _log_warning(\n",
      "c:\\Users\\ivanj\\AppData\\Local\\Programs\\Python\\Python313\\Lib\\site-packages\\lightgbm\\basic.py:2159: UserWarning: categorical_feature in param dict is overridden.\n",
      "  _log_warning(f\"{cat_alias} in param dict is overridden.\")\n",
      "c:\\Users\\ivanj\\AppData\\Local\\Programs\\Python\\Python313\\Lib\\site-packages\\lightgbm\\basic.py:2137: UserWarning: categorical_feature keyword has been found in `params` and will be ignored.\n",
      "Please use categorical_feature argument of the Dataset constructor to pass this parameter.\n",
      "  _log_warning(\n",
      "c:\\Users\\ivanj\\AppData\\Local\\Programs\\Python\\Python313\\Lib\\site-packages\\lightgbm\\basic.py:2159: UserWarning: categorical_feature in param dict is overridden.\n",
      "  _log_warning(f\"{cat_alias} in param dict is overridden.\")\n",
      "c:\\Users\\ivanj\\AppData\\Local\\Programs\\Python\\Python313\\Lib\\site-packages\\lightgbm\\basic.py:2137: UserWarning: categorical_feature keyword has been found in `params` and will be ignored.\n",
      "Please use categorical_feature argument of the Dataset constructor to pass this parameter.\n",
      "  _log_warning(\n",
      "c:\\Users\\ivanj\\AppData\\Local\\Programs\\Python\\Python313\\Lib\\site-packages\\lightgbm\\basic.py:2159: UserWarning: categorical_feature in param dict is overridden.\n",
      "  _log_warning(f\"{cat_alias} in param dict is overridden.\")\n"
     ]
    },
    {
     "name": "stdout",
     "output_type": "stream",
     "text": [
      "[LightGBM] [Warning] categorical_feature is set=lang, categorical_column=6 will be ignored. Current value: categorical_feature=lang\n",
      "[LightGBM] [Info] Number of positive: 6324, number of negative: 12544\n",
      "[CV] END learning_rate=0.02, n_estimators=400, num_leaves=15; total time=   0.0s\n",
      "[LightGBM] [Warning] Using sparse features with CUDA is currently not supported.\n",
      "[LightGBM] [Warning] categorical_feature is set=lang, categorical_column=6 will be ignored. Current value: categorical_feature=lang\n",
      "[LightGBM] [Info] Number of positive: 6324, number of negative: 12544\n",
      "[CV] END learning_rate=0.02, n_estimators=400, num_leaves=15; total time=   0.0s\n",
      "[LightGBM] [Warning] Using sparse features with CUDA is currently not supported.\n",
      "[LightGBM] [Warning] categorical_feature is set=lang, categorical_column=6 will be ignored. Current value: categorical_feature=lang\n",
      "[LightGBM] [Info] Number of positive: 6323, number of negative: 12544\n",
      "[CV] END learning_rate=0.02, n_estimators=400, num_leaves=30; total time=   0.0s\n",
      "[LightGBM] [Warning] Using sparse features with CUDA is currently not supported.\n",
      "[LightGBM] [Warning] categorical_feature is set=lang, categorical_column=6 will be ignored. Current value: categorical_feature=lang\n",
      "[LightGBM] [Info] Number of positive: 6323, number of negative: 12544\n",
      "[CV] END learning_rate=0.02, n_estimators=400, num_leaves=30; total time=   0.0s\n",
      "[LightGBM] [Warning] Using sparse features with CUDA is currently not supported.\n",
      "[LightGBM] [Warning] categorical_feature is set=lang, categorical_column=6 will be ignored. Current value: categorical_feature=lang\n",
      "[LightGBM] [Info] Number of positive: 6323, number of negative: 12544\n",
      "[CV] END learning_rate=0.02, n_estimators=400, num_leaves=30; total time=   0.0s\n",
      "[LightGBM] [Warning] Using sparse features with CUDA is currently not supported.\n",
      "[LightGBM] [Warning] categorical_feature is set=lang, categorical_column=6 will be ignored. Current value: categorical_feature=lang\n",
      "[LightGBM] [Info] Number of positive: 6323, number of negative: 12544\n",
      "[CV] END learning_rate=0.02, n_estimators=400, num_leaves=30; total time=   0.0s\n",
      "[LightGBM] [Warning] Using sparse features with CUDA is currently not supported.\n",
      "[LightGBM] [Warning] categorical_feature is set=lang, categorical_column=6 will be ignored. Current value: categorical_feature=lang\n",
      "[LightGBM] [Info] Number of positive: 6323, number of negative: 12545\n",
      "[CV] END learning_rate=0.02, n_estimators=400, num_leaves=30; total time=   0.0s\n",
      "[LightGBM] [Warning] Using sparse features with CUDA is currently not supported.\n",
      "[LightGBM] [Warning] categorical_feature is set=lang, categorical_column=6 will be ignored. Current value: categorical_feature=lang\n",
      "[LightGBM] [Info] Number of positive: 6323, number of negative: 12545\n",
      "[CV] END learning_rate=0.02, n_estimators=400, num_leaves=30; total time=   0.0s\n",
      "[LightGBM] [Warning] Using sparse features with CUDA is currently not supported.\n",
      "[LightGBM] [Warning] categorical_feature is set=lang, categorical_column=6 will be ignored. Current value: categorical_feature=lang\n",
      "[LightGBM] [Info] Number of positive: 6324, number of negative: 12544\n",
      "[CV] END learning_rate=0.02, n_estimators=400, num_leaves=30; total time=   0.0s\n",
      "[LightGBM] [Warning] Using sparse features with CUDA is currently not supported.\n",
      "[LightGBM] [Warning] categorical_feature is set=lang, categorical_column=6 will be ignored. Current value: categorical_feature=lang\n",
      "[LightGBM] [Info] Number of positive: 6324, number of negative: 12544\n",
      "[CV] END learning_rate=0.02, n_estimators=400, num_leaves=30; total time=   0.0s\n",
      "[LightGBM] [Warning] Using sparse features with CUDA is currently not supported.\n",
      "[LightGBM] [Warning] categorical_feature is set=lang, categorical_column=6 will be ignored. Current value: categorical_feature=lang\n",
      "[LightGBM] [Info] Number of positive: 6324, number of negative: 12544\n",
      "[CV] END learning_rate=0.02, n_estimators=400, num_leaves=30; total time=   0.0s\n",
      "[LightGBM] [Warning] Using sparse features with CUDA is currently not supported.\n",
      "[LightGBM] [Warning] categorical_feature is set=lang, categorical_column=6 will be ignored. Current value: categorical_feature=lang\n",
      "[LightGBM] [Info] Number of positive: 6324, number of negative: 12544\n",
      "[CV] END learning_rate=0.02, n_estimators=400, num_leaves=30; total time=   0.0s\n",
      "[LightGBM] [Warning] Using sparse features with CUDA is currently not supported.\n",
      "[LightGBM] [Warning] categorical_feature is set=lang, categorical_column=6 will be ignored. Current value: categorical_feature=lang\n",
      "[LightGBM] [Info] Number of positive: 6323, number of negative: 12544\n",
      "[CV] END learning_rate=0.02, n_estimators=400, num_leaves=45; total time=   0.0s\n",
      "[LightGBM] [Warning] Using sparse features with CUDA is currently not supported.\n",
      "[LightGBM] [Warning] categorical_feature is set=lang, categorical_column=6 will be ignored. Current value: categorical_feature=lang\n",
      "[LightGBM] [Info] Number of positive: 6323, number of negative: 12544\n",
      "[CV] END learning_rate=0.02, n_estimators=400, num_leaves=45; total time=   0.0s\n",
      "[LightGBM] [Warning] Using sparse features with CUDA is currently not supported.\n",
      "[LightGBM] [Warning] categorical_feature is set=lang, categorical_column=6 will be ignored. Current value: categorical_feature=lang\n",
      "[LightGBM] [Info] Number of positive: 6323, number of negative: 12544\n",
      "[CV] END learning_rate=0.02, n_estimators=400, num_leaves=45; total time=   0.0s\n",
      "[LightGBM] [Warning] Using sparse features with CUDA is currently not supported.\n",
      "[LightGBM] [Warning] categorical_feature is set=lang, categorical_column=6 will be ignored. Current value: categorical_feature=lang\n",
      "[LightGBM] [Info] Number of positive: 6323, number of negative: 12544\n",
      "[CV] END learning_rate=0.02, n_estimators=400, num_leaves=45; total time=   0.0s\n"
     ]
    },
    {
     "name": "stderr",
     "output_type": "stream",
     "text": [
      "c:\\Users\\ivanj\\AppData\\Local\\Programs\\Python\\Python313\\Lib\\site-packages\\lightgbm\\basic.py:2137: UserWarning: categorical_feature keyword has been found in `params` and will be ignored.\n",
      "Please use categorical_feature argument of the Dataset constructor to pass this parameter.\n",
      "  _log_warning(\n",
      "c:\\Users\\ivanj\\AppData\\Local\\Programs\\Python\\Python313\\Lib\\site-packages\\lightgbm\\basic.py:2159: UserWarning: categorical_feature in param dict is overridden.\n",
      "  _log_warning(f\"{cat_alias} in param dict is overridden.\")\n",
      "c:\\Users\\ivanj\\AppData\\Local\\Programs\\Python\\Python313\\Lib\\site-packages\\lightgbm\\basic.py:2137: UserWarning: categorical_feature keyword has been found in `params` and will be ignored.\n",
      "Please use categorical_feature argument of the Dataset constructor to pass this parameter.\n",
      "  _log_warning(\n",
      "c:\\Users\\ivanj\\AppData\\Local\\Programs\\Python\\Python313\\Lib\\site-packages\\lightgbm\\basic.py:2159: UserWarning: categorical_feature in param dict is overridden.\n",
      "  _log_warning(f\"{cat_alias} in param dict is overridden.\")\n",
      "c:\\Users\\ivanj\\AppData\\Local\\Programs\\Python\\Python313\\Lib\\site-packages\\lightgbm\\basic.py:2137: UserWarning: categorical_feature keyword has been found in `params` and will be ignored.\n",
      "Please use categorical_feature argument of the Dataset constructor to pass this parameter.\n",
      "  _log_warning(\n",
      "c:\\Users\\ivanj\\AppData\\Local\\Programs\\Python\\Python313\\Lib\\site-packages\\lightgbm\\basic.py:2159: UserWarning: categorical_feature in param dict is overridden.\n",
      "  _log_warning(f\"{cat_alias} in param dict is overridden.\")\n",
      "c:\\Users\\ivanj\\AppData\\Local\\Programs\\Python\\Python313\\Lib\\site-packages\\lightgbm\\basic.py:2137: UserWarning: categorical_feature keyword has been found in `params` and will be ignored.\n",
      "Please use categorical_feature argument of the Dataset constructor to pass this parameter.\n",
      "  _log_warning(\n",
      "c:\\Users\\ivanj\\AppData\\Local\\Programs\\Python\\Python313\\Lib\\site-packages\\lightgbm\\basic.py:2159: UserWarning: categorical_feature in param dict is overridden.\n",
      "  _log_warning(f\"{cat_alias} in param dict is overridden.\")\n",
      "c:\\Users\\ivanj\\AppData\\Local\\Programs\\Python\\Python313\\Lib\\site-packages\\lightgbm\\basic.py:2137: UserWarning: categorical_feature keyword has been found in `params` and will be ignored.\n",
      "Please use categorical_feature argument of the Dataset constructor to pass this parameter.\n",
      "  _log_warning(\n",
      "c:\\Users\\ivanj\\AppData\\Local\\Programs\\Python\\Python313\\Lib\\site-packages\\lightgbm\\basic.py:2159: UserWarning: categorical_feature in param dict is overridden.\n",
      "  _log_warning(f\"{cat_alias} in param dict is overridden.\")\n",
      "c:\\Users\\ivanj\\AppData\\Local\\Programs\\Python\\Python313\\Lib\\site-packages\\lightgbm\\basic.py:2137: UserWarning: categorical_feature keyword has been found in `params` and will be ignored.\n",
      "Please use categorical_feature argument of the Dataset constructor to pass this parameter.\n",
      "  _log_warning(\n",
      "c:\\Users\\ivanj\\AppData\\Local\\Programs\\Python\\Python313\\Lib\\site-packages\\lightgbm\\basic.py:2159: UserWarning: categorical_feature in param dict is overridden.\n",
      "  _log_warning(f\"{cat_alias} in param dict is overridden.\")\n",
      "c:\\Users\\ivanj\\AppData\\Local\\Programs\\Python\\Python313\\Lib\\site-packages\\lightgbm\\basic.py:2137: UserWarning: categorical_feature keyword has been found in `params` and will be ignored.\n",
      "Please use categorical_feature argument of the Dataset constructor to pass this parameter.\n",
      "  _log_warning(\n",
      "c:\\Users\\ivanj\\AppData\\Local\\Programs\\Python\\Python313\\Lib\\site-packages\\lightgbm\\basic.py:2159: UserWarning: categorical_feature in param dict is overridden.\n",
      "  _log_warning(f\"{cat_alias} in param dict is overridden.\")\n",
      "c:\\Users\\ivanj\\AppData\\Local\\Programs\\Python\\Python313\\Lib\\site-packages\\lightgbm\\basic.py:2137: UserWarning: categorical_feature keyword has been found in `params` and will be ignored.\n",
      "Please use categorical_feature argument of the Dataset constructor to pass this parameter.\n",
      "  _log_warning(\n",
      "c:\\Users\\ivanj\\AppData\\Local\\Programs\\Python\\Python313\\Lib\\site-packages\\lightgbm\\basic.py:2159: UserWarning: categorical_feature in param dict is overridden.\n",
      "  _log_warning(f\"{cat_alias} in param dict is overridden.\")\n",
      "c:\\Users\\ivanj\\AppData\\Local\\Programs\\Python\\Python313\\Lib\\site-packages\\lightgbm\\basic.py:2137: UserWarning: categorical_feature keyword has been found in `params` and will be ignored.\n",
      "Please use categorical_feature argument of the Dataset constructor to pass this parameter.\n",
      "  _log_warning(\n",
      "c:\\Users\\ivanj\\AppData\\Local\\Programs\\Python\\Python313\\Lib\\site-packages\\lightgbm\\basic.py:2159: UserWarning: categorical_feature in param dict is overridden.\n",
      "  _log_warning(f\"{cat_alias} in param dict is overridden.\")\n",
      "c:\\Users\\ivanj\\AppData\\Local\\Programs\\Python\\Python313\\Lib\\site-packages\\lightgbm\\basic.py:2137: UserWarning: categorical_feature keyword has been found in `params` and will be ignored.\n",
      "Please use categorical_feature argument of the Dataset constructor to pass this parameter.\n",
      "  _log_warning(\n",
      "c:\\Users\\ivanj\\AppData\\Local\\Programs\\Python\\Python313\\Lib\\site-packages\\lightgbm\\basic.py:2159: UserWarning: categorical_feature in param dict is overridden.\n",
      "  _log_warning(f\"{cat_alias} in param dict is overridden.\")\n",
      "c:\\Users\\ivanj\\AppData\\Local\\Programs\\Python\\Python313\\Lib\\site-packages\\lightgbm\\basic.py:2137: UserWarning: categorical_feature keyword has been found in `params` and will be ignored.\n",
      "Please use categorical_feature argument of the Dataset constructor to pass this parameter.\n",
      "  _log_warning(\n",
      "c:\\Users\\ivanj\\AppData\\Local\\Programs\\Python\\Python313\\Lib\\site-packages\\lightgbm\\basic.py:2159: UserWarning: categorical_feature in param dict is overridden.\n",
      "  _log_warning(f\"{cat_alias} in param dict is overridden.\")\n",
      "c:\\Users\\ivanj\\AppData\\Local\\Programs\\Python\\Python313\\Lib\\site-packages\\lightgbm\\basic.py:2137: UserWarning: categorical_feature keyword has been found in `params` and will be ignored.\n",
      "Please use categorical_feature argument of the Dataset constructor to pass this parameter.\n",
      "  _log_warning(\n",
      "c:\\Users\\ivanj\\AppData\\Local\\Programs\\Python\\Python313\\Lib\\site-packages\\lightgbm\\basic.py:2159: UserWarning: categorical_feature in param dict is overridden.\n",
      "  _log_warning(f\"{cat_alias} in param dict is overridden.\")\n",
      "c:\\Users\\ivanj\\AppData\\Local\\Programs\\Python\\Python313\\Lib\\site-packages\\lightgbm\\basic.py:2137: UserWarning: categorical_feature keyword has been found in `params` and will be ignored.\n",
      "Please use categorical_feature argument of the Dataset constructor to pass this parameter.\n",
      "  _log_warning(\n",
      "c:\\Users\\ivanj\\AppData\\Local\\Programs\\Python\\Python313\\Lib\\site-packages\\lightgbm\\basic.py:2159: UserWarning: categorical_feature in param dict is overridden.\n",
      "  _log_warning(f\"{cat_alias} in param dict is overridden.\")\n",
      "c:\\Users\\ivanj\\AppData\\Local\\Programs\\Python\\Python313\\Lib\\site-packages\\lightgbm\\basic.py:2137: UserWarning: categorical_feature keyword has been found in `params` and will be ignored.\n",
      "Please use categorical_feature argument of the Dataset constructor to pass this parameter.\n",
      "  _log_warning(\n",
      "c:\\Users\\ivanj\\AppData\\Local\\Programs\\Python\\Python313\\Lib\\site-packages\\lightgbm\\basic.py:2159: UserWarning: categorical_feature in param dict is overridden.\n",
      "  _log_warning(f\"{cat_alias} in param dict is overridden.\")\n",
      "c:\\Users\\ivanj\\AppData\\Local\\Programs\\Python\\Python313\\Lib\\site-packages\\lightgbm\\basic.py:2137: UserWarning: categorical_feature keyword has been found in `params` and will be ignored.\n",
      "Please use categorical_feature argument of the Dataset constructor to pass this parameter.\n",
      "  _log_warning(\n",
      "c:\\Users\\ivanj\\AppData\\Local\\Programs\\Python\\Python313\\Lib\\site-packages\\lightgbm\\basic.py:2159: UserWarning: categorical_feature in param dict is overridden.\n",
      "  _log_warning(f\"{cat_alias} in param dict is overridden.\")\n",
      "c:\\Users\\ivanj\\AppData\\Local\\Programs\\Python\\Python313\\Lib\\site-packages\\lightgbm\\basic.py:2137: UserWarning: categorical_feature keyword has been found in `params` and will be ignored.\n",
      "Please use categorical_feature argument of the Dataset constructor to pass this parameter.\n",
      "  _log_warning(\n",
      "c:\\Users\\ivanj\\AppData\\Local\\Programs\\Python\\Python313\\Lib\\site-packages\\lightgbm\\basic.py:2159: UserWarning: categorical_feature in param dict is overridden.\n",
      "  _log_warning(f\"{cat_alias} in param dict is overridden.\")\n"
     ]
    },
    {
     "name": "stdout",
     "output_type": "stream",
     "text": [
      "[LightGBM] [Warning] Using sparse features with CUDA is currently not supported.\n",
      "[LightGBM] [Warning] categorical_feature is set=lang, categorical_column=6 will be ignored. Current value: categorical_feature=lang\n",
      "[LightGBM] [Info] Number of positive: 6323, number of negative: 12545\n",
      "[CV] END learning_rate=0.02, n_estimators=400, num_leaves=45; total time=   0.0s\n",
      "[LightGBM] [Warning] Using sparse features with CUDA is currently not supported.\n",
      "[LightGBM] [Warning] categorical_feature is set=lang, categorical_column=6 will be ignored. Current value: categorical_feature=lang\n",
      "[LightGBM] [Info] Number of positive: 6323, number of negative: 12545\n",
      "[CV] END learning_rate=0.02, n_estimators=400, num_leaves=45; total time=   0.0s\n",
      "[LightGBM] [Warning] Using sparse features with CUDA is currently not supported.\n",
      "[LightGBM] [Warning] categorical_feature is set=lang, categorical_column=6 will be ignored. Current value: categorical_feature=lang\n",
      "[LightGBM] [Info] Number of positive: 6324, number of negative: 12544\n",
      "[CV] END learning_rate=0.02, n_estimators=400, num_leaves=45; total time=   0.0s\n",
      "[LightGBM] [Warning] Using sparse features with CUDA is currently not supported.\n",
      "[LightGBM] [Warning] categorical_feature is set=lang, categorical_column=6 will be ignored. Current value: categorical_feature=lang\n",
      "[LightGBM] [Info] Number of positive: 6324, number of negative: 12544\n",
      "[CV] END learning_rate=0.02, n_estimators=400, num_leaves=45; total time=   0.0s\n",
      "[LightGBM] [Warning] Using sparse features with CUDA is currently not supported.\n",
      "[LightGBM] [Warning] categorical_feature is set=lang, categorical_column=6 will be ignored. Current value: categorical_feature=lang\n",
      "[LightGBM] [Info] Number of positive: 6324, number of negative: 12544\n",
      "[CV] END learning_rate=0.02, n_estimators=400, num_leaves=45; total time=   0.0s\n",
      "[LightGBM] [Warning] Using sparse features with CUDA is currently not supported.\n",
      "[LightGBM] [Warning] categorical_feature is set=lang, categorical_column=6 will be ignored. Current value: categorical_feature=lang\n",
      "[LightGBM] [Info] Number of positive: 6324, number of negative: 12544\n",
      "[CV] END learning_rate=0.02, n_estimators=400, num_leaves=45; total time=   0.0s\n",
      "[LightGBM] [Warning] Using sparse features with CUDA is currently not supported.\n",
      "[LightGBM] [Warning] categorical_feature is set=lang, categorical_column=6 will be ignored. Current value: categorical_feature=lang\n",
      "[LightGBM] [Info] Number of positive: 6323, number of negative: 12544\n",
      "[CV] END learning_rate=0.02, n_estimators=500, num_leaves=15; total time=   0.0s\n",
      "[LightGBM] [Warning] Using sparse features with CUDA is currently not supported.\n",
      "[LightGBM] [Warning] categorical_feature is set=lang, categorical_column=6 will be ignored. Current value: categorical_feature=lang\n",
      "[LightGBM] [Info] Number of positive: 6323, number of negative: 12544\n",
      "[CV] END learning_rate=0.02, n_estimators=500, num_leaves=15; total time=   0.0s\n",
      "[LightGBM] [Warning] Using sparse features with CUDA is currently not supported.\n",
      "[LightGBM] [Warning] categorical_feature is set=lang, categorical_column=6 will be ignored. Current value: categorical_feature=lang\n",
      "[LightGBM] [Info] Number of positive: 6323, number of negative: 12544\n",
      "[CV] END learning_rate=0.02, n_estimators=500, num_leaves=15; total time=   0.0s\n",
      "[LightGBM] [Warning] Using sparse features with CUDA is currently not supported.\n",
      "[LightGBM] [Warning] categorical_feature is set=lang, categorical_column=6 will be ignored. Current value: categorical_feature=lang\n",
      "[LightGBM] [Info] Number of positive: 6323, number of negative: 12544\n",
      "[CV] END learning_rate=0.02, n_estimators=500, num_leaves=15; total time=   0.0s\n",
      "[LightGBM] [Warning] Using sparse features with CUDA is currently not supported.\n",
      "[LightGBM] [Warning] categorical_feature is set=lang, categorical_column=6 will be ignored. Current value: categorical_feature=lang\n",
      "[LightGBM] [Info] Number of positive: 6323, number of negative: 12545\n",
      "[CV] END learning_rate=0.02, n_estimators=500, num_leaves=15; total time=   0.0s\n",
      "[LightGBM] [Warning] Using sparse features with CUDA is currently not supported.\n",
      "[LightGBM] [Warning] categorical_feature is set=lang, categorical_column=6 will be ignored. Current value: categorical_feature=lang\n",
      "[LightGBM] [Info] Number of positive: 6323, number of negative: 12545\n",
      "[CV] END learning_rate=0.02, n_estimators=500, num_leaves=15; total time=   0.0s\n",
      "[LightGBM] [Warning] Using sparse features with CUDA is currently not supported.\n",
      "[LightGBM] [Warning] categorical_feature is set=lang, categorical_column=6 will be ignored. Current value: categorical_feature=lang\n",
      "[LightGBM] [Info] Number of positive: 6324, number of negative: 12544\n",
      "[CV] END learning_rate=0.02, n_estimators=500, num_leaves=15; total time=   0.0s\n",
      "[LightGBM] [Warning] Using sparse features with CUDA is currently not supported.\n",
      "[LightGBM] [Warning] categorical_feature is set=lang, categorical_column=6 will be ignored. Current value: categorical_feature=lang\n",
      "[LightGBM] [Info] Number of positive: 6324, number of negative: 12544\n",
      "[CV] END learning_rate=0.02, n_estimators=500, num_leaves=15; total time=   0.0s\n",
      "[LightGBM] [Warning] Using sparse features with CUDA is currently not supported.\n",
      "[LightGBM] [Warning] categorical_feature is set=lang, categorical_column=6 will be ignored. Current value: categorical_feature=lang\n",
      "[LightGBM] [Info] Number of positive: 6324, number of negative: 12544\n",
      "[CV] END learning_rate=0.02, n_estimators=500, num_leaves=15; total time=   0.0s\n",
      "[LightGBM] [Warning] Using sparse features with CUDA is currently not supported.\n"
     ]
    },
    {
     "name": "stderr",
     "output_type": "stream",
     "text": [
      "c:\\Users\\ivanj\\AppData\\Local\\Programs\\Python\\Python313\\Lib\\site-packages\\lightgbm\\basic.py:2137: UserWarning: categorical_feature keyword has been found in `params` and will be ignored.\n",
      "Please use categorical_feature argument of the Dataset constructor to pass this parameter.\n",
      "  _log_warning(\n",
      "c:\\Users\\ivanj\\AppData\\Local\\Programs\\Python\\Python313\\Lib\\site-packages\\lightgbm\\basic.py:2159: UserWarning: categorical_feature in param dict is overridden.\n",
      "  _log_warning(f\"{cat_alias} in param dict is overridden.\")\n",
      "c:\\Users\\ivanj\\AppData\\Local\\Programs\\Python\\Python313\\Lib\\site-packages\\lightgbm\\basic.py:2137: UserWarning: categorical_feature keyword has been found in `params` and will be ignored.\n",
      "Please use categorical_feature argument of the Dataset constructor to pass this parameter.\n",
      "  _log_warning(\n",
      "c:\\Users\\ivanj\\AppData\\Local\\Programs\\Python\\Python313\\Lib\\site-packages\\lightgbm\\basic.py:2159: UserWarning: categorical_feature in param dict is overridden.\n",
      "  _log_warning(f\"{cat_alias} in param dict is overridden.\")\n",
      "c:\\Users\\ivanj\\AppData\\Local\\Programs\\Python\\Python313\\Lib\\site-packages\\lightgbm\\basic.py:2137: UserWarning: categorical_feature keyword has been found in `params` and will be ignored.\n",
      "Please use categorical_feature argument of the Dataset constructor to pass this parameter.\n",
      "  _log_warning(\n",
      "c:\\Users\\ivanj\\AppData\\Local\\Programs\\Python\\Python313\\Lib\\site-packages\\lightgbm\\basic.py:2159: UserWarning: categorical_feature in param dict is overridden.\n",
      "  _log_warning(f\"{cat_alias} in param dict is overridden.\")\n",
      "c:\\Users\\ivanj\\AppData\\Local\\Programs\\Python\\Python313\\Lib\\site-packages\\lightgbm\\basic.py:2137: UserWarning: categorical_feature keyword has been found in `params` and will be ignored.\n",
      "Please use categorical_feature argument of the Dataset constructor to pass this parameter.\n",
      "  _log_warning(\n",
      "c:\\Users\\ivanj\\AppData\\Local\\Programs\\Python\\Python313\\Lib\\site-packages\\lightgbm\\basic.py:2159: UserWarning: categorical_feature in param dict is overridden.\n",
      "  _log_warning(f\"{cat_alias} in param dict is overridden.\")\n",
      "c:\\Users\\ivanj\\AppData\\Local\\Programs\\Python\\Python313\\Lib\\site-packages\\lightgbm\\basic.py:2137: UserWarning: categorical_feature keyword has been found in `params` and will be ignored.\n",
      "Please use categorical_feature argument of the Dataset constructor to pass this parameter.\n",
      "  _log_warning(\n",
      "c:\\Users\\ivanj\\AppData\\Local\\Programs\\Python\\Python313\\Lib\\site-packages\\lightgbm\\basic.py:2159: UserWarning: categorical_feature in param dict is overridden.\n",
      "  _log_warning(f\"{cat_alias} in param dict is overridden.\")\n",
      "c:\\Users\\ivanj\\AppData\\Local\\Programs\\Python\\Python313\\Lib\\site-packages\\lightgbm\\basic.py:2137: UserWarning: categorical_feature keyword has been found in `params` and will be ignored.\n",
      "Please use categorical_feature argument of the Dataset constructor to pass this parameter.\n",
      "  _log_warning(\n",
      "c:\\Users\\ivanj\\AppData\\Local\\Programs\\Python\\Python313\\Lib\\site-packages\\lightgbm\\basic.py:2159: UserWarning: categorical_feature in param dict is overridden.\n",
      "  _log_warning(f\"{cat_alias} in param dict is overridden.\")\n",
      "c:\\Users\\ivanj\\AppData\\Local\\Programs\\Python\\Python313\\Lib\\site-packages\\lightgbm\\basic.py:2137: UserWarning: categorical_feature keyword has been found in `params` and will be ignored.\n",
      "Please use categorical_feature argument of the Dataset constructor to pass this parameter.\n",
      "  _log_warning(\n",
      "c:\\Users\\ivanj\\AppData\\Local\\Programs\\Python\\Python313\\Lib\\site-packages\\lightgbm\\basic.py:2159: UserWarning: categorical_feature in param dict is overridden.\n",
      "  _log_warning(f\"{cat_alias} in param dict is overridden.\")\n",
      "c:\\Users\\ivanj\\AppData\\Local\\Programs\\Python\\Python313\\Lib\\site-packages\\lightgbm\\basic.py:2137: UserWarning: categorical_feature keyword has been found in `params` and will be ignored.\n",
      "Please use categorical_feature argument of the Dataset constructor to pass this parameter.\n",
      "  _log_warning(\n",
      "c:\\Users\\ivanj\\AppData\\Local\\Programs\\Python\\Python313\\Lib\\site-packages\\lightgbm\\basic.py:2159: UserWarning: categorical_feature in param dict is overridden.\n",
      "  _log_warning(f\"{cat_alias} in param dict is overridden.\")\n",
      "c:\\Users\\ivanj\\AppData\\Local\\Programs\\Python\\Python313\\Lib\\site-packages\\lightgbm\\basic.py:2137: UserWarning: categorical_feature keyword has been found in `params` and will be ignored.\n",
      "Please use categorical_feature argument of the Dataset constructor to pass this parameter.\n",
      "  _log_warning(\n",
      "c:\\Users\\ivanj\\AppData\\Local\\Programs\\Python\\Python313\\Lib\\site-packages\\lightgbm\\basic.py:2159: UserWarning: categorical_feature in param dict is overridden.\n",
      "  _log_warning(f\"{cat_alias} in param dict is overridden.\")\n",
      "c:\\Users\\ivanj\\AppData\\Local\\Programs\\Python\\Python313\\Lib\\site-packages\\lightgbm\\basic.py:2137: UserWarning: categorical_feature keyword has been found in `params` and will be ignored.\n",
      "Please use categorical_feature argument of the Dataset constructor to pass this parameter.\n",
      "  _log_warning(\n",
      "c:\\Users\\ivanj\\AppData\\Local\\Programs\\Python\\Python313\\Lib\\site-packages\\lightgbm\\basic.py:2159: UserWarning: categorical_feature in param dict is overridden.\n",
      "  _log_warning(f\"{cat_alias} in param dict is overridden.\")\n",
      "c:\\Users\\ivanj\\AppData\\Local\\Programs\\Python\\Python313\\Lib\\site-packages\\lightgbm\\basic.py:2137: UserWarning: categorical_feature keyword has been found in `params` and will be ignored.\n",
      "Please use categorical_feature argument of the Dataset constructor to pass this parameter.\n",
      "  _log_warning(\n",
      "c:\\Users\\ivanj\\AppData\\Local\\Programs\\Python\\Python313\\Lib\\site-packages\\lightgbm\\basic.py:2159: UserWarning: categorical_feature in param dict is overridden.\n",
      "  _log_warning(f\"{cat_alias} in param dict is overridden.\")\n",
      "c:\\Users\\ivanj\\AppData\\Local\\Programs\\Python\\Python313\\Lib\\site-packages\\lightgbm\\basic.py:2137: UserWarning: categorical_feature keyword has been found in `params` and will be ignored.\n",
      "Please use categorical_feature argument of the Dataset constructor to pass this parameter.\n",
      "  _log_warning(\n",
      "c:\\Users\\ivanj\\AppData\\Local\\Programs\\Python\\Python313\\Lib\\site-packages\\lightgbm\\basic.py:2159: UserWarning: categorical_feature in param dict is overridden.\n",
      "  _log_warning(f\"{cat_alias} in param dict is overridden.\")\n",
      "c:\\Users\\ivanj\\AppData\\Local\\Programs\\Python\\Python313\\Lib\\site-packages\\lightgbm\\basic.py:2137: UserWarning: categorical_feature keyword has been found in `params` and will be ignored.\n",
      "Please use categorical_feature argument of the Dataset constructor to pass this parameter.\n",
      "  _log_warning(\n",
      "c:\\Users\\ivanj\\AppData\\Local\\Programs\\Python\\Python313\\Lib\\site-packages\\lightgbm\\basic.py:2159: UserWarning: categorical_feature in param dict is overridden.\n",
      "  _log_warning(f\"{cat_alias} in param dict is overridden.\")\n",
      "c:\\Users\\ivanj\\AppData\\Local\\Programs\\Python\\Python313\\Lib\\site-packages\\lightgbm\\basic.py:2137: UserWarning: categorical_feature keyword has been found in `params` and will be ignored.\n",
      "Please use categorical_feature argument of the Dataset constructor to pass this parameter.\n",
      "  _log_warning(\n",
      "c:\\Users\\ivanj\\AppData\\Local\\Programs\\Python\\Python313\\Lib\\site-packages\\lightgbm\\basic.py:2159: UserWarning: categorical_feature in param dict is overridden.\n",
      "  _log_warning(f\"{cat_alias} in param dict is overridden.\")\n",
      "c:\\Users\\ivanj\\AppData\\Local\\Programs\\Python\\Python313\\Lib\\site-packages\\lightgbm\\basic.py:2137: UserWarning: categorical_feature keyword has been found in `params` and will be ignored.\n",
      "Please use categorical_feature argument of the Dataset constructor to pass this parameter.\n",
      "  _log_warning(\n",
      "c:\\Users\\ivanj\\AppData\\Local\\Programs\\Python\\Python313\\Lib\\site-packages\\lightgbm\\basic.py:2159: UserWarning: categorical_feature in param dict is overridden.\n",
      "  _log_warning(f\"{cat_alias} in param dict is overridden.\")\n",
      "c:\\Users\\ivanj\\AppData\\Local\\Programs\\Python\\Python313\\Lib\\site-packages\\lightgbm\\basic.py:2137: UserWarning: categorical_feature keyword has been found in `params` and will be ignored.\n",
      "Please use categorical_feature argument of the Dataset constructor to pass this parameter.\n",
      "  _log_warning(\n",
      "c:\\Users\\ivanj\\AppData\\Local\\Programs\\Python\\Python313\\Lib\\site-packages\\lightgbm\\basic.py:2159: UserWarning: categorical_feature in param dict is overridden.\n",
      "  _log_warning(f\"{cat_alias} in param dict is overridden.\")\n"
     ]
    },
    {
     "name": "stdout",
     "output_type": "stream",
     "text": [
      "[LightGBM] [Warning] categorical_feature is set=lang, categorical_column=6 will be ignored. Current value: categorical_feature=lang\n",
      "[LightGBM] [Info] Number of positive: 6324, number of negative: 12544\n",
      "[CV] END learning_rate=0.02, n_estimators=500, num_leaves=15; total time=   0.0s\n",
      "[LightGBM] [Warning] Using sparse features with CUDA is currently not supported.\n",
      "[LightGBM] [Warning] categorical_feature is set=lang, categorical_column=6 will be ignored. Current value: categorical_feature=lang\n",
      "[LightGBM] [Info] Number of positive: 6323, number of negative: 12544\n",
      "[CV] END learning_rate=0.02, n_estimators=500, num_leaves=30; total time=   0.0s\n",
      "[LightGBM] [Warning] Using sparse features with CUDA is currently not supported.\n",
      "[LightGBM] [Warning] categorical_feature is set=lang, categorical_column=6 will be ignored. Current value: categorical_feature=lang\n",
      "[LightGBM] [Info] Number of positive: 6323, number of negative: 12544\n",
      "[CV] END learning_rate=0.02, n_estimators=500, num_leaves=30; total time=   0.0s\n",
      "[LightGBM] [Warning] Using sparse features with CUDA is currently not supported.\n",
      "[LightGBM] [Warning] categorical_feature is set=lang, categorical_column=6 will be ignored. Current value: categorical_feature=lang\n",
      "[LightGBM] [Info] Number of positive: 6323, number of negative: 12544\n",
      "[CV] END learning_rate=0.02, n_estimators=500, num_leaves=30; total time=   0.0s\n",
      "[LightGBM] [Warning] Using sparse features with CUDA is currently not supported.\n",
      "[LightGBM] [Warning] categorical_feature is set=lang, categorical_column=6 will be ignored. Current value: categorical_feature=lang\n",
      "[LightGBM] [Info] Number of positive: 6323, number of negative: 12544\n",
      "[CV] END learning_rate=0.02, n_estimators=500, num_leaves=30; total time=   0.0s\n",
      "[LightGBM] [Warning] Using sparse features with CUDA is currently not supported.\n",
      "[LightGBM] [Warning] categorical_feature is set=lang, categorical_column=6 will be ignored. Current value: categorical_feature=lang\n",
      "[LightGBM] [Info] Number of positive: 6323, number of negative: 12545\n",
      "[CV] END learning_rate=0.02, n_estimators=500, num_leaves=30; total time=   0.0s\n",
      "[LightGBM] [Warning] Using sparse features with CUDA is currently not supported.\n",
      "[LightGBM] [Warning] categorical_feature is set=lang, categorical_column=6 will be ignored. Current value: categorical_feature=lang\n",
      "[LightGBM] [Info] Number of positive: 6323, number of negative: 12545\n",
      "[CV] END learning_rate=0.02, n_estimators=500, num_leaves=30; total time=   0.0s\n",
      "[LightGBM] [Warning] Using sparse features with CUDA is currently not supported.\n",
      "[LightGBM] [Warning] categorical_feature is set=lang, categorical_column=6 will be ignored. Current value: categorical_feature=lang\n",
      "[LightGBM] [Info] Number of positive: 6324, number of negative: 12544\n",
      "[CV] END learning_rate=0.02, n_estimators=500, num_leaves=30; total time=   0.0s\n",
      "[LightGBM] [Warning] Using sparse features with CUDA is currently not supported.\n",
      "[LightGBM] [Warning] categorical_feature is set=lang, categorical_column=6 will be ignored. Current value: categorical_feature=lang\n",
      "[LightGBM] [Info] Number of positive: 6324, number of negative: 12544\n",
      "[CV] END learning_rate=0.02, n_estimators=500, num_leaves=30; total time=   0.0s\n",
      "[LightGBM] [Warning] Using sparse features with CUDA is currently not supported.\n",
      "[LightGBM] [Warning] categorical_feature is set=lang, categorical_column=6 will be ignored. Current value: categorical_feature=lang\n",
      "[LightGBM] [Info] Number of positive: 6324, number of negative: 12544\n",
      "[CV] END learning_rate=0.02, n_estimators=500, num_leaves=30; total time=   0.0s\n",
      "[LightGBM] [Warning] Using sparse features with CUDA is currently not supported.\n",
      "[LightGBM] [Warning] categorical_feature is set=lang, categorical_column=6 will be ignored. Current value: categorical_feature=lang\n",
      "[LightGBM] [Info] Number of positive: 6324, number of negative: 12544\n",
      "[CV] END learning_rate=0.02, n_estimators=500, num_leaves=30; total time=   0.0s\n",
      "[LightGBM] [Warning] Using sparse features with CUDA is currently not supported.\n",
      "[LightGBM] [Warning] categorical_feature is set=lang, categorical_column=6 will be ignored. Current value: categorical_feature=lang\n",
      "[LightGBM] [Info] Number of positive: 6323, number of negative: 12544\n",
      "[CV] END learning_rate=0.02, n_estimators=500, num_leaves=45; total time=   0.0s\n",
      "[LightGBM] [Warning] Using sparse features with CUDA is currently not supported.\n",
      "[LightGBM] [Warning] categorical_feature is set=lang, categorical_column=6 will be ignored. Current value: categorical_feature=lang\n",
      "[LightGBM] [Info] Number of positive: 6323, number of negative: 12544\n",
      "[CV] END learning_rate=0.02, n_estimators=500, num_leaves=45; total time=   0.0s\n",
      "[LightGBM] [Warning] Using sparse features with CUDA is currently not supported.\n",
      "[LightGBM] [Warning] categorical_feature is set=lang, categorical_column=6 will be ignored. Current value: categorical_feature=lang\n",
      "[LightGBM] [Info] Number of positive: 6323, number of negative: 12544\n",
      "[CV] END learning_rate=0.02, n_estimators=500, num_leaves=45; total time=   0.0s\n",
      "[LightGBM] [Warning] Using sparse features with CUDA is currently not supported.\n",
      "[LightGBM] [Warning] categorical_feature is set=lang, categorical_column=6 will be ignored. Current value: categorical_feature=lang\n",
      "[LightGBM] [Info] Number of positive: 6323, number of negative: 12544\n",
      "[CV] END learning_rate=0.02, n_estimators=500, num_leaves=45; total time=   0.0s\n",
      "[LightGBM] [Warning] Using sparse features with CUDA is currently not supported.\n"
     ]
    },
    {
     "name": "stderr",
     "output_type": "stream",
     "text": [
      "c:\\Users\\ivanj\\AppData\\Local\\Programs\\Python\\Python313\\Lib\\site-packages\\lightgbm\\basic.py:2137: UserWarning: categorical_feature keyword has been found in `params` and will be ignored.\n",
      "Please use categorical_feature argument of the Dataset constructor to pass this parameter.\n",
      "  _log_warning(\n",
      "c:\\Users\\ivanj\\AppData\\Local\\Programs\\Python\\Python313\\Lib\\site-packages\\lightgbm\\basic.py:2159: UserWarning: categorical_feature in param dict is overridden.\n",
      "  _log_warning(f\"{cat_alias} in param dict is overridden.\")\n",
      "c:\\Users\\ivanj\\AppData\\Local\\Programs\\Python\\Python313\\Lib\\site-packages\\lightgbm\\basic.py:2137: UserWarning: categorical_feature keyword has been found in `params` and will be ignored.\n",
      "Please use categorical_feature argument of the Dataset constructor to pass this parameter.\n",
      "  _log_warning(\n",
      "c:\\Users\\ivanj\\AppData\\Local\\Programs\\Python\\Python313\\Lib\\site-packages\\lightgbm\\basic.py:2159: UserWarning: categorical_feature in param dict is overridden.\n",
      "  _log_warning(f\"{cat_alias} in param dict is overridden.\")\n",
      "c:\\Users\\ivanj\\AppData\\Local\\Programs\\Python\\Python313\\Lib\\site-packages\\lightgbm\\basic.py:2137: UserWarning: categorical_feature keyword has been found in `params` and will be ignored.\n",
      "Please use categorical_feature argument of the Dataset constructor to pass this parameter.\n",
      "  _log_warning(\n",
      "c:\\Users\\ivanj\\AppData\\Local\\Programs\\Python\\Python313\\Lib\\site-packages\\lightgbm\\basic.py:2159: UserWarning: categorical_feature in param dict is overridden.\n",
      "  _log_warning(f\"{cat_alias} in param dict is overridden.\")\n",
      "c:\\Users\\ivanj\\AppData\\Local\\Programs\\Python\\Python313\\Lib\\site-packages\\lightgbm\\basic.py:2137: UserWarning: categorical_feature keyword has been found in `params` and will be ignored.\n",
      "Please use categorical_feature argument of the Dataset constructor to pass this parameter.\n",
      "  _log_warning(\n",
      "c:\\Users\\ivanj\\AppData\\Local\\Programs\\Python\\Python313\\Lib\\site-packages\\lightgbm\\basic.py:2159: UserWarning: categorical_feature in param dict is overridden.\n",
      "  _log_warning(f\"{cat_alias} in param dict is overridden.\")\n",
      "c:\\Users\\ivanj\\AppData\\Local\\Programs\\Python\\Python313\\Lib\\site-packages\\lightgbm\\basic.py:2137: UserWarning: categorical_feature keyword has been found in `params` and will be ignored.\n",
      "Please use categorical_feature argument of the Dataset constructor to pass this parameter.\n",
      "  _log_warning(\n",
      "c:\\Users\\ivanj\\AppData\\Local\\Programs\\Python\\Python313\\Lib\\site-packages\\lightgbm\\basic.py:2159: UserWarning: categorical_feature in param dict is overridden.\n",
      "  _log_warning(f\"{cat_alias} in param dict is overridden.\")\n",
      "c:\\Users\\ivanj\\AppData\\Local\\Programs\\Python\\Python313\\Lib\\site-packages\\lightgbm\\basic.py:2137: UserWarning: categorical_feature keyword has been found in `params` and will be ignored.\n",
      "Please use categorical_feature argument of the Dataset constructor to pass this parameter.\n",
      "  _log_warning(\n",
      "c:\\Users\\ivanj\\AppData\\Local\\Programs\\Python\\Python313\\Lib\\site-packages\\lightgbm\\basic.py:2159: UserWarning: categorical_feature in param dict is overridden.\n",
      "  _log_warning(f\"{cat_alias} in param dict is overridden.\")\n",
      "c:\\Users\\ivanj\\AppData\\Local\\Programs\\Python\\Python313\\Lib\\site-packages\\lightgbm\\basic.py:2137: UserWarning: categorical_feature keyword has been found in `params` and will be ignored.\n",
      "Please use categorical_feature argument of the Dataset constructor to pass this parameter.\n",
      "  _log_warning(\n",
      "c:\\Users\\ivanj\\AppData\\Local\\Programs\\Python\\Python313\\Lib\\site-packages\\lightgbm\\basic.py:2159: UserWarning: categorical_feature in param dict is overridden.\n",
      "  _log_warning(f\"{cat_alias} in param dict is overridden.\")\n",
      "c:\\Users\\ivanj\\AppData\\Local\\Programs\\Python\\Python313\\Lib\\site-packages\\lightgbm\\basic.py:2137: UserWarning: categorical_feature keyword has been found in `params` and will be ignored.\n",
      "Please use categorical_feature argument of the Dataset constructor to pass this parameter.\n",
      "  _log_warning(\n",
      "c:\\Users\\ivanj\\AppData\\Local\\Programs\\Python\\Python313\\Lib\\site-packages\\lightgbm\\basic.py:2159: UserWarning: categorical_feature in param dict is overridden.\n",
      "  _log_warning(f\"{cat_alias} in param dict is overridden.\")\n",
      "c:\\Users\\ivanj\\AppData\\Local\\Programs\\Python\\Python313\\Lib\\site-packages\\lightgbm\\basic.py:2137: UserWarning: categorical_feature keyword has been found in `params` and will be ignored.\n",
      "Please use categorical_feature argument of the Dataset constructor to pass this parameter.\n",
      "  _log_warning(\n",
      "c:\\Users\\ivanj\\AppData\\Local\\Programs\\Python\\Python313\\Lib\\site-packages\\lightgbm\\basic.py:2159: UserWarning: categorical_feature in param dict is overridden.\n",
      "  _log_warning(f\"{cat_alias} in param dict is overridden.\")\n",
      "c:\\Users\\ivanj\\AppData\\Local\\Programs\\Python\\Python313\\Lib\\site-packages\\lightgbm\\basic.py:2137: UserWarning: categorical_feature keyword has been found in `params` and will be ignored.\n",
      "Please use categorical_feature argument of the Dataset constructor to pass this parameter.\n",
      "  _log_warning(\n",
      "c:\\Users\\ivanj\\AppData\\Local\\Programs\\Python\\Python313\\Lib\\site-packages\\lightgbm\\basic.py:2159: UserWarning: categorical_feature in param dict is overridden.\n",
      "  _log_warning(f\"{cat_alias} in param dict is overridden.\")\n",
      "c:\\Users\\ivanj\\AppData\\Local\\Programs\\Python\\Python313\\Lib\\site-packages\\lightgbm\\basic.py:2137: UserWarning: categorical_feature keyword has been found in `params` and will be ignored.\n",
      "Please use categorical_feature argument of the Dataset constructor to pass this parameter.\n",
      "  _log_warning(\n",
      "c:\\Users\\ivanj\\AppData\\Local\\Programs\\Python\\Python313\\Lib\\site-packages\\lightgbm\\basic.py:2159: UserWarning: categorical_feature in param dict is overridden.\n",
      "  _log_warning(f\"{cat_alias} in param dict is overridden.\")\n",
      "c:\\Users\\ivanj\\AppData\\Local\\Programs\\Python\\Python313\\Lib\\site-packages\\lightgbm\\basic.py:2137: UserWarning: categorical_feature keyword has been found in `params` and will be ignored.\n",
      "Please use categorical_feature argument of the Dataset constructor to pass this parameter.\n",
      "  _log_warning(\n",
      "c:\\Users\\ivanj\\AppData\\Local\\Programs\\Python\\Python313\\Lib\\site-packages\\lightgbm\\basic.py:2159: UserWarning: categorical_feature in param dict is overridden.\n",
      "  _log_warning(f\"{cat_alias} in param dict is overridden.\")\n",
      "c:\\Users\\ivanj\\AppData\\Local\\Programs\\Python\\Python313\\Lib\\site-packages\\lightgbm\\basic.py:2137: UserWarning: categorical_feature keyword has been found in `params` and will be ignored.\n",
      "Please use categorical_feature argument of the Dataset constructor to pass this parameter.\n",
      "  _log_warning(\n",
      "c:\\Users\\ivanj\\AppData\\Local\\Programs\\Python\\Python313\\Lib\\site-packages\\lightgbm\\basic.py:2159: UserWarning: categorical_feature in param dict is overridden.\n",
      "  _log_warning(f\"{cat_alias} in param dict is overridden.\")\n",
      "c:\\Users\\ivanj\\AppData\\Local\\Programs\\Python\\Python313\\Lib\\site-packages\\lightgbm\\basic.py:2137: UserWarning: categorical_feature keyword has been found in `params` and will be ignored.\n",
      "Please use categorical_feature argument of the Dataset constructor to pass this parameter.\n",
      "  _log_warning(\n",
      "c:\\Users\\ivanj\\AppData\\Local\\Programs\\Python\\Python313\\Lib\\site-packages\\lightgbm\\basic.py:2159: UserWarning: categorical_feature in param dict is overridden.\n",
      "  _log_warning(f\"{cat_alias} in param dict is overridden.\")\n",
      "c:\\Users\\ivanj\\AppData\\Local\\Programs\\Python\\Python313\\Lib\\site-packages\\lightgbm\\basic.py:2137: UserWarning: categorical_feature keyword has been found in `params` and will be ignored.\n",
      "Please use categorical_feature argument of the Dataset constructor to pass this parameter.\n",
      "  _log_warning(\n",
      "c:\\Users\\ivanj\\AppData\\Local\\Programs\\Python\\Python313\\Lib\\site-packages\\lightgbm\\basic.py:2159: UserWarning: categorical_feature in param dict is overridden.\n",
      "  _log_warning(f\"{cat_alias} in param dict is overridden.\")\n",
      "c:\\Users\\ivanj\\AppData\\Local\\Programs\\Python\\Python313\\Lib\\site-packages\\lightgbm\\basic.py:2137: UserWarning: categorical_feature keyword has been found in `params` and will be ignored.\n",
      "Please use categorical_feature argument of the Dataset constructor to pass this parameter.\n",
      "  _log_warning(\n",
      "c:\\Users\\ivanj\\AppData\\Local\\Programs\\Python\\Python313\\Lib\\site-packages\\lightgbm\\basic.py:2159: UserWarning: categorical_feature in param dict is overridden.\n",
      "  _log_warning(f\"{cat_alias} in param dict is overridden.\")\n"
     ]
    },
    {
     "name": "stdout",
     "output_type": "stream",
     "text": [
      "[LightGBM] [Warning] categorical_feature is set=lang, categorical_column=6 will be ignored. Current value: categorical_feature=lang\n",
      "[LightGBM] [Info] Number of positive: 6323, number of negative: 12545\n",
      "[CV] END learning_rate=0.02, n_estimators=500, num_leaves=45; total time=   0.0s\n",
      "[LightGBM] [Warning] Using sparse features with CUDA is currently not supported.\n",
      "[LightGBM] [Warning] categorical_feature is set=lang, categorical_column=6 will be ignored. Current value: categorical_feature=lang\n",
      "[LightGBM] [Info] Number of positive: 6323, number of negative: 12545\n",
      "[CV] END learning_rate=0.02, n_estimators=500, num_leaves=45; total time=   0.0s\n",
      "[LightGBM] [Warning] Using sparse features with CUDA is currently not supported.\n",
      "[LightGBM] [Warning] categorical_feature is set=lang, categorical_column=6 will be ignored. Current value: categorical_feature=lang\n",
      "[LightGBM] [Info] Number of positive: 6324, number of negative: 12544\n",
      "[CV] END learning_rate=0.02, n_estimators=500, num_leaves=45; total time=   0.0s\n",
      "[LightGBM] [Warning] Using sparse features with CUDA is currently not supported.\n",
      "[LightGBM] [Warning] categorical_feature is set=lang, categorical_column=6 will be ignored. Current value: categorical_feature=lang\n",
      "[LightGBM] [Info] Number of positive: 6324, number of negative: 12544\n",
      "[CV] END learning_rate=0.02, n_estimators=500, num_leaves=45; total time=   0.0s\n",
      "[LightGBM] [Warning] Using sparse features with CUDA is currently not supported.\n",
      "[LightGBM] [Warning] categorical_feature is set=lang, categorical_column=6 will be ignored. Current value: categorical_feature=lang\n",
      "[LightGBM] [Info] Number of positive: 6324, number of negative: 12544\n",
      "[CV] END learning_rate=0.02, n_estimators=500, num_leaves=45; total time=   0.0s\n",
      "[LightGBM] [Warning] Using sparse features with CUDA is currently not supported.\n",
      "[LightGBM] [Warning] categorical_feature is set=lang, categorical_column=6 will be ignored. Current value: categorical_feature=lang\n",
      "[LightGBM] [Info] Number of positive: 6324, number of negative: 12544\n",
      "[CV] END learning_rate=0.02, n_estimators=500, num_leaves=45; total time=   0.0s\n",
      "[LightGBM] [Warning] Using sparse features with CUDA is currently not supported.\n",
      "[LightGBM] [Warning] categorical_feature is set=lang, categorical_column=6 will be ignored. Current value: categorical_feature=lang\n",
      "[LightGBM] [Info] Number of positive: 6323, number of negative: 12544\n",
      "[CV] END learning_rate=0.02, n_estimators=600, num_leaves=15; total time=   0.0s\n",
      "[LightGBM] [Warning] Using sparse features with CUDA is currently not supported.\n",
      "[LightGBM] [Warning] categorical_feature is set=lang, categorical_column=6 will be ignored. Current value: categorical_feature=lang\n",
      "[LightGBM] [Info] Number of positive: 6323, number of negative: 12544\n",
      "[CV] END learning_rate=0.02, n_estimators=600, num_leaves=15; total time=   0.0s\n",
      "[LightGBM] [Warning] Using sparse features with CUDA is currently not supported.\n",
      "[LightGBM] [Warning] categorical_feature is set=lang, categorical_column=6 will be ignored. Current value: categorical_feature=lang\n",
      "[LightGBM] [Info] Number of positive: 6323, number of negative: 12544\n",
      "[CV] END learning_rate=0.02, n_estimators=600, num_leaves=15; total time=   0.0s\n",
      "[LightGBM] [Warning] Using sparse features with CUDA is currently not supported.\n",
      "[LightGBM] [Warning] categorical_feature is set=lang, categorical_column=6 will be ignored. Current value: categorical_feature=lang\n",
      "[LightGBM] [Info] Number of positive: 6323, number of negative: 12544\n",
      "[CV] END learning_rate=0.02, n_estimators=600, num_leaves=15; total time=   0.0s\n",
      "[LightGBM] [Warning] Using sparse features with CUDA is currently not supported.\n",
      "[LightGBM] [Warning] categorical_feature is set=lang, categorical_column=6 will be ignored. Current value: categorical_feature=lang\n",
      "[LightGBM] [Info] Number of positive: 6323, number of negative: 12545\n",
      "[CV] END learning_rate=0.02, n_estimators=600, num_leaves=15; total time=   0.0s\n",
      "[LightGBM] [Warning] Using sparse features with CUDA is currently not supported.\n",
      "[LightGBM] [Warning] categorical_feature is set=lang, categorical_column=6 will be ignored. Current value: categorical_feature=lang\n",
      "[LightGBM] [Info] Number of positive: 6323, number of negative: 12545\n",
      "[CV] END learning_rate=0.02, n_estimators=600, num_leaves=15; total time=   0.0s\n",
      "[LightGBM] [Warning] Using sparse features with CUDA is currently not supported.\n",
      "[LightGBM] [Warning] categorical_feature is set=lang, categorical_column=6 will be ignored. Current value: categorical_feature=lang\n",
      "[LightGBM] [Info] Number of positive: 6324, number of negative: 12544\n",
      "[CV] END learning_rate=0.02, n_estimators=600, num_leaves=15; total time=   0.0s\n",
      "[LightGBM] [Warning] Using sparse features with CUDA is currently not supported.\n",
      "[LightGBM] [Warning] categorical_feature is set=lang, categorical_column=6 will be ignored. Current value: categorical_feature=lang\n",
      "[LightGBM] [Info] Number of positive: 6324, number of negative: 12544\n",
      "[CV] END learning_rate=0.02, n_estimators=600, num_leaves=15; total time=   0.0s\n",
      "[LightGBM] [Warning] Using sparse features with CUDA is currently not supported.\n",
      "[LightGBM] [Warning] categorical_feature is set=lang, categorical_column=6 will be ignored. Current value: categorical_feature=lang\n",
      "[LightGBM] [Info] Number of positive: 6324, number of negative: 12544\n",
      "[CV] END learning_rate=0.02, n_estimators=600, num_leaves=15; total time=   0.0s\n",
      "[LightGBM] [Warning] Using sparse features with CUDA is currently not supported.\n",
      "[LightGBM] [Warning] categorical_feature is set=lang, categorical_column=6 will be ignored. Current value: categorical_feature=lang\n",
      "[LightGBM] [Info] Number of positive: 6324, number of negative: 12544\n",
      "[CV] END learning_rate=0.02, n_estimators=600, num_leaves=15; total time=   0.0s\n"
     ]
    },
    {
     "name": "stderr",
     "output_type": "stream",
     "text": [
      "c:\\Users\\ivanj\\AppData\\Local\\Programs\\Python\\Python313\\Lib\\site-packages\\lightgbm\\basic.py:2137: UserWarning: categorical_feature keyword has been found in `params` and will be ignored.\n",
      "Please use categorical_feature argument of the Dataset constructor to pass this parameter.\n",
      "  _log_warning(\n",
      "c:\\Users\\ivanj\\AppData\\Local\\Programs\\Python\\Python313\\Lib\\site-packages\\lightgbm\\basic.py:2159: UserWarning: categorical_feature in param dict is overridden.\n",
      "  _log_warning(f\"{cat_alias} in param dict is overridden.\")\n",
      "c:\\Users\\ivanj\\AppData\\Local\\Programs\\Python\\Python313\\Lib\\site-packages\\lightgbm\\basic.py:2137: UserWarning: categorical_feature keyword has been found in `params` and will be ignored.\n",
      "Please use categorical_feature argument of the Dataset constructor to pass this parameter.\n",
      "  _log_warning(\n",
      "c:\\Users\\ivanj\\AppData\\Local\\Programs\\Python\\Python313\\Lib\\site-packages\\lightgbm\\basic.py:2159: UserWarning: categorical_feature in param dict is overridden.\n",
      "  _log_warning(f\"{cat_alias} in param dict is overridden.\")\n",
      "c:\\Users\\ivanj\\AppData\\Local\\Programs\\Python\\Python313\\Lib\\site-packages\\lightgbm\\basic.py:2137: UserWarning: categorical_feature keyword has been found in `params` and will be ignored.\n",
      "Please use categorical_feature argument of the Dataset constructor to pass this parameter.\n",
      "  _log_warning(\n",
      "c:\\Users\\ivanj\\AppData\\Local\\Programs\\Python\\Python313\\Lib\\site-packages\\lightgbm\\basic.py:2159: UserWarning: categorical_feature in param dict is overridden.\n",
      "  _log_warning(f\"{cat_alias} in param dict is overridden.\")\n",
      "c:\\Users\\ivanj\\AppData\\Local\\Programs\\Python\\Python313\\Lib\\site-packages\\lightgbm\\basic.py:2137: UserWarning: categorical_feature keyword has been found in `params` and will be ignored.\n",
      "Please use categorical_feature argument of the Dataset constructor to pass this parameter.\n",
      "  _log_warning(\n",
      "c:\\Users\\ivanj\\AppData\\Local\\Programs\\Python\\Python313\\Lib\\site-packages\\lightgbm\\basic.py:2159: UserWarning: categorical_feature in param dict is overridden.\n",
      "  _log_warning(f\"{cat_alias} in param dict is overridden.\")\n",
      "c:\\Users\\ivanj\\AppData\\Local\\Programs\\Python\\Python313\\Lib\\site-packages\\lightgbm\\basic.py:2137: UserWarning: categorical_feature keyword has been found in `params` and will be ignored.\n",
      "Please use categorical_feature argument of the Dataset constructor to pass this parameter.\n",
      "  _log_warning(\n",
      "c:\\Users\\ivanj\\AppData\\Local\\Programs\\Python\\Python313\\Lib\\site-packages\\lightgbm\\basic.py:2159: UserWarning: categorical_feature in param dict is overridden.\n",
      "  _log_warning(f\"{cat_alias} in param dict is overridden.\")\n",
      "c:\\Users\\ivanj\\AppData\\Local\\Programs\\Python\\Python313\\Lib\\site-packages\\lightgbm\\basic.py:2137: UserWarning: categorical_feature keyword has been found in `params` and will be ignored.\n",
      "Please use categorical_feature argument of the Dataset constructor to pass this parameter.\n",
      "  _log_warning(\n",
      "c:\\Users\\ivanj\\AppData\\Local\\Programs\\Python\\Python313\\Lib\\site-packages\\lightgbm\\basic.py:2159: UserWarning: categorical_feature in param dict is overridden.\n",
      "  _log_warning(f\"{cat_alias} in param dict is overridden.\")\n",
      "c:\\Users\\ivanj\\AppData\\Local\\Programs\\Python\\Python313\\Lib\\site-packages\\lightgbm\\basic.py:2137: UserWarning: categorical_feature keyword has been found in `params` and will be ignored.\n",
      "Please use categorical_feature argument of the Dataset constructor to pass this parameter.\n",
      "  _log_warning(\n",
      "c:\\Users\\ivanj\\AppData\\Local\\Programs\\Python\\Python313\\Lib\\site-packages\\lightgbm\\basic.py:2159: UserWarning: categorical_feature in param dict is overridden.\n",
      "  _log_warning(f\"{cat_alias} in param dict is overridden.\")\n",
      "c:\\Users\\ivanj\\AppData\\Local\\Programs\\Python\\Python313\\Lib\\site-packages\\lightgbm\\basic.py:2137: UserWarning: categorical_feature keyword has been found in `params` and will be ignored.\n",
      "Please use categorical_feature argument of the Dataset constructor to pass this parameter.\n",
      "  _log_warning(\n",
      "c:\\Users\\ivanj\\AppData\\Local\\Programs\\Python\\Python313\\Lib\\site-packages\\lightgbm\\basic.py:2159: UserWarning: categorical_feature in param dict is overridden.\n",
      "  _log_warning(f\"{cat_alias} in param dict is overridden.\")\n",
      "c:\\Users\\ivanj\\AppData\\Local\\Programs\\Python\\Python313\\Lib\\site-packages\\lightgbm\\basic.py:2137: UserWarning: categorical_feature keyword has been found in `params` and will be ignored.\n",
      "Please use categorical_feature argument of the Dataset constructor to pass this parameter.\n",
      "  _log_warning(\n",
      "c:\\Users\\ivanj\\AppData\\Local\\Programs\\Python\\Python313\\Lib\\site-packages\\lightgbm\\basic.py:2159: UserWarning: categorical_feature in param dict is overridden.\n",
      "  _log_warning(f\"{cat_alias} in param dict is overridden.\")\n",
      "c:\\Users\\ivanj\\AppData\\Local\\Programs\\Python\\Python313\\Lib\\site-packages\\lightgbm\\basic.py:2137: UserWarning: categorical_feature keyword has been found in `params` and will be ignored.\n",
      "Please use categorical_feature argument of the Dataset constructor to pass this parameter.\n",
      "  _log_warning(\n",
      "c:\\Users\\ivanj\\AppData\\Local\\Programs\\Python\\Python313\\Lib\\site-packages\\lightgbm\\basic.py:2159: UserWarning: categorical_feature in param dict is overridden.\n",
      "  _log_warning(f\"{cat_alias} in param dict is overridden.\")\n",
      "c:\\Users\\ivanj\\AppData\\Local\\Programs\\Python\\Python313\\Lib\\site-packages\\lightgbm\\basic.py:2137: UserWarning: categorical_feature keyword has been found in `params` and will be ignored.\n",
      "Please use categorical_feature argument of the Dataset constructor to pass this parameter.\n",
      "  _log_warning(\n",
      "c:\\Users\\ivanj\\AppData\\Local\\Programs\\Python\\Python313\\Lib\\site-packages\\lightgbm\\basic.py:2159: UserWarning: categorical_feature in param dict is overridden.\n",
      "  _log_warning(f\"{cat_alias} in param dict is overridden.\")\n",
      "c:\\Users\\ivanj\\AppData\\Local\\Programs\\Python\\Python313\\Lib\\site-packages\\lightgbm\\basic.py:2137: UserWarning: categorical_feature keyword has been found in `params` and will be ignored.\n",
      "Please use categorical_feature argument of the Dataset constructor to pass this parameter.\n",
      "  _log_warning(\n",
      "c:\\Users\\ivanj\\AppData\\Local\\Programs\\Python\\Python313\\Lib\\site-packages\\lightgbm\\basic.py:2159: UserWarning: categorical_feature in param dict is overridden.\n",
      "  _log_warning(f\"{cat_alias} in param dict is overridden.\")\n",
      "c:\\Users\\ivanj\\AppData\\Local\\Programs\\Python\\Python313\\Lib\\site-packages\\lightgbm\\basic.py:2137: UserWarning: categorical_feature keyword has been found in `params` and will be ignored.\n",
      "Please use categorical_feature argument of the Dataset constructor to pass this parameter.\n",
      "  _log_warning(\n",
      "c:\\Users\\ivanj\\AppData\\Local\\Programs\\Python\\Python313\\Lib\\site-packages\\lightgbm\\basic.py:2159: UserWarning: categorical_feature in param dict is overridden.\n",
      "  _log_warning(f\"{cat_alias} in param dict is overridden.\")\n",
      "c:\\Users\\ivanj\\AppData\\Local\\Programs\\Python\\Python313\\Lib\\site-packages\\lightgbm\\basic.py:2137: UserWarning: categorical_feature keyword has been found in `params` and will be ignored.\n",
      "Please use categorical_feature argument of the Dataset constructor to pass this parameter.\n",
      "  _log_warning(\n",
      "c:\\Users\\ivanj\\AppData\\Local\\Programs\\Python\\Python313\\Lib\\site-packages\\lightgbm\\basic.py:2159: UserWarning: categorical_feature in param dict is overridden.\n",
      "  _log_warning(f\"{cat_alias} in param dict is overridden.\")\n",
      "c:\\Users\\ivanj\\AppData\\Local\\Programs\\Python\\Python313\\Lib\\site-packages\\lightgbm\\basic.py:2137: UserWarning: categorical_feature keyword has been found in `params` and will be ignored.\n",
      "Please use categorical_feature argument of the Dataset constructor to pass this parameter.\n",
      "  _log_warning(\n",
      "c:\\Users\\ivanj\\AppData\\Local\\Programs\\Python\\Python313\\Lib\\site-packages\\lightgbm\\basic.py:2159: UserWarning: categorical_feature in param dict is overridden.\n",
      "  _log_warning(f\"{cat_alias} in param dict is overridden.\")\n",
      "c:\\Users\\ivanj\\AppData\\Local\\Programs\\Python\\Python313\\Lib\\site-packages\\lightgbm\\basic.py:2137: UserWarning: categorical_feature keyword has been found in `params` and will be ignored.\n",
      "Please use categorical_feature argument of the Dataset constructor to pass this parameter.\n",
      "  _log_warning(\n",
      "c:\\Users\\ivanj\\AppData\\Local\\Programs\\Python\\Python313\\Lib\\site-packages\\lightgbm\\basic.py:2159: UserWarning: categorical_feature in param dict is overridden.\n",
      "  _log_warning(f\"{cat_alias} in param dict is overridden.\")\n",
      "c:\\Users\\ivanj\\AppData\\Local\\Programs\\Python\\Python313\\Lib\\site-packages\\lightgbm\\basic.py:2137: UserWarning: categorical_feature keyword has been found in `params` and will be ignored.\n",
      "Please use categorical_feature argument of the Dataset constructor to pass this parameter.\n",
      "  _log_warning(\n",
      "c:\\Users\\ivanj\\AppData\\Local\\Programs\\Python\\Python313\\Lib\\site-packages\\lightgbm\\basic.py:2159: UserWarning: categorical_feature in param dict is overridden.\n",
      "  _log_warning(f\"{cat_alias} in param dict is overridden.\")\n"
     ]
    },
    {
     "name": "stdout",
     "output_type": "stream",
     "text": [
      "[LightGBM] [Warning] Using sparse features with CUDA is currently not supported.\n",
      "[LightGBM] [Warning] categorical_feature is set=lang, categorical_column=6 will be ignored. Current value: categorical_feature=lang\n",
      "[LightGBM] [Info] Number of positive: 6323, number of negative: 12544\n",
      "[CV] END learning_rate=0.02, n_estimators=600, num_leaves=30; total time=   0.0s\n",
      "[LightGBM] [Warning] Using sparse features with CUDA is currently not supported.\n",
      "[LightGBM] [Warning] categorical_feature is set=lang, categorical_column=6 will be ignored. Current value: categorical_feature=lang\n",
      "[LightGBM] [Info] Number of positive: 6323, number of negative: 12544\n",
      "[CV] END learning_rate=0.02, n_estimators=600, num_leaves=30; total time=   0.0s\n",
      "[LightGBM] [Warning] Using sparse features with CUDA is currently not supported.\n",
      "[LightGBM] [Warning] categorical_feature is set=lang, categorical_column=6 will be ignored. Current value: categorical_feature=lang\n",
      "[LightGBM] [Info] Number of positive: 6323, number of negative: 12544\n",
      "[CV] END learning_rate=0.02, n_estimators=600, num_leaves=30; total time=   0.0s\n",
      "[LightGBM] [Warning] Using sparse features with CUDA is currently not supported.\n",
      "[LightGBM] [Warning] categorical_feature is set=lang, categorical_column=6 will be ignored. Current value: categorical_feature=lang\n",
      "[LightGBM] [Info] Number of positive: 6323, number of negative: 12544\n",
      "[CV] END learning_rate=0.02, n_estimators=600, num_leaves=30; total time=   0.0s\n",
      "[LightGBM] [Warning] Using sparse features with CUDA is currently not supported.\n",
      "[LightGBM] [Warning] categorical_feature is set=lang, categorical_column=6 will be ignored. Current value: categorical_feature=lang\n",
      "[LightGBM] [Info] Number of positive: 6323, number of negative: 12545\n",
      "[CV] END learning_rate=0.02, n_estimators=600, num_leaves=30; total time=   0.0s\n",
      "[LightGBM] [Warning] Using sparse features with CUDA is currently not supported.\n",
      "[LightGBM] [Warning] categorical_feature is set=lang, categorical_column=6 will be ignored. Current value: categorical_feature=lang\n",
      "[LightGBM] [Info] Number of positive: 6323, number of negative: 12545\n",
      "[CV] END learning_rate=0.02, n_estimators=600, num_leaves=30; total time=   0.0s\n",
      "[LightGBM] [Warning] Using sparse features with CUDA is currently not supported.\n",
      "[LightGBM] [Warning] categorical_feature is set=lang, categorical_column=6 will be ignored. Current value: categorical_feature=lang\n",
      "[LightGBM] [Info] Number of positive: 6324, number of negative: 12544\n",
      "[CV] END learning_rate=0.02, n_estimators=600, num_leaves=30; total time=   0.0s\n",
      "[LightGBM] [Warning] Using sparse features with CUDA is currently not supported.\n",
      "[LightGBM] [Warning] categorical_feature is set=lang, categorical_column=6 will be ignored. Current value: categorical_feature=lang\n",
      "[LightGBM] [Info] Number of positive: 6324, number of negative: 12544\n",
      "[CV] END learning_rate=0.02, n_estimators=600, num_leaves=30; total time=   0.0s\n",
      "[LightGBM] [Warning] Using sparse features with CUDA is currently not supported.\n",
      "[LightGBM] [Warning] categorical_feature is set=lang, categorical_column=6 will be ignored. Current value: categorical_feature=lang\n",
      "[LightGBM] [Info] Number of positive: 6324, number of negative: 12544\n",
      "[CV] END learning_rate=0.02, n_estimators=600, num_leaves=30; total time=   0.0s\n",
      "[LightGBM] [Warning] Using sparse features with CUDA is currently not supported.\n",
      "[LightGBM] [Warning] categorical_feature is set=lang, categorical_column=6 will be ignored. Current value: categorical_feature=lang\n",
      "[LightGBM] [Info] Number of positive: 6324, number of negative: 12544\n",
      "[CV] END learning_rate=0.02, n_estimators=600, num_leaves=30; total time=   0.0s\n",
      "[LightGBM] [Warning] Using sparse features with CUDA is currently not supported.\n",
      "[LightGBM] [Warning] categorical_feature is set=lang, categorical_column=6 will be ignored. Current value: categorical_feature=lang\n",
      "[LightGBM] [Info] Number of positive: 6323, number of negative: 12544\n",
      "[CV] END learning_rate=0.02, n_estimators=600, num_leaves=45; total time=   0.0s\n",
      "[LightGBM] [Warning] Using sparse features with CUDA is currently not supported.\n",
      "[LightGBM] [Warning] categorical_feature is set=lang, categorical_column=6 will be ignored. Current value: categorical_feature=lang\n",
      "[LightGBM] [Info] Number of positive: 6323, number of negative: 12544\n",
      "[CV] END learning_rate=0.02, n_estimators=600, num_leaves=45; total time=   0.0s\n",
      "[LightGBM] [Warning] Using sparse features with CUDA is currently not supported.\n",
      "[LightGBM] [Warning] categorical_feature is set=lang, categorical_column=6 will be ignored. Current value: categorical_feature=lang\n",
      "[LightGBM] [Info] Number of positive: 6323, number of negative: 12544\n",
      "[CV] END learning_rate=0.02, n_estimators=600, num_leaves=45; total time=   0.0s\n",
      "[LightGBM] [Warning] Using sparse features with CUDA is currently not supported.\n",
      "[LightGBM] [Warning] categorical_feature is set=lang, categorical_column=6 will be ignored. Current value: categorical_feature=lang\n",
      "[LightGBM] [Info] Number of positive: 6323, number of negative: 12544\n",
      "[CV] END learning_rate=0.02, n_estimators=600, num_leaves=45; total time=   0.0s\n",
      "[LightGBM] [Warning] Using sparse features with CUDA is currently not supported.\n",
      "[LightGBM] [Warning] categorical_feature is set=lang, categorical_column=6 will be ignored. Current value: categorical_feature=lang\n",
      "[LightGBM] [Info] Number of positive: 6323, number of negative: 12545\n",
      "[CV] END learning_rate=0.02, n_estimators=600, num_leaves=45; total time=   0.0s\n",
      "[LightGBM] [Warning] Using sparse features with CUDA is currently not supported.\n",
      "[LightGBM] [Warning] categorical_feature is set=lang, categorical_column=6 will be ignored. Current value: categorical_feature=lang\n",
      "[LightGBM] [Info] Number of positive: 6323, number of negative: 12545\n",
      "[CV] END learning_rate=0.02, n_estimators=600, num_leaves=45; total time=   0.0s\n",
      "[LightGBM] [Warning] Using sparse features with CUDA is currently not supported.\n",
      "[LightGBM] [Warning] categorical_feature is set=lang, categorical_column=6 will be ignored. Current value: categorical_feature=lang\n",
      "[LightGBM] [Info] Number of positive: 6324, number of negative: 12544\n",
      "[CV] END learning_rate=0.02, n_estimators=600, num_leaves=45; total time=   0.0s\n",
      "[LightGBM] [Warning] Using sparse features with CUDA is currently not supported.\n",
      "[LightGBM] [Warning] categorical_feature is set=lang, categorical_column=6 will be ignored. Current value: categorical_feature=lang\n",
      "[LightGBM] [Info] Number of positive: 6324, number of negative: 12544\n",
      "[CV] END learning_rate=0.02, n_estimators=600, num_leaves=45; total time=   0.0s\n",
      "[LightGBM] [Warning] Using sparse features with CUDA is currently not supported.\n",
      "[LightGBM] [Warning] categorical_feature is set=lang, categorical_column=6 will be ignored. Current value: categorical_feature=lang\n",
      "[LightGBM] [Info] Number of positive: 6324, number of negative: 12544\n",
      "[CV] END learning_rate=0.02, n_estimators=600, num_leaves=45; total time=   0.0s\n",
      "[LightGBM] [Warning] Using sparse features with CUDA is currently not supported.\n",
      "[LightGBM] [Warning] categorical_feature is set=lang, categorical_column=6 will be ignored. Current value: categorical_feature=lang\n",
      "[LightGBM] [Info] Number of positive: 6324, number of negative: 12544\n",
      "[CV] END learning_rate=0.02, n_estimators=600, num_leaves=45; total time=   0.0s\n"
     ]
    },
    {
     "name": "stderr",
     "output_type": "stream",
     "text": [
      "c:\\Users\\ivanj\\AppData\\Local\\Programs\\Python\\Python313\\Lib\\site-packages\\lightgbm\\basic.py:2137: UserWarning: categorical_feature keyword has been found in `params` and will be ignored.\n",
      "Please use categorical_feature argument of the Dataset constructor to pass this parameter.\n",
      "  _log_warning(\n",
      "c:\\Users\\ivanj\\AppData\\Local\\Programs\\Python\\Python313\\Lib\\site-packages\\lightgbm\\basic.py:2159: UserWarning: categorical_feature in param dict is overridden.\n",
      "  _log_warning(f\"{cat_alias} in param dict is overridden.\")\n",
      "c:\\Users\\ivanj\\AppData\\Local\\Programs\\Python\\Python313\\Lib\\site-packages\\lightgbm\\basic.py:2137: UserWarning: categorical_feature keyword has been found in `params` and will be ignored.\n",
      "Please use categorical_feature argument of the Dataset constructor to pass this parameter.\n",
      "  _log_warning(\n",
      "c:\\Users\\ivanj\\AppData\\Local\\Programs\\Python\\Python313\\Lib\\site-packages\\lightgbm\\basic.py:2159: UserWarning: categorical_feature in param dict is overridden.\n",
      "  _log_warning(f\"{cat_alias} in param dict is overridden.\")\n",
      "c:\\Users\\ivanj\\AppData\\Local\\Programs\\Python\\Python313\\Lib\\site-packages\\lightgbm\\basic.py:2137: UserWarning: categorical_feature keyword has been found in `params` and will be ignored.\n",
      "Please use categorical_feature argument of the Dataset constructor to pass this parameter.\n",
      "  _log_warning(\n",
      "c:\\Users\\ivanj\\AppData\\Local\\Programs\\Python\\Python313\\Lib\\site-packages\\lightgbm\\basic.py:2159: UserWarning: categorical_feature in param dict is overridden.\n",
      "  _log_warning(f\"{cat_alias} in param dict is overridden.\")\n",
      "c:\\Users\\ivanj\\AppData\\Local\\Programs\\Python\\Python313\\Lib\\site-packages\\lightgbm\\basic.py:2137: UserWarning: categorical_feature keyword has been found in `params` and will be ignored.\n",
      "Please use categorical_feature argument of the Dataset constructor to pass this parameter.\n",
      "  _log_warning(\n",
      "c:\\Users\\ivanj\\AppData\\Local\\Programs\\Python\\Python313\\Lib\\site-packages\\lightgbm\\basic.py:2159: UserWarning: categorical_feature in param dict is overridden.\n",
      "  _log_warning(f\"{cat_alias} in param dict is overridden.\")\n",
      "c:\\Users\\ivanj\\AppData\\Local\\Programs\\Python\\Python313\\Lib\\site-packages\\lightgbm\\basic.py:2137: UserWarning: categorical_feature keyword has been found in `params` and will be ignored.\n",
      "Please use categorical_feature argument of the Dataset constructor to pass this parameter.\n",
      "  _log_warning(\n",
      "c:\\Users\\ivanj\\AppData\\Local\\Programs\\Python\\Python313\\Lib\\site-packages\\lightgbm\\basic.py:2159: UserWarning: categorical_feature in param dict is overridden.\n",
      "  _log_warning(f\"{cat_alias} in param dict is overridden.\")\n",
      "c:\\Users\\ivanj\\AppData\\Local\\Programs\\Python\\Python313\\Lib\\site-packages\\lightgbm\\basic.py:2137: UserWarning: categorical_feature keyword has been found in `params` and will be ignored.\n",
      "Please use categorical_feature argument of the Dataset constructor to pass this parameter.\n",
      "  _log_warning(\n",
      "c:\\Users\\ivanj\\AppData\\Local\\Programs\\Python\\Python313\\Lib\\site-packages\\lightgbm\\basic.py:2159: UserWarning: categorical_feature in param dict is overridden.\n",
      "  _log_warning(f\"{cat_alias} in param dict is overridden.\")\n",
      "c:\\Users\\ivanj\\AppData\\Local\\Programs\\Python\\Python313\\Lib\\site-packages\\lightgbm\\basic.py:2137: UserWarning: categorical_feature keyword has been found in `params` and will be ignored.\n",
      "Please use categorical_feature argument of the Dataset constructor to pass this parameter.\n",
      "  _log_warning(\n",
      "c:\\Users\\ivanj\\AppData\\Local\\Programs\\Python\\Python313\\Lib\\site-packages\\lightgbm\\basic.py:2159: UserWarning: categorical_feature in param dict is overridden.\n",
      "  _log_warning(f\"{cat_alias} in param dict is overridden.\")\n",
      "c:\\Users\\ivanj\\AppData\\Local\\Programs\\Python\\Python313\\Lib\\site-packages\\lightgbm\\basic.py:2137: UserWarning: categorical_feature keyword has been found in `params` and will be ignored.\n",
      "Please use categorical_feature argument of the Dataset constructor to pass this parameter.\n",
      "  _log_warning(\n",
      "c:\\Users\\ivanj\\AppData\\Local\\Programs\\Python\\Python313\\Lib\\site-packages\\lightgbm\\basic.py:2159: UserWarning: categorical_feature in param dict is overridden.\n",
      "  _log_warning(f\"{cat_alias} in param dict is overridden.\")\n",
      "c:\\Users\\ivanj\\AppData\\Local\\Programs\\Python\\Python313\\Lib\\site-packages\\lightgbm\\basic.py:2137: UserWarning: categorical_feature keyword has been found in `params` and will be ignored.\n",
      "Please use categorical_feature argument of the Dataset constructor to pass this parameter.\n",
      "  _log_warning(\n",
      "c:\\Users\\ivanj\\AppData\\Local\\Programs\\Python\\Python313\\Lib\\site-packages\\lightgbm\\basic.py:2159: UserWarning: categorical_feature in param dict is overridden.\n",
      "  _log_warning(f\"{cat_alias} in param dict is overridden.\")\n",
      "c:\\Users\\ivanj\\AppData\\Local\\Programs\\Python\\Python313\\Lib\\site-packages\\lightgbm\\basic.py:2137: UserWarning: categorical_feature keyword has been found in `params` and will be ignored.\n",
      "Please use categorical_feature argument of the Dataset constructor to pass this parameter.\n",
      "  _log_warning(\n",
      "c:\\Users\\ivanj\\AppData\\Local\\Programs\\Python\\Python313\\Lib\\site-packages\\lightgbm\\basic.py:2159: UserWarning: categorical_feature in param dict is overridden.\n",
      "  _log_warning(f\"{cat_alias} in param dict is overridden.\")\n",
      "c:\\Users\\ivanj\\AppData\\Local\\Programs\\Python\\Python313\\Lib\\site-packages\\lightgbm\\basic.py:2137: UserWarning: categorical_feature keyword has been found in `params` and will be ignored.\n",
      "Please use categorical_feature argument of the Dataset constructor to pass this parameter.\n",
      "  _log_warning(\n",
      "c:\\Users\\ivanj\\AppData\\Local\\Programs\\Python\\Python313\\Lib\\site-packages\\lightgbm\\basic.py:2159: UserWarning: categorical_feature in param dict is overridden.\n",
      "  _log_warning(f\"{cat_alias} in param dict is overridden.\")\n"
     ]
    },
    {
     "ename": "ValueError",
     "evalue": "\nAll the 270 fits failed.\nIt is very likely that your model is misconfigured.\nYou can try to debug the error by setting error_score='raise'.\n\nBelow are more details about the failures:\n--------------------------------------------------------------------------------\n270 fits failed with the following error:\nTraceback (most recent call last):\n  File \"c:\\Users\\ivanj\\AppData\\Local\\Programs\\Python\\Python313\\Lib\\site-packages\\sklearn\\model_selection\\_validation.py\", line 866, in _fit_and_score\n    estimator.fit(X_train, y_train, **fit_params)\n    ~~~~~~~~~~~~~^^^^^^^^^^^^^^^^^^^^^^^^^^^^^^^^\n  File \"c:\\Users\\ivanj\\AppData\\Local\\Programs\\Python\\Python313\\Lib\\site-packages\\lightgbm\\sklearn.py\", line 1560, in fit\n    super().fit(\n    ~~~~~~~~~~~^\n        X,\n        ^^\n    ...<12 lines>...\n        init_model=init_model,\n        ^^^^^^^^^^^^^^^^^^^^^^\n    )\n    ^\n  File \"c:\\Users\\ivanj\\AppData\\Local\\Programs\\Python\\Python313\\Lib\\site-packages\\lightgbm\\sklearn.py\", line 1049, in fit\n    self._Booster = train(\n                    ~~~~~^\n        params=params,\n        ^^^^^^^^^^^^^^\n    ...<6 lines>...\n        callbacks=callbacks,\n        ^^^^^^^^^^^^^^^^^^^^\n    )\n    ^\n  File \"c:\\Users\\ivanj\\AppData\\Local\\Programs\\Python\\Python313\\Lib\\site-packages\\lightgbm\\engine.py\", line 297, in train\n    booster = Booster(params=params, train_set=train_set)\n  File \"c:\\Users\\ivanj\\AppData\\Local\\Programs\\Python\\Python313\\Lib\\site-packages\\lightgbm\\basic.py\", line 3660, in __init__\n    _safe_call(\n    ~~~~~~~~~~^\n        _LIB.LGBM_BoosterCreate(\n        ^^^^^^^^^^^^^^^^^^^^^^^^\n    ...<3 lines>...\n        )\n        ^\n    )\n    ^\n  File \"c:\\Users\\ivanj\\AppData\\Local\\Programs\\Python\\Python313\\Lib\\site-packages\\lightgbm\\basic.py\", line 313, in _safe_call\n    raise LightGBMError(_LIB.LGBM_GetLastError().decode(\"utf-8\"))\nlightgbm.basic.LightGBMError: CUDA Tree Learner was not enabled in this build.\nPlease recompile with CMake option -DUSE_CUDA=1\n",
     "output_type": "error",
     "traceback": [
      "\u001b[31m---------------------------------------------------------------------------\u001b[39m",
      "\u001b[31mValueError\u001b[39m                                Traceback (most recent call last)",
      "\u001b[36mCell\u001b[39m\u001b[36m \u001b[39m\u001b[32mIn[55]\u001b[39m\u001b[32m, line 1\u001b[39m\n\u001b[32m----> \u001b[39m\u001b[32m1\u001b[39m \u001b[43mgrid_search_lgb\u001b[49m\u001b[43m.\u001b[49m\u001b[43mfit\u001b[49m\u001b[43m(\u001b[49m\u001b[43mx_train\u001b[49m\u001b[43m,\u001b[49m\u001b[43my_train\u001b[49m\u001b[43m)\u001b[49m\n",
      "\u001b[36mFile \u001b[39m\u001b[32mc:\\Users\\ivanj\\AppData\\Local\\Programs\\Python\\Python313\\Lib\\site-packages\\sklearn\\base.py:1389\u001b[39m, in \u001b[36m_fit_context.<locals>.decorator.<locals>.wrapper\u001b[39m\u001b[34m(estimator, *args, **kwargs)\u001b[39m\n\u001b[32m   1382\u001b[39m     estimator._validate_params()\n\u001b[32m   1384\u001b[39m \u001b[38;5;28;01mwith\u001b[39;00m config_context(\n\u001b[32m   1385\u001b[39m     skip_parameter_validation=(\n\u001b[32m   1386\u001b[39m         prefer_skip_nested_validation \u001b[38;5;129;01mor\u001b[39;00m global_skip_validation\n\u001b[32m   1387\u001b[39m     )\n\u001b[32m   1388\u001b[39m ):\n\u001b[32m-> \u001b[39m\u001b[32m1389\u001b[39m     \u001b[38;5;28;01mreturn\u001b[39;00m \u001b[43mfit_method\u001b[49m\u001b[43m(\u001b[49m\u001b[43mestimator\u001b[49m\u001b[43m,\u001b[49m\u001b[43m \u001b[49m\u001b[43m*\u001b[49m\u001b[43margs\u001b[49m\u001b[43m,\u001b[49m\u001b[43m \u001b[49m\u001b[43m*\u001b[49m\u001b[43m*\u001b[49m\u001b[43mkwargs\u001b[49m\u001b[43m)\u001b[49m\n",
      "\u001b[36mFile \u001b[39m\u001b[32mc:\\Users\\ivanj\\AppData\\Local\\Programs\\Python\\Python313\\Lib\\site-packages\\sklearn\\model_selection\\_search.py:1024\u001b[39m, in \u001b[36mBaseSearchCV.fit\u001b[39m\u001b[34m(self, X, y, **params)\u001b[39m\n\u001b[32m   1018\u001b[39m     results = \u001b[38;5;28mself\u001b[39m._format_results(\n\u001b[32m   1019\u001b[39m         all_candidate_params, n_splits, all_out, all_more_results\n\u001b[32m   1020\u001b[39m     )\n\u001b[32m   1022\u001b[39m     \u001b[38;5;28;01mreturn\u001b[39;00m results\n\u001b[32m-> \u001b[39m\u001b[32m1024\u001b[39m \u001b[38;5;28;43mself\u001b[39;49m\u001b[43m.\u001b[49m\u001b[43m_run_search\u001b[49m\u001b[43m(\u001b[49m\u001b[43mevaluate_candidates\u001b[49m\u001b[43m)\u001b[49m\n\u001b[32m   1026\u001b[39m \u001b[38;5;66;03m# multimetric is determined here because in the case of a callable\u001b[39;00m\n\u001b[32m   1027\u001b[39m \u001b[38;5;66;03m# self.scoring the return type is only known after calling\u001b[39;00m\n\u001b[32m   1028\u001b[39m first_test_score = all_out[\u001b[32m0\u001b[39m][\u001b[33m\"\u001b[39m\u001b[33mtest_scores\u001b[39m\u001b[33m\"\u001b[39m]\n",
      "\u001b[36mFile \u001b[39m\u001b[32mc:\\Users\\ivanj\\AppData\\Local\\Programs\\Python\\Python313\\Lib\\site-packages\\sklearn\\model_selection\\_search.py:1571\u001b[39m, in \u001b[36mGridSearchCV._run_search\u001b[39m\u001b[34m(self, evaluate_candidates)\u001b[39m\n\u001b[32m   1569\u001b[39m \u001b[38;5;28;01mdef\u001b[39;00m\u001b[38;5;250m \u001b[39m\u001b[34m_run_search\u001b[39m(\u001b[38;5;28mself\u001b[39m, evaluate_candidates):\n\u001b[32m   1570\u001b[39m \u001b[38;5;250m    \u001b[39m\u001b[33;03m\"\"\"Search all candidates in param_grid\"\"\"\u001b[39;00m\n\u001b[32m-> \u001b[39m\u001b[32m1571\u001b[39m     \u001b[43mevaluate_candidates\u001b[49m\u001b[43m(\u001b[49m\u001b[43mParameterGrid\u001b[49m\u001b[43m(\u001b[49m\u001b[38;5;28;43mself\u001b[39;49m\u001b[43m.\u001b[49m\u001b[43mparam_grid\u001b[49m\u001b[43m)\u001b[49m\u001b[43m)\u001b[49m\n",
      "\u001b[36mFile \u001b[39m\u001b[32mc:\\Users\\ivanj\\AppData\\Local\\Programs\\Python\\Python313\\Lib\\site-packages\\sklearn\\model_selection\\_search.py:1001\u001b[39m, in \u001b[36mBaseSearchCV.fit.<locals>.evaluate_candidates\u001b[39m\u001b[34m(candidate_params, cv, more_results)\u001b[39m\n\u001b[32m    994\u001b[39m \u001b[38;5;28;01melif\u001b[39;00m \u001b[38;5;28mlen\u001b[39m(out) != n_candidates * n_splits:\n\u001b[32m    995\u001b[39m     \u001b[38;5;28;01mraise\u001b[39;00m \u001b[38;5;167;01mValueError\u001b[39;00m(\n\u001b[32m    996\u001b[39m         \u001b[33m\"\u001b[39m\u001b[33mcv.split and cv.get_n_splits returned \u001b[39m\u001b[33m\"\u001b[39m\n\u001b[32m    997\u001b[39m         \u001b[33m\"\u001b[39m\u001b[33minconsistent results. Expected \u001b[39m\u001b[38;5;132;01m{}\u001b[39;00m\u001b[33m \u001b[39m\u001b[33m\"\u001b[39m\n\u001b[32m    998\u001b[39m         \u001b[33m\"\u001b[39m\u001b[33msplits, got \u001b[39m\u001b[38;5;132;01m{}\u001b[39;00m\u001b[33m\"\u001b[39m.format(n_splits, \u001b[38;5;28mlen\u001b[39m(out) // n_candidates)\n\u001b[32m    999\u001b[39m     )\n\u001b[32m-> \u001b[39m\u001b[32m1001\u001b[39m \u001b[43m_warn_or_raise_about_fit_failures\u001b[49m\u001b[43m(\u001b[49m\u001b[43mout\u001b[49m\u001b[43m,\u001b[49m\u001b[43m \u001b[49m\u001b[38;5;28;43mself\u001b[39;49m\u001b[43m.\u001b[49m\u001b[43merror_score\u001b[49m\u001b[43m)\u001b[49m\n\u001b[32m   1003\u001b[39m \u001b[38;5;66;03m# For callable self.scoring, the return type is only know after\u001b[39;00m\n\u001b[32m   1004\u001b[39m \u001b[38;5;66;03m# calling. If the return type is a dictionary, the error scores\u001b[39;00m\n\u001b[32m   1005\u001b[39m \u001b[38;5;66;03m# can now be inserted with the correct key. The type checking\u001b[39;00m\n\u001b[32m   1006\u001b[39m \u001b[38;5;66;03m# of out will be done in `_insert_error_scores`.\u001b[39;00m\n\u001b[32m   1007\u001b[39m \u001b[38;5;28;01mif\u001b[39;00m \u001b[38;5;28mcallable\u001b[39m(\u001b[38;5;28mself\u001b[39m.scoring):\n",
      "\u001b[36mFile \u001b[39m\u001b[32mc:\\Users\\ivanj\\AppData\\Local\\Programs\\Python\\Python313\\Lib\\site-packages\\sklearn\\model_selection\\_validation.py:517\u001b[39m, in \u001b[36m_warn_or_raise_about_fit_failures\u001b[39m\u001b[34m(results, error_score)\u001b[39m\n\u001b[32m    510\u001b[39m \u001b[38;5;28;01mif\u001b[39;00m num_failed_fits == num_fits:\n\u001b[32m    511\u001b[39m     all_fits_failed_message = (\n\u001b[32m    512\u001b[39m         \u001b[33mf\u001b[39m\u001b[33m\"\u001b[39m\u001b[38;5;130;01m\\n\u001b[39;00m\u001b[33mAll the \u001b[39m\u001b[38;5;132;01m{\u001b[39;00mnum_fits\u001b[38;5;132;01m}\u001b[39;00m\u001b[33m fits failed.\u001b[39m\u001b[38;5;130;01m\\n\u001b[39;00m\u001b[33m\"\u001b[39m\n\u001b[32m    513\u001b[39m         \u001b[33m\"\u001b[39m\u001b[33mIt is very likely that your model is misconfigured.\u001b[39m\u001b[38;5;130;01m\\n\u001b[39;00m\u001b[33m\"\u001b[39m\n\u001b[32m    514\u001b[39m         \u001b[33m\"\u001b[39m\u001b[33mYou can try to debug the error by setting error_score=\u001b[39m\u001b[33m'\u001b[39m\u001b[33mraise\u001b[39m\u001b[33m'\u001b[39m\u001b[33m.\u001b[39m\u001b[38;5;130;01m\\n\u001b[39;00m\u001b[38;5;130;01m\\n\u001b[39;00m\u001b[33m\"\u001b[39m\n\u001b[32m    515\u001b[39m         \u001b[33mf\u001b[39m\u001b[33m\"\u001b[39m\u001b[33mBelow are more details about the failures:\u001b[39m\u001b[38;5;130;01m\\n\u001b[39;00m\u001b[38;5;132;01m{\u001b[39;00mfit_errors_summary\u001b[38;5;132;01m}\u001b[39;00m\u001b[33m\"\u001b[39m\n\u001b[32m    516\u001b[39m     )\n\u001b[32m--> \u001b[39m\u001b[32m517\u001b[39m     \u001b[38;5;28;01mraise\u001b[39;00m \u001b[38;5;167;01mValueError\u001b[39;00m(all_fits_failed_message)\n\u001b[32m    519\u001b[39m \u001b[38;5;28;01melse\u001b[39;00m:\n\u001b[32m    520\u001b[39m     some_fits_failed_message = (\n\u001b[32m    521\u001b[39m         \u001b[33mf\u001b[39m\u001b[33m\"\u001b[39m\u001b[38;5;130;01m\\n\u001b[39;00m\u001b[38;5;132;01m{\u001b[39;00mnum_failed_fits\u001b[38;5;132;01m}\u001b[39;00m\u001b[33m fits failed out of a total of \u001b[39m\u001b[38;5;132;01m{\u001b[39;00mnum_fits\u001b[38;5;132;01m}\u001b[39;00m\u001b[33m.\u001b[39m\u001b[38;5;130;01m\\n\u001b[39;00m\u001b[33m\"\u001b[39m\n\u001b[32m    522\u001b[39m         \u001b[33m\"\u001b[39m\u001b[33mThe score on these train-test partitions for these parameters\u001b[39m\u001b[33m\"\u001b[39m\n\u001b[32m   (...)\u001b[39m\u001b[32m    526\u001b[39m         \u001b[33mf\u001b[39m\u001b[33m\"\u001b[39m\u001b[33mBelow are more details about the failures:\u001b[39m\u001b[38;5;130;01m\\n\u001b[39;00m\u001b[38;5;132;01m{\u001b[39;00mfit_errors_summary\u001b[38;5;132;01m}\u001b[39;00m\u001b[33m\"\u001b[39m\n\u001b[32m    527\u001b[39m     )\n",
      "\u001b[31mValueError\u001b[39m: \nAll the 270 fits failed.\nIt is very likely that your model is misconfigured.\nYou can try to debug the error by setting error_score='raise'.\n\nBelow are more details about the failures:\n--------------------------------------------------------------------------------\n270 fits failed with the following error:\nTraceback (most recent call last):\n  File \"c:\\Users\\ivanj\\AppData\\Local\\Programs\\Python\\Python313\\Lib\\site-packages\\sklearn\\model_selection\\_validation.py\", line 866, in _fit_and_score\n    estimator.fit(X_train, y_train, **fit_params)\n    ~~~~~~~~~~~~~^^^^^^^^^^^^^^^^^^^^^^^^^^^^^^^^\n  File \"c:\\Users\\ivanj\\AppData\\Local\\Programs\\Python\\Python313\\Lib\\site-packages\\lightgbm\\sklearn.py\", line 1560, in fit\n    super().fit(\n    ~~~~~~~~~~~^\n        X,\n        ^^\n    ...<12 lines>...\n        init_model=init_model,\n        ^^^^^^^^^^^^^^^^^^^^^^\n    )\n    ^\n  File \"c:\\Users\\ivanj\\AppData\\Local\\Programs\\Python\\Python313\\Lib\\site-packages\\lightgbm\\sklearn.py\", line 1049, in fit\n    self._Booster = train(\n                    ~~~~~^\n        params=params,\n        ^^^^^^^^^^^^^^\n    ...<6 lines>...\n        callbacks=callbacks,\n        ^^^^^^^^^^^^^^^^^^^^\n    )\n    ^\n  File \"c:\\Users\\ivanj\\AppData\\Local\\Programs\\Python\\Python313\\Lib\\site-packages\\lightgbm\\engine.py\", line 297, in train\n    booster = Booster(params=params, train_set=train_set)\n  File \"c:\\Users\\ivanj\\AppData\\Local\\Programs\\Python\\Python313\\Lib\\site-packages\\lightgbm\\basic.py\", line 3660, in __init__\n    _safe_call(\n    ~~~~~~~~~~^\n        _LIB.LGBM_BoosterCreate(\n        ^^^^^^^^^^^^^^^^^^^^^^^^\n    ...<3 lines>...\n        )\n        ^\n    )\n    ^\n  File \"c:\\Users\\ivanj\\AppData\\Local\\Programs\\Python\\Python313\\Lib\\site-packages\\lightgbm\\basic.py\", line 313, in _safe_call\n    raise LightGBMError(_LIB.LGBM_GetLastError().decode(\"utf-8\"))\nlightgbm.basic.LightGBMError: CUDA Tree Learner was not enabled in this build.\nPlease recompile with CMake option -DUSE_CUDA=1\n"
     ]
    }
   ],
   "source": [
    "grid_search_lgb.fit(x_train,y_train)"
   ]
  },
  {
   "cell_type": "code",
   "execution_count": 110,
   "id": "OgazrzJKgJ7L",
   "metadata": {
    "colab": {
     "base_uri": "https://localhost:8080/"
    },
    "executionInfo": {
     "elapsed": 1317,
     "status": "ok",
     "timestamp": 1747143106437,
     "user": {
      "displayName": "Ivan Ng",
      "userId": "04611729327448256593"
     },
     "user_tz": -480
    },
    "id": "OgazrzJKgJ7L",
    "outputId": "2a55c384-e69f-46df-e43e-fa29c3ee7982"
   },
   "outputs": [
    {
     "name": "stdout",
     "output_type": "stream",
     "text": [
      "Train AUC for tuned XGBoost: 0.9838\n",
      "Test AUC for tuned XGBoost: 0.9483\n"
     ]
    }
   ],
   "source": [
    "best_lgb_model = grid_search_lgb.best_estimator_\n",
    "y_pred_train_proba_lgb= best_lgb_model.predict_proba(x_train)[:, 1]\n",
    "train_auc_lgb = metrics.roc_auc_score(y_train, y_pred_train_proba_lgb)\n",
    "print(f\"Train AUC for tuned XGBoost: {train_auc_lgb:.4f}\")\n",
    "y_pred_test_proba_lgb = best_lgb_model.predict_proba(x_test)[:, 1]\n",
    "test_auc_lgb = metrics.roc_auc_score(y_test, y_pred_test_proba_lgb)\n",
    "print(f\"Test AUC for tuned XGBoost: {test_auc_lgb:.4f}\")"
   ]
  },
  {
   "cell_type": "code",
   "execution_count": 111,
   "id": "vzrY9tP2stUC",
   "metadata": {
    "colab": {
     "base_uri": "https://localhost:8080/"
    },
    "executionInfo": {
     "elapsed": 18,
     "status": "ok",
     "timestamp": 1747143110338,
     "user": {
      "displayName": "Ivan Ng",
      "userId": "04611729327448256593"
     },
     "user_tz": -480
    },
    "id": "vzrY9tP2stUC",
    "outputId": "5bb4ce4a-9a53-444c-ab40-2d541e267f9f"
   },
   "outputs": [
    {
     "name": "stdout",
     "output_type": "stream",
     "text": [
      "                   feature  importance\n",
      "8         account_age_days        3452\n",
      "7   average_tweets_per_day        3137\n",
      "10     favourite_per_tweet        2909\n",
      "2          followers_count        2652\n",
      "3            friends_count        2510\n",
      "1         favourites_count        2317\n",
      "11       favourite_per_day        2183\n",
      "9           follower_ratio        1965\n",
      "12                desc_len        1604\n",
      "14          desc_sentiment        1158\n",
      "13          desc_wordcount         921\n",
      "5                     lang         774\n",
      "4              geo_enabled         324\n",
      "0          default_profile         252\n",
      "6                 verified         242\n"
     ]
    }
   ],
   "source": [
    "importances = best_lgb_model.feature_importances_\n",
    "feature_names = x_train.columns\n",
    "feature_importance = pd.DataFrame({'feature': feature_names, 'importance': importances})\n",
    "feature_importance = feature_importance.sort_values('importance', ascending=False)\n",
    "print(feature_importance)"
   ]
  },
  {
   "cell_type": "code",
   "execution_count": null,
   "id": "0DzAfP8A5AUa",
   "metadata": {
    "id": "0DzAfP8A5AUa"
   },
   "outputs": [],
   "source": [
    "x_train = x_train.drop(columns=['default_profile_image'])\n",
    "x_test = x_test.drop(columns=['default_profile_image'])"
   ]
  },
  {
   "cell_type": "code",
   "execution_count": 115,
   "id": "FPMdBWRVs-Om",
   "metadata": {
    "executionInfo": {
     "elapsed": 20,
     "status": "ok",
     "timestamp": 1747143932097,
     "user": {
      "displayName": "Ivan Ng",
      "userId": "04611729327448256593"
     },
     "user_tz": -480
    },
    "id": "FPMdBWRVs-Om"
   },
   "outputs": [],
   "source": [
    "train_predictors = train_predictors.drop(columns=['default_profile_image'])"
   ]
  },
  {
   "cell_type": "code",
   "execution_count": 49,
   "id": "f5wsy0Y8vx22",
   "metadata": {
    "executionInfo": {
     "elapsed": 5,
     "status": "ok",
     "timestamp": 1747141511442,
     "user": {
      "displayName": "Ivan Ng",
      "userId": "04611729327448256593"
     },
     "user_tz": -480
    },
    "id": "f5wsy0Y8vx22"
   },
   "outputs": [],
   "source": [
    "# x_train = x_train.drop(columns=['geo_enabled', 'default_profile', 'verified'])\n",
    "# x_test = x_test.drop(columns=['geo_enabled', 'default_profile', 'verified'])"
   ]
  },
  {
   "cell_type": "code",
   "execution_count": 116,
   "id": "ESU_P4l4nHpj",
   "metadata": {
    "colab": {
     "base_uri": "https://localhost:8080/",
     "height": 1000
    },
    "collapsed": true,
    "executionInfo": {
     "elapsed": 678815,
     "status": "ok",
     "timestamp": 1747144614360,
     "user": {
      "displayName": "Ivan Ng",
      "userId": "04611729327448256593"
     },
     "user_tz": -480
    },
    "id": "ESU_P4l4nHpj",
    "outputId": "acffe1cd-39be-44b7-a3ba-0a0abba1cd21"
   },
   "outputs": [
    {
     "name": "stdout",
     "output_type": "stream",
     "text": [
      "Fitting 10 folds for each of 27 candidates, totalling 270 fits\n",
      "[LightGBM] [Warning] categorical_feature is set=lang, categorical_column=5 will be ignored. Current value: categorical_feature=lang\n",
      "[LightGBM] [Info] Number of positive: 7904, number of negative: 15681\n",
      "[LightGBM] [Info] This is the GPU trainer!!\n",
      "[LightGBM] [Info] Total Bins 2510\n",
      "[LightGBM] [Info] Number of data points in the train set: 23585, number of used features: 15\n",
      "[LightGBM] [Info] Using GPU Device: Tesla T4, Vendor: NVIDIA Corporation\n",
      "[LightGBM] [Info] Compiling OpenCL Kernel with 256 bins...\n",
      "[LightGBM] [Info] GPU programs have been built\n",
      "[LightGBM] [Info] Size of histogram bin entry: 8\n",
      "[LightGBM] [Info] 13 dense feature groups (0.36 MB) transferred to GPU in 0.036296 secs. 1 sparse feature groups\n",
      "[LightGBM] [Info] [binary:BoostFromScore]: pavg=0.335128 -> initscore=-0.685081\n",
      "[LightGBM] [Info] Start training from score -0.685081\n"
     ]
    },
    {
     "name": "stderr",
     "output_type": "stream",
     "text": [
      "/usr/local/lib/python3.11/dist-packages/lightgbm/basic.py:2118: UserWarning: categorical_feature keyword has been found in `params` and will be ignored.\n",
      "Please use categorical_feature argument of the Dataset constructor to pass this parameter.\n",
      "  _log_warning(\n",
      "/usr/local/lib/python3.11/dist-packages/lightgbm/basic.py:2140: UserWarning: categorical_feature in param dict is overridden.\n",
      "  _log_warning(f\"{cat_alias} in param dict is overridden.\")\n"
     ]
    },
    {
     "name": "stdout",
     "output_type": "stream",
     "text": [
      "[CV] END learning_rate=0.001, n_estimators=400, num_leaves=15; total time=   3.1s\n",
      "[LightGBM] [Warning] categorical_feature is set=lang, categorical_column=5 will be ignored. Current value: categorical_feature=lang\n",
      "[LightGBM] [Info] Number of positive: 7904, number of negative: 15681\n",
      "[LightGBM] [Info] This is the GPU trainer!!\n",
      "[LightGBM] [Info] Total Bins 2519\n",
      "[LightGBM] [Info] Number of data points in the train set: 23585, number of used features: 15\n",
      "[LightGBM] [Info] Using GPU Device: Tesla T4, Vendor: NVIDIA Corporation\n",
      "[LightGBM] [Info] Compiling OpenCL Kernel with 256 bins...\n",
      "[LightGBM] [Info] GPU programs have been built\n",
      "[LightGBM] [Info] Size of histogram bin entry: 8\n",
      "[LightGBM] [Info] 13 dense feature groups (0.36 MB) transferred to GPU in 0.022401 secs. 1 sparse feature groups\n",
      "[LightGBM] [Info] [binary:BoostFromScore]: pavg=0.335128 -> initscore=-0.685081\n",
      "[LightGBM] [Info] Start training from score -0.685081\n"
     ]
    },
    {
     "name": "stderr",
     "output_type": "stream",
     "text": [
      "/usr/local/lib/python3.11/dist-packages/lightgbm/basic.py:2118: UserWarning: categorical_feature keyword has been found in `params` and will be ignored.\n",
      "Please use categorical_feature argument of the Dataset constructor to pass this parameter.\n",
      "  _log_warning(\n",
      "/usr/local/lib/python3.11/dist-packages/lightgbm/basic.py:2140: UserWarning: categorical_feature in param dict is overridden.\n",
      "  _log_warning(f\"{cat_alias} in param dict is overridden.\")\n"
     ]
    },
    {
     "name": "stdout",
     "output_type": "stream",
     "text": [
      "[CV] END learning_rate=0.001, n_estimators=400, num_leaves=15; total time=   1.1s\n",
      "[LightGBM] [Warning] categorical_feature is set=lang, categorical_column=5 will be ignored. Current value: categorical_feature=lang\n",
      "[LightGBM] [Info] Number of positive: 7904, number of negative: 15681\n",
      "[LightGBM] [Info] This is the GPU trainer!!\n",
      "[LightGBM] [Info] Total Bins 2517\n",
      "[LightGBM] [Info] Number of data points in the train set: 23585, number of used features: 15\n",
      "[LightGBM] [Info] Using GPU Device: Tesla T4, Vendor: NVIDIA Corporation\n",
      "[LightGBM] [Info] Compiling OpenCL Kernel with 256 bins...\n",
      "[LightGBM] [Info] GPU programs have been built\n",
      "[LightGBM] [Info] Size of histogram bin entry: 8\n",
      "[LightGBM] [Info] 13 dense feature groups (0.36 MB) transferred to GPU in 0.001266 secs. 1 sparse feature groups\n",
      "[LightGBM] [Info] [binary:BoostFromScore]: pavg=0.335128 -> initscore=-0.685081\n",
      "[LightGBM] [Info] Start training from score -0.685081\n"
     ]
    },
    {
     "name": "stderr",
     "output_type": "stream",
     "text": [
      "/usr/local/lib/python3.11/dist-packages/lightgbm/basic.py:2118: UserWarning: categorical_feature keyword has been found in `params` and will be ignored.\n",
      "Please use categorical_feature argument of the Dataset constructor to pass this parameter.\n",
      "  _log_warning(\n",
      "/usr/local/lib/python3.11/dist-packages/lightgbm/basic.py:2140: UserWarning: categorical_feature in param dict is overridden.\n",
      "  _log_warning(f\"{cat_alias} in param dict is overridden.\")\n"
     ]
    },
    {
     "name": "stdout",
     "output_type": "stream",
     "text": [
      "[CV] END learning_rate=0.001, n_estimators=400, num_leaves=15; total time=   1.1s\n",
      "[LightGBM] [Warning] categorical_feature is set=lang, categorical_column=5 will be ignored. Current value: categorical_feature=lang\n",
      "[LightGBM] [Info] Number of positive: 7905, number of negative: 15680\n",
      "[LightGBM] [Info] This is the GPU trainer!!\n",
      "[LightGBM] [Info] Total Bins 2512\n",
      "[LightGBM] [Info] Number of data points in the train set: 23585, number of used features: 15\n",
      "[LightGBM] [Info] Using GPU Device: Tesla T4, Vendor: NVIDIA Corporation\n",
      "[LightGBM] [Info] Compiling OpenCL Kernel with 256 bins...\n",
      "[LightGBM] [Info] GPU programs have been built\n",
      "[LightGBM] [Info] Size of histogram bin entry: 8\n",
      "[LightGBM] [Info] 13 dense feature groups (0.36 MB) transferred to GPU in 0.001232 secs. 1 sparse feature groups\n",
      "[LightGBM] [Info] [binary:BoostFromScore]: pavg=0.335171 -> initscore=-0.684891\n",
      "[LightGBM] [Info] Start training from score -0.684891\n"
     ]
    },
    {
     "name": "stderr",
     "output_type": "stream",
     "text": [
      "/usr/local/lib/python3.11/dist-packages/lightgbm/basic.py:2118: UserWarning: categorical_feature keyword has been found in `params` and will be ignored.\n",
      "Please use categorical_feature argument of the Dataset constructor to pass this parameter.\n",
      "  _log_warning(\n",
      "/usr/local/lib/python3.11/dist-packages/lightgbm/basic.py:2140: UserWarning: categorical_feature in param dict is overridden.\n",
      "  _log_warning(f\"{cat_alias} in param dict is overridden.\")\n"
     ]
    },
    {
     "name": "stdout",
     "output_type": "stream",
     "text": [
      "[CV] END learning_rate=0.001, n_estimators=400, num_leaves=15; total time=   1.1s\n",
      "[LightGBM] [Warning] categorical_feature is set=lang, categorical_column=5 will be ignored. Current value: categorical_feature=lang\n",
      "[LightGBM] [Info] Number of positive: 7905, number of negative: 15680\n",
      "[LightGBM] [Info] This is the GPU trainer!!\n",
      "[LightGBM] [Info] Total Bins 2523\n",
      "[LightGBM] [Info] Number of data points in the train set: 23585, number of used features: 15\n",
      "[LightGBM] [Info] Using GPU Device: Tesla T4, Vendor: NVIDIA Corporation\n",
      "[LightGBM] [Info] Compiling OpenCL Kernel with 256 bins...\n",
      "[LightGBM] [Info] GPU programs have been built\n",
      "[LightGBM] [Info] Size of histogram bin entry: 8\n",
      "[LightGBM] [Info] 13 dense feature groups (0.36 MB) transferred to GPU in 0.001172 secs. 1 sparse feature groups\n",
      "[LightGBM] [Info] [binary:BoostFromScore]: pavg=0.335171 -> initscore=-0.684891\n",
      "[LightGBM] [Info] Start training from score -0.684891\n"
     ]
    },
    {
     "name": "stderr",
     "output_type": "stream",
     "text": [
      "/usr/local/lib/python3.11/dist-packages/lightgbm/basic.py:2118: UserWarning: categorical_feature keyword has been found in `params` and will be ignored.\n",
      "Please use categorical_feature argument of the Dataset constructor to pass this parameter.\n",
      "  _log_warning(\n",
      "/usr/local/lib/python3.11/dist-packages/lightgbm/basic.py:2140: UserWarning: categorical_feature in param dict is overridden.\n",
      "  _log_warning(f\"{cat_alias} in param dict is overridden.\")\n"
     ]
    },
    {
     "name": "stdout",
     "output_type": "stream",
     "text": [
      "[CV] END learning_rate=0.001, n_estimators=400, num_leaves=15; total time=   1.0s\n",
      "[LightGBM] [Warning] categorical_feature is set=lang, categorical_column=5 will be ignored. Current value: categorical_feature=lang\n",
      "[LightGBM] [Info] Number of positive: 7905, number of negative: 15680\n",
      "[LightGBM] [Info] This is the GPU trainer!!\n",
      "[LightGBM] [Info] Total Bins 2517\n",
      "[LightGBM] [Info] Number of data points in the train set: 23585, number of used features: 15\n",
      "[LightGBM] [Info] Using GPU Device: Tesla T4, Vendor: NVIDIA Corporation\n",
      "[LightGBM] [Info] Compiling OpenCL Kernel with 256 bins...\n",
      "[LightGBM] [Info] GPU programs have been built\n",
      "[LightGBM] [Info] Size of histogram bin entry: 8\n",
      "[LightGBM] [Info] 13 dense feature groups (0.36 MB) transferred to GPU in 0.001207 secs. 1 sparse feature groups\n",
      "[LightGBM] [Info] [binary:BoostFromScore]: pavg=0.335171 -> initscore=-0.684891\n",
      "[LightGBM] [Info] Start training from score -0.684891\n"
     ]
    },
    {
     "name": "stderr",
     "output_type": "stream",
     "text": [
      "/usr/local/lib/python3.11/dist-packages/lightgbm/basic.py:2118: UserWarning: categorical_feature keyword has been found in `params` and will be ignored.\n",
      "Please use categorical_feature argument of the Dataset constructor to pass this parameter.\n",
      "  _log_warning(\n",
      "/usr/local/lib/python3.11/dist-packages/lightgbm/basic.py:2140: UserWarning: categorical_feature in param dict is overridden.\n",
      "  _log_warning(f\"{cat_alias} in param dict is overridden.\")\n"
     ]
    },
    {
     "name": "stdout",
     "output_type": "stream",
     "text": [
      "[CV] END learning_rate=0.001, n_estimators=400, num_leaves=15; total time=   1.0s\n",
      "[LightGBM] [Warning] categorical_feature is set=lang, categorical_column=5 will be ignored. Current value: categorical_feature=lang\n",
      "[LightGBM] [Info] Number of positive: 7905, number of negative: 15681\n",
      "[LightGBM] [Info] This is the GPU trainer!!\n",
      "[LightGBM] [Info] Total Bins 2514\n",
      "[LightGBM] [Info] Number of data points in the train set: 23586, number of used features: 15\n",
      "[LightGBM] [Info] Using GPU Device: Tesla T4, Vendor: NVIDIA Corporation\n",
      "[LightGBM] [Info] Compiling OpenCL Kernel with 256 bins...\n",
      "[LightGBM] [Info] GPU programs have been built\n",
      "[LightGBM] [Info] Size of histogram bin entry: 8\n",
      "[LightGBM] [Info] 13 dense feature groups (0.36 MB) transferred to GPU in 0.001282 secs. 1 sparse feature groups\n",
      "[LightGBM] [Info] [binary:BoostFromScore]: pavg=0.335156 -> initscore=-0.684954\n",
      "[LightGBM] [Info] Start training from score -0.684954\n"
     ]
    },
    {
     "name": "stderr",
     "output_type": "stream",
     "text": [
      "/usr/local/lib/python3.11/dist-packages/lightgbm/basic.py:2118: UserWarning: categorical_feature keyword has been found in `params` and will be ignored.\n",
      "Please use categorical_feature argument of the Dataset constructor to pass this parameter.\n",
      "  _log_warning(\n",
      "/usr/local/lib/python3.11/dist-packages/lightgbm/basic.py:2140: UserWarning: categorical_feature in param dict is overridden.\n",
      "  _log_warning(f\"{cat_alias} in param dict is overridden.\")\n"
     ]
    },
    {
     "name": "stdout",
     "output_type": "stream",
     "text": [
      "[CV] END learning_rate=0.001, n_estimators=400, num_leaves=15; total time=   1.1s\n",
      "[LightGBM] [Warning] categorical_feature is set=lang, categorical_column=5 will be ignored. Current value: categorical_feature=lang\n",
      "[LightGBM] [Info] Number of positive: 7905, number of negative: 15681\n",
      "[LightGBM] [Info] This is the GPU trainer!!\n",
      "[LightGBM] [Info] Total Bins 2518\n",
      "[LightGBM] [Info] Number of data points in the train set: 23586, number of used features: 15\n",
      "[LightGBM] [Info] Using GPU Device: Tesla T4, Vendor: NVIDIA Corporation\n",
      "[LightGBM] [Info] Compiling OpenCL Kernel with 256 bins...\n",
      "[LightGBM] [Info] GPU programs have been built\n",
      "[LightGBM] [Info] Size of histogram bin entry: 8\n",
      "[LightGBM] [Info] 13 dense feature groups (0.36 MB) transferred to GPU in 0.001184 secs. 1 sparse feature groups\n",
      "[LightGBM] [Info] [binary:BoostFromScore]: pavg=0.335156 -> initscore=-0.684954\n",
      "[LightGBM] [Info] Start training from score -0.684954\n"
     ]
    },
    {
     "name": "stderr",
     "output_type": "stream",
     "text": [
      "/usr/local/lib/python3.11/dist-packages/lightgbm/basic.py:2118: UserWarning: categorical_feature keyword has been found in `params` and will be ignored.\n",
      "Please use categorical_feature argument of the Dataset constructor to pass this parameter.\n",
      "  _log_warning(\n",
      "/usr/local/lib/python3.11/dist-packages/lightgbm/basic.py:2140: UserWarning: categorical_feature in param dict is overridden.\n",
      "  _log_warning(f\"{cat_alias} in param dict is overridden.\")\n"
     ]
    },
    {
     "name": "stdout",
     "output_type": "stream",
     "text": [
      "[CV] END learning_rate=0.001, n_estimators=400, num_leaves=15; total time=   1.1s\n",
      "[LightGBM] [Warning] categorical_feature is set=lang, categorical_column=5 will be ignored. Current value: categorical_feature=lang\n",
      "[LightGBM] [Info] Number of positive: 7905, number of negative: 15681\n",
      "[LightGBM] [Info] This is the GPU trainer!!\n",
      "[LightGBM] [Info] Total Bins 2518\n",
      "[LightGBM] [Info] Number of data points in the train set: 23586, number of used features: 15\n",
      "[LightGBM] [Info] Using GPU Device: Tesla T4, Vendor: NVIDIA Corporation\n",
      "[LightGBM] [Info] Compiling OpenCL Kernel with 256 bins...\n",
      "[LightGBM] [Info] GPU programs have been built\n",
      "[LightGBM] [Info] Size of histogram bin entry: 8\n",
      "[LightGBM] [Info] 13 dense feature groups (0.36 MB) transferred to GPU in 0.001241 secs. 1 sparse feature groups\n",
      "[LightGBM] [Info] [binary:BoostFromScore]: pavg=0.335156 -> initscore=-0.684954\n",
      "[LightGBM] [Info] Start training from score -0.684954\n"
     ]
    },
    {
     "name": "stderr",
     "output_type": "stream",
     "text": [
      "/usr/local/lib/python3.11/dist-packages/lightgbm/basic.py:2118: UserWarning: categorical_feature keyword has been found in `params` and will be ignored.\n",
      "Please use categorical_feature argument of the Dataset constructor to pass this parameter.\n",
      "  _log_warning(\n",
      "/usr/local/lib/python3.11/dist-packages/lightgbm/basic.py:2140: UserWarning: categorical_feature in param dict is overridden.\n",
      "  _log_warning(f\"{cat_alias} in param dict is overridden.\")\n"
     ]
    },
    {
     "name": "stdout",
     "output_type": "stream",
     "text": [
      "[CV] END learning_rate=0.001, n_estimators=400, num_leaves=15; total time=   1.1s\n",
      "[LightGBM] [Warning] categorical_feature is set=lang, categorical_column=5 will be ignored. Current value: categorical_feature=lang\n",
      "[LightGBM] [Info] Number of positive: 7905, number of negative: 15681\n",
      "[LightGBM] [Info] This is the GPU trainer!!\n",
      "[LightGBM] [Info] Total Bins 2514\n",
      "[LightGBM] [Info] Number of data points in the train set: 23586, number of used features: 15\n",
      "[LightGBM] [Info] Using GPU Device: Tesla T4, Vendor: NVIDIA Corporation\n",
      "[LightGBM] [Info] Compiling OpenCL Kernel with 256 bins...\n",
      "[LightGBM] [Info] GPU programs have been built\n",
      "[LightGBM] [Info] Size of histogram bin entry: 8\n",
      "[LightGBM] [Info] 13 dense feature groups (0.36 MB) transferred to GPU in 0.001282 secs. 1 sparse feature groups\n",
      "[LightGBM] [Info] [binary:BoostFromScore]: pavg=0.335156 -> initscore=-0.684954\n",
      "[LightGBM] [Info] Start training from score -0.684954\n"
     ]
    },
    {
     "name": "stderr",
     "output_type": "stream",
     "text": [
      "/usr/local/lib/python3.11/dist-packages/lightgbm/basic.py:2118: UserWarning: categorical_feature keyword has been found in `params` and will be ignored.\n",
      "Please use categorical_feature argument of the Dataset constructor to pass this parameter.\n",
      "  _log_warning(\n",
      "/usr/local/lib/python3.11/dist-packages/lightgbm/basic.py:2140: UserWarning: categorical_feature in param dict is overridden.\n",
      "  _log_warning(f\"{cat_alias} in param dict is overridden.\")\n"
     ]
    },
    {
     "name": "stdout",
     "output_type": "stream",
     "text": [
      "[CV] END learning_rate=0.001, n_estimators=400, num_leaves=15; total time=   1.1s\n",
      "[LightGBM] [Warning] categorical_feature is set=lang, categorical_column=5 will be ignored. Current value: categorical_feature=lang\n",
      "[LightGBM] [Info] Number of positive: 7904, number of negative: 15681\n",
      "[LightGBM] [Info] This is the GPU trainer!!\n",
      "[LightGBM] [Info] Total Bins 2510\n",
      "[LightGBM] [Info] Number of data points in the train set: 23585, number of used features: 15\n",
      "[LightGBM] [Info] Using GPU Device: Tesla T4, Vendor: NVIDIA Corporation\n",
      "[LightGBM] [Info] Compiling OpenCL Kernel with 256 bins...\n",
      "[LightGBM] [Info] GPU programs have been built\n",
      "[LightGBM] [Info] Size of histogram bin entry: 8\n",
      "[LightGBM] [Info] 13 dense feature groups (0.36 MB) transferred to GPU in 0.001253 secs. 1 sparse feature groups\n",
      "[LightGBM] [Info] [binary:BoostFromScore]: pavg=0.335128 -> initscore=-0.685081\n",
      "[LightGBM] [Info] Start training from score -0.685081\n"
     ]
    },
    {
     "name": "stderr",
     "output_type": "stream",
     "text": [
      "/usr/local/lib/python3.11/dist-packages/lightgbm/basic.py:2118: UserWarning: categorical_feature keyword has been found in `params` and will be ignored.\n",
      "Please use categorical_feature argument of the Dataset constructor to pass this parameter.\n",
      "  _log_warning(\n",
      "/usr/local/lib/python3.11/dist-packages/lightgbm/basic.py:2140: UserWarning: categorical_feature in param dict is overridden.\n",
      "  _log_warning(f\"{cat_alias} in param dict is overridden.\")\n"
     ]
    },
    {
     "name": "stdout",
     "output_type": "stream",
     "text": [
      "[CV] END learning_rate=0.001, n_estimators=400, num_leaves=30; total time=   3.8s\n",
      "[LightGBM] [Warning] categorical_feature is set=lang, categorical_column=5 will be ignored. Current value: categorical_feature=lang\n",
      "[LightGBM] [Info] Number of positive: 7904, number of negative: 15681\n",
      "[LightGBM] [Info] This is the GPU trainer!!\n",
      "[LightGBM] [Info] Total Bins 2519\n",
      "[LightGBM] [Info] Number of data points in the train set: 23585, number of used features: 15\n",
      "[LightGBM] [Info] Using GPU Device: Tesla T4, Vendor: NVIDIA Corporation\n",
      "[LightGBM] [Info] Compiling OpenCL Kernel with 256 bins...\n",
      "[LightGBM] [Info] GPU programs have been built\n",
      "[LightGBM] [Info] Size of histogram bin entry: 8\n",
      "[LightGBM] [Info] 13 dense feature groups (0.36 MB) transferred to GPU in 0.001210 secs. 1 sparse feature groups\n",
      "[LightGBM] [Info] [binary:BoostFromScore]: pavg=0.335128 -> initscore=-0.685081\n",
      "[LightGBM] [Info] Start training from score -0.685081\n"
     ]
    },
    {
     "name": "stderr",
     "output_type": "stream",
     "text": [
      "/usr/local/lib/python3.11/dist-packages/lightgbm/basic.py:2118: UserWarning: categorical_feature keyword has been found in `params` and will be ignored.\n",
      "Please use categorical_feature argument of the Dataset constructor to pass this parameter.\n",
      "  _log_warning(\n",
      "/usr/local/lib/python3.11/dist-packages/lightgbm/basic.py:2140: UserWarning: categorical_feature in param dict is overridden.\n",
      "  _log_warning(f\"{cat_alias} in param dict is overridden.\")\n"
     ]
    },
    {
     "name": "stdout",
     "output_type": "stream",
     "text": [
      "[CV] END learning_rate=0.001, n_estimators=400, num_leaves=30; total time=   1.9s\n",
      "[LightGBM] [Warning] categorical_feature is set=lang, categorical_column=5 will be ignored. Current value: categorical_feature=lang\n",
      "[LightGBM] [Info] Number of positive: 7904, number of negative: 15681\n",
      "[LightGBM] [Info] This is the GPU trainer!!\n",
      "[LightGBM] [Info] Total Bins 2517\n",
      "[LightGBM] [Info] Number of data points in the train set: 23585, number of used features: 15\n",
      "[LightGBM] [Info] Using GPU Device: Tesla T4, Vendor: NVIDIA Corporation\n",
      "[LightGBM] [Info] Compiling OpenCL Kernel with 256 bins...\n",
      "[LightGBM] [Info] GPU programs have been built\n",
      "[LightGBM] [Info] Size of histogram bin entry: 8\n",
      "[LightGBM] [Info] 13 dense feature groups (0.36 MB) transferred to GPU in 0.001248 secs. 1 sparse feature groups\n",
      "[LightGBM] [Info] [binary:BoostFromScore]: pavg=0.335128 -> initscore=-0.685081\n",
      "[LightGBM] [Info] Start training from score -0.685081\n"
     ]
    },
    {
     "name": "stderr",
     "output_type": "stream",
     "text": [
      "/usr/local/lib/python3.11/dist-packages/lightgbm/basic.py:2118: UserWarning: categorical_feature keyword has been found in `params` and will be ignored.\n",
      "Please use categorical_feature argument of the Dataset constructor to pass this parameter.\n",
      "  _log_warning(\n",
      "/usr/local/lib/python3.11/dist-packages/lightgbm/basic.py:2140: UserWarning: categorical_feature in param dict is overridden.\n",
      "  _log_warning(f\"{cat_alias} in param dict is overridden.\")\n"
     ]
    },
    {
     "name": "stdout",
     "output_type": "stream",
     "text": [
      "[CV] END learning_rate=0.001, n_estimators=400, num_leaves=30; total time=   2.1s\n",
      "[LightGBM] [Warning] categorical_feature is set=lang, categorical_column=5 will be ignored. Current value: categorical_feature=lang\n",
      "[LightGBM] [Info] Number of positive: 7905, number of negative: 15680\n",
      "[LightGBM] [Info] This is the GPU trainer!!\n",
      "[LightGBM] [Info] Total Bins 2512\n",
      "[LightGBM] [Info] Number of data points in the train set: 23585, number of used features: 15\n",
      "[LightGBM] [Info] Using GPU Device: Tesla T4, Vendor: NVIDIA Corporation\n",
      "[LightGBM] [Info] Compiling OpenCL Kernel with 256 bins...\n",
      "[LightGBM] [Info] GPU programs have been built\n",
      "[LightGBM] [Info] Size of histogram bin entry: 8\n"
     ]
    },
    {
     "name": "stderr",
     "output_type": "stream",
     "text": [
      "/usr/local/lib/python3.11/dist-packages/lightgbm/basic.py:2118: UserWarning: categorical_feature keyword has been found in `params` and will be ignored.\n",
      "Please use categorical_feature argument of the Dataset constructor to pass this parameter.\n",
      "  _log_warning(\n",
      "/usr/local/lib/python3.11/dist-packages/lightgbm/basic.py:2140: UserWarning: categorical_feature in param dict is overridden.\n",
      "  _log_warning(f\"{cat_alias} in param dict is overridden.\")\n"
     ]
    },
    {
     "name": "stdout",
     "output_type": "stream",
     "text": [
      "[LightGBM] [Info] 13 dense feature groups (0.36 MB) transferred to GPU in 0.083005 secs. 1 sparse feature groups\n",
      "[LightGBM] [Info] [binary:BoostFromScore]: pavg=0.335171 -> initscore=-0.684891\n",
      "[LightGBM] [Info] Start training from score -0.684891\n",
      "[CV] END learning_rate=0.001, n_estimators=400, num_leaves=30; total time=   2.5s\n",
      "[LightGBM] [Warning] categorical_feature is set=lang, categorical_column=5 will be ignored. Current value: categorical_feature=lang\n",
      "[LightGBM] [Info] Number of positive: 7905, number of negative: 15680\n",
      "[LightGBM] [Info] This is the GPU trainer!!\n",
      "[LightGBM] [Info] Total Bins 2523\n",
      "[LightGBM] [Info] Number of data points in the train set: 23585, number of used features: 15\n",
      "[LightGBM] [Info] Using GPU Device: Tesla T4, Vendor: NVIDIA Corporation\n",
      "[LightGBM] [Info] Compiling OpenCL Kernel with 256 bins...\n",
      "[LightGBM] [Info] GPU programs have been built\n",
      "[LightGBM] [Info] Size of histogram bin entry: 8\n",
      "[LightGBM] [Info] 13 dense feature groups (0.36 MB) transferred to GPU in 0.001145 secs. 1 sparse feature groups\n",
      "[LightGBM] [Info] [binary:BoostFromScore]: pavg=0.335171 -> initscore=-0.684891\n",
      "[LightGBM] [Info] Start training from score -0.684891\n"
     ]
    },
    {
     "name": "stderr",
     "output_type": "stream",
     "text": [
      "/usr/local/lib/python3.11/dist-packages/lightgbm/basic.py:2118: UserWarning: categorical_feature keyword has been found in `params` and will be ignored.\n",
      "Please use categorical_feature argument of the Dataset constructor to pass this parameter.\n",
      "  _log_warning(\n",
      "/usr/local/lib/python3.11/dist-packages/lightgbm/basic.py:2140: UserWarning: categorical_feature in param dict is overridden.\n",
      "  _log_warning(f\"{cat_alias} in param dict is overridden.\")\n"
     ]
    },
    {
     "name": "stdout",
     "output_type": "stream",
     "text": [
      "[CV] END learning_rate=0.001, n_estimators=400, num_leaves=30; total time=   1.7s\n",
      "[LightGBM] [Warning] categorical_feature is set=lang, categorical_column=5 will be ignored. Current value: categorical_feature=lang\n",
      "[LightGBM] [Info] Number of positive: 7905, number of negative: 15680\n",
      "[LightGBM] [Info] This is the GPU trainer!!\n",
      "[LightGBM] [Info] Total Bins 2517\n",
      "[LightGBM] [Info] Number of data points in the train set: 23585, number of used features: 15\n",
      "[LightGBM] [Info] Using GPU Device: Tesla T4, Vendor: NVIDIA Corporation\n",
      "[LightGBM] [Info] Compiling OpenCL Kernel with 256 bins...\n",
      "[LightGBM] [Info] GPU programs have been built\n",
      "[LightGBM] [Info] Size of histogram bin entry: 8\n",
      "[LightGBM] [Info] 13 dense feature groups (0.36 MB) transferred to GPU in 0.001244 secs. 1 sparse feature groups\n",
      "[LightGBM] [Info] [binary:BoostFromScore]: pavg=0.335171 -> initscore=-0.684891\n",
      "[LightGBM] [Info] Start training from score -0.684891\n"
     ]
    },
    {
     "name": "stderr",
     "output_type": "stream",
     "text": [
      "/usr/local/lib/python3.11/dist-packages/lightgbm/basic.py:2118: UserWarning: categorical_feature keyword has been found in `params` and will be ignored.\n",
      "Please use categorical_feature argument of the Dataset constructor to pass this parameter.\n",
      "  _log_warning(\n",
      "/usr/local/lib/python3.11/dist-packages/lightgbm/basic.py:2140: UserWarning: categorical_feature in param dict is overridden.\n",
      "  _log_warning(f\"{cat_alias} in param dict is overridden.\")\n"
     ]
    },
    {
     "name": "stdout",
     "output_type": "stream",
     "text": [
      "[CV] END learning_rate=0.001, n_estimators=400, num_leaves=30; total time=   1.8s\n",
      "[LightGBM] [Warning] categorical_feature is set=lang, categorical_column=5 will be ignored. Current value: categorical_feature=lang\n",
      "[LightGBM] [Info] Number of positive: 7905, number of negative: 15681\n",
      "[LightGBM] [Info] This is the GPU trainer!!\n",
      "[LightGBM] [Info] Total Bins 2514\n",
      "[LightGBM] [Info] Number of data points in the train set: 23586, number of used features: 15\n",
      "[LightGBM] [Info] Using GPU Device: Tesla T4, Vendor: NVIDIA Corporation\n",
      "[LightGBM] [Info] Compiling OpenCL Kernel with 256 bins...\n",
      "[LightGBM] [Info] GPU programs have been built\n",
      "[LightGBM] [Info] Size of histogram bin entry: 8\n",
      "[LightGBM] [Info] 13 dense feature groups (0.36 MB) transferred to GPU in 0.001362 secs. 1 sparse feature groups\n",
      "[LightGBM] [Info] [binary:BoostFromScore]: pavg=0.335156 -> initscore=-0.684954\n",
      "[LightGBM] [Info] Start training from score -0.684954\n"
     ]
    },
    {
     "name": "stderr",
     "output_type": "stream",
     "text": [
      "/usr/local/lib/python3.11/dist-packages/lightgbm/basic.py:2118: UserWarning: categorical_feature keyword has been found in `params` and will be ignored.\n",
      "Please use categorical_feature argument of the Dataset constructor to pass this parameter.\n",
      "  _log_warning(\n",
      "/usr/local/lib/python3.11/dist-packages/lightgbm/basic.py:2140: UserWarning: categorical_feature in param dict is overridden.\n",
      "  _log_warning(f\"{cat_alias} in param dict is overridden.\")\n"
     ]
    },
    {
     "name": "stdout",
     "output_type": "stream",
     "text": [
      "[CV] END learning_rate=0.001, n_estimators=400, num_leaves=30; total time=   3.8s\n",
      "[LightGBM] [Warning] categorical_feature is set=lang, categorical_column=5 will be ignored. Current value: categorical_feature=lang\n",
      "[LightGBM] [Info] Number of positive: 7905, number of negative: 15681\n",
      "[LightGBM] [Info] This is the GPU trainer!!\n",
      "[LightGBM] [Info] Total Bins 2518\n",
      "[LightGBM] [Info] Number of data points in the train set: 23586, number of used features: 15\n",
      "[LightGBM] [Info] Using GPU Device: Tesla T4, Vendor: NVIDIA Corporation\n",
      "[LightGBM] [Info] Compiling OpenCL Kernel with 256 bins...\n",
      "[LightGBM] [Info] GPU programs have been built\n",
      "[LightGBM] [Info] Size of histogram bin entry: 8\n",
      "[LightGBM] [Info] 13 dense feature groups (0.36 MB) transferred to GPU in 0.001286 secs. 1 sparse feature groups\n",
      "[LightGBM] [Info] [binary:BoostFromScore]: pavg=0.335156 -> initscore=-0.684954\n",
      "[LightGBM] [Info] Start training from score -0.684954\n"
     ]
    },
    {
     "name": "stderr",
     "output_type": "stream",
     "text": [
      "/usr/local/lib/python3.11/dist-packages/lightgbm/basic.py:2118: UserWarning: categorical_feature keyword has been found in `params` and will be ignored.\n",
      "Please use categorical_feature argument of the Dataset constructor to pass this parameter.\n",
      "  _log_warning(\n",
      "/usr/local/lib/python3.11/dist-packages/lightgbm/basic.py:2140: UserWarning: categorical_feature in param dict is overridden.\n",
      "  _log_warning(f\"{cat_alias} in param dict is overridden.\")\n"
     ]
    },
    {
     "name": "stdout",
     "output_type": "stream",
     "text": [
      "[CV] END learning_rate=0.001, n_estimators=400, num_leaves=30; total time=   1.9s\n",
      "[LightGBM] [Warning] categorical_feature is set=lang, categorical_column=5 will be ignored. Current value: categorical_feature=lang\n",
      "[LightGBM] [Info] Number of positive: 7905, number of negative: 15681\n",
      "[LightGBM] [Info] This is the GPU trainer!!\n",
      "[LightGBM] [Info] Total Bins 2518\n",
      "[LightGBM] [Info] Number of data points in the train set: 23586, number of used features: 15\n",
      "[LightGBM] [Info] Using GPU Device: Tesla T4, Vendor: NVIDIA Corporation\n",
      "[LightGBM] [Info] Compiling OpenCL Kernel with 256 bins...\n",
      "[LightGBM] [Info] GPU programs have been built\n",
      "[LightGBM] [Info] Size of histogram bin entry: 8\n",
      "[LightGBM] [Info] 13 dense feature groups (0.36 MB) transferred to GPU in 0.001213 secs. 1 sparse feature groups\n",
      "[LightGBM] [Info] [binary:BoostFromScore]: pavg=0.335156 -> initscore=-0.684954\n",
      "[LightGBM] [Info] Start training from score -0.684954\n"
     ]
    },
    {
     "name": "stderr",
     "output_type": "stream",
     "text": [
      "/usr/local/lib/python3.11/dist-packages/lightgbm/basic.py:2118: UserWarning: categorical_feature keyword has been found in `params` and will be ignored.\n",
      "Please use categorical_feature argument of the Dataset constructor to pass this parameter.\n",
      "  _log_warning(\n",
      "/usr/local/lib/python3.11/dist-packages/lightgbm/basic.py:2140: UserWarning: categorical_feature in param dict is overridden.\n",
      "  _log_warning(f\"{cat_alias} in param dict is overridden.\")\n"
     ]
    },
    {
     "name": "stdout",
     "output_type": "stream",
     "text": [
      "[CV] END learning_rate=0.001, n_estimators=400, num_leaves=30; total time=   1.8s\n",
      "[LightGBM] [Warning] categorical_feature is set=lang, categorical_column=5 will be ignored. Current value: categorical_feature=lang\n",
      "[LightGBM] [Info] Number of positive: 7905, number of negative: 15681\n",
      "[LightGBM] [Info] This is the GPU trainer!!\n",
      "[LightGBM] [Info] Total Bins 2514\n",
      "[LightGBM] [Info] Number of data points in the train set: 23586, number of used features: 15\n",
      "[LightGBM] [Info] Using GPU Device: Tesla T4, Vendor: NVIDIA Corporation\n",
      "[LightGBM] [Info] Compiling OpenCL Kernel with 256 bins...\n",
      "[LightGBM] [Info] GPU programs have been built\n",
      "[LightGBM] [Info] Size of histogram bin entry: 8\n",
      "[LightGBM] [Info] 13 dense feature groups (0.36 MB) transferred to GPU in 0.001200 secs. 1 sparse feature groups\n",
      "[LightGBM] [Info] [binary:BoostFromScore]: pavg=0.335156 -> initscore=-0.684954\n",
      "[LightGBM] [Info] Start training from score -0.684954\n"
     ]
    },
    {
     "name": "stderr",
     "output_type": "stream",
     "text": [
      "/usr/local/lib/python3.11/dist-packages/lightgbm/basic.py:2118: UserWarning: categorical_feature keyword has been found in `params` and will be ignored.\n",
      "Please use categorical_feature argument of the Dataset constructor to pass this parameter.\n",
      "  _log_warning(\n",
      "/usr/local/lib/python3.11/dist-packages/lightgbm/basic.py:2140: UserWarning: categorical_feature in param dict is overridden.\n",
      "  _log_warning(f\"{cat_alias} in param dict is overridden.\")\n"
     ]
    },
    {
     "name": "stdout",
     "output_type": "stream",
     "text": [
      "[CV] END learning_rate=0.001, n_estimators=400, num_leaves=30; total time=   1.7s\n",
      "[LightGBM] [Warning] categorical_feature is set=lang, categorical_column=5 will be ignored. Current value: categorical_feature=lang\n",
      "[LightGBM] [Info] Number of positive: 7904, number of negative: 15681\n",
      "[LightGBM] [Info] This is the GPU trainer!!\n",
      "[LightGBM] [Info] Total Bins 2510\n",
      "[LightGBM] [Info] Number of data points in the train set: 23585, number of used features: 15\n",
      "[LightGBM] [Info] Using GPU Device: Tesla T4, Vendor: NVIDIA Corporation\n",
      "[LightGBM] [Info] Compiling OpenCL Kernel with 256 bins...\n",
      "[LightGBM] [Info] GPU programs have been built\n",
      "[LightGBM] [Info] Size of histogram bin entry: 8\n",
      "[LightGBM] [Info] 13 dense feature groups (0.36 MB) transferred to GPU in 0.001191 secs. 1 sparse feature groups\n",
      "[LightGBM] [Info] [binary:BoostFromScore]: pavg=0.335128 -> initscore=-0.685081\n",
      "[LightGBM] [Info] Start training from score -0.685081\n"
     ]
    },
    {
     "name": "stderr",
     "output_type": "stream",
     "text": [
      "/usr/local/lib/python3.11/dist-packages/lightgbm/basic.py:2118: UserWarning: categorical_feature keyword has been found in `params` and will be ignored.\n",
      "Please use categorical_feature argument of the Dataset constructor to pass this parameter.\n",
      "  _log_warning(\n",
      "/usr/local/lib/python3.11/dist-packages/lightgbm/basic.py:2140: UserWarning: categorical_feature in param dict is overridden.\n",
      "  _log_warning(f\"{cat_alias} in param dict is overridden.\")\n"
     ]
    },
    {
     "name": "stdout",
     "output_type": "stream",
     "text": [
      "[CV] END learning_rate=0.001, n_estimators=400, num_leaves=45; total time=   2.3s\n",
      "[LightGBM] [Warning] categorical_feature is set=lang, categorical_column=5 will be ignored. Current value: categorical_feature=lang\n",
      "[LightGBM] [Info] Number of positive: 7904, number of negative: 15681\n",
      "[LightGBM] [Info] This is the GPU trainer!!\n",
      "[LightGBM] [Info] Total Bins 2519\n",
      "[LightGBM] [Info] Number of data points in the train set: 23585, number of used features: 15\n",
      "[LightGBM] [Info] Using GPU Device: Tesla T4, Vendor: NVIDIA Corporation\n",
      "[LightGBM] [Info] Compiling OpenCL Kernel with 256 bins...\n",
      "[LightGBM] [Info] GPU programs have been built\n",
      "[LightGBM] [Info] Size of histogram bin entry: 8\n",
      "[LightGBM] [Info] 13 dense feature groups (0.36 MB) transferred to GPU in 0.001252 secs. 1 sparse feature groups\n",
      "[LightGBM] [Info] [binary:BoostFromScore]: pavg=0.335128 -> initscore=-0.685081\n",
      "[LightGBM] [Info] Start training from score -0.685081\n"
     ]
    },
    {
     "name": "stderr",
     "output_type": "stream",
     "text": [
      "/usr/local/lib/python3.11/dist-packages/lightgbm/basic.py:2118: UserWarning: categorical_feature keyword has been found in `params` and will be ignored.\n",
      "Please use categorical_feature argument of the Dataset constructor to pass this parameter.\n",
      "  _log_warning(\n",
      "/usr/local/lib/python3.11/dist-packages/lightgbm/basic.py:2140: UserWarning: categorical_feature in param dict is overridden.\n",
      "  _log_warning(f\"{cat_alias} in param dict is overridden.\")\n"
     ]
    },
    {
     "name": "stdout",
     "output_type": "stream",
     "text": [
      "[CV] END learning_rate=0.001, n_estimators=400, num_leaves=45; total time=   2.4s\n",
      "[LightGBM] [Warning] categorical_feature is set=lang, categorical_column=5 will be ignored. Current value: categorical_feature=lang\n",
      "[LightGBM] [Info] Number of positive: 7904, number of negative: 15681\n",
      "[LightGBM] [Info] This is the GPU trainer!!\n",
      "[LightGBM] [Info] Total Bins 2517\n",
      "[LightGBM] [Info] Number of data points in the train set: 23585, number of used features: 15\n",
      "[LightGBM] [Info] Using GPU Device: Tesla T4, Vendor: NVIDIA Corporation\n",
      "[LightGBM] [Info] Compiling OpenCL Kernel with 256 bins...\n",
      "[LightGBM] [Info] GPU programs have been built\n",
      "[LightGBM] [Info] Size of histogram bin entry: 8\n",
      "[LightGBM] [Info] 13 dense feature groups (0.36 MB) transferred to GPU in 0.001224 secs. 1 sparse feature groups\n",
      "[LightGBM] [Info] [binary:BoostFromScore]: pavg=0.335128 -> initscore=-0.685081\n",
      "[LightGBM] [Info] Start training from score -0.685081\n"
     ]
    },
    {
     "name": "stderr",
     "output_type": "stream",
     "text": [
      "/usr/local/lib/python3.11/dist-packages/lightgbm/basic.py:2118: UserWarning: categorical_feature keyword has been found in `params` and will be ignored.\n",
      "Please use categorical_feature argument of the Dataset constructor to pass this parameter.\n",
      "  _log_warning(\n",
      "/usr/local/lib/python3.11/dist-packages/lightgbm/basic.py:2140: UserWarning: categorical_feature in param dict is overridden.\n",
      "  _log_warning(f\"{cat_alias} in param dict is overridden.\")\n"
     ]
    },
    {
     "name": "stdout",
     "output_type": "stream",
     "text": [
      "[CV] END learning_rate=0.001, n_estimators=400, num_leaves=45; total time=   5.4s\n",
      "[LightGBM] [Warning] categorical_feature is set=lang, categorical_column=5 will be ignored. Current value: categorical_feature=lang\n",
      "[LightGBM] [Info] Number of positive: 7905, number of negative: 15680\n",
      "[LightGBM] [Info] This is the GPU trainer!!\n",
      "[LightGBM] [Info] Total Bins 2512\n",
      "[LightGBM] [Info] Number of data points in the train set: 23585, number of used features: 15\n",
      "[LightGBM] [Info] Using GPU Device: Tesla T4, Vendor: NVIDIA Corporation\n",
      "[LightGBM] [Info] Compiling OpenCL Kernel with 256 bins...\n",
      "[LightGBM] [Info] GPU programs have been built\n",
      "[LightGBM] [Info] Size of histogram bin entry: 8\n",
      "[LightGBM] [Info] 13 dense feature groups (0.36 MB) transferred to GPU in 0.001171 secs. 1 sparse feature groups\n",
      "[LightGBM] [Info] [binary:BoostFromScore]: pavg=0.335171 -> initscore=-0.684891\n",
      "[LightGBM] [Info] Start training from score -0.684891\n"
     ]
    },
    {
     "name": "stderr",
     "output_type": "stream",
     "text": [
      "/usr/local/lib/python3.11/dist-packages/lightgbm/basic.py:2118: UserWarning: categorical_feature keyword has been found in `params` and will be ignored.\n",
      "Please use categorical_feature argument of the Dataset constructor to pass this parameter.\n",
      "  _log_warning(\n",
      "/usr/local/lib/python3.11/dist-packages/lightgbm/basic.py:2140: UserWarning: categorical_feature in param dict is overridden.\n",
      "  _log_warning(f\"{cat_alias} in param dict is overridden.\")\n"
     ]
    },
    {
     "name": "stdout",
     "output_type": "stream",
     "text": [
      "[CV] END learning_rate=0.001, n_estimators=400, num_leaves=45; total time=   2.4s\n",
      "[LightGBM] [Warning] categorical_feature is set=lang, categorical_column=5 will be ignored. Current value: categorical_feature=lang\n",
      "[LightGBM] [Info] Number of positive: 7905, number of negative: 15680\n",
      "[LightGBM] [Info] This is the GPU trainer!!\n",
      "[LightGBM] [Info] Total Bins 2523\n",
      "[LightGBM] [Info] Number of data points in the train set: 23585, number of used features: 15\n",
      "[LightGBM] [Info] Using GPU Device: Tesla T4, Vendor: NVIDIA Corporation\n",
      "[LightGBM] [Info] Compiling OpenCL Kernel with 256 bins...\n",
      "[LightGBM] [Info] GPU programs have been built\n",
      "[LightGBM] [Info] Size of histogram bin entry: 8\n",
      "[LightGBM] [Info] 13 dense feature groups (0.36 MB) transferred to GPU in 0.001222 secs. 1 sparse feature groups\n",
      "[LightGBM] [Info] [binary:BoostFromScore]: pavg=0.335171 -> initscore=-0.684891\n",
      "[LightGBM] [Info] Start training from score -0.684891\n"
     ]
    },
    {
     "name": "stderr",
     "output_type": "stream",
     "text": [
      "/usr/local/lib/python3.11/dist-packages/lightgbm/basic.py:2118: UserWarning: categorical_feature keyword has been found in `params` and will be ignored.\n",
      "Please use categorical_feature argument of the Dataset constructor to pass this parameter.\n",
      "  _log_warning(\n",
      "/usr/local/lib/python3.11/dist-packages/lightgbm/basic.py:2140: UserWarning: categorical_feature in param dict is overridden.\n",
      "  _log_warning(f\"{cat_alias} in param dict is overridden.\")\n"
     ]
    },
    {
     "name": "stdout",
     "output_type": "stream",
     "text": [
      "[CV] END learning_rate=0.001, n_estimators=400, num_leaves=45; total time=   2.4s\n",
      "[LightGBM] [Warning] categorical_feature is set=lang, categorical_column=5 will be ignored. Current value: categorical_feature=lang\n",
      "[LightGBM] [Info] Number of positive: 7905, number of negative: 15680\n",
      "[LightGBM] [Info] This is the GPU trainer!!\n",
      "[LightGBM] [Info] Total Bins 2517\n",
      "[LightGBM] [Info] Number of data points in the train set: 23585, number of used features: 15\n",
      "[LightGBM] [Info] Using GPU Device: Tesla T4, Vendor: NVIDIA Corporation\n",
      "[LightGBM] [Info] Compiling OpenCL Kernel with 256 bins...\n",
      "[LightGBM] [Info] GPU programs have been built\n",
      "[LightGBM] [Info] Size of histogram bin entry: 8\n",
      "[LightGBM] [Info] 13 dense feature groups (0.36 MB) transferred to GPU in 0.001244 secs. 1 sparse feature groups\n",
      "[LightGBM] [Info] [binary:BoostFromScore]: pavg=0.335171 -> initscore=-0.684891\n",
      "[LightGBM] [Info] Start training from score -0.684891\n"
     ]
    },
    {
     "name": "stderr",
     "output_type": "stream",
     "text": [
      "/usr/local/lib/python3.11/dist-packages/lightgbm/basic.py:2118: UserWarning: categorical_feature keyword has been found in `params` and will be ignored.\n",
      "Please use categorical_feature argument of the Dataset constructor to pass this parameter.\n",
      "  _log_warning(\n",
      "/usr/local/lib/python3.11/dist-packages/lightgbm/basic.py:2140: UserWarning: categorical_feature in param dict is overridden.\n",
      "  _log_warning(f\"{cat_alias} in param dict is overridden.\")\n"
     ]
    },
    {
     "name": "stdout",
     "output_type": "stream",
     "text": [
      "[CV] END learning_rate=0.001, n_estimators=400, num_leaves=45; total time=   2.4s\n",
      "[LightGBM] [Warning] categorical_feature is set=lang, categorical_column=5 will be ignored. Current value: categorical_feature=lang\n",
      "[LightGBM] [Info] Number of positive: 7905, number of negative: 15681\n",
      "[LightGBM] [Info] This is the GPU trainer!!\n",
      "[LightGBM] [Info] Total Bins 2514\n",
      "[LightGBM] [Info] Number of data points in the train set: 23586, number of used features: 15\n",
      "[LightGBM] [Info] Using GPU Device: Tesla T4, Vendor: NVIDIA Corporation\n",
      "[LightGBM] [Info] Compiling OpenCL Kernel with 256 bins...\n",
      "[LightGBM] [Info] GPU programs have been built\n",
      "[LightGBM] [Info] Size of histogram bin entry: 8\n",
      "[LightGBM] [Info] 13 dense feature groups (0.36 MB) transferred to GPU in 0.001275 secs. 1 sparse feature groups\n",
      "[LightGBM] [Info] [binary:BoostFromScore]: pavg=0.335156 -> initscore=-0.684954\n",
      "[LightGBM] [Info] Start training from score -0.684954\n"
     ]
    },
    {
     "name": "stderr",
     "output_type": "stream",
     "text": [
      "/usr/local/lib/python3.11/dist-packages/lightgbm/basic.py:2118: UserWarning: categorical_feature keyword has been found in `params` and will be ignored.\n",
      "Please use categorical_feature argument of the Dataset constructor to pass this parameter.\n",
      "  _log_warning(\n",
      "/usr/local/lib/python3.11/dist-packages/lightgbm/basic.py:2140: UserWarning: categorical_feature in param dict is overridden.\n",
      "  _log_warning(f\"{cat_alias} in param dict is overridden.\")\n"
     ]
    },
    {
     "name": "stdout",
     "output_type": "stream",
     "text": [
      "[CV] END learning_rate=0.001, n_estimators=400, num_leaves=45; total time=   3.5s\n",
      "[LightGBM] [Warning] categorical_feature is set=lang, categorical_column=5 will be ignored. Current value: categorical_feature=lang\n",
      "[LightGBM] [Info] Number of positive: 7905, number of negative: 15681\n",
      "[LightGBM] [Info] This is the GPU trainer!!\n",
      "[LightGBM] [Info] Total Bins 2518\n",
      "[LightGBM] [Info] Number of data points in the train set: 23586, number of used features: 15\n"
     ]
    },
    {
     "name": "stderr",
     "output_type": "stream",
     "text": [
      "/usr/local/lib/python3.11/dist-packages/lightgbm/basic.py:2118: UserWarning: categorical_feature keyword has been found in `params` and will be ignored.\n",
      "Please use categorical_feature argument of the Dataset constructor to pass this parameter.\n",
      "  _log_warning(\n",
      "/usr/local/lib/python3.11/dist-packages/lightgbm/basic.py:2140: UserWarning: categorical_feature in param dict is overridden.\n",
      "  _log_warning(f\"{cat_alias} in param dict is overridden.\")\n"
     ]
    },
    {
     "name": "stdout",
     "output_type": "stream",
     "text": [
      "[LightGBM] [Info] Using GPU Device: Tesla T4, Vendor: NVIDIA Corporation\n",
      "[LightGBM] [Info] Compiling OpenCL Kernel with 256 bins...\n",
      "[LightGBM] [Info] GPU programs have been built\n",
      "[LightGBM] [Info] Size of histogram bin entry: 8\n",
      "[LightGBM] [Info] 13 dense feature groups (0.36 MB) transferred to GPU in 0.061032 secs. 1 sparse feature groups\n",
      "[LightGBM] [Info] [binary:BoostFromScore]: pavg=0.335156 -> initscore=-0.684954\n",
      "[LightGBM] [Info] Start training from score -0.684954\n",
      "[CV] END learning_rate=0.001, n_estimators=400, num_leaves=45; total time=   3.5s\n",
      "[LightGBM] [Warning] categorical_feature is set=lang, categorical_column=5 will be ignored. Current value: categorical_feature=lang\n",
      "[LightGBM] [Info] Number of positive: 7905, number of negative: 15681\n",
      "[LightGBM] [Info] This is the GPU trainer!!\n",
      "[LightGBM] [Info] Total Bins 2518\n",
      "[LightGBM] [Info] Number of data points in the train set: 23586, number of used features: 15\n",
      "[LightGBM] [Info] Using GPU Device: Tesla T4, Vendor: NVIDIA Corporation\n",
      "[LightGBM] [Info] Compiling OpenCL Kernel with 256 bins...\n",
      "[LightGBM] [Info] GPU programs have been built\n",
      "[LightGBM] [Info] Size of histogram bin entry: 8\n",
      "[LightGBM] [Info] 13 dense feature groups (0.36 MB) transferred to GPU in 0.001238 secs. 1 sparse feature groups\n",
      "[LightGBM] [Info] [binary:BoostFromScore]: pavg=0.335156 -> initscore=-0.684954\n",
      "[LightGBM] [Info] Start training from score -0.684954\n"
     ]
    },
    {
     "name": "stderr",
     "output_type": "stream",
     "text": [
      "/usr/local/lib/python3.11/dist-packages/lightgbm/basic.py:2118: UserWarning: categorical_feature keyword has been found in `params` and will be ignored.\n",
      "Please use categorical_feature argument of the Dataset constructor to pass this parameter.\n",
      "  _log_warning(\n",
      "/usr/local/lib/python3.11/dist-packages/lightgbm/basic.py:2140: UserWarning: categorical_feature in param dict is overridden.\n",
      "  _log_warning(f\"{cat_alias} in param dict is overridden.\")\n"
     ]
    },
    {
     "name": "stdout",
     "output_type": "stream",
     "text": [
      "[CV] END learning_rate=0.001, n_estimators=400, num_leaves=45; total time=   2.4s\n",
      "[LightGBM] [Warning] categorical_feature is set=lang, categorical_column=5 will be ignored. Current value: categorical_feature=lang\n",
      "[LightGBM] [Info] Number of positive: 7905, number of negative: 15681\n",
      "[LightGBM] [Info] This is the GPU trainer!!\n",
      "[LightGBM] [Info] Total Bins 2514\n",
      "[LightGBM] [Info] Number of data points in the train set: 23586, number of used features: 15\n",
      "[LightGBM] [Info] Using GPU Device: Tesla T4, Vendor: NVIDIA Corporation\n",
      "[LightGBM] [Info] Compiling OpenCL Kernel with 256 bins...\n",
      "[LightGBM] [Info] GPU programs have been built\n",
      "[LightGBM] [Info] Size of histogram bin entry: 8\n",
      "[LightGBM] [Info] 13 dense feature groups (0.36 MB) transferred to GPU in 0.001234 secs. 1 sparse feature groups\n",
      "[LightGBM] [Info] [binary:BoostFromScore]: pavg=0.335156 -> initscore=-0.684954\n",
      "[LightGBM] [Info] Start training from score -0.684954\n"
     ]
    },
    {
     "name": "stderr",
     "output_type": "stream",
     "text": [
      "/usr/local/lib/python3.11/dist-packages/lightgbm/basic.py:2118: UserWarning: categorical_feature keyword has been found in `params` and will be ignored.\n",
      "Please use categorical_feature argument of the Dataset constructor to pass this parameter.\n",
      "  _log_warning(\n",
      "/usr/local/lib/python3.11/dist-packages/lightgbm/basic.py:2140: UserWarning: categorical_feature in param dict is overridden.\n",
      "  _log_warning(f\"{cat_alias} in param dict is overridden.\")\n"
     ]
    },
    {
     "name": "stdout",
     "output_type": "stream",
     "text": [
      "[CV] END learning_rate=0.001, n_estimators=400, num_leaves=45; total time=   2.3s\n",
      "[LightGBM] [Warning] categorical_feature is set=lang, categorical_column=5 will be ignored. Current value: categorical_feature=lang\n",
      "[LightGBM] [Info] Number of positive: 7904, number of negative: 15681\n",
      "[LightGBM] [Info] This is the GPU trainer!!\n",
      "[LightGBM] [Info] Total Bins 2510\n",
      "[LightGBM] [Info] Number of data points in the train set: 23585, number of used features: 15\n",
      "[LightGBM] [Info] Using GPU Device: Tesla T4, Vendor: NVIDIA Corporation\n",
      "[LightGBM] [Info] Compiling OpenCL Kernel with 256 bins...\n",
      "[LightGBM] [Info] GPU programs have been built\n",
      "[LightGBM] [Info] Size of histogram bin entry: 8\n",
      "[LightGBM] [Info] 13 dense feature groups (0.36 MB) transferred to GPU in 0.001314 secs. 1 sparse feature groups\n",
      "[LightGBM] [Info] [binary:BoostFromScore]: pavg=0.335128 -> initscore=-0.685081\n",
      "[LightGBM] [Info] Start training from score -0.685081\n"
     ]
    },
    {
     "name": "stderr",
     "output_type": "stream",
     "text": [
      "/usr/local/lib/python3.11/dist-packages/lightgbm/basic.py:2118: UserWarning: categorical_feature keyword has been found in `params` and will be ignored.\n",
      "Please use categorical_feature argument of the Dataset constructor to pass this parameter.\n",
      "  _log_warning(\n",
      "/usr/local/lib/python3.11/dist-packages/lightgbm/basic.py:2140: UserWarning: categorical_feature in param dict is overridden.\n",
      "  _log_warning(f\"{cat_alias} in param dict is overridden.\")\n"
     ]
    },
    {
     "name": "stdout",
     "output_type": "stream",
     "text": [
      "[CV] END learning_rate=0.001, n_estimators=500, num_leaves=15; total time=   1.3s\n",
      "[LightGBM] [Warning] categorical_feature is set=lang, categorical_column=5 will be ignored. Current value: categorical_feature=lang\n",
      "[LightGBM] [Info] Number of positive: 7904, number of negative: 15681\n",
      "[LightGBM] [Info] This is the GPU trainer!!\n",
      "[LightGBM] [Info] Total Bins 2519\n",
      "[LightGBM] [Info] Number of data points in the train set: 23585, number of used features: 15\n",
      "[LightGBM] [Info] Using GPU Device: Tesla T4, Vendor: NVIDIA Corporation\n",
      "[LightGBM] [Info] Compiling OpenCL Kernel with 256 bins...\n",
      "[LightGBM] [Info] GPU programs have been built\n",
      "[LightGBM] [Info] Size of histogram bin entry: 8\n",
      "[LightGBM] [Info] 13 dense feature groups (0.36 MB) transferred to GPU in 0.001170 secs. 1 sparse feature groups\n",
      "[LightGBM] [Info] [binary:BoostFromScore]: pavg=0.335128 -> initscore=-0.685081\n",
      "[LightGBM] [Info] Start training from score -0.685081\n"
     ]
    },
    {
     "name": "stderr",
     "output_type": "stream",
     "text": [
      "/usr/local/lib/python3.11/dist-packages/lightgbm/basic.py:2118: UserWarning: categorical_feature keyword has been found in `params` and will be ignored.\n",
      "Please use categorical_feature argument of the Dataset constructor to pass this parameter.\n",
      "  _log_warning(\n",
      "/usr/local/lib/python3.11/dist-packages/lightgbm/basic.py:2140: UserWarning: categorical_feature in param dict is overridden.\n",
      "  _log_warning(f\"{cat_alias} in param dict is overridden.\")\n"
     ]
    },
    {
     "name": "stdout",
     "output_type": "stream",
     "text": [
      "[CV] END learning_rate=0.001, n_estimators=500, num_leaves=15; total time=   1.3s\n",
      "[LightGBM] [Warning] categorical_feature is set=lang, categorical_column=5 will be ignored. Current value: categorical_feature=lang\n",
      "[LightGBM] [Info] Number of positive: 7904, number of negative: 15681\n",
      "[LightGBM] [Info] This is the GPU trainer!!\n",
      "[LightGBM] [Info] Total Bins 2517\n",
      "[LightGBM] [Info] Number of data points in the train set: 23585, number of used features: 15\n",
      "[LightGBM] [Info] Using GPU Device: Tesla T4, Vendor: NVIDIA Corporation\n",
      "[LightGBM] [Info] Compiling OpenCL Kernel with 256 bins...\n",
      "[LightGBM] [Info] GPU programs have been built\n",
      "[LightGBM] [Info] Size of histogram bin entry: 8\n",
      "[LightGBM] [Info] 13 dense feature groups (0.36 MB) transferred to GPU in 0.001146 secs. 1 sparse feature groups\n",
      "[LightGBM] [Info] [binary:BoostFromScore]: pavg=0.335128 -> initscore=-0.685081\n",
      "[LightGBM] [Info] Start training from score -0.685081\n"
     ]
    },
    {
     "name": "stderr",
     "output_type": "stream",
     "text": [
      "/usr/local/lib/python3.11/dist-packages/lightgbm/basic.py:2118: UserWarning: categorical_feature keyword has been found in `params` and will be ignored.\n",
      "Please use categorical_feature argument of the Dataset constructor to pass this parameter.\n",
      "  _log_warning(\n",
      "/usr/local/lib/python3.11/dist-packages/lightgbm/basic.py:2140: UserWarning: categorical_feature in param dict is overridden.\n",
      "  _log_warning(f\"{cat_alias} in param dict is overridden.\")\n"
     ]
    },
    {
     "name": "stdout",
     "output_type": "stream",
     "text": [
      "[CV] END learning_rate=0.001, n_estimators=500, num_leaves=15; total time=   1.3s\n",
      "[LightGBM] [Warning] categorical_feature is set=lang, categorical_column=5 will be ignored. Current value: categorical_feature=lang\n",
      "[LightGBM] [Info] Number of positive: 7905, number of negative: 15680\n",
      "[LightGBM] [Info] This is the GPU trainer!!\n",
      "[LightGBM] [Info] Total Bins 2512\n",
      "[LightGBM] [Info] Number of data points in the train set: 23585, number of used features: 15\n",
      "[LightGBM] [Info] Using GPU Device: Tesla T4, Vendor: NVIDIA Corporation\n",
      "[LightGBM] [Info] Compiling OpenCL Kernel with 256 bins...\n",
      "[LightGBM] [Info] GPU programs have been built\n",
      "[LightGBM] [Info] Size of histogram bin entry: 8\n",
      "[LightGBM] [Info] 13 dense feature groups (0.36 MB) transferred to GPU in 0.001201 secs. 1 sparse feature groups\n",
      "[LightGBM] [Info] [binary:BoostFromScore]: pavg=0.335171 -> initscore=-0.684891\n",
      "[LightGBM] [Info] Start training from score -0.684891\n"
     ]
    },
    {
     "name": "stderr",
     "output_type": "stream",
     "text": [
      "/usr/local/lib/python3.11/dist-packages/lightgbm/basic.py:2118: UserWarning: categorical_feature keyword has been found in `params` and will be ignored.\n",
      "Please use categorical_feature argument of the Dataset constructor to pass this parameter.\n",
      "  _log_warning(\n",
      "/usr/local/lib/python3.11/dist-packages/lightgbm/basic.py:2140: UserWarning: categorical_feature in param dict is overridden.\n",
      "  _log_warning(f\"{cat_alias} in param dict is overridden.\")\n"
     ]
    },
    {
     "name": "stdout",
     "output_type": "stream",
     "text": [
      "[CV] END learning_rate=0.001, n_estimators=500, num_leaves=15; total time=   3.2s\n",
      "[LightGBM] [Warning] categorical_feature is set=lang, categorical_column=5 will be ignored. Current value: categorical_feature=lang\n",
      "[LightGBM] [Info] Number of positive: 7905, number of negative: 15680\n",
      "[LightGBM] [Info] This is the GPU trainer!!\n",
      "[LightGBM] [Info] Total Bins 2523\n",
      "[LightGBM] [Info] Number of data points in the train set: 23585, number of used features: 15\n",
      "[LightGBM] [Info] Using GPU Device: Tesla T4, Vendor: NVIDIA Corporation\n",
      "[LightGBM] [Info] Compiling OpenCL Kernel with 256 bins...\n",
      "[LightGBM] [Info] GPU programs have been built\n",
      "[LightGBM] [Info] Size of histogram bin entry: 8\n",
      "[LightGBM] [Info] 13 dense feature groups (0.36 MB) transferred to GPU in 0.001222 secs. 1 sparse feature groups\n",
      "[LightGBM] [Info] [binary:BoostFromScore]: pavg=0.335171 -> initscore=-0.684891\n",
      "[LightGBM] [Info] Start training from score -0.684891\n"
     ]
    },
    {
     "name": "stderr",
     "output_type": "stream",
     "text": [
      "/usr/local/lib/python3.11/dist-packages/lightgbm/basic.py:2118: UserWarning: categorical_feature keyword has been found in `params` and will be ignored.\n",
      "Please use categorical_feature argument of the Dataset constructor to pass this parameter.\n",
      "  _log_warning(\n",
      "/usr/local/lib/python3.11/dist-packages/lightgbm/basic.py:2140: UserWarning: categorical_feature in param dict is overridden.\n",
      "  _log_warning(f\"{cat_alias} in param dict is overridden.\")\n"
     ]
    },
    {
     "name": "stdout",
     "output_type": "stream",
     "text": [
      "[CV] END learning_rate=0.001, n_estimators=500, num_leaves=15; total time=   1.6s\n",
      "[LightGBM] [Warning] categorical_feature is set=lang, categorical_column=5 will be ignored. Current value: categorical_feature=lang\n",
      "[LightGBM] [Info] Number of positive: 7905, number of negative: 15680\n",
      "[LightGBM] [Info] This is the GPU trainer!!\n",
      "[LightGBM] [Info] Total Bins 2517\n",
      "[LightGBM] [Info] Number of data points in the train set: 23585, number of used features: 15\n",
      "[LightGBM] [Info] Using GPU Device: Tesla T4, Vendor: NVIDIA Corporation\n",
      "[LightGBM] [Info] Compiling OpenCL Kernel with 256 bins...\n",
      "[LightGBM] [Info] GPU programs have been built\n",
      "[LightGBM] [Info] Size of histogram bin entry: 8\n",
      "[LightGBM] [Info] 13 dense feature groups (0.36 MB) transferred to GPU in 0.001133 secs. 1 sparse feature groups\n",
      "[LightGBM] [Info] [binary:BoostFromScore]: pavg=0.335171 -> initscore=-0.684891\n",
      "[LightGBM] [Info] Start training from score -0.684891\n"
     ]
    },
    {
     "name": "stderr",
     "output_type": "stream",
     "text": [
      "/usr/local/lib/python3.11/dist-packages/lightgbm/basic.py:2118: UserWarning: categorical_feature keyword has been found in `params` and will be ignored.\n",
      "Please use categorical_feature argument of the Dataset constructor to pass this parameter.\n",
      "  _log_warning(\n",
      "/usr/local/lib/python3.11/dist-packages/lightgbm/basic.py:2140: UserWarning: categorical_feature in param dict is overridden.\n",
      "  _log_warning(f\"{cat_alias} in param dict is overridden.\")\n"
     ]
    },
    {
     "name": "stdout",
     "output_type": "stream",
     "text": [
      "[CV] END learning_rate=0.001, n_estimators=500, num_leaves=15; total time=   1.3s\n",
      "[LightGBM] [Warning] categorical_feature is set=lang, categorical_column=5 will be ignored. Current value: categorical_feature=lang\n",
      "[LightGBM] [Info] Number of positive: 7905, number of negative: 15681\n",
      "[LightGBM] [Info] This is the GPU trainer!!\n",
      "[LightGBM] [Info] Total Bins 2514\n",
      "[LightGBM] [Info] Number of data points in the train set: 23586, number of used features: 15\n",
      "[LightGBM] [Info] Using GPU Device: Tesla T4, Vendor: NVIDIA Corporation\n",
      "[LightGBM] [Info] Compiling OpenCL Kernel with 256 bins...\n",
      "[LightGBM] [Info] GPU programs have been built\n",
      "[LightGBM] [Info] Size of histogram bin entry: 8\n",
      "[LightGBM] [Info] 13 dense feature groups (0.36 MB) transferred to GPU in 0.001166 secs. 1 sparse feature groups\n",
      "[LightGBM] [Info] [binary:BoostFromScore]: pavg=0.335156 -> initscore=-0.684954\n",
      "[LightGBM] [Info] Start training from score -0.684954\n"
     ]
    },
    {
     "name": "stderr",
     "output_type": "stream",
     "text": [
      "/usr/local/lib/python3.11/dist-packages/lightgbm/basic.py:2118: UserWarning: categorical_feature keyword has been found in `params` and will be ignored.\n",
      "Please use categorical_feature argument of the Dataset constructor to pass this parameter.\n",
      "  _log_warning(\n",
      "/usr/local/lib/python3.11/dist-packages/lightgbm/basic.py:2140: UserWarning: categorical_feature in param dict is overridden.\n",
      "  _log_warning(f\"{cat_alias} in param dict is overridden.\")\n"
     ]
    },
    {
     "name": "stdout",
     "output_type": "stream",
     "text": [
      "[CV] END learning_rate=0.001, n_estimators=500, num_leaves=15; total time=   1.3s\n",
      "[LightGBM] [Warning] categorical_feature is set=lang, categorical_column=5 will be ignored. Current value: categorical_feature=lang\n",
      "[LightGBM] [Info] Number of positive: 7905, number of negative: 15681\n",
      "[LightGBM] [Info] This is the GPU trainer!!\n",
      "[LightGBM] [Info] Total Bins 2518\n",
      "[LightGBM] [Info] Number of data points in the train set: 23586, number of used features: 15\n",
      "[LightGBM] [Info] Using GPU Device: Tesla T4, Vendor: NVIDIA Corporation\n",
      "[LightGBM] [Info] Compiling OpenCL Kernel with 256 bins...\n",
      "[LightGBM] [Info] GPU programs have been built\n",
      "[LightGBM] [Info] Size of histogram bin entry: 8\n",
      "[LightGBM] [Info] 13 dense feature groups (0.36 MB) transferred to GPU in 0.001153 secs. 1 sparse feature groups\n",
      "[LightGBM] [Info] [binary:BoostFromScore]: pavg=0.335156 -> initscore=-0.684954\n",
      "[LightGBM] [Info] Start training from score -0.684954\n"
     ]
    },
    {
     "name": "stderr",
     "output_type": "stream",
     "text": [
      "/usr/local/lib/python3.11/dist-packages/lightgbm/basic.py:2118: UserWarning: categorical_feature keyword has been found in `params` and will be ignored.\n",
      "Please use categorical_feature argument of the Dataset constructor to pass this parameter.\n",
      "  _log_warning(\n",
      "/usr/local/lib/python3.11/dist-packages/lightgbm/basic.py:2140: UserWarning: categorical_feature in param dict is overridden.\n",
      "  _log_warning(f\"{cat_alias} in param dict is overridden.\")\n"
     ]
    },
    {
     "name": "stdout",
     "output_type": "stream",
     "text": [
      "[CV] END learning_rate=0.001, n_estimators=500, num_leaves=15; total time=   1.3s\n",
      "[LightGBM] [Warning] categorical_feature is set=lang, categorical_column=5 will be ignored. Current value: categorical_feature=lang\n",
      "[LightGBM] [Info] Number of positive: 7905, number of negative: 15681\n",
      "[LightGBM] [Info] This is the GPU trainer!!\n",
      "[LightGBM] [Info] Total Bins 2518\n",
      "[LightGBM] [Info] Number of data points in the train set: 23586, number of used features: 15\n",
      "[LightGBM] [Info] Using GPU Device: Tesla T4, Vendor: NVIDIA Corporation\n",
      "[LightGBM] [Info] Compiling OpenCL Kernel with 256 bins...\n",
      "[LightGBM] [Info] GPU programs have been built\n",
      "[LightGBM] [Info] Size of histogram bin entry: 8\n",
      "[LightGBM] [Info] 13 dense feature groups (0.36 MB) transferred to GPU in 0.001211 secs. 1 sparse feature groups\n",
      "[LightGBM] [Info] [binary:BoostFromScore]: pavg=0.335156 -> initscore=-0.684954\n",
      "[LightGBM] [Info] Start training from score -0.684954\n"
     ]
    },
    {
     "name": "stderr",
     "output_type": "stream",
     "text": [
      "/usr/local/lib/python3.11/dist-packages/lightgbm/basic.py:2118: UserWarning: categorical_feature keyword has been found in `params` and will be ignored.\n",
      "Please use categorical_feature argument of the Dataset constructor to pass this parameter.\n",
      "  _log_warning(\n",
      "/usr/local/lib/python3.11/dist-packages/lightgbm/basic.py:2140: UserWarning: categorical_feature in param dict is overridden.\n",
      "  _log_warning(f\"{cat_alias} in param dict is overridden.\")\n"
     ]
    },
    {
     "name": "stdout",
     "output_type": "stream",
     "text": [
      "[CV] END learning_rate=0.001, n_estimators=500, num_leaves=15; total time=   1.3s\n",
      "[LightGBM] [Warning] categorical_feature is set=lang, categorical_column=5 will be ignored. Current value: categorical_feature=lang\n",
      "[LightGBM] [Info] Number of positive: 7905, number of negative: 15681\n",
      "[LightGBM] [Info] This is the GPU trainer!!\n",
      "[LightGBM] [Info] Total Bins 2514\n",
      "[LightGBM] [Info] Number of data points in the train set: 23586, number of used features: 15\n",
      "[LightGBM] [Info] Using GPU Device: Tesla T4, Vendor: NVIDIA Corporation\n",
      "[LightGBM] [Info] Compiling OpenCL Kernel with 256 bins...\n",
      "[LightGBM] [Info] GPU programs have been built\n",
      "[LightGBM] [Info] Size of histogram bin entry: 8\n",
      "[LightGBM] [Info] 13 dense feature groups (0.36 MB) transferred to GPU in 0.001206 secs. 1 sparse feature groups\n",
      "[LightGBM] [Info] [binary:BoostFromScore]: pavg=0.335156 -> initscore=-0.684954\n",
      "[LightGBM] [Info] Start training from score -0.684954\n"
     ]
    },
    {
     "name": "stderr",
     "output_type": "stream",
     "text": [
      "/usr/local/lib/python3.11/dist-packages/lightgbm/basic.py:2118: UserWarning: categorical_feature keyword has been found in `params` and will be ignored.\n",
      "Please use categorical_feature argument of the Dataset constructor to pass this parameter.\n",
      "  _log_warning(\n",
      "/usr/local/lib/python3.11/dist-packages/lightgbm/basic.py:2140: UserWarning: categorical_feature in param dict is overridden.\n",
      "  _log_warning(f\"{cat_alias} in param dict is overridden.\")\n"
     ]
    },
    {
     "name": "stdout",
     "output_type": "stream",
     "text": [
      "[CV] END learning_rate=0.001, n_estimators=500, num_leaves=15; total time=   1.3s\n",
      "[LightGBM] [Warning] categorical_feature is set=lang, categorical_column=5 will be ignored. Current value: categorical_feature=lang\n",
      "[LightGBM] [Info] Number of positive: 7904, number of negative: 15681\n",
      "[LightGBM] [Info] This is the GPU trainer!!\n",
      "[LightGBM] [Info] Total Bins 2510\n",
      "[LightGBM] [Info] Number of data points in the train set: 23585, number of used features: 15\n",
      "[LightGBM] [Info] Using GPU Device: Tesla T4, Vendor: NVIDIA Corporation\n",
      "[LightGBM] [Info] Compiling OpenCL Kernel with 256 bins...\n",
      "[LightGBM] [Info] GPU programs have been built\n",
      "[LightGBM] [Info] Size of histogram bin entry: 8\n",
      "[LightGBM] [Info] 13 dense feature groups (0.36 MB) transferred to GPU in 0.001206 secs. 1 sparse feature groups\n",
      "[LightGBM] [Info] [binary:BoostFromScore]: pavg=0.335128 -> initscore=-0.685081\n",
      "[LightGBM] [Info] Start training from score -0.685081\n"
     ]
    },
    {
     "name": "stderr",
     "output_type": "stream",
     "text": [
      "/usr/local/lib/python3.11/dist-packages/lightgbm/basic.py:2118: UserWarning: categorical_feature keyword has been found in `params` and will be ignored.\n",
      "Please use categorical_feature argument of the Dataset constructor to pass this parameter.\n",
      "  _log_warning(\n",
      "/usr/local/lib/python3.11/dist-packages/lightgbm/basic.py:2140: UserWarning: categorical_feature in param dict is overridden.\n",
      "  _log_warning(f\"{cat_alias} in param dict is overridden.\")\n"
     ]
    },
    {
     "name": "stdout",
     "output_type": "stream",
     "text": [
      "[CV] END learning_rate=0.001, n_estimators=500, num_leaves=30; total time=   2.1s\n",
      "[LightGBM] [Warning] categorical_feature is set=lang, categorical_column=5 will be ignored. Current value: categorical_feature=lang\n",
      "[LightGBM] [Info] Number of positive: 7904, number of negative: 15681\n",
      "[LightGBM] [Info] This is the GPU trainer!!\n",
      "[LightGBM] [Info] Total Bins 2519\n",
      "[LightGBM] [Info] Number of data points in the train set: 23585, number of used features: 15\n",
      "[LightGBM] [Info] Using GPU Device: Tesla T4, Vendor: NVIDIA Corporation\n",
      "[LightGBM] [Info] Compiling OpenCL Kernel with 256 bins...\n",
      "[LightGBM] [Info] GPU programs have been built\n",
      "[LightGBM] [Info] Size of histogram bin entry: 8\n",
      "[LightGBM] [Info] 13 dense feature groups (0.36 MB) transferred to GPU in 0.001231 secs. 1 sparse feature groups\n",
      "[LightGBM] [Info] [binary:BoostFromScore]: pavg=0.335128 -> initscore=-0.685081\n",
      "[LightGBM] [Info] Start training from score -0.685081\n"
     ]
    },
    {
     "name": "stderr",
     "output_type": "stream",
     "text": [
      "/usr/local/lib/python3.11/dist-packages/lightgbm/basic.py:2118: UserWarning: categorical_feature keyword has been found in `params` and will be ignored.\n",
      "Please use categorical_feature argument of the Dataset constructor to pass this parameter.\n",
      "  _log_warning(\n",
      "/usr/local/lib/python3.11/dist-packages/lightgbm/basic.py:2140: UserWarning: categorical_feature in param dict is overridden.\n",
      "  _log_warning(f\"{cat_alias} in param dict is overridden.\")\n"
     ]
    },
    {
     "name": "stdout",
     "output_type": "stream",
     "text": [
      "[CV] END learning_rate=0.001, n_estimators=500, num_leaves=30; total time=   4.5s\n",
      "[LightGBM] [Warning] categorical_feature is set=lang, categorical_column=5 will be ignored. Current value: categorical_feature=lang\n",
      "[LightGBM] [Info] Number of positive: 7904, number of negative: 15681\n",
      "[LightGBM] [Info] This is the GPU trainer!!\n",
      "[LightGBM] [Info] Total Bins 2517\n",
      "[LightGBM] [Info] Number of data points in the train set: 23585, number of used features: 15\n",
      "[LightGBM] [Info] Using GPU Device: Tesla T4, Vendor: NVIDIA Corporation\n",
      "[LightGBM] [Info] Compiling OpenCL Kernel with 256 bins...\n",
      "[LightGBM] [Info] GPU programs have been built\n",
      "[LightGBM] [Info] Size of histogram bin entry: 8\n",
      "[LightGBM] [Info] 13 dense feature groups (0.36 MB) transferred to GPU in 0.001167 secs. 1 sparse feature groups\n",
      "[LightGBM] [Info] [binary:BoostFromScore]: pavg=0.335128 -> initscore=-0.685081\n",
      "[LightGBM] [Info] Start training from score -0.685081\n"
     ]
    },
    {
     "name": "stderr",
     "output_type": "stream",
     "text": [
      "/usr/local/lib/python3.11/dist-packages/lightgbm/basic.py:2118: UserWarning: categorical_feature keyword has been found in `params` and will be ignored.\n",
      "Please use categorical_feature argument of the Dataset constructor to pass this parameter.\n",
      "  _log_warning(\n",
      "/usr/local/lib/python3.11/dist-packages/lightgbm/basic.py:2140: UserWarning: categorical_feature in param dict is overridden.\n",
      "  _log_warning(f\"{cat_alias} in param dict is overridden.\")\n"
     ]
    },
    {
     "name": "stdout",
     "output_type": "stream",
     "text": [
      "[CV] END learning_rate=0.001, n_estimators=500, num_leaves=30; total time=   2.1s\n",
      "[LightGBM] [Warning] categorical_feature is set=lang, categorical_column=5 will be ignored. Current value: categorical_feature=lang\n",
      "[LightGBM] [Info] Number of positive: 7905, number of negative: 15680\n",
      "[LightGBM] [Info] This is the GPU trainer!!\n",
      "[LightGBM] [Info] Total Bins 2512\n",
      "[LightGBM] [Info] Number of data points in the train set: 23585, number of used features: 15\n",
      "[LightGBM] [Info] Using GPU Device: Tesla T4, Vendor: NVIDIA Corporation\n",
      "[LightGBM] [Info] Compiling OpenCL Kernel with 256 bins...\n",
      "[LightGBM] [Info] GPU programs have been built\n",
      "[LightGBM] [Info] Size of histogram bin entry: 8\n",
      "[LightGBM] [Info] 13 dense feature groups (0.36 MB) transferred to GPU in 0.001172 secs. 1 sparse feature groups\n",
      "[LightGBM] [Info] [binary:BoostFromScore]: pavg=0.335171 -> initscore=-0.684891\n",
      "[LightGBM] [Info] Start training from score -0.684891\n"
     ]
    },
    {
     "name": "stderr",
     "output_type": "stream",
     "text": [
      "/usr/local/lib/python3.11/dist-packages/lightgbm/basic.py:2118: UserWarning: categorical_feature keyword has been found in `params` and will be ignored.\n",
      "Please use categorical_feature argument of the Dataset constructor to pass this parameter.\n",
      "  _log_warning(\n",
      "/usr/local/lib/python3.11/dist-packages/lightgbm/basic.py:2140: UserWarning: categorical_feature in param dict is overridden.\n",
      "  _log_warning(f\"{cat_alias} in param dict is overridden.\")\n"
     ]
    },
    {
     "name": "stdout",
     "output_type": "stream",
     "text": [
      "[CV] END learning_rate=0.001, n_estimators=500, num_leaves=30; total time=   2.1s\n",
      "[LightGBM] [Warning] categorical_feature is set=lang, categorical_column=5 will be ignored. Current value: categorical_feature=lang\n",
      "[LightGBM] [Info] Number of positive: 7905, number of negative: 15680\n",
      "[LightGBM] [Info] This is the GPU trainer!!\n",
      "[LightGBM] [Info] Total Bins 2523\n",
      "[LightGBM] [Info] Number of data points in the train set: 23585, number of used features: 15\n",
      "[LightGBM] [Info] Using GPU Device: Tesla T4, Vendor: NVIDIA Corporation\n",
      "[LightGBM] [Info] Compiling OpenCL Kernel with 256 bins...\n",
      "[LightGBM] [Info] GPU programs have been built\n",
      "[LightGBM] [Info] Size of histogram bin entry: 8\n",
      "[LightGBM] [Info] 13 dense feature groups (0.36 MB) transferred to GPU in 0.001214 secs. 1 sparse feature groups\n",
      "[LightGBM] [Info] [binary:BoostFromScore]: pavg=0.335171 -> initscore=-0.684891\n",
      "[LightGBM] [Info] Start training from score -0.684891\n"
     ]
    },
    {
     "name": "stderr",
     "output_type": "stream",
     "text": [
      "/usr/local/lib/python3.11/dist-packages/lightgbm/basic.py:2118: UserWarning: categorical_feature keyword has been found in `params` and will be ignored.\n",
      "Please use categorical_feature argument of the Dataset constructor to pass this parameter.\n",
      "  _log_warning(\n",
      "/usr/local/lib/python3.11/dist-packages/lightgbm/basic.py:2140: UserWarning: categorical_feature in param dict is overridden.\n",
      "  _log_warning(f\"{cat_alias} in param dict is overridden.\")\n"
     ]
    },
    {
     "name": "stdout",
     "output_type": "stream",
     "text": [
      "[CV] END learning_rate=0.001, n_estimators=500, num_leaves=30; total time=   2.1s\n",
      "[LightGBM] [Warning] categorical_feature is set=lang, categorical_column=5 will be ignored. Current value: categorical_feature=lang\n",
      "[LightGBM] [Info] Number of positive: 7905, number of negative: 15680\n",
      "[LightGBM] [Info] This is the GPU trainer!!\n",
      "[LightGBM] [Info] Total Bins 2517\n",
      "[LightGBM] [Info] Number of data points in the train set: 23585, number of used features: 15\n",
      "[LightGBM] [Info] Using GPU Device: Tesla T4, Vendor: NVIDIA Corporation\n",
      "[LightGBM] [Info] Compiling OpenCL Kernel with 256 bins...\n",
      "[LightGBM] [Info] GPU programs have been built\n",
      "[LightGBM] [Info] Size of histogram bin entry: 8\n",
      "[LightGBM] [Info] 13 dense feature groups (0.36 MB) transferred to GPU in 0.001168 secs. 1 sparse feature groups\n",
      "[LightGBM] [Info] [binary:BoostFromScore]: pavg=0.335171 -> initscore=-0.684891\n",
      "[LightGBM] [Info] Start training from score -0.684891\n"
     ]
    },
    {
     "name": "stderr",
     "output_type": "stream",
     "text": [
      "/usr/local/lib/python3.11/dist-packages/lightgbm/basic.py:2118: UserWarning: categorical_feature keyword has been found in `params` and will be ignored.\n",
      "Please use categorical_feature argument of the Dataset constructor to pass this parameter.\n",
      "  _log_warning(\n",
      "/usr/local/lib/python3.11/dist-packages/lightgbm/basic.py:2140: UserWarning: categorical_feature in param dict is overridden.\n",
      "  _log_warning(f\"{cat_alias} in param dict is overridden.\")\n"
     ]
    },
    {
     "name": "stdout",
     "output_type": "stream",
     "text": [
      "[CV] END learning_rate=0.001, n_estimators=500, num_leaves=30; total time=   2.1s\n",
      "[LightGBM] [Warning] categorical_feature is set=lang, categorical_column=5 will be ignored. Current value: categorical_feature=lang\n",
      "[LightGBM] [Info] Number of positive: 7905, number of negative: 15681\n",
      "[LightGBM] [Info] This is the GPU trainer!!\n",
      "[LightGBM] [Info] Total Bins 2514\n",
      "[LightGBM] [Info] Number of data points in the train set: 23586, number of used features: 15\n",
      "[LightGBM] [Info] Using GPU Device: Tesla T4, Vendor: NVIDIA Corporation\n",
      "[LightGBM] [Info] Compiling OpenCL Kernel with 256 bins...\n",
      "[LightGBM] [Info] GPU programs have been built\n",
      "[LightGBM] [Info] Size of histogram bin entry: 8\n",
      "[LightGBM] [Info] 13 dense feature groups (0.36 MB) transferred to GPU in 0.001238 secs. 1 sparse feature groups\n",
      "[LightGBM] [Info] [binary:BoostFromScore]: pavg=0.335156 -> initscore=-0.684954\n",
      "[LightGBM] [Info] Start training from score -0.684954\n"
     ]
    },
    {
     "name": "stderr",
     "output_type": "stream",
     "text": [
      "/usr/local/lib/python3.11/dist-packages/lightgbm/basic.py:2118: UserWarning: categorical_feature keyword has been found in `params` and will be ignored.\n",
      "Please use categorical_feature argument of the Dataset constructor to pass this parameter.\n",
      "  _log_warning(\n",
      "/usr/local/lib/python3.11/dist-packages/lightgbm/basic.py:2140: UserWarning: categorical_feature in param dict is overridden.\n",
      "  _log_warning(f\"{cat_alias} in param dict is overridden.\")\n"
     ]
    },
    {
     "name": "stdout",
     "output_type": "stream",
     "text": [
      "[CV] END learning_rate=0.001, n_estimators=500, num_leaves=30; total time=   3.9s\n",
      "[LightGBM] [Warning] categorical_feature is set=lang, categorical_column=5 will be ignored. Current value: categorical_feature=lang\n",
      "[LightGBM] [Info] Number of positive: 7905, number of negative: 15681\n",
      "[LightGBM] [Info] This is the GPU trainer!!\n",
      "[LightGBM] [Info] Total Bins 2518\n",
      "[LightGBM] [Info] Number of data points in the train set: 23586, number of used features: 15\n",
      "[LightGBM] [Info] Using GPU Device: Tesla T4, Vendor: NVIDIA Corporation\n",
      "[LightGBM] [Info] Compiling OpenCL Kernel with 256 bins...\n",
      "[LightGBM] [Info] GPU programs have been built\n",
      "[LightGBM] [Info] Size of histogram bin entry: 8\n",
      "[LightGBM] [Info] 13 dense feature groups (0.36 MB) transferred to GPU in 0.006055 secs. 1 sparse feature groups\n",
      "[LightGBM] [Info] [binary:BoostFromScore]: pavg=0.335156 -> initscore=-0.684954\n",
      "[LightGBM] [Info] Start training from score -0.684954\n"
     ]
    },
    {
     "name": "stderr",
     "output_type": "stream",
     "text": [
      "/usr/local/lib/python3.11/dist-packages/lightgbm/basic.py:2118: UserWarning: categorical_feature keyword has been found in `params` and will be ignored.\n",
      "Please use categorical_feature argument of the Dataset constructor to pass this parameter.\n",
      "  _log_warning(\n",
      "/usr/local/lib/python3.11/dist-packages/lightgbm/basic.py:2140: UserWarning: categorical_feature in param dict is overridden.\n",
      "  _log_warning(f\"{cat_alias} in param dict is overridden.\")\n"
     ]
    },
    {
     "name": "stdout",
     "output_type": "stream",
     "text": [
      "[CV] END learning_rate=0.001, n_estimators=500, num_leaves=30; total time=   2.6s\n",
      "[LightGBM] [Warning] categorical_feature is set=lang, categorical_column=5 will be ignored. Current value: categorical_feature=lang\n",
      "[LightGBM] [Info] Number of positive: 7905, number of negative: 15681\n",
      "[LightGBM] [Info] This is the GPU trainer!!\n",
      "[LightGBM] [Info] Total Bins 2518\n",
      "[LightGBM] [Info] Number of data points in the train set: 23586, number of used features: 15\n",
      "[LightGBM] [Info] Using GPU Device: Tesla T4, Vendor: NVIDIA Corporation\n",
      "[LightGBM] [Info] Compiling OpenCL Kernel with 256 bins...\n",
      "[LightGBM] [Info] GPU programs have been built\n",
      "[LightGBM] [Info] Size of histogram bin entry: 8\n",
      "[LightGBM] [Info] 13 dense feature groups (0.36 MB) transferred to GPU in 0.001173 secs. 1 sparse feature groups\n",
      "[LightGBM] [Info] [binary:BoostFromScore]: pavg=0.335156 -> initscore=-0.684954\n",
      "[LightGBM] [Info] Start training from score -0.684954\n"
     ]
    },
    {
     "name": "stderr",
     "output_type": "stream",
     "text": [
      "/usr/local/lib/python3.11/dist-packages/lightgbm/basic.py:2118: UserWarning: categorical_feature keyword has been found in `params` and will be ignored.\n",
      "Please use categorical_feature argument of the Dataset constructor to pass this parameter.\n",
      "  _log_warning(\n",
      "/usr/local/lib/python3.11/dist-packages/lightgbm/basic.py:2140: UserWarning: categorical_feature in param dict is overridden.\n",
      "  _log_warning(f\"{cat_alias} in param dict is overridden.\")\n"
     ]
    },
    {
     "name": "stdout",
     "output_type": "stream",
     "text": [
      "[CV] END learning_rate=0.001, n_estimators=500, num_leaves=30; total time=   2.1s\n",
      "[LightGBM] [Warning] categorical_feature is set=lang, categorical_column=5 will be ignored. Current value: categorical_feature=lang\n",
      "[LightGBM] [Info] Number of positive: 7905, number of negative: 15681\n",
      "[LightGBM] [Info] This is the GPU trainer!!\n",
      "[LightGBM] [Info] Total Bins 2514\n",
      "[LightGBM] [Info] Number of data points in the train set: 23586, number of used features: 15\n",
      "[LightGBM] [Info] Using GPU Device: Tesla T4, Vendor: NVIDIA Corporation\n",
      "[LightGBM] [Info] Compiling OpenCL Kernel with 256 bins...\n",
      "[LightGBM] [Info] GPU programs have been built\n",
      "[LightGBM] [Info] Size of histogram bin entry: 8\n",
      "[LightGBM] [Info] 13 dense feature groups (0.36 MB) transferred to GPU in 0.001262 secs. 1 sparse feature groups\n",
      "[LightGBM] [Info] [binary:BoostFromScore]: pavg=0.335156 -> initscore=-0.684954\n",
      "[LightGBM] [Info] Start training from score -0.684954\n"
     ]
    },
    {
     "name": "stderr",
     "output_type": "stream",
     "text": [
      "/usr/local/lib/python3.11/dist-packages/lightgbm/basic.py:2118: UserWarning: categorical_feature keyword has been found in `params` and will be ignored.\n",
      "Please use categorical_feature argument of the Dataset constructor to pass this parameter.\n",
      "  _log_warning(\n",
      "/usr/local/lib/python3.11/dist-packages/lightgbm/basic.py:2140: UserWarning: categorical_feature in param dict is overridden.\n",
      "  _log_warning(f\"{cat_alias} in param dict is overridden.\")\n"
     ]
    },
    {
     "name": "stdout",
     "output_type": "stream",
     "text": [
      "[CV] END learning_rate=0.001, n_estimators=500, num_leaves=30; total time=   2.1s\n",
      "[LightGBM] [Warning] categorical_feature is set=lang, categorical_column=5 will be ignored. Current value: categorical_feature=lang\n",
      "[LightGBM] [Info] Number of positive: 7904, number of negative: 15681\n",
      "[LightGBM] [Info] This is the GPU trainer!!\n",
      "[LightGBM] [Info] Total Bins 2510\n",
      "[LightGBM] [Info] Number of data points in the train set: 23585, number of used features: 15\n",
      "[LightGBM] [Info] Using GPU Device: Tesla T4, Vendor: NVIDIA Corporation\n",
      "[LightGBM] [Info] Compiling OpenCL Kernel with 256 bins...\n",
      "[LightGBM] [Info] GPU programs have been built\n",
      "[LightGBM] [Info] Size of histogram bin entry: 8\n",
      "[LightGBM] [Info] 13 dense feature groups (0.36 MB) transferred to GPU in 0.001152 secs. 1 sparse feature groups\n",
      "[LightGBM] [Info] [binary:BoostFromScore]: pavg=0.335128 -> initscore=-0.685081\n",
      "[LightGBM] [Info] Start training from score -0.685081\n"
     ]
    },
    {
     "name": "stderr",
     "output_type": "stream",
     "text": [
      "/usr/local/lib/python3.11/dist-packages/lightgbm/basic.py:2118: UserWarning: categorical_feature keyword has been found in `params` and will be ignored.\n",
      "Please use categorical_feature argument of the Dataset constructor to pass this parameter.\n",
      "  _log_warning(\n",
      "/usr/local/lib/python3.11/dist-packages/lightgbm/basic.py:2140: UserWarning: categorical_feature in param dict is overridden.\n",
      "  _log_warning(f\"{cat_alias} in param dict is overridden.\")\n"
     ]
    },
    {
     "name": "stdout",
     "output_type": "stream",
     "text": [
      "[CV] END learning_rate=0.001, n_estimators=500, num_leaves=45; total time=   2.9s\n",
      "[LightGBM] [Warning] categorical_feature is set=lang, categorical_column=5 will be ignored. Current value: categorical_feature=lang\n",
      "[LightGBM] [Info] Number of positive: 7904, number of negative: 15681\n",
      "[LightGBM] [Info] This is the GPU trainer!!\n",
      "[LightGBM] [Info] Total Bins 2519\n",
      "[LightGBM] [Info] Number of data points in the train set: 23585, number of used features: 15\n",
      "[LightGBM] [Info] Using GPU Device: Tesla T4, Vendor: NVIDIA Corporation\n",
      "[LightGBM] [Info] Compiling OpenCL Kernel with 256 bins...\n",
      "[LightGBM] [Info] GPU programs have been built\n",
      "[LightGBM] [Info] Size of histogram bin entry: 8\n",
      "[LightGBM] [Info] 13 dense feature groups (0.36 MB) transferred to GPU in 0.001181 secs. 1 sparse feature groups\n",
      "[LightGBM] [Info] [binary:BoostFromScore]: pavg=0.335128 -> initscore=-0.685081\n",
      "[LightGBM] [Info] Start training from score -0.685081\n"
     ]
    },
    {
     "name": "stderr",
     "output_type": "stream",
     "text": [
      "/usr/local/lib/python3.11/dist-packages/lightgbm/basic.py:2118: UserWarning: categorical_feature keyword has been found in `params` and will be ignored.\n",
      "Please use categorical_feature argument of the Dataset constructor to pass this parameter.\n",
      "  _log_warning(\n",
      "/usr/local/lib/python3.11/dist-packages/lightgbm/basic.py:2140: UserWarning: categorical_feature in param dict is overridden.\n",
      "  _log_warning(f\"{cat_alias} in param dict is overridden.\")\n"
     ]
    },
    {
     "name": "stdout",
     "output_type": "stream",
     "text": [
      "[CV] END learning_rate=0.001, n_estimators=500, num_leaves=45; total time=   5.2s\n",
      "[LightGBM] [Warning] categorical_feature is set=lang, categorical_column=5 will be ignored. Current value: categorical_feature=lang\n",
      "[LightGBM] [Info] Number of positive: 7904, number of negative: 15681\n",
      "[LightGBM] [Info] This is the GPU trainer!!\n",
      "[LightGBM] [Info] Total Bins 2517\n",
      "[LightGBM] [Info] Number of data points in the train set: 23585, number of used features: 15\n",
      "[LightGBM] [Info] Using GPU Device: Tesla T4, Vendor: NVIDIA Corporation\n",
      "[LightGBM] [Info] Compiling OpenCL Kernel with 256 bins...\n",
      "[LightGBM] [Info] GPU programs have been built\n",
      "[LightGBM] [Info] Size of histogram bin entry: 8\n",
      "[LightGBM] [Info] 13 dense feature groups (0.36 MB) transferred to GPU in 0.001204 secs. 1 sparse feature groups\n",
      "[LightGBM] [Info] [binary:BoostFromScore]: pavg=0.335128 -> initscore=-0.685081\n",
      "[LightGBM] [Info] Start training from score -0.685081\n"
     ]
    },
    {
     "name": "stderr",
     "output_type": "stream",
     "text": [
      "/usr/local/lib/python3.11/dist-packages/lightgbm/basic.py:2118: UserWarning: categorical_feature keyword has been found in `params` and will be ignored.\n",
      "Please use categorical_feature argument of the Dataset constructor to pass this parameter.\n",
      "  _log_warning(\n",
      "/usr/local/lib/python3.11/dist-packages/lightgbm/basic.py:2140: UserWarning: categorical_feature in param dict is overridden.\n",
      "  _log_warning(f\"{cat_alias} in param dict is overridden.\")\n"
     ]
    },
    {
     "name": "stdout",
     "output_type": "stream",
     "text": [
      "[CV] END learning_rate=0.001, n_estimators=500, num_leaves=45; total time=   2.9s\n",
      "[LightGBM] [Warning] categorical_feature is set=lang, categorical_column=5 will be ignored. Current value: categorical_feature=lang\n",
      "[LightGBM] [Info] Number of positive: 7905, number of negative: 15680\n",
      "[LightGBM] [Info] This is the GPU trainer!!\n",
      "[LightGBM] [Info] Total Bins 2512\n",
      "[LightGBM] [Info] Number of data points in the train set: 23585, number of used features: 15\n",
      "[LightGBM] [Info] Using GPU Device: Tesla T4, Vendor: NVIDIA Corporation\n",
      "[LightGBM] [Info] Compiling OpenCL Kernel with 256 bins...\n",
      "[LightGBM] [Info] GPU programs have been built\n",
      "[LightGBM] [Info] Size of histogram bin entry: 8\n",
      "[LightGBM] [Info] 13 dense feature groups (0.36 MB) transferred to GPU in 0.001248 secs. 1 sparse feature groups\n",
      "[LightGBM] [Info] [binary:BoostFromScore]: pavg=0.335171 -> initscore=-0.684891\n",
      "[LightGBM] [Info] Start training from score -0.684891\n"
     ]
    },
    {
     "name": "stderr",
     "output_type": "stream",
     "text": [
      "/usr/local/lib/python3.11/dist-packages/lightgbm/basic.py:2118: UserWarning: categorical_feature keyword has been found in `params` and will be ignored.\n",
      "Please use categorical_feature argument of the Dataset constructor to pass this parameter.\n",
      "  _log_warning(\n",
      "/usr/local/lib/python3.11/dist-packages/lightgbm/basic.py:2140: UserWarning: categorical_feature in param dict is overridden.\n",
      "  _log_warning(f\"{cat_alias} in param dict is overridden.\")\n"
     ]
    },
    {
     "name": "stdout",
     "output_type": "stream",
     "text": [
      "[CV] END learning_rate=0.001, n_estimators=500, num_leaves=45; total time=   2.9s\n",
      "[LightGBM] [Warning] categorical_feature is set=lang, categorical_column=5 will be ignored. Current value: categorical_feature=lang\n",
      "[LightGBM] [Info] Number of positive: 7905, number of negative: 15680\n",
      "[LightGBM] [Info] This is the GPU trainer!!\n",
      "[LightGBM] [Info] Total Bins 2523\n",
      "[LightGBM] [Info] Number of data points in the train set: 23585, number of used features: 15\n",
      "[LightGBM] [Info] Using GPU Device: Tesla T4, Vendor: NVIDIA Corporation\n",
      "[LightGBM] [Info] Compiling OpenCL Kernel with 256 bins...\n",
      "[LightGBM] [Info] GPU programs have been built\n",
      "[LightGBM] [Info] Size of histogram bin entry: 8\n",
      "[LightGBM] [Info] 13 dense feature groups (0.36 MB) transferred to GPU in 0.001160 secs. 1 sparse feature groups\n",
      "[LightGBM] [Info] [binary:BoostFromScore]: pavg=0.335171 -> initscore=-0.684891\n",
      "[LightGBM] [Info] Start training from score -0.684891\n"
     ]
    },
    {
     "name": "stderr",
     "output_type": "stream",
     "text": [
      "/usr/local/lib/python3.11/dist-packages/lightgbm/basic.py:2118: UserWarning: categorical_feature keyword has been found in `params` and will be ignored.\n",
      "Please use categorical_feature argument of the Dataset constructor to pass this parameter.\n",
      "  _log_warning(\n",
      "/usr/local/lib/python3.11/dist-packages/lightgbm/basic.py:2140: UserWarning: categorical_feature in param dict is overridden.\n",
      "  _log_warning(f\"{cat_alias} in param dict is overridden.\")\n"
     ]
    },
    {
     "name": "stdout",
     "output_type": "stream",
     "text": [
      "[CV] END learning_rate=0.001, n_estimators=500, num_leaves=45; total time=   2.9s\n",
      "[LightGBM] [Warning] categorical_feature is set=lang, categorical_column=5 will be ignored. Current value: categorical_feature=lang\n",
      "[LightGBM] [Info] Number of positive: 7905, number of negative: 15680\n",
      "[LightGBM] [Info] This is the GPU trainer!!\n",
      "[LightGBM] [Info] Total Bins 2517\n",
      "[LightGBM] [Info] Number of data points in the train set: 23585, number of used features: 15\n",
      "[LightGBM] [Info] Using GPU Device: Tesla T4, Vendor: NVIDIA Corporation\n",
      "[LightGBM] [Info] Compiling OpenCL Kernel with 256 bins...\n",
      "[LightGBM] [Info] GPU programs have been built\n",
      "[LightGBM] [Info] Size of histogram bin entry: 8\n",
      "[LightGBM] [Info] 13 dense feature groups (0.36 MB) transferred to GPU in 0.001167 secs. 1 sparse feature groups\n",
      "[LightGBM] [Info] [binary:BoostFromScore]: pavg=0.335171 -> initscore=-0.684891\n",
      "[LightGBM] [Info] Start training from score -0.684891\n"
     ]
    },
    {
     "name": "stderr",
     "output_type": "stream",
     "text": [
      "/usr/local/lib/python3.11/dist-packages/lightgbm/basic.py:2118: UserWarning: categorical_feature keyword has been found in `params` and will be ignored.\n",
      "Please use categorical_feature argument of the Dataset constructor to pass this parameter.\n",
      "  _log_warning(\n",
      "/usr/local/lib/python3.11/dist-packages/lightgbm/basic.py:2140: UserWarning: categorical_feature in param dict is overridden.\n",
      "  _log_warning(f\"{cat_alias} in param dict is overridden.\")\n"
     ]
    },
    {
     "name": "stdout",
     "output_type": "stream",
     "text": [
      "[CV] END learning_rate=0.001, n_estimators=500, num_leaves=45; total time=   5.2s\n",
      "[LightGBM] [Warning] categorical_feature is set=lang, categorical_column=5 will be ignored. Current value: categorical_feature=lang\n",
      "[LightGBM] [Info] Number of positive: 7905, number of negative: 15681\n",
      "[LightGBM] [Info] This is the GPU trainer!!\n",
      "[LightGBM] [Info] Total Bins 2514\n",
      "[LightGBM] [Info] Number of data points in the train set: 23586, number of used features: 15\n",
      "[LightGBM] [Info] Using GPU Device: Tesla T4, Vendor: NVIDIA Corporation\n",
      "[LightGBM] [Info] Compiling OpenCL Kernel with 256 bins...\n",
      "[LightGBM] [Info] GPU programs have been built\n",
      "[LightGBM] [Info] Size of histogram bin entry: 8\n",
      "[LightGBM] [Info] 13 dense feature groups (0.36 MB) transferred to GPU in 0.001216 secs. 1 sparse feature groups\n",
      "[LightGBM] [Info] [binary:BoostFromScore]: pavg=0.335156 -> initscore=-0.684954\n",
      "[LightGBM] [Info] Start training from score -0.684954\n"
     ]
    },
    {
     "name": "stderr",
     "output_type": "stream",
     "text": [
      "/usr/local/lib/python3.11/dist-packages/lightgbm/basic.py:2118: UserWarning: categorical_feature keyword has been found in `params` and will be ignored.\n",
      "Please use categorical_feature argument of the Dataset constructor to pass this parameter.\n",
      "  _log_warning(\n",
      "/usr/local/lib/python3.11/dist-packages/lightgbm/basic.py:2140: UserWarning: categorical_feature in param dict is overridden.\n",
      "  _log_warning(f\"{cat_alias} in param dict is overridden.\")\n"
     ]
    },
    {
     "name": "stdout",
     "output_type": "stream",
     "text": [
      "[CV] END learning_rate=0.001, n_estimators=500, num_leaves=45; total time=   2.9s\n",
      "[LightGBM] [Warning] categorical_feature is set=lang, categorical_column=5 will be ignored. Current value: categorical_feature=lang\n",
      "[LightGBM] [Info] Number of positive: 7905, number of negative: 15681\n",
      "[LightGBM] [Info] This is the GPU trainer!!\n",
      "[LightGBM] [Info] Total Bins 2518\n",
      "[LightGBM] [Info] Number of data points in the train set: 23586, number of used features: 15\n",
      "[LightGBM] [Info] Using GPU Device: Tesla T4, Vendor: NVIDIA Corporation\n",
      "[LightGBM] [Info] Compiling OpenCL Kernel with 256 bins...\n",
      "[LightGBM] [Info] GPU programs have been built\n",
      "[LightGBM] [Info] Size of histogram bin entry: 8\n",
      "[LightGBM] [Info] 13 dense feature groups (0.36 MB) transferred to GPU in 0.001254 secs. 1 sparse feature groups\n",
      "[LightGBM] [Info] [binary:BoostFromScore]: pavg=0.335156 -> initscore=-0.684954\n",
      "[LightGBM] [Info] Start training from score -0.684954\n"
     ]
    },
    {
     "name": "stderr",
     "output_type": "stream",
     "text": [
      "/usr/local/lib/python3.11/dist-packages/lightgbm/basic.py:2118: UserWarning: categorical_feature keyword has been found in `params` and will be ignored.\n",
      "Please use categorical_feature argument of the Dataset constructor to pass this parameter.\n",
      "  _log_warning(\n",
      "/usr/local/lib/python3.11/dist-packages/lightgbm/basic.py:2140: UserWarning: categorical_feature in param dict is overridden.\n",
      "  _log_warning(f\"{cat_alias} in param dict is overridden.\")\n"
     ]
    },
    {
     "name": "stdout",
     "output_type": "stream",
     "text": [
      "[CV] END learning_rate=0.001, n_estimators=500, num_leaves=45; total time=   2.9s\n",
      "[LightGBM] [Warning] categorical_feature is set=lang, categorical_column=5 will be ignored. Current value: categorical_feature=lang\n",
      "[LightGBM] [Info] Number of positive: 7905, number of negative: 15681\n",
      "[LightGBM] [Info] This is the GPU trainer!!\n",
      "[LightGBM] [Info] Total Bins 2518\n",
      "[LightGBM] [Info] Number of data points in the train set: 23586, number of used features: 15\n",
      "[LightGBM] [Info] Using GPU Device: Tesla T4, Vendor: NVIDIA Corporation\n",
      "[LightGBM] [Info] Compiling OpenCL Kernel with 256 bins...\n",
      "[LightGBM] [Info] GPU programs have been built\n",
      "[LightGBM] [Info] Size of histogram bin entry: 8\n",
      "[LightGBM] [Info] 13 dense feature groups (0.36 MB) transferred to GPU in 0.001450 secs. 1 sparse feature groups\n",
      "[LightGBM] [Info] [binary:BoostFromScore]: pavg=0.335156 -> initscore=-0.684954\n",
      "[LightGBM] [Info] Start training from score -0.684954\n"
     ]
    },
    {
     "name": "stderr",
     "output_type": "stream",
     "text": [
      "/usr/local/lib/python3.11/dist-packages/lightgbm/basic.py:2118: UserWarning: categorical_feature keyword has been found in `params` and will be ignored.\n",
      "Please use categorical_feature argument of the Dataset constructor to pass this parameter.\n",
      "  _log_warning(\n",
      "/usr/local/lib/python3.11/dist-packages/lightgbm/basic.py:2140: UserWarning: categorical_feature in param dict is overridden.\n",
      "  _log_warning(f\"{cat_alias} in param dict is overridden.\")\n"
     ]
    },
    {
     "name": "stdout",
     "output_type": "stream",
     "text": [
      "[CV] END learning_rate=0.001, n_estimators=500, num_leaves=45; total time=   2.9s\n",
      "[LightGBM] [Warning] categorical_feature is set=lang, categorical_column=5 will be ignored. Current value: categorical_feature=lang\n",
      "[LightGBM] [Info] Number of positive: 7905, number of negative: 15681\n",
      "[LightGBM] [Info] This is the GPU trainer!!\n",
      "[LightGBM] [Info] Total Bins 2514\n",
      "[LightGBM] [Info] Number of data points in the train set: 23586, number of used features: 15\n",
      "[LightGBM] [Info] Using GPU Device: Tesla T4, Vendor: NVIDIA Corporation\n",
      "[LightGBM] [Info] Compiling OpenCL Kernel with 256 bins...\n",
      "[LightGBM] [Info] GPU programs have been built\n",
      "[LightGBM] [Info] Size of histogram bin entry: 8\n",
      "[LightGBM] [Info] 13 dense feature groups (0.36 MB) transferred to GPU in 0.001268 secs. 1 sparse feature groups\n",
      "[LightGBM] [Info] [binary:BoostFromScore]: pavg=0.335156 -> initscore=-0.684954\n",
      "[LightGBM] [Info] Start training from score -0.684954\n"
     ]
    },
    {
     "name": "stderr",
     "output_type": "stream",
     "text": [
      "/usr/local/lib/python3.11/dist-packages/lightgbm/basic.py:2118: UserWarning: categorical_feature keyword has been found in `params` and will be ignored.\n",
      "Please use categorical_feature argument of the Dataset constructor to pass this parameter.\n",
      "  _log_warning(\n",
      "/usr/local/lib/python3.11/dist-packages/lightgbm/basic.py:2140: UserWarning: categorical_feature in param dict is overridden.\n",
      "  _log_warning(f\"{cat_alias} in param dict is overridden.\")\n"
     ]
    },
    {
     "name": "stdout",
     "output_type": "stream",
     "text": [
      "[CV] END learning_rate=0.001, n_estimators=500, num_leaves=45; total time=   5.2s\n",
      "[LightGBM] [Warning] categorical_feature is set=lang, categorical_column=5 will be ignored. Current value: categorical_feature=lang\n",
      "[LightGBM] [Info] Number of positive: 7904, number of negative: 15681\n",
      "[LightGBM] [Info] This is the GPU trainer!!\n",
      "[LightGBM] [Info] Total Bins 2510\n",
      "[LightGBM] [Info] Number of data points in the train set: 23585, number of used features: 15\n",
      "[LightGBM] [Info] Using GPU Device: Tesla T4, Vendor: NVIDIA Corporation\n",
      "[LightGBM] [Info] Compiling OpenCL Kernel with 256 bins...\n",
      "[LightGBM] [Info] GPU programs have been built\n",
      "[LightGBM] [Info] Size of histogram bin entry: 8\n",
      "[LightGBM] [Info] 13 dense feature groups (0.36 MB) transferred to GPU in 0.001207 secs. 1 sparse feature groups\n",
      "[LightGBM] [Info] [binary:BoostFromScore]: pavg=0.335128 -> initscore=-0.685081\n",
      "[LightGBM] [Info] Start training from score -0.685081\n"
     ]
    },
    {
     "name": "stderr",
     "output_type": "stream",
     "text": [
      "/usr/local/lib/python3.11/dist-packages/lightgbm/basic.py:2118: UserWarning: categorical_feature keyword has been found in `params` and will be ignored.\n",
      "Please use categorical_feature argument of the Dataset constructor to pass this parameter.\n",
      "  _log_warning(\n",
      "/usr/local/lib/python3.11/dist-packages/lightgbm/basic.py:2140: UserWarning: categorical_feature in param dict is overridden.\n",
      "  _log_warning(f\"{cat_alias} in param dict is overridden.\")\n"
     ]
    },
    {
     "name": "stdout",
     "output_type": "stream",
     "text": [
      "[CV] END learning_rate=0.001, n_estimators=600, num_leaves=15; total time=   1.6s\n",
      "[LightGBM] [Warning] categorical_feature is set=lang, categorical_column=5 will be ignored. Current value: categorical_feature=lang\n",
      "[LightGBM] [Info] Number of positive: 7904, number of negative: 15681\n",
      "[LightGBM] [Info] This is the GPU trainer!!\n",
      "[LightGBM] [Info] Total Bins 2519\n",
      "[LightGBM] [Info] Number of data points in the train set: 23585, number of used features: 15\n",
      "[LightGBM] [Info] Using GPU Device: Tesla T4, Vendor: NVIDIA Corporation\n",
      "[LightGBM] [Info] Compiling OpenCL Kernel with 256 bins...\n",
      "[LightGBM] [Info] GPU programs have been built\n",
      "[LightGBM] [Info] Size of histogram bin entry: 8\n",
      "[LightGBM] [Info] 13 dense feature groups (0.36 MB) transferred to GPU in 0.001280 secs. 1 sparse feature groups\n",
      "[LightGBM] [Info] [binary:BoostFromScore]: pavg=0.335128 -> initscore=-0.685081\n",
      "[LightGBM] [Info] Start training from score -0.685081\n"
     ]
    },
    {
     "name": "stderr",
     "output_type": "stream",
     "text": [
      "/usr/local/lib/python3.11/dist-packages/lightgbm/basic.py:2118: UserWarning: categorical_feature keyword has been found in `params` and will be ignored.\n",
      "Please use categorical_feature argument of the Dataset constructor to pass this parameter.\n",
      "  _log_warning(\n",
      "/usr/local/lib/python3.11/dist-packages/lightgbm/basic.py:2140: UserWarning: categorical_feature in param dict is overridden.\n",
      "  _log_warning(f\"{cat_alias} in param dict is overridden.\")\n"
     ]
    },
    {
     "name": "stdout",
     "output_type": "stream",
     "text": [
      "[CV] END learning_rate=0.001, n_estimators=600, num_leaves=15; total time=   1.5s\n",
      "[LightGBM] [Warning] categorical_feature is set=lang, categorical_column=5 will be ignored. Current value: categorical_feature=lang\n",
      "[LightGBM] [Info] Number of positive: 7904, number of negative: 15681\n",
      "[LightGBM] [Info] This is the GPU trainer!!\n",
      "[LightGBM] [Info] Total Bins 2517\n",
      "[LightGBM] [Info] Number of data points in the train set: 23585, number of used features: 15\n",
      "[LightGBM] [Info] Using GPU Device: Tesla T4, Vendor: NVIDIA Corporation\n",
      "[LightGBM] [Info] Compiling OpenCL Kernel with 256 bins...\n",
      "[LightGBM] [Info] GPU programs have been built\n",
      "[LightGBM] [Info] Size of histogram bin entry: 8\n",
      "[LightGBM] [Info] 13 dense feature groups (0.36 MB) transferred to GPU in 0.001242 secs. 1 sparse feature groups\n",
      "[LightGBM] [Info] [binary:BoostFromScore]: pavg=0.335128 -> initscore=-0.685081\n",
      "[LightGBM] [Info] Start training from score -0.685081\n"
     ]
    },
    {
     "name": "stderr",
     "output_type": "stream",
     "text": [
      "/usr/local/lib/python3.11/dist-packages/lightgbm/basic.py:2118: UserWarning: categorical_feature keyword has been found in `params` and will be ignored.\n",
      "Please use categorical_feature argument of the Dataset constructor to pass this parameter.\n",
      "  _log_warning(\n",
      "/usr/local/lib/python3.11/dist-packages/lightgbm/basic.py:2140: UserWarning: categorical_feature in param dict is overridden.\n",
      "  _log_warning(f\"{cat_alias} in param dict is overridden.\")\n"
     ]
    },
    {
     "name": "stdout",
     "output_type": "stream",
     "text": [
      "[CV] END learning_rate=0.001, n_estimators=600, num_leaves=15; total time=   1.5s\n",
      "[LightGBM] [Warning] categorical_feature is set=lang, categorical_column=5 will be ignored. Current value: categorical_feature=lang\n",
      "[LightGBM] [Info] Number of positive: 7905, number of negative: 15680\n",
      "[LightGBM] [Info] This is the GPU trainer!!\n",
      "[LightGBM] [Info] Total Bins 2512\n",
      "[LightGBM] [Info] Number of data points in the train set: 23585, number of used features: 15\n",
      "[LightGBM] [Info] Using GPU Device: Tesla T4, Vendor: NVIDIA Corporation\n",
      "[LightGBM] [Info] Compiling OpenCL Kernel with 256 bins...\n",
      "[LightGBM] [Info] GPU programs have been built\n",
      "[LightGBM] [Info] Size of histogram bin entry: 8\n",
      "[LightGBM] [Info] 13 dense feature groups (0.36 MB) transferred to GPU in 0.001392 secs. 1 sparse feature groups\n",
      "[LightGBM] [Info] [binary:BoostFromScore]: pavg=0.335171 -> initscore=-0.684891\n",
      "[LightGBM] [Info] Start training from score -0.684891\n"
     ]
    },
    {
     "name": "stderr",
     "output_type": "stream",
     "text": [
      "/usr/local/lib/python3.11/dist-packages/lightgbm/basic.py:2118: UserWarning: categorical_feature keyword has been found in `params` and will be ignored.\n",
      "Please use categorical_feature argument of the Dataset constructor to pass this parameter.\n",
      "  _log_warning(\n",
      "/usr/local/lib/python3.11/dist-packages/lightgbm/basic.py:2140: UserWarning: categorical_feature in param dict is overridden.\n",
      "  _log_warning(f\"{cat_alias} in param dict is overridden.\")\n"
     ]
    },
    {
     "name": "stdout",
     "output_type": "stream",
     "text": [
      "[CV] END learning_rate=0.001, n_estimators=600, num_leaves=15; total time=   1.6s\n",
      "[LightGBM] [Warning] categorical_feature is set=lang, categorical_column=5 will be ignored. Current value: categorical_feature=lang\n",
      "[LightGBM] [Info] Number of positive: 7905, number of negative: 15680\n",
      "[LightGBM] [Info] This is the GPU trainer!!\n",
      "[LightGBM] [Info] Total Bins 2523\n",
      "[LightGBM] [Info] Number of data points in the train set: 23585, number of used features: 15\n",
      "[LightGBM] [Info] Using GPU Device: Tesla T4, Vendor: NVIDIA Corporation\n",
      "[LightGBM] [Info] Compiling OpenCL Kernel with 256 bins...\n",
      "[LightGBM] [Info] GPU programs have been built\n",
      "[LightGBM] [Info] Size of histogram bin entry: 8\n",
      "[LightGBM] [Info] 13 dense feature groups (0.36 MB) transferred to GPU in 0.001337 secs. 1 sparse feature groups\n",
      "[LightGBM] [Info] [binary:BoostFromScore]: pavg=0.335171 -> initscore=-0.684891\n",
      "[LightGBM] [Info] Start training from score -0.684891\n"
     ]
    },
    {
     "name": "stderr",
     "output_type": "stream",
     "text": [
      "/usr/local/lib/python3.11/dist-packages/lightgbm/basic.py:2118: UserWarning: categorical_feature keyword has been found in `params` and will be ignored.\n",
      "Please use categorical_feature argument of the Dataset constructor to pass this parameter.\n",
      "  _log_warning(\n",
      "/usr/local/lib/python3.11/dist-packages/lightgbm/basic.py:2140: UserWarning: categorical_feature in param dict is overridden.\n",
      "  _log_warning(f\"{cat_alias} in param dict is overridden.\")\n"
     ]
    },
    {
     "name": "stdout",
     "output_type": "stream",
     "text": [
      "[CV] END learning_rate=0.001, n_estimators=600, num_leaves=15; total time=   1.5s\n",
      "[LightGBM] [Warning] categorical_feature is set=lang, categorical_column=5 will be ignored. Current value: categorical_feature=lang\n",
      "[LightGBM] [Info] Number of positive: 7905, number of negative: 15680\n",
      "[LightGBM] [Info] This is the GPU trainer!!\n",
      "[LightGBM] [Info] Total Bins 2517\n",
      "[LightGBM] [Info] Number of data points in the train set: 23585, number of used features: 15\n",
      "[LightGBM] [Info] Using GPU Device: Tesla T4, Vendor: NVIDIA Corporation\n",
      "[LightGBM] [Info] Compiling OpenCL Kernel with 256 bins...\n",
      "[LightGBM] [Info] GPU programs have been built\n",
      "[LightGBM] [Info] Size of histogram bin entry: 8\n",
      "[LightGBM] [Info] 13 dense feature groups (0.36 MB) transferred to GPU in 0.001223 secs. 1 sparse feature groups\n",
      "[LightGBM] [Info] [binary:BoostFromScore]: pavg=0.335171 -> initscore=-0.684891\n",
      "[LightGBM] [Info] Start training from score -0.684891\n"
     ]
    },
    {
     "name": "stderr",
     "output_type": "stream",
     "text": [
      "/usr/local/lib/python3.11/dist-packages/lightgbm/basic.py:2118: UserWarning: categorical_feature keyword has been found in `params` and will be ignored.\n",
      "Please use categorical_feature argument of the Dataset constructor to pass this parameter.\n",
      "  _log_warning(\n",
      "/usr/local/lib/python3.11/dist-packages/lightgbm/basic.py:2140: UserWarning: categorical_feature in param dict is overridden.\n",
      "  _log_warning(f\"{cat_alias} in param dict is overridden.\")\n"
     ]
    },
    {
     "name": "stdout",
     "output_type": "stream",
     "text": [
      "[CV] END learning_rate=0.001, n_estimators=600, num_leaves=15; total time=   1.5s\n",
      "[LightGBM] [Warning] categorical_feature is set=lang, categorical_column=5 will be ignored. Current value: categorical_feature=lang\n",
      "[LightGBM] [Info] Number of positive: 7905, number of negative: 15681\n",
      "[LightGBM] [Info] This is the GPU trainer!!\n",
      "[LightGBM] [Info] Total Bins 2514\n",
      "[LightGBM] [Info] Number of data points in the train set: 23586, number of used features: 15\n",
      "[LightGBM] [Info] Using GPU Device: Tesla T4, Vendor: NVIDIA Corporation\n",
      "[LightGBM] [Info] Compiling OpenCL Kernel with 256 bins...\n",
      "[LightGBM] [Info] GPU programs have been built\n",
      "[LightGBM] [Info] Size of histogram bin entry: 8\n",
      "[LightGBM] [Info] 13 dense feature groups (0.36 MB) transferred to GPU in 0.001414 secs. 1 sparse feature groups\n",
      "[LightGBM] [Info] [binary:BoostFromScore]: pavg=0.335156 -> initscore=-0.684954\n",
      "[LightGBM] [Info] Start training from score -0.684954\n"
     ]
    },
    {
     "name": "stderr",
     "output_type": "stream",
     "text": [
      "/usr/local/lib/python3.11/dist-packages/lightgbm/basic.py:2118: UserWarning: categorical_feature keyword has been found in `params` and will be ignored.\n",
      "Please use categorical_feature argument of the Dataset constructor to pass this parameter.\n",
      "  _log_warning(\n",
      "/usr/local/lib/python3.11/dist-packages/lightgbm/basic.py:2140: UserWarning: categorical_feature in param dict is overridden.\n",
      "  _log_warning(f\"{cat_alias} in param dict is overridden.\")\n"
     ]
    },
    {
     "name": "stdout",
     "output_type": "stream",
     "text": [
      "[CV] END learning_rate=0.001, n_estimators=600, num_leaves=15; total time=   3.2s\n",
      "[LightGBM] [Warning] categorical_feature is set=lang, categorical_column=5 will be ignored. Current value: categorical_feature=lang\n",
      "[LightGBM] [Info] Number of positive: 7905, number of negative: 15681\n",
      "[LightGBM] [Info] This is the GPU trainer!!\n",
      "[LightGBM] [Info] Total Bins 2518\n",
      "[LightGBM] [Info] Number of data points in the train set: 23586, number of used features: 15\n",
      "[LightGBM] [Info] Using GPU Device: Tesla T4, Vendor: NVIDIA Corporation\n",
      "[LightGBM] [Info] Compiling OpenCL Kernel with 256 bins...\n",
      "[LightGBM] [Info] GPU programs have been built\n",
      "[LightGBM] [Info] Size of histogram bin entry: 8\n"
     ]
    },
    {
     "name": "stderr",
     "output_type": "stream",
     "text": [
      "/usr/local/lib/python3.11/dist-packages/lightgbm/basic.py:2118: UserWarning: categorical_feature keyword has been found in `params` and will be ignored.\n",
      "Please use categorical_feature argument of the Dataset constructor to pass this parameter.\n",
      "  _log_warning(\n",
      "/usr/local/lib/python3.11/dist-packages/lightgbm/basic.py:2140: UserWarning: categorical_feature in param dict is overridden.\n",
      "  _log_warning(f\"{cat_alias} in param dict is overridden.\")\n"
     ]
    },
    {
     "name": "stdout",
     "output_type": "stream",
     "text": [
      "[LightGBM] [Info] 13 dense feature groups (0.36 MB) transferred to GPU in 0.074729 secs. 1 sparse feature groups\n",
      "[LightGBM] [Info] [binary:BoostFromScore]: pavg=0.335156 -> initscore=-0.684954\n",
      "[LightGBM] [Info] Start training from score -0.684954\n",
      "[CV] END learning_rate=0.001, n_estimators=600, num_leaves=15; total time=   2.1s\n",
      "[LightGBM] [Warning] categorical_feature is set=lang, categorical_column=5 will be ignored. Current value: categorical_feature=lang\n",
      "[LightGBM] [Info] Number of positive: 7905, number of negative: 15681\n",
      "[LightGBM] [Info] This is the GPU trainer!!\n",
      "[LightGBM] [Info] Total Bins 2518\n",
      "[LightGBM] [Info] Number of data points in the train set: 23586, number of used features: 15\n",
      "[LightGBM] [Info] Using GPU Device: Tesla T4, Vendor: NVIDIA Corporation\n",
      "[LightGBM] [Info] Compiling OpenCL Kernel with 256 bins...\n",
      "[LightGBM] [Info] GPU programs have been built\n",
      "[LightGBM] [Info] Size of histogram bin entry: 8\n",
      "[LightGBM] [Info] 13 dense feature groups (0.36 MB) transferred to GPU in 0.001234 secs. 1 sparse feature groups\n",
      "[LightGBM] [Info] [binary:BoostFromScore]: pavg=0.335156 -> initscore=-0.684954\n",
      "[LightGBM] [Info] Start training from score -0.684954\n"
     ]
    },
    {
     "name": "stderr",
     "output_type": "stream",
     "text": [
      "/usr/local/lib/python3.11/dist-packages/lightgbm/basic.py:2118: UserWarning: categorical_feature keyword has been found in `params` and will be ignored.\n",
      "Please use categorical_feature argument of the Dataset constructor to pass this parameter.\n",
      "  _log_warning(\n",
      "/usr/local/lib/python3.11/dist-packages/lightgbm/basic.py:2140: UserWarning: categorical_feature in param dict is overridden.\n",
      "  _log_warning(f\"{cat_alias} in param dict is overridden.\")\n"
     ]
    },
    {
     "name": "stdout",
     "output_type": "stream",
     "text": [
      "[CV] END learning_rate=0.001, n_estimators=600, num_leaves=15; total time=   1.5s\n",
      "[LightGBM] [Warning] categorical_feature is set=lang, categorical_column=5 will be ignored. Current value: categorical_feature=lang\n",
      "[LightGBM] [Info] Number of positive: 7905, number of negative: 15681\n",
      "[LightGBM] [Info] This is the GPU trainer!!\n",
      "[LightGBM] [Info] Total Bins 2514\n",
      "[LightGBM] [Info] Number of data points in the train set: 23586, number of used features: 15\n",
      "[LightGBM] [Info] Using GPU Device: Tesla T4, Vendor: NVIDIA Corporation\n",
      "[LightGBM] [Info] Compiling OpenCL Kernel with 256 bins...\n",
      "[LightGBM] [Info] GPU programs have been built\n",
      "[LightGBM] [Info] Size of histogram bin entry: 8\n",
      "[LightGBM] [Info] 13 dense feature groups (0.36 MB) transferred to GPU in 0.001275 secs. 1 sparse feature groups\n",
      "[LightGBM] [Info] [binary:BoostFromScore]: pavg=0.335156 -> initscore=-0.684954\n",
      "[LightGBM] [Info] Start training from score -0.684954\n"
     ]
    },
    {
     "name": "stderr",
     "output_type": "stream",
     "text": [
      "/usr/local/lib/python3.11/dist-packages/lightgbm/basic.py:2118: UserWarning: categorical_feature keyword has been found in `params` and will be ignored.\n",
      "Please use categorical_feature argument of the Dataset constructor to pass this parameter.\n",
      "  _log_warning(\n",
      "/usr/local/lib/python3.11/dist-packages/lightgbm/basic.py:2140: UserWarning: categorical_feature in param dict is overridden.\n",
      "  _log_warning(f\"{cat_alias} in param dict is overridden.\")\n"
     ]
    },
    {
     "name": "stdout",
     "output_type": "stream",
     "text": [
      "[CV] END learning_rate=0.001, n_estimators=600, num_leaves=15; total time=   1.5s\n",
      "[LightGBM] [Warning] categorical_feature is set=lang, categorical_column=5 will be ignored. Current value: categorical_feature=lang\n",
      "[LightGBM] [Info] Number of positive: 7904, number of negative: 15681\n",
      "[LightGBM] [Info] This is the GPU trainer!!\n",
      "[LightGBM] [Info] Total Bins 2510\n",
      "[LightGBM] [Info] Number of data points in the train set: 23585, number of used features: 15\n",
      "[LightGBM] [Info] Using GPU Device: Tesla T4, Vendor: NVIDIA Corporation\n",
      "[LightGBM] [Info] Compiling OpenCL Kernel with 256 bins...\n",
      "[LightGBM] [Info] GPU programs have been built\n",
      "[LightGBM] [Info] Size of histogram bin entry: 8\n",
      "[LightGBM] [Info] 13 dense feature groups (0.36 MB) transferred to GPU in 0.001385 secs. 1 sparse feature groups\n",
      "[LightGBM] [Info] [binary:BoostFromScore]: pavg=0.335128 -> initscore=-0.685081\n",
      "[LightGBM] [Info] Start training from score -0.685081\n"
     ]
    },
    {
     "name": "stderr",
     "output_type": "stream",
     "text": [
      "/usr/local/lib/python3.11/dist-packages/lightgbm/basic.py:2118: UserWarning: categorical_feature keyword has been found in `params` and will be ignored.\n",
      "Please use categorical_feature argument of the Dataset constructor to pass this parameter.\n",
      "  _log_warning(\n",
      "/usr/local/lib/python3.11/dist-packages/lightgbm/basic.py:2140: UserWarning: categorical_feature in param dict is overridden.\n",
      "  _log_warning(f\"{cat_alias} in param dict is overridden.\")\n"
     ]
    },
    {
     "name": "stdout",
     "output_type": "stream",
     "text": [
      "[CV] END learning_rate=0.001, n_estimators=600, num_leaves=30; total time=   2.5s\n",
      "[LightGBM] [Warning] categorical_feature is set=lang, categorical_column=5 will be ignored. Current value: categorical_feature=lang\n",
      "[LightGBM] [Info] Number of positive: 7904, number of negative: 15681\n",
      "[LightGBM] [Info] This is the GPU trainer!!\n",
      "[LightGBM] [Info] Total Bins 2519\n",
      "[LightGBM] [Info] Number of data points in the train set: 23585, number of used features: 15\n",
      "[LightGBM] [Info] Using GPU Device: Tesla T4, Vendor: NVIDIA Corporation\n",
      "[LightGBM] [Info] Compiling OpenCL Kernel with 256 bins...\n",
      "[LightGBM] [Info] GPU programs have been built\n",
      "[LightGBM] [Info] Size of histogram bin entry: 8\n",
      "[LightGBM] [Info] 13 dense feature groups (0.36 MB) transferred to GPU in 0.001321 secs. 1 sparse feature groups\n",
      "[LightGBM] [Info] [binary:BoostFromScore]: pavg=0.335128 -> initscore=-0.685081\n",
      "[LightGBM] [Info] Start training from score -0.685081\n"
     ]
    },
    {
     "name": "stderr",
     "output_type": "stream",
     "text": [
      "/usr/local/lib/python3.11/dist-packages/lightgbm/basic.py:2118: UserWarning: categorical_feature keyword has been found in `params` and will be ignored.\n",
      "Please use categorical_feature argument of the Dataset constructor to pass this parameter.\n",
      "  _log_warning(\n",
      "/usr/local/lib/python3.11/dist-packages/lightgbm/basic.py:2140: UserWarning: categorical_feature in param dict is overridden.\n",
      "  _log_warning(f\"{cat_alias} in param dict is overridden.\")\n"
     ]
    },
    {
     "name": "stdout",
     "output_type": "stream",
     "text": [
      "[CV] END learning_rate=0.001, n_estimators=600, num_leaves=30; total time=   2.6s\n",
      "[LightGBM] [Warning] categorical_feature is set=lang, categorical_column=5 will be ignored. Current value: categorical_feature=lang\n",
      "[LightGBM] [Info] Number of positive: 7904, number of negative: 15681\n",
      "[LightGBM] [Info] This is the GPU trainer!!\n",
      "[LightGBM] [Info] Total Bins 2517\n",
      "[LightGBM] [Info] Number of data points in the train set: 23585, number of used features: 15\n",
      "[LightGBM] [Info] Using GPU Device: Tesla T4, Vendor: NVIDIA Corporation\n",
      "[LightGBM] [Info] Compiling OpenCL Kernel with 256 bins...\n",
      "[LightGBM] [Info] GPU programs have been built\n",
      "[LightGBM] [Info] Size of histogram bin entry: 8\n",
      "[LightGBM] [Info] 13 dense feature groups (0.36 MB) transferred to GPU in 0.001215 secs. 1 sparse feature groups\n",
      "[LightGBM] [Info] [binary:BoostFromScore]: pavg=0.335128 -> initscore=-0.685081\n",
      "[LightGBM] [Info] Start training from score -0.685081\n"
     ]
    },
    {
     "name": "stderr",
     "output_type": "stream",
     "text": [
      "/usr/local/lib/python3.11/dist-packages/lightgbm/basic.py:2118: UserWarning: categorical_feature keyword has been found in `params` and will be ignored.\n",
      "Please use categorical_feature argument of the Dataset constructor to pass this parameter.\n",
      "  _log_warning(\n",
      "/usr/local/lib/python3.11/dist-packages/lightgbm/basic.py:2140: UserWarning: categorical_feature in param dict is overridden.\n",
      "  _log_warning(f\"{cat_alias} in param dict is overridden.\")\n"
     ]
    },
    {
     "name": "stdout",
     "output_type": "stream",
     "text": [
      "[CV] END learning_rate=0.001, n_estimators=600, num_leaves=30; total time=   4.8s\n",
      "[LightGBM] [Warning] categorical_feature is set=lang, categorical_column=5 will be ignored. Current value: categorical_feature=lang\n",
      "[LightGBM] [Info] Number of positive: 7905, number of negative: 15680\n",
      "[LightGBM] [Info] This is the GPU trainer!!\n",
      "[LightGBM] [Info] Total Bins 2512\n",
      "[LightGBM] [Info] Number of data points in the train set: 23585, number of used features: 15\n",
      "[LightGBM] [Info] Using GPU Device: Tesla T4, Vendor: NVIDIA Corporation\n",
      "[LightGBM] [Info] Compiling OpenCL Kernel with 256 bins...\n",
      "[LightGBM] [Info] GPU programs have been built\n",
      "[LightGBM] [Info] Size of histogram bin entry: 8\n",
      "[LightGBM] [Info] 13 dense feature groups (0.36 MB) transferred to GPU in 0.001254 secs. 1 sparse feature groups\n",
      "[LightGBM] [Info] [binary:BoostFromScore]: pavg=0.335171 -> initscore=-0.684891\n",
      "[LightGBM] [Info] Start training from score -0.684891\n"
     ]
    },
    {
     "name": "stderr",
     "output_type": "stream",
     "text": [
      "/usr/local/lib/python3.11/dist-packages/lightgbm/basic.py:2118: UserWarning: categorical_feature keyword has been found in `params` and will be ignored.\n",
      "Please use categorical_feature argument of the Dataset constructor to pass this parameter.\n",
      "  _log_warning(\n",
      "/usr/local/lib/python3.11/dist-packages/lightgbm/basic.py:2140: UserWarning: categorical_feature in param dict is overridden.\n",
      "  _log_warning(f\"{cat_alias} in param dict is overridden.\")\n"
     ]
    },
    {
     "name": "stdout",
     "output_type": "stream",
     "text": [
      "[CV] END learning_rate=0.001, n_estimators=600, num_leaves=30; total time=   2.6s\n",
      "[LightGBM] [Warning] categorical_feature is set=lang, categorical_column=5 will be ignored. Current value: categorical_feature=lang\n",
      "[LightGBM] [Info] Number of positive: 7905, number of negative: 15680\n",
      "[LightGBM] [Info] This is the GPU trainer!!\n",
      "[LightGBM] [Info] Total Bins 2523\n",
      "[LightGBM] [Info] Number of data points in the train set: 23585, number of used features: 15\n",
      "[LightGBM] [Info] Using GPU Device: Tesla T4, Vendor: NVIDIA Corporation\n",
      "[LightGBM] [Info] Compiling OpenCL Kernel with 256 bins...\n",
      "[LightGBM] [Info] GPU programs have been built\n",
      "[LightGBM] [Info] Size of histogram bin entry: 8\n",
      "[LightGBM] [Info] 13 dense feature groups (0.36 MB) transferred to GPU in 0.001217 secs. 1 sparse feature groups\n",
      "[LightGBM] [Info] [binary:BoostFromScore]: pavg=0.335171 -> initscore=-0.684891\n",
      "[LightGBM] [Info] Start training from score -0.684891\n"
     ]
    },
    {
     "name": "stderr",
     "output_type": "stream",
     "text": [
      "/usr/local/lib/python3.11/dist-packages/lightgbm/basic.py:2118: UserWarning: categorical_feature keyword has been found in `params` and will be ignored.\n",
      "Please use categorical_feature argument of the Dataset constructor to pass this parameter.\n",
      "  _log_warning(\n",
      "/usr/local/lib/python3.11/dist-packages/lightgbm/basic.py:2140: UserWarning: categorical_feature in param dict is overridden.\n",
      "  _log_warning(f\"{cat_alias} in param dict is overridden.\")\n"
     ]
    },
    {
     "name": "stdout",
     "output_type": "stream",
     "text": [
      "[CV] END learning_rate=0.001, n_estimators=600, num_leaves=30; total time=   2.5s\n",
      "[LightGBM] [Warning] categorical_feature is set=lang, categorical_column=5 will be ignored. Current value: categorical_feature=lang\n",
      "[LightGBM] [Info] Number of positive: 7905, number of negative: 15680\n",
      "[LightGBM] [Info] This is the GPU trainer!!\n",
      "[LightGBM] [Info] Total Bins 2517\n",
      "[LightGBM] [Info] Number of data points in the train set: 23585, number of used features: 15\n",
      "[LightGBM] [Info] Using GPU Device: Tesla T4, Vendor: NVIDIA Corporation\n",
      "[LightGBM] [Info] Compiling OpenCL Kernel with 256 bins...\n",
      "[LightGBM] [Info] GPU programs have been built\n",
      "[LightGBM] [Info] Size of histogram bin entry: 8\n",
      "[LightGBM] [Info] 13 dense feature groups (0.36 MB) transferred to GPU in 0.004409 secs. 1 sparse feature groups\n",
      "[LightGBM] [Info] [binary:BoostFromScore]: pavg=0.335171 -> initscore=-0.684891\n",
      "[LightGBM] [Info] Start training from score -0.684891\n"
     ]
    },
    {
     "name": "stderr",
     "output_type": "stream",
     "text": [
      "/usr/local/lib/python3.11/dist-packages/lightgbm/basic.py:2118: UserWarning: categorical_feature keyword has been found in `params` and will be ignored.\n",
      "Please use categorical_feature argument of the Dataset constructor to pass this parameter.\n",
      "  _log_warning(\n",
      "/usr/local/lib/python3.11/dist-packages/lightgbm/basic.py:2140: UserWarning: categorical_feature in param dict is overridden.\n",
      "  _log_warning(f\"{cat_alias} in param dict is overridden.\")\n"
     ]
    },
    {
     "name": "stdout",
     "output_type": "stream",
     "text": [
      "[CV] END learning_rate=0.001, n_estimators=600, num_leaves=30; total time=   2.6s\n",
      "[LightGBM] [Warning] categorical_feature is set=lang, categorical_column=5 will be ignored. Current value: categorical_feature=lang\n",
      "[LightGBM] [Info] Number of positive: 7905, number of negative: 15681\n",
      "[LightGBM] [Info] This is the GPU trainer!!\n",
      "[LightGBM] [Info] Total Bins 2514\n",
      "[LightGBM] [Info] Number of data points in the train set: 23586, number of used features: 15\n",
      "[LightGBM] [Info] Using GPU Device: Tesla T4, Vendor: NVIDIA Corporation\n",
      "[LightGBM] [Info] Compiling OpenCL Kernel with 256 bins...\n",
      "[LightGBM] [Info] GPU programs have been built\n",
      "[LightGBM] [Info] Size of histogram bin entry: 8\n",
      "[LightGBM] [Info] 13 dense feature groups (0.36 MB) transferred to GPU in 0.001226 secs. 1 sparse feature groups\n",
      "[LightGBM] [Info] [binary:BoostFromScore]: pavg=0.335156 -> initscore=-0.684954\n",
      "[LightGBM] [Info] Start training from score -0.684954\n"
     ]
    },
    {
     "name": "stderr",
     "output_type": "stream",
     "text": [
      "/usr/local/lib/python3.11/dist-packages/lightgbm/basic.py:2118: UserWarning: categorical_feature keyword has been found in `params` and will be ignored.\n",
      "Please use categorical_feature argument of the Dataset constructor to pass this parameter.\n",
      "  _log_warning(\n",
      "/usr/local/lib/python3.11/dist-packages/lightgbm/basic.py:2140: UserWarning: categorical_feature in param dict is overridden.\n",
      "  _log_warning(f\"{cat_alias} in param dict is overridden.\")\n"
     ]
    },
    {
     "name": "stdout",
     "output_type": "stream",
     "text": [
      "[CV] END learning_rate=0.001, n_estimators=600, num_leaves=30; total time=   2.5s\n",
      "[LightGBM] [Warning] categorical_feature is set=lang, categorical_column=5 will be ignored. Current value: categorical_feature=lang\n",
      "[LightGBM] [Info] Number of positive: 7905, number of negative: 15681\n",
      "[LightGBM] [Info] This is the GPU trainer!!\n",
      "[LightGBM] [Info] Total Bins 2518\n",
      "[LightGBM] [Info] Number of data points in the train set: 23586, number of used features: 15\n",
      "[LightGBM] [Info] Using GPU Device: Tesla T4, Vendor: NVIDIA Corporation\n",
      "[LightGBM] [Info] Compiling OpenCL Kernel with 256 bins...\n",
      "[LightGBM] [Info] GPU programs have been built\n",
      "[LightGBM] [Info] Size of histogram bin entry: 8\n",
      "[LightGBM] [Info] 13 dense feature groups (0.36 MB) transferred to GPU in 0.063137 secs. 1 sparse feature groups\n",
      "[LightGBM] [Info] [binary:BoostFromScore]: pavg=0.335156 -> initscore=-0.684954\n",
      "[LightGBM] [Info] Start training from score -0.684954\n"
     ]
    },
    {
     "name": "stderr",
     "output_type": "stream",
     "text": [
      "/usr/local/lib/python3.11/dist-packages/lightgbm/basic.py:2118: UserWarning: categorical_feature keyword has been found in `params` and will be ignored.\n",
      "Please use categorical_feature argument of the Dataset constructor to pass this parameter.\n",
      "  _log_warning(\n",
      "/usr/local/lib/python3.11/dist-packages/lightgbm/basic.py:2140: UserWarning: categorical_feature in param dict is overridden.\n",
      "  _log_warning(f\"{cat_alias} in param dict is overridden.\")\n"
     ]
    },
    {
     "name": "stdout",
     "output_type": "stream",
     "text": [
      "[CV] END learning_rate=0.001, n_estimators=600, num_leaves=30; total time=   4.7s\n",
      "[LightGBM] [Warning] categorical_feature is set=lang, categorical_column=5 will be ignored. Current value: categorical_feature=lang\n",
      "[LightGBM] [Info] Number of positive: 7905, number of negative: 15681\n",
      "[LightGBM] [Info] This is the GPU trainer!!\n",
      "[LightGBM] [Info] Total Bins 2518\n",
      "[LightGBM] [Info] Number of data points in the train set: 23586, number of used features: 15\n",
      "[LightGBM] [Info] Using GPU Device: Tesla T4, Vendor: NVIDIA Corporation\n",
      "[LightGBM] [Info] Compiling OpenCL Kernel with 256 bins...\n",
      "[LightGBM] [Info] GPU programs have been built\n",
      "[LightGBM] [Info] Size of histogram bin entry: 8\n",
      "[LightGBM] [Info] 13 dense feature groups (0.36 MB) transferred to GPU in 0.001270 secs. 1 sparse feature groups\n",
      "[LightGBM] [Info] [binary:BoostFromScore]: pavg=0.335156 -> initscore=-0.684954\n",
      "[LightGBM] [Info] Start training from score -0.684954\n"
     ]
    },
    {
     "name": "stderr",
     "output_type": "stream",
     "text": [
      "/usr/local/lib/python3.11/dist-packages/lightgbm/basic.py:2118: UserWarning: categorical_feature keyword has been found in `params` and will be ignored.\n",
      "Please use categorical_feature argument of the Dataset constructor to pass this parameter.\n",
      "  _log_warning(\n",
      "/usr/local/lib/python3.11/dist-packages/lightgbm/basic.py:2140: UserWarning: categorical_feature in param dict is overridden.\n",
      "  _log_warning(f\"{cat_alias} in param dict is overridden.\")\n"
     ]
    },
    {
     "name": "stdout",
     "output_type": "stream",
     "text": [
      "[CV] END learning_rate=0.001, n_estimators=600, num_leaves=30; total time=   2.5s\n",
      "[LightGBM] [Warning] categorical_feature is set=lang, categorical_column=5 will be ignored. Current value: categorical_feature=lang\n",
      "[LightGBM] [Info] Number of positive: 7905, number of negative: 15681\n",
      "[LightGBM] [Info] This is the GPU trainer!!\n",
      "[LightGBM] [Info] Total Bins 2514\n",
      "[LightGBM] [Info] Number of data points in the train set: 23586, number of used features: 15\n",
      "[LightGBM] [Info] Using GPU Device: Tesla T4, Vendor: NVIDIA Corporation\n",
      "[LightGBM] [Info] Compiling OpenCL Kernel with 256 bins...\n",
      "[LightGBM] [Info] GPU programs have been built\n",
      "[LightGBM] [Info] Size of histogram bin entry: 8\n",
      "[LightGBM] [Info] 13 dense feature groups (0.36 MB) transferred to GPU in 0.001260 secs. 1 sparse feature groups\n",
      "[LightGBM] [Info] [binary:BoostFromScore]: pavg=0.335156 -> initscore=-0.684954\n",
      "[LightGBM] [Info] Start training from score -0.684954\n"
     ]
    },
    {
     "name": "stderr",
     "output_type": "stream",
     "text": [
      "/usr/local/lib/python3.11/dist-packages/lightgbm/basic.py:2118: UserWarning: categorical_feature keyword has been found in `params` and will be ignored.\n",
      "Please use categorical_feature argument of the Dataset constructor to pass this parameter.\n",
      "  _log_warning(\n",
      "/usr/local/lib/python3.11/dist-packages/lightgbm/basic.py:2140: UserWarning: categorical_feature in param dict is overridden.\n",
      "  _log_warning(f\"{cat_alias} in param dict is overridden.\")\n"
     ]
    },
    {
     "name": "stdout",
     "output_type": "stream",
     "text": [
      "[CV] END learning_rate=0.001, n_estimators=600, num_leaves=30; total time=   2.5s\n",
      "[LightGBM] [Warning] categorical_feature is set=lang, categorical_column=5 will be ignored. Current value: categorical_feature=lang\n",
      "[LightGBM] [Info] Number of positive: 7904, number of negative: 15681\n",
      "[LightGBM] [Info] This is the GPU trainer!!\n",
      "[LightGBM] [Info] Total Bins 2510\n",
      "[LightGBM] [Info] Number of data points in the train set: 23585, number of used features: 15\n",
      "[LightGBM] [Info] Using GPU Device: Tesla T4, Vendor: NVIDIA Corporation\n",
      "[LightGBM] [Info] Compiling OpenCL Kernel with 256 bins...\n",
      "[LightGBM] [Info] GPU programs have been built\n",
      "[LightGBM] [Info] Size of histogram bin entry: 8\n",
      "[LightGBM] [Info] 13 dense feature groups (0.36 MB) transferred to GPU in 0.001202 secs. 1 sparse feature groups\n",
      "[LightGBM] [Info] [binary:BoostFromScore]: pavg=0.335128 -> initscore=-0.685081\n",
      "[LightGBM] [Info] Start training from score -0.685081\n"
     ]
    },
    {
     "name": "stderr",
     "output_type": "stream",
     "text": [
      "/usr/local/lib/python3.11/dist-packages/lightgbm/basic.py:2118: UserWarning: categorical_feature keyword has been found in `params` and will be ignored.\n",
      "Please use categorical_feature argument of the Dataset constructor to pass this parameter.\n",
      "  _log_warning(\n",
      "/usr/local/lib/python3.11/dist-packages/lightgbm/basic.py:2140: UserWarning: categorical_feature in param dict is overridden.\n",
      "  _log_warning(f\"{cat_alias} in param dict is overridden.\")\n"
     ]
    },
    {
     "name": "stdout",
     "output_type": "stream",
     "text": [
      "[CV] END learning_rate=0.001, n_estimators=600, num_leaves=45; total time=   3.5s\n",
      "[LightGBM] [Warning] categorical_feature is set=lang, categorical_column=5 will be ignored. Current value: categorical_feature=lang\n",
      "[LightGBM] [Info] Number of positive: 7904, number of negative: 15681\n",
      "[LightGBM] [Info] This is the GPU trainer!!\n",
      "[LightGBM] [Info] Total Bins 2519\n",
      "[LightGBM] [Info] Number of data points in the train set: 23585, number of used features: 15\n",
      "[LightGBM] [Info] Using GPU Device: Tesla T4, Vendor: NVIDIA Corporation\n",
      "[LightGBM] [Info] Compiling OpenCL Kernel with 256 bins...\n",
      "[LightGBM] [Info] GPU programs have been built\n",
      "[LightGBM] [Info] Size of histogram bin entry: 8\n",
      "[LightGBM] [Info] 13 dense feature groups (0.36 MB) transferred to GPU in 0.001160 secs. 1 sparse feature groups\n",
      "[LightGBM] [Info] [binary:BoostFromScore]: pavg=0.335128 -> initscore=-0.685081\n",
      "[LightGBM] [Info] Start training from score -0.685081\n"
     ]
    },
    {
     "name": "stderr",
     "output_type": "stream",
     "text": [
      "/usr/local/lib/python3.11/dist-packages/lightgbm/basic.py:2118: UserWarning: categorical_feature keyword has been found in `params` and will be ignored.\n",
      "Please use categorical_feature argument of the Dataset constructor to pass this parameter.\n",
      "  _log_warning(\n",
      "/usr/local/lib/python3.11/dist-packages/lightgbm/basic.py:2140: UserWarning: categorical_feature in param dict is overridden.\n",
      "  _log_warning(f\"{cat_alias} in param dict is overridden.\")\n"
     ]
    },
    {
     "name": "stdout",
     "output_type": "stream",
     "text": [
      "[CV] END learning_rate=0.001, n_estimators=600, num_leaves=45; total time=   5.8s\n",
      "[LightGBM] [Warning] categorical_feature is set=lang, categorical_column=5 will be ignored. Current value: categorical_feature=lang\n",
      "[LightGBM] [Info] Number of positive: 7904, number of negative: 15681\n",
      "[LightGBM] [Info] This is the GPU trainer!!\n",
      "[LightGBM] [Info] Total Bins 2517\n",
      "[LightGBM] [Info] Number of data points in the train set: 23585, number of used features: 15\n",
      "[LightGBM] [Info] Using GPU Device: Tesla T4, Vendor: NVIDIA Corporation\n",
      "[LightGBM] [Info] Compiling OpenCL Kernel with 256 bins...\n",
      "[LightGBM] [Info] GPU programs have been built\n",
      "[LightGBM] [Info] Size of histogram bin entry: 8\n",
      "[LightGBM] [Info] 13 dense feature groups (0.36 MB) transferred to GPU in 0.001242 secs. 1 sparse feature groups\n",
      "[LightGBM] [Info] [binary:BoostFromScore]: pavg=0.335128 -> initscore=-0.685081\n",
      "[LightGBM] [Info] Start training from score -0.685081\n"
     ]
    },
    {
     "name": "stderr",
     "output_type": "stream",
     "text": [
      "/usr/local/lib/python3.11/dist-packages/lightgbm/basic.py:2118: UserWarning: categorical_feature keyword has been found in `params` and will be ignored.\n",
      "Please use categorical_feature argument of the Dataset constructor to pass this parameter.\n",
      "  _log_warning(\n",
      "/usr/local/lib/python3.11/dist-packages/lightgbm/basic.py:2140: UserWarning: categorical_feature in param dict is overridden.\n",
      "  _log_warning(f\"{cat_alias} in param dict is overridden.\")\n"
     ]
    },
    {
     "name": "stdout",
     "output_type": "stream",
     "text": [
      "[CV] END learning_rate=0.001, n_estimators=600, num_leaves=45; total time=   3.4s\n",
      "[LightGBM] [Warning] categorical_feature is set=lang, categorical_column=5 will be ignored. Current value: categorical_feature=lang\n",
      "[LightGBM] [Info] Number of positive: 7905, number of negative: 15680\n",
      "[LightGBM] [Info] This is the GPU trainer!!\n",
      "[LightGBM] [Info] Total Bins 2512\n",
      "[LightGBM] [Info] Number of data points in the train set: 23585, number of used features: 15\n",
      "[LightGBM] [Info] Using GPU Device: Tesla T4, Vendor: NVIDIA Corporation\n",
      "[LightGBM] [Info] Compiling OpenCL Kernel with 256 bins...\n",
      "[LightGBM] [Info] GPU programs have been built\n",
      "[LightGBM] [Info] Size of histogram bin entry: 8\n",
      "[LightGBM] [Info] 13 dense feature groups (0.36 MB) transferred to GPU in 0.001243 secs. 1 sparse feature groups\n",
      "[LightGBM] [Info] [binary:BoostFromScore]: pavg=0.335171 -> initscore=-0.684891\n",
      "[LightGBM] [Info] Start training from score -0.684891\n"
     ]
    },
    {
     "name": "stderr",
     "output_type": "stream",
     "text": [
      "/usr/local/lib/python3.11/dist-packages/lightgbm/basic.py:2118: UserWarning: categorical_feature keyword has been found in `params` and will be ignored.\n",
      "Please use categorical_feature argument of the Dataset constructor to pass this parameter.\n",
      "  _log_warning(\n",
      "/usr/local/lib/python3.11/dist-packages/lightgbm/basic.py:2140: UserWarning: categorical_feature in param dict is overridden.\n",
      "  _log_warning(f\"{cat_alias} in param dict is overridden.\")\n"
     ]
    },
    {
     "name": "stdout",
     "output_type": "stream",
     "text": [
      "[CV] END learning_rate=0.001, n_estimators=600, num_leaves=45; total time=   3.4s\n",
      "[LightGBM] [Warning] categorical_feature is set=lang, categorical_column=5 will be ignored. Current value: categorical_feature=lang\n",
      "[LightGBM] [Info] Number of positive: 7905, number of negative: 15680\n",
      "[LightGBM] [Info] This is the GPU trainer!!\n",
      "[LightGBM] [Info] Total Bins 2523\n",
      "[LightGBM] [Info] Number of data points in the train set: 23585, number of used features: 15\n",
      "[LightGBM] [Info] Using GPU Device: Tesla T4, Vendor: NVIDIA Corporation\n",
      "[LightGBM] [Info] Compiling OpenCL Kernel with 256 bins...\n",
      "[LightGBM] [Info] GPU programs have been built\n",
      "[LightGBM] [Info] Size of histogram bin entry: 8\n",
      "[LightGBM] [Info] 13 dense feature groups (0.36 MB) transferred to GPU in 0.001303 secs. 1 sparse feature groups\n",
      "[LightGBM] [Info] [binary:BoostFromScore]: pavg=0.335171 -> initscore=-0.684891\n",
      "[LightGBM] [Info] Start training from score -0.684891\n"
     ]
    },
    {
     "name": "stderr",
     "output_type": "stream",
     "text": [
      "/usr/local/lib/python3.11/dist-packages/lightgbm/basic.py:2118: UserWarning: categorical_feature keyword has been found in `params` and will be ignored.\n",
      "Please use categorical_feature argument of the Dataset constructor to pass this parameter.\n",
      "  _log_warning(\n",
      "/usr/local/lib/python3.11/dist-packages/lightgbm/basic.py:2140: UserWarning: categorical_feature in param dict is overridden.\n",
      "  _log_warning(f\"{cat_alias} in param dict is overridden.\")\n"
     ]
    },
    {
     "name": "stdout",
     "output_type": "stream",
     "text": [
      "[CV] END learning_rate=0.001, n_estimators=600, num_leaves=45; total time=   5.9s\n",
      "[LightGBM] [Warning] categorical_feature is set=lang, categorical_column=5 will be ignored. Current value: categorical_feature=lang\n",
      "[LightGBM] [Info] Number of positive: 7905, number of negative: 15680\n",
      "[LightGBM] [Info] This is the GPU trainer!!\n",
      "[LightGBM] [Info] Total Bins 2517\n",
      "[LightGBM] [Info] Number of data points in the train set: 23585, number of used features: 15\n",
      "[LightGBM] [Info] Using GPU Device: Tesla T4, Vendor: NVIDIA Corporation\n",
      "[LightGBM] [Info] Compiling OpenCL Kernel with 256 bins...\n",
      "[LightGBM] [Info] GPU programs have been built\n",
      "[LightGBM] [Info] Size of histogram bin entry: 8\n",
      "[LightGBM] [Info] 13 dense feature groups (0.36 MB) transferred to GPU in 0.001183 secs. 1 sparse feature groups\n",
      "[LightGBM] [Info] [binary:BoostFromScore]: pavg=0.335171 -> initscore=-0.684891\n",
      "[LightGBM] [Info] Start training from score -0.684891\n"
     ]
    },
    {
     "name": "stderr",
     "output_type": "stream",
     "text": [
      "/usr/local/lib/python3.11/dist-packages/lightgbm/basic.py:2118: UserWarning: categorical_feature keyword has been found in `params` and will be ignored.\n",
      "Please use categorical_feature argument of the Dataset constructor to pass this parameter.\n",
      "  _log_warning(\n",
      "/usr/local/lib/python3.11/dist-packages/lightgbm/basic.py:2140: UserWarning: categorical_feature in param dict is overridden.\n",
      "  _log_warning(f\"{cat_alias} in param dict is overridden.\")\n"
     ]
    },
    {
     "name": "stdout",
     "output_type": "stream",
     "text": [
      "[CV] END learning_rate=0.001, n_estimators=600, num_leaves=45; total time=   3.4s\n",
      "[LightGBM] [Warning] categorical_feature is set=lang, categorical_column=5 will be ignored. Current value: categorical_feature=lang\n",
      "[LightGBM] [Info] Number of positive: 7905, number of negative: 15681\n",
      "[LightGBM] [Info] This is the GPU trainer!!\n",
      "[LightGBM] [Info] Total Bins 2514\n",
      "[LightGBM] [Info] Number of data points in the train set: 23586, number of used features: 15\n",
      "[LightGBM] [Info] Using GPU Device: Tesla T4, Vendor: NVIDIA Corporation\n",
      "[LightGBM] [Info] Compiling OpenCL Kernel with 256 bins...\n",
      "[LightGBM] [Info] GPU programs have been built\n",
      "[LightGBM] [Info] Size of histogram bin entry: 8\n",
      "[LightGBM] [Info] 13 dense feature groups (0.36 MB) transferred to GPU in 0.001252 secs. 1 sparse feature groups\n",
      "[LightGBM] [Info] [binary:BoostFromScore]: pavg=0.335156 -> initscore=-0.684954\n",
      "[LightGBM] [Info] Start training from score -0.684954\n"
     ]
    },
    {
     "name": "stderr",
     "output_type": "stream",
     "text": [
      "/usr/local/lib/python3.11/dist-packages/lightgbm/basic.py:2118: UserWarning: categorical_feature keyword has been found in `params` and will be ignored.\n",
      "Please use categorical_feature argument of the Dataset constructor to pass this parameter.\n",
      "  _log_warning(\n",
      "/usr/local/lib/python3.11/dist-packages/lightgbm/basic.py:2140: UserWarning: categorical_feature in param dict is overridden.\n",
      "  _log_warning(f\"{cat_alias} in param dict is overridden.\")\n"
     ]
    },
    {
     "name": "stdout",
     "output_type": "stream",
     "text": [
      "[CV] END learning_rate=0.001, n_estimators=600, num_leaves=45; total time=   3.5s\n",
      "[LightGBM] [Warning] categorical_feature is set=lang, categorical_column=5 will be ignored. Current value: categorical_feature=lang\n",
      "[LightGBM] [Info] Number of positive: 7905, number of negative: 15681\n",
      "[LightGBM] [Info] This is the GPU trainer!!\n",
      "[LightGBM] [Info] Total Bins 2518\n",
      "[LightGBM] [Info] Number of data points in the train set: 23586, number of used features: 15\n",
      "[LightGBM] [Info] Using GPU Device: Tesla T4, Vendor: NVIDIA Corporation\n",
      "[LightGBM] [Info] Compiling OpenCL Kernel with 256 bins...\n",
      "[LightGBM] [Info] GPU programs have been built\n",
      "[LightGBM] [Info] Size of histogram bin entry: 8\n",
      "[LightGBM] [Info] 13 dense feature groups (0.36 MB) transferred to GPU in 0.001365 secs. 1 sparse feature groups\n",
      "[LightGBM] [Info] [binary:BoostFromScore]: pavg=0.335156 -> initscore=-0.684954\n",
      "[LightGBM] [Info] Start training from score -0.684954\n"
     ]
    },
    {
     "name": "stderr",
     "output_type": "stream",
     "text": [
      "/usr/local/lib/python3.11/dist-packages/lightgbm/basic.py:2118: UserWarning: categorical_feature keyword has been found in `params` and will be ignored.\n",
      "Please use categorical_feature argument of the Dataset constructor to pass this parameter.\n",
      "  _log_warning(\n",
      "/usr/local/lib/python3.11/dist-packages/lightgbm/basic.py:2140: UserWarning: categorical_feature in param dict is overridden.\n",
      "  _log_warning(f\"{cat_alias} in param dict is overridden.\")\n"
     ]
    },
    {
     "name": "stdout",
     "output_type": "stream",
     "text": [
      "[CV] END learning_rate=0.001, n_estimators=600, num_leaves=45; total time=   3.8s\n",
      "[LightGBM] [Warning] categorical_feature is set=lang, categorical_column=5 will be ignored. Current value: categorical_feature=lang\n",
      "[LightGBM] [Info] Number of positive: 7905, number of negative: 15681\n",
      "[LightGBM] [Info] This is the GPU trainer!!\n"
     ]
    },
    {
     "name": "stderr",
     "output_type": "stream",
     "text": [
      "/usr/local/lib/python3.11/dist-packages/lightgbm/basic.py:2118: UserWarning: categorical_feature keyword has been found in `params` and will be ignored.\n",
      "Please use categorical_feature argument of the Dataset constructor to pass this parameter.\n",
      "  _log_warning(\n",
      "/usr/local/lib/python3.11/dist-packages/lightgbm/basic.py:2140: UserWarning: categorical_feature in param dict is overridden.\n",
      "  _log_warning(f\"{cat_alias} in param dict is overridden.\")\n"
     ]
    },
    {
     "name": "stdout",
     "output_type": "stream",
     "text": [
      "[LightGBM] [Info] Total Bins 2518\n",
      "[LightGBM] [Info] Number of data points in the train set: 23586, number of used features: 15\n",
      "[LightGBM] [Info] Using GPU Device: Tesla T4, Vendor: NVIDIA Corporation\n",
      "[LightGBM] [Info] Compiling OpenCL Kernel with 256 bins...\n",
      "[LightGBM] [Info] GPU programs have been built\n",
      "[LightGBM] [Info] Size of histogram bin entry: 8\n",
      "[LightGBM] [Info] 13 dense feature groups (0.36 MB) transferred to GPU in 0.065360 secs. 1 sparse feature groups\n",
      "[LightGBM] [Info] [binary:BoostFromScore]: pavg=0.335156 -> initscore=-0.684954\n",
      "[LightGBM] [Info] Start training from score -0.684954\n",
      "[CV] END learning_rate=0.001, n_estimators=600, num_leaves=45; total time=   5.3s\n",
      "[LightGBM] [Warning] categorical_feature is set=lang, categorical_column=5 will be ignored. Current value: categorical_feature=lang\n",
      "[LightGBM] [Info] Number of positive: 7905, number of negative: 15681\n",
      "[LightGBM] [Info] This is the GPU trainer!!\n",
      "[LightGBM] [Info] Total Bins 2514\n",
      "[LightGBM] [Info] Number of data points in the train set: 23586, number of used features: 15\n",
      "[LightGBM] [Info] Using GPU Device: Tesla T4, Vendor: NVIDIA Corporation\n",
      "[LightGBM] [Info] Compiling OpenCL Kernel with 256 bins...\n",
      "[LightGBM] [Info] GPU programs have been built\n",
      "[LightGBM] [Info] Size of histogram bin entry: 8\n",
      "[LightGBM] [Info] 13 dense feature groups (0.36 MB) transferred to GPU in 0.001148 secs. 1 sparse feature groups\n",
      "[LightGBM] [Info] [binary:BoostFromScore]: pavg=0.335156 -> initscore=-0.684954\n",
      "[LightGBM] [Info] Start training from score -0.684954\n"
     ]
    },
    {
     "name": "stderr",
     "output_type": "stream",
     "text": [
      "/usr/local/lib/python3.11/dist-packages/lightgbm/basic.py:2118: UserWarning: categorical_feature keyword has been found in `params` and will be ignored.\n",
      "Please use categorical_feature argument of the Dataset constructor to pass this parameter.\n",
      "  _log_warning(\n",
      "/usr/local/lib/python3.11/dist-packages/lightgbm/basic.py:2140: UserWarning: categorical_feature in param dict is overridden.\n",
      "  _log_warning(f\"{cat_alias} in param dict is overridden.\")\n"
     ]
    },
    {
     "name": "stdout",
     "output_type": "stream",
     "text": [
      "[CV] END learning_rate=0.001, n_estimators=600, num_leaves=45; total time=   3.5s\n",
      "[LightGBM] [Warning] categorical_feature is set=lang, categorical_column=5 will be ignored. Current value: categorical_feature=lang\n",
      "[LightGBM] [Info] Number of positive: 7904, number of negative: 15681\n",
      "[LightGBM] [Info] This is the GPU trainer!!\n",
      "[LightGBM] [Info] Total Bins 2510\n",
      "[LightGBM] [Info] Number of data points in the train set: 23585, number of used features: 15\n",
      "[LightGBM] [Info] Using GPU Device: Tesla T4, Vendor: NVIDIA Corporation\n",
      "[LightGBM] [Info] Compiling OpenCL Kernel with 256 bins...\n",
      "[LightGBM] [Info] GPU programs have been built\n",
      "[LightGBM] [Info] Size of histogram bin entry: 8\n",
      "[LightGBM] [Info] 13 dense feature groups (0.36 MB) transferred to GPU in 0.001186 secs. 1 sparse feature groups\n",
      "[LightGBM] [Info] [binary:BoostFromScore]: pavg=0.335128 -> initscore=-0.685081\n",
      "[LightGBM] [Info] Start training from score -0.685081\n"
     ]
    },
    {
     "name": "stderr",
     "output_type": "stream",
     "text": [
      "/usr/local/lib/python3.11/dist-packages/lightgbm/basic.py:2118: UserWarning: categorical_feature keyword has been found in `params` and will be ignored.\n",
      "Please use categorical_feature argument of the Dataset constructor to pass this parameter.\n",
      "  _log_warning(\n",
      "/usr/local/lib/python3.11/dist-packages/lightgbm/basic.py:2140: UserWarning: categorical_feature in param dict is overridden.\n",
      "  _log_warning(f\"{cat_alias} in param dict is overridden.\")\n"
     ]
    },
    {
     "name": "stdout",
     "output_type": "stream",
     "text": [
      "[CV] END learning_rate=0.01, n_estimators=400, num_leaves=15; total time=   1.1s\n",
      "[LightGBM] [Warning] categorical_feature is set=lang, categorical_column=5 will be ignored. Current value: categorical_feature=lang\n",
      "[LightGBM] [Info] Number of positive: 7904, number of negative: 15681\n",
      "[LightGBM] [Info] This is the GPU trainer!!\n",
      "[LightGBM] [Info] Total Bins 2519\n",
      "[LightGBM] [Info] Number of data points in the train set: 23585, number of used features: 15\n",
      "[LightGBM] [Info] Using GPU Device: Tesla T4, Vendor: NVIDIA Corporation\n",
      "[LightGBM] [Info] Compiling OpenCL Kernel with 256 bins...\n",
      "[LightGBM] [Info] GPU programs have been built\n",
      "[LightGBM] [Info] Size of histogram bin entry: 8\n",
      "[LightGBM] [Info] 13 dense feature groups (0.36 MB) transferred to GPU in 0.001380 secs. 1 sparse feature groups\n",
      "[LightGBM] [Info] [binary:BoostFromScore]: pavg=0.335128 -> initscore=-0.685081\n",
      "[LightGBM] [Info] Start training from score -0.685081\n"
     ]
    },
    {
     "name": "stderr",
     "output_type": "stream",
     "text": [
      "/usr/local/lib/python3.11/dist-packages/lightgbm/basic.py:2118: UserWarning: categorical_feature keyword has been found in `params` and will be ignored.\n",
      "Please use categorical_feature argument of the Dataset constructor to pass this parameter.\n",
      "  _log_warning(\n",
      "/usr/local/lib/python3.11/dist-packages/lightgbm/basic.py:2140: UserWarning: categorical_feature in param dict is overridden.\n",
      "  _log_warning(f\"{cat_alias} in param dict is overridden.\")\n"
     ]
    },
    {
     "name": "stdout",
     "output_type": "stream",
     "text": [
      "[CV] END learning_rate=0.01, n_estimators=400, num_leaves=15; total time=   1.1s\n",
      "[LightGBM] [Warning] categorical_feature is set=lang, categorical_column=5 will be ignored. Current value: categorical_feature=lang\n",
      "[LightGBM] [Info] Number of positive: 7904, number of negative: 15681\n",
      "[LightGBM] [Info] This is the GPU trainer!!\n",
      "[LightGBM] [Info] Total Bins 2517\n",
      "[LightGBM] [Info] Number of data points in the train set: 23585, number of used features: 15\n",
      "[LightGBM] [Info] Using GPU Device: Tesla T4, Vendor: NVIDIA Corporation\n",
      "[LightGBM] [Info] Compiling OpenCL Kernel with 256 bins...\n",
      "[LightGBM] [Info] GPU programs have been built\n",
      "[LightGBM] [Info] Size of histogram bin entry: 8\n",
      "[LightGBM] [Info] 13 dense feature groups (0.36 MB) transferred to GPU in 0.001216 secs. 1 sparse feature groups\n",
      "[LightGBM] [Info] [binary:BoostFromScore]: pavg=0.335128 -> initscore=-0.685081\n",
      "[LightGBM] [Info] Start training from score -0.685081\n"
     ]
    },
    {
     "name": "stderr",
     "output_type": "stream",
     "text": [
      "/usr/local/lib/python3.11/dist-packages/lightgbm/basic.py:2118: UserWarning: categorical_feature keyword has been found in `params` and will be ignored.\n",
      "Please use categorical_feature argument of the Dataset constructor to pass this parameter.\n",
      "  _log_warning(\n",
      "/usr/local/lib/python3.11/dist-packages/lightgbm/basic.py:2140: UserWarning: categorical_feature in param dict is overridden.\n",
      "  _log_warning(f\"{cat_alias} in param dict is overridden.\")\n"
     ]
    },
    {
     "name": "stdout",
     "output_type": "stream",
     "text": [
      "[CV] END learning_rate=0.01, n_estimators=400, num_leaves=15; total time=   1.1s\n",
      "[LightGBM] [Warning] categorical_feature is set=lang, categorical_column=5 will be ignored. Current value: categorical_feature=lang\n",
      "[LightGBM] [Info] Number of positive: 7905, number of negative: 15680\n",
      "[LightGBM] [Info] This is the GPU trainer!!\n",
      "[LightGBM] [Info] Total Bins 2512\n",
      "[LightGBM] [Info] Number of data points in the train set: 23585, number of used features: 15\n",
      "[LightGBM] [Info] Using GPU Device: Tesla T4, Vendor: NVIDIA Corporation\n",
      "[LightGBM] [Info] Compiling OpenCL Kernel with 256 bins...\n",
      "[LightGBM] [Info] GPU programs have been built\n",
      "[LightGBM] [Info] Size of histogram bin entry: 8\n",
      "[LightGBM] [Info] 13 dense feature groups (0.36 MB) transferred to GPU in 0.001201 secs. 1 sparse feature groups\n",
      "[LightGBM] [Info] [binary:BoostFromScore]: pavg=0.335171 -> initscore=-0.684891\n",
      "[LightGBM] [Info] Start training from score -0.684891\n"
     ]
    },
    {
     "name": "stderr",
     "output_type": "stream",
     "text": [
      "/usr/local/lib/python3.11/dist-packages/lightgbm/basic.py:2118: UserWarning: categorical_feature keyword has been found in `params` and will be ignored.\n",
      "Please use categorical_feature argument of the Dataset constructor to pass this parameter.\n",
      "  _log_warning(\n",
      "/usr/local/lib/python3.11/dist-packages/lightgbm/basic.py:2140: UserWarning: categorical_feature in param dict is overridden.\n",
      "  _log_warning(f\"{cat_alias} in param dict is overridden.\")\n"
     ]
    },
    {
     "name": "stdout",
     "output_type": "stream",
     "text": [
      "[CV] END learning_rate=0.01, n_estimators=400, num_leaves=15; total time=   1.1s\n",
      "[LightGBM] [Warning] categorical_feature is set=lang, categorical_column=5 will be ignored. Current value: categorical_feature=lang\n",
      "[LightGBM] [Info] Number of positive: 7905, number of negative: 15680\n",
      "[LightGBM] [Info] This is the GPU trainer!!\n",
      "[LightGBM] [Info] Total Bins 2523\n",
      "[LightGBM] [Info] Number of data points in the train set: 23585, number of used features: 15\n",
      "[LightGBM] [Info] Using GPU Device: Tesla T4, Vendor: NVIDIA Corporation\n",
      "[LightGBM] [Info] Compiling OpenCL Kernel with 256 bins...\n",
      "[LightGBM] [Info] GPU programs have been built\n",
      "[LightGBM] [Info] Size of histogram bin entry: 8\n",
      "[LightGBM] [Info] 13 dense feature groups (0.36 MB) transferred to GPU in 0.001189 secs. 1 sparse feature groups\n",
      "[LightGBM] [Info] [binary:BoostFromScore]: pavg=0.335171 -> initscore=-0.684891\n",
      "[LightGBM] [Info] Start training from score -0.684891\n"
     ]
    },
    {
     "name": "stderr",
     "output_type": "stream",
     "text": [
      "/usr/local/lib/python3.11/dist-packages/lightgbm/basic.py:2118: UserWarning: categorical_feature keyword has been found in `params` and will be ignored.\n",
      "Please use categorical_feature argument of the Dataset constructor to pass this parameter.\n",
      "  _log_warning(\n",
      "/usr/local/lib/python3.11/dist-packages/lightgbm/basic.py:2140: UserWarning: categorical_feature in param dict is overridden.\n",
      "  _log_warning(f\"{cat_alias} in param dict is overridden.\")\n"
     ]
    },
    {
     "name": "stdout",
     "output_type": "stream",
     "text": [
      "[CV] END learning_rate=0.01, n_estimators=400, num_leaves=15; total time=   3.3s\n",
      "[LightGBM] [Warning] categorical_feature is set=lang, categorical_column=5 will be ignored. Current value: categorical_feature=lang\n",
      "[LightGBM] [Info] Number of positive: 7905, number of negative: 15680\n",
      "[LightGBM] [Info] This is the GPU trainer!!\n",
      "[LightGBM] [Info] Total Bins 2517\n",
      "[LightGBM] [Info] Number of data points in the train set: 23585, number of used features: 15\n",
      "[LightGBM] [Info] Using GPU Device: Tesla T4, Vendor: NVIDIA Corporation\n",
      "[LightGBM] [Info] Compiling OpenCL Kernel with 256 bins...\n",
      "[LightGBM] [Info] GPU programs have been built\n",
      "[LightGBM] [Info] Size of histogram bin entry: 8\n",
      "[LightGBM] [Info] 13 dense feature groups (0.36 MB) transferred to GPU in 0.001162 secs. 1 sparse feature groups\n",
      "[LightGBM] [Info] [binary:BoostFromScore]: pavg=0.335171 -> initscore=-0.684891\n",
      "[LightGBM] [Info] Start training from score -0.684891\n"
     ]
    },
    {
     "name": "stderr",
     "output_type": "stream",
     "text": [
      "/usr/local/lib/python3.11/dist-packages/lightgbm/basic.py:2118: UserWarning: categorical_feature keyword has been found in `params` and will be ignored.\n",
      "Please use categorical_feature argument of the Dataset constructor to pass this parameter.\n",
      "  _log_warning(\n",
      "/usr/local/lib/python3.11/dist-packages/lightgbm/basic.py:2140: UserWarning: categorical_feature in param dict is overridden.\n",
      "  _log_warning(f\"{cat_alias} in param dict is overridden.\")\n"
     ]
    },
    {
     "name": "stdout",
     "output_type": "stream",
     "text": [
      "[CV] END learning_rate=0.01, n_estimators=400, num_leaves=15; total time=   1.1s\n",
      "[LightGBM] [Warning] categorical_feature is set=lang, categorical_column=5 will be ignored. Current value: categorical_feature=lang\n",
      "[LightGBM] [Info] Number of positive: 7905, number of negative: 15681\n",
      "[LightGBM] [Info] This is the GPU trainer!!\n",
      "[LightGBM] [Info] Total Bins 2514\n",
      "[LightGBM] [Info] Number of data points in the train set: 23586, number of used features: 15\n",
      "[LightGBM] [Info] Using GPU Device: Tesla T4, Vendor: NVIDIA Corporation\n",
      "[LightGBM] [Info] Compiling OpenCL Kernel with 256 bins...\n",
      "[LightGBM] [Info] GPU programs have been built\n",
      "[LightGBM] [Info] Size of histogram bin entry: 8\n",
      "[LightGBM] [Info] 13 dense feature groups (0.36 MB) transferred to GPU in 0.003200 secs. 1 sparse feature groups\n",
      "[LightGBM] [Info] [binary:BoostFromScore]: pavg=0.335156 -> initscore=-0.684954\n",
      "[LightGBM] [Info] Start training from score -0.684954\n"
     ]
    },
    {
     "name": "stderr",
     "output_type": "stream",
     "text": [
      "/usr/local/lib/python3.11/dist-packages/lightgbm/basic.py:2118: UserWarning: categorical_feature keyword has been found in `params` and will be ignored.\n",
      "Please use categorical_feature argument of the Dataset constructor to pass this parameter.\n",
      "  _log_warning(\n",
      "/usr/local/lib/python3.11/dist-packages/lightgbm/basic.py:2140: UserWarning: categorical_feature in param dict is overridden.\n",
      "  _log_warning(f\"{cat_alias} in param dict is overridden.\")\n"
     ]
    },
    {
     "name": "stdout",
     "output_type": "stream",
     "text": [
      "[CV] END learning_rate=0.01, n_estimators=400, num_leaves=15; total time=   1.1s\n",
      "[LightGBM] [Warning] categorical_feature is set=lang, categorical_column=5 will be ignored. Current value: categorical_feature=lang\n",
      "[LightGBM] [Info] Number of positive: 7905, number of negative: 15681\n",
      "[LightGBM] [Info] This is the GPU trainer!!\n",
      "[LightGBM] [Info] Total Bins 2518\n",
      "[LightGBM] [Info] Number of data points in the train set: 23586, number of used features: 15\n",
      "[LightGBM] [Info] Using GPU Device: Tesla T4, Vendor: NVIDIA Corporation\n",
      "[LightGBM] [Info] Compiling OpenCL Kernel with 256 bins...\n",
      "[LightGBM] [Info] GPU programs have been built\n",
      "[LightGBM] [Info] Size of histogram bin entry: 8\n",
      "[LightGBM] [Info] 13 dense feature groups (0.36 MB) transferred to GPU in 0.001226 secs. 1 sparse feature groups\n",
      "[LightGBM] [Info] [binary:BoostFromScore]: pavg=0.335156 -> initscore=-0.684954\n",
      "[LightGBM] [Info] Start training from score -0.684954\n"
     ]
    },
    {
     "name": "stderr",
     "output_type": "stream",
     "text": [
      "/usr/local/lib/python3.11/dist-packages/lightgbm/basic.py:2118: UserWarning: categorical_feature keyword has been found in `params` and will be ignored.\n",
      "Please use categorical_feature argument of the Dataset constructor to pass this parameter.\n",
      "  _log_warning(\n",
      "/usr/local/lib/python3.11/dist-packages/lightgbm/basic.py:2140: UserWarning: categorical_feature in param dict is overridden.\n",
      "  _log_warning(f\"{cat_alias} in param dict is overridden.\")\n"
     ]
    },
    {
     "name": "stdout",
     "output_type": "stream",
     "text": [
      "[CV] END learning_rate=0.01, n_estimators=400, num_leaves=15; total time=   1.1s\n",
      "[LightGBM] [Warning] categorical_feature is set=lang, categorical_column=5 will be ignored. Current value: categorical_feature=lang\n",
      "[LightGBM] [Info] Number of positive: 7905, number of negative: 15681\n",
      "[LightGBM] [Info] This is the GPU trainer!!\n",
      "[LightGBM] [Info] Total Bins 2518\n",
      "[LightGBM] [Info] Number of data points in the train set: 23586, number of used features: 15\n",
      "[LightGBM] [Info] Using GPU Device: Tesla T4, Vendor: NVIDIA Corporation\n",
      "[LightGBM] [Info] Compiling OpenCL Kernel with 256 bins...\n",
      "[LightGBM] [Info] GPU programs have been built\n",
      "[LightGBM] [Info] Size of histogram bin entry: 8\n",
      "[LightGBM] [Info] 13 dense feature groups (0.36 MB) transferred to GPU in 0.001190 secs. 1 sparse feature groups\n",
      "[LightGBM] [Info] [binary:BoostFromScore]: pavg=0.335156 -> initscore=-0.684954\n",
      "[LightGBM] [Info] Start training from score -0.684954\n"
     ]
    },
    {
     "name": "stderr",
     "output_type": "stream",
     "text": [
      "/usr/local/lib/python3.11/dist-packages/lightgbm/basic.py:2118: UserWarning: categorical_feature keyword has been found in `params` and will be ignored.\n",
      "Please use categorical_feature argument of the Dataset constructor to pass this parameter.\n",
      "  _log_warning(\n",
      "/usr/local/lib/python3.11/dist-packages/lightgbm/basic.py:2140: UserWarning: categorical_feature in param dict is overridden.\n",
      "  _log_warning(f\"{cat_alias} in param dict is overridden.\")\n"
     ]
    },
    {
     "name": "stdout",
     "output_type": "stream",
     "text": [
      "[CV] END learning_rate=0.01, n_estimators=400, num_leaves=15; total time=   1.1s\n",
      "[LightGBM] [Warning] categorical_feature is set=lang, categorical_column=5 will be ignored. Current value: categorical_feature=lang\n",
      "[LightGBM] [Info] Number of positive: 7905, number of negative: 15681\n",
      "[LightGBM] [Info] This is the GPU trainer!!\n",
      "[LightGBM] [Info] Total Bins 2514\n",
      "[LightGBM] [Info] Number of data points in the train set: 23586, number of used features: 15\n",
      "[LightGBM] [Info] Using GPU Device: Tesla T4, Vendor: NVIDIA Corporation\n",
      "[LightGBM] [Info] Compiling OpenCL Kernel with 256 bins...\n",
      "[LightGBM] [Info] GPU programs have been built\n",
      "[LightGBM] [Info] Size of histogram bin entry: 8\n",
      "[LightGBM] [Info] 13 dense feature groups (0.36 MB) transferred to GPU in 0.001415 secs. 1 sparse feature groups\n",
      "[LightGBM] [Info] [binary:BoostFromScore]: pavg=0.335156 -> initscore=-0.684954\n",
      "[LightGBM] [Info] Start training from score -0.684954\n"
     ]
    },
    {
     "name": "stderr",
     "output_type": "stream",
     "text": [
      "/usr/local/lib/python3.11/dist-packages/lightgbm/basic.py:2118: UserWarning: categorical_feature keyword has been found in `params` and will be ignored.\n",
      "Please use categorical_feature argument of the Dataset constructor to pass this parameter.\n",
      "  _log_warning(\n",
      "/usr/local/lib/python3.11/dist-packages/lightgbm/basic.py:2140: UserWarning: categorical_feature in param dict is overridden.\n",
      "  _log_warning(f\"{cat_alias} in param dict is overridden.\")\n"
     ]
    },
    {
     "name": "stdout",
     "output_type": "stream",
     "text": [
      "[CV] END learning_rate=0.01, n_estimators=400, num_leaves=15; total time=   1.1s\n",
      "[LightGBM] [Warning] categorical_feature is set=lang, categorical_column=5 will be ignored. Current value: categorical_feature=lang\n",
      "[LightGBM] [Info] Number of positive: 7904, number of negative: 15681\n",
      "[LightGBM] [Info] This is the GPU trainer!!\n",
      "[LightGBM] [Info] Total Bins 2510\n",
      "[LightGBM] [Info] Number of data points in the train set: 23585, number of used features: 15\n",
      "[LightGBM] [Info] Using GPU Device: Tesla T4, Vendor: NVIDIA Corporation\n",
      "[LightGBM] [Info] Compiling OpenCL Kernel with 256 bins...\n",
      "[LightGBM] [Info] GPU programs have been built\n",
      "[LightGBM] [Info] Size of histogram bin entry: 8\n",
      "[LightGBM] [Info] 13 dense feature groups (0.36 MB) transferred to GPU in 0.001139 secs. 1 sparse feature groups\n",
      "[LightGBM] [Info] [binary:BoostFromScore]: pavg=0.335128 -> initscore=-0.685081\n",
      "[LightGBM] [Info] Start training from score -0.685081\n"
     ]
    },
    {
     "name": "stderr",
     "output_type": "stream",
     "text": [
      "/usr/local/lib/python3.11/dist-packages/lightgbm/basic.py:2118: UserWarning: categorical_feature keyword has been found in `params` and will be ignored.\n",
      "Please use categorical_feature argument of the Dataset constructor to pass this parameter.\n",
      "  _log_warning(\n",
      "/usr/local/lib/python3.11/dist-packages/lightgbm/basic.py:2140: UserWarning: categorical_feature in param dict is overridden.\n",
      "  _log_warning(f\"{cat_alias} in param dict is overridden.\")\n"
     ]
    },
    {
     "name": "stdout",
     "output_type": "stream",
     "text": [
      "[CV] END learning_rate=0.01, n_estimators=400, num_leaves=30; total time=   1.7s\n",
      "[LightGBM] [Warning] categorical_feature is set=lang, categorical_column=5 will be ignored. Current value: categorical_feature=lang\n",
      "[LightGBM] [Info] Number of positive: 7904, number of negative: 15681\n",
      "[LightGBM] [Info] This is the GPU trainer!!\n",
      "[LightGBM] [Info] Total Bins 2519\n",
      "[LightGBM] [Info] Number of data points in the train set: 23585, number of used features: 15\n",
      "[LightGBM] [Info] Using GPU Device: Tesla T4, Vendor: NVIDIA Corporation\n",
      "[LightGBM] [Info] Compiling OpenCL Kernel with 256 bins...\n",
      "[LightGBM] [Info] GPU programs have been built\n",
      "[LightGBM] [Info] Size of histogram bin entry: 8\n",
      "[LightGBM] [Info] 13 dense feature groups (0.36 MB) transferred to GPU in 0.001195 secs. 1 sparse feature groups\n",
      "[LightGBM] [Info] [binary:BoostFromScore]: pavg=0.335128 -> initscore=-0.685081\n",
      "[LightGBM] [Info] Start training from score -0.685081\n"
     ]
    },
    {
     "name": "stderr",
     "output_type": "stream",
     "text": [
      "/usr/local/lib/python3.11/dist-packages/lightgbm/basic.py:2118: UserWarning: categorical_feature keyword has been found in `params` and will be ignored.\n",
      "Please use categorical_feature argument of the Dataset constructor to pass this parameter.\n",
      "  _log_warning(\n",
      "/usr/local/lib/python3.11/dist-packages/lightgbm/basic.py:2140: UserWarning: categorical_feature in param dict is overridden.\n",
      "  _log_warning(f\"{cat_alias} in param dict is overridden.\")\n"
     ]
    },
    {
     "name": "stdout",
     "output_type": "stream",
     "text": [
      "[CV] END learning_rate=0.01, n_estimators=400, num_leaves=30; total time=   1.7s\n",
      "[LightGBM] [Warning] categorical_feature is set=lang, categorical_column=5 will be ignored. Current value: categorical_feature=lang\n",
      "[LightGBM] [Info] Number of positive: 7904, number of negative: 15681\n",
      "[LightGBM] [Info] This is the GPU trainer!!\n",
      "[LightGBM] [Info] Total Bins 2517\n",
      "[LightGBM] [Info] Number of data points in the train set: 23585, number of used features: 15\n",
      "[LightGBM] [Info] Using GPU Device: Tesla T4, Vendor: NVIDIA Corporation\n",
      "[LightGBM] [Info] Compiling OpenCL Kernel with 256 bins...\n",
      "[LightGBM] [Info] GPU programs have been built\n",
      "[LightGBM] [Info] Size of histogram bin entry: 8\n",
      "[LightGBM] [Info] 13 dense feature groups (0.36 MB) transferred to GPU in 0.001139 secs. 1 sparse feature groups\n",
      "[LightGBM] [Info] [binary:BoostFromScore]: pavg=0.335128 -> initscore=-0.685081\n",
      "[LightGBM] [Info] Start training from score -0.685081\n"
     ]
    },
    {
     "name": "stderr",
     "output_type": "stream",
     "text": [
      "/usr/local/lib/python3.11/dist-packages/lightgbm/basic.py:2118: UserWarning: categorical_feature keyword has been found in `params` and will be ignored.\n",
      "Please use categorical_feature argument of the Dataset constructor to pass this parameter.\n",
      "  _log_warning(\n",
      "/usr/local/lib/python3.11/dist-packages/lightgbm/basic.py:2140: UserWarning: categorical_feature in param dict is overridden.\n",
      "  _log_warning(f\"{cat_alias} in param dict is overridden.\")\n"
     ]
    },
    {
     "name": "stdout",
     "output_type": "stream",
     "text": [
      "[CV] END learning_rate=0.01, n_estimators=400, num_leaves=30; total time=   2.9s\n",
      "[LightGBM] [Warning] categorical_feature is set=lang, categorical_column=5 will be ignored. Current value: categorical_feature=lang\n",
      "[LightGBM] [Info] Number of positive: 7905, number of negative: 15680\n",
      "[LightGBM] [Info] This is the GPU trainer!!\n",
      "[LightGBM] [Info] Total Bins 2512\n",
      "[LightGBM] [Info] Number of data points in the train set: 23585, number of used features: 15\n"
     ]
    },
    {
     "name": "stderr",
     "output_type": "stream",
     "text": [
      "/usr/local/lib/python3.11/dist-packages/lightgbm/basic.py:2118: UserWarning: categorical_feature keyword has been found in `params` and will be ignored.\n",
      "Please use categorical_feature argument of the Dataset constructor to pass this parameter.\n",
      "  _log_warning(\n",
      "/usr/local/lib/python3.11/dist-packages/lightgbm/basic.py:2140: UserWarning: categorical_feature in param dict is overridden.\n",
      "  _log_warning(f\"{cat_alias} in param dict is overridden.\")\n"
     ]
    },
    {
     "name": "stdout",
     "output_type": "stream",
     "text": [
      "[LightGBM] [Info] Using GPU Device: Tesla T4, Vendor: NVIDIA Corporation\n",
      "[LightGBM] [Info] Compiling OpenCL Kernel with 256 bins...\n",
      "[LightGBM] [Info] GPU programs have been built\n",
      "[LightGBM] [Info] Size of histogram bin entry: 8\n",
      "[LightGBM] [Info] 13 dense feature groups (0.36 MB) transferred to GPU in 0.074136 secs. 1 sparse feature groups\n",
      "[LightGBM] [Info] [binary:BoostFromScore]: pavg=0.335171 -> initscore=-0.684891\n",
      "[LightGBM] [Info] Start training from score -0.684891\n",
      "[CV] END learning_rate=0.01, n_estimators=400, num_leaves=30; total time=   2.9s\n",
      "[LightGBM] [Warning] categorical_feature is set=lang, categorical_column=5 will be ignored. Current value: categorical_feature=lang\n",
      "[LightGBM] [Info] Number of positive: 7905, number of negative: 15680\n",
      "[LightGBM] [Info] This is the GPU trainer!!\n",
      "[LightGBM] [Info] Total Bins 2523\n",
      "[LightGBM] [Info] Number of data points in the train set: 23585, number of used features: 15\n",
      "[LightGBM] [Info] Using GPU Device: Tesla T4, Vendor: NVIDIA Corporation\n",
      "[LightGBM] [Info] Compiling OpenCL Kernel with 256 bins...\n",
      "[LightGBM] [Info] GPU programs have been built\n",
      "[LightGBM] [Info] Size of histogram bin entry: 8\n",
      "[LightGBM] [Info] 13 dense feature groups (0.36 MB) transferred to GPU in 0.001204 secs. 1 sparse feature groups\n",
      "[LightGBM] [Info] [binary:BoostFromScore]: pavg=0.335171 -> initscore=-0.684891\n",
      "[LightGBM] [Info] Start training from score -0.684891\n"
     ]
    },
    {
     "name": "stderr",
     "output_type": "stream",
     "text": [
      "/usr/local/lib/python3.11/dist-packages/lightgbm/basic.py:2118: UserWarning: categorical_feature keyword has been found in `params` and will be ignored.\n",
      "Please use categorical_feature argument of the Dataset constructor to pass this parameter.\n",
      "  _log_warning(\n",
      "/usr/local/lib/python3.11/dist-packages/lightgbm/basic.py:2140: UserWarning: categorical_feature in param dict is overridden.\n",
      "  _log_warning(f\"{cat_alias} in param dict is overridden.\")\n"
     ]
    },
    {
     "name": "stdout",
     "output_type": "stream",
     "text": [
      "[CV] END learning_rate=0.01, n_estimators=400, num_leaves=30; total time=   1.7s\n",
      "[LightGBM] [Warning] categorical_feature is set=lang, categorical_column=5 will be ignored. Current value: categorical_feature=lang\n",
      "[LightGBM] [Info] Number of positive: 7905, number of negative: 15680\n",
      "[LightGBM] [Info] This is the GPU trainer!!\n",
      "[LightGBM] [Info] Total Bins 2517\n",
      "[LightGBM] [Info] Number of data points in the train set: 23585, number of used features: 15\n",
      "[LightGBM] [Info] Using GPU Device: Tesla T4, Vendor: NVIDIA Corporation\n",
      "[LightGBM] [Info] Compiling OpenCL Kernel with 256 bins...\n",
      "[LightGBM] [Info] GPU programs have been built\n",
      "[LightGBM] [Info] Size of histogram bin entry: 8\n",
      "[LightGBM] [Info] 13 dense feature groups (0.36 MB) transferred to GPU in 0.001180 secs. 1 sparse feature groups\n",
      "[LightGBM] [Info] [binary:BoostFromScore]: pavg=0.335171 -> initscore=-0.684891\n",
      "[LightGBM] [Info] Start training from score -0.684891\n"
     ]
    },
    {
     "name": "stderr",
     "output_type": "stream",
     "text": [
      "/usr/local/lib/python3.11/dist-packages/lightgbm/basic.py:2118: UserWarning: categorical_feature keyword has been found in `params` and will be ignored.\n",
      "Please use categorical_feature argument of the Dataset constructor to pass this parameter.\n",
      "  _log_warning(\n",
      "/usr/local/lib/python3.11/dist-packages/lightgbm/basic.py:2140: UserWarning: categorical_feature in param dict is overridden.\n",
      "  _log_warning(f\"{cat_alias} in param dict is overridden.\")\n"
     ]
    },
    {
     "name": "stdout",
     "output_type": "stream",
     "text": [
      "[CV] END learning_rate=0.01, n_estimators=400, num_leaves=30; total time=   1.7s\n",
      "[LightGBM] [Warning] categorical_feature is set=lang, categorical_column=5 will be ignored. Current value: categorical_feature=lang\n",
      "[LightGBM] [Info] Number of positive: 7905, number of negative: 15681\n",
      "[LightGBM] [Info] This is the GPU trainer!!\n",
      "[LightGBM] [Info] Total Bins 2514\n",
      "[LightGBM] [Info] Number of data points in the train set: 23586, number of used features: 15\n",
      "[LightGBM] [Info] Using GPU Device: Tesla T4, Vendor: NVIDIA Corporation\n",
      "[LightGBM] [Info] Compiling OpenCL Kernel with 256 bins...\n",
      "[LightGBM] [Info] GPU programs have been built\n",
      "[LightGBM] [Info] Size of histogram bin entry: 8\n",
      "[LightGBM] [Info] 13 dense feature groups (0.36 MB) transferred to GPU in 0.001171 secs. 1 sparse feature groups\n",
      "[LightGBM] [Info] [binary:BoostFromScore]: pavg=0.335156 -> initscore=-0.684954\n",
      "[LightGBM] [Info] Start training from score -0.684954\n"
     ]
    },
    {
     "name": "stderr",
     "output_type": "stream",
     "text": [
      "/usr/local/lib/python3.11/dist-packages/lightgbm/basic.py:2118: UserWarning: categorical_feature keyword has been found in `params` and will be ignored.\n",
      "Please use categorical_feature argument of the Dataset constructor to pass this parameter.\n",
      "  _log_warning(\n",
      "/usr/local/lib/python3.11/dist-packages/lightgbm/basic.py:2140: UserWarning: categorical_feature in param dict is overridden.\n",
      "  _log_warning(f\"{cat_alias} in param dict is overridden.\")\n"
     ]
    },
    {
     "name": "stdout",
     "output_type": "stream",
     "text": [
      "[CV] END learning_rate=0.01, n_estimators=400, num_leaves=30; total time=   1.8s\n",
      "[LightGBM] [Warning] categorical_feature is set=lang, categorical_column=5 will be ignored. Current value: categorical_feature=lang\n",
      "[LightGBM] [Info] Number of positive: 7905, number of negative: 15681\n",
      "[LightGBM] [Info] This is the GPU trainer!!\n",
      "[LightGBM] [Info] Total Bins 2518\n",
      "[LightGBM] [Info] Number of data points in the train set: 23586, number of used features: 15\n",
      "[LightGBM] [Info] Using GPU Device: Tesla T4, Vendor: NVIDIA Corporation\n",
      "[LightGBM] [Info] Compiling OpenCL Kernel with 256 bins...\n",
      "[LightGBM] [Info] GPU programs have been built\n",
      "[LightGBM] [Info] Size of histogram bin entry: 8\n",
      "[LightGBM] [Info] 13 dense feature groups (0.36 MB) transferred to GPU in 0.001176 secs. 1 sparse feature groups\n",
      "[LightGBM] [Info] [binary:BoostFromScore]: pavg=0.335156 -> initscore=-0.684954\n",
      "[LightGBM] [Info] Start training from score -0.684954\n"
     ]
    },
    {
     "name": "stderr",
     "output_type": "stream",
     "text": [
      "/usr/local/lib/python3.11/dist-packages/lightgbm/basic.py:2118: UserWarning: categorical_feature keyword has been found in `params` and will be ignored.\n",
      "Please use categorical_feature argument of the Dataset constructor to pass this parameter.\n",
      "  _log_warning(\n",
      "/usr/local/lib/python3.11/dist-packages/lightgbm/basic.py:2140: UserWarning: categorical_feature in param dict is overridden.\n",
      "  _log_warning(f\"{cat_alias} in param dict is overridden.\")\n"
     ]
    },
    {
     "name": "stdout",
     "output_type": "stream",
     "text": [
      "[CV] END learning_rate=0.01, n_estimators=400, num_leaves=30; total time=   1.7s\n",
      "[LightGBM] [Warning] categorical_feature is set=lang, categorical_column=5 will be ignored. Current value: categorical_feature=lang\n",
      "[LightGBM] [Info] Number of positive: 7905, number of negative: 15681\n",
      "[LightGBM] [Info] This is the GPU trainer!!\n",
      "[LightGBM] [Info] Total Bins 2518\n",
      "[LightGBM] [Info] Number of data points in the train set: 23586, number of used features: 15\n",
      "[LightGBM] [Info] Using GPU Device: Tesla T4, Vendor: NVIDIA Corporation\n",
      "[LightGBM] [Info] Compiling OpenCL Kernel with 256 bins...\n",
      "[LightGBM] [Info] GPU programs have been built\n",
      "[LightGBM] [Info] Size of histogram bin entry: 8\n",
      "[LightGBM] [Info] 13 dense feature groups (0.36 MB) transferred to GPU in 0.001261 secs. 1 sparse feature groups\n",
      "[LightGBM] [Info] [binary:BoostFromScore]: pavg=0.335156 -> initscore=-0.684954\n",
      "[LightGBM] [Info] Start training from score -0.684954\n"
     ]
    },
    {
     "name": "stderr",
     "output_type": "stream",
     "text": [
      "/usr/local/lib/python3.11/dist-packages/lightgbm/basic.py:2118: UserWarning: categorical_feature keyword has been found in `params` and will be ignored.\n",
      "Please use categorical_feature argument of the Dataset constructor to pass this parameter.\n",
      "  _log_warning(\n",
      "/usr/local/lib/python3.11/dist-packages/lightgbm/basic.py:2140: UserWarning: categorical_feature in param dict is overridden.\n",
      "  _log_warning(f\"{cat_alias} in param dict is overridden.\")\n"
     ]
    },
    {
     "name": "stdout",
     "output_type": "stream",
     "text": [
      "[CV] END learning_rate=0.01, n_estimators=400, num_leaves=30; total time=   1.7s\n",
      "[LightGBM] [Warning] categorical_feature is set=lang, categorical_column=5 will be ignored. Current value: categorical_feature=lang\n",
      "[LightGBM] [Info] Number of positive: 7905, number of negative: 15681\n",
      "[LightGBM] [Info] This is the GPU trainer!!\n",
      "[LightGBM] [Info] Total Bins 2514\n",
      "[LightGBM] [Info] Number of data points in the train set: 23586, number of used features: 15\n",
      "[LightGBM] [Info] Using GPU Device: Tesla T4, Vendor: NVIDIA Corporation\n",
      "[LightGBM] [Info] Compiling OpenCL Kernel with 256 bins...\n",
      "[LightGBM] [Info] GPU programs have been built\n",
      "[LightGBM] [Info] Size of histogram bin entry: 8\n",
      "[LightGBM] [Info] 13 dense feature groups (0.36 MB) transferred to GPU in 0.001169 secs. 1 sparse feature groups\n",
      "[LightGBM] [Info] [binary:BoostFromScore]: pavg=0.335156 -> initscore=-0.684954\n",
      "[LightGBM] [Info] Start training from score -0.684954\n"
     ]
    },
    {
     "name": "stderr",
     "output_type": "stream",
     "text": [
      "/usr/local/lib/python3.11/dist-packages/lightgbm/basic.py:2118: UserWarning: categorical_feature keyword has been found in `params` and will be ignored.\n",
      "Please use categorical_feature argument of the Dataset constructor to pass this parameter.\n",
      "  _log_warning(\n",
      "/usr/local/lib/python3.11/dist-packages/lightgbm/basic.py:2140: UserWarning: categorical_feature in param dict is overridden.\n",
      "  _log_warning(f\"{cat_alias} in param dict is overridden.\")\n"
     ]
    },
    {
     "name": "stdout",
     "output_type": "stream",
     "text": [
      "[CV] END learning_rate=0.01, n_estimators=400, num_leaves=30; total time=   3.9s\n",
      "[LightGBM] [Warning] categorical_feature is set=lang, categorical_column=5 will be ignored. Current value: categorical_feature=lang\n",
      "[LightGBM] [Info] Number of positive: 7904, number of negative: 15681\n",
      "[LightGBM] [Info] This is the GPU trainer!!\n",
      "[LightGBM] [Info] Total Bins 2510\n",
      "[LightGBM] [Info] Number of data points in the train set: 23585, number of used features: 15\n"
     ]
    },
    {
     "name": "stderr",
     "output_type": "stream",
     "text": [
      "/usr/local/lib/python3.11/dist-packages/lightgbm/basic.py:2118: UserWarning: categorical_feature keyword has been found in `params` and will be ignored.\n",
      "Please use categorical_feature argument of the Dataset constructor to pass this parameter.\n",
      "  _log_warning(\n",
      "/usr/local/lib/python3.11/dist-packages/lightgbm/basic.py:2140: UserWarning: categorical_feature in param dict is overridden.\n",
      "  _log_warning(f\"{cat_alias} in param dict is overridden.\")\n"
     ]
    },
    {
     "name": "stdout",
     "output_type": "stream",
     "text": [
      "[LightGBM] [Info] Using GPU Device: Tesla T4, Vendor: NVIDIA Corporation\n",
      "[LightGBM] [Info] Compiling OpenCL Kernel with 256 bins...\n",
      "[LightGBM] [Info] GPU programs have been built\n",
      "[LightGBM] [Info] Size of histogram bin entry: 8\n",
      "[LightGBM] [Info] 13 dense feature groups (0.36 MB) transferred to GPU in 0.001262 secs. 1 sparse feature groups\n",
      "[LightGBM] [Info] [binary:BoostFromScore]: pavg=0.335128 -> initscore=-0.685081\n",
      "[LightGBM] [Info] Start training from score -0.685081\n",
      "[CV] END learning_rate=0.01, n_estimators=400, num_leaves=45; total time=   2.5s\n",
      "[LightGBM] [Warning] categorical_feature is set=lang, categorical_column=5 will be ignored. Current value: categorical_feature=lang\n",
      "[LightGBM] [Info] Number of positive: 7904, number of negative: 15681\n",
      "[LightGBM] [Info] This is the GPU trainer!!\n",
      "[LightGBM] [Info] Total Bins 2519\n",
      "[LightGBM] [Info] Number of data points in the train set: 23585, number of used features: 15\n",
      "[LightGBM] [Info] Using GPU Device: Tesla T4, Vendor: NVIDIA Corporation\n",
      "[LightGBM] [Info] Compiling OpenCL Kernel with 256 bins...\n",
      "[LightGBM] [Info] GPU programs have been built\n",
      "[LightGBM] [Info] Size of histogram bin entry: 8\n",
      "[LightGBM] [Info] 13 dense feature groups (0.36 MB) transferred to GPU in 0.001222 secs. 1 sparse feature groups\n",
      "[LightGBM] [Info] [binary:BoostFromScore]: pavg=0.335128 -> initscore=-0.685081\n",
      "[LightGBM] [Info] Start training from score -0.685081\n"
     ]
    },
    {
     "name": "stderr",
     "output_type": "stream",
     "text": [
      "/usr/local/lib/python3.11/dist-packages/lightgbm/basic.py:2118: UserWarning: categorical_feature keyword has been found in `params` and will be ignored.\n",
      "Please use categorical_feature argument of the Dataset constructor to pass this parameter.\n",
      "  _log_warning(\n",
      "/usr/local/lib/python3.11/dist-packages/lightgbm/basic.py:2140: UserWarning: categorical_feature in param dict is overridden.\n",
      "  _log_warning(f\"{cat_alias} in param dict is overridden.\")\n"
     ]
    },
    {
     "name": "stdout",
     "output_type": "stream",
     "text": [
      "[CV] END learning_rate=0.01, n_estimators=400, num_leaves=45; total time=   2.4s\n",
      "[LightGBM] [Warning] categorical_feature is set=lang, categorical_column=5 will be ignored. Current value: categorical_feature=lang\n",
      "[LightGBM] [Info] Number of positive: 7904, number of negative: 15681\n",
      "[LightGBM] [Info] This is the GPU trainer!!\n",
      "[LightGBM] [Info] Total Bins 2517\n",
      "[LightGBM] [Info] Number of data points in the train set: 23585, number of used features: 15\n",
      "[LightGBM] [Info] Using GPU Device: Tesla T4, Vendor: NVIDIA Corporation\n",
      "[LightGBM] [Info] Compiling OpenCL Kernel with 256 bins...\n",
      "[LightGBM] [Info] GPU programs have been built\n",
      "[LightGBM] [Info] Size of histogram bin entry: 8\n",
      "[LightGBM] [Info] 13 dense feature groups (0.36 MB) transferred to GPU in 0.001225 secs. 1 sparse feature groups\n",
      "[LightGBM] [Info] [binary:BoostFromScore]: pavg=0.335128 -> initscore=-0.685081\n",
      "[LightGBM] [Info] Start training from score -0.685081\n"
     ]
    },
    {
     "name": "stderr",
     "output_type": "stream",
     "text": [
      "/usr/local/lib/python3.11/dist-packages/lightgbm/basic.py:2118: UserWarning: categorical_feature keyword has been found in `params` and will be ignored.\n",
      "Please use categorical_feature argument of the Dataset constructor to pass this parameter.\n",
      "  _log_warning(\n",
      "/usr/local/lib/python3.11/dist-packages/lightgbm/basic.py:2140: UserWarning: categorical_feature in param dict is overridden.\n",
      "  _log_warning(f\"{cat_alias} in param dict is overridden.\")\n"
     ]
    },
    {
     "name": "stdout",
     "output_type": "stream",
     "text": [
      "[CV] END learning_rate=0.01, n_estimators=400, num_leaves=45; total time=   2.4s\n",
      "[LightGBM] [Warning] categorical_feature is set=lang, categorical_column=5 will be ignored. Current value: categorical_feature=lang\n",
      "[LightGBM] [Info] Number of positive: 7905, number of negative: 15680\n",
      "[LightGBM] [Info] This is the GPU trainer!!\n",
      "[LightGBM] [Info] Total Bins 2512\n",
      "[LightGBM] [Info] Number of data points in the train set: 23585, number of used features: 15\n",
      "[LightGBM] [Info] Using GPU Device: Tesla T4, Vendor: NVIDIA Corporation\n",
      "[LightGBM] [Info] Compiling OpenCL Kernel with 256 bins...\n",
      "[LightGBM] [Info] GPU programs have been built\n",
      "[LightGBM] [Info] Size of histogram bin entry: 8\n",
      "[LightGBM] [Info] 13 dense feature groups (0.36 MB) transferred to GPU in 0.001278 secs. 1 sparse feature groups\n",
      "[LightGBM] [Info] [binary:BoostFromScore]: pavg=0.335171 -> initscore=-0.684891\n",
      "[LightGBM] [Info] Start training from score -0.684891\n"
     ]
    },
    {
     "name": "stderr",
     "output_type": "stream",
     "text": [
      "/usr/local/lib/python3.11/dist-packages/lightgbm/basic.py:2118: UserWarning: categorical_feature keyword has been found in `params` and will be ignored.\n",
      "Please use categorical_feature argument of the Dataset constructor to pass this parameter.\n",
      "  _log_warning(\n",
      "/usr/local/lib/python3.11/dist-packages/lightgbm/basic.py:2140: UserWarning: categorical_feature in param dict is overridden.\n",
      "  _log_warning(f\"{cat_alias} in param dict is overridden.\")\n"
     ]
    },
    {
     "name": "stdout",
     "output_type": "stream",
     "text": [
      "[CV] END learning_rate=0.01, n_estimators=400, num_leaves=45; total time=   2.3s\n",
      "[LightGBM] [Warning] categorical_feature is set=lang, categorical_column=5 will be ignored. Current value: categorical_feature=lang\n",
      "[LightGBM] [Info] Number of positive: 7905, number of negative: 15680\n",
      "[LightGBM] [Info] This is the GPU trainer!!\n",
      "[LightGBM] [Info] Total Bins 2523\n",
      "[LightGBM] [Info] Number of data points in the train set: 23585, number of used features: 15\n",
      "[LightGBM] [Info] Using GPU Device: Tesla T4, Vendor: NVIDIA Corporation\n",
      "[LightGBM] [Info] Compiling OpenCL Kernel with 256 bins...\n",
      "[LightGBM] [Info] GPU programs have been built\n",
      "[LightGBM] [Info] Size of histogram bin entry: 8\n",
      "[LightGBM] [Info] 13 dense feature groups (0.36 MB) transferred to GPU in 0.001231 secs. 1 sparse feature groups\n",
      "[LightGBM] [Info] [binary:BoostFromScore]: pavg=0.335171 -> initscore=-0.684891\n",
      "[LightGBM] [Info] Start training from score -0.684891\n"
     ]
    },
    {
     "name": "stderr",
     "output_type": "stream",
     "text": [
      "/usr/local/lib/python3.11/dist-packages/lightgbm/basic.py:2118: UserWarning: categorical_feature keyword has been found in `params` and will be ignored.\n",
      "Please use categorical_feature argument of the Dataset constructor to pass this parameter.\n",
      "  _log_warning(\n",
      "/usr/local/lib/python3.11/dist-packages/lightgbm/basic.py:2140: UserWarning: categorical_feature in param dict is overridden.\n",
      "  _log_warning(f\"{cat_alias} in param dict is overridden.\")\n"
     ]
    },
    {
     "name": "stdout",
     "output_type": "stream",
     "text": [
      "[CV] END learning_rate=0.01, n_estimators=400, num_leaves=45; total time=   4.7s\n",
      "[LightGBM] [Warning] categorical_feature is set=lang, categorical_column=5 will be ignored. Current value: categorical_feature=lang\n",
      "[LightGBM] [Info] Number of positive: 7905, number of negative: 15680\n",
      "[LightGBM] [Info] This is the GPU trainer!!\n",
      "[LightGBM] [Info] Total Bins 2517\n",
      "[LightGBM] [Info] Number of data points in the train set: 23585, number of used features: 15\n",
      "[LightGBM] [Info] Using GPU Device: Tesla T4, Vendor: NVIDIA Corporation\n",
      "[LightGBM] [Info] Compiling OpenCL Kernel with 256 bins...\n",
      "[LightGBM] [Info] GPU programs have been built\n",
      "[LightGBM] [Info] Size of histogram bin entry: 8\n",
      "[LightGBM] [Info] 13 dense feature groups (0.36 MB) transferred to GPU in 0.001229 secs. 1 sparse feature groups\n",
      "[LightGBM] [Info] [binary:BoostFromScore]: pavg=0.335171 -> initscore=-0.684891\n",
      "[LightGBM] [Info] Start training from score -0.684891\n"
     ]
    },
    {
     "name": "stderr",
     "output_type": "stream",
     "text": [
      "/usr/local/lib/python3.11/dist-packages/lightgbm/basic.py:2118: UserWarning: categorical_feature keyword has been found in `params` and will be ignored.\n",
      "Please use categorical_feature argument of the Dataset constructor to pass this parameter.\n",
      "  _log_warning(\n",
      "/usr/local/lib/python3.11/dist-packages/lightgbm/basic.py:2140: UserWarning: categorical_feature in param dict is overridden.\n",
      "  _log_warning(f\"{cat_alias} in param dict is overridden.\")\n"
     ]
    },
    {
     "name": "stdout",
     "output_type": "stream",
     "text": [
      "[CV] END learning_rate=0.01, n_estimators=400, num_leaves=45; total time=   2.4s\n",
      "[LightGBM] [Warning] categorical_feature is set=lang, categorical_column=5 will be ignored. Current value: categorical_feature=lang\n",
      "[LightGBM] [Info] Number of positive: 7905, number of negative: 15681\n",
      "[LightGBM] [Info] This is the GPU trainer!!\n",
      "[LightGBM] [Info] Total Bins 2514\n",
      "[LightGBM] [Info] Number of data points in the train set: 23586, number of used features: 15\n",
      "[LightGBM] [Info] Using GPU Device: Tesla T4, Vendor: NVIDIA Corporation\n",
      "[LightGBM] [Info] Compiling OpenCL Kernel with 256 bins...\n",
      "[LightGBM] [Info] GPU programs have been built\n",
      "[LightGBM] [Info] Size of histogram bin entry: 8\n",
      "[LightGBM] [Info] 13 dense feature groups (0.36 MB) transferred to GPU in 0.001218 secs. 1 sparse feature groups\n",
      "[LightGBM] [Info] [binary:BoostFromScore]: pavg=0.335156 -> initscore=-0.684954\n",
      "[LightGBM] [Info] Start training from score -0.684954\n"
     ]
    },
    {
     "name": "stderr",
     "output_type": "stream",
     "text": [
      "/usr/local/lib/python3.11/dist-packages/lightgbm/basic.py:2118: UserWarning: categorical_feature keyword has been found in `params` and will be ignored.\n",
      "Please use categorical_feature argument of the Dataset constructor to pass this parameter.\n",
      "  _log_warning(\n",
      "/usr/local/lib/python3.11/dist-packages/lightgbm/basic.py:2140: UserWarning: categorical_feature in param dict is overridden.\n",
      "  _log_warning(f\"{cat_alias} in param dict is overridden.\")\n"
     ]
    },
    {
     "name": "stdout",
     "output_type": "stream",
     "text": [
      "[CV] END learning_rate=0.01, n_estimators=400, num_leaves=45; total time=   2.4s\n",
      "[LightGBM] [Warning] categorical_feature is set=lang, categorical_column=5 will be ignored. Current value: categorical_feature=lang\n",
      "[LightGBM] [Info] Number of positive: 7905, number of negative: 15681\n",
      "[LightGBM] [Info] This is the GPU trainer!!\n",
      "[LightGBM] [Info] Total Bins 2518\n",
      "[LightGBM] [Info] Number of data points in the train set: 23586, number of used features: 15\n",
      "[LightGBM] [Info] Using GPU Device: Tesla T4, Vendor: NVIDIA Corporation\n",
      "[LightGBM] [Info] Compiling OpenCL Kernel with 256 bins...\n",
      "[LightGBM] [Info] GPU programs have been built\n",
      "[LightGBM] [Info] Size of histogram bin entry: 8\n",
      "[LightGBM] [Info] 13 dense feature groups (0.36 MB) transferred to GPU in 0.001317 secs. 1 sparse feature groups\n",
      "[LightGBM] [Info] [binary:BoostFromScore]: pavg=0.335156 -> initscore=-0.684954\n",
      "[LightGBM] [Info] Start training from score -0.684954\n"
     ]
    },
    {
     "name": "stderr",
     "output_type": "stream",
     "text": [
      "/usr/local/lib/python3.11/dist-packages/lightgbm/basic.py:2118: UserWarning: categorical_feature keyword has been found in `params` and will be ignored.\n",
      "Please use categorical_feature argument of the Dataset constructor to pass this parameter.\n",
      "  _log_warning(\n",
      "/usr/local/lib/python3.11/dist-packages/lightgbm/basic.py:2140: UserWarning: categorical_feature in param dict is overridden.\n",
      "  _log_warning(f\"{cat_alias} in param dict is overridden.\")\n"
     ]
    },
    {
     "name": "stdout",
     "output_type": "stream",
     "text": [
      "[CV] END learning_rate=0.01, n_estimators=400, num_leaves=45; total time=   2.4s\n",
      "[LightGBM] [Warning] categorical_feature is set=lang, categorical_column=5 will be ignored. Current value: categorical_feature=lang\n",
      "[LightGBM] [Info] Number of positive: 7905, number of negative: 15681\n",
      "[LightGBM] [Info] This is the GPU trainer!!\n",
      "[LightGBM] [Info] Total Bins 2518\n",
      "[LightGBM] [Info] Number of data points in the train set: 23586, number of used features: 15\n",
      "[LightGBM] [Info] Using GPU Device: Tesla T4, Vendor: NVIDIA Corporation\n",
      "[LightGBM] [Info] Compiling OpenCL Kernel with 256 bins...\n",
      "[LightGBM] [Info] GPU programs have been built\n",
      "[LightGBM] [Info] Size of histogram bin entry: 8\n",
      "[LightGBM] [Info] 13 dense feature groups (0.36 MB) transferred to GPU in 0.001168 secs. 1 sparse feature groups\n",
      "[LightGBM] [Info] [binary:BoostFromScore]: pavg=0.335156 -> initscore=-0.684954\n",
      "[LightGBM] [Info] Start training from score -0.684954\n"
     ]
    },
    {
     "name": "stderr",
     "output_type": "stream",
     "text": [
      "/usr/local/lib/python3.11/dist-packages/lightgbm/basic.py:2118: UserWarning: categorical_feature keyword has been found in `params` and will be ignored.\n",
      "Please use categorical_feature argument of the Dataset constructor to pass this parameter.\n",
      "  _log_warning(\n",
      "/usr/local/lib/python3.11/dist-packages/lightgbm/basic.py:2140: UserWarning: categorical_feature in param dict is overridden.\n",
      "  _log_warning(f\"{cat_alias} in param dict is overridden.\")\n"
     ]
    },
    {
     "name": "stdout",
     "output_type": "stream",
     "text": [
      "[CV] END learning_rate=0.01, n_estimators=400, num_leaves=45; total time=   2.3s\n",
      "[LightGBM] [Warning] categorical_feature is set=lang, categorical_column=5 will be ignored. Current value: categorical_feature=lang\n",
      "[LightGBM] [Info] Number of positive: 7905, number of negative: 15681\n",
      "[LightGBM] [Info] This is the GPU trainer!!\n",
      "[LightGBM] [Info] Total Bins 2514\n",
      "[LightGBM] [Info] Number of data points in the train set: 23586, number of used features: 15\n",
      "[LightGBM] [Info] Using GPU Device: Tesla T4, Vendor: NVIDIA Corporation\n",
      "[LightGBM] [Info] Compiling OpenCL Kernel with 256 bins...\n",
      "[LightGBM] [Info] GPU programs have been built\n",
      "[LightGBM] [Info] Size of histogram bin entry: 8\n",
      "[LightGBM] [Info] 13 dense feature groups (0.36 MB) transferred to GPU in 0.001256 secs. 1 sparse feature groups\n",
      "[LightGBM] [Info] [binary:BoostFromScore]: pavg=0.335156 -> initscore=-0.684954\n",
      "[LightGBM] [Info] Start training from score -0.684954\n"
     ]
    },
    {
     "name": "stderr",
     "output_type": "stream",
     "text": [
      "/usr/local/lib/python3.11/dist-packages/lightgbm/basic.py:2118: UserWarning: categorical_feature keyword has been found in `params` and will be ignored.\n",
      "Please use categorical_feature argument of the Dataset constructor to pass this parameter.\n",
      "  _log_warning(\n",
      "/usr/local/lib/python3.11/dist-packages/lightgbm/basic.py:2140: UserWarning: categorical_feature in param dict is overridden.\n",
      "  _log_warning(f\"{cat_alias} in param dict is overridden.\")\n"
     ]
    },
    {
     "name": "stdout",
     "output_type": "stream",
     "text": [
      "[CV] END learning_rate=0.01, n_estimators=400, num_leaves=45; total time=   4.8s\n",
      "[LightGBM] [Warning] categorical_feature is set=lang, categorical_column=5 will be ignored. Current value: categorical_feature=lang\n",
      "[LightGBM] [Info] Number of positive: 7904, number of negative: 15681\n",
      "[LightGBM] [Info] This is the GPU trainer!!\n",
      "[LightGBM] [Info] Total Bins 2510\n",
      "[LightGBM] [Info] Number of data points in the train set: 23585, number of used features: 15\n",
      "[LightGBM] [Info] Using GPU Device: Tesla T4, Vendor: NVIDIA Corporation\n",
      "[LightGBM] [Info] Compiling OpenCL Kernel with 256 bins...\n",
      "[LightGBM] [Info] GPU programs have been built\n",
      "[LightGBM] [Info] Size of histogram bin entry: 8\n",
      "[LightGBM] [Info] 13 dense feature groups (0.36 MB) transferred to GPU in 0.001179 secs. 1 sparse feature groups\n",
      "[LightGBM] [Info] [binary:BoostFromScore]: pavg=0.335128 -> initscore=-0.685081\n",
      "[LightGBM] [Info] Start training from score -0.685081\n"
     ]
    },
    {
     "name": "stderr",
     "output_type": "stream",
     "text": [
      "/usr/local/lib/python3.11/dist-packages/lightgbm/basic.py:2118: UserWarning: categorical_feature keyword has been found in `params` and will be ignored.\n",
      "Please use categorical_feature argument of the Dataset constructor to pass this parameter.\n",
      "  _log_warning(\n",
      "/usr/local/lib/python3.11/dist-packages/lightgbm/basic.py:2140: UserWarning: categorical_feature in param dict is overridden.\n",
      "  _log_warning(f\"{cat_alias} in param dict is overridden.\")\n"
     ]
    },
    {
     "name": "stdout",
     "output_type": "stream",
     "text": [
      "[CV] END learning_rate=0.01, n_estimators=500, num_leaves=15; total time=   1.3s\n",
      "[LightGBM] [Warning] categorical_feature is set=lang, categorical_column=5 will be ignored. Current value: categorical_feature=lang\n",
      "[LightGBM] [Info] Number of positive: 7904, number of negative: 15681\n",
      "[LightGBM] [Info] This is the GPU trainer!!\n",
      "[LightGBM] [Info] Total Bins 2519\n",
      "[LightGBM] [Info] Number of data points in the train set: 23585, number of used features: 15\n",
      "[LightGBM] [Info] Using GPU Device: Tesla T4, Vendor: NVIDIA Corporation\n",
      "[LightGBM] [Info] Compiling OpenCL Kernel with 256 bins...\n",
      "[LightGBM] [Info] GPU programs have been built\n",
      "[LightGBM] [Info] Size of histogram bin entry: 8\n",
      "[LightGBM] [Info] 13 dense feature groups (0.36 MB) transferred to GPU in 0.001189 secs. 1 sparse feature groups\n",
      "[LightGBM] [Info] [binary:BoostFromScore]: pavg=0.335128 -> initscore=-0.685081\n",
      "[LightGBM] [Info] Start training from score -0.685081\n"
     ]
    },
    {
     "name": "stderr",
     "output_type": "stream",
     "text": [
      "/usr/local/lib/python3.11/dist-packages/lightgbm/basic.py:2118: UserWarning: categorical_feature keyword has been found in `params` and will be ignored.\n",
      "Please use categorical_feature argument of the Dataset constructor to pass this parameter.\n",
      "  _log_warning(\n",
      "/usr/local/lib/python3.11/dist-packages/lightgbm/basic.py:2140: UserWarning: categorical_feature in param dict is overridden.\n",
      "  _log_warning(f\"{cat_alias} in param dict is overridden.\")\n"
     ]
    },
    {
     "name": "stdout",
     "output_type": "stream",
     "text": [
      "[CV] END learning_rate=0.01, n_estimators=500, num_leaves=15; total time=   1.3s\n",
      "[LightGBM] [Warning] categorical_feature is set=lang, categorical_column=5 will be ignored. Current value: categorical_feature=lang\n",
      "[LightGBM] [Info] Number of positive: 7904, number of negative: 15681\n",
      "[LightGBM] [Info] This is the GPU trainer!!\n",
      "[LightGBM] [Info] Total Bins 2517\n",
      "[LightGBM] [Info] Number of data points in the train set: 23585, number of used features: 15\n",
      "[LightGBM] [Info] Using GPU Device: Tesla T4, Vendor: NVIDIA Corporation\n",
      "[LightGBM] [Info] Compiling OpenCL Kernel with 256 bins...\n",
      "[LightGBM] [Info] GPU programs have been built\n",
      "[LightGBM] [Info] Size of histogram bin entry: 8\n",
      "[LightGBM] [Info] 13 dense feature groups (0.36 MB) transferred to GPU in 0.001179 secs. 1 sparse feature groups\n",
      "[LightGBM] [Info] [binary:BoostFromScore]: pavg=0.335128 -> initscore=-0.685081\n",
      "[LightGBM] [Info] Start training from score -0.685081\n"
     ]
    },
    {
     "name": "stderr",
     "output_type": "stream",
     "text": [
      "/usr/local/lib/python3.11/dist-packages/lightgbm/basic.py:2118: UserWarning: categorical_feature keyword has been found in `params` and will be ignored.\n",
      "Please use categorical_feature argument of the Dataset constructor to pass this parameter.\n",
      "  _log_warning(\n",
      "/usr/local/lib/python3.11/dist-packages/lightgbm/basic.py:2140: UserWarning: categorical_feature in param dict is overridden.\n",
      "  _log_warning(f\"{cat_alias} in param dict is overridden.\")\n"
     ]
    },
    {
     "name": "stdout",
     "output_type": "stream",
     "text": [
      "[CV] END learning_rate=0.01, n_estimators=500, num_leaves=15; total time=   1.4s\n",
      "[LightGBM] [Warning] categorical_feature is set=lang, categorical_column=5 will be ignored. Current value: categorical_feature=lang\n",
      "[LightGBM] [Info] Number of positive: 7905, number of negative: 15680\n",
      "[LightGBM] [Info] This is the GPU trainer!!\n",
      "[LightGBM] [Info] Total Bins 2512\n",
      "[LightGBM] [Info] Number of data points in the train set: 23585, number of used features: 15\n",
      "[LightGBM] [Info] Using GPU Device: Tesla T4, Vendor: NVIDIA Corporation\n",
      "[LightGBM] [Info] Compiling OpenCL Kernel with 256 bins...\n",
      "[LightGBM] [Info] GPU programs have been built\n",
      "[LightGBM] [Info] Size of histogram bin entry: 8\n",
      "[LightGBM] [Info] 13 dense feature groups (0.36 MB) transferred to GPU in 0.001215 secs. 1 sparse feature groups\n",
      "[LightGBM] [Info] [binary:BoostFromScore]: pavg=0.335171 -> initscore=-0.684891\n",
      "[LightGBM] [Info] Start training from score -0.684891\n"
     ]
    },
    {
     "name": "stderr",
     "output_type": "stream",
     "text": [
      "/usr/local/lib/python3.11/dist-packages/lightgbm/basic.py:2118: UserWarning: categorical_feature keyword has been found in `params` and will be ignored.\n",
      "Please use categorical_feature argument of the Dataset constructor to pass this parameter.\n",
      "  _log_warning(\n",
      "/usr/local/lib/python3.11/dist-packages/lightgbm/basic.py:2140: UserWarning: categorical_feature in param dict is overridden.\n",
      "  _log_warning(f\"{cat_alias} in param dict is overridden.\")\n"
     ]
    },
    {
     "name": "stdout",
     "output_type": "stream",
     "text": [
      "[CV] END learning_rate=0.01, n_estimators=500, num_leaves=15; total time=   1.3s\n",
      "[LightGBM] [Warning] categorical_feature is set=lang, categorical_column=5 will be ignored. Current value: categorical_feature=lang\n",
      "[LightGBM] [Info] Number of positive: 7905, number of negative: 15680\n",
      "[LightGBM] [Info] This is the GPU trainer!!\n",
      "[LightGBM] [Info] Total Bins 2523\n",
      "[LightGBM] [Info] Number of data points in the train set: 23585, number of used features: 15\n",
      "[LightGBM] [Info] Using GPU Device: Tesla T4, Vendor: NVIDIA Corporation\n",
      "[LightGBM] [Info] Compiling OpenCL Kernel with 256 bins...\n",
      "[LightGBM] [Info] GPU programs have been built\n",
      "[LightGBM] [Info] Size of histogram bin entry: 8\n",
      "[LightGBM] [Info] 13 dense feature groups (0.36 MB) transferred to GPU in 0.001157 secs. 1 sparse feature groups\n",
      "[LightGBM] [Info] [binary:BoostFromScore]: pavg=0.335171 -> initscore=-0.684891\n",
      "[LightGBM] [Info] Start training from score -0.684891\n"
     ]
    },
    {
     "name": "stderr",
     "output_type": "stream",
     "text": [
      "/usr/local/lib/python3.11/dist-packages/lightgbm/basic.py:2118: UserWarning: categorical_feature keyword has been found in `params` and will be ignored.\n",
      "Please use categorical_feature argument of the Dataset constructor to pass this parameter.\n",
      "  _log_warning(\n",
      "/usr/local/lib/python3.11/dist-packages/lightgbm/basic.py:2140: UserWarning: categorical_feature in param dict is overridden.\n",
      "  _log_warning(f\"{cat_alias} in param dict is overridden.\")\n"
     ]
    },
    {
     "name": "stdout",
     "output_type": "stream",
     "text": [
      "[CV] END learning_rate=0.01, n_estimators=500, num_leaves=15; total time=   1.3s\n",
      "[LightGBM] [Warning] categorical_feature is set=lang, categorical_column=5 will be ignored. Current value: categorical_feature=lang\n",
      "[LightGBM] [Info] Number of positive: 7905, number of negative: 15680\n",
      "[LightGBM] [Info] This is the GPU trainer!!\n",
      "[LightGBM] [Info] Total Bins 2517\n",
      "[LightGBM] [Info] Number of data points in the train set: 23585, number of used features: 15\n",
      "[LightGBM] [Info] Using GPU Device: Tesla T4, Vendor: NVIDIA Corporation\n",
      "[LightGBM] [Info] Compiling OpenCL Kernel with 256 bins...\n",
      "[LightGBM] [Info] GPU programs have been built\n",
      "[LightGBM] [Info] Size of histogram bin entry: 8\n",
      "[LightGBM] [Info] 13 dense feature groups (0.36 MB) transferred to GPU in 0.001135 secs. 1 sparse feature groups\n",
      "[LightGBM] [Info] [binary:BoostFromScore]: pavg=0.335171 -> initscore=-0.684891\n",
      "[LightGBM] [Info] Start training from score -0.684891\n"
     ]
    },
    {
     "name": "stderr",
     "output_type": "stream",
     "text": [
      "/usr/local/lib/python3.11/dist-packages/lightgbm/basic.py:2118: UserWarning: categorical_feature keyword has been found in `params` and will be ignored.\n",
      "Please use categorical_feature argument of the Dataset constructor to pass this parameter.\n",
      "  _log_warning(\n",
      "/usr/local/lib/python3.11/dist-packages/lightgbm/basic.py:2140: UserWarning: categorical_feature in param dict is overridden.\n",
      "  _log_warning(f\"{cat_alias} in param dict is overridden.\")\n"
     ]
    },
    {
     "name": "stdout",
     "output_type": "stream",
     "text": [
      "[CV] END learning_rate=0.01, n_estimators=500, num_leaves=15; total time=   1.3s\n",
      "[LightGBM] [Warning] categorical_feature is set=lang, categorical_column=5 will be ignored. Current value: categorical_feature=lang\n",
      "[LightGBM] [Info] Number of positive: 7905, number of negative: 15681\n",
      "[LightGBM] [Info] This is the GPU trainer!!\n",
      "[LightGBM] [Info] Total Bins 2514\n",
      "[LightGBM] [Info] Number of data points in the train set: 23586, number of used features: 15\n",
      "[LightGBM] [Info] Using GPU Device: Tesla T4, Vendor: NVIDIA Corporation\n",
      "[LightGBM] [Info] Compiling OpenCL Kernel with 256 bins...\n",
      "[LightGBM] [Info] GPU programs have been built\n",
      "[LightGBM] [Info] Size of histogram bin entry: 8\n",
      "[LightGBM] [Info] 13 dense feature groups (0.36 MB) transferred to GPU in 0.001352 secs. 1 sparse feature groups\n",
      "[LightGBM] [Info] [binary:BoostFromScore]: pavg=0.335156 -> initscore=-0.684954\n",
      "[LightGBM] [Info] Start training from score -0.684954\n"
     ]
    },
    {
     "name": "stderr",
     "output_type": "stream",
     "text": [
      "/usr/local/lib/python3.11/dist-packages/lightgbm/basic.py:2118: UserWarning: categorical_feature keyword has been found in `params` and will be ignored.\n",
      "Please use categorical_feature argument of the Dataset constructor to pass this parameter.\n",
      "  _log_warning(\n",
      "/usr/local/lib/python3.11/dist-packages/lightgbm/basic.py:2140: UserWarning: categorical_feature in param dict is overridden.\n",
      "  _log_warning(f\"{cat_alias} in param dict is overridden.\")\n"
     ]
    },
    {
     "name": "stdout",
     "output_type": "stream",
     "text": [
      "[CV] END learning_rate=0.01, n_estimators=500, num_leaves=15; total time=   1.3s\n",
      "[LightGBM] [Warning] categorical_feature is set=lang, categorical_column=5 will be ignored. Current value: categorical_feature=lang\n",
      "[LightGBM] [Info] Number of positive: 7905, number of negative: 15681\n",
      "[LightGBM] [Info] This is the GPU trainer!!\n",
      "[LightGBM] [Info] Total Bins 2518\n",
      "[LightGBM] [Info] Number of data points in the train set: 23586, number of used features: 15\n",
      "[LightGBM] [Info] Using GPU Device: Tesla T4, Vendor: NVIDIA Corporation\n",
      "[LightGBM] [Info] Compiling OpenCL Kernel with 256 bins...\n",
      "[LightGBM] [Info] GPU programs have been built\n",
      "[LightGBM] [Info] Size of histogram bin entry: 8\n",
      "[LightGBM] [Info] 13 dense feature groups (0.36 MB) transferred to GPU in 0.001219 secs. 1 sparse feature groups\n",
      "[LightGBM] [Info] [binary:BoostFromScore]: pavg=0.335156 -> initscore=-0.684954\n",
      "[LightGBM] [Info] Start training from score -0.684954\n"
     ]
    },
    {
     "name": "stderr",
     "output_type": "stream",
     "text": [
      "/usr/local/lib/python3.11/dist-packages/lightgbm/basic.py:2118: UserWarning: categorical_feature keyword has been found in `params` and will be ignored.\n",
      "Please use categorical_feature argument of the Dataset constructor to pass this parameter.\n",
      "  _log_warning(\n",
      "/usr/local/lib/python3.11/dist-packages/lightgbm/basic.py:2140: UserWarning: categorical_feature in param dict is overridden.\n",
      "  _log_warning(f\"{cat_alias} in param dict is overridden.\")\n"
     ]
    },
    {
     "name": "stdout",
     "output_type": "stream",
     "text": [
      "[CV] END learning_rate=0.01, n_estimators=500, num_leaves=15; total time=   3.2s\n",
      "[LightGBM] [Warning] categorical_feature is set=lang, categorical_column=5 will be ignored. Current value: categorical_feature=lang\n",
      "[LightGBM] [Info] Number of positive: 7905, number of negative: 15681\n",
      "[LightGBM] [Info] This is the GPU trainer!!\n",
      "[LightGBM] [Info] Total Bins 2518\n",
      "[LightGBM] [Info] Number of data points in the train set: 23586, number of used features: 15\n",
      "[LightGBM] [Info] Using GPU Device: Tesla T4, Vendor: NVIDIA Corporation\n",
      "[LightGBM] [Info] Compiling OpenCL Kernel with 256 bins...\n",
      "[LightGBM] [Info] GPU programs have been built\n",
      "[LightGBM] [Info] Size of histogram bin entry: 8\n",
      "[LightGBM] [Info] 13 dense feature groups (0.36 MB) transferred to GPU in 0.002643 secs. 1 sparse feature groups\n",
      "[LightGBM] [Info] [binary:BoostFromScore]: pavg=0.335156 -> initscore=-0.684954\n",
      "[LightGBM] [Info] Start training from score -0.684954\n"
     ]
    },
    {
     "name": "stderr",
     "output_type": "stream",
     "text": [
      "/usr/local/lib/python3.11/dist-packages/lightgbm/basic.py:2118: UserWarning: categorical_feature keyword has been found in `params` and will be ignored.\n",
      "Please use categorical_feature argument of the Dataset constructor to pass this parameter.\n",
      "  _log_warning(\n",
      "/usr/local/lib/python3.11/dist-packages/lightgbm/basic.py:2140: UserWarning: categorical_feature in param dict is overridden.\n",
      "  _log_warning(f\"{cat_alias} in param dict is overridden.\")\n"
     ]
    },
    {
     "name": "stdout",
     "output_type": "stream",
     "text": [
      "[CV] END learning_rate=0.01, n_estimators=500, num_leaves=15; total time=   1.7s\n",
      "[LightGBM] [Warning] categorical_feature is set=lang, categorical_column=5 will be ignored. Current value: categorical_feature=lang\n",
      "[LightGBM] [Info] Number of positive: 7905, number of negative: 15681\n",
      "[LightGBM] [Info] This is the GPU trainer!!\n",
      "[LightGBM] [Info] Total Bins 2514\n",
      "[LightGBM] [Info] Number of data points in the train set: 23586, number of used features: 15\n",
      "[LightGBM] [Info] Using GPU Device: Tesla T4, Vendor: NVIDIA Corporation\n",
      "[LightGBM] [Info] Compiling OpenCL Kernel with 256 bins...\n",
      "[LightGBM] [Info] GPU programs have been built\n",
      "[LightGBM] [Info] Size of histogram bin entry: 8\n",
      "[LightGBM] [Info] 13 dense feature groups (0.36 MB) transferred to GPU in 0.001326 secs. 1 sparse feature groups\n",
      "[LightGBM] [Info] [binary:BoostFromScore]: pavg=0.335156 -> initscore=-0.684954\n",
      "[LightGBM] [Info] Start training from score -0.684954\n"
     ]
    },
    {
     "name": "stderr",
     "output_type": "stream",
     "text": [
      "/usr/local/lib/python3.11/dist-packages/lightgbm/basic.py:2118: UserWarning: categorical_feature keyword has been found in `params` and will be ignored.\n",
      "Please use categorical_feature argument of the Dataset constructor to pass this parameter.\n",
      "  _log_warning(\n",
      "/usr/local/lib/python3.11/dist-packages/lightgbm/basic.py:2140: UserWarning: categorical_feature in param dict is overridden.\n",
      "  _log_warning(f\"{cat_alias} in param dict is overridden.\")\n"
     ]
    },
    {
     "name": "stdout",
     "output_type": "stream",
     "text": [
      "[CV] END learning_rate=0.01, n_estimators=500, num_leaves=15; total time=   1.4s\n",
      "[LightGBM] [Warning] categorical_feature is set=lang, categorical_column=5 will be ignored. Current value: categorical_feature=lang\n",
      "[LightGBM] [Info] Number of positive: 7904, number of negative: 15681\n",
      "[LightGBM] [Info] This is the GPU trainer!!\n",
      "[LightGBM] [Info] Total Bins 2510\n",
      "[LightGBM] [Info] Number of data points in the train set: 23585, number of used features: 15\n",
      "[LightGBM] [Info] Using GPU Device: Tesla T4, Vendor: NVIDIA Corporation\n",
      "[LightGBM] [Info] Compiling OpenCL Kernel with 256 bins...\n",
      "[LightGBM] [Info] GPU programs have been built\n",
      "[LightGBM] [Info] Size of histogram bin entry: 8\n",
      "[LightGBM] [Info] 13 dense feature groups (0.36 MB) transferred to GPU in 0.001186 secs. 1 sparse feature groups\n",
      "[LightGBM] [Info] [binary:BoostFromScore]: pavg=0.335128 -> initscore=-0.685081\n",
      "[LightGBM] [Info] Start training from score -0.685081\n"
     ]
    },
    {
     "name": "stderr",
     "output_type": "stream",
     "text": [
      "/usr/local/lib/python3.11/dist-packages/lightgbm/basic.py:2118: UserWarning: categorical_feature keyword has been found in `params` and will be ignored.\n",
      "Please use categorical_feature argument of the Dataset constructor to pass this parameter.\n",
      "  _log_warning(\n",
      "/usr/local/lib/python3.11/dist-packages/lightgbm/basic.py:2140: UserWarning: categorical_feature in param dict is overridden.\n",
      "  _log_warning(f\"{cat_alias} in param dict is overridden.\")\n"
     ]
    },
    {
     "name": "stdout",
     "output_type": "stream",
     "text": [
      "[CV] END learning_rate=0.01, n_estimators=500, num_leaves=30; total time=   2.2s\n",
      "[LightGBM] [Warning] categorical_feature is set=lang, categorical_column=5 will be ignored. Current value: categorical_feature=lang\n",
      "[LightGBM] [Info] Number of positive: 7904, number of negative: 15681\n",
      "[LightGBM] [Info] This is the GPU trainer!!\n",
      "[LightGBM] [Info] Total Bins 2519\n",
      "[LightGBM] [Info] Number of data points in the train set: 23585, number of used features: 15\n",
      "[LightGBM] [Info] Using GPU Device: Tesla T4, Vendor: NVIDIA Corporation\n",
      "[LightGBM] [Info] Compiling OpenCL Kernel with 256 bins...\n",
      "[LightGBM] [Info] GPU programs have been built\n",
      "[LightGBM] [Info] Size of histogram bin entry: 8\n",
      "[LightGBM] [Info] 13 dense feature groups (0.36 MB) transferred to GPU in 0.001256 secs. 1 sparse feature groups\n",
      "[LightGBM] [Info] [binary:BoostFromScore]: pavg=0.335128 -> initscore=-0.685081\n",
      "[LightGBM] [Info] Start training from score -0.685081\n"
     ]
    },
    {
     "name": "stderr",
     "output_type": "stream",
     "text": [
      "/usr/local/lib/python3.11/dist-packages/lightgbm/basic.py:2118: UserWarning: categorical_feature keyword has been found in `params` and will be ignored.\n",
      "Please use categorical_feature argument of the Dataset constructor to pass this parameter.\n",
      "  _log_warning(\n",
      "/usr/local/lib/python3.11/dist-packages/lightgbm/basic.py:2140: UserWarning: categorical_feature in param dict is overridden.\n",
      "  _log_warning(f\"{cat_alias} in param dict is overridden.\")\n"
     ]
    },
    {
     "name": "stdout",
     "output_type": "stream",
     "text": [
      "[CV] END learning_rate=0.01, n_estimators=500, num_leaves=30; total time=   2.2s\n",
      "[LightGBM] [Warning] categorical_feature is set=lang, categorical_column=5 will be ignored. Current value: categorical_feature=lang\n",
      "[LightGBM] [Info] Number of positive: 7904, number of negative: 15681\n",
      "[LightGBM] [Info] This is the GPU trainer!!\n",
      "[LightGBM] [Info] Total Bins 2517\n",
      "[LightGBM] [Info] Number of data points in the train set: 23585, number of used features: 15\n",
      "[LightGBM] [Info] Using GPU Device: Tesla T4, Vendor: NVIDIA Corporation\n",
      "[LightGBM] [Info] Compiling OpenCL Kernel with 256 bins...\n",
      "[LightGBM] [Info] GPU programs have been built\n",
      "[LightGBM] [Info] Size of histogram bin entry: 8\n",
      "[LightGBM] [Info] 13 dense feature groups (0.36 MB) transferred to GPU in 0.001225 secs. 1 sparse feature groups\n",
      "[LightGBM] [Info] [binary:BoostFromScore]: pavg=0.335128 -> initscore=-0.685081\n",
      "[LightGBM] [Info] Start training from score -0.685081\n"
     ]
    },
    {
     "name": "stderr",
     "output_type": "stream",
     "text": [
      "/usr/local/lib/python3.11/dist-packages/lightgbm/basic.py:2118: UserWarning: categorical_feature keyword has been found in `params` and will be ignored.\n",
      "Please use categorical_feature argument of the Dataset constructor to pass this parameter.\n",
      "  _log_warning(\n",
      "/usr/local/lib/python3.11/dist-packages/lightgbm/basic.py:2140: UserWarning: categorical_feature in param dict is overridden.\n",
      "  _log_warning(f\"{cat_alias} in param dict is overridden.\")\n"
     ]
    },
    {
     "name": "stdout",
     "output_type": "stream",
     "text": [
      "[CV] END learning_rate=0.01, n_estimators=500, num_leaves=30; total time=   2.1s\n",
      "[LightGBM] [Warning] categorical_feature is set=lang, categorical_column=5 will be ignored. Current value: categorical_feature=lang\n",
      "[LightGBM] [Info] Number of positive: 7905, number of negative: 15680\n",
      "[LightGBM] [Info] This is the GPU trainer!!\n",
      "[LightGBM] [Info] Total Bins 2512\n",
      "[LightGBM] [Info] Number of data points in the train set: 23585, number of used features: 15\n",
      "[LightGBM] [Info] Using GPU Device: Tesla T4, Vendor: NVIDIA Corporation\n",
      "[LightGBM] [Info] Compiling OpenCL Kernel with 256 bins...\n",
      "[LightGBM] [Info] GPU programs have been built\n",
      "[LightGBM] [Info] Size of histogram bin entry: 8\n",
      "[LightGBM] [Info] 13 dense feature groups (0.36 MB) transferred to GPU in 0.001197 secs. 1 sparse feature groups\n",
      "[LightGBM] [Info] [binary:BoostFromScore]: pavg=0.335171 -> initscore=-0.684891\n",
      "[LightGBM] [Info] Start training from score -0.684891\n"
     ]
    },
    {
     "name": "stderr",
     "output_type": "stream",
     "text": [
      "/usr/local/lib/python3.11/dist-packages/lightgbm/basic.py:2118: UserWarning: categorical_feature keyword has been found in `params` and will be ignored.\n",
      "Please use categorical_feature argument of the Dataset constructor to pass this parameter.\n",
      "  _log_warning(\n",
      "/usr/local/lib/python3.11/dist-packages/lightgbm/basic.py:2140: UserWarning: categorical_feature in param dict is overridden.\n",
      "  _log_warning(f\"{cat_alias} in param dict is overridden.\")\n"
     ]
    },
    {
     "name": "stdout",
     "output_type": "stream",
     "text": [
      "[CV] END learning_rate=0.01, n_estimators=500, num_leaves=30; total time=   3.9s\n",
      "[LightGBM] [Warning] categorical_feature is set=lang, categorical_column=5 will be ignored. Current value: categorical_feature=lang\n",
      "[LightGBM] [Info] Number of positive: 7905, number of negative: 15680\n",
      "[LightGBM] [Info] This is the GPU trainer!!\n",
      "[LightGBM] [Info] Total Bins 2523\n",
      "[LightGBM] [Info] Number of data points in the train set: 23585, number of used features: 15\n",
      "[LightGBM] [Info] Using GPU Device: Tesla T4, Vendor: NVIDIA Corporation\n",
      "[LightGBM] [Info] Compiling OpenCL Kernel with 256 bins...\n",
      "[LightGBM] [Info] GPU programs have been built\n",
      "[LightGBM] [Info] Size of histogram bin entry: 8\n",
      "[LightGBM] [Info] 13 dense feature groups (0.36 MB) transferred to GPU in 0.002360 secs. 1 sparse feature groups\n",
      "[LightGBM] [Info] [binary:BoostFromScore]: pavg=0.335171 -> initscore=-0.684891\n",
      "[LightGBM] [Info] Start training from score -0.684891\n"
     ]
    },
    {
     "name": "stderr",
     "output_type": "stream",
     "text": [
      "/usr/local/lib/python3.11/dist-packages/lightgbm/basic.py:2118: UserWarning: categorical_feature keyword has been found in `params` and will be ignored.\n",
      "Please use categorical_feature argument of the Dataset constructor to pass this parameter.\n",
      "  _log_warning(\n",
      "/usr/local/lib/python3.11/dist-packages/lightgbm/basic.py:2140: UserWarning: categorical_feature in param dict is overridden.\n",
      "  _log_warning(f\"{cat_alias} in param dict is overridden.\")\n"
     ]
    },
    {
     "name": "stdout",
     "output_type": "stream",
     "text": [
      "[CV] END learning_rate=0.01, n_estimators=500, num_leaves=30; total time=   2.7s\n",
      "[LightGBM] [Warning] categorical_feature is set=lang, categorical_column=5 will be ignored. Current value: categorical_feature=lang\n",
      "[LightGBM] [Info] Number of positive: 7905, number of negative: 15680\n",
      "[LightGBM] [Info] This is the GPU trainer!!\n",
      "[LightGBM] [Info] Total Bins 2517\n",
      "[LightGBM] [Info] Number of data points in the train set: 23585, number of used features: 15\n",
      "[LightGBM] [Info] Using GPU Device: Tesla T4, Vendor: NVIDIA Corporation\n",
      "[LightGBM] [Info] Compiling OpenCL Kernel with 256 bins...\n",
      "[LightGBM] [Info] GPU programs have been built\n",
      "[LightGBM] [Info] Size of histogram bin entry: 8\n",
      "[LightGBM] [Info] 13 dense feature groups (0.36 MB) transferred to GPU in 0.001216 secs. 1 sparse feature groups\n",
      "[LightGBM] [Info] [binary:BoostFromScore]: pavg=0.335171 -> initscore=-0.684891\n",
      "[LightGBM] [Info] Start training from score -0.684891\n"
     ]
    },
    {
     "name": "stderr",
     "output_type": "stream",
     "text": [
      "/usr/local/lib/python3.11/dist-packages/lightgbm/basic.py:2118: UserWarning: categorical_feature keyword has been found in `params` and will be ignored.\n",
      "Please use categorical_feature argument of the Dataset constructor to pass this parameter.\n",
      "  _log_warning(\n",
      "/usr/local/lib/python3.11/dist-packages/lightgbm/basic.py:2140: UserWarning: categorical_feature in param dict is overridden.\n",
      "  _log_warning(f\"{cat_alias} in param dict is overridden.\")\n"
     ]
    },
    {
     "name": "stdout",
     "output_type": "stream",
     "text": [
      "[CV] END learning_rate=0.01, n_estimators=500, num_leaves=30; total time=   2.2s\n",
      "[LightGBM] [Warning] categorical_feature is set=lang, categorical_column=5 will be ignored. Current value: categorical_feature=lang\n",
      "[LightGBM] [Info] Number of positive: 7905, number of negative: 15681\n",
      "[LightGBM] [Info] This is the GPU trainer!!\n",
      "[LightGBM] [Info] Total Bins 2514\n",
      "[LightGBM] [Info] Number of data points in the train set: 23586, number of used features: 15\n",
      "[LightGBM] [Info] Using GPU Device: Tesla T4, Vendor: NVIDIA Corporation\n",
      "[LightGBM] [Info] Compiling OpenCL Kernel with 256 bins...\n",
      "[LightGBM] [Info] GPU programs have been built\n",
      "[LightGBM] [Info] Size of histogram bin entry: 8\n",
      "[LightGBM] [Info] 13 dense feature groups (0.36 MB) transferred to GPU in 0.001190 secs. 1 sparse feature groups\n",
      "[LightGBM] [Info] [binary:BoostFromScore]: pavg=0.335156 -> initscore=-0.684954\n",
      "[LightGBM] [Info] Start training from score -0.684954\n"
     ]
    },
    {
     "name": "stderr",
     "output_type": "stream",
     "text": [
      "/usr/local/lib/python3.11/dist-packages/lightgbm/basic.py:2118: UserWarning: categorical_feature keyword has been found in `params` and will be ignored.\n",
      "Please use categorical_feature argument of the Dataset constructor to pass this parameter.\n",
      "  _log_warning(\n",
      "/usr/local/lib/python3.11/dist-packages/lightgbm/basic.py:2140: UserWarning: categorical_feature in param dict is overridden.\n",
      "  _log_warning(f\"{cat_alias} in param dict is overridden.\")\n"
     ]
    },
    {
     "name": "stdout",
     "output_type": "stream",
     "text": [
      "[CV] END learning_rate=0.01, n_estimators=500, num_leaves=30; total time=   2.1s\n",
      "[LightGBM] [Warning] categorical_feature is set=lang, categorical_column=5 will be ignored. Current value: categorical_feature=lang\n",
      "[LightGBM] [Info] Number of positive: 7905, number of negative: 15681\n",
      "[LightGBM] [Info] This is the GPU trainer!!\n",
      "[LightGBM] [Info] Total Bins 2518\n",
      "[LightGBM] [Info] Number of data points in the train set: 23586, number of used features: 15\n",
      "[LightGBM] [Info] Using GPU Device: Tesla T4, Vendor: NVIDIA Corporation\n",
      "[LightGBM] [Info] Compiling OpenCL Kernel with 256 bins...\n",
      "[LightGBM] [Info] GPU programs have been built\n",
      "[LightGBM] [Info] Size of histogram bin entry: 8\n",
      "[LightGBM] [Info] 13 dense feature groups (0.36 MB) transferred to GPU in 0.001404 secs. 1 sparse feature groups\n",
      "[LightGBM] [Info] [binary:BoostFromScore]: pavg=0.335156 -> initscore=-0.684954\n",
      "[LightGBM] [Info] Start training from score -0.684954\n"
     ]
    },
    {
     "name": "stderr",
     "output_type": "stream",
     "text": [
      "/usr/local/lib/python3.11/dist-packages/lightgbm/basic.py:2118: UserWarning: categorical_feature keyword has been found in `params` and will be ignored.\n",
      "Please use categorical_feature argument of the Dataset constructor to pass this parameter.\n",
      "  _log_warning(\n",
      "/usr/local/lib/python3.11/dist-packages/lightgbm/basic.py:2140: UserWarning: categorical_feature in param dict is overridden.\n",
      "  _log_warning(f\"{cat_alias} in param dict is overridden.\")\n"
     ]
    },
    {
     "name": "stdout",
     "output_type": "stream",
     "text": [
      "[CV] END learning_rate=0.01, n_estimators=500, num_leaves=30; total time=   2.2s\n",
      "[LightGBM] [Warning] categorical_feature is set=lang, categorical_column=5 will be ignored. Current value: categorical_feature=lang\n",
      "[LightGBM] [Info] Number of positive: 7905, number of negative: 15681\n",
      "[LightGBM] [Info] This is the GPU trainer!!\n",
      "[LightGBM] [Info] Total Bins 2518\n",
      "[LightGBM] [Info] Number of data points in the train set: 23586, number of used features: 15\n",
      "[LightGBM] [Info] Using GPU Device: Tesla T4, Vendor: NVIDIA Corporation\n",
      "[LightGBM] [Info] Compiling OpenCL Kernel with 256 bins...\n",
      "[LightGBM] [Info] GPU programs have been built\n",
      "[LightGBM] [Info] Size of histogram bin entry: 8\n",
      "[LightGBM] [Info] 13 dense feature groups (0.36 MB) transferred to GPU in 0.001268 secs. 1 sparse feature groups\n",
      "[LightGBM] [Info] [binary:BoostFromScore]: pavg=0.335156 -> initscore=-0.684954\n",
      "[LightGBM] [Info] Start training from score -0.684954\n"
     ]
    },
    {
     "name": "stderr",
     "output_type": "stream",
     "text": [
      "/usr/local/lib/python3.11/dist-packages/lightgbm/basic.py:2118: UserWarning: categorical_feature keyword has been found in `params` and will be ignored.\n",
      "Please use categorical_feature argument of the Dataset constructor to pass this parameter.\n",
      "  _log_warning(\n",
      "/usr/local/lib/python3.11/dist-packages/lightgbm/basic.py:2140: UserWarning: categorical_feature in param dict is overridden.\n",
      "  _log_warning(f\"{cat_alias} in param dict is overridden.\")\n"
     ]
    },
    {
     "name": "stdout",
     "output_type": "stream",
     "text": [
      "[CV] END learning_rate=0.01, n_estimators=500, num_leaves=30; total time=   2.1s\n",
      "[LightGBM] [Warning] categorical_feature is set=lang, categorical_column=5 will be ignored. Current value: categorical_feature=lang\n",
      "[LightGBM] [Info] Number of positive: 7905, number of negative: 15681\n",
      "[LightGBM] [Info] This is the GPU trainer!!\n",
      "[LightGBM] [Info] Total Bins 2514\n",
      "[LightGBM] [Info] Number of data points in the train set: 23586, number of used features: 15\n",
      "[LightGBM] [Info] Using GPU Device: Tesla T4, Vendor: NVIDIA Corporation\n",
      "[LightGBM] [Info] Compiling OpenCL Kernel with 256 bins...\n",
      "[LightGBM] [Info] GPU programs have been built\n",
      "[LightGBM] [Info] Size of histogram bin entry: 8\n",
      "[LightGBM] [Info] 13 dense feature groups (0.36 MB) transferred to GPU in 0.001190 secs. 1 sparse feature groups\n",
      "[LightGBM] [Info] [binary:BoostFromScore]: pavg=0.335156 -> initscore=-0.684954\n",
      "[LightGBM] [Info] Start training from score -0.684954\n"
     ]
    },
    {
     "name": "stderr",
     "output_type": "stream",
     "text": [
      "/usr/local/lib/python3.11/dist-packages/lightgbm/basic.py:2118: UserWarning: categorical_feature keyword has been found in `params` and will be ignored.\n",
      "Please use categorical_feature argument of the Dataset constructor to pass this parameter.\n",
      "  _log_warning(\n",
      "/usr/local/lib/python3.11/dist-packages/lightgbm/basic.py:2140: UserWarning: categorical_feature in param dict is overridden.\n",
      "  _log_warning(f\"{cat_alias} in param dict is overridden.\")\n"
     ]
    },
    {
     "name": "stdout",
     "output_type": "stream",
     "text": [
      "[CV] END learning_rate=0.01, n_estimators=500, num_leaves=30; total time=   4.5s\n",
      "[LightGBM] [Warning] categorical_feature is set=lang, categorical_column=5 will be ignored. Current value: categorical_feature=lang\n",
      "[LightGBM] [Info] Number of positive: 7904, number of negative: 15681\n",
      "[LightGBM] [Info] This is the GPU trainer!!\n",
      "[LightGBM] [Info] Total Bins 2510\n",
      "[LightGBM] [Info] Number of data points in the train set: 23585, number of used features: 15\n",
      "[LightGBM] [Info] Using GPU Device: Tesla T4, Vendor: NVIDIA Corporation\n",
      "[LightGBM] [Info] Compiling OpenCL Kernel with 256 bins...\n",
      "[LightGBM] [Info] GPU programs have been built\n",
      "[LightGBM] [Info] Size of histogram bin entry: 8\n",
      "[LightGBM] [Info] 13 dense feature groups (0.36 MB) transferred to GPU in 0.001215 secs. 1 sparse feature groups\n",
      "[LightGBM] [Info] [binary:BoostFromScore]: pavg=0.335128 -> initscore=-0.685081\n",
      "[LightGBM] [Info] Start training from score -0.685081\n"
     ]
    },
    {
     "name": "stderr",
     "output_type": "stream",
     "text": [
      "/usr/local/lib/python3.11/dist-packages/lightgbm/basic.py:2118: UserWarning: categorical_feature keyword has been found in `params` and will be ignored.\n",
      "Please use categorical_feature argument of the Dataset constructor to pass this parameter.\n",
      "  _log_warning(\n",
      "/usr/local/lib/python3.11/dist-packages/lightgbm/basic.py:2140: UserWarning: categorical_feature in param dict is overridden.\n",
      "  _log_warning(f\"{cat_alias} in param dict is overridden.\")\n"
     ]
    },
    {
     "name": "stdout",
     "output_type": "stream",
     "text": [
      "[CV] END learning_rate=0.01, n_estimators=500, num_leaves=45; total time=   3.0s\n",
      "[LightGBM] [Warning] categorical_feature is set=lang, categorical_column=5 will be ignored. Current value: categorical_feature=lang\n",
      "[LightGBM] [Info] Number of positive: 7904, number of negative: 15681\n",
      "[LightGBM] [Info] This is the GPU trainer!!\n",
      "[LightGBM] [Info] Total Bins 2519\n",
      "[LightGBM] [Info] Number of data points in the train set: 23585, number of used features: 15\n",
      "[LightGBM] [Info] Using GPU Device: Tesla T4, Vendor: NVIDIA Corporation\n",
      "[LightGBM] [Info] Compiling OpenCL Kernel with 256 bins...\n",
      "[LightGBM] [Info] GPU programs have been built\n",
      "[LightGBM] [Info] Size of histogram bin entry: 8\n",
      "[LightGBM] [Info] 13 dense feature groups (0.36 MB) transferred to GPU in 0.001336 secs. 1 sparse feature groups\n",
      "[LightGBM] [Info] [binary:BoostFromScore]: pavg=0.335128 -> initscore=-0.685081\n",
      "[LightGBM] [Info] Start training from score -0.685081\n"
     ]
    },
    {
     "name": "stderr",
     "output_type": "stream",
     "text": [
      "/usr/local/lib/python3.11/dist-packages/lightgbm/basic.py:2118: UserWarning: categorical_feature keyword has been found in `params` and will be ignored.\n",
      "Please use categorical_feature argument of the Dataset constructor to pass this parameter.\n",
      "  _log_warning(\n",
      "/usr/local/lib/python3.11/dist-packages/lightgbm/basic.py:2140: UserWarning: categorical_feature in param dict is overridden.\n",
      "  _log_warning(f\"{cat_alias} in param dict is overridden.\")\n"
     ]
    },
    {
     "name": "stdout",
     "output_type": "stream",
     "text": [
      "[CV] END learning_rate=0.01, n_estimators=500, num_leaves=45; total time=   2.9s\n",
      "[LightGBM] [Warning] categorical_feature is set=lang, categorical_column=5 will be ignored. Current value: categorical_feature=lang\n",
      "[LightGBM] [Info] Number of positive: 7904, number of negative: 15681\n",
      "[LightGBM] [Info] This is the GPU trainer!!\n",
      "[LightGBM] [Info] Total Bins 2517\n",
      "[LightGBM] [Info] Number of data points in the train set: 23585, number of used features: 15\n",
      "[LightGBM] [Info] Using GPU Device: Tesla T4, Vendor: NVIDIA Corporation\n",
      "[LightGBM] [Info] Compiling OpenCL Kernel with 256 bins...\n",
      "[LightGBM] [Info] GPU programs have been built\n",
      "[LightGBM] [Info] Size of histogram bin entry: 8\n",
      "[LightGBM] [Info] 13 dense feature groups (0.36 MB) transferred to GPU in 0.013427 secs. 1 sparse feature groups\n",
      "[LightGBM] [Info] [binary:BoostFromScore]: pavg=0.335128 -> initscore=-0.685081\n",
      "[LightGBM] [Info] Start training from score -0.685081\n"
     ]
    },
    {
     "name": "stderr",
     "output_type": "stream",
     "text": [
      "/usr/local/lib/python3.11/dist-packages/lightgbm/basic.py:2118: UserWarning: categorical_feature keyword has been found in `params` and will be ignored.\n",
      "Please use categorical_feature argument of the Dataset constructor to pass this parameter.\n",
      "  _log_warning(\n",
      "/usr/local/lib/python3.11/dist-packages/lightgbm/basic.py:2140: UserWarning: categorical_feature in param dict is overridden.\n",
      "  _log_warning(f\"{cat_alias} in param dict is overridden.\")\n"
     ]
    },
    {
     "name": "stdout",
     "output_type": "stream",
     "text": [
      "[CV] END learning_rate=0.01, n_estimators=500, num_leaves=45; total time=   2.9s\n",
      "[LightGBM] [Warning] categorical_feature is set=lang, categorical_column=5 will be ignored. Current value: categorical_feature=lang\n",
      "[LightGBM] [Info] Number of positive: 7905, number of negative: 15680\n",
      "[LightGBM] [Info] This is the GPU trainer!!\n",
      "[LightGBM] [Info] Total Bins 2512\n",
      "[LightGBM] [Info] Number of data points in the train set: 23585, number of used features: 15\n",
      "[LightGBM] [Info] Using GPU Device: Tesla T4, Vendor: NVIDIA Corporation\n",
      "[LightGBM] [Info] Compiling OpenCL Kernel with 256 bins...\n",
      "[LightGBM] [Info] GPU programs have been built\n",
      "[LightGBM] [Info] Size of histogram bin entry: 8\n",
      "[LightGBM] [Info] 13 dense feature groups (0.36 MB) transferred to GPU in 0.001143 secs. 1 sparse feature groups\n",
      "[LightGBM] [Info] [binary:BoostFromScore]: pavg=0.335171 -> initscore=-0.684891\n",
      "[LightGBM] [Info] Start training from score -0.684891\n"
     ]
    },
    {
     "name": "stderr",
     "output_type": "stream",
     "text": [
      "/usr/local/lib/python3.11/dist-packages/lightgbm/basic.py:2118: UserWarning: categorical_feature keyword has been found in `params` and will be ignored.\n",
      "Please use categorical_feature argument of the Dataset constructor to pass this parameter.\n",
      "  _log_warning(\n",
      "/usr/local/lib/python3.11/dist-packages/lightgbm/basic.py:2140: UserWarning: categorical_feature in param dict is overridden.\n",
      "  _log_warning(f\"{cat_alias} in param dict is overridden.\")\n"
     ]
    },
    {
     "name": "stdout",
     "output_type": "stream",
     "text": [
      "[CV] END learning_rate=0.01, n_estimators=500, num_leaves=45; total time=   5.2s\n",
      "[LightGBM] [Warning] categorical_feature is set=lang, categorical_column=5 will be ignored. Current value: categorical_feature=lang\n",
      "[LightGBM] [Info] Number of positive: 7905, number of negative: 15680\n",
      "[LightGBM] [Info] This is the GPU trainer!!\n",
      "[LightGBM] [Info] Total Bins 2523\n",
      "[LightGBM] [Info] Number of data points in the train set: 23585, number of used features: 15\n",
      "[LightGBM] [Info] Using GPU Device: Tesla T4, Vendor: NVIDIA Corporation\n",
      "[LightGBM] [Info] Compiling OpenCL Kernel with 256 bins...\n",
      "[LightGBM] [Info] GPU programs have been built\n",
      "[LightGBM] [Info] Size of histogram bin entry: 8\n",
      "[LightGBM] [Info] 13 dense feature groups (0.36 MB) transferred to GPU in 0.001230 secs. 1 sparse feature groups\n",
      "[LightGBM] [Info] [binary:BoostFromScore]: pavg=0.335171 -> initscore=-0.684891\n",
      "[LightGBM] [Info] Start training from score -0.684891\n"
     ]
    },
    {
     "name": "stderr",
     "output_type": "stream",
     "text": [
      "/usr/local/lib/python3.11/dist-packages/lightgbm/basic.py:2118: UserWarning: categorical_feature keyword has been found in `params` and will be ignored.\n",
      "Please use categorical_feature argument of the Dataset constructor to pass this parameter.\n",
      "  _log_warning(\n",
      "/usr/local/lib/python3.11/dist-packages/lightgbm/basic.py:2140: UserWarning: categorical_feature in param dict is overridden.\n",
      "  _log_warning(f\"{cat_alias} in param dict is overridden.\")\n"
     ]
    },
    {
     "name": "stdout",
     "output_type": "stream",
     "text": [
      "[CV] END learning_rate=0.01, n_estimators=500, num_leaves=45; total time=   2.9s\n",
      "[LightGBM] [Warning] categorical_feature is set=lang, categorical_column=5 will be ignored. Current value: categorical_feature=lang\n",
      "[LightGBM] [Info] Number of positive: 7905, number of negative: 15680\n",
      "[LightGBM] [Info] This is the GPU trainer!!\n",
      "[LightGBM] [Info] Total Bins 2517\n",
      "[LightGBM] [Info] Number of data points in the train set: 23585, number of used features: 15\n",
      "[LightGBM] [Info] Using GPU Device: Tesla T4, Vendor: NVIDIA Corporation\n",
      "[LightGBM] [Info] Compiling OpenCL Kernel with 256 bins...\n",
      "[LightGBM] [Info] GPU programs have been built\n",
      "[LightGBM] [Info] Size of histogram bin entry: 8\n",
      "[LightGBM] [Info] 13 dense feature groups (0.36 MB) transferred to GPU in 0.001120 secs. 1 sparse feature groups\n",
      "[LightGBM] [Info] [binary:BoostFromScore]: pavg=0.335171 -> initscore=-0.684891\n",
      "[LightGBM] [Info] Start training from score -0.684891\n"
     ]
    },
    {
     "name": "stderr",
     "output_type": "stream",
     "text": [
      "/usr/local/lib/python3.11/dist-packages/lightgbm/basic.py:2118: UserWarning: categorical_feature keyword has been found in `params` and will be ignored.\n",
      "Please use categorical_feature argument of the Dataset constructor to pass this parameter.\n",
      "  _log_warning(\n",
      "/usr/local/lib/python3.11/dist-packages/lightgbm/basic.py:2140: UserWarning: categorical_feature in param dict is overridden.\n",
      "  _log_warning(f\"{cat_alias} in param dict is overridden.\")\n"
     ]
    },
    {
     "name": "stdout",
     "output_type": "stream",
     "text": [
      "[CV] END learning_rate=0.01, n_estimators=500, num_leaves=45; total time=   2.8s\n",
      "[LightGBM] [Warning] categorical_feature is set=lang, categorical_column=5 will be ignored. Current value: categorical_feature=lang\n",
      "[LightGBM] [Info] Number of positive: 7905, number of negative: 15681\n",
      "[LightGBM] [Info] This is the GPU trainer!!\n",
      "[LightGBM] [Info] Total Bins 2514\n",
      "[LightGBM] [Info] Number of data points in the train set: 23586, number of used features: 15\n",
      "[LightGBM] [Info] Using GPU Device: Tesla T4, Vendor: NVIDIA Corporation\n",
      "[LightGBM] [Info] Compiling OpenCL Kernel with 256 bins...\n",
      "[LightGBM] [Info] GPU programs have been built\n",
      "[LightGBM] [Info] Size of histogram bin entry: 8\n",
      "[LightGBM] [Info] 13 dense feature groups (0.36 MB) transferred to GPU in 0.001209 secs. 1 sparse feature groups\n",
      "[LightGBM] [Info] [binary:BoostFromScore]: pavg=0.335156 -> initscore=-0.684954\n",
      "[LightGBM] [Info] Start training from score -0.684954\n"
     ]
    },
    {
     "name": "stderr",
     "output_type": "stream",
     "text": [
      "/usr/local/lib/python3.11/dist-packages/lightgbm/basic.py:2118: UserWarning: categorical_feature keyword has been found in `params` and will be ignored.\n",
      "Please use categorical_feature argument of the Dataset constructor to pass this parameter.\n",
      "  _log_warning(\n",
      "/usr/local/lib/python3.11/dist-packages/lightgbm/basic.py:2140: UserWarning: categorical_feature in param dict is overridden.\n",
      "  _log_warning(f\"{cat_alias} in param dict is overridden.\")\n"
     ]
    },
    {
     "name": "stdout",
     "output_type": "stream",
     "text": [
      "[CV] END learning_rate=0.01, n_estimators=500, num_leaves=45; total time=   2.9s\n",
      "[LightGBM] [Warning] categorical_feature is set=lang, categorical_column=5 will be ignored. Current value: categorical_feature=lang\n",
      "[LightGBM] [Info] Number of positive: 7905, number of negative: 15681\n",
      "[LightGBM] [Info] This is the GPU trainer!!\n",
      "[LightGBM] [Info] Total Bins 2518\n",
      "[LightGBM] [Info] Number of data points in the train set: 23586, number of used features: 15\n",
      "[LightGBM] [Info] Using GPU Device: Tesla T4, Vendor: NVIDIA Corporation\n",
      "[LightGBM] [Info] Compiling OpenCL Kernel with 256 bins...\n",
      "[LightGBM] [Info] GPU programs have been built\n",
      "[LightGBM] [Info] Size of histogram bin entry: 8\n",
      "[LightGBM] [Info] 13 dense feature groups (0.36 MB) transferred to GPU in 0.002668 secs. 1 sparse feature groups\n",
      "[LightGBM] [Info] [binary:BoostFromScore]: pavg=0.335156 -> initscore=-0.684954\n",
      "[LightGBM] [Info] Start training from score -0.684954\n"
     ]
    },
    {
     "name": "stderr",
     "output_type": "stream",
     "text": [
      "/usr/local/lib/python3.11/dist-packages/lightgbm/basic.py:2118: UserWarning: categorical_feature keyword has been found in `params` and will be ignored.\n",
      "Please use categorical_feature argument of the Dataset constructor to pass this parameter.\n",
      "  _log_warning(\n",
      "/usr/local/lib/python3.11/dist-packages/lightgbm/basic.py:2140: UserWarning: categorical_feature in param dict is overridden.\n",
      "  _log_warning(f\"{cat_alias} in param dict is overridden.\")\n"
     ]
    },
    {
     "name": "stdout",
     "output_type": "stream",
     "text": [
      "[CV] END learning_rate=0.01, n_estimators=500, num_leaves=45; total time=   5.2s\n",
      "[LightGBM] [Warning] categorical_feature is set=lang, categorical_column=5 will be ignored. Current value: categorical_feature=lang\n",
      "[LightGBM] [Info] Number of positive: 7905, number of negative: 15681\n",
      "[LightGBM] [Info] This is the GPU trainer!!\n",
      "[LightGBM] [Info] Total Bins 2518\n",
      "[LightGBM] [Info] Number of data points in the train set: 23586, number of used features: 15\n",
      "[LightGBM] [Info] Using GPU Device: Tesla T4, Vendor: NVIDIA Corporation\n",
      "[LightGBM] [Info] Compiling OpenCL Kernel with 256 bins...\n",
      "[LightGBM] [Info] GPU programs have been built\n",
      "[LightGBM] [Info] Size of histogram bin entry: 8\n",
      "[LightGBM] [Info] 13 dense feature groups (0.36 MB) transferred to GPU in 0.001178 secs. 1 sparse feature groups\n",
      "[LightGBM] [Info] [binary:BoostFromScore]: pavg=0.335156 -> initscore=-0.684954\n",
      "[LightGBM] [Info] Start training from score -0.684954\n"
     ]
    },
    {
     "name": "stderr",
     "output_type": "stream",
     "text": [
      "/usr/local/lib/python3.11/dist-packages/lightgbm/basic.py:2118: UserWarning: categorical_feature keyword has been found in `params` and will be ignored.\n",
      "Please use categorical_feature argument of the Dataset constructor to pass this parameter.\n",
      "  _log_warning(\n",
      "/usr/local/lib/python3.11/dist-packages/lightgbm/basic.py:2140: UserWarning: categorical_feature in param dict is overridden.\n",
      "  _log_warning(f\"{cat_alias} in param dict is overridden.\")\n"
     ]
    },
    {
     "name": "stdout",
     "output_type": "stream",
     "text": [
      "[CV] END learning_rate=0.01, n_estimators=500, num_leaves=45; total time=   2.9s\n",
      "[LightGBM] [Warning] categorical_feature is set=lang, categorical_column=5 will be ignored. Current value: categorical_feature=lang\n",
      "[LightGBM] [Info] Number of positive: 7905, number of negative: 15681\n",
      "[LightGBM] [Info] This is the GPU trainer!!\n",
      "[LightGBM] [Info] Total Bins 2514\n",
      "[LightGBM] [Info] Number of data points in the train set: 23586, number of used features: 15\n",
      "[LightGBM] [Info] Using GPU Device: Tesla T4, Vendor: NVIDIA Corporation\n",
      "[LightGBM] [Info] Compiling OpenCL Kernel with 256 bins...\n",
      "[LightGBM] [Info] GPU programs have been built\n",
      "[LightGBM] [Info] Size of histogram bin entry: 8\n",
      "[LightGBM] [Info] 13 dense feature groups (0.36 MB) transferred to GPU in 0.001280 secs. 1 sparse feature groups\n",
      "[LightGBM] [Info] [binary:BoostFromScore]: pavg=0.335156 -> initscore=-0.684954\n",
      "[LightGBM] [Info] Start training from score -0.684954\n"
     ]
    },
    {
     "name": "stderr",
     "output_type": "stream",
     "text": [
      "/usr/local/lib/python3.11/dist-packages/lightgbm/basic.py:2118: UserWarning: categorical_feature keyword has been found in `params` and will be ignored.\n",
      "Please use categorical_feature argument of the Dataset constructor to pass this parameter.\n",
      "  _log_warning(\n",
      "/usr/local/lib/python3.11/dist-packages/lightgbm/basic.py:2140: UserWarning: categorical_feature in param dict is overridden.\n",
      "  _log_warning(f\"{cat_alias} in param dict is overridden.\")\n"
     ]
    },
    {
     "name": "stdout",
     "output_type": "stream",
     "text": [
      "[CV] END learning_rate=0.01, n_estimators=500, num_leaves=45; total time=   2.9s\n",
      "[LightGBM] [Warning] categorical_feature is set=lang, categorical_column=5 will be ignored. Current value: categorical_feature=lang\n",
      "[LightGBM] [Info] Number of positive: 7904, number of negative: 15681\n",
      "[LightGBM] [Info] This is the GPU trainer!!\n",
      "[LightGBM] [Info] Total Bins 2510\n",
      "[LightGBM] [Info] Number of data points in the train set: 23585, number of used features: 15\n",
      "[LightGBM] [Info] Using GPU Device: Tesla T4, Vendor: NVIDIA Corporation\n",
      "[LightGBM] [Info] Compiling OpenCL Kernel with 256 bins...\n",
      "[LightGBM] [Info] GPU programs have been built\n",
      "[LightGBM] [Info] Size of histogram bin entry: 8\n",
      "[LightGBM] [Info] 13 dense feature groups (0.36 MB) transferred to GPU in 0.001357 secs. 1 sparse feature groups\n",
      "[LightGBM] [Info] [binary:BoostFromScore]: pavg=0.335128 -> initscore=-0.685081\n",
      "[LightGBM] [Info] Start training from score -0.685081\n"
     ]
    },
    {
     "name": "stderr",
     "output_type": "stream",
     "text": [
      "/usr/local/lib/python3.11/dist-packages/lightgbm/basic.py:2118: UserWarning: categorical_feature keyword has been found in `params` and will be ignored.\n",
      "Please use categorical_feature argument of the Dataset constructor to pass this parameter.\n",
      "  _log_warning(\n",
      "/usr/local/lib/python3.11/dist-packages/lightgbm/basic.py:2140: UserWarning: categorical_feature in param dict is overridden.\n",
      "  _log_warning(f\"{cat_alias} in param dict is overridden.\")\n"
     ]
    },
    {
     "name": "stdout",
     "output_type": "stream",
     "text": [
      "[CV] END learning_rate=0.01, n_estimators=600, num_leaves=15; total time=   1.6s\n",
      "[LightGBM] [Warning] categorical_feature is set=lang, categorical_column=5 will be ignored. Current value: categorical_feature=lang\n",
      "[LightGBM] [Info] Number of positive: 7904, number of negative: 15681\n",
      "[LightGBM] [Info] This is the GPU trainer!!\n",
      "[LightGBM] [Info] Total Bins 2519\n",
      "[LightGBM] [Info] Number of data points in the train set: 23585, number of used features: 15\n",
      "[LightGBM] [Info] Using GPU Device: Tesla T4, Vendor: NVIDIA Corporation\n",
      "[LightGBM] [Info] Compiling OpenCL Kernel with 256 bins...\n",
      "[LightGBM] [Info] GPU programs have been built\n",
      "[LightGBM] [Info] Size of histogram bin entry: 8\n",
      "[LightGBM] [Info] 13 dense feature groups (0.36 MB) transferred to GPU in 0.001336 secs. 1 sparse feature groups\n",
      "[LightGBM] [Info] [binary:BoostFromScore]: pavg=0.335128 -> initscore=-0.685081\n",
      "[LightGBM] [Info] Start training from score -0.685081\n"
     ]
    },
    {
     "name": "stderr",
     "output_type": "stream",
     "text": [
      "/usr/local/lib/python3.11/dist-packages/lightgbm/basic.py:2118: UserWarning: categorical_feature keyword has been found in `params` and will be ignored.\n",
      "Please use categorical_feature argument of the Dataset constructor to pass this parameter.\n",
      "  _log_warning(\n",
      "/usr/local/lib/python3.11/dist-packages/lightgbm/basic.py:2140: UserWarning: categorical_feature in param dict is overridden.\n",
      "  _log_warning(f\"{cat_alias} in param dict is overridden.\")\n"
     ]
    },
    {
     "name": "stdout",
     "output_type": "stream",
     "text": [
      "[CV] END learning_rate=0.01, n_estimators=600, num_leaves=15; total time=   1.6s\n",
      "[LightGBM] [Warning] categorical_feature is set=lang, categorical_column=5 will be ignored. Current value: categorical_feature=lang\n",
      "[LightGBM] [Info] Number of positive: 7904, number of negative: 15681\n",
      "[LightGBM] [Info] This is the GPU trainer!!\n",
      "[LightGBM] [Info] Total Bins 2517\n",
      "[LightGBM] [Info] Number of data points in the train set: 23585, number of used features: 15\n",
      "[LightGBM] [Info] Using GPU Device: Tesla T4, Vendor: NVIDIA Corporation\n",
      "[LightGBM] [Info] Compiling OpenCL Kernel with 256 bins...\n",
      "[LightGBM] [Info] GPU programs have been built\n",
      "[LightGBM] [Info] Size of histogram bin entry: 8\n",
      "[LightGBM] [Info] 13 dense feature groups (0.36 MB) transferred to GPU in 0.001313 secs. 1 sparse feature groups\n",
      "[LightGBM] [Info] [binary:BoostFromScore]: pavg=0.335128 -> initscore=-0.685081\n",
      "[LightGBM] [Info] Start training from score -0.685081\n"
     ]
    },
    {
     "name": "stderr",
     "output_type": "stream",
     "text": [
      "/usr/local/lib/python3.11/dist-packages/lightgbm/basic.py:2118: UserWarning: categorical_feature keyword has been found in `params` and will be ignored.\n",
      "Please use categorical_feature argument of the Dataset constructor to pass this parameter.\n",
      "  _log_warning(\n",
      "/usr/local/lib/python3.11/dist-packages/lightgbm/basic.py:2140: UserWarning: categorical_feature in param dict is overridden.\n",
      "  _log_warning(f\"{cat_alias} in param dict is overridden.\")\n"
     ]
    },
    {
     "name": "stdout",
     "output_type": "stream",
     "text": [
      "[CV] END learning_rate=0.01, n_estimators=600, num_leaves=15; total time=   1.6s\n",
      "[LightGBM] [Warning] categorical_feature is set=lang, categorical_column=5 will be ignored. Current value: categorical_feature=lang\n",
      "[LightGBM] [Info] Number of positive: 7905, number of negative: 15680\n",
      "[LightGBM] [Info] This is the GPU trainer!!\n",
      "[LightGBM] [Info] Total Bins 2512\n",
      "[LightGBM] [Info] Number of data points in the train set: 23585, number of used features: 15\n",
      "[LightGBM] [Info] Using GPU Device: Tesla T4, Vendor: NVIDIA Corporation\n",
      "[LightGBM] [Info] Compiling OpenCL Kernel with 256 bins...\n",
      "[LightGBM] [Info] GPU programs have been built\n",
      "[LightGBM] [Info] Size of histogram bin entry: 8\n"
     ]
    },
    {
     "name": "stderr",
     "output_type": "stream",
     "text": [
      "/usr/local/lib/python3.11/dist-packages/lightgbm/basic.py:2118: UserWarning: categorical_feature keyword has been found in `params` and will be ignored.\n",
      "Please use categorical_feature argument of the Dataset constructor to pass this parameter.\n",
      "  _log_warning(\n",
      "/usr/local/lib/python3.11/dist-packages/lightgbm/basic.py:2140: UserWarning: categorical_feature in param dict is overridden.\n",
      "  _log_warning(f\"{cat_alias} in param dict is overridden.\")\n"
     ]
    },
    {
     "name": "stdout",
     "output_type": "stream",
     "text": [
      "[LightGBM] [Info] 13 dense feature groups (0.36 MB) transferred to GPU in 0.068038 secs. 1 sparse feature groups\n",
      "[LightGBM] [Info] [binary:BoostFromScore]: pavg=0.335171 -> initscore=-0.684891\n",
      "[LightGBM] [Info] Start training from score -0.684891\n",
      "[CV] END learning_rate=0.01, n_estimators=600, num_leaves=15; total time=   3.6s\n",
      "[LightGBM] [Warning] categorical_feature is set=lang, categorical_column=5 will be ignored. Current value: categorical_feature=lang\n",
      "[LightGBM] [Info] Number of positive: 7905, number of negative: 15680\n",
      "[LightGBM] [Info] This is the GPU trainer!!\n",
      "[LightGBM] [Info] Total Bins 2523\n",
      "[LightGBM] [Info] Number of data points in the train set: 23585, number of used features: 15\n",
      "[LightGBM] [Info] Using GPU Device: Tesla T4, Vendor: NVIDIA Corporation\n",
      "[LightGBM] [Info] Compiling OpenCL Kernel with 256 bins...\n",
      "[LightGBM] [Info] GPU programs have been built\n",
      "[LightGBM] [Info] Size of histogram bin entry: 8\n",
      "[LightGBM] [Info] 13 dense feature groups (0.36 MB) transferred to GPU in 0.001270 secs. 1 sparse feature groups\n",
      "[LightGBM] [Info] [binary:BoostFromScore]: pavg=0.335171 -> initscore=-0.684891\n",
      "[LightGBM] [Info] Start training from score -0.684891\n"
     ]
    },
    {
     "name": "stderr",
     "output_type": "stream",
     "text": [
      "/usr/local/lib/python3.11/dist-packages/lightgbm/basic.py:2118: UserWarning: categorical_feature keyword has been found in `params` and will be ignored.\n",
      "Please use categorical_feature argument of the Dataset constructor to pass this parameter.\n",
      "  _log_warning(\n",
      "/usr/local/lib/python3.11/dist-packages/lightgbm/basic.py:2140: UserWarning: categorical_feature in param dict is overridden.\n",
      "  _log_warning(f\"{cat_alias} in param dict is overridden.\")\n"
     ]
    },
    {
     "name": "stdout",
     "output_type": "stream",
     "text": [
      "[CV] END learning_rate=0.01, n_estimators=600, num_leaves=15; total time=   1.6s\n",
      "[LightGBM] [Warning] categorical_feature is set=lang, categorical_column=5 will be ignored. Current value: categorical_feature=lang\n",
      "[LightGBM] [Info] Number of positive: 7905, number of negative: 15680\n",
      "[LightGBM] [Info] This is the GPU trainer!!\n",
      "[LightGBM] [Info] Total Bins 2517\n",
      "[LightGBM] [Info] Number of data points in the train set: 23585, number of used features: 15\n",
      "[LightGBM] [Info] Using GPU Device: Tesla T4, Vendor: NVIDIA Corporation\n",
      "[LightGBM] [Info] Compiling OpenCL Kernel with 256 bins...\n",
      "[LightGBM] [Info] GPU programs have been built\n",
      "[LightGBM] [Info] Size of histogram bin entry: 8\n",
      "[LightGBM] [Info] 13 dense feature groups (0.36 MB) transferred to GPU in 0.009866 secs. 1 sparse feature groups\n",
      "[LightGBM] [Info] [binary:BoostFromScore]: pavg=0.335171 -> initscore=-0.684891\n",
      "[LightGBM] [Info] Start training from score -0.684891\n"
     ]
    },
    {
     "name": "stderr",
     "output_type": "stream",
     "text": [
      "/usr/local/lib/python3.11/dist-packages/lightgbm/basic.py:2118: UserWarning: categorical_feature keyword has been found in `params` and will be ignored.\n",
      "Please use categorical_feature argument of the Dataset constructor to pass this parameter.\n",
      "  _log_warning(\n",
      "/usr/local/lib/python3.11/dist-packages/lightgbm/basic.py:2140: UserWarning: categorical_feature in param dict is overridden.\n",
      "  _log_warning(f\"{cat_alias} in param dict is overridden.\")\n"
     ]
    },
    {
     "name": "stdout",
     "output_type": "stream",
     "text": [
      "[CV] END learning_rate=0.01, n_estimators=600, num_leaves=15; total time=   1.6s\n",
      "[LightGBM] [Warning] categorical_feature is set=lang, categorical_column=5 will be ignored. Current value: categorical_feature=lang\n",
      "[LightGBM] [Info] Number of positive: 7905, number of negative: 15681\n",
      "[LightGBM] [Info] This is the GPU trainer!!\n",
      "[LightGBM] [Info] Total Bins 2514\n",
      "[LightGBM] [Info] Number of data points in the train set: 23586, number of used features: 15\n",
      "[LightGBM] [Info] Using GPU Device: Tesla T4, Vendor: NVIDIA Corporation\n",
      "[LightGBM] [Info] Compiling OpenCL Kernel with 256 bins...\n",
      "[LightGBM] [Info] GPU programs have been built\n",
      "[LightGBM] [Info] Size of histogram bin entry: 8\n",
      "[LightGBM] [Info] 13 dense feature groups (0.36 MB) transferred to GPU in 0.001247 secs. 1 sparse feature groups\n",
      "[LightGBM] [Info] [binary:BoostFromScore]: pavg=0.335156 -> initscore=-0.684954\n",
      "[LightGBM] [Info] Start training from score -0.684954\n"
     ]
    },
    {
     "name": "stderr",
     "output_type": "stream",
     "text": [
      "/usr/local/lib/python3.11/dist-packages/lightgbm/basic.py:2118: UserWarning: categorical_feature keyword has been found in `params` and will be ignored.\n",
      "Please use categorical_feature argument of the Dataset constructor to pass this parameter.\n",
      "  _log_warning(\n",
      "/usr/local/lib/python3.11/dist-packages/lightgbm/basic.py:2140: UserWarning: categorical_feature in param dict is overridden.\n",
      "  _log_warning(f\"{cat_alias} in param dict is overridden.\")\n"
     ]
    },
    {
     "name": "stdout",
     "output_type": "stream",
     "text": [
      "[CV] END learning_rate=0.01, n_estimators=600, num_leaves=15; total time=   1.6s\n",
      "[LightGBM] [Warning] categorical_feature is set=lang, categorical_column=5 will be ignored. Current value: categorical_feature=lang\n",
      "[LightGBM] [Info] Number of positive: 7905, number of negative: 15681\n",
      "[LightGBM] [Info] This is the GPU trainer!!\n",
      "[LightGBM] [Info] Total Bins 2518\n",
      "[LightGBM] [Info] Number of data points in the train set: 23586, number of used features: 15\n",
      "[LightGBM] [Info] Using GPU Device: Tesla T4, Vendor: NVIDIA Corporation\n",
      "[LightGBM] [Info] Compiling OpenCL Kernel with 256 bins...\n",
      "[LightGBM] [Info] GPU programs have been built\n",
      "[LightGBM] [Info] Size of histogram bin entry: 8\n",
      "[LightGBM] [Info] 13 dense feature groups (0.36 MB) transferred to GPU in 0.001361 secs. 1 sparse feature groups\n",
      "[LightGBM] [Info] [binary:BoostFromScore]: pavg=0.335156 -> initscore=-0.684954\n",
      "[LightGBM] [Info] Start training from score -0.684954\n"
     ]
    },
    {
     "name": "stderr",
     "output_type": "stream",
     "text": [
      "/usr/local/lib/python3.11/dist-packages/lightgbm/basic.py:2118: UserWarning: categorical_feature keyword has been found in `params` and will be ignored.\n",
      "Please use categorical_feature argument of the Dataset constructor to pass this parameter.\n",
      "  _log_warning(\n",
      "/usr/local/lib/python3.11/dist-packages/lightgbm/basic.py:2140: UserWarning: categorical_feature in param dict is overridden.\n",
      "  _log_warning(f\"{cat_alias} in param dict is overridden.\")\n"
     ]
    },
    {
     "name": "stdout",
     "output_type": "stream",
     "text": [
      "[CV] END learning_rate=0.01, n_estimators=600, num_leaves=15; total time=   1.6s\n",
      "[LightGBM] [Warning] categorical_feature is set=lang, categorical_column=5 will be ignored. Current value: categorical_feature=lang\n",
      "[LightGBM] [Info] Number of positive: 7905, number of negative: 15681\n",
      "[LightGBM] [Info] This is the GPU trainer!!\n",
      "[LightGBM] [Info] Total Bins 2518\n",
      "[LightGBM] [Info] Number of data points in the train set: 23586, number of used features: 15\n",
      "[LightGBM] [Info] Using GPU Device: Tesla T4, Vendor: NVIDIA Corporation\n",
      "[LightGBM] [Info] Compiling OpenCL Kernel with 256 bins...\n",
      "[LightGBM] [Info] GPU programs have been built\n",
      "[LightGBM] [Info] Size of histogram bin entry: 8\n",
      "[LightGBM] [Info] 13 dense feature groups (0.36 MB) transferred to GPU in 0.001152 secs. 1 sparse feature groups\n",
      "[LightGBM] [Info] [binary:BoostFromScore]: pavg=0.335156 -> initscore=-0.684954\n",
      "[LightGBM] [Info] Start training from score -0.684954\n"
     ]
    },
    {
     "name": "stderr",
     "output_type": "stream",
     "text": [
      "/usr/local/lib/python3.11/dist-packages/lightgbm/basic.py:2118: UserWarning: categorical_feature keyword has been found in `params` and will be ignored.\n",
      "Please use categorical_feature argument of the Dataset constructor to pass this parameter.\n",
      "  _log_warning(\n",
      "/usr/local/lib/python3.11/dist-packages/lightgbm/basic.py:2140: UserWarning: categorical_feature in param dict is overridden.\n",
      "  _log_warning(f\"{cat_alias} in param dict is overridden.\")\n"
     ]
    },
    {
     "name": "stdout",
     "output_type": "stream",
     "text": [
      "[CV] END learning_rate=0.01, n_estimators=600, num_leaves=15; total time=   1.5s\n",
      "[LightGBM] [Warning] categorical_feature is set=lang, categorical_column=5 will be ignored. Current value: categorical_feature=lang\n",
      "[LightGBM] [Info] Number of positive: 7905, number of negative: 15681\n",
      "[LightGBM] [Info] This is the GPU trainer!!\n",
      "[LightGBM] [Info] Total Bins 2514\n",
      "[LightGBM] [Info] Number of data points in the train set: 23586, number of used features: 15\n",
      "[LightGBM] [Info] Using GPU Device: Tesla T4, Vendor: NVIDIA Corporation\n",
      "[LightGBM] [Info] Compiling OpenCL Kernel with 256 bins...\n",
      "[LightGBM] [Info] GPU programs have been built\n",
      "[LightGBM] [Info] Size of histogram bin entry: 8\n",
      "[LightGBM] [Info] 13 dense feature groups (0.36 MB) transferred to GPU in 0.001204 secs. 1 sparse feature groups\n",
      "[LightGBM] [Info] [binary:BoostFromScore]: pavg=0.335156 -> initscore=-0.684954\n",
      "[LightGBM] [Info] Start training from score -0.684954\n"
     ]
    },
    {
     "name": "stderr",
     "output_type": "stream",
     "text": [
      "/usr/local/lib/python3.11/dist-packages/lightgbm/basic.py:2118: UserWarning: categorical_feature keyword has been found in `params` and will be ignored.\n",
      "Please use categorical_feature argument of the Dataset constructor to pass this parameter.\n",
      "  _log_warning(\n",
      "/usr/local/lib/python3.11/dist-packages/lightgbm/basic.py:2140: UserWarning: categorical_feature in param dict is overridden.\n",
      "  _log_warning(f\"{cat_alias} in param dict is overridden.\")\n"
     ]
    },
    {
     "name": "stdout",
     "output_type": "stream",
     "text": [
      "[CV] END learning_rate=0.01, n_estimators=600, num_leaves=15; total time=   1.5s\n",
      "[LightGBM] [Warning] categorical_feature is set=lang, categorical_column=5 will be ignored. Current value: categorical_feature=lang\n",
      "[LightGBM] [Info] Number of positive: 7904, number of negative: 15681\n",
      "[LightGBM] [Info] This is the GPU trainer!!\n",
      "[LightGBM] [Info] Total Bins 2510\n",
      "[LightGBM] [Info] Number of data points in the train set: 23585, number of used features: 15\n",
      "[LightGBM] [Info] Using GPU Device: Tesla T4, Vendor: NVIDIA Corporation\n",
      "[LightGBM] [Info] Compiling OpenCL Kernel with 256 bins...\n",
      "[LightGBM] [Info] GPU programs have been built\n",
      "[LightGBM] [Info] Size of histogram bin entry: 8\n",
      "[LightGBM] [Info] 13 dense feature groups (0.36 MB) transferred to GPU in 0.001202 secs. 1 sparse feature groups\n",
      "[LightGBM] [Info] [binary:BoostFromScore]: pavg=0.335128 -> initscore=-0.685081\n",
      "[LightGBM] [Info] Start training from score -0.685081\n"
     ]
    },
    {
     "name": "stderr",
     "output_type": "stream",
     "text": [
      "/usr/local/lib/python3.11/dist-packages/lightgbm/basic.py:2118: UserWarning: categorical_feature keyword has been found in `params` and will be ignored.\n",
      "Please use categorical_feature argument of the Dataset constructor to pass this parameter.\n",
      "  _log_warning(\n",
      "/usr/local/lib/python3.11/dist-packages/lightgbm/basic.py:2140: UserWarning: categorical_feature in param dict is overridden.\n",
      "  _log_warning(f\"{cat_alias} in param dict is overridden.\")\n"
     ]
    },
    {
     "name": "stdout",
     "output_type": "stream",
     "text": [
      "[CV] END learning_rate=0.01, n_estimators=600, num_leaves=30; total time=   4.9s\n",
      "[LightGBM] [Warning] categorical_feature is set=lang, categorical_column=5 will be ignored. Current value: categorical_feature=lang\n",
      "[LightGBM] [Info] Number of positive: 7904, number of negative: 15681\n",
      "[LightGBM] [Info] This is the GPU trainer!!\n",
      "[LightGBM] [Info] Total Bins 2519\n",
      "[LightGBM] [Info] Number of data points in the train set: 23585, number of used features: 15\n",
      "[LightGBM] [Info] Using GPU Device: Tesla T4, Vendor: NVIDIA Corporation\n",
      "[LightGBM] [Info] Compiling OpenCL Kernel with 256 bins...\n",
      "[LightGBM] [Info] GPU programs have been built\n",
      "[LightGBM] [Info] Size of histogram bin entry: 8\n",
      "[LightGBM] [Info] 13 dense feature groups (0.36 MB) transferred to GPU in 0.001305 secs. 1 sparse feature groups\n",
      "[LightGBM] [Info] [binary:BoostFromScore]: pavg=0.335128 -> initscore=-0.685081\n",
      "[LightGBM] [Info] Start training from score -0.685081\n"
     ]
    },
    {
     "name": "stderr",
     "output_type": "stream",
     "text": [
      "/usr/local/lib/python3.11/dist-packages/lightgbm/basic.py:2118: UserWarning: categorical_feature keyword has been found in `params` and will be ignored.\n",
      "Please use categorical_feature argument of the Dataset constructor to pass this parameter.\n",
      "  _log_warning(\n",
      "/usr/local/lib/python3.11/dist-packages/lightgbm/basic.py:2140: UserWarning: categorical_feature in param dict is overridden.\n",
      "  _log_warning(f\"{cat_alias} in param dict is overridden.\")\n"
     ]
    },
    {
     "name": "stdout",
     "output_type": "stream",
     "text": [
      "[CV] END learning_rate=0.01, n_estimators=600, num_leaves=30; total time=   2.5s\n",
      "[LightGBM] [Warning] categorical_feature is set=lang, categorical_column=5 will be ignored. Current value: categorical_feature=lang\n",
      "[LightGBM] [Info] Number of positive: 7904, number of negative: 15681\n",
      "[LightGBM] [Info] This is the GPU trainer!!\n",
      "[LightGBM] [Info] Total Bins 2517\n",
      "[LightGBM] [Info] Number of data points in the train set: 23585, number of used features: 15\n",
      "[LightGBM] [Info] Using GPU Device: Tesla T4, Vendor: NVIDIA Corporation\n",
      "[LightGBM] [Info] Compiling OpenCL Kernel with 256 bins...\n",
      "[LightGBM] [Info] GPU programs have been built\n",
      "[LightGBM] [Info] Size of histogram bin entry: 8\n",
      "[LightGBM] [Info] 13 dense feature groups (0.36 MB) transferred to GPU in 0.001247 secs. 1 sparse feature groups\n",
      "[LightGBM] [Info] [binary:BoostFromScore]: pavg=0.335128 -> initscore=-0.685081\n",
      "[LightGBM] [Info] Start training from score -0.685081\n"
     ]
    },
    {
     "name": "stderr",
     "output_type": "stream",
     "text": [
      "/usr/local/lib/python3.11/dist-packages/lightgbm/basic.py:2118: UserWarning: categorical_feature keyword has been found in `params` and will be ignored.\n",
      "Please use categorical_feature argument of the Dataset constructor to pass this parameter.\n",
      "  _log_warning(\n",
      "/usr/local/lib/python3.11/dist-packages/lightgbm/basic.py:2140: UserWarning: categorical_feature in param dict is overridden.\n",
      "  _log_warning(f\"{cat_alias} in param dict is overridden.\")\n"
     ]
    },
    {
     "name": "stdout",
     "output_type": "stream",
     "text": [
      "[CV] END learning_rate=0.01, n_estimators=600, num_leaves=30; total time=   2.5s\n",
      "[LightGBM] [Warning] categorical_feature is set=lang, categorical_column=5 will be ignored. Current value: categorical_feature=lang\n",
      "[LightGBM] [Info] Number of positive: 7905, number of negative: 15680\n",
      "[LightGBM] [Info] This is the GPU trainer!!\n",
      "[LightGBM] [Info] Total Bins 2512\n",
      "[LightGBM] [Info] Number of data points in the train set: 23585, number of used features: 15\n",
      "[LightGBM] [Info] Using GPU Device: Tesla T4, Vendor: NVIDIA Corporation\n",
      "[LightGBM] [Info] Compiling OpenCL Kernel with 256 bins...\n",
      "[LightGBM] [Info] GPU programs have been built\n",
      "[LightGBM] [Info] Size of histogram bin entry: 8\n",
      "[LightGBM] [Info] 13 dense feature groups (0.36 MB) transferred to GPU in 0.001282 secs. 1 sparse feature groups\n",
      "[LightGBM] [Info] [binary:BoostFromScore]: pavg=0.335171 -> initscore=-0.684891\n",
      "[LightGBM] [Info] Start training from score -0.684891\n"
     ]
    },
    {
     "name": "stderr",
     "output_type": "stream",
     "text": [
      "/usr/local/lib/python3.11/dist-packages/lightgbm/basic.py:2118: UserWarning: categorical_feature keyword has been found in `params` and will be ignored.\n",
      "Please use categorical_feature argument of the Dataset constructor to pass this parameter.\n",
      "  _log_warning(\n",
      "/usr/local/lib/python3.11/dist-packages/lightgbm/basic.py:2140: UserWarning: categorical_feature in param dict is overridden.\n",
      "  _log_warning(f\"{cat_alias} in param dict is overridden.\")\n"
     ]
    },
    {
     "name": "stdout",
     "output_type": "stream",
     "text": [
      "[CV] END learning_rate=0.01, n_estimators=600, num_leaves=30; total time=   2.6s\n",
      "[LightGBM] [Warning] categorical_feature is set=lang, categorical_column=5 will be ignored. Current value: categorical_feature=lang\n",
      "[LightGBM] [Info] Number of positive: 7905, number of negative: 15680\n",
      "[LightGBM] [Info] This is the GPU trainer!!\n",
      "[LightGBM] [Info] Total Bins 2523\n",
      "[LightGBM] [Info] Number of data points in the train set: 23585, number of used features: 15\n",
      "[LightGBM] [Info] Using GPU Device: Tesla T4, Vendor: NVIDIA Corporation\n",
      "[LightGBM] [Info] Compiling OpenCL Kernel with 256 bins...\n",
      "[LightGBM] [Info] GPU programs have been built\n",
      "[LightGBM] [Info] Size of histogram bin entry: 8\n",
      "[LightGBM] [Info] 13 dense feature groups (0.36 MB) transferred to GPU in 0.001161 secs. 1 sparse feature groups\n",
      "[LightGBM] [Info] [binary:BoostFromScore]: pavg=0.335171 -> initscore=-0.684891\n",
      "[LightGBM] [Info] Start training from score -0.684891\n"
     ]
    },
    {
     "name": "stderr",
     "output_type": "stream",
     "text": [
      "/usr/local/lib/python3.11/dist-packages/lightgbm/basic.py:2118: UserWarning: categorical_feature keyword has been found in `params` and will be ignored.\n",
      "Please use categorical_feature argument of the Dataset constructor to pass this parameter.\n",
      "  _log_warning(\n",
      "/usr/local/lib/python3.11/dist-packages/lightgbm/basic.py:2140: UserWarning: categorical_feature in param dict is overridden.\n",
      "  _log_warning(f\"{cat_alias} in param dict is overridden.\")\n"
     ]
    },
    {
     "name": "stdout",
     "output_type": "stream",
     "text": [
      "[CV] END learning_rate=0.01, n_estimators=600, num_leaves=30; total time=   2.8s\n",
      "[LightGBM] [Warning] categorical_feature is set=lang, categorical_column=5 will be ignored. Current value: categorical_feature=lang\n",
      "[LightGBM] [Info] Number of positive: 7905, number of negative: 15680\n",
      "[LightGBM] [Info] This is the GPU trainer!!\n"
     ]
    },
    {
     "name": "stderr",
     "output_type": "stream",
     "text": [
      "/usr/local/lib/python3.11/dist-packages/lightgbm/basic.py:2118: UserWarning: categorical_feature keyword has been found in `params` and will be ignored.\n",
      "Please use categorical_feature argument of the Dataset constructor to pass this parameter.\n",
      "  _log_warning(\n",
      "/usr/local/lib/python3.11/dist-packages/lightgbm/basic.py:2140: UserWarning: categorical_feature in param dict is overridden.\n",
      "  _log_warning(f\"{cat_alias} in param dict is overridden.\")\n"
     ]
    },
    {
     "name": "stdout",
     "output_type": "stream",
     "text": [
      "[LightGBM] [Info] Total Bins 2517\n",
      "[LightGBM] [Info] Number of data points in the train set: 23585, number of used features: 15\n",
      "[LightGBM] [Info] Using GPU Device: Tesla T4, Vendor: NVIDIA Corporation\n",
      "[LightGBM] [Info] Compiling OpenCL Kernel with 256 bins...\n",
      "[LightGBM] [Info] GPU programs have been built\n",
      "[LightGBM] [Info] Size of histogram bin entry: 8\n",
      "[LightGBM] [Info] 13 dense feature groups (0.36 MB) transferred to GPU in 0.055667 secs. 1 sparse feature groups\n",
      "[LightGBM] [Info] [binary:BoostFromScore]: pavg=0.335171 -> initscore=-0.684891\n",
      "[LightGBM] [Info] Start training from score -0.684891\n",
      "[CV] END learning_rate=0.01, n_estimators=600, num_leaves=30; total time=   4.4s\n",
      "[LightGBM] [Warning] categorical_feature is set=lang, categorical_column=5 will be ignored. Current value: categorical_feature=lang\n",
      "[LightGBM] [Info] Number of positive: 7905, number of negative: 15681\n",
      "[LightGBM] [Info] This is the GPU trainer!!\n",
      "[LightGBM] [Info] Total Bins 2514\n",
      "[LightGBM] [Info] Number of data points in the train set: 23586, number of used features: 15\n",
      "[LightGBM] [Info] Using GPU Device: Tesla T4, Vendor: NVIDIA Corporation\n",
      "[LightGBM] [Info] Compiling OpenCL Kernel with 256 bins...\n",
      "[LightGBM] [Info] GPU programs have been built\n",
      "[LightGBM] [Info] Size of histogram bin entry: 8\n",
      "[LightGBM] [Info] 13 dense feature groups (0.36 MB) transferred to GPU in 0.001236 secs. 1 sparse feature groups\n",
      "[LightGBM] [Info] [binary:BoostFromScore]: pavg=0.335156 -> initscore=-0.684954\n",
      "[LightGBM] [Info] Start training from score -0.684954\n"
     ]
    },
    {
     "name": "stderr",
     "output_type": "stream",
     "text": [
      "/usr/local/lib/python3.11/dist-packages/lightgbm/basic.py:2118: UserWarning: categorical_feature keyword has been found in `params` and will be ignored.\n",
      "Please use categorical_feature argument of the Dataset constructor to pass this parameter.\n",
      "  _log_warning(\n",
      "/usr/local/lib/python3.11/dist-packages/lightgbm/basic.py:2140: UserWarning: categorical_feature in param dict is overridden.\n",
      "  _log_warning(f\"{cat_alias} in param dict is overridden.\")\n"
     ]
    },
    {
     "name": "stdout",
     "output_type": "stream",
     "text": [
      "[CV] END learning_rate=0.01, n_estimators=600, num_leaves=30; total time=   2.5s\n",
      "[LightGBM] [Warning] categorical_feature is set=lang, categorical_column=5 will be ignored. Current value: categorical_feature=lang\n",
      "[LightGBM] [Info] Number of positive: 7905, number of negative: 15681\n",
      "[LightGBM] [Info] This is the GPU trainer!!\n",
      "[LightGBM] [Info] Total Bins 2518\n",
      "[LightGBM] [Info] Number of data points in the train set: 23586, number of used features: 15\n",
      "[LightGBM] [Info] Using GPU Device: Tesla T4, Vendor: NVIDIA Corporation\n",
      "[LightGBM] [Info] Compiling OpenCL Kernel with 256 bins...\n",
      "[LightGBM] [Info] GPU programs have been built\n",
      "[LightGBM] [Info] Size of histogram bin entry: 8\n",
      "[LightGBM] [Info] 13 dense feature groups (0.36 MB) transferred to GPU in 0.001336 secs. 1 sparse feature groups\n",
      "[LightGBM] [Info] [binary:BoostFromScore]: pavg=0.335156 -> initscore=-0.684954\n",
      "[LightGBM] [Info] Start training from score -0.684954\n"
     ]
    },
    {
     "name": "stderr",
     "output_type": "stream",
     "text": [
      "/usr/local/lib/python3.11/dist-packages/lightgbm/basic.py:2118: UserWarning: categorical_feature keyword has been found in `params` and will be ignored.\n",
      "Please use categorical_feature argument of the Dataset constructor to pass this parameter.\n",
      "  _log_warning(\n",
      "/usr/local/lib/python3.11/dist-packages/lightgbm/basic.py:2140: UserWarning: categorical_feature in param dict is overridden.\n",
      "  _log_warning(f\"{cat_alias} in param dict is overridden.\")\n"
     ]
    },
    {
     "name": "stdout",
     "output_type": "stream",
     "text": [
      "[CV] END learning_rate=0.01, n_estimators=600, num_leaves=30; total time=   2.6s\n",
      "[LightGBM] [Warning] categorical_feature is set=lang, categorical_column=5 will be ignored. Current value: categorical_feature=lang\n",
      "[LightGBM] [Info] Number of positive: 7905, number of negative: 15681\n",
      "[LightGBM] [Info] This is the GPU trainer!!\n",
      "[LightGBM] [Info] Total Bins 2518\n",
      "[LightGBM] [Info] Number of data points in the train set: 23586, number of used features: 15\n",
      "[LightGBM] [Info] Using GPU Device: Tesla T4, Vendor: NVIDIA Corporation\n",
      "[LightGBM] [Info] Compiling OpenCL Kernel with 256 bins...\n",
      "[LightGBM] [Info] GPU programs have been built\n",
      "[LightGBM] [Info] Size of histogram bin entry: 8\n",
      "[LightGBM] [Info] 13 dense feature groups (0.36 MB) transferred to GPU in 0.001158 secs. 1 sparse feature groups\n",
      "[LightGBM] [Info] [binary:BoostFromScore]: pavg=0.335156 -> initscore=-0.684954\n",
      "[LightGBM] [Info] Start training from score -0.684954\n"
     ]
    },
    {
     "name": "stderr",
     "output_type": "stream",
     "text": [
      "/usr/local/lib/python3.11/dist-packages/lightgbm/basic.py:2118: UserWarning: categorical_feature keyword has been found in `params` and will be ignored.\n",
      "Please use categorical_feature argument of the Dataset constructor to pass this parameter.\n",
      "  _log_warning(\n",
      "/usr/local/lib/python3.11/dist-packages/lightgbm/basic.py:2140: UserWarning: categorical_feature in param dict is overridden.\n",
      "  _log_warning(f\"{cat_alias} in param dict is overridden.\")\n"
     ]
    },
    {
     "name": "stdout",
     "output_type": "stream",
     "text": [
      "[CV] END learning_rate=0.01, n_estimators=600, num_leaves=30; total time=   2.5s\n",
      "[LightGBM] [Warning] categorical_feature is set=lang, categorical_column=5 will be ignored. Current value: categorical_feature=lang\n",
      "[LightGBM] [Info] Number of positive: 7905, number of negative: 15681\n",
      "[LightGBM] [Info] This is the GPU trainer!!\n",
      "[LightGBM] [Info] Total Bins 2514\n",
      "[LightGBM] [Info] Number of data points in the train set: 23586, number of used features: 15\n",
      "[LightGBM] [Info] Using GPU Device: Tesla T4, Vendor: NVIDIA Corporation\n",
      "[LightGBM] [Info] Compiling OpenCL Kernel with 256 bins...\n",
      "[LightGBM] [Info] GPU programs have been built\n",
      "[LightGBM] [Info] Size of histogram bin entry: 8\n",
      "[LightGBM] [Info] 13 dense feature groups (0.36 MB) transferred to GPU in 0.001143 secs. 1 sparse feature groups\n",
      "[LightGBM] [Info] [binary:BoostFromScore]: pavg=0.335156 -> initscore=-0.684954\n",
      "[LightGBM] [Info] Start training from score -0.684954\n"
     ]
    },
    {
     "name": "stderr",
     "output_type": "stream",
     "text": [
      "/usr/local/lib/python3.11/dist-packages/lightgbm/basic.py:2118: UserWarning: categorical_feature keyword has been found in `params` and will be ignored.\n",
      "Please use categorical_feature argument of the Dataset constructor to pass this parameter.\n",
      "  _log_warning(\n",
      "/usr/local/lib/python3.11/dist-packages/lightgbm/basic.py:2140: UserWarning: categorical_feature in param dict is overridden.\n",
      "  _log_warning(f\"{cat_alias} in param dict is overridden.\")\n"
     ]
    },
    {
     "name": "stdout",
     "output_type": "stream",
     "text": [
      "[CV] END learning_rate=0.01, n_estimators=600, num_leaves=30; total time=   4.7s\n",
      "[LightGBM] [Warning] categorical_feature is set=lang, categorical_column=5 will be ignored. Current value: categorical_feature=lang\n",
      "[LightGBM] [Info] Number of positive: 7904, number of negative: 15681\n",
      "[LightGBM] [Info] This is the GPU trainer!!\n",
      "[LightGBM] [Info] Total Bins 2510\n",
      "[LightGBM] [Info] Number of data points in the train set: 23585, number of used features: 15\n",
      "[LightGBM] [Info] Using GPU Device: Tesla T4, Vendor: NVIDIA Corporation\n",
      "[LightGBM] [Info] Compiling OpenCL Kernel with 256 bins...\n",
      "[LightGBM] [Info] GPU programs have been built\n",
      "[LightGBM] [Info] Size of histogram bin entry: 8\n",
      "[LightGBM] [Info] 13 dense feature groups (0.36 MB) transferred to GPU in 0.064869 secs. 1 sparse feature groups\n",
      "[LightGBM] [Info] [binary:BoostFromScore]: pavg=0.335128 -> initscore=-0.685081\n",
      "[LightGBM] [Info] Start training from score -0.685081\n"
     ]
    },
    {
     "name": "stderr",
     "output_type": "stream",
     "text": [
      "/usr/local/lib/python3.11/dist-packages/lightgbm/basic.py:2118: UserWarning: categorical_feature keyword has been found in `params` and will be ignored.\n",
      "Please use categorical_feature argument of the Dataset constructor to pass this parameter.\n",
      "  _log_warning(\n",
      "/usr/local/lib/python3.11/dist-packages/lightgbm/basic.py:2140: UserWarning: categorical_feature in param dict is overridden.\n",
      "  _log_warning(f\"{cat_alias} in param dict is overridden.\")\n"
     ]
    },
    {
     "name": "stdout",
     "output_type": "stream",
     "text": [
      "[CV] END learning_rate=0.01, n_estimators=600, num_leaves=45; total time=   3.5s\n",
      "[LightGBM] [Warning] categorical_feature is set=lang, categorical_column=5 will be ignored. Current value: categorical_feature=lang\n",
      "[LightGBM] [Info] Number of positive: 7904, number of negative: 15681\n",
      "[LightGBM] [Info] This is the GPU trainer!!\n",
      "[LightGBM] [Info] Total Bins 2519\n",
      "[LightGBM] [Info] Number of data points in the train set: 23585, number of used features: 15\n",
      "[LightGBM] [Info] Using GPU Device: Tesla T4, Vendor: NVIDIA Corporation\n",
      "[LightGBM] [Info] Compiling OpenCL Kernel with 256 bins...\n",
      "[LightGBM] [Info] GPU programs have been built\n",
      "[LightGBM] [Info] Size of histogram bin entry: 8\n",
      "[LightGBM] [Info] 13 dense feature groups (0.36 MB) transferred to GPU in 0.001252 secs. 1 sparse feature groups\n",
      "[LightGBM] [Info] [binary:BoostFromScore]: pavg=0.335128 -> initscore=-0.685081\n",
      "[LightGBM] [Info] Start training from score -0.685081\n"
     ]
    },
    {
     "name": "stderr",
     "output_type": "stream",
     "text": [
      "/usr/local/lib/python3.11/dist-packages/lightgbm/basic.py:2118: UserWarning: categorical_feature keyword has been found in `params` and will be ignored.\n",
      "Please use categorical_feature argument of the Dataset constructor to pass this parameter.\n",
      "  _log_warning(\n",
      "/usr/local/lib/python3.11/dist-packages/lightgbm/basic.py:2140: UserWarning: categorical_feature in param dict is overridden.\n",
      "  _log_warning(f\"{cat_alias} in param dict is overridden.\")\n"
     ]
    },
    {
     "name": "stdout",
     "output_type": "stream",
     "text": [
      "[CV] END learning_rate=0.01, n_estimators=600, num_leaves=45; total time=   3.4s\n",
      "[LightGBM] [Warning] categorical_feature is set=lang, categorical_column=5 will be ignored. Current value: categorical_feature=lang\n",
      "[LightGBM] [Info] Number of positive: 7904, number of negative: 15681\n",
      "[LightGBM] [Info] This is the GPU trainer!!\n",
      "[LightGBM] [Info] Total Bins 2517\n",
      "[LightGBM] [Info] Number of data points in the train set: 23585, number of used features: 15\n",
      "[LightGBM] [Info] Using GPU Device: Tesla T4, Vendor: NVIDIA Corporation\n",
      "[LightGBM] [Info] Compiling OpenCL Kernel with 256 bins...\n",
      "[LightGBM] [Info] GPU programs have been built\n",
      "[LightGBM] [Info] Size of histogram bin entry: 8\n",
      "[LightGBM] [Info] 13 dense feature groups (0.36 MB) transferred to GPU in 0.001295 secs. 1 sparse feature groups\n",
      "[LightGBM] [Info] [binary:BoostFromScore]: pavg=0.335128 -> initscore=-0.685081\n",
      "[LightGBM] [Info] Start training from score -0.685081\n"
     ]
    },
    {
     "name": "stderr",
     "output_type": "stream",
     "text": [
      "/usr/local/lib/python3.11/dist-packages/lightgbm/basic.py:2118: UserWarning: categorical_feature keyword has been found in `params` and will be ignored.\n",
      "Please use categorical_feature argument of the Dataset constructor to pass this parameter.\n",
      "  _log_warning(\n",
      "/usr/local/lib/python3.11/dist-packages/lightgbm/basic.py:2140: UserWarning: categorical_feature in param dict is overridden.\n",
      "  _log_warning(f\"{cat_alias} in param dict is overridden.\")\n"
     ]
    },
    {
     "name": "stdout",
     "output_type": "stream",
     "text": [
      "[CV] END learning_rate=0.01, n_estimators=600, num_leaves=45; total time=   3.4s\n",
      "[LightGBM] [Warning] categorical_feature is set=lang, categorical_column=5 will be ignored. Current value: categorical_feature=lang\n",
      "[LightGBM] [Info] Number of positive: 7905, number of negative: 15680\n",
      "[LightGBM] [Info] This is the GPU trainer!!\n",
      "[LightGBM] [Info] Total Bins 2512\n",
      "[LightGBM] [Info] Number of data points in the train set: 23585, number of used features: 15\n",
      "[LightGBM] [Info] Using GPU Device: Tesla T4, Vendor: NVIDIA Corporation\n",
      "[LightGBM] [Info] Compiling OpenCL Kernel with 256 bins...\n",
      "[LightGBM] [Info] GPU programs have been built\n",
      "[LightGBM] [Info] Size of histogram bin entry: 8\n",
      "[LightGBM] [Info] 13 dense feature groups (0.36 MB) transferred to GPU in 0.001759 secs. 1 sparse feature groups\n",
      "[LightGBM] [Info] [binary:BoostFromScore]: pavg=0.335171 -> initscore=-0.684891\n",
      "[LightGBM] [Info] Start training from score -0.684891\n"
     ]
    },
    {
     "name": "stderr",
     "output_type": "stream",
     "text": [
      "/usr/local/lib/python3.11/dist-packages/lightgbm/basic.py:2118: UserWarning: categorical_feature keyword has been found in `params` and will be ignored.\n",
      "Please use categorical_feature argument of the Dataset constructor to pass this parameter.\n",
      "  _log_warning(\n",
      "/usr/local/lib/python3.11/dist-packages/lightgbm/basic.py:2140: UserWarning: categorical_feature in param dict is overridden.\n",
      "  _log_warning(f\"{cat_alias} in param dict is overridden.\")\n"
     ]
    },
    {
     "name": "stdout",
     "output_type": "stream",
     "text": [
      "[CV] END learning_rate=0.01, n_estimators=600, num_leaves=45; total time=   5.9s\n",
      "[LightGBM] [Warning] categorical_feature is set=lang, categorical_column=5 will be ignored. Current value: categorical_feature=lang\n",
      "[LightGBM] [Info] Number of positive: 7905, number of negative: 15680\n",
      "[LightGBM] [Info] This is the GPU trainer!!\n",
      "[LightGBM] [Info] Total Bins 2523\n",
      "[LightGBM] [Info] Number of data points in the train set: 23585, number of used features: 15\n",
      "[LightGBM] [Info] Using GPU Device: Tesla T4, Vendor: NVIDIA Corporation\n",
      "[LightGBM] [Info] Compiling OpenCL Kernel with 256 bins...\n",
      "[LightGBM] [Info] GPU programs have been built\n",
      "[LightGBM] [Info] Size of histogram bin entry: 8\n",
      "[LightGBM] [Info] 13 dense feature groups (0.36 MB) transferred to GPU in 0.001223 secs. 1 sparse feature groups\n",
      "[LightGBM] [Info] [binary:BoostFromScore]: pavg=0.335171 -> initscore=-0.684891\n",
      "[LightGBM] [Info] Start training from score -0.684891\n"
     ]
    },
    {
     "name": "stderr",
     "output_type": "stream",
     "text": [
      "/usr/local/lib/python3.11/dist-packages/lightgbm/basic.py:2118: UserWarning: categorical_feature keyword has been found in `params` and will be ignored.\n",
      "Please use categorical_feature argument of the Dataset constructor to pass this parameter.\n",
      "  _log_warning(\n",
      "/usr/local/lib/python3.11/dist-packages/lightgbm/basic.py:2140: UserWarning: categorical_feature in param dict is overridden.\n",
      "  _log_warning(f\"{cat_alias} in param dict is overridden.\")\n"
     ]
    },
    {
     "name": "stdout",
     "output_type": "stream",
     "text": [
      "[CV] END learning_rate=0.01, n_estimators=600, num_leaves=45; total time=   3.4s\n",
      "[LightGBM] [Warning] categorical_feature is set=lang, categorical_column=5 will be ignored. Current value: categorical_feature=lang\n",
      "[LightGBM] [Info] Number of positive: 7905, number of negative: 15680\n",
      "[LightGBM] [Info] This is the GPU trainer!!\n",
      "[LightGBM] [Info] Total Bins 2517\n",
      "[LightGBM] [Info] Number of data points in the train set: 23585, number of used features: 15\n",
      "[LightGBM] [Info] Using GPU Device: Tesla T4, Vendor: NVIDIA Corporation\n",
      "[LightGBM] [Info] Compiling OpenCL Kernel with 256 bins...\n",
      "[LightGBM] [Info] GPU programs have been built\n",
      "[LightGBM] [Info] Size of histogram bin entry: 8\n",
      "[LightGBM] [Info] 13 dense feature groups (0.36 MB) transferred to GPU in 0.001176 secs. 1 sparse feature groups\n",
      "[LightGBM] [Info] [binary:BoostFromScore]: pavg=0.335171 -> initscore=-0.684891\n",
      "[LightGBM] [Info] Start training from score -0.684891\n"
     ]
    },
    {
     "name": "stderr",
     "output_type": "stream",
     "text": [
      "/usr/local/lib/python3.11/dist-packages/lightgbm/basic.py:2118: UserWarning: categorical_feature keyword has been found in `params` and will be ignored.\n",
      "Please use categorical_feature argument of the Dataset constructor to pass this parameter.\n",
      "  _log_warning(\n",
      "/usr/local/lib/python3.11/dist-packages/lightgbm/basic.py:2140: UserWarning: categorical_feature in param dict is overridden.\n",
      "  _log_warning(f\"{cat_alias} in param dict is overridden.\")\n"
     ]
    },
    {
     "name": "stdout",
     "output_type": "stream",
     "text": [
      "[CV] END learning_rate=0.01, n_estimators=600, num_leaves=45; total time=   3.4s\n",
      "[LightGBM] [Warning] categorical_feature is set=lang, categorical_column=5 will be ignored. Current value: categorical_feature=lang\n",
      "[LightGBM] [Info] Number of positive: 7905, number of negative: 15681\n",
      "[LightGBM] [Info] This is the GPU trainer!!\n",
      "[LightGBM] [Info] Total Bins 2514\n",
      "[LightGBM] [Info] Number of data points in the train set: 23586, number of used features: 15\n",
      "[LightGBM] [Info] Using GPU Device: Tesla T4, Vendor: NVIDIA Corporation\n",
      "[LightGBM] [Info] Compiling OpenCL Kernel with 256 bins...\n",
      "[LightGBM] [Info] GPU programs have been built\n",
      "[LightGBM] [Info] Size of histogram bin entry: 8\n",
      "[LightGBM] [Info] 13 dense feature groups (0.36 MB) transferred to GPU in 0.001153 secs. 1 sparse feature groups\n",
      "[LightGBM] [Info] [binary:BoostFromScore]: pavg=0.335156 -> initscore=-0.684954\n",
      "[LightGBM] [Info] Start training from score -0.684954\n"
     ]
    },
    {
     "name": "stderr",
     "output_type": "stream",
     "text": [
      "/usr/local/lib/python3.11/dist-packages/lightgbm/basic.py:2118: UserWarning: categorical_feature keyword has been found in `params` and will be ignored.\n",
      "Please use categorical_feature argument of the Dataset constructor to pass this parameter.\n",
      "  _log_warning(\n",
      "/usr/local/lib/python3.11/dist-packages/lightgbm/basic.py:2140: UserWarning: categorical_feature in param dict is overridden.\n",
      "  _log_warning(f\"{cat_alias} in param dict is overridden.\")\n"
     ]
    },
    {
     "name": "stdout",
     "output_type": "stream",
     "text": [
      "[CV] END learning_rate=0.01, n_estimators=600, num_leaves=45; total time=   5.8s\n",
      "[LightGBM] [Warning] categorical_feature is set=lang, categorical_column=5 will be ignored. Current value: categorical_feature=lang\n",
      "[LightGBM] [Info] Number of positive: 7905, number of negative: 15681\n",
      "[LightGBM] [Info] This is the GPU trainer!!\n",
      "[LightGBM] [Info] Total Bins 2518\n",
      "[LightGBM] [Info] Number of data points in the train set: 23586, number of used features: 15\n",
      "[LightGBM] [Info] Using GPU Device: Tesla T4, Vendor: NVIDIA Corporation\n",
      "[LightGBM] [Info] Compiling OpenCL Kernel with 256 bins...\n",
      "[LightGBM] [Info] GPU programs have been built\n",
      "[LightGBM] [Info] Size of histogram bin entry: 8\n",
      "[LightGBM] [Info] 13 dense feature groups (0.36 MB) transferred to GPU in 0.001255 secs. 1 sparse feature groups\n",
      "[LightGBM] [Info] [binary:BoostFromScore]: pavg=0.335156 -> initscore=-0.684954\n",
      "[LightGBM] [Info] Start training from score -0.684954\n"
     ]
    },
    {
     "name": "stderr",
     "output_type": "stream",
     "text": [
      "/usr/local/lib/python3.11/dist-packages/lightgbm/basic.py:2118: UserWarning: categorical_feature keyword has been found in `params` and will be ignored.\n",
      "Please use categorical_feature argument of the Dataset constructor to pass this parameter.\n",
      "  _log_warning(\n",
      "/usr/local/lib/python3.11/dist-packages/lightgbm/basic.py:2140: UserWarning: categorical_feature in param dict is overridden.\n",
      "  _log_warning(f\"{cat_alias} in param dict is overridden.\")\n"
     ]
    },
    {
     "name": "stdout",
     "output_type": "stream",
     "text": [
      "[CV] END learning_rate=0.01, n_estimators=600, num_leaves=45; total time=   3.5s\n",
      "[LightGBM] [Warning] categorical_feature is set=lang, categorical_column=5 will be ignored. Current value: categorical_feature=lang\n",
      "[LightGBM] [Info] Number of positive: 7905, number of negative: 15681\n",
      "[LightGBM] [Info] This is the GPU trainer!!\n",
      "[LightGBM] [Info] Total Bins 2518\n",
      "[LightGBM] [Info] Number of data points in the train set: 23586, number of used features: 15\n",
      "[LightGBM] [Info] Using GPU Device: Tesla T4, Vendor: NVIDIA Corporation\n",
      "[LightGBM] [Info] Compiling OpenCL Kernel with 256 bins...\n",
      "[LightGBM] [Info] GPU programs have been built\n",
      "[LightGBM] [Info] Size of histogram bin entry: 8\n",
      "[LightGBM] [Info] 13 dense feature groups (0.36 MB) transferred to GPU in 0.001186 secs. 1 sparse feature groups\n",
      "[LightGBM] [Info] [binary:BoostFromScore]: pavg=0.335156 -> initscore=-0.684954\n",
      "[LightGBM] [Info] Start training from score -0.684954\n"
     ]
    },
    {
     "name": "stderr",
     "output_type": "stream",
     "text": [
      "/usr/local/lib/python3.11/dist-packages/lightgbm/basic.py:2118: UserWarning: categorical_feature keyword has been found in `params` and will be ignored.\n",
      "Please use categorical_feature argument of the Dataset constructor to pass this parameter.\n",
      "  _log_warning(\n",
      "/usr/local/lib/python3.11/dist-packages/lightgbm/basic.py:2140: UserWarning: categorical_feature in param dict is overridden.\n",
      "  _log_warning(f\"{cat_alias} in param dict is overridden.\")\n"
     ]
    },
    {
     "name": "stdout",
     "output_type": "stream",
     "text": [
      "[CV] END learning_rate=0.01, n_estimators=600, num_leaves=45; total time=   3.4s\n",
      "[LightGBM] [Warning] categorical_feature is set=lang, categorical_column=5 will be ignored. Current value: categorical_feature=lang\n",
      "[LightGBM] [Info] Number of positive: 7905, number of negative: 15681\n",
      "[LightGBM] [Info] This is the GPU trainer!!\n",
      "[LightGBM] [Info] Total Bins 2514\n",
      "[LightGBM] [Info] Number of data points in the train set: 23586, number of used features: 15\n",
      "[LightGBM] [Info] Using GPU Device: Tesla T4, Vendor: NVIDIA Corporation\n",
      "[LightGBM] [Info] Compiling OpenCL Kernel with 256 bins...\n",
      "[LightGBM] [Info] GPU programs have been built\n",
      "[LightGBM] [Info] Size of histogram bin entry: 8\n",
      "[LightGBM] [Info] 13 dense feature groups (0.36 MB) transferred to GPU in 0.001177 secs. 1 sparse feature groups\n",
      "[LightGBM] [Info] [binary:BoostFromScore]: pavg=0.335156 -> initscore=-0.684954\n",
      "[LightGBM] [Info] Start training from score -0.684954\n"
     ]
    },
    {
     "name": "stderr",
     "output_type": "stream",
     "text": [
      "/usr/local/lib/python3.11/dist-packages/lightgbm/basic.py:2118: UserWarning: categorical_feature keyword has been found in `params` and will be ignored.\n",
      "Please use categorical_feature argument of the Dataset constructor to pass this parameter.\n",
      "  _log_warning(\n",
      "/usr/local/lib/python3.11/dist-packages/lightgbm/basic.py:2140: UserWarning: categorical_feature in param dict is overridden.\n",
      "  _log_warning(f\"{cat_alias} in param dict is overridden.\")\n"
     ]
    },
    {
     "name": "stdout",
     "output_type": "stream",
     "text": [
      "[CV] END learning_rate=0.01, n_estimators=600, num_leaves=45; total time=   3.6s\n",
      "[LightGBM] [Warning] categorical_feature is set=lang, categorical_column=5 will be ignored. Current value: categorical_feature=lang\n",
      "[LightGBM] [Info] Number of positive: 7904, number of negative: 15681\n",
      "[LightGBM] [Info] This is the GPU trainer!!\n"
     ]
    },
    {
     "name": "stderr",
     "output_type": "stream",
     "text": [
      "/usr/local/lib/python3.11/dist-packages/lightgbm/basic.py:2118: UserWarning: categorical_feature keyword has been found in `params` and will be ignored.\n",
      "Please use categorical_feature argument of the Dataset constructor to pass this parameter.\n",
      "  _log_warning(\n",
      "/usr/local/lib/python3.11/dist-packages/lightgbm/basic.py:2140: UserWarning: categorical_feature in param dict is overridden.\n",
      "  _log_warning(f\"{cat_alias} in param dict is overridden.\")\n"
     ]
    },
    {
     "name": "stdout",
     "output_type": "stream",
     "text": [
      "[LightGBM] [Info] Total Bins 2510\n",
      "[LightGBM] [Info] Number of data points in the train set: 23585, number of used features: 15\n",
      "[LightGBM] [Info] Using GPU Device: Tesla T4, Vendor: NVIDIA Corporation\n",
      "[LightGBM] [Info] Compiling OpenCL Kernel with 256 bins...\n",
      "[LightGBM] [Info] GPU programs have been built\n",
      "[LightGBM] [Info] Size of histogram bin entry: 8\n",
      "[LightGBM] [Info] 13 dense feature groups (0.36 MB) transferred to GPU in 0.075802 secs. 1 sparse feature groups\n",
      "[LightGBM] [Info] [binary:BoostFromScore]: pavg=0.335128 -> initscore=-0.685081\n",
      "[LightGBM] [Info] Start training from score -0.685081\n",
      "[CV] END learning_rate=0.02, n_estimators=400, num_leaves=15; total time=   2.8s\n",
      "[LightGBM] [Warning] categorical_feature is set=lang, categorical_column=5 will be ignored. Current value: categorical_feature=lang\n",
      "[LightGBM] [Info] Number of positive: 7904, number of negative: 15681\n",
      "[LightGBM] [Info] This is the GPU trainer!!\n",
      "[LightGBM] [Info] Total Bins 2519\n",
      "[LightGBM] [Info] Number of data points in the train set: 23585, number of used features: 15\n",
      "[LightGBM] [Info] Using GPU Device: Tesla T4, Vendor: NVIDIA Corporation\n",
      "[LightGBM] [Info] Compiling OpenCL Kernel with 256 bins...\n",
      "[LightGBM] [Info] GPU programs have been built\n",
      "[LightGBM] [Info] Size of histogram bin entry: 8\n",
      "[LightGBM] [Info] 13 dense feature groups (0.36 MB) transferred to GPU in 0.041760 secs. 1 sparse feature groups\n",
      "[LightGBM] [Info] [binary:BoostFromScore]: pavg=0.335128 -> initscore=-0.685081\n",
      "[LightGBM] [Info] Start training from score -0.685081\n"
     ]
    },
    {
     "name": "stderr",
     "output_type": "stream",
     "text": [
      "/usr/local/lib/python3.11/dist-packages/lightgbm/basic.py:2118: UserWarning: categorical_feature keyword has been found in `params` and will be ignored.\n",
      "Please use categorical_feature argument of the Dataset constructor to pass this parameter.\n",
      "  _log_warning(\n",
      "/usr/local/lib/python3.11/dist-packages/lightgbm/basic.py:2140: UserWarning: categorical_feature in param dict is overridden.\n",
      "  _log_warning(f\"{cat_alias} in param dict is overridden.\")\n"
     ]
    },
    {
     "name": "stdout",
     "output_type": "stream",
     "text": [
      "[CV] END learning_rate=0.02, n_estimators=400, num_leaves=15; total time=   1.2s\n",
      "[LightGBM] [Warning] categorical_feature is set=lang, categorical_column=5 will be ignored. Current value: categorical_feature=lang\n",
      "[LightGBM] [Info] Number of positive: 7904, number of negative: 15681\n",
      "[LightGBM] [Info] This is the GPU trainer!!\n",
      "[LightGBM] [Info] Total Bins 2517\n",
      "[LightGBM] [Info] Number of data points in the train set: 23585, number of used features: 15\n",
      "[LightGBM] [Info] Using GPU Device: Tesla T4, Vendor: NVIDIA Corporation\n",
      "[LightGBM] [Info] Compiling OpenCL Kernel with 256 bins...\n",
      "[LightGBM] [Info] GPU programs have been built\n",
      "[LightGBM] [Info] Size of histogram bin entry: 8\n",
      "[LightGBM] [Info] 13 dense feature groups (0.36 MB) transferred to GPU in 0.001268 secs. 1 sparse feature groups\n",
      "[LightGBM] [Info] [binary:BoostFromScore]: pavg=0.335128 -> initscore=-0.685081\n",
      "[LightGBM] [Info] Start training from score -0.685081\n"
     ]
    },
    {
     "name": "stderr",
     "output_type": "stream",
     "text": [
      "/usr/local/lib/python3.11/dist-packages/lightgbm/basic.py:2118: UserWarning: categorical_feature keyword has been found in `params` and will be ignored.\n",
      "Please use categorical_feature argument of the Dataset constructor to pass this parameter.\n",
      "  _log_warning(\n",
      "/usr/local/lib/python3.11/dist-packages/lightgbm/basic.py:2140: UserWarning: categorical_feature in param dict is overridden.\n",
      "  _log_warning(f\"{cat_alias} in param dict is overridden.\")\n"
     ]
    },
    {
     "name": "stdout",
     "output_type": "stream",
     "text": [
      "[CV] END learning_rate=0.02, n_estimators=400, num_leaves=15; total time=   1.1s\n",
      "[LightGBM] [Warning] categorical_feature is set=lang, categorical_column=5 will be ignored. Current value: categorical_feature=lang\n",
      "[LightGBM] [Info] Number of positive: 7905, number of negative: 15680\n",
      "[LightGBM] [Info] This is the GPU trainer!!\n",
      "[LightGBM] [Info] Total Bins 2512\n",
      "[LightGBM] [Info] Number of data points in the train set: 23585, number of used features: 15\n",
      "[LightGBM] [Info] Using GPU Device: Tesla T4, Vendor: NVIDIA Corporation\n",
      "[LightGBM] [Info] Compiling OpenCL Kernel with 256 bins...\n",
      "[LightGBM] [Info] GPU programs have been built\n",
      "[LightGBM] [Info] Size of histogram bin entry: 8\n",
      "[LightGBM] [Info] 13 dense feature groups (0.36 MB) transferred to GPU in 0.001165 secs. 1 sparse feature groups\n",
      "[LightGBM] [Info] [binary:BoostFromScore]: pavg=0.335171 -> initscore=-0.684891\n",
      "[LightGBM] [Info] Start training from score -0.684891\n"
     ]
    },
    {
     "name": "stderr",
     "output_type": "stream",
     "text": [
      "/usr/local/lib/python3.11/dist-packages/lightgbm/basic.py:2118: UserWarning: categorical_feature keyword has been found in `params` and will be ignored.\n",
      "Please use categorical_feature argument of the Dataset constructor to pass this parameter.\n",
      "  _log_warning(\n",
      "/usr/local/lib/python3.11/dist-packages/lightgbm/basic.py:2140: UserWarning: categorical_feature in param dict is overridden.\n",
      "  _log_warning(f\"{cat_alias} in param dict is overridden.\")\n"
     ]
    },
    {
     "name": "stdout",
     "output_type": "stream",
     "text": [
      "[CV] END learning_rate=0.02, n_estimators=400, num_leaves=15; total time=   1.0s\n",
      "[LightGBM] [Warning] categorical_feature is set=lang, categorical_column=5 will be ignored. Current value: categorical_feature=lang\n",
      "[LightGBM] [Info] Number of positive: 7905, number of negative: 15680\n",
      "[LightGBM] [Info] This is the GPU trainer!!\n",
      "[LightGBM] [Info] Total Bins 2523\n",
      "[LightGBM] [Info] Number of data points in the train set: 23585, number of used features: 15\n",
      "[LightGBM] [Info] Using GPU Device: Tesla T4, Vendor: NVIDIA Corporation\n",
      "[LightGBM] [Info] Compiling OpenCL Kernel with 256 bins...\n",
      "[LightGBM] [Info] GPU programs have been built\n",
      "[LightGBM] [Info] Size of histogram bin entry: 8\n",
      "[LightGBM] [Info] 13 dense feature groups (0.36 MB) transferred to GPU in 0.001145 secs. 1 sparse feature groups\n",
      "[LightGBM] [Info] [binary:BoostFromScore]: pavg=0.335171 -> initscore=-0.684891\n",
      "[LightGBM] [Info] Start training from score -0.684891\n"
     ]
    },
    {
     "name": "stderr",
     "output_type": "stream",
     "text": [
      "/usr/local/lib/python3.11/dist-packages/lightgbm/basic.py:2118: UserWarning: categorical_feature keyword has been found in `params` and will be ignored.\n",
      "Please use categorical_feature argument of the Dataset constructor to pass this parameter.\n",
      "  _log_warning(\n",
      "/usr/local/lib/python3.11/dist-packages/lightgbm/basic.py:2140: UserWarning: categorical_feature in param dict is overridden.\n",
      "  _log_warning(f\"{cat_alias} in param dict is overridden.\")\n"
     ]
    },
    {
     "name": "stdout",
     "output_type": "stream",
     "text": [
      "[CV] END learning_rate=0.02, n_estimators=400, num_leaves=15; total time=   1.0s\n",
      "[LightGBM] [Warning] categorical_feature is set=lang, categorical_column=5 will be ignored. Current value: categorical_feature=lang\n",
      "[LightGBM] [Info] Number of positive: 7905, number of negative: 15680\n",
      "[LightGBM] [Info] This is the GPU trainer!!\n",
      "[LightGBM] [Info] Total Bins 2517\n",
      "[LightGBM] [Info] Number of data points in the train set: 23585, number of used features: 15\n",
      "[LightGBM] [Info] Using GPU Device: Tesla T4, Vendor: NVIDIA Corporation\n",
      "[LightGBM] [Info] Compiling OpenCL Kernel with 256 bins...\n",
      "[LightGBM] [Info] GPU programs have been built\n",
      "[LightGBM] [Info] Size of histogram bin entry: 8\n",
      "[LightGBM] [Info] 13 dense feature groups (0.36 MB) transferred to GPU in 0.001218 secs. 1 sparse feature groups\n",
      "[LightGBM] [Info] [binary:BoostFromScore]: pavg=0.335171 -> initscore=-0.684891\n",
      "[LightGBM] [Info] Start training from score -0.684891\n"
     ]
    },
    {
     "name": "stderr",
     "output_type": "stream",
     "text": [
      "/usr/local/lib/python3.11/dist-packages/lightgbm/basic.py:2118: UserWarning: categorical_feature keyword has been found in `params` and will be ignored.\n",
      "Please use categorical_feature argument of the Dataset constructor to pass this parameter.\n",
      "  _log_warning(\n",
      "/usr/local/lib/python3.11/dist-packages/lightgbm/basic.py:2140: UserWarning: categorical_feature in param dict is overridden.\n",
      "  _log_warning(f\"{cat_alias} in param dict is overridden.\")\n"
     ]
    },
    {
     "name": "stdout",
     "output_type": "stream",
     "text": [
      "[CV] END learning_rate=0.02, n_estimators=400, num_leaves=15; total time=   1.1s\n",
      "[LightGBM] [Warning] categorical_feature is set=lang, categorical_column=5 will be ignored. Current value: categorical_feature=lang\n",
      "[LightGBM] [Info] Number of positive: 7905, number of negative: 15681\n",
      "[LightGBM] [Info] This is the GPU trainer!!\n",
      "[LightGBM] [Info] Total Bins 2514\n",
      "[LightGBM] [Info] Number of data points in the train set: 23586, number of used features: 15\n",
      "[LightGBM] [Info] Using GPU Device: Tesla T4, Vendor: NVIDIA Corporation\n",
      "[LightGBM] [Info] Compiling OpenCL Kernel with 256 bins...\n",
      "[LightGBM] [Info] GPU programs have been built\n",
      "[LightGBM] [Info] Size of histogram bin entry: 8\n",
      "[LightGBM] [Info] 13 dense feature groups (0.36 MB) transferred to GPU in 0.001206 secs. 1 sparse feature groups\n",
      "[LightGBM] [Info] [binary:BoostFromScore]: pavg=0.335156 -> initscore=-0.684954\n",
      "[LightGBM] [Info] Start training from score -0.684954\n"
     ]
    },
    {
     "name": "stderr",
     "output_type": "stream",
     "text": [
      "/usr/local/lib/python3.11/dist-packages/lightgbm/basic.py:2118: UserWarning: categorical_feature keyword has been found in `params` and will be ignored.\n",
      "Please use categorical_feature argument of the Dataset constructor to pass this parameter.\n",
      "  _log_warning(\n",
      "/usr/local/lib/python3.11/dist-packages/lightgbm/basic.py:2140: UserWarning: categorical_feature in param dict is overridden.\n",
      "  _log_warning(f\"{cat_alias} in param dict is overridden.\")\n"
     ]
    },
    {
     "name": "stdout",
     "output_type": "stream",
     "text": [
      "[CV] END learning_rate=0.02, n_estimators=400, num_leaves=15; total time=   1.1s\n",
      "[LightGBM] [Warning] categorical_feature is set=lang, categorical_column=5 will be ignored. Current value: categorical_feature=lang\n",
      "[LightGBM] [Info] Number of positive: 7905, number of negative: 15681\n",
      "[LightGBM] [Info] This is the GPU trainer!!\n",
      "[LightGBM] [Info] Total Bins 2518\n",
      "[LightGBM] [Info] Number of data points in the train set: 23586, number of used features: 15\n",
      "[LightGBM] [Info] Using GPU Device: Tesla T4, Vendor: NVIDIA Corporation\n",
      "[LightGBM] [Info] Compiling OpenCL Kernel with 256 bins...\n",
      "[LightGBM] [Info] GPU programs have been built\n",
      "[LightGBM] [Info] Size of histogram bin entry: 8\n",
      "[LightGBM] [Info] 13 dense feature groups (0.36 MB) transferred to GPU in 0.001178 secs. 1 sparse feature groups\n",
      "[LightGBM] [Info] [binary:BoostFromScore]: pavg=0.335156 -> initscore=-0.684954\n",
      "[LightGBM] [Info] Start training from score -0.684954\n"
     ]
    },
    {
     "name": "stderr",
     "output_type": "stream",
     "text": [
      "/usr/local/lib/python3.11/dist-packages/lightgbm/basic.py:2118: UserWarning: categorical_feature keyword has been found in `params` and will be ignored.\n",
      "Please use categorical_feature argument of the Dataset constructor to pass this parameter.\n",
      "  _log_warning(\n",
      "/usr/local/lib/python3.11/dist-packages/lightgbm/basic.py:2140: UserWarning: categorical_feature in param dict is overridden.\n",
      "  _log_warning(f\"{cat_alias} in param dict is overridden.\")\n"
     ]
    },
    {
     "name": "stdout",
     "output_type": "stream",
     "text": [
      "[CV] END learning_rate=0.02, n_estimators=400, num_leaves=15; total time=   1.1s\n",
      "[LightGBM] [Warning] categorical_feature is set=lang, categorical_column=5 will be ignored. Current value: categorical_feature=lang\n",
      "[LightGBM] [Info] Number of positive: 7905, number of negative: 15681\n",
      "[LightGBM] [Info] This is the GPU trainer!!\n",
      "[LightGBM] [Info] Total Bins 2518\n",
      "[LightGBM] [Info] Number of data points in the train set: 23586, number of used features: 15\n",
      "[LightGBM] [Info] Using GPU Device: Tesla T4, Vendor: NVIDIA Corporation\n",
      "[LightGBM] [Info] Compiling OpenCL Kernel with 256 bins...\n",
      "[LightGBM] [Info] GPU programs have been built\n",
      "[LightGBM] [Info] Size of histogram bin entry: 8\n",
      "[LightGBM] [Info] 13 dense feature groups (0.36 MB) transferred to GPU in 0.002733 secs. 1 sparse feature groups\n",
      "[LightGBM] [Info] [binary:BoostFromScore]: pavg=0.335156 -> initscore=-0.684954\n",
      "[LightGBM] [Info] Start training from score -0.684954\n"
     ]
    },
    {
     "name": "stderr",
     "output_type": "stream",
     "text": [
      "/usr/local/lib/python3.11/dist-packages/lightgbm/basic.py:2118: UserWarning: categorical_feature keyword has been found in `params` and will be ignored.\n",
      "Please use categorical_feature argument of the Dataset constructor to pass this parameter.\n",
      "  _log_warning(\n",
      "/usr/local/lib/python3.11/dist-packages/lightgbm/basic.py:2140: UserWarning: categorical_feature in param dict is overridden.\n",
      "  _log_warning(f\"{cat_alias} in param dict is overridden.\")\n"
     ]
    },
    {
     "name": "stdout",
     "output_type": "stream",
     "text": [
      "[CV] END learning_rate=0.02, n_estimators=400, num_leaves=15; total time=   1.1s\n",
      "[LightGBM] [Warning] categorical_feature is set=lang, categorical_column=5 will be ignored. Current value: categorical_feature=lang\n",
      "[LightGBM] [Info] Number of positive: 7905, number of negative: 15681\n",
      "[LightGBM] [Info] This is the GPU trainer!!\n",
      "[LightGBM] [Info] Total Bins 2514\n",
      "[LightGBM] [Info] Number of data points in the train set: 23586, number of used features: 15\n",
      "[LightGBM] [Info] Using GPU Device: Tesla T4, Vendor: NVIDIA Corporation\n",
      "[LightGBM] [Info] Compiling OpenCL Kernel with 256 bins...\n",
      "[LightGBM] [Info] GPU programs have been built\n",
      "[LightGBM] [Info] Size of histogram bin entry: 8\n",
      "[LightGBM] [Info] 13 dense feature groups (0.36 MB) transferred to GPU in 0.001180 secs. 1 sparse feature groups\n",
      "[LightGBM] [Info] [binary:BoostFromScore]: pavg=0.335156 -> initscore=-0.684954\n",
      "[LightGBM] [Info] Start training from score -0.684954\n"
     ]
    },
    {
     "name": "stderr",
     "output_type": "stream",
     "text": [
      "/usr/local/lib/python3.11/dist-packages/lightgbm/basic.py:2118: UserWarning: categorical_feature keyword has been found in `params` and will be ignored.\n",
      "Please use categorical_feature argument of the Dataset constructor to pass this parameter.\n",
      "  _log_warning(\n",
      "/usr/local/lib/python3.11/dist-packages/lightgbm/basic.py:2140: UserWarning: categorical_feature in param dict is overridden.\n",
      "  _log_warning(f\"{cat_alias} in param dict is overridden.\")\n"
     ]
    },
    {
     "name": "stdout",
     "output_type": "stream",
     "text": [
      "[CV] END learning_rate=0.02, n_estimators=400, num_leaves=15; total time=   1.1s\n",
      "[LightGBM] [Warning] categorical_feature is set=lang, categorical_column=5 will be ignored. Current value: categorical_feature=lang\n",
      "[LightGBM] [Info] Number of positive: 7904, number of negative: 15681\n",
      "[LightGBM] [Info] This is the GPU trainer!!\n",
      "[LightGBM] [Info] Total Bins 2510\n",
      "[LightGBM] [Info] Number of data points in the train set: 23585, number of used features: 15\n",
      "[LightGBM] [Info] Using GPU Device: Tesla T4, Vendor: NVIDIA Corporation\n",
      "[LightGBM] [Info] Compiling OpenCL Kernel with 256 bins...\n",
      "[LightGBM] [Info] GPU programs have been built\n",
      "[LightGBM] [Info] Size of histogram bin entry: 8\n",
      "[LightGBM] [Info] 13 dense feature groups (0.36 MB) transferred to GPU in 0.001328 secs. 1 sparse feature groups\n",
      "[LightGBM] [Info] [binary:BoostFromScore]: pavg=0.335128 -> initscore=-0.685081\n",
      "[LightGBM] [Info] Start training from score -0.685081\n"
     ]
    },
    {
     "name": "stderr",
     "output_type": "stream",
     "text": [
      "/usr/local/lib/python3.11/dist-packages/lightgbm/basic.py:2118: UserWarning: categorical_feature keyword has been found in `params` and will be ignored.\n",
      "Please use categorical_feature argument of the Dataset constructor to pass this parameter.\n",
      "  _log_warning(\n",
      "/usr/local/lib/python3.11/dist-packages/lightgbm/basic.py:2140: UserWarning: categorical_feature in param dict is overridden.\n",
      "  _log_warning(f\"{cat_alias} in param dict is overridden.\")\n"
     ]
    },
    {
     "name": "stdout",
     "output_type": "stream",
     "text": [
      "[CV] END learning_rate=0.02, n_estimators=400, num_leaves=30; total time=   3.6s\n",
      "[LightGBM] [Warning] categorical_feature is set=lang, categorical_column=5 will be ignored. Current value: categorical_feature=lang\n",
      "[LightGBM] [Info] Number of positive: 7904, number of negative: 15681\n",
      "[LightGBM] [Info] This is the GPU trainer!!\n",
      "[LightGBM] [Info] Total Bins 2519\n",
      "[LightGBM] [Info] Number of data points in the train set: 23585, number of used features: 15\n",
      "[LightGBM] [Info] Using GPU Device: Tesla T4, Vendor: NVIDIA Corporation\n",
      "[LightGBM] [Info] Compiling OpenCL Kernel with 256 bins...\n",
      "[LightGBM] [Info] GPU programs have been built\n",
      "[LightGBM] [Info] Size of histogram bin entry: 8\n",
      "[LightGBM] [Info] 13 dense feature groups (0.36 MB) transferred to GPU in 0.001356 secs. 1 sparse feature groups\n",
      "[LightGBM] [Info] [binary:BoostFromScore]: pavg=0.335128 -> initscore=-0.685081\n",
      "[LightGBM] [Info] Start training from score -0.685081\n"
     ]
    },
    {
     "name": "stderr",
     "output_type": "stream",
     "text": [
      "/usr/local/lib/python3.11/dist-packages/lightgbm/basic.py:2118: UserWarning: categorical_feature keyword has been found in `params` and will be ignored.\n",
      "Please use categorical_feature argument of the Dataset constructor to pass this parameter.\n",
      "  _log_warning(\n",
      "/usr/local/lib/python3.11/dist-packages/lightgbm/basic.py:2140: UserWarning: categorical_feature in param dict is overridden.\n",
      "  _log_warning(f\"{cat_alias} in param dict is overridden.\")\n"
     ]
    },
    {
     "name": "stdout",
     "output_type": "stream",
     "text": [
      "[CV] END learning_rate=0.02, n_estimators=400, num_leaves=30; total time=   2.0s\n",
      "[LightGBM] [Warning] categorical_feature is set=lang, categorical_column=5 will be ignored. Current value: categorical_feature=lang\n",
      "[LightGBM] [Info] Number of positive: 7904, number of negative: 15681\n",
      "[LightGBM] [Info] This is the GPU trainer!!\n",
      "[LightGBM] [Info] Total Bins 2517\n",
      "[LightGBM] [Info] Number of data points in the train set: 23585, number of used features: 15\n",
      "[LightGBM] [Info] Using GPU Device: Tesla T4, Vendor: NVIDIA Corporation\n",
      "[LightGBM] [Info] Compiling OpenCL Kernel with 256 bins...\n",
      "[LightGBM] [Info] GPU programs have been built\n",
      "[LightGBM] [Info] Size of histogram bin entry: 8\n",
      "[LightGBM] [Info] 13 dense feature groups (0.36 MB) transferred to GPU in 0.001393 secs. 1 sparse feature groups\n",
      "[LightGBM] [Info] [binary:BoostFromScore]: pavg=0.335128 -> initscore=-0.685081\n",
      "[LightGBM] [Info] Start training from score -0.685081\n"
     ]
    },
    {
     "name": "stderr",
     "output_type": "stream",
     "text": [
      "/usr/local/lib/python3.11/dist-packages/lightgbm/basic.py:2118: UserWarning: categorical_feature keyword has been found in `params` and will be ignored.\n",
      "Please use categorical_feature argument of the Dataset constructor to pass this parameter.\n",
      "  _log_warning(\n",
      "/usr/local/lib/python3.11/dist-packages/lightgbm/basic.py:2140: UserWarning: categorical_feature in param dict is overridden.\n",
      "  _log_warning(f\"{cat_alias} in param dict is overridden.\")\n"
     ]
    },
    {
     "name": "stdout",
     "output_type": "stream",
     "text": [
      "[CV] END learning_rate=0.02, n_estimators=400, num_leaves=30; total time=   1.7s\n",
      "[LightGBM] [Warning] categorical_feature is set=lang, categorical_column=5 will be ignored. Current value: categorical_feature=lang\n",
      "[LightGBM] [Info] Number of positive: 7905, number of negative: 15680\n",
      "[LightGBM] [Info] This is the GPU trainer!!\n",
      "[LightGBM] [Info] Total Bins 2512\n",
      "[LightGBM] [Info] Number of data points in the train set: 23585, number of used features: 15\n",
      "[LightGBM] [Info] Using GPU Device: Tesla T4, Vendor: NVIDIA Corporation\n",
      "[LightGBM] [Info] Compiling OpenCL Kernel with 256 bins...\n",
      "[LightGBM] [Info] GPU programs have been built\n",
      "[LightGBM] [Info] Size of histogram bin entry: 8\n",
      "[LightGBM] [Info] 13 dense feature groups (0.36 MB) transferred to GPU in 0.001207 secs. 1 sparse feature groups\n",
      "[LightGBM] [Info] [binary:BoostFromScore]: pavg=0.335171 -> initscore=-0.684891\n",
      "[LightGBM] [Info] Start training from score -0.684891\n"
     ]
    },
    {
     "name": "stderr",
     "output_type": "stream",
     "text": [
      "/usr/local/lib/python3.11/dist-packages/lightgbm/basic.py:2118: UserWarning: categorical_feature keyword has been found in `params` and will be ignored.\n",
      "Please use categorical_feature argument of the Dataset constructor to pass this parameter.\n",
      "  _log_warning(\n",
      "/usr/local/lib/python3.11/dist-packages/lightgbm/basic.py:2140: UserWarning: categorical_feature in param dict is overridden.\n",
      "  _log_warning(f\"{cat_alias} in param dict is overridden.\")\n"
     ]
    },
    {
     "name": "stdout",
     "output_type": "stream",
     "text": [
      "[CV] END learning_rate=0.02, n_estimators=400, num_leaves=30; total time=   1.7s\n",
      "[LightGBM] [Warning] categorical_feature is set=lang, categorical_column=5 will be ignored. Current value: categorical_feature=lang\n",
      "[LightGBM] [Info] Number of positive: 7905, number of negative: 15680\n",
      "[LightGBM] [Info] This is the GPU trainer!!\n",
      "[LightGBM] [Info] Total Bins 2523\n",
      "[LightGBM] [Info] Number of data points in the train set: 23585, number of used features: 15\n",
      "[LightGBM] [Info] Using GPU Device: Tesla T4, Vendor: NVIDIA Corporation\n",
      "[LightGBM] [Info] Compiling OpenCL Kernel with 256 bins...\n",
      "[LightGBM] [Info] GPU programs have been built\n",
      "[LightGBM] [Info] Size of histogram bin entry: 8\n",
      "[LightGBM] [Info] 13 dense feature groups (0.36 MB) transferred to GPU in 0.001197 secs. 1 sparse feature groups\n",
      "[LightGBM] [Info] [binary:BoostFromScore]: pavg=0.335171 -> initscore=-0.684891\n",
      "[LightGBM] [Info] Start training from score -0.684891\n"
     ]
    },
    {
     "name": "stderr",
     "output_type": "stream",
     "text": [
      "/usr/local/lib/python3.11/dist-packages/lightgbm/basic.py:2118: UserWarning: categorical_feature keyword has been found in `params` and will be ignored.\n",
      "Please use categorical_feature argument of the Dataset constructor to pass this parameter.\n",
      "  _log_warning(\n",
      "/usr/local/lib/python3.11/dist-packages/lightgbm/basic.py:2140: UserWarning: categorical_feature in param dict is overridden.\n",
      "  _log_warning(f\"{cat_alias} in param dict is overridden.\")\n"
     ]
    },
    {
     "name": "stdout",
     "output_type": "stream",
     "text": [
      "[CV] END learning_rate=0.02, n_estimators=400, num_leaves=30; total time=   1.6s\n",
      "[LightGBM] [Warning] categorical_feature is set=lang, categorical_column=5 will be ignored. Current value: categorical_feature=lang\n",
      "[LightGBM] [Info] Number of positive: 7905, number of negative: 15680\n",
      "[LightGBM] [Info] This is the GPU trainer!!\n",
      "[LightGBM] [Info] Total Bins 2517\n",
      "[LightGBM] [Info] Number of data points in the train set: 23585, number of used features: 15\n",
      "[LightGBM] [Info] Using GPU Device: Tesla T4, Vendor: NVIDIA Corporation\n",
      "[LightGBM] [Info] Compiling OpenCL Kernel with 256 bins...\n",
      "[LightGBM] [Info] GPU programs have been built\n",
      "[LightGBM] [Info] Size of histogram bin entry: 8\n",
      "[LightGBM] [Info] 13 dense feature groups (0.36 MB) transferred to GPU in 0.001198 secs. 1 sparse feature groups\n",
      "[LightGBM] [Info] [binary:BoostFromScore]: pavg=0.335171 -> initscore=-0.684891\n",
      "[LightGBM] [Info] Start training from score -0.684891\n"
     ]
    },
    {
     "name": "stderr",
     "output_type": "stream",
     "text": [
      "/usr/local/lib/python3.11/dist-packages/lightgbm/basic.py:2118: UserWarning: categorical_feature keyword has been found in `params` and will be ignored.\n",
      "Please use categorical_feature argument of the Dataset constructor to pass this parameter.\n",
      "  _log_warning(\n",
      "/usr/local/lib/python3.11/dist-packages/lightgbm/basic.py:2140: UserWarning: categorical_feature in param dict is overridden.\n",
      "  _log_warning(f\"{cat_alias} in param dict is overridden.\")\n"
     ]
    },
    {
     "name": "stdout",
     "output_type": "stream",
     "text": [
      "[CV] END learning_rate=0.02, n_estimators=400, num_leaves=30; total time=   1.7s\n",
      "[LightGBM] [Warning] categorical_feature is set=lang, categorical_column=5 will be ignored. Current value: categorical_feature=lang\n",
      "[LightGBM] [Info] Number of positive: 7905, number of negative: 15681\n",
      "[LightGBM] [Info] This is the GPU trainer!!\n",
      "[LightGBM] [Info] Total Bins 2514\n",
      "[LightGBM] [Info] Number of data points in the train set: 23586, number of used features: 15\n",
      "[LightGBM] [Info] Using GPU Device: Tesla T4, Vendor: NVIDIA Corporation\n",
      "[LightGBM] [Info] Compiling OpenCL Kernel with 256 bins...\n",
      "[LightGBM] [Info] GPU programs have been built\n",
      "[LightGBM] [Info] Size of histogram bin entry: 8\n",
      "[LightGBM] [Info] 13 dense feature groups (0.36 MB) transferred to GPU in 0.001296 secs. 1 sparse feature groups\n",
      "[LightGBM] [Info] [binary:BoostFromScore]: pavg=0.335156 -> initscore=-0.684954\n",
      "[LightGBM] [Info] Start training from score -0.684954\n"
     ]
    },
    {
     "name": "stderr",
     "output_type": "stream",
     "text": [
      "/usr/local/lib/python3.11/dist-packages/lightgbm/basic.py:2118: UserWarning: categorical_feature keyword has been found in `params` and will be ignored.\n",
      "Please use categorical_feature argument of the Dataset constructor to pass this parameter.\n",
      "  _log_warning(\n",
      "/usr/local/lib/python3.11/dist-packages/lightgbm/basic.py:2140: UserWarning: categorical_feature in param dict is overridden.\n",
      "  _log_warning(f\"{cat_alias} in param dict is overridden.\")\n"
     ]
    },
    {
     "name": "stdout",
     "output_type": "stream",
     "text": [
      "[CV] END learning_rate=0.02, n_estimators=400, num_leaves=30; total time=   1.7s\n",
      "[LightGBM] [Warning] categorical_feature is set=lang, categorical_column=5 will be ignored. Current value: categorical_feature=lang\n",
      "[LightGBM] [Info] Number of positive: 7905, number of negative: 15681\n",
      "[LightGBM] [Info] This is the GPU trainer!!\n",
      "[LightGBM] [Info] Total Bins 2518\n",
      "[LightGBM] [Info] Number of data points in the train set: 23586, number of used features: 15\n",
      "[LightGBM] [Info] Using GPU Device: Tesla T4, Vendor: NVIDIA Corporation\n",
      "[LightGBM] [Info] Compiling OpenCL Kernel with 256 bins...\n",
      "[LightGBM] [Info] GPU programs have been built\n",
      "[LightGBM] [Info] Size of histogram bin entry: 8\n",
      "[LightGBM] [Info] 13 dense feature groups (0.36 MB) transferred to GPU in 0.001328 secs. 1 sparse feature groups\n",
      "[LightGBM] [Info] [binary:BoostFromScore]: pavg=0.335156 -> initscore=-0.684954\n",
      "[LightGBM] [Info] Start training from score -0.684954\n"
     ]
    },
    {
     "name": "stderr",
     "output_type": "stream",
     "text": [
      "/usr/local/lib/python3.11/dist-packages/lightgbm/basic.py:2118: UserWarning: categorical_feature keyword has been found in `params` and will be ignored.\n",
      "Please use categorical_feature argument of the Dataset constructor to pass this parameter.\n",
      "  _log_warning(\n",
      "/usr/local/lib/python3.11/dist-packages/lightgbm/basic.py:2140: UserWarning: categorical_feature in param dict is overridden.\n",
      "  _log_warning(f\"{cat_alias} in param dict is overridden.\")\n"
     ]
    },
    {
     "name": "stdout",
     "output_type": "stream",
     "text": [
      "[CV] END learning_rate=0.02, n_estimators=400, num_leaves=30; total time=   3.8s\n",
      "[LightGBM] [Warning] categorical_feature is set=lang, categorical_column=5 will be ignored. Current value: categorical_feature=lang\n",
      "[LightGBM] [Info] Number of positive: 7905, number of negative: 15681\n",
      "[LightGBM] [Info] This is the GPU trainer!!\n",
      "[LightGBM] [Info] Total Bins 2518\n",
      "[LightGBM] [Info] Number of data points in the train set: 23586, number of used features: 15\n",
      "[LightGBM] [Info] Using GPU Device: Tesla T4, Vendor: NVIDIA Corporation\n",
      "[LightGBM] [Info] Compiling OpenCL Kernel with 256 bins...\n",
      "[LightGBM] [Info] GPU programs have been built\n",
      "[LightGBM] [Info] Size of histogram bin entry: 8\n",
      "[LightGBM] [Info] 13 dense feature groups (0.36 MB) transferred to GPU in 0.008435 secs. 1 sparse feature groups\n",
      "[LightGBM] [Info] [binary:BoostFromScore]: pavg=0.335156 -> initscore=-0.684954\n",
      "[LightGBM] [Info] Start training from score -0.684954\n"
     ]
    },
    {
     "name": "stderr",
     "output_type": "stream",
     "text": [
      "/usr/local/lib/python3.11/dist-packages/lightgbm/basic.py:2118: UserWarning: categorical_feature keyword has been found in `params` and will be ignored.\n",
      "Please use categorical_feature argument of the Dataset constructor to pass this parameter.\n",
      "  _log_warning(\n",
      "/usr/local/lib/python3.11/dist-packages/lightgbm/basic.py:2140: UserWarning: categorical_feature in param dict is overridden.\n",
      "  _log_warning(f\"{cat_alias} in param dict is overridden.\")\n"
     ]
    },
    {
     "name": "stdout",
     "output_type": "stream",
     "text": [
      "[CV] END learning_rate=0.02, n_estimators=400, num_leaves=30; total time=   1.9s\n",
      "[LightGBM] [Warning] categorical_feature is set=lang, categorical_column=5 will be ignored. Current value: categorical_feature=lang\n",
      "[LightGBM] [Info] Number of positive: 7905, number of negative: 15681\n",
      "[LightGBM] [Info] This is the GPU trainer!!\n",
      "[LightGBM] [Info] Total Bins 2514\n",
      "[LightGBM] [Info] Number of data points in the train set: 23586, number of used features: 15\n",
      "[LightGBM] [Info] Using GPU Device: Tesla T4, Vendor: NVIDIA Corporation\n",
      "[LightGBM] [Info] Compiling OpenCL Kernel with 256 bins...\n",
      "[LightGBM] [Info] GPU programs have been built\n",
      "[LightGBM] [Info] Size of histogram bin entry: 8\n",
      "[LightGBM] [Info] 13 dense feature groups (0.36 MB) transferred to GPU in 0.001213 secs. 1 sparse feature groups\n",
      "[LightGBM] [Info] [binary:BoostFromScore]: pavg=0.335156 -> initscore=-0.684954\n",
      "[LightGBM] [Info] Start training from score -0.684954\n"
     ]
    },
    {
     "name": "stderr",
     "output_type": "stream",
     "text": [
      "/usr/local/lib/python3.11/dist-packages/lightgbm/basic.py:2118: UserWarning: categorical_feature keyword has been found in `params` and will be ignored.\n",
      "Please use categorical_feature argument of the Dataset constructor to pass this parameter.\n",
      "  _log_warning(\n",
      "/usr/local/lib/python3.11/dist-packages/lightgbm/basic.py:2140: UserWarning: categorical_feature in param dict is overridden.\n",
      "  _log_warning(f\"{cat_alias} in param dict is overridden.\")\n"
     ]
    },
    {
     "name": "stdout",
     "output_type": "stream",
     "text": [
      "[CV] END learning_rate=0.02, n_estimators=400, num_leaves=30; total time=   1.7s\n",
      "[LightGBM] [Warning] categorical_feature is set=lang, categorical_column=5 will be ignored. Current value: categorical_feature=lang\n",
      "[LightGBM] [Info] Number of positive: 7904, number of negative: 15681\n",
      "[LightGBM] [Info] This is the GPU trainer!!\n",
      "[LightGBM] [Info] Total Bins 2510\n",
      "[LightGBM] [Info] Number of data points in the train set: 23585, number of used features: 15\n",
      "[LightGBM] [Info] Using GPU Device: Tesla T4, Vendor: NVIDIA Corporation\n",
      "[LightGBM] [Info] Compiling OpenCL Kernel with 256 bins...\n",
      "[LightGBM] [Info] GPU programs have been built\n",
      "[LightGBM] [Info] Size of histogram bin entry: 8\n",
      "[LightGBM] [Info] 13 dense feature groups (0.36 MB) transferred to GPU in 0.001319 secs. 1 sparse feature groups\n",
      "[LightGBM] [Info] [binary:BoostFromScore]: pavg=0.335128 -> initscore=-0.685081\n",
      "[LightGBM] [Info] Start training from score -0.685081\n"
     ]
    },
    {
     "name": "stderr",
     "output_type": "stream",
     "text": [
      "/usr/local/lib/python3.11/dist-packages/lightgbm/basic.py:2118: UserWarning: categorical_feature keyword has been found in `params` and will be ignored.\n",
      "Please use categorical_feature argument of the Dataset constructor to pass this parameter.\n",
      "  _log_warning(\n",
      "/usr/local/lib/python3.11/dist-packages/lightgbm/basic.py:2140: UserWarning: categorical_feature in param dict is overridden.\n",
      "  _log_warning(f\"{cat_alias} in param dict is overridden.\")\n"
     ]
    },
    {
     "name": "stdout",
     "output_type": "stream",
     "text": [
      "[CV] END learning_rate=0.02, n_estimators=400, num_leaves=45; total time=   2.3s\n",
      "[LightGBM] [Warning] categorical_feature is set=lang, categorical_column=5 will be ignored. Current value: categorical_feature=lang\n",
      "[LightGBM] [Info] Number of positive: 7904, number of negative: 15681\n",
      "[LightGBM] [Info] This is the GPU trainer!!\n",
      "[LightGBM] [Info] Total Bins 2519\n",
      "[LightGBM] [Info] Number of data points in the train set: 23585, number of used features: 15\n",
      "[LightGBM] [Info] Using GPU Device: Tesla T4, Vendor: NVIDIA Corporation\n",
      "[LightGBM] [Info] Compiling OpenCL Kernel with 256 bins...\n",
      "[LightGBM] [Info] GPU programs have been built\n",
      "[LightGBM] [Info] Size of histogram bin entry: 8\n",
      "[LightGBM] [Info] 13 dense feature groups (0.36 MB) transferred to GPU in 0.010962 secs. 1 sparse feature groups\n",
      "[LightGBM] [Info] [binary:BoostFromScore]: pavg=0.335128 -> initscore=-0.685081\n",
      "[LightGBM] [Info] Start training from score -0.685081\n"
     ]
    },
    {
     "name": "stderr",
     "output_type": "stream",
     "text": [
      "/usr/local/lib/python3.11/dist-packages/lightgbm/basic.py:2118: UserWarning: categorical_feature keyword has been found in `params` and will be ignored.\n",
      "Please use categorical_feature argument of the Dataset constructor to pass this parameter.\n",
      "  _log_warning(\n",
      "/usr/local/lib/python3.11/dist-packages/lightgbm/basic.py:2140: UserWarning: categorical_feature in param dict is overridden.\n",
      "  _log_warning(f\"{cat_alias} in param dict is overridden.\")\n"
     ]
    },
    {
     "name": "stdout",
     "output_type": "stream",
     "text": [
      "[CV] END learning_rate=0.02, n_estimators=400, num_leaves=45; total time=   2.2s\n",
      "[LightGBM] [Warning] categorical_feature is set=lang, categorical_column=5 will be ignored. Current value: categorical_feature=lang\n",
      "[LightGBM] [Info] Number of positive: 7904, number of negative: 15681\n",
      "[LightGBM] [Info] This is the GPU trainer!!\n",
      "[LightGBM] [Info] Total Bins 2517\n",
      "[LightGBM] [Info] Number of data points in the train set: 23585, number of used features: 15\n",
      "[LightGBM] [Info] Using GPU Device: Tesla T4, Vendor: NVIDIA Corporation\n",
      "[LightGBM] [Info] Compiling OpenCL Kernel with 256 bins...\n",
      "[LightGBM] [Info] GPU programs have been built\n",
      "[LightGBM] [Info] Size of histogram bin entry: 8\n",
      "[LightGBM] [Info] 13 dense feature groups (0.36 MB) transferred to GPU in 0.001268 secs. 1 sparse feature groups\n",
      "[LightGBM] [Info] [binary:BoostFromScore]: pavg=0.335128 -> initscore=-0.685081\n",
      "[LightGBM] [Info] Start training from score -0.685081\n"
     ]
    },
    {
     "name": "stderr",
     "output_type": "stream",
     "text": [
      "/usr/local/lib/python3.11/dist-packages/lightgbm/basic.py:2118: UserWarning: categorical_feature keyword has been found in `params` and will be ignored.\n",
      "Please use categorical_feature argument of the Dataset constructor to pass this parameter.\n",
      "  _log_warning(\n",
      "/usr/local/lib/python3.11/dist-packages/lightgbm/basic.py:2140: UserWarning: categorical_feature in param dict is overridden.\n",
      "  _log_warning(f\"{cat_alias} in param dict is overridden.\")\n"
     ]
    },
    {
     "name": "stdout",
     "output_type": "stream",
     "text": [
      "[CV] END learning_rate=0.02, n_estimators=400, num_leaves=45; total time=   2.2s\n",
      "[LightGBM] [Warning] categorical_feature is set=lang, categorical_column=5 will be ignored. Current value: categorical_feature=lang\n",
      "[LightGBM] [Info] Number of positive: 7905, number of negative: 15680\n",
      "[LightGBM] [Info] This is the GPU trainer!!\n",
      "[LightGBM] [Info] Total Bins 2512\n",
      "[LightGBM] [Info] Number of data points in the train set: 23585, number of used features: 15\n",
      "[LightGBM] [Info] Using GPU Device: Tesla T4, Vendor: NVIDIA Corporation\n",
      "[LightGBM] [Info] Compiling OpenCL Kernel with 256 bins...\n",
      "[LightGBM] [Info] GPU programs have been built\n",
      "[LightGBM] [Info] Size of histogram bin entry: 8\n",
      "[LightGBM] [Info] 13 dense feature groups (0.36 MB) transferred to GPU in 0.001189 secs. 1 sparse feature groups\n",
      "[LightGBM] [Info] [binary:BoostFromScore]: pavg=0.335171 -> initscore=-0.684891\n",
      "[LightGBM] [Info] Start training from score -0.684891\n"
     ]
    },
    {
     "name": "stderr",
     "output_type": "stream",
     "text": [
      "/usr/local/lib/python3.11/dist-packages/lightgbm/basic.py:2118: UserWarning: categorical_feature keyword has been found in `params` and will be ignored.\n",
      "Please use categorical_feature argument of the Dataset constructor to pass this parameter.\n",
      "  _log_warning(\n",
      "/usr/local/lib/python3.11/dist-packages/lightgbm/basic.py:2140: UserWarning: categorical_feature in param dict is overridden.\n",
      "  _log_warning(f\"{cat_alias} in param dict is overridden.\")\n"
     ]
    },
    {
     "name": "stdout",
     "output_type": "stream",
     "text": [
      "[CV] END learning_rate=0.02, n_estimators=400, num_leaves=45; total time=   4.6s\n",
      "[LightGBM] [Warning] categorical_feature is set=lang, categorical_column=5 will be ignored. Current value: categorical_feature=lang\n",
      "[LightGBM] [Info] Number of positive: 7905, number of negative: 15680\n",
      "[LightGBM] [Info] This is the GPU trainer!!\n",
      "[LightGBM] [Info] Total Bins 2523\n",
      "[LightGBM] [Info] Number of data points in the train set: 23585, number of used features: 15\n",
      "[LightGBM] [Info] Using GPU Device: Tesla T4, Vendor: NVIDIA Corporation\n",
      "[LightGBM] [Info] Compiling OpenCL Kernel with 256 bins...\n",
      "[LightGBM] [Info] GPU programs have been built\n",
      "[LightGBM] [Info] Size of histogram bin entry: 8\n",
      "[LightGBM] [Info] 13 dense feature groups (0.36 MB) transferred to GPU in 0.001272 secs. 1 sparse feature groups\n",
      "[LightGBM] [Info] [binary:BoostFromScore]: pavg=0.335171 -> initscore=-0.684891\n",
      "[LightGBM] [Info] Start training from score -0.684891\n"
     ]
    },
    {
     "name": "stderr",
     "output_type": "stream",
     "text": [
      "/usr/local/lib/python3.11/dist-packages/lightgbm/basic.py:2118: UserWarning: categorical_feature keyword has been found in `params` and will be ignored.\n",
      "Please use categorical_feature argument of the Dataset constructor to pass this parameter.\n",
      "  _log_warning(\n",
      "/usr/local/lib/python3.11/dist-packages/lightgbm/basic.py:2140: UserWarning: categorical_feature in param dict is overridden.\n",
      "  _log_warning(f\"{cat_alias} in param dict is overridden.\")\n"
     ]
    },
    {
     "name": "stdout",
     "output_type": "stream",
     "text": [
      "[CV] END learning_rate=0.02, n_estimators=400, num_leaves=45; total time=   2.3s\n",
      "[LightGBM] [Warning] categorical_feature is set=lang, categorical_column=5 will be ignored. Current value: categorical_feature=lang\n",
      "[LightGBM] [Info] Number of positive: 7905, number of negative: 15680\n",
      "[LightGBM] [Info] This is the GPU trainer!!\n",
      "[LightGBM] [Info] Total Bins 2517\n",
      "[LightGBM] [Info] Number of data points in the train set: 23585, number of used features: 15\n",
      "[LightGBM] [Info] Using GPU Device: Tesla T4, Vendor: NVIDIA Corporation\n",
      "[LightGBM] [Info] Compiling OpenCL Kernel with 256 bins...\n",
      "[LightGBM] [Info] GPU programs have been built\n",
      "[LightGBM] [Info] Size of histogram bin entry: 8\n",
      "[LightGBM] [Info] 13 dense feature groups (0.36 MB) transferred to GPU in 0.001150 secs. 1 sparse feature groups\n",
      "[LightGBM] [Info] [binary:BoostFromScore]: pavg=0.335171 -> initscore=-0.684891\n",
      "[LightGBM] [Info] Start training from score -0.684891\n"
     ]
    },
    {
     "name": "stderr",
     "output_type": "stream",
     "text": [
      "/usr/local/lib/python3.11/dist-packages/lightgbm/basic.py:2118: UserWarning: categorical_feature keyword has been found in `params` and will be ignored.\n",
      "Please use categorical_feature argument of the Dataset constructor to pass this parameter.\n",
      "  _log_warning(\n",
      "/usr/local/lib/python3.11/dist-packages/lightgbm/basic.py:2140: UserWarning: categorical_feature in param dict is overridden.\n",
      "  _log_warning(f\"{cat_alias} in param dict is overridden.\")\n"
     ]
    },
    {
     "name": "stdout",
     "output_type": "stream",
     "text": [
      "[CV] END learning_rate=0.02, n_estimators=400, num_leaves=45; total time=   2.3s\n",
      "[LightGBM] [Warning] categorical_feature is set=lang, categorical_column=5 will be ignored. Current value: categorical_feature=lang\n",
      "[LightGBM] [Info] Number of positive: 7905, number of negative: 15681\n",
      "[LightGBM] [Info] This is the GPU trainer!!\n",
      "[LightGBM] [Info] Total Bins 2514\n",
      "[LightGBM] [Info] Number of data points in the train set: 23586, number of used features: 15\n",
      "[LightGBM] [Info] Using GPU Device: Tesla T4, Vendor: NVIDIA Corporation\n",
      "[LightGBM] [Info] Compiling OpenCL Kernel with 256 bins...\n",
      "[LightGBM] [Info] GPU programs have been built\n",
      "[LightGBM] [Info] Size of histogram bin entry: 8\n",
      "[LightGBM] [Info] 13 dense feature groups (0.36 MB) transferred to GPU in 0.001226 secs. 1 sparse feature groups\n",
      "[LightGBM] [Info] [binary:BoostFromScore]: pavg=0.335156 -> initscore=-0.684954\n",
      "[LightGBM] [Info] Start training from score -0.684954\n"
     ]
    },
    {
     "name": "stderr",
     "output_type": "stream",
     "text": [
      "/usr/local/lib/python3.11/dist-packages/lightgbm/basic.py:2118: UserWarning: categorical_feature keyword has been found in `params` and will be ignored.\n",
      "Please use categorical_feature argument of the Dataset constructor to pass this parameter.\n",
      "  _log_warning(\n",
      "/usr/local/lib/python3.11/dist-packages/lightgbm/basic.py:2140: UserWarning: categorical_feature in param dict is overridden.\n",
      "  _log_warning(f\"{cat_alias} in param dict is overridden.\")\n"
     ]
    },
    {
     "name": "stdout",
     "output_type": "stream",
     "text": [
      "[CV] END learning_rate=0.02, n_estimators=400, num_leaves=45; total time=   2.3s\n",
      "[LightGBM] [Warning] categorical_feature is set=lang, categorical_column=5 will be ignored. Current value: categorical_feature=lang\n",
      "[LightGBM] [Info] Number of positive: 7905, number of negative: 15681\n",
      "[LightGBM] [Info] This is the GPU trainer!!\n",
      "[LightGBM] [Info] Total Bins 2518\n",
      "[LightGBM] [Info] Number of data points in the train set: 23586, number of used features: 15\n",
      "[LightGBM] [Info] Using GPU Device: Tesla T4, Vendor: NVIDIA Corporation\n",
      "[LightGBM] [Info] Compiling OpenCL Kernel with 256 bins...\n",
      "[LightGBM] [Info] GPU programs have been built\n",
      "[LightGBM] [Info] Size of histogram bin entry: 8\n",
      "[LightGBM] [Info] 13 dense feature groups (0.36 MB) transferred to GPU in 0.001249 secs. 1 sparse feature groups\n",
      "[LightGBM] [Info] [binary:BoostFromScore]: pavg=0.335156 -> initscore=-0.684954\n",
      "[LightGBM] [Info] Start training from score -0.684954\n"
     ]
    },
    {
     "name": "stderr",
     "output_type": "stream",
     "text": [
      "/usr/local/lib/python3.11/dist-packages/lightgbm/basic.py:2118: UserWarning: categorical_feature keyword has been found in `params` and will be ignored.\n",
      "Please use categorical_feature argument of the Dataset constructor to pass this parameter.\n",
      "  _log_warning(\n",
      "/usr/local/lib/python3.11/dist-packages/lightgbm/basic.py:2140: UserWarning: categorical_feature in param dict is overridden.\n",
      "  _log_warning(f\"{cat_alias} in param dict is overridden.\")\n"
     ]
    },
    {
     "name": "stdout",
     "output_type": "stream",
     "text": [
      "[CV] END learning_rate=0.02, n_estimators=400, num_leaves=45; total time=   2.3s\n",
      "[LightGBM] [Warning] categorical_feature is set=lang, categorical_column=5 will be ignored. Current value: categorical_feature=lang\n",
      "[LightGBM] [Info] Number of positive: 7905, number of negative: 15681\n",
      "[LightGBM] [Info] This is the GPU trainer!!\n",
      "[LightGBM] [Info] Total Bins 2518\n",
      "[LightGBM] [Info] Number of data points in the train set: 23586, number of used features: 15\n",
      "[LightGBM] [Info] Using GPU Device: Tesla T4, Vendor: NVIDIA Corporation\n",
      "[LightGBM] [Info] Compiling OpenCL Kernel with 256 bins...\n",
      "[LightGBM] [Info] GPU programs have been built\n",
      "[LightGBM] [Info] Size of histogram bin entry: 8\n",
      "[LightGBM] [Info] 13 dense feature groups (0.36 MB) transferred to GPU in 0.001203 secs. 1 sparse feature groups\n",
      "[LightGBM] [Info] [binary:BoostFromScore]: pavg=0.335156 -> initscore=-0.684954\n",
      "[LightGBM] [Info] Start training from score -0.684954\n"
     ]
    },
    {
     "name": "stderr",
     "output_type": "stream",
     "text": [
      "/usr/local/lib/python3.11/dist-packages/lightgbm/basic.py:2118: UserWarning: categorical_feature keyword has been found in `params` and will be ignored.\n",
      "Please use categorical_feature argument of the Dataset constructor to pass this parameter.\n",
      "  _log_warning(\n",
      "/usr/local/lib/python3.11/dist-packages/lightgbm/basic.py:2140: UserWarning: categorical_feature in param dict is overridden.\n",
      "  _log_warning(f\"{cat_alias} in param dict is overridden.\")\n"
     ]
    },
    {
     "name": "stdout",
     "output_type": "stream",
     "text": [
      "[CV] END learning_rate=0.02, n_estimators=400, num_leaves=45; total time=   4.5s\n",
      "[LightGBM] [Warning] categorical_feature is set=lang, categorical_column=5 will be ignored. Current value: categorical_feature=lang\n",
      "[LightGBM] [Info] Number of positive: 7905, number of negative: 15681\n",
      "[LightGBM] [Info] This is the GPU trainer!!\n",
      "[LightGBM] [Info] Total Bins 2514\n",
      "[LightGBM] [Info] Number of data points in the train set: 23586, number of used features: 15\n",
      "[LightGBM] [Info] Using GPU Device: Tesla T4, Vendor: NVIDIA Corporation\n",
      "[LightGBM] [Info] Compiling OpenCL Kernel with 256 bins...\n",
      "[LightGBM] [Info] GPU programs have been built\n",
      "[LightGBM] [Info] Size of histogram bin entry: 8\n",
      "[LightGBM] [Info] 13 dense feature groups (0.36 MB) transferred to GPU in 0.001159 secs. 1 sparse feature groups\n",
      "[LightGBM] [Info] [binary:BoostFromScore]: pavg=0.335156 -> initscore=-0.684954\n",
      "[LightGBM] [Info] Start training from score -0.684954\n"
     ]
    },
    {
     "name": "stderr",
     "output_type": "stream",
     "text": [
      "/usr/local/lib/python3.11/dist-packages/lightgbm/basic.py:2118: UserWarning: categorical_feature keyword has been found in `params` and will be ignored.\n",
      "Please use categorical_feature argument of the Dataset constructor to pass this parameter.\n",
      "  _log_warning(\n",
      "/usr/local/lib/python3.11/dist-packages/lightgbm/basic.py:2140: UserWarning: categorical_feature in param dict is overridden.\n",
      "  _log_warning(f\"{cat_alias} in param dict is overridden.\")\n"
     ]
    },
    {
     "name": "stdout",
     "output_type": "stream",
     "text": [
      "[CV] END learning_rate=0.02, n_estimators=400, num_leaves=45; total time=   2.3s\n",
      "[LightGBM] [Warning] categorical_feature is set=lang, categorical_column=5 will be ignored. Current value: categorical_feature=lang\n",
      "[LightGBM] [Info] Number of positive: 7904, number of negative: 15681\n",
      "[LightGBM] [Info] This is the GPU trainer!!\n",
      "[LightGBM] [Info] Total Bins 2510\n",
      "[LightGBM] [Info] Number of data points in the train set: 23585, number of used features: 15\n",
      "[LightGBM] [Info] Using GPU Device: Tesla T4, Vendor: NVIDIA Corporation\n",
      "[LightGBM] [Info] Compiling OpenCL Kernel with 256 bins...\n",
      "[LightGBM] [Info] GPU programs have been built\n",
      "[LightGBM] [Info] Size of histogram bin entry: 8\n",
      "[LightGBM] [Info] 13 dense feature groups (0.36 MB) transferred to GPU in 0.001152 secs. 1 sparse feature groups\n",
      "[LightGBM] [Info] [binary:BoostFromScore]: pavg=0.335128 -> initscore=-0.685081\n",
      "[LightGBM] [Info] Start training from score -0.685081\n"
     ]
    },
    {
     "name": "stderr",
     "output_type": "stream",
     "text": [
      "/usr/local/lib/python3.11/dist-packages/lightgbm/basic.py:2118: UserWarning: categorical_feature keyword has been found in `params` and will be ignored.\n",
      "Please use categorical_feature argument of the Dataset constructor to pass this parameter.\n",
      "  _log_warning(\n",
      "/usr/local/lib/python3.11/dist-packages/lightgbm/basic.py:2140: UserWarning: categorical_feature in param dict is overridden.\n",
      "  _log_warning(f\"{cat_alias} in param dict is overridden.\")\n"
     ]
    },
    {
     "name": "stdout",
     "output_type": "stream",
     "text": [
      "[CV] END learning_rate=0.02, n_estimators=500, num_leaves=15; total time=   1.3s\n",
      "[LightGBM] [Warning] categorical_feature is set=lang, categorical_column=5 will be ignored. Current value: categorical_feature=lang\n",
      "[LightGBM] [Info] Number of positive: 7904, number of negative: 15681\n",
      "[LightGBM] [Info] This is the GPU trainer!!\n",
      "[LightGBM] [Info] Total Bins 2519\n",
      "[LightGBM] [Info] Number of data points in the train set: 23585, number of used features: 15\n",
      "[LightGBM] [Info] Using GPU Device: Tesla T4, Vendor: NVIDIA Corporation\n",
      "[LightGBM] [Info] Compiling OpenCL Kernel with 256 bins...\n",
      "[LightGBM] [Info] GPU programs have been built\n",
      "[LightGBM] [Info] Size of histogram bin entry: 8\n",
      "[LightGBM] [Info] 13 dense feature groups (0.36 MB) transferred to GPU in 0.001128 secs. 1 sparse feature groups\n",
      "[LightGBM] [Info] [binary:BoostFromScore]: pavg=0.335128 -> initscore=-0.685081\n",
      "[LightGBM] [Info] Start training from score -0.685081\n"
     ]
    },
    {
     "name": "stderr",
     "output_type": "stream",
     "text": [
      "/usr/local/lib/python3.11/dist-packages/lightgbm/basic.py:2118: UserWarning: categorical_feature keyword has been found in `params` and will be ignored.\n",
      "Please use categorical_feature argument of the Dataset constructor to pass this parameter.\n",
      "  _log_warning(\n",
      "/usr/local/lib/python3.11/dist-packages/lightgbm/basic.py:2140: UserWarning: categorical_feature in param dict is overridden.\n",
      "  _log_warning(f\"{cat_alias} in param dict is overridden.\")\n"
     ]
    },
    {
     "name": "stdout",
     "output_type": "stream",
     "text": [
      "[CV] END learning_rate=0.02, n_estimators=500, num_leaves=15; total time=   1.3s\n",
      "[LightGBM] [Warning] categorical_feature is set=lang, categorical_column=5 will be ignored. Current value: categorical_feature=lang\n",
      "[LightGBM] [Info] Number of positive: 7904, number of negative: 15681\n",
      "[LightGBM] [Info] This is the GPU trainer!!\n",
      "[LightGBM] [Info] Total Bins 2517\n",
      "[LightGBM] [Info] Number of data points in the train set: 23585, number of used features: 15\n",
      "[LightGBM] [Info] Using GPU Device: Tesla T4, Vendor: NVIDIA Corporation\n",
      "[LightGBM] [Info] Compiling OpenCL Kernel with 256 bins...\n",
      "[LightGBM] [Info] GPU programs have been built\n",
      "[LightGBM] [Info] Size of histogram bin entry: 8\n",
      "[LightGBM] [Info] 13 dense feature groups (0.36 MB) transferred to GPU in 0.002817 secs. 1 sparse feature groups\n",
      "[LightGBM] [Info] [binary:BoostFromScore]: pavg=0.335128 -> initscore=-0.685081\n",
      "[LightGBM] [Info] Start training from score -0.685081\n"
     ]
    },
    {
     "name": "stderr",
     "output_type": "stream",
     "text": [
      "/usr/local/lib/python3.11/dist-packages/lightgbm/basic.py:2118: UserWarning: categorical_feature keyword has been found in `params` and will be ignored.\n",
      "Please use categorical_feature argument of the Dataset constructor to pass this parameter.\n",
      "  _log_warning(\n",
      "/usr/local/lib/python3.11/dist-packages/lightgbm/basic.py:2140: UserWarning: categorical_feature in param dict is overridden.\n",
      "  _log_warning(f\"{cat_alias} in param dict is overridden.\")\n"
     ]
    },
    {
     "name": "stdout",
     "output_type": "stream",
     "text": [
      "[CV] END learning_rate=0.02, n_estimators=500, num_leaves=15; total time=   1.3s\n",
      "[LightGBM] [Warning] categorical_feature is set=lang, categorical_column=5 will be ignored. Current value: categorical_feature=lang\n",
      "[LightGBM] [Info] Number of positive: 7905, number of negative: 15680\n",
      "[LightGBM] [Info] This is the GPU trainer!!\n",
      "[LightGBM] [Info] Total Bins 2512\n",
      "[LightGBM] [Info] Number of data points in the train set: 23585, number of used features: 15\n",
      "[LightGBM] [Info] Using GPU Device: Tesla T4, Vendor: NVIDIA Corporation\n",
      "[LightGBM] [Info] Compiling OpenCL Kernel with 256 bins...\n",
      "[LightGBM] [Info] GPU programs have been built\n",
      "[LightGBM] [Info] Size of histogram bin entry: 8\n",
      "[LightGBM] [Info] 13 dense feature groups (0.36 MB) transferred to GPU in 0.001233 secs. 1 sparse feature groups\n",
      "[LightGBM] [Info] [binary:BoostFromScore]: pavg=0.335171 -> initscore=-0.684891\n",
      "[LightGBM] [Info] Start training from score -0.684891\n"
     ]
    },
    {
     "name": "stderr",
     "output_type": "stream",
     "text": [
      "/usr/local/lib/python3.11/dist-packages/lightgbm/basic.py:2118: UserWarning: categorical_feature keyword has been found in `params` and will be ignored.\n",
      "Please use categorical_feature argument of the Dataset constructor to pass this parameter.\n",
      "  _log_warning(\n",
      "/usr/local/lib/python3.11/dist-packages/lightgbm/basic.py:2140: UserWarning: categorical_feature in param dict is overridden.\n",
      "  _log_warning(f\"{cat_alias} in param dict is overridden.\")\n"
     ]
    },
    {
     "name": "stdout",
     "output_type": "stream",
     "text": [
      "[CV] END learning_rate=0.02, n_estimators=500, num_leaves=15; total time=   1.3s\n",
      "[LightGBM] [Warning] categorical_feature is set=lang, categorical_column=5 will be ignored. Current value: categorical_feature=lang\n",
      "[LightGBM] [Info] Number of positive: 7905, number of negative: 15680\n",
      "[LightGBM] [Info] This is the GPU trainer!!\n",
      "[LightGBM] [Info] Total Bins 2523\n",
      "[LightGBM] [Info] Number of data points in the train set: 23585, number of used features: 15\n",
      "[LightGBM] [Info] Using GPU Device: Tesla T4, Vendor: NVIDIA Corporation\n",
      "[LightGBM] [Info] Compiling OpenCL Kernel with 256 bins...\n",
      "[LightGBM] [Info] GPU programs have been built\n",
      "[LightGBM] [Info] Size of histogram bin entry: 8\n",
      "[LightGBM] [Info] 13 dense feature groups (0.36 MB) transferred to GPU in 0.001277 secs. 1 sparse feature groups\n",
      "[LightGBM] [Info] [binary:BoostFromScore]: pavg=0.335171 -> initscore=-0.684891\n",
      "[LightGBM] [Info] Start training from score -0.684891\n"
     ]
    },
    {
     "name": "stderr",
     "output_type": "stream",
     "text": [
      "/usr/local/lib/python3.11/dist-packages/lightgbm/basic.py:2118: UserWarning: categorical_feature keyword has been found in `params` and will be ignored.\n",
      "Please use categorical_feature argument of the Dataset constructor to pass this parameter.\n",
      "  _log_warning(\n",
      "/usr/local/lib/python3.11/dist-packages/lightgbm/basic.py:2140: UserWarning: categorical_feature in param dict is overridden.\n",
      "  _log_warning(f\"{cat_alias} in param dict is overridden.\")\n"
     ]
    },
    {
     "name": "stdout",
     "output_type": "stream",
     "text": [
      "[CV] END learning_rate=0.02, n_estimators=500, num_leaves=15; total time=   1.3s\n",
      "[LightGBM] [Warning] categorical_feature is set=lang, categorical_column=5 will be ignored. Current value: categorical_feature=lang\n",
      "[LightGBM] [Info] Number of positive: 7905, number of negative: 15680\n",
      "[LightGBM] [Info] This is the GPU trainer!!\n",
      "[LightGBM] [Info] Total Bins 2517\n",
      "[LightGBM] [Info] Number of data points in the train set: 23585, number of used features: 15\n",
      "[LightGBM] [Info] Using GPU Device: Tesla T4, Vendor: NVIDIA Corporation\n",
      "[LightGBM] [Info] Compiling OpenCL Kernel with 256 bins...\n",
      "[LightGBM] [Info] GPU programs have been built\n",
      "[LightGBM] [Info] Size of histogram bin entry: 8\n",
      "[LightGBM] [Info] 13 dense feature groups (0.36 MB) transferred to GPU in 0.001144 secs. 1 sparse feature groups\n",
      "[LightGBM] [Info] [binary:BoostFromScore]: pavg=0.335171 -> initscore=-0.684891\n",
      "[LightGBM] [Info] Start training from score -0.684891\n"
     ]
    },
    {
     "name": "stderr",
     "output_type": "stream",
     "text": [
      "/usr/local/lib/python3.11/dist-packages/lightgbm/basic.py:2118: UserWarning: categorical_feature keyword has been found in `params` and will be ignored.\n",
      "Please use categorical_feature argument of the Dataset constructor to pass this parameter.\n",
      "  _log_warning(\n",
      "/usr/local/lib/python3.11/dist-packages/lightgbm/basic.py:2140: UserWarning: categorical_feature in param dict is overridden.\n",
      "  _log_warning(f\"{cat_alias} in param dict is overridden.\")\n"
     ]
    },
    {
     "name": "stdout",
     "output_type": "stream",
     "text": [
      "[CV] END learning_rate=0.02, n_estimators=500, num_leaves=15; total time=   1.3s\n",
      "[LightGBM] [Warning] categorical_feature is set=lang, categorical_column=5 will be ignored. Current value: categorical_feature=lang\n",
      "[LightGBM] [Info] Number of positive: 7905, number of negative: 15681\n",
      "[LightGBM] [Info] This is the GPU trainer!!\n",
      "[LightGBM] [Info] Total Bins 2514\n",
      "[LightGBM] [Info] Number of data points in the train set: 23586, number of used features: 15\n",
      "[LightGBM] [Info] Using GPU Device: Tesla T4, Vendor: NVIDIA Corporation\n",
      "[LightGBM] [Info] Compiling OpenCL Kernel with 256 bins...\n",
      "[LightGBM] [Info] GPU programs have been built\n",
      "[LightGBM] [Info] Size of histogram bin entry: 8\n",
      "[LightGBM] [Info] 13 dense feature groups (0.36 MB) transferred to GPU in 0.002091 secs. 1 sparse feature groups\n",
      "[LightGBM] [Info] [binary:BoostFromScore]: pavg=0.335156 -> initscore=-0.684954\n",
      "[LightGBM] [Info] Start training from score -0.684954\n"
     ]
    },
    {
     "name": "stderr",
     "output_type": "stream",
     "text": [
      "/usr/local/lib/python3.11/dist-packages/lightgbm/basic.py:2118: UserWarning: categorical_feature keyword has been found in `params` and will be ignored.\n",
      "Please use categorical_feature argument of the Dataset constructor to pass this parameter.\n",
      "  _log_warning(\n",
      "/usr/local/lib/python3.11/dist-packages/lightgbm/basic.py:2140: UserWarning: categorical_feature in param dict is overridden.\n",
      "  _log_warning(f\"{cat_alias} in param dict is overridden.\")\n"
     ]
    },
    {
     "name": "stdout",
     "output_type": "stream",
     "text": [
      "[CV] END learning_rate=0.02, n_estimators=500, num_leaves=15; total time=   3.3s\n",
      "[LightGBM] [Warning] categorical_feature is set=lang, categorical_column=5 will be ignored. Current value: categorical_feature=lang\n",
      "[LightGBM] [Info] Number of positive: 7905, number of negative: 15681\n",
      "[LightGBM] [Info] This is the GPU trainer!!\n",
      "[LightGBM] [Info] Total Bins 2518\n",
      "[LightGBM] [Info] Number of data points in the train set: 23586, number of used features: 15\n",
      "[LightGBM] [Info] Using GPU Device: Tesla T4, Vendor: NVIDIA Corporation\n",
      "[LightGBM] [Info] Compiling OpenCL Kernel with 256 bins...\n",
      "[LightGBM] [Info] GPU programs have been built\n",
      "[LightGBM] [Info] Size of histogram bin entry: 8\n",
      "[LightGBM] [Info] 13 dense feature groups (0.36 MB) transferred to GPU in 0.007740 secs. 1 sparse feature groups\n",
      "[LightGBM] [Info] [binary:BoostFromScore]: pavg=0.335156 -> initscore=-0.684954\n",
      "[LightGBM] [Info] Start training from score -0.684954\n"
     ]
    },
    {
     "name": "stderr",
     "output_type": "stream",
     "text": [
      "/usr/local/lib/python3.11/dist-packages/lightgbm/basic.py:2118: UserWarning: categorical_feature keyword has been found in `params` and will be ignored.\n",
      "Please use categorical_feature argument of the Dataset constructor to pass this parameter.\n",
      "  _log_warning(\n",
      "/usr/local/lib/python3.11/dist-packages/lightgbm/basic.py:2140: UserWarning: categorical_feature in param dict is overridden.\n",
      "  _log_warning(f\"{cat_alias} in param dict is overridden.\")\n"
     ]
    },
    {
     "name": "stdout",
     "output_type": "stream",
     "text": [
      "[CV] END learning_rate=0.02, n_estimators=500, num_leaves=15; total time=   1.3s\n",
      "[LightGBM] [Warning] categorical_feature is set=lang, categorical_column=5 will be ignored. Current value: categorical_feature=lang\n",
      "[LightGBM] [Info] Number of positive: 7905, number of negative: 15681\n",
      "[LightGBM] [Info] This is the GPU trainer!!\n",
      "[LightGBM] [Info] Total Bins 2518\n",
      "[LightGBM] [Info] Number of data points in the train set: 23586, number of used features: 15\n",
      "[LightGBM] [Info] Using GPU Device: Tesla T4, Vendor: NVIDIA Corporation\n",
      "[LightGBM] [Info] Compiling OpenCL Kernel with 256 bins...\n",
      "[LightGBM] [Info] GPU programs have been built\n",
      "[LightGBM] [Info] Size of histogram bin entry: 8\n",
      "[LightGBM] [Info] 13 dense feature groups (0.36 MB) transferred to GPU in 0.001267 secs. 1 sparse feature groups\n",
      "[LightGBM] [Info] [binary:BoostFromScore]: pavg=0.335156 -> initscore=-0.684954\n",
      "[LightGBM] [Info] Start training from score -0.684954\n"
     ]
    },
    {
     "name": "stderr",
     "output_type": "stream",
     "text": [
      "/usr/local/lib/python3.11/dist-packages/lightgbm/basic.py:2118: UserWarning: categorical_feature keyword has been found in `params` and will be ignored.\n",
      "Please use categorical_feature argument of the Dataset constructor to pass this parameter.\n",
      "  _log_warning(\n",
      "/usr/local/lib/python3.11/dist-packages/lightgbm/basic.py:2140: UserWarning: categorical_feature in param dict is overridden.\n",
      "  _log_warning(f\"{cat_alias} in param dict is overridden.\")\n"
     ]
    },
    {
     "name": "stdout",
     "output_type": "stream",
     "text": [
      "[CV] END learning_rate=0.02, n_estimators=500, num_leaves=15; total time=   1.3s\n",
      "[LightGBM] [Warning] categorical_feature is set=lang, categorical_column=5 will be ignored. Current value: categorical_feature=lang\n",
      "[LightGBM] [Info] Number of positive: 7905, number of negative: 15681\n",
      "[LightGBM] [Info] This is the GPU trainer!!\n",
      "[LightGBM] [Info] Total Bins 2514\n",
      "[LightGBM] [Info] Number of data points in the train set: 23586, number of used features: 15\n",
      "[LightGBM] [Info] Using GPU Device: Tesla T4, Vendor: NVIDIA Corporation\n",
      "[LightGBM] [Info] Compiling OpenCL Kernel with 256 bins...\n",
      "[LightGBM] [Info] GPU programs have been built\n",
      "[LightGBM] [Info] Size of histogram bin entry: 8\n",
      "[LightGBM] [Info] 13 dense feature groups (0.36 MB) transferred to GPU in 0.001186 secs. 1 sparse feature groups\n",
      "[LightGBM] [Info] [binary:BoostFromScore]: pavg=0.335156 -> initscore=-0.684954\n",
      "[LightGBM] [Info] Start training from score -0.684954\n"
     ]
    },
    {
     "name": "stderr",
     "output_type": "stream",
     "text": [
      "/usr/local/lib/python3.11/dist-packages/lightgbm/basic.py:2118: UserWarning: categorical_feature keyword has been found in `params` and will be ignored.\n",
      "Please use categorical_feature argument of the Dataset constructor to pass this parameter.\n",
      "  _log_warning(\n",
      "/usr/local/lib/python3.11/dist-packages/lightgbm/basic.py:2140: UserWarning: categorical_feature in param dict is overridden.\n",
      "  _log_warning(f\"{cat_alias} in param dict is overridden.\")\n"
     ]
    },
    {
     "name": "stdout",
     "output_type": "stream",
     "text": [
      "[CV] END learning_rate=0.02, n_estimators=500, num_leaves=15; total time=   1.2s\n",
      "[LightGBM] [Warning] categorical_feature is set=lang, categorical_column=5 will be ignored. Current value: categorical_feature=lang\n",
      "[LightGBM] [Info] Number of positive: 7904, number of negative: 15681\n",
      "[LightGBM] [Info] This is the GPU trainer!!\n",
      "[LightGBM] [Info] Total Bins 2510\n",
      "[LightGBM] [Info] Number of data points in the train set: 23585, number of used features: 15\n",
      "[LightGBM] [Info] Using GPU Device: Tesla T4, Vendor: NVIDIA Corporation\n",
      "[LightGBM] [Info] Compiling OpenCL Kernel with 256 bins...\n",
      "[LightGBM] [Info] GPU programs have been built\n",
      "[LightGBM] [Info] Size of histogram bin entry: 8\n",
      "[LightGBM] [Info] 13 dense feature groups (0.36 MB) transferred to GPU in 0.001306 secs. 1 sparse feature groups\n",
      "[LightGBM] [Info] [binary:BoostFromScore]: pavg=0.335128 -> initscore=-0.685081\n",
      "[LightGBM] [Info] Start training from score -0.685081\n"
     ]
    },
    {
     "name": "stderr",
     "output_type": "stream",
     "text": [
      "/usr/local/lib/python3.11/dist-packages/lightgbm/basic.py:2118: UserWarning: categorical_feature keyword has been found in `params` and will be ignored.\n",
      "Please use categorical_feature argument of the Dataset constructor to pass this parameter.\n",
      "  _log_warning(\n",
      "/usr/local/lib/python3.11/dist-packages/lightgbm/basic.py:2140: UserWarning: categorical_feature in param dict is overridden.\n",
      "  _log_warning(f\"{cat_alias} in param dict is overridden.\")\n"
     ]
    },
    {
     "name": "stdout",
     "output_type": "stream",
     "text": [
      "[CV] END learning_rate=0.02, n_estimators=500, num_leaves=30; total time=   2.0s\n",
      "[LightGBM] [Warning] categorical_feature is set=lang, categorical_column=5 will be ignored. Current value: categorical_feature=lang\n",
      "[LightGBM] [Info] Number of positive: 7904, number of negative: 15681\n",
      "[LightGBM] [Info] This is the GPU trainer!!\n",
      "[LightGBM] [Info] Total Bins 2519\n",
      "[LightGBM] [Info] Number of data points in the train set: 23585, number of used features: 15\n",
      "[LightGBM] [Info] Using GPU Device: Tesla T4, Vendor: NVIDIA Corporation\n",
      "[LightGBM] [Info] Compiling OpenCL Kernel with 256 bins...\n",
      "[LightGBM] [Info] GPU programs have been built\n",
      "[LightGBM] [Info] Size of histogram bin entry: 8\n",
      "[LightGBM] [Info] 13 dense feature groups (0.36 MB) transferred to GPU in 0.001215 secs. 1 sparse feature groups\n",
      "[LightGBM] [Info] [binary:BoostFromScore]: pavg=0.335128 -> initscore=-0.685081\n",
      "[LightGBM] [Info] Start training from score -0.685081\n"
     ]
    },
    {
     "name": "stderr",
     "output_type": "stream",
     "text": [
      "/usr/local/lib/python3.11/dist-packages/lightgbm/basic.py:2118: UserWarning: categorical_feature keyword has been found in `params` and will be ignored.\n",
      "Please use categorical_feature argument of the Dataset constructor to pass this parameter.\n",
      "  _log_warning(\n",
      "/usr/local/lib/python3.11/dist-packages/lightgbm/basic.py:2140: UserWarning: categorical_feature in param dict is overridden.\n",
      "  _log_warning(f\"{cat_alias} in param dict is overridden.\")\n"
     ]
    },
    {
     "name": "stdout",
     "output_type": "stream",
     "text": [
      "[CV] END learning_rate=0.02, n_estimators=500, num_leaves=30; total time=   2.0s\n",
      "[LightGBM] [Warning] categorical_feature is set=lang, categorical_column=5 will be ignored. Current value: categorical_feature=lang\n",
      "[LightGBM] [Info] Number of positive: 7904, number of negative: 15681\n",
      "[LightGBM] [Info] This is the GPU trainer!!\n",
      "[LightGBM] [Info] Total Bins 2517\n",
      "[LightGBM] [Info] Number of data points in the train set: 23585, number of used features: 15\n",
      "[LightGBM] [Info] Using GPU Device: Tesla T4, Vendor: NVIDIA Corporation\n",
      "[LightGBM] [Info] Compiling OpenCL Kernel with 256 bins...\n",
      "[LightGBM] [Info] GPU programs have been built\n",
      "[LightGBM] [Info] Size of histogram bin entry: 8\n",
      "[LightGBM] [Info] 13 dense feature groups (0.36 MB) transferred to GPU in 0.001250 secs. 1 sparse feature groups\n",
      "[LightGBM] [Info] [binary:BoostFromScore]: pavg=0.335128 -> initscore=-0.685081\n",
      "[LightGBM] [Info] Start training from score -0.685081\n"
     ]
    },
    {
     "name": "stderr",
     "output_type": "stream",
     "text": [
      "/usr/local/lib/python3.11/dist-packages/lightgbm/basic.py:2118: UserWarning: categorical_feature keyword has been found in `params` and will be ignored.\n",
      "Please use categorical_feature argument of the Dataset constructor to pass this parameter.\n",
      "  _log_warning(\n",
      "/usr/local/lib/python3.11/dist-packages/lightgbm/basic.py:2140: UserWarning: categorical_feature in param dict is overridden.\n",
      "  _log_warning(f\"{cat_alias} in param dict is overridden.\")\n"
     ]
    },
    {
     "name": "stdout",
     "output_type": "stream",
     "text": [
      "[CV] END learning_rate=0.02, n_estimators=500, num_leaves=30; total time=   2.1s\n",
      "[LightGBM] [Warning] categorical_feature is set=lang, categorical_column=5 will be ignored. Current value: categorical_feature=lang\n",
      "[LightGBM] [Info] Number of positive: 7905, number of negative: 15680\n",
      "[LightGBM] [Info] This is the GPU trainer!!\n",
      "[LightGBM] [Info] Total Bins 2512\n",
      "[LightGBM] [Info] Number of data points in the train set: 23585, number of used features: 15\n",
      "[LightGBM] [Info] Using GPU Device: Tesla T4, Vendor: NVIDIA Corporation\n",
      "[LightGBM] [Info] Compiling OpenCL Kernel with 256 bins...\n",
      "[LightGBM] [Info] GPU programs have been built\n",
      "[LightGBM] [Info] Size of histogram bin entry: 8\n",
      "[LightGBM] [Info] 13 dense feature groups (0.36 MB) transferred to GPU in 0.001204 secs. 1 sparse feature groups\n",
      "[LightGBM] [Info] [binary:BoostFromScore]: pavg=0.335171 -> initscore=-0.684891\n",
      "[LightGBM] [Info] Start training from score -0.684891\n"
     ]
    },
    {
     "name": "stderr",
     "output_type": "stream",
     "text": [
      "/usr/local/lib/python3.11/dist-packages/lightgbm/basic.py:2118: UserWarning: categorical_feature keyword has been found in `params` and will be ignored.\n",
      "Please use categorical_feature argument of the Dataset constructor to pass this parameter.\n",
      "  _log_warning(\n",
      "/usr/local/lib/python3.11/dist-packages/lightgbm/basic.py:2140: UserWarning: categorical_feature in param dict is overridden.\n",
      "  _log_warning(f\"{cat_alias} in param dict is overridden.\")\n"
     ]
    },
    {
     "name": "stdout",
     "output_type": "stream",
     "text": [
      "[CV] END learning_rate=0.02, n_estimators=500, num_leaves=30; total time=   4.3s\n",
      "[LightGBM] [Warning] categorical_feature is set=lang, categorical_column=5 will be ignored. Current value: categorical_feature=lang\n",
      "[LightGBM] [Info] Number of positive: 7905, number of negative: 15680\n",
      "[LightGBM] [Info] This is the GPU trainer!!\n",
      "[LightGBM] [Info] Total Bins 2523\n",
      "[LightGBM] [Info] Number of data points in the train set: 23585, number of used features: 15\n",
      "[LightGBM] [Info] Using GPU Device: Tesla T4, Vendor: NVIDIA Corporation\n",
      "[LightGBM] [Info] Compiling OpenCL Kernel with 256 bins...\n",
      "[LightGBM] [Info] GPU programs have been built\n",
      "[LightGBM] [Info] Size of histogram bin entry: 8\n",
      "[LightGBM] [Info] 13 dense feature groups (0.36 MB) transferred to GPU in 0.001243 secs. 1 sparse feature groups\n",
      "[LightGBM] [Info] [binary:BoostFromScore]: pavg=0.335171 -> initscore=-0.684891\n",
      "[LightGBM] [Info] Start training from score -0.684891\n"
     ]
    },
    {
     "name": "stderr",
     "output_type": "stream",
     "text": [
      "/usr/local/lib/python3.11/dist-packages/lightgbm/basic.py:2118: UserWarning: categorical_feature keyword has been found in `params` and will be ignored.\n",
      "Please use categorical_feature argument of the Dataset constructor to pass this parameter.\n",
      "  _log_warning(\n",
      "/usr/local/lib/python3.11/dist-packages/lightgbm/basic.py:2140: UserWarning: categorical_feature in param dict is overridden.\n",
      "  _log_warning(f\"{cat_alias} in param dict is overridden.\")\n"
     ]
    },
    {
     "name": "stdout",
     "output_type": "stream",
     "text": [
      "[CV] END learning_rate=0.02, n_estimators=500, num_leaves=30; total time=   2.0s\n",
      "[LightGBM] [Warning] categorical_feature is set=lang, categorical_column=5 will be ignored. Current value: categorical_feature=lang\n",
      "[LightGBM] [Info] Number of positive: 7905, number of negative: 15680\n",
      "[LightGBM] [Info] This is the GPU trainer!!\n",
      "[LightGBM] [Info] Total Bins 2517\n",
      "[LightGBM] [Info] Number of data points in the train set: 23585, number of used features: 15\n",
      "[LightGBM] [Info] Using GPU Device: Tesla T4, Vendor: NVIDIA Corporation\n",
      "[LightGBM] [Info] Compiling OpenCL Kernel with 256 bins...\n",
      "[LightGBM] [Info] GPU programs have been built\n",
      "[LightGBM] [Info] Size of histogram bin entry: 8\n",
      "[LightGBM] [Info] 13 dense feature groups (0.36 MB) transferred to GPU in 0.003435 secs. 1 sparse feature groups\n",
      "[LightGBM] [Info] [binary:BoostFromScore]: pavg=0.335171 -> initscore=-0.684891\n",
      "[LightGBM] [Info] Start training from score -0.684891\n"
     ]
    },
    {
     "name": "stderr",
     "output_type": "stream",
     "text": [
      "/usr/local/lib/python3.11/dist-packages/lightgbm/basic.py:2118: UserWarning: categorical_feature keyword has been found in `params` and will be ignored.\n",
      "Please use categorical_feature argument of the Dataset constructor to pass this parameter.\n",
      "  _log_warning(\n",
      "/usr/local/lib/python3.11/dist-packages/lightgbm/basic.py:2140: UserWarning: categorical_feature in param dict is overridden.\n",
      "  _log_warning(f\"{cat_alias} in param dict is overridden.\")\n"
     ]
    },
    {
     "name": "stdout",
     "output_type": "stream",
     "text": [
      "[CV] END learning_rate=0.02, n_estimators=500, num_leaves=30; total time=   2.0s\n",
      "[LightGBM] [Warning] categorical_feature is set=lang, categorical_column=5 will be ignored. Current value: categorical_feature=lang\n",
      "[LightGBM] [Info] Number of positive: 7905, number of negative: 15681\n",
      "[LightGBM] [Info] This is the GPU trainer!!\n",
      "[LightGBM] [Info] Total Bins 2514\n",
      "[LightGBM] [Info] Number of data points in the train set: 23586, number of used features: 15\n",
      "[LightGBM] [Info] Using GPU Device: Tesla T4, Vendor: NVIDIA Corporation\n",
      "[LightGBM] [Info] Compiling OpenCL Kernel with 256 bins...\n",
      "[LightGBM] [Info] GPU programs have been built\n",
      "[LightGBM] [Info] Size of histogram bin entry: 8\n",
      "[LightGBM] [Info] 13 dense feature groups (0.36 MB) transferred to GPU in 0.001170 secs. 1 sparse feature groups\n",
      "[LightGBM] [Info] [binary:BoostFromScore]: pavg=0.335156 -> initscore=-0.684954\n",
      "[LightGBM] [Info] Start training from score -0.684954\n"
     ]
    },
    {
     "name": "stderr",
     "output_type": "stream",
     "text": [
      "/usr/local/lib/python3.11/dist-packages/lightgbm/basic.py:2118: UserWarning: categorical_feature keyword has been found in `params` and will be ignored.\n",
      "Please use categorical_feature argument of the Dataset constructor to pass this parameter.\n",
      "  _log_warning(\n",
      "/usr/local/lib/python3.11/dist-packages/lightgbm/basic.py:2140: UserWarning: categorical_feature in param dict is overridden.\n",
      "  _log_warning(f\"{cat_alias} in param dict is overridden.\")\n"
     ]
    },
    {
     "name": "stdout",
     "output_type": "stream",
     "text": [
      "[CV] END learning_rate=0.02, n_estimators=500, num_leaves=30; total time=   2.1s\n",
      "[LightGBM] [Warning] categorical_feature is set=lang, categorical_column=5 will be ignored. Current value: categorical_feature=lang\n",
      "[LightGBM] [Info] Number of positive: 7905, number of negative: 15681\n",
      "[LightGBM] [Info] This is the GPU trainer!!\n",
      "[LightGBM] [Info] Total Bins 2518\n",
      "[LightGBM] [Info] Number of data points in the train set: 23586, number of used features: 15\n",
      "[LightGBM] [Info] Using GPU Device: Tesla T4, Vendor: NVIDIA Corporation\n",
      "[LightGBM] [Info] Compiling OpenCL Kernel with 256 bins...\n",
      "[LightGBM] [Info] GPU programs have been built\n",
      "[LightGBM] [Info] Size of histogram bin entry: 8\n",
      "[LightGBM] [Info] 13 dense feature groups (0.36 MB) transferred to GPU in 0.001189 secs. 1 sparse feature groups\n",
      "[LightGBM] [Info] [binary:BoostFromScore]: pavg=0.335156 -> initscore=-0.684954\n",
      "[LightGBM] [Info] Start training from score -0.684954\n"
     ]
    },
    {
     "name": "stderr",
     "output_type": "stream",
     "text": [
      "/usr/local/lib/python3.11/dist-packages/lightgbm/basic.py:2118: UserWarning: categorical_feature keyword has been found in `params` and will be ignored.\n",
      "Please use categorical_feature argument of the Dataset constructor to pass this parameter.\n",
      "  _log_warning(\n",
      "/usr/local/lib/python3.11/dist-packages/lightgbm/basic.py:2140: UserWarning: categorical_feature in param dict is overridden.\n",
      "  _log_warning(f\"{cat_alias} in param dict is overridden.\")\n"
     ]
    },
    {
     "name": "stdout",
     "output_type": "stream",
     "text": [
      "[CV] END learning_rate=0.02, n_estimators=500, num_leaves=30; total time=   2.0s\n",
      "[LightGBM] [Warning] categorical_feature is set=lang, categorical_column=5 will be ignored. Current value: categorical_feature=lang\n",
      "[LightGBM] [Info] Number of positive: 7905, number of negative: 15681\n",
      "[LightGBM] [Info] This is the GPU trainer!!\n",
      "[LightGBM] [Info] Total Bins 2518\n",
      "[LightGBM] [Info] Number of data points in the train set: 23586, number of used features: 15\n",
      "[LightGBM] [Info] Using GPU Device: Tesla T4, Vendor: NVIDIA Corporation\n",
      "[LightGBM] [Info] Compiling OpenCL Kernel with 256 bins...\n",
      "[LightGBM] [Info] GPU programs have been built\n",
      "[LightGBM] [Info] Size of histogram bin entry: 8\n",
      "[LightGBM] [Info] 13 dense feature groups (0.36 MB) transferred to GPU in 0.001182 secs. 1 sparse feature groups\n",
      "[LightGBM] [Info] [binary:BoostFromScore]: pavg=0.335156 -> initscore=-0.684954\n",
      "[LightGBM] [Info] Start training from score -0.684954\n"
     ]
    },
    {
     "name": "stderr",
     "output_type": "stream",
     "text": [
      "/usr/local/lib/python3.11/dist-packages/lightgbm/basic.py:2118: UserWarning: categorical_feature keyword has been found in `params` and will be ignored.\n",
      "Please use categorical_feature argument of the Dataset constructor to pass this parameter.\n",
      "  _log_warning(\n",
      "/usr/local/lib/python3.11/dist-packages/lightgbm/basic.py:2140: UserWarning: categorical_feature in param dict is overridden.\n",
      "  _log_warning(f\"{cat_alias} in param dict is overridden.\")\n"
     ]
    },
    {
     "name": "stdout",
     "output_type": "stream",
     "text": [
      "[CV] END learning_rate=0.02, n_estimators=500, num_leaves=30; total time=   2.1s\n",
      "[LightGBM] [Warning] categorical_feature is set=lang, categorical_column=5 will be ignored. Current value: categorical_feature=lang\n",
      "[LightGBM] [Info] Number of positive: 7905, number of negative: 15681\n",
      "[LightGBM] [Info] This is the GPU trainer!!\n",
      "[LightGBM] [Info] Total Bins 2514\n",
      "[LightGBM] [Info] Number of data points in the train set: 23586, number of used features: 15\n",
      "[LightGBM] [Info] Using GPU Device: Tesla T4, Vendor: NVIDIA Corporation\n",
      "[LightGBM] [Info] Compiling OpenCL Kernel with 256 bins...\n",
      "[LightGBM] [Info] GPU programs have been built\n",
      "[LightGBM] [Info] Size of histogram bin entry: 8\n",
      "[LightGBM] [Info] 13 dense feature groups (0.36 MB) transferred to GPU in 0.001156 secs. 1 sparse feature groups\n",
      "[LightGBM] [Info] [binary:BoostFromScore]: pavg=0.335156 -> initscore=-0.684954\n",
      "[LightGBM] [Info] Start training from score -0.684954\n"
     ]
    },
    {
     "name": "stderr",
     "output_type": "stream",
     "text": [
      "/usr/local/lib/python3.11/dist-packages/lightgbm/basic.py:2118: UserWarning: categorical_feature keyword has been found in `params` and will be ignored.\n",
      "Please use categorical_feature argument of the Dataset constructor to pass this parameter.\n",
      "  _log_warning(\n",
      "/usr/local/lib/python3.11/dist-packages/lightgbm/basic.py:2140: UserWarning: categorical_feature in param dict is overridden.\n",
      "  _log_warning(f\"{cat_alias} in param dict is overridden.\")\n"
     ]
    },
    {
     "name": "stdout",
     "output_type": "stream",
     "text": [
      "[CV] END learning_rate=0.02, n_estimators=500, num_leaves=30; total time=   4.3s\n",
      "[LightGBM] [Warning] categorical_feature is set=lang, categorical_column=5 will be ignored. Current value: categorical_feature=lang\n",
      "[LightGBM] [Info] Number of positive: 7904, number of negative: 15681\n",
      "[LightGBM] [Info] This is the GPU trainer!!\n",
      "[LightGBM] [Info] Total Bins 2510\n",
      "[LightGBM] [Info] Number of data points in the train set: 23585, number of used features: 15\n",
      "[LightGBM] [Info] Using GPU Device: Tesla T4, Vendor: NVIDIA Corporation\n",
      "[LightGBM] [Info] Compiling OpenCL Kernel with 256 bins...\n",
      "[LightGBM] [Info] GPU programs have been built\n",
      "[LightGBM] [Info] Size of histogram bin entry: 8\n",
      "[LightGBM] [Info] 13 dense feature groups (0.36 MB) transferred to GPU in 0.001211 secs. 1 sparse feature groups\n",
      "[LightGBM] [Info] [binary:BoostFromScore]: pavg=0.335128 -> initscore=-0.685081\n",
      "[LightGBM] [Info] Start training from score -0.685081\n"
     ]
    },
    {
     "name": "stderr",
     "output_type": "stream",
     "text": [
      "/usr/local/lib/python3.11/dist-packages/lightgbm/basic.py:2118: UserWarning: categorical_feature keyword has been found in `params` and will be ignored.\n",
      "Please use categorical_feature argument of the Dataset constructor to pass this parameter.\n",
      "  _log_warning(\n",
      "/usr/local/lib/python3.11/dist-packages/lightgbm/basic.py:2140: UserWarning: categorical_feature in param dict is overridden.\n",
      "  _log_warning(f\"{cat_alias} in param dict is overridden.\")\n"
     ]
    },
    {
     "name": "stdout",
     "output_type": "stream",
     "text": [
      "[CV] END learning_rate=0.02, n_estimators=500, num_leaves=45; total time=   2.8s\n",
      "[LightGBM] [Warning] categorical_feature is set=lang, categorical_column=5 will be ignored. Current value: categorical_feature=lang\n",
      "[LightGBM] [Info] Number of positive: 7904, number of negative: 15681\n",
      "[LightGBM] [Info] This is the GPU trainer!!\n",
      "[LightGBM] [Info] Total Bins 2519\n",
      "[LightGBM] [Info] Number of data points in the train set: 23585, number of used features: 15\n",
      "[LightGBM] [Info] Using GPU Device: Tesla T4, Vendor: NVIDIA Corporation\n",
      "[LightGBM] [Info] Compiling OpenCL Kernel with 256 bins...\n",
      "[LightGBM] [Info] GPU programs have been built\n",
      "[LightGBM] [Info] Size of histogram bin entry: 8\n",
      "[LightGBM] [Info] 13 dense feature groups (0.36 MB) transferred to GPU in 0.001176 secs. 1 sparse feature groups\n",
      "[LightGBM] [Info] [binary:BoostFromScore]: pavg=0.335128 -> initscore=-0.685081\n",
      "[LightGBM] [Info] Start training from score -0.685081\n"
     ]
    },
    {
     "name": "stderr",
     "output_type": "stream",
     "text": [
      "/usr/local/lib/python3.11/dist-packages/lightgbm/basic.py:2118: UserWarning: categorical_feature keyword has been found in `params` and will be ignored.\n",
      "Please use categorical_feature argument of the Dataset constructor to pass this parameter.\n",
      "  _log_warning(\n",
      "/usr/local/lib/python3.11/dist-packages/lightgbm/basic.py:2140: UserWarning: categorical_feature in param dict is overridden.\n",
      "  _log_warning(f\"{cat_alias} in param dict is overridden.\")\n"
     ]
    },
    {
     "name": "stdout",
     "output_type": "stream",
     "text": [
      "[CV] END learning_rate=0.02, n_estimators=500, num_leaves=45; total time=   2.8s\n",
      "[LightGBM] [Warning] categorical_feature is set=lang, categorical_column=5 will be ignored. Current value: categorical_feature=lang\n",
      "[LightGBM] [Info] Number of positive: 7904, number of negative: 15681\n",
      "[LightGBM] [Info] This is the GPU trainer!!\n",
      "[LightGBM] [Info] Total Bins 2517\n",
      "[LightGBM] [Info] Number of data points in the train set: 23585, number of used features: 15\n",
      "[LightGBM] [Info] Using GPU Device: Tesla T4, Vendor: NVIDIA Corporation\n",
      "[LightGBM] [Info] Compiling OpenCL Kernel with 256 bins...\n",
      "[LightGBM] [Info] GPU programs have been built\n",
      "[LightGBM] [Info] Size of histogram bin entry: 8\n",
      "[LightGBM] [Info] 13 dense feature groups (0.36 MB) transferred to GPU in 0.001159 secs. 1 sparse feature groups\n",
      "[LightGBM] [Info] [binary:BoostFromScore]: pavg=0.335128 -> initscore=-0.685081\n",
      "[LightGBM] [Info] Start training from score -0.685081\n"
     ]
    },
    {
     "name": "stderr",
     "output_type": "stream",
     "text": [
      "/usr/local/lib/python3.11/dist-packages/lightgbm/basic.py:2118: UserWarning: categorical_feature keyword has been found in `params` and will be ignored.\n",
      "Please use categorical_feature argument of the Dataset constructor to pass this parameter.\n",
      "  _log_warning(\n",
      "/usr/local/lib/python3.11/dist-packages/lightgbm/basic.py:2140: UserWarning: categorical_feature in param dict is overridden.\n",
      "  _log_warning(f\"{cat_alias} in param dict is overridden.\")\n"
     ]
    },
    {
     "name": "stdout",
     "output_type": "stream",
     "text": [
      "[CV] END learning_rate=0.02, n_estimators=500, num_leaves=45; total time=   2.7s\n",
      "[LightGBM] [Warning] categorical_feature is set=lang, categorical_column=5 will be ignored. Current value: categorical_feature=lang\n",
      "[LightGBM] [Info] Number of positive: 7905, number of negative: 15680\n",
      "[LightGBM] [Info] This is the GPU trainer!!\n",
      "[LightGBM] [Info] Total Bins 2512\n",
      "[LightGBM] [Info] Number of data points in the train set: 23585, number of used features: 15\n",
      "[LightGBM] [Info] Using GPU Device: Tesla T4, Vendor: NVIDIA Corporation\n",
      "[LightGBM] [Info] Compiling OpenCL Kernel with 256 bins...\n",
      "[LightGBM] [Info] GPU programs have been built\n",
      "[LightGBM] [Info] Size of histogram bin entry: 8\n",
      "[LightGBM] [Info] 13 dense feature groups (0.36 MB) transferred to GPU in 0.001205 secs. 1 sparse feature groups\n",
      "[LightGBM] [Info] [binary:BoostFromScore]: pavg=0.335171 -> initscore=-0.684891\n",
      "[LightGBM] [Info] Start training from score -0.684891\n"
     ]
    },
    {
     "name": "stderr",
     "output_type": "stream",
     "text": [
      "/usr/local/lib/python3.11/dist-packages/lightgbm/basic.py:2118: UserWarning: categorical_feature keyword has been found in `params` and will be ignored.\n",
      "Please use categorical_feature argument of the Dataset constructor to pass this parameter.\n",
      "  _log_warning(\n",
      "/usr/local/lib/python3.11/dist-packages/lightgbm/basic.py:2140: UserWarning: categorical_feature in param dict is overridden.\n",
      "  _log_warning(f\"{cat_alias} in param dict is overridden.\")\n"
     ]
    },
    {
     "name": "stdout",
     "output_type": "stream",
     "text": [
      "[CV] END learning_rate=0.02, n_estimators=500, num_leaves=45; total time=   5.1s\n",
      "[LightGBM] [Warning] categorical_feature is set=lang, categorical_column=5 will be ignored. Current value: categorical_feature=lang\n",
      "[LightGBM] [Info] Number of positive: 7905, number of negative: 15680\n",
      "[LightGBM] [Info] This is the GPU trainer!!\n",
      "[LightGBM] [Info] Total Bins 2523\n",
      "[LightGBM] [Info] Number of data points in the train set: 23585, number of used features: 15\n",
      "[LightGBM] [Info] Using GPU Device: Tesla T4, Vendor: NVIDIA Corporation\n",
      "[LightGBM] [Info] Compiling OpenCL Kernel with 256 bins...\n",
      "[LightGBM] [Info] GPU programs have been built\n",
      "[LightGBM] [Info] Size of histogram bin entry: 8\n",
      "[LightGBM] [Info] 13 dense feature groups (0.36 MB) transferred to GPU in 0.001153 secs. 1 sparse feature groups\n",
      "[LightGBM] [Info] [binary:BoostFromScore]: pavg=0.335171 -> initscore=-0.684891\n",
      "[LightGBM] [Info] Start training from score -0.684891\n"
     ]
    },
    {
     "name": "stderr",
     "output_type": "stream",
     "text": [
      "/usr/local/lib/python3.11/dist-packages/lightgbm/basic.py:2118: UserWarning: categorical_feature keyword has been found in `params` and will be ignored.\n",
      "Please use categorical_feature argument of the Dataset constructor to pass this parameter.\n",
      "  _log_warning(\n",
      "/usr/local/lib/python3.11/dist-packages/lightgbm/basic.py:2140: UserWarning: categorical_feature in param dict is overridden.\n",
      "  _log_warning(f\"{cat_alias} in param dict is overridden.\")\n"
     ]
    },
    {
     "name": "stdout",
     "output_type": "stream",
     "text": [
      "[CV] END learning_rate=0.02, n_estimators=500, num_leaves=45; total time=   2.7s\n",
      "[LightGBM] [Warning] categorical_feature is set=lang, categorical_column=5 will be ignored. Current value: categorical_feature=lang\n",
      "[LightGBM] [Info] Number of positive: 7905, number of negative: 15680\n",
      "[LightGBM] [Info] This is the GPU trainer!!\n",
      "[LightGBM] [Info] Total Bins 2517\n",
      "[LightGBM] [Info] Number of data points in the train set: 23585, number of used features: 15\n",
      "[LightGBM] [Info] Using GPU Device: Tesla T4, Vendor: NVIDIA Corporation\n",
      "[LightGBM] [Info] Compiling OpenCL Kernel with 256 bins...\n",
      "[LightGBM] [Info] GPU programs have been built\n",
      "[LightGBM] [Info] Size of histogram bin entry: 8\n",
      "[LightGBM] [Info] 13 dense feature groups (0.36 MB) transferred to GPU in 0.001336 secs. 1 sparse feature groups\n",
      "[LightGBM] [Info] [binary:BoostFromScore]: pavg=0.335171 -> initscore=-0.684891\n",
      "[LightGBM] [Info] Start training from score -0.684891\n"
     ]
    },
    {
     "name": "stderr",
     "output_type": "stream",
     "text": [
      "/usr/local/lib/python3.11/dist-packages/lightgbm/basic.py:2118: UserWarning: categorical_feature keyword has been found in `params` and will be ignored.\n",
      "Please use categorical_feature argument of the Dataset constructor to pass this parameter.\n",
      "  _log_warning(\n",
      "/usr/local/lib/python3.11/dist-packages/lightgbm/basic.py:2140: UserWarning: categorical_feature in param dict is overridden.\n",
      "  _log_warning(f\"{cat_alias} in param dict is overridden.\")\n"
     ]
    },
    {
     "name": "stdout",
     "output_type": "stream",
     "text": [
      "[CV] END learning_rate=0.02, n_estimators=500, num_leaves=45; total time=   2.7s\n",
      "[LightGBM] [Warning] categorical_feature is set=lang, categorical_column=5 will be ignored. Current value: categorical_feature=lang\n",
      "[LightGBM] [Info] Number of positive: 7905, number of negative: 15681\n",
      "[LightGBM] [Info] This is the GPU trainer!!\n",
      "[LightGBM] [Info] Total Bins 2514\n",
      "[LightGBM] [Info] Number of data points in the train set: 23586, number of used features: 15\n",
      "[LightGBM] [Info] Using GPU Device: Tesla T4, Vendor: NVIDIA Corporation\n",
      "[LightGBM] [Info] Compiling OpenCL Kernel with 256 bins...\n",
      "[LightGBM] [Info] GPU programs have been built\n",
      "[LightGBM] [Info] Size of histogram bin entry: 8\n",
      "[LightGBM] [Info] 13 dense feature groups (0.36 MB) transferred to GPU in 0.001143 secs. 1 sparse feature groups\n",
      "[LightGBM] [Info] [binary:BoostFromScore]: pavg=0.335156 -> initscore=-0.684954\n",
      "[LightGBM] [Info] Start training from score -0.684954\n"
     ]
    },
    {
     "name": "stderr",
     "output_type": "stream",
     "text": [
      "/usr/local/lib/python3.11/dist-packages/lightgbm/basic.py:2118: UserWarning: categorical_feature keyword has been found in `params` and will be ignored.\n",
      "Please use categorical_feature argument of the Dataset constructor to pass this parameter.\n",
      "  _log_warning(\n",
      "/usr/local/lib/python3.11/dist-packages/lightgbm/basic.py:2140: UserWarning: categorical_feature in param dict is overridden.\n",
      "  _log_warning(f\"{cat_alias} in param dict is overridden.\")\n"
     ]
    },
    {
     "name": "stdout",
     "output_type": "stream",
     "text": [
      "[CV] END learning_rate=0.02, n_estimators=500, num_leaves=45; total time=   2.7s\n",
      "[LightGBM] [Warning] categorical_feature is set=lang, categorical_column=5 will be ignored. Current value: categorical_feature=lang\n",
      "[LightGBM] [Info] Number of positive: 7905, number of negative: 15681\n",
      "[LightGBM] [Info] This is the GPU trainer!!\n",
      "[LightGBM] [Info] Total Bins 2518\n",
      "[LightGBM] [Info] Number of data points in the train set: 23586, number of used features: 15\n",
      "[LightGBM] [Info] Using GPU Device: Tesla T4, Vendor: NVIDIA Corporation\n",
      "[LightGBM] [Info] Compiling OpenCL Kernel with 256 bins...\n",
      "[LightGBM] [Info] GPU programs have been built\n",
      "[LightGBM] [Info] Size of histogram bin entry: 8\n",
      "[LightGBM] [Info] 13 dense feature groups (0.36 MB) transferred to GPU in 0.001127 secs. 1 sparse feature groups\n",
      "[LightGBM] [Info] [binary:BoostFromScore]: pavg=0.335156 -> initscore=-0.684954\n",
      "[LightGBM] [Info] Start training from score -0.684954\n"
     ]
    },
    {
     "name": "stderr",
     "output_type": "stream",
     "text": [
      "/usr/local/lib/python3.11/dist-packages/lightgbm/basic.py:2118: UserWarning: categorical_feature keyword has been found in `params` and will be ignored.\n",
      "Please use categorical_feature argument of the Dataset constructor to pass this parameter.\n",
      "  _log_warning(\n",
      "/usr/local/lib/python3.11/dist-packages/lightgbm/basic.py:2140: UserWarning: categorical_feature in param dict is overridden.\n",
      "  _log_warning(f\"{cat_alias} in param dict is overridden.\")\n"
     ]
    },
    {
     "name": "stdout",
     "output_type": "stream",
     "text": [
      "[CV] END learning_rate=0.02, n_estimators=500, num_leaves=45; total time=   4.6s\n",
      "[LightGBM] [Warning] categorical_feature is set=lang, categorical_column=5 will be ignored. Current value: categorical_feature=lang\n",
      "[LightGBM] [Info] Number of positive: 7905, number of negative: 15681\n",
      "[LightGBM] [Info] This is the GPU trainer!!\n",
      "[LightGBM] [Info] Total Bins 2518\n",
      "[LightGBM] [Info] Number of data points in the train set: 23586, number of used features: 15\n",
      "[LightGBM] [Info] Using GPU Device: Tesla T4, Vendor: NVIDIA Corporation\n",
      "[LightGBM] [Info] Compiling OpenCL Kernel with 256 bins...\n",
      "[LightGBM] [Info] GPU programs have been built\n",
      "[LightGBM] [Info] Size of histogram bin entry: 8\n",
      "[LightGBM] [Info] 13 dense feature groups (0.36 MB) transferred to GPU in 0.003134 secs. 1 sparse feature groups\n",
      "[LightGBM] [Info] [binary:BoostFromScore]: pavg=0.335156 -> initscore=-0.684954\n",
      "[LightGBM] [Info] Start training from score -0.684954\n"
     ]
    },
    {
     "name": "stderr",
     "output_type": "stream",
     "text": [
      "/usr/local/lib/python3.11/dist-packages/lightgbm/basic.py:2118: UserWarning: categorical_feature keyword has been found in `params` and will be ignored.\n",
      "Please use categorical_feature argument of the Dataset constructor to pass this parameter.\n",
      "  _log_warning(\n",
      "/usr/local/lib/python3.11/dist-packages/lightgbm/basic.py:2140: UserWarning: categorical_feature in param dict is overridden.\n",
      "  _log_warning(f\"{cat_alias} in param dict is overridden.\")\n"
     ]
    },
    {
     "name": "stdout",
     "output_type": "stream",
     "text": [
      "[CV] END learning_rate=0.02, n_estimators=500, num_leaves=45; total time=   3.2s\n",
      "[LightGBM] [Warning] categorical_feature is set=lang, categorical_column=5 will be ignored. Current value: categorical_feature=lang\n",
      "[LightGBM] [Info] Number of positive: 7905, number of negative: 15681\n",
      "[LightGBM] [Info] This is the GPU trainer!!\n",
      "[LightGBM] [Info] Total Bins 2514\n",
      "[LightGBM] [Info] Number of data points in the train set: 23586, number of used features: 15\n",
      "[LightGBM] [Info] Using GPU Device: Tesla T4, Vendor: NVIDIA Corporation\n",
      "[LightGBM] [Info] Compiling OpenCL Kernel with 256 bins...\n",
      "[LightGBM] [Info] GPU programs have been built\n",
      "[LightGBM] [Info] Size of histogram bin entry: 8\n",
      "[LightGBM] [Info] 13 dense feature groups (0.36 MB) transferred to GPU in 0.001112 secs. 1 sparse feature groups\n",
      "[LightGBM] [Info] [binary:BoostFromScore]: pavg=0.335156 -> initscore=-0.684954\n",
      "[LightGBM] [Info] Start training from score -0.684954\n"
     ]
    },
    {
     "name": "stderr",
     "output_type": "stream",
     "text": [
      "/usr/local/lib/python3.11/dist-packages/lightgbm/basic.py:2118: UserWarning: categorical_feature keyword has been found in `params` and will be ignored.\n",
      "Please use categorical_feature argument of the Dataset constructor to pass this parameter.\n",
      "  _log_warning(\n",
      "/usr/local/lib/python3.11/dist-packages/lightgbm/basic.py:2140: UserWarning: categorical_feature in param dict is overridden.\n",
      "  _log_warning(f\"{cat_alias} in param dict is overridden.\")\n"
     ]
    },
    {
     "name": "stdout",
     "output_type": "stream",
     "text": [
      "[CV] END learning_rate=0.02, n_estimators=500, num_leaves=45; total time=   2.8s\n",
      "[LightGBM] [Warning] categorical_feature is set=lang, categorical_column=5 will be ignored. Current value: categorical_feature=lang\n",
      "[LightGBM] [Info] Number of positive: 7904, number of negative: 15681\n",
      "[LightGBM] [Info] This is the GPU trainer!!\n",
      "[LightGBM] [Info] Total Bins 2510\n",
      "[LightGBM] [Info] Number of data points in the train set: 23585, number of used features: 15\n",
      "[LightGBM] [Info] Using GPU Device: Tesla T4, Vendor: NVIDIA Corporation\n",
      "[LightGBM] [Info] Compiling OpenCL Kernel with 256 bins...\n",
      "[LightGBM] [Info] GPU programs have been built\n",
      "[LightGBM] [Info] Size of histogram bin entry: 8\n",
      "[LightGBM] [Info] 13 dense feature groups (0.36 MB) transferred to GPU in 0.001278 secs. 1 sparse feature groups\n",
      "[LightGBM] [Info] [binary:BoostFromScore]: pavg=0.335128 -> initscore=-0.685081\n",
      "[LightGBM] [Info] Start training from score -0.685081\n"
     ]
    },
    {
     "name": "stderr",
     "output_type": "stream",
     "text": [
      "/usr/local/lib/python3.11/dist-packages/lightgbm/basic.py:2118: UserWarning: categorical_feature keyword has been found in `params` and will be ignored.\n",
      "Please use categorical_feature argument of the Dataset constructor to pass this parameter.\n",
      "  _log_warning(\n",
      "/usr/local/lib/python3.11/dist-packages/lightgbm/basic.py:2140: UserWarning: categorical_feature in param dict is overridden.\n",
      "  _log_warning(f\"{cat_alias} in param dict is overridden.\")\n"
     ]
    },
    {
     "name": "stdout",
     "output_type": "stream",
     "text": [
      "[CV] END learning_rate=0.02, n_estimators=600, num_leaves=15; total time=   1.5s\n",
      "[LightGBM] [Warning] categorical_feature is set=lang, categorical_column=5 will be ignored. Current value: categorical_feature=lang\n",
      "[LightGBM] [Info] Number of positive: 7904, number of negative: 15681\n",
      "[LightGBM] [Info] This is the GPU trainer!!\n",
      "[LightGBM] [Info] Total Bins 2519\n",
      "[LightGBM] [Info] Number of data points in the train set: 23585, number of used features: 15\n",
      "[LightGBM] [Info] Using GPU Device: Tesla T4, Vendor: NVIDIA Corporation\n",
      "[LightGBM] [Info] Compiling OpenCL Kernel with 256 bins...\n",
      "[LightGBM] [Info] GPU programs have been built\n",
      "[LightGBM] [Info] Size of histogram bin entry: 8\n",
      "[LightGBM] [Info] 13 dense feature groups (0.36 MB) transferred to GPU in 0.001289 secs. 1 sparse feature groups\n",
      "[LightGBM] [Info] [binary:BoostFromScore]: pavg=0.335128 -> initscore=-0.685081\n",
      "[LightGBM] [Info] Start training from score -0.685081\n"
     ]
    },
    {
     "name": "stderr",
     "output_type": "stream",
     "text": [
      "/usr/local/lib/python3.11/dist-packages/lightgbm/basic.py:2118: UserWarning: categorical_feature keyword has been found in `params` and will be ignored.\n",
      "Please use categorical_feature argument of the Dataset constructor to pass this parameter.\n",
      "  _log_warning(\n",
      "/usr/local/lib/python3.11/dist-packages/lightgbm/basic.py:2140: UserWarning: categorical_feature in param dict is overridden.\n",
      "  _log_warning(f\"{cat_alias} in param dict is overridden.\")\n"
     ]
    },
    {
     "name": "stdout",
     "output_type": "stream",
     "text": [
      "[CV] END learning_rate=0.02, n_estimators=600, num_leaves=15; total time=   1.5s\n",
      "[LightGBM] [Warning] categorical_feature is set=lang, categorical_column=5 will be ignored. Current value: categorical_feature=lang\n",
      "[LightGBM] [Info] Number of positive: 7904, number of negative: 15681\n",
      "[LightGBM] [Info] This is the GPU trainer!!\n",
      "[LightGBM] [Info] Total Bins 2517\n",
      "[LightGBM] [Info] Number of data points in the train set: 23585, number of used features: 15\n",
      "[LightGBM] [Info] Using GPU Device: Tesla T4, Vendor: NVIDIA Corporation\n",
      "[LightGBM] [Info] Compiling OpenCL Kernel with 256 bins...\n",
      "[LightGBM] [Info] GPU programs have been built\n",
      "[LightGBM] [Info] Size of histogram bin entry: 8\n",
      "[LightGBM] [Info] 13 dense feature groups (0.36 MB) transferred to GPU in 0.001244 secs. 1 sparse feature groups\n",
      "[LightGBM] [Info] [binary:BoostFromScore]: pavg=0.335128 -> initscore=-0.685081\n",
      "[LightGBM] [Info] Start training from score -0.685081\n"
     ]
    },
    {
     "name": "stderr",
     "output_type": "stream",
     "text": [
      "/usr/local/lib/python3.11/dist-packages/lightgbm/basic.py:2118: UserWarning: categorical_feature keyword has been found in `params` and will be ignored.\n",
      "Please use categorical_feature argument of the Dataset constructor to pass this parameter.\n",
      "  _log_warning(\n",
      "/usr/local/lib/python3.11/dist-packages/lightgbm/basic.py:2140: UserWarning: categorical_feature in param dict is overridden.\n",
      "  _log_warning(f\"{cat_alias} in param dict is overridden.\")\n"
     ]
    },
    {
     "name": "stdout",
     "output_type": "stream",
     "text": [
      "[CV] END learning_rate=0.02, n_estimators=600, num_leaves=15; total time=   1.5s\n",
      "[LightGBM] [Warning] categorical_feature is set=lang, categorical_column=5 will be ignored. Current value: categorical_feature=lang\n",
      "[LightGBM] [Info] Number of positive: 7905, number of negative: 15680\n",
      "[LightGBM] [Info] This is the GPU trainer!!\n",
      "[LightGBM] [Info] Total Bins 2512\n",
      "[LightGBM] [Info] Number of data points in the train set: 23585, number of used features: 15\n",
      "[LightGBM] [Info] Using GPU Device: Tesla T4, Vendor: NVIDIA Corporation\n",
      "[LightGBM] [Info] Compiling OpenCL Kernel with 256 bins...\n",
      "[LightGBM] [Info] GPU programs have been built\n",
      "[LightGBM] [Info] Size of histogram bin entry: 8\n",
      "[LightGBM] [Info] 13 dense feature groups (0.36 MB) transferred to GPU in 0.001130 secs. 1 sparse feature groups\n",
      "[LightGBM] [Info] [binary:BoostFromScore]: pavg=0.335171 -> initscore=-0.684891\n",
      "[LightGBM] [Info] Start training from score -0.684891\n"
     ]
    },
    {
     "name": "stderr",
     "output_type": "stream",
     "text": [
      "/usr/local/lib/python3.11/dist-packages/lightgbm/basic.py:2118: UserWarning: categorical_feature keyword has been found in `params` and will be ignored.\n",
      "Please use categorical_feature argument of the Dataset constructor to pass this parameter.\n",
      "  _log_warning(\n",
      "/usr/local/lib/python3.11/dist-packages/lightgbm/basic.py:2140: UserWarning: categorical_feature in param dict is overridden.\n",
      "  _log_warning(f\"{cat_alias} in param dict is overridden.\")\n"
     ]
    },
    {
     "name": "stdout",
     "output_type": "stream",
     "text": [
      "[CV] END learning_rate=0.02, n_estimators=600, num_leaves=15; total time=   3.2s\n",
      "[LightGBM] [Warning] categorical_feature is set=lang, categorical_column=5 will be ignored. Current value: categorical_feature=lang\n",
      "[LightGBM] [Info] Number of positive: 7905, number of negative: 15680\n",
      "[LightGBM] [Info] This is the GPU trainer!!\n",
      "[LightGBM] [Info] Total Bins 2523\n",
      "[LightGBM] [Info] Number of data points in the train set: 23585, number of used features: 15\n",
      "[LightGBM] [Info] Using GPU Device: Tesla T4, Vendor: NVIDIA Corporation\n",
      "[LightGBM] [Info] Compiling OpenCL Kernel with 256 bins...\n",
      "[LightGBM] [Info] GPU programs have been built\n",
      "[LightGBM] [Info] Size of histogram bin entry: 8\n",
      "[LightGBM] [Info] 13 dense feature groups (0.36 MB) transferred to GPU in 0.003276 secs. 1 sparse feature groups\n",
      "[LightGBM] [Info] [binary:BoostFromScore]: pavg=0.335171 -> initscore=-0.684891\n",
      "[LightGBM] [Info] Start training from score -0.684891\n"
     ]
    },
    {
     "name": "stderr",
     "output_type": "stream",
     "text": [
      "/usr/local/lib/python3.11/dist-packages/lightgbm/basic.py:2118: UserWarning: categorical_feature keyword has been found in `params` and will be ignored.\n",
      "Please use categorical_feature argument of the Dataset constructor to pass this parameter.\n",
      "  _log_warning(\n",
      "/usr/local/lib/python3.11/dist-packages/lightgbm/basic.py:2140: UserWarning: categorical_feature in param dict is overridden.\n",
      "  _log_warning(f\"{cat_alias} in param dict is overridden.\")\n"
     ]
    },
    {
     "name": "stdout",
     "output_type": "stream",
     "text": [
      "[CV] END learning_rate=0.02, n_estimators=600, num_leaves=15; total time=   2.1s\n",
      "[LightGBM] [Warning] categorical_feature is set=lang, categorical_column=5 will be ignored. Current value: categorical_feature=lang\n",
      "[LightGBM] [Info] Number of positive: 7905, number of negative: 15680\n",
      "[LightGBM] [Info] This is the GPU trainer!!\n",
      "[LightGBM] [Info] Total Bins 2517\n",
      "[LightGBM] [Info] Number of data points in the train set: 23585, number of used features: 15\n",
      "[LightGBM] [Info] Using GPU Device: Tesla T4, Vendor: NVIDIA Corporation\n",
      "[LightGBM] [Info] Compiling OpenCL Kernel with 256 bins...\n",
      "[LightGBM] [Info] GPU programs have been built\n",
      "[LightGBM] [Info] Size of histogram bin entry: 8\n",
      "[LightGBM] [Info] 13 dense feature groups (0.36 MB) transferred to GPU in 0.001234 secs. 1 sparse feature groups\n",
      "[LightGBM] [Info] [binary:BoostFromScore]: pavg=0.335171 -> initscore=-0.684891\n",
      "[LightGBM] [Info] Start training from score -0.684891\n"
     ]
    },
    {
     "name": "stderr",
     "output_type": "stream",
     "text": [
      "/usr/local/lib/python3.11/dist-packages/lightgbm/basic.py:2118: UserWarning: categorical_feature keyword has been found in `params` and will be ignored.\n",
      "Please use categorical_feature argument of the Dataset constructor to pass this parameter.\n",
      "  _log_warning(\n",
      "/usr/local/lib/python3.11/dist-packages/lightgbm/basic.py:2140: UserWarning: categorical_feature in param dict is overridden.\n",
      "  _log_warning(f\"{cat_alias} in param dict is overridden.\")\n"
     ]
    },
    {
     "name": "stdout",
     "output_type": "stream",
     "text": [
      "[CV] END learning_rate=0.02, n_estimators=600, num_leaves=15; total time=   1.5s\n",
      "[LightGBM] [Warning] categorical_feature is set=lang, categorical_column=5 will be ignored. Current value: categorical_feature=lang\n",
      "[LightGBM] [Info] Number of positive: 7905, number of negative: 15681\n",
      "[LightGBM] [Info] This is the GPU trainer!!\n",
      "[LightGBM] [Info] Total Bins 2514\n",
      "[LightGBM] [Info] Number of data points in the train set: 23586, number of used features: 15\n",
      "[LightGBM] [Info] Using GPU Device: Tesla T4, Vendor: NVIDIA Corporation\n",
      "[LightGBM] [Info] Compiling OpenCL Kernel with 256 bins...\n",
      "[LightGBM] [Info] GPU programs have been built\n",
      "[LightGBM] [Info] Size of histogram bin entry: 8\n",
      "[LightGBM] [Info] 13 dense feature groups (0.36 MB) transferred to GPU in 0.001180 secs. 1 sparse feature groups\n",
      "[LightGBM] [Info] [binary:BoostFromScore]: pavg=0.335156 -> initscore=-0.684954\n",
      "[LightGBM] [Info] Start training from score -0.684954\n"
     ]
    },
    {
     "name": "stderr",
     "output_type": "stream",
     "text": [
      "/usr/local/lib/python3.11/dist-packages/lightgbm/basic.py:2118: UserWarning: categorical_feature keyword has been found in `params` and will be ignored.\n",
      "Please use categorical_feature argument of the Dataset constructor to pass this parameter.\n",
      "  _log_warning(\n",
      "/usr/local/lib/python3.11/dist-packages/lightgbm/basic.py:2140: UserWarning: categorical_feature in param dict is overridden.\n",
      "  _log_warning(f\"{cat_alias} in param dict is overridden.\")\n"
     ]
    },
    {
     "name": "stdout",
     "output_type": "stream",
     "text": [
      "[CV] END learning_rate=0.02, n_estimators=600, num_leaves=15; total time=   1.5s\n",
      "[LightGBM] [Warning] categorical_feature is set=lang, categorical_column=5 will be ignored. Current value: categorical_feature=lang\n",
      "[LightGBM] [Info] Number of positive: 7905, number of negative: 15681\n",
      "[LightGBM] [Info] This is the GPU trainer!!\n",
      "[LightGBM] [Info] Total Bins 2518\n",
      "[LightGBM] [Info] Number of data points in the train set: 23586, number of used features: 15\n",
      "[LightGBM] [Info] Using GPU Device: Tesla T4, Vendor: NVIDIA Corporation\n",
      "[LightGBM] [Info] Compiling OpenCL Kernel with 256 bins...\n",
      "[LightGBM] [Info] GPU programs have been built\n",
      "[LightGBM] [Info] Size of histogram bin entry: 8\n",
      "[LightGBM] [Info] 13 dense feature groups (0.36 MB) transferred to GPU in 0.001145 secs. 1 sparse feature groups\n",
      "[LightGBM] [Info] [binary:BoostFromScore]: pavg=0.335156 -> initscore=-0.684954\n",
      "[LightGBM] [Info] Start training from score -0.684954\n"
     ]
    },
    {
     "name": "stderr",
     "output_type": "stream",
     "text": [
      "/usr/local/lib/python3.11/dist-packages/lightgbm/basic.py:2118: UserWarning: categorical_feature keyword has been found in `params` and will be ignored.\n",
      "Please use categorical_feature argument of the Dataset constructor to pass this parameter.\n",
      "  _log_warning(\n",
      "/usr/local/lib/python3.11/dist-packages/lightgbm/basic.py:2140: UserWarning: categorical_feature in param dict is overridden.\n",
      "  _log_warning(f\"{cat_alias} in param dict is overridden.\")\n"
     ]
    },
    {
     "name": "stdout",
     "output_type": "stream",
     "text": [
      "[CV] END learning_rate=0.02, n_estimators=600, num_leaves=15; total time=   1.5s\n",
      "[LightGBM] [Warning] categorical_feature is set=lang, categorical_column=5 will be ignored. Current value: categorical_feature=lang\n",
      "[LightGBM] [Info] Number of positive: 7905, number of negative: 15681\n",
      "[LightGBM] [Info] This is the GPU trainer!!\n",
      "[LightGBM] [Info] Total Bins 2518\n",
      "[LightGBM] [Info] Number of data points in the train set: 23586, number of used features: 15\n",
      "[LightGBM] [Info] Using GPU Device: Tesla T4, Vendor: NVIDIA Corporation\n",
      "[LightGBM] [Info] Compiling OpenCL Kernel with 256 bins...\n",
      "[LightGBM] [Info] GPU programs have been built\n",
      "[LightGBM] [Info] Size of histogram bin entry: 8\n",
      "[LightGBM] [Info] 13 dense feature groups (0.36 MB) transferred to GPU in 0.001191 secs. 1 sparse feature groups\n",
      "[LightGBM] [Info] [binary:BoostFromScore]: pavg=0.335156 -> initscore=-0.684954\n",
      "[LightGBM] [Info] Start training from score -0.684954\n"
     ]
    },
    {
     "name": "stderr",
     "output_type": "stream",
     "text": [
      "/usr/local/lib/python3.11/dist-packages/lightgbm/basic.py:2118: UserWarning: categorical_feature keyword has been found in `params` and will be ignored.\n",
      "Please use categorical_feature argument of the Dataset constructor to pass this parameter.\n",
      "  _log_warning(\n",
      "/usr/local/lib/python3.11/dist-packages/lightgbm/basic.py:2140: UserWarning: categorical_feature in param dict is overridden.\n",
      "  _log_warning(f\"{cat_alias} in param dict is overridden.\")\n"
     ]
    },
    {
     "name": "stdout",
     "output_type": "stream",
     "text": [
      "[CV] END learning_rate=0.02, n_estimators=600, num_leaves=15; total time=   1.5s\n",
      "[LightGBM] [Warning] categorical_feature is set=lang, categorical_column=5 will be ignored. Current value: categorical_feature=lang\n",
      "[LightGBM] [Info] Number of positive: 7905, number of negative: 15681\n",
      "[LightGBM] [Info] This is the GPU trainer!!\n",
      "[LightGBM] [Info] Total Bins 2514\n",
      "[LightGBM] [Info] Number of data points in the train set: 23586, number of used features: 15\n",
      "[LightGBM] [Info] Using GPU Device: Tesla T4, Vendor: NVIDIA Corporation\n",
      "[LightGBM] [Info] Compiling OpenCL Kernel with 256 bins...\n",
      "[LightGBM] [Info] GPU programs have been built\n",
      "[LightGBM] [Info] Size of histogram bin entry: 8\n",
      "[LightGBM] [Info] 13 dense feature groups (0.36 MB) transferred to GPU in 0.001174 secs. 1 sparse feature groups\n",
      "[LightGBM] [Info] [binary:BoostFromScore]: pavg=0.335156 -> initscore=-0.684954\n",
      "[LightGBM] [Info] Start training from score -0.684954\n"
     ]
    },
    {
     "name": "stderr",
     "output_type": "stream",
     "text": [
      "/usr/local/lib/python3.11/dist-packages/lightgbm/basic.py:2118: UserWarning: categorical_feature keyword has been found in `params` and will be ignored.\n",
      "Please use categorical_feature argument of the Dataset constructor to pass this parameter.\n",
      "  _log_warning(\n",
      "/usr/local/lib/python3.11/dist-packages/lightgbm/basic.py:2140: UserWarning: categorical_feature in param dict is overridden.\n",
      "  _log_warning(f\"{cat_alias} in param dict is overridden.\")\n"
     ]
    },
    {
     "name": "stdout",
     "output_type": "stream",
     "text": [
      "[CV] END learning_rate=0.02, n_estimators=600, num_leaves=15; total time=   1.5s\n",
      "[LightGBM] [Warning] categorical_feature is set=lang, categorical_column=5 will be ignored. Current value: categorical_feature=lang\n",
      "[LightGBM] [Info] Number of positive: 7904, number of negative: 15681\n",
      "[LightGBM] [Info] This is the GPU trainer!!\n",
      "[LightGBM] [Info] Total Bins 2510\n",
      "[LightGBM] [Info] Number of data points in the train set: 23585, number of used features: 15\n",
      "[LightGBM] [Info] Using GPU Device: Tesla T4, Vendor: NVIDIA Corporation\n",
      "[LightGBM] [Info] Compiling OpenCL Kernel with 256 bins...\n",
      "[LightGBM] [Info] GPU programs have been built\n",
      "[LightGBM] [Info] Size of histogram bin entry: 8\n",
      "[LightGBM] [Info] 13 dense feature groups (0.36 MB) transferred to GPU in 0.001157 secs. 1 sparse feature groups\n",
      "[LightGBM] [Info] [binary:BoostFromScore]: pavg=0.335128 -> initscore=-0.685081\n",
      "[LightGBM] [Info] Start training from score -0.685081\n"
     ]
    },
    {
     "name": "stderr",
     "output_type": "stream",
     "text": [
      "/usr/local/lib/python3.11/dist-packages/lightgbm/basic.py:2118: UserWarning: categorical_feature keyword has been found in `params` and will be ignored.\n",
      "Please use categorical_feature argument of the Dataset constructor to pass this parameter.\n",
      "  _log_warning(\n",
      "/usr/local/lib/python3.11/dist-packages/lightgbm/basic.py:2140: UserWarning: categorical_feature in param dict is overridden.\n",
      "  _log_warning(f\"{cat_alias} in param dict is overridden.\")\n"
     ]
    },
    {
     "name": "stdout",
     "output_type": "stream",
     "text": [
      "[CV] END learning_rate=0.02, n_estimators=600, num_leaves=30; total time=   2.4s\n",
      "[LightGBM] [Warning] categorical_feature is set=lang, categorical_column=5 will be ignored. Current value: categorical_feature=lang\n",
      "[LightGBM] [Info] Number of positive: 7904, number of negative: 15681\n",
      "[LightGBM] [Info] This is the GPU trainer!!\n",
      "[LightGBM] [Info] Total Bins 2519\n",
      "[LightGBM] [Info] Number of data points in the train set: 23585, number of used features: 15\n",
      "[LightGBM] [Info] Using GPU Device: Tesla T4, Vendor: NVIDIA Corporation\n",
      "[LightGBM] [Info] Compiling OpenCL Kernel with 256 bins...\n",
      "[LightGBM] [Info] GPU programs have been built\n",
      "[LightGBM] [Info] Size of histogram bin entry: 8\n",
      "[LightGBM] [Info] 13 dense feature groups (0.36 MB) transferred to GPU in 0.015445 secs. 1 sparse feature groups\n",
      "[LightGBM] [Info] [binary:BoostFromScore]: pavg=0.335128 -> initscore=-0.685081\n",
      "[LightGBM] [Info] Start training from score -0.685081\n"
     ]
    },
    {
     "name": "stderr",
     "output_type": "stream",
     "text": [
      "/usr/local/lib/python3.11/dist-packages/lightgbm/basic.py:2118: UserWarning: categorical_feature keyword has been found in `params` and will be ignored.\n",
      "Please use categorical_feature argument of the Dataset constructor to pass this parameter.\n",
      "  _log_warning(\n",
      "/usr/local/lib/python3.11/dist-packages/lightgbm/basic.py:2140: UserWarning: categorical_feature in param dict is overridden.\n",
      "  _log_warning(f\"{cat_alias} in param dict is overridden.\")\n"
     ]
    },
    {
     "name": "stdout",
     "output_type": "stream",
     "text": [
      "[CV] END learning_rate=0.02, n_estimators=600, num_leaves=30; total time=   4.5s\n",
      "[LightGBM] [Warning] categorical_feature is set=lang, categorical_column=5 will be ignored. Current value: categorical_feature=lang\n",
      "[LightGBM] [Info] Number of positive: 7904, number of negative: 15681\n",
      "[LightGBM] [Info] This is the GPU trainer!!\n",
      "[LightGBM] [Info] Total Bins 2517\n",
      "[LightGBM] [Info] Number of data points in the train set: 23585, number of used features: 15\n",
      "[LightGBM] [Info] Using GPU Device: Tesla T4, Vendor: NVIDIA Corporation\n",
      "[LightGBM] [Info] Compiling OpenCL Kernel with 256 bins...\n",
      "[LightGBM] [Info] GPU programs have been built\n",
      "[LightGBM] [Info] Size of histogram bin entry: 8\n",
      "[LightGBM] [Info] 13 dense feature groups (0.36 MB) transferred to GPU in 0.001307 secs. 1 sparse feature groups\n",
      "[LightGBM] [Info] [binary:BoostFromScore]: pavg=0.335128 -> initscore=-0.685081\n",
      "[LightGBM] [Info] Start training from score -0.685081\n"
     ]
    },
    {
     "name": "stderr",
     "output_type": "stream",
     "text": [
      "/usr/local/lib/python3.11/dist-packages/lightgbm/basic.py:2118: UserWarning: categorical_feature keyword has been found in `params` and will be ignored.\n",
      "Please use categorical_feature argument of the Dataset constructor to pass this parameter.\n",
      "  _log_warning(\n",
      "/usr/local/lib/python3.11/dist-packages/lightgbm/basic.py:2140: UserWarning: categorical_feature in param dict is overridden.\n",
      "  _log_warning(f\"{cat_alias} in param dict is overridden.\")\n"
     ]
    },
    {
     "name": "stdout",
     "output_type": "stream",
     "text": [
      "[CV] END learning_rate=0.02, n_estimators=600, num_leaves=30; total time=   2.3s\n",
      "[LightGBM] [Warning] categorical_feature is set=lang, categorical_column=5 will be ignored. Current value: categorical_feature=lang\n",
      "[LightGBM] [Info] Number of positive: 7905, number of negative: 15680\n",
      "[LightGBM] [Info] This is the GPU trainer!!\n",
      "[LightGBM] [Info] Total Bins 2512\n",
      "[LightGBM] [Info] Number of data points in the train set: 23585, number of used features: 15\n",
      "[LightGBM] [Info] Using GPU Device: Tesla T4, Vendor: NVIDIA Corporation\n",
      "[LightGBM] [Info] Compiling OpenCL Kernel with 256 bins...\n",
      "[LightGBM] [Info] GPU programs have been built\n",
      "[LightGBM] [Info] Size of histogram bin entry: 8\n",
      "[LightGBM] [Info] 13 dense feature groups (0.36 MB) transferred to GPU in 0.001177 secs. 1 sparse feature groups\n",
      "[LightGBM] [Info] [binary:BoostFromScore]: pavg=0.335171 -> initscore=-0.684891\n",
      "[LightGBM] [Info] Start training from score -0.684891\n"
     ]
    },
    {
     "name": "stderr",
     "output_type": "stream",
     "text": [
      "/usr/local/lib/python3.11/dist-packages/lightgbm/basic.py:2118: UserWarning: categorical_feature keyword has been found in `params` and will be ignored.\n",
      "Please use categorical_feature argument of the Dataset constructor to pass this parameter.\n",
      "  _log_warning(\n",
      "/usr/local/lib/python3.11/dist-packages/lightgbm/basic.py:2140: UserWarning: categorical_feature in param dict is overridden.\n",
      "  _log_warning(f\"{cat_alias} in param dict is overridden.\")\n"
     ]
    },
    {
     "name": "stdout",
     "output_type": "stream",
     "text": [
      "[CV] END learning_rate=0.02, n_estimators=600, num_leaves=30; total time=   2.3s\n",
      "[LightGBM] [Warning] categorical_feature is set=lang, categorical_column=5 will be ignored. Current value: categorical_feature=lang\n",
      "[LightGBM] [Info] Number of positive: 7905, number of negative: 15680\n",
      "[LightGBM] [Info] This is the GPU trainer!!\n",
      "[LightGBM] [Info] Total Bins 2523\n",
      "[LightGBM] [Info] Number of data points in the train set: 23585, number of used features: 15\n",
      "[LightGBM] [Info] Using GPU Device: Tesla T4, Vendor: NVIDIA Corporation\n",
      "[LightGBM] [Info] Compiling OpenCL Kernel with 256 bins...\n",
      "[LightGBM] [Info] GPU programs have been built\n",
      "[LightGBM] [Info] Size of histogram bin entry: 8\n",
      "[LightGBM] [Info] 13 dense feature groups (0.36 MB) transferred to GPU in 0.001294 secs. 1 sparse feature groups\n",
      "[LightGBM] [Info] [binary:BoostFromScore]: pavg=0.335171 -> initscore=-0.684891\n",
      "[LightGBM] [Info] Start training from score -0.684891\n"
     ]
    },
    {
     "name": "stderr",
     "output_type": "stream",
     "text": [
      "/usr/local/lib/python3.11/dist-packages/lightgbm/basic.py:2118: UserWarning: categorical_feature keyword has been found in `params` and will be ignored.\n",
      "Please use categorical_feature argument of the Dataset constructor to pass this parameter.\n",
      "  _log_warning(\n",
      "/usr/local/lib/python3.11/dist-packages/lightgbm/basic.py:2140: UserWarning: categorical_feature in param dict is overridden.\n",
      "  _log_warning(f\"{cat_alias} in param dict is overridden.\")\n"
     ]
    },
    {
     "name": "stdout",
     "output_type": "stream",
     "text": [
      "[CV] END learning_rate=0.02, n_estimators=600, num_leaves=30; total time=   2.3s\n",
      "[LightGBM] [Warning] categorical_feature is set=lang, categorical_column=5 will be ignored. Current value: categorical_feature=lang\n",
      "[LightGBM] [Info] Number of positive: 7905, number of negative: 15680\n",
      "[LightGBM] [Info] This is the GPU trainer!!\n",
      "[LightGBM] [Info] Total Bins 2517\n",
      "[LightGBM] [Info] Number of data points in the train set: 23585, number of used features: 15\n",
      "[LightGBM] [Info] Using GPU Device: Tesla T4, Vendor: NVIDIA Corporation\n",
      "[LightGBM] [Info] Compiling OpenCL Kernel with 256 bins...\n",
      "[LightGBM] [Info] GPU programs have been built\n",
      "[LightGBM] [Info] Size of histogram bin entry: 8\n",
      "[LightGBM] [Info] 13 dense feature groups (0.36 MB) transferred to GPU in 0.009139 secs. 1 sparse feature groups\n",
      "[LightGBM] [Info] [binary:BoostFromScore]: pavg=0.335171 -> initscore=-0.684891\n",
      "[LightGBM] [Info] Start training from score -0.684891\n"
     ]
    },
    {
     "name": "stderr",
     "output_type": "stream",
     "text": [
      "/usr/local/lib/python3.11/dist-packages/lightgbm/basic.py:2118: UserWarning: categorical_feature keyword has been found in `params` and will be ignored.\n",
      "Please use categorical_feature argument of the Dataset constructor to pass this parameter.\n",
      "  _log_warning(\n",
      "/usr/local/lib/python3.11/dist-packages/lightgbm/basic.py:2140: UserWarning: categorical_feature in param dict is overridden.\n",
      "  _log_warning(f\"{cat_alias} in param dict is overridden.\")\n"
     ]
    },
    {
     "name": "stdout",
     "output_type": "stream",
     "text": [
      "[CV] END learning_rate=0.02, n_estimators=600, num_leaves=30; total time=   2.4s\n",
      "[LightGBM] [Warning] categorical_feature is set=lang, categorical_column=5 will be ignored. Current value: categorical_feature=lang\n",
      "[LightGBM] [Info] Number of positive: 7905, number of negative: 15681\n",
      "[LightGBM] [Info] This is the GPU trainer!!\n",
      "[LightGBM] [Info] Total Bins 2514\n",
      "[LightGBM] [Info] Number of data points in the train set: 23586, number of used features: 15\n",
      "[LightGBM] [Info] Using GPU Device: Tesla T4, Vendor: NVIDIA Corporation\n",
      "[LightGBM] [Info] Compiling OpenCL Kernel with 256 bins...\n",
      "[LightGBM] [Info] GPU programs have been built\n",
      "[LightGBM] [Info] Size of histogram bin entry: 8\n",
      "[LightGBM] [Info] 13 dense feature groups (0.36 MB) transferred to GPU in 0.023587 secs. 1 sparse feature groups\n",
      "[LightGBM] [Info] [binary:BoostFromScore]: pavg=0.335156 -> initscore=-0.684954\n",
      "[LightGBM] [Info] Start training from score -0.684954\n"
     ]
    },
    {
     "name": "stderr",
     "output_type": "stream",
     "text": [
      "/usr/local/lib/python3.11/dist-packages/lightgbm/basic.py:2118: UserWarning: categorical_feature keyword has been found in `params` and will be ignored.\n",
      "Please use categorical_feature argument of the Dataset constructor to pass this parameter.\n",
      "  _log_warning(\n",
      "/usr/local/lib/python3.11/dist-packages/lightgbm/basic.py:2140: UserWarning: categorical_feature in param dict is overridden.\n",
      "  _log_warning(f\"{cat_alias} in param dict is overridden.\")\n"
     ]
    },
    {
     "name": "stdout",
     "output_type": "stream",
     "text": [
      "[CV] END learning_rate=0.02, n_estimators=600, num_leaves=30; total time=   4.6s\n",
      "[LightGBM] [Warning] categorical_feature is set=lang, categorical_column=5 will be ignored. Current value: categorical_feature=lang\n",
      "[LightGBM] [Info] Number of positive: 7905, number of negative: 15681\n",
      "[LightGBM] [Info] This is the GPU trainer!!\n",
      "[LightGBM] [Info] Total Bins 2518\n",
      "[LightGBM] [Info] Number of data points in the train set: 23586, number of used features: 15\n",
      "[LightGBM] [Info] Using GPU Device: Tesla T4, Vendor: NVIDIA Corporation\n",
      "[LightGBM] [Info] Compiling OpenCL Kernel with 256 bins...\n",
      "[LightGBM] [Info] GPU programs have been built\n",
      "[LightGBM] [Info] Size of histogram bin entry: 8\n",
      "[LightGBM] [Info] 13 dense feature groups (0.36 MB) transferred to GPU in 0.001188 secs. 1 sparse feature groups\n",
      "[LightGBM] [Info] [binary:BoostFromScore]: pavg=0.335156 -> initscore=-0.684954\n",
      "[LightGBM] [Info] Start training from score -0.684954\n"
     ]
    },
    {
     "name": "stderr",
     "output_type": "stream",
     "text": [
      "/usr/local/lib/python3.11/dist-packages/lightgbm/basic.py:2118: UserWarning: categorical_feature keyword has been found in `params` and will be ignored.\n",
      "Please use categorical_feature argument of the Dataset constructor to pass this parameter.\n",
      "  _log_warning(\n",
      "/usr/local/lib/python3.11/dist-packages/lightgbm/basic.py:2140: UserWarning: categorical_feature in param dict is overridden.\n",
      "  _log_warning(f\"{cat_alias} in param dict is overridden.\")\n"
     ]
    },
    {
     "name": "stdout",
     "output_type": "stream",
     "text": [
      "[CV] END learning_rate=0.02, n_estimators=600, num_leaves=30; total time=   2.4s\n",
      "[LightGBM] [Warning] categorical_feature is set=lang, categorical_column=5 will be ignored. Current value: categorical_feature=lang\n",
      "[LightGBM] [Info] Number of positive: 7905, number of negative: 15681\n",
      "[LightGBM] [Info] This is the GPU trainer!!\n",
      "[LightGBM] [Info] Total Bins 2518\n",
      "[LightGBM] [Info] Number of data points in the train set: 23586, number of used features: 15\n",
      "[LightGBM] [Info] Using GPU Device: Tesla T4, Vendor: NVIDIA Corporation\n",
      "[LightGBM] [Info] Compiling OpenCL Kernel with 256 bins...\n",
      "[LightGBM] [Info] GPU programs have been built\n",
      "[LightGBM] [Info] Size of histogram bin entry: 8\n",
      "[LightGBM] [Info] 13 dense feature groups (0.36 MB) transferred to GPU in 0.001246 secs. 1 sparse feature groups\n",
      "[LightGBM] [Info] [binary:BoostFromScore]: pavg=0.335156 -> initscore=-0.684954\n",
      "[LightGBM] [Info] Start training from score -0.684954\n"
     ]
    },
    {
     "name": "stderr",
     "output_type": "stream",
     "text": [
      "/usr/local/lib/python3.11/dist-packages/lightgbm/basic.py:2118: UserWarning: categorical_feature keyword has been found in `params` and will be ignored.\n",
      "Please use categorical_feature argument of the Dataset constructor to pass this parameter.\n",
      "  _log_warning(\n",
      "/usr/local/lib/python3.11/dist-packages/lightgbm/basic.py:2140: UserWarning: categorical_feature in param dict is overridden.\n",
      "  _log_warning(f\"{cat_alias} in param dict is overridden.\")\n"
     ]
    },
    {
     "name": "stdout",
     "output_type": "stream",
     "text": [
      "[CV] END learning_rate=0.02, n_estimators=600, num_leaves=30; total time=   2.4s\n",
      "[LightGBM] [Warning] categorical_feature is set=lang, categorical_column=5 will be ignored. Current value: categorical_feature=lang\n",
      "[LightGBM] [Info] Number of positive: 7905, number of negative: 15681\n",
      "[LightGBM] [Info] This is the GPU trainer!!\n",
      "[LightGBM] [Info] Total Bins 2514\n",
      "[LightGBM] [Info] Number of data points in the train set: 23586, number of used features: 15\n",
      "[LightGBM] [Info] Using GPU Device: Tesla T4, Vendor: NVIDIA Corporation\n",
      "[LightGBM] [Info] Compiling OpenCL Kernel with 256 bins...\n",
      "[LightGBM] [Info] GPU programs have been built\n",
      "[LightGBM] [Info] Size of histogram bin entry: 8\n",
      "[LightGBM] [Info] 13 dense feature groups (0.36 MB) transferred to GPU in 0.001173 secs. 1 sparse feature groups\n",
      "[LightGBM] [Info] [binary:BoostFromScore]: pavg=0.335156 -> initscore=-0.684954\n",
      "[LightGBM] [Info] Start training from score -0.684954\n"
     ]
    },
    {
     "name": "stderr",
     "output_type": "stream",
     "text": [
      "/usr/local/lib/python3.11/dist-packages/lightgbm/basic.py:2118: UserWarning: categorical_feature keyword has been found in `params` and will be ignored.\n",
      "Please use categorical_feature argument of the Dataset constructor to pass this parameter.\n",
      "  _log_warning(\n",
      "/usr/local/lib/python3.11/dist-packages/lightgbm/basic.py:2140: UserWarning: categorical_feature in param dict is overridden.\n",
      "  _log_warning(f\"{cat_alias} in param dict is overridden.\")\n"
     ]
    },
    {
     "name": "stdout",
     "output_type": "stream",
     "text": [
      "[CV] END learning_rate=0.02, n_estimators=600, num_leaves=30; total time=   2.4s\n",
      "[LightGBM] [Warning] categorical_feature is set=lang, categorical_column=5 will be ignored. Current value: categorical_feature=lang\n",
      "[LightGBM] [Info] Number of positive: 7904, number of negative: 15681\n",
      "[LightGBM] [Info] This is the GPU trainer!!\n",
      "[LightGBM] [Info] Total Bins 2510\n",
      "[LightGBM] [Info] Number of data points in the train set: 23585, number of used features: 15\n",
      "[LightGBM] [Info] Using GPU Device: Tesla T4, Vendor: NVIDIA Corporation\n",
      "[LightGBM] [Info] Compiling OpenCL Kernel with 256 bins...\n",
      "[LightGBM] [Info] GPU programs have been built\n",
      "[LightGBM] [Info] Size of histogram bin entry: 8\n",
      "[LightGBM] [Info] 13 dense feature groups (0.36 MB) transferred to GPU in 0.001298 secs. 1 sparse feature groups\n",
      "[LightGBM] [Info] [binary:BoostFromScore]: pavg=0.335128 -> initscore=-0.685081\n",
      "[LightGBM] [Info] Start training from score -0.685081\n"
     ]
    },
    {
     "name": "stderr",
     "output_type": "stream",
     "text": [
      "/usr/local/lib/python3.11/dist-packages/lightgbm/basic.py:2118: UserWarning: categorical_feature keyword has been found in `params` and will be ignored.\n",
      "Please use categorical_feature argument of the Dataset constructor to pass this parameter.\n",
      "  _log_warning(\n",
      "/usr/local/lib/python3.11/dist-packages/lightgbm/basic.py:2140: UserWarning: categorical_feature in param dict is overridden.\n",
      "  _log_warning(f\"{cat_alias} in param dict is overridden.\")\n"
     ]
    },
    {
     "name": "stdout",
     "output_type": "stream",
     "text": [
      "[CV] END learning_rate=0.02, n_estimators=600, num_leaves=45; total time=   5.4s\n",
      "[LightGBM] [Warning] categorical_feature is set=lang, categorical_column=5 will be ignored. Current value: categorical_feature=lang\n",
      "[LightGBM] [Info] Number of positive: 7904, number of negative: 15681\n",
      "[LightGBM] [Info] This is the GPU trainer!!\n",
      "[LightGBM] [Info] Total Bins 2519\n",
      "[LightGBM] [Info] Number of data points in the train set: 23585, number of used features: 15\n",
      "[LightGBM] [Info] Using GPU Device: Tesla T4, Vendor: NVIDIA Corporation\n",
      "[LightGBM] [Info] Compiling OpenCL Kernel with 256 bins...\n",
      "[LightGBM] [Info] GPU programs have been built\n",
      "[LightGBM] [Info] Size of histogram bin entry: 8\n",
      "[LightGBM] [Info] 13 dense feature groups (0.36 MB) transferred to GPU in 0.026471 secs. 1 sparse feature groups\n",
      "[LightGBM] [Info] [binary:BoostFromScore]: pavg=0.335128 -> initscore=-0.685081\n",
      "[LightGBM] [Info] Start training from score -0.685081\n"
     ]
    },
    {
     "name": "stderr",
     "output_type": "stream",
     "text": [
      "/usr/local/lib/python3.11/dist-packages/lightgbm/basic.py:2118: UserWarning: categorical_feature keyword has been found in `params` and will be ignored.\n",
      "Please use categorical_feature argument of the Dataset constructor to pass this parameter.\n",
      "  _log_warning(\n",
      "/usr/local/lib/python3.11/dist-packages/lightgbm/basic.py:2140: UserWarning: categorical_feature in param dict is overridden.\n",
      "  _log_warning(f\"{cat_alias} in param dict is overridden.\")\n"
     ]
    },
    {
     "name": "stdout",
     "output_type": "stream",
     "text": [
      "[CV] END learning_rate=0.02, n_estimators=600, num_leaves=45; total time=   3.3s\n",
      "[LightGBM] [Warning] categorical_feature is set=lang, categorical_column=5 will be ignored. Current value: categorical_feature=lang\n",
      "[LightGBM] [Info] Number of positive: 7904, number of negative: 15681\n",
      "[LightGBM] [Info] This is the GPU trainer!!\n",
      "[LightGBM] [Info] Total Bins 2517\n",
      "[LightGBM] [Info] Number of data points in the train set: 23585, number of used features: 15\n",
      "[LightGBM] [Info] Using GPU Device: Tesla T4, Vendor: NVIDIA Corporation\n",
      "[LightGBM] [Info] Compiling OpenCL Kernel with 256 bins...\n",
      "[LightGBM] [Info] GPU programs have been built\n",
      "[LightGBM] [Info] Size of histogram bin entry: 8\n",
      "[LightGBM] [Info] 13 dense feature groups (0.36 MB) transferred to GPU in 0.001215 secs. 1 sparse feature groups\n",
      "[LightGBM] [Info] [binary:BoostFromScore]: pavg=0.335128 -> initscore=-0.685081\n",
      "[LightGBM] [Info] Start training from score -0.685081\n"
     ]
    },
    {
     "name": "stderr",
     "output_type": "stream",
     "text": [
      "/usr/local/lib/python3.11/dist-packages/lightgbm/basic.py:2118: UserWarning: categorical_feature keyword has been found in `params` and will be ignored.\n",
      "Please use categorical_feature argument of the Dataset constructor to pass this parameter.\n",
      "  _log_warning(\n",
      "/usr/local/lib/python3.11/dist-packages/lightgbm/basic.py:2140: UserWarning: categorical_feature in param dict is overridden.\n",
      "  _log_warning(f\"{cat_alias} in param dict is overridden.\")\n"
     ]
    },
    {
     "name": "stdout",
     "output_type": "stream",
     "text": [
      "[CV] END learning_rate=0.02, n_estimators=600, num_leaves=45; total time=   3.2s\n",
      "[LightGBM] [Warning] categorical_feature is set=lang, categorical_column=5 will be ignored. Current value: categorical_feature=lang\n",
      "[LightGBM] [Info] Number of positive: 7905, number of negative: 15680\n",
      "[LightGBM] [Info] This is the GPU trainer!!\n",
      "[LightGBM] [Info] Total Bins 2512\n",
      "[LightGBM] [Info] Number of data points in the train set: 23585, number of used features: 15\n",
      "[LightGBM] [Info] Using GPU Device: Tesla T4, Vendor: NVIDIA Corporation\n",
      "[LightGBM] [Info] Compiling OpenCL Kernel with 256 bins...\n",
      "[LightGBM] [Info] GPU programs have been built\n",
      "[LightGBM] [Info] Size of histogram bin entry: 8\n",
      "[LightGBM] [Info] 13 dense feature groups (0.36 MB) transferred to GPU in 0.001383 secs. 1 sparse feature groups\n",
      "[LightGBM] [Info] [binary:BoostFromScore]: pavg=0.335171 -> initscore=-0.684891\n",
      "[LightGBM] [Info] Start training from score -0.684891\n"
     ]
    },
    {
     "name": "stderr",
     "output_type": "stream",
     "text": [
      "/usr/local/lib/python3.11/dist-packages/lightgbm/basic.py:2118: UserWarning: categorical_feature keyword has been found in `params` and will be ignored.\n",
      "Please use categorical_feature argument of the Dataset constructor to pass this parameter.\n",
      "  _log_warning(\n",
      "/usr/local/lib/python3.11/dist-packages/lightgbm/basic.py:2140: UserWarning: categorical_feature in param dict is overridden.\n",
      "  _log_warning(f\"{cat_alias} in param dict is overridden.\")\n"
     ]
    },
    {
     "name": "stdout",
     "output_type": "stream",
     "text": [
      "[CV] END learning_rate=0.02, n_estimators=600, num_leaves=45; total time=   3.2s\n",
      "[LightGBM] [Warning] categorical_feature is set=lang, categorical_column=5 will be ignored. Current value: categorical_feature=lang\n",
      "[LightGBM] [Info] Number of positive: 7905, number of negative: 15680\n",
      "[LightGBM] [Info] This is the GPU trainer!!\n",
      "[LightGBM] [Info] Total Bins 2523\n",
      "[LightGBM] [Info] Number of data points in the train set: 23585, number of used features: 15\n",
      "[LightGBM] [Info] Using GPU Device: Tesla T4, Vendor: NVIDIA Corporation\n",
      "[LightGBM] [Info] Compiling OpenCL Kernel with 256 bins...\n",
      "[LightGBM] [Info] GPU programs have been built\n",
      "[LightGBM] [Info] Size of histogram bin entry: 8\n",
      "[LightGBM] [Info] 13 dense feature groups (0.36 MB) transferred to GPU in 0.001205 secs. 1 sparse feature groups\n",
      "[LightGBM] [Info] [binary:BoostFromScore]: pavg=0.335171 -> initscore=-0.684891\n",
      "[LightGBM] [Info] Start training from score -0.684891\n"
     ]
    },
    {
     "name": "stderr",
     "output_type": "stream",
     "text": [
      "/usr/local/lib/python3.11/dist-packages/lightgbm/basic.py:2118: UserWarning: categorical_feature keyword has been found in `params` and will be ignored.\n",
      "Please use categorical_feature argument of the Dataset constructor to pass this parameter.\n",
      "  _log_warning(\n",
      "/usr/local/lib/python3.11/dist-packages/lightgbm/basic.py:2140: UserWarning: categorical_feature in param dict is overridden.\n",
      "  _log_warning(f\"{cat_alias} in param dict is overridden.\")\n"
     ]
    },
    {
     "name": "stdout",
     "output_type": "stream",
     "text": [
      "[CV] END learning_rate=0.02, n_estimators=600, num_leaves=45; total time=   5.6s\n",
      "[LightGBM] [Warning] categorical_feature is set=lang, categorical_column=5 will be ignored. Current value: categorical_feature=lang\n",
      "[LightGBM] [Info] Number of positive: 7905, number of negative: 15680\n",
      "[LightGBM] [Info] This is the GPU trainer!!\n",
      "[LightGBM] [Info] Total Bins 2517\n",
      "[LightGBM] [Info] Number of data points in the train set: 23585, number of used features: 15\n",
      "[LightGBM] [Info] Using GPU Device: Tesla T4, Vendor: NVIDIA Corporation\n",
      "[LightGBM] [Info] Compiling OpenCL Kernel with 256 bins...\n",
      "[LightGBM] [Info] GPU programs have been built\n",
      "[LightGBM] [Info] Size of histogram bin entry: 8\n",
      "[LightGBM] [Info] 13 dense feature groups (0.36 MB) transferred to GPU in 0.001208 secs. 1 sparse feature groups\n",
      "[LightGBM] [Info] [binary:BoostFromScore]: pavg=0.335171 -> initscore=-0.684891\n",
      "[LightGBM] [Info] Start training from score -0.684891\n"
     ]
    },
    {
     "name": "stderr",
     "output_type": "stream",
     "text": [
      "/usr/local/lib/python3.11/dist-packages/lightgbm/basic.py:2118: UserWarning: categorical_feature keyword has been found in `params` and will be ignored.\n",
      "Please use categorical_feature argument of the Dataset constructor to pass this parameter.\n",
      "  _log_warning(\n",
      "/usr/local/lib/python3.11/dist-packages/lightgbm/basic.py:2140: UserWarning: categorical_feature in param dict is overridden.\n",
      "  _log_warning(f\"{cat_alias} in param dict is overridden.\")\n"
     ]
    },
    {
     "name": "stdout",
     "output_type": "stream",
     "text": [
      "[CV] END learning_rate=0.02, n_estimators=600, num_leaves=45; total time=   3.2s\n",
      "[LightGBM] [Warning] categorical_feature is set=lang, categorical_column=5 will be ignored. Current value: categorical_feature=lang\n",
      "[LightGBM] [Info] Number of positive: 7905, number of negative: 15681\n",
      "[LightGBM] [Info] This is the GPU trainer!!\n",
      "[LightGBM] [Info] Total Bins 2514\n",
      "[LightGBM] [Info] Number of data points in the train set: 23586, number of used features: 15\n",
      "[LightGBM] [Info] Using GPU Device: Tesla T4, Vendor: NVIDIA Corporation\n",
      "[LightGBM] [Info] Compiling OpenCL Kernel with 256 bins...\n",
      "[LightGBM] [Info] GPU programs have been built\n",
      "[LightGBM] [Info] Size of histogram bin entry: 8\n",
      "[LightGBM] [Info] 13 dense feature groups (0.36 MB) transferred to GPU in 0.001293 secs. 1 sparse feature groups\n",
      "[LightGBM] [Info] [binary:BoostFromScore]: pavg=0.335156 -> initscore=-0.684954\n",
      "[LightGBM] [Info] Start training from score -0.684954\n"
     ]
    },
    {
     "name": "stderr",
     "output_type": "stream",
     "text": [
      "/usr/local/lib/python3.11/dist-packages/lightgbm/basic.py:2118: UserWarning: categorical_feature keyword has been found in `params` and will be ignored.\n",
      "Please use categorical_feature argument of the Dataset constructor to pass this parameter.\n",
      "  _log_warning(\n",
      "/usr/local/lib/python3.11/dist-packages/lightgbm/basic.py:2140: UserWarning: categorical_feature in param dict is overridden.\n",
      "  _log_warning(f\"{cat_alias} in param dict is overridden.\")\n"
     ]
    },
    {
     "name": "stdout",
     "output_type": "stream",
     "text": [
      "[CV] END learning_rate=0.02, n_estimators=600, num_leaves=45; total time=   3.2s\n",
      "[LightGBM] [Warning] categorical_feature is set=lang, categorical_column=5 will be ignored. Current value: categorical_feature=lang\n",
      "[LightGBM] [Info] Number of positive: 7905, number of negative: 15681\n",
      "[LightGBM] [Info] This is the GPU trainer!!\n",
      "[LightGBM] [Info] Total Bins 2518\n",
      "[LightGBM] [Info] Number of data points in the train set: 23586, number of used features: 15\n",
      "[LightGBM] [Info] Using GPU Device: Tesla T4, Vendor: NVIDIA Corporation\n",
      "[LightGBM] [Info] Compiling OpenCL Kernel with 256 bins...\n",
      "[LightGBM] [Info] GPU programs have been built\n",
      "[LightGBM] [Info] Size of histogram bin entry: 8\n",
      "[LightGBM] [Info] 13 dense feature groups (0.36 MB) transferred to GPU in 0.001165 secs. 1 sparse feature groups\n",
      "[LightGBM] [Info] [binary:BoostFromScore]: pavg=0.335156 -> initscore=-0.684954\n",
      "[LightGBM] [Info] Start training from score -0.684954\n"
     ]
    },
    {
     "name": "stderr",
     "output_type": "stream",
     "text": [
      "/usr/local/lib/python3.11/dist-packages/lightgbm/basic.py:2118: UserWarning: categorical_feature keyword has been found in `params` and will be ignored.\n",
      "Please use categorical_feature argument of the Dataset constructor to pass this parameter.\n",
      "  _log_warning(\n",
      "/usr/local/lib/python3.11/dist-packages/lightgbm/basic.py:2140: UserWarning: categorical_feature in param dict is overridden.\n",
      "  _log_warning(f\"{cat_alias} in param dict is overridden.\")\n"
     ]
    },
    {
     "name": "stdout",
     "output_type": "stream",
     "text": [
      "[CV] END learning_rate=0.02, n_estimators=600, num_leaves=45; total time=   5.0s\n",
      "[LightGBM] [Warning] categorical_feature is set=lang, categorical_column=5 will be ignored. Current value: categorical_feature=lang\n",
      "[LightGBM] [Info] Number of positive: 7905, number of negative: 15681\n",
      "[LightGBM] [Info] This is the GPU trainer!!\n",
      "[LightGBM] [Info] Total Bins 2518\n",
      "[LightGBM] [Info] Number of data points in the train set: 23586, number of used features: 15\n",
      "[LightGBM] [Info] Using GPU Device: Tesla T4, Vendor: NVIDIA Corporation\n",
      "[LightGBM] [Info] Compiling OpenCL Kernel with 256 bins...\n",
      "[LightGBM] [Info] GPU programs have been built\n",
      "[LightGBM] [Info] Size of histogram bin entry: 8\n",
      "[LightGBM] [Info] 13 dense feature groups (0.36 MB) transferred to GPU in 0.001181 secs. 1 sparse feature groups\n",
      "[LightGBM] [Info] [binary:BoostFromScore]: pavg=0.335156 -> initscore=-0.684954\n",
      "[LightGBM] [Info] Start training from score -0.684954\n"
     ]
    },
    {
     "name": "stderr",
     "output_type": "stream",
     "text": [
      "/usr/local/lib/python3.11/dist-packages/lightgbm/basic.py:2118: UserWarning: categorical_feature keyword has been found in `params` and will be ignored.\n",
      "Please use categorical_feature argument of the Dataset constructor to pass this parameter.\n",
      "  _log_warning(\n",
      "/usr/local/lib/python3.11/dist-packages/lightgbm/basic.py:2140: UserWarning: categorical_feature in param dict is overridden.\n",
      "  _log_warning(f\"{cat_alias} in param dict is overridden.\")\n"
     ]
    },
    {
     "name": "stdout",
     "output_type": "stream",
     "text": [
      "[CV] END learning_rate=0.02, n_estimators=600, num_leaves=45; total time=   3.6s\n",
      "[LightGBM] [Warning] categorical_feature is set=lang, categorical_column=5 will be ignored. Current value: categorical_feature=lang\n",
      "[LightGBM] [Info] Number of positive: 7905, number of negative: 15681\n",
      "[LightGBM] [Info] This is the GPU trainer!!\n",
      "[LightGBM] [Info] Total Bins 2514\n",
      "[LightGBM] [Info] Number of data points in the train set: 23586, number of used features: 15\n",
      "[LightGBM] [Info] Using GPU Device: Tesla T4, Vendor: NVIDIA Corporation\n",
      "[LightGBM] [Info] Compiling OpenCL Kernel with 256 bins...\n",
      "[LightGBM] [Info] GPU programs have been built\n",
      "[LightGBM] [Info] Size of histogram bin entry: 8\n",
      "[LightGBM] [Info] 13 dense feature groups (0.36 MB) transferred to GPU in 0.001206 secs. 1 sparse feature groups\n",
      "[LightGBM] [Info] [binary:BoostFromScore]: pavg=0.335156 -> initscore=-0.684954\n",
      "[LightGBM] [Info] Start training from score -0.684954\n"
     ]
    },
    {
     "name": "stderr",
     "output_type": "stream",
     "text": [
      "/usr/local/lib/python3.11/dist-packages/lightgbm/basic.py:2118: UserWarning: categorical_feature keyword has been found in `params` and will be ignored.\n",
      "Please use categorical_feature argument of the Dataset constructor to pass this parameter.\n",
      "  _log_warning(\n",
      "/usr/local/lib/python3.11/dist-packages/lightgbm/basic.py:2140: UserWarning: categorical_feature in param dict is overridden.\n",
      "  _log_warning(f\"{cat_alias} in param dict is overridden.\")\n"
     ]
    },
    {
     "name": "stdout",
     "output_type": "stream",
     "text": [
      "[CV] END learning_rate=0.02, n_estimators=600, num_leaves=45; total time=   3.2s\n",
      "[LightGBM] [Warning] categorical_feature is set=lang, categorical_column=5 will be ignored. Current value: categorical_feature=lang\n",
      "[LightGBM] [Info] Number of positive: 8783, number of negative: 17423\n",
      "[LightGBM] [Info] This is the GPU trainer!!\n",
      "[LightGBM] [Info] Total Bins 2525\n",
      "[LightGBM] [Info] Number of data points in the train set: 26206, number of used features: 15\n",
      "[LightGBM] [Info] Using GPU Device: Tesla T4, Vendor: NVIDIA Corporation\n",
      "[LightGBM] [Info] Compiling OpenCL Kernel with 256 bins...\n",
      "[LightGBM] [Info] GPU programs have been built\n",
      "[LightGBM] [Info] Size of histogram bin entry: 8\n",
      "[LightGBM] [Info] 13 dense feature groups (0.40 MB) transferred to GPU in 0.001239 secs. 1 sparse feature groups\n",
      "[LightGBM] [Info] [binary:BoostFromScore]: pavg=0.335152 -> initscore=-0.684973\n",
      "[LightGBM] [Info] Start training from score -0.684973\n"
     ]
    },
    {
     "name": "stderr",
     "output_type": "stream",
     "text": [
      "/usr/local/lib/python3.11/dist-packages/lightgbm/basic.py:2118: UserWarning: categorical_feature keyword has been found in `params` and will be ignored.\n",
      "Please use categorical_feature argument of the Dataset constructor to pass this parameter.\n",
      "  _log_warning(\n",
      "/usr/local/lib/python3.11/dist-packages/lightgbm/basic.py:2140: UserWarning: categorical_feature in param dict is overridden.\n",
      "  _log_warning(f\"{cat_alias} in param dict is overridden.\")\n"
     ]
    },
    {
     "data": {
      "text/html": [
       "<style>#sk-container-id-7 {\n",
       "  /* Definition of color scheme common for light and dark mode */\n",
       "  --sklearn-color-text: #000;\n",
       "  --sklearn-color-text-muted: #666;\n",
       "  --sklearn-color-line: gray;\n",
       "  /* Definition of color scheme for unfitted estimators */\n",
       "  --sklearn-color-unfitted-level-0: #fff5e6;\n",
       "  --sklearn-color-unfitted-level-1: #f6e4d2;\n",
       "  --sklearn-color-unfitted-level-2: #ffe0b3;\n",
       "  --sklearn-color-unfitted-level-3: chocolate;\n",
       "  /* Definition of color scheme for fitted estimators */\n",
       "  --sklearn-color-fitted-level-0: #f0f8ff;\n",
       "  --sklearn-color-fitted-level-1: #d4ebff;\n",
       "  --sklearn-color-fitted-level-2: #b3dbfd;\n",
       "  --sklearn-color-fitted-level-3: cornflowerblue;\n",
       "\n",
       "  /* Specific color for light theme */\n",
       "  --sklearn-color-text-on-default-background: var(--sg-text-color, var(--theme-code-foreground, var(--jp-content-font-color1, black)));\n",
       "  --sklearn-color-background: var(--sg-background-color, var(--theme-background, var(--jp-layout-color0, white)));\n",
       "  --sklearn-color-border-box: var(--sg-text-color, var(--theme-code-foreground, var(--jp-content-font-color1, black)));\n",
       "  --sklearn-color-icon: #696969;\n",
       "\n",
       "  @media (prefers-color-scheme: dark) {\n",
       "    /* Redefinition of color scheme for dark theme */\n",
       "    --sklearn-color-text-on-default-background: var(--sg-text-color, var(--theme-code-foreground, var(--jp-content-font-color1, white)));\n",
       "    --sklearn-color-background: var(--sg-background-color, var(--theme-background, var(--jp-layout-color0, #111)));\n",
       "    --sklearn-color-border-box: var(--sg-text-color, var(--theme-code-foreground, var(--jp-content-font-color1, white)));\n",
       "    --sklearn-color-icon: #878787;\n",
       "  }\n",
       "}\n",
       "\n",
       "#sk-container-id-7 {\n",
       "  color: var(--sklearn-color-text);\n",
       "}\n",
       "\n",
       "#sk-container-id-7 pre {\n",
       "  padding: 0;\n",
       "}\n",
       "\n",
       "#sk-container-id-7 input.sk-hidden--visually {\n",
       "  border: 0;\n",
       "  clip: rect(1px 1px 1px 1px);\n",
       "  clip: rect(1px, 1px, 1px, 1px);\n",
       "  height: 1px;\n",
       "  margin: -1px;\n",
       "  overflow: hidden;\n",
       "  padding: 0;\n",
       "  position: absolute;\n",
       "  width: 1px;\n",
       "}\n",
       "\n",
       "#sk-container-id-7 div.sk-dashed-wrapped {\n",
       "  border: 1px dashed var(--sklearn-color-line);\n",
       "  margin: 0 0.4em 0.5em 0.4em;\n",
       "  box-sizing: border-box;\n",
       "  padding-bottom: 0.4em;\n",
       "  background-color: var(--sklearn-color-background);\n",
       "}\n",
       "\n",
       "#sk-container-id-7 div.sk-container {\n",
       "  /* jupyter's `normalize.less` sets `[hidden] { display: none; }`\n",
       "     but bootstrap.min.css set `[hidden] { display: none !important; }`\n",
       "     so we also need the `!important` here to be able to override the\n",
       "     default hidden behavior on the sphinx rendered scikit-learn.org.\n",
       "     See: https://github.com/scikit-learn/scikit-learn/issues/21755 */\n",
       "  display: inline-block !important;\n",
       "  position: relative;\n",
       "}\n",
       "\n",
       "#sk-container-id-7 div.sk-text-repr-fallback {\n",
       "  display: none;\n",
       "}\n",
       "\n",
       "div.sk-parallel-item,\n",
       "div.sk-serial,\n",
       "div.sk-item {\n",
       "  /* draw centered vertical line to link estimators */\n",
       "  background-image: linear-gradient(var(--sklearn-color-text-on-default-background), var(--sklearn-color-text-on-default-background));\n",
       "  background-size: 2px 100%;\n",
       "  background-repeat: no-repeat;\n",
       "  background-position: center center;\n",
       "}\n",
       "\n",
       "/* Parallel-specific style estimator block */\n",
       "\n",
       "#sk-container-id-7 div.sk-parallel-item::after {\n",
       "  content: \"\";\n",
       "  width: 100%;\n",
       "  border-bottom: 2px solid var(--sklearn-color-text-on-default-background);\n",
       "  flex-grow: 1;\n",
       "}\n",
       "\n",
       "#sk-container-id-7 div.sk-parallel {\n",
       "  display: flex;\n",
       "  align-items: stretch;\n",
       "  justify-content: center;\n",
       "  background-color: var(--sklearn-color-background);\n",
       "  position: relative;\n",
       "}\n",
       "\n",
       "#sk-container-id-7 div.sk-parallel-item {\n",
       "  display: flex;\n",
       "  flex-direction: column;\n",
       "}\n",
       "\n",
       "#sk-container-id-7 div.sk-parallel-item:first-child::after {\n",
       "  align-self: flex-end;\n",
       "  width: 50%;\n",
       "}\n",
       "\n",
       "#sk-container-id-7 div.sk-parallel-item:last-child::after {\n",
       "  align-self: flex-start;\n",
       "  width: 50%;\n",
       "}\n",
       "\n",
       "#sk-container-id-7 div.sk-parallel-item:only-child::after {\n",
       "  width: 0;\n",
       "}\n",
       "\n",
       "/* Serial-specific style estimator block */\n",
       "\n",
       "#sk-container-id-7 div.sk-serial {\n",
       "  display: flex;\n",
       "  flex-direction: column;\n",
       "  align-items: center;\n",
       "  background-color: var(--sklearn-color-background);\n",
       "  padding-right: 1em;\n",
       "  padding-left: 1em;\n",
       "}\n",
       "\n",
       "\n",
       "/* Toggleable style: style used for estimator/Pipeline/ColumnTransformer box that is\n",
       "clickable and can be expanded/collapsed.\n",
       "- Pipeline and ColumnTransformer use this feature and define the default style\n",
       "- Estimators will overwrite some part of the style using the `sk-estimator` class\n",
       "*/\n",
       "\n",
       "/* Pipeline and ColumnTransformer style (default) */\n",
       "\n",
       "#sk-container-id-7 div.sk-toggleable {\n",
       "  /* Default theme specific background. It is overwritten whether we have a\n",
       "  specific estimator or a Pipeline/ColumnTransformer */\n",
       "  background-color: var(--sklearn-color-background);\n",
       "}\n",
       "\n",
       "/* Toggleable label */\n",
       "#sk-container-id-7 label.sk-toggleable__label {\n",
       "  cursor: pointer;\n",
       "  display: flex;\n",
       "  width: 100%;\n",
       "  margin-bottom: 0;\n",
       "  padding: 0.5em;\n",
       "  box-sizing: border-box;\n",
       "  text-align: center;\n",
       "  align-items: start;\n",
       "  justify-content: space-between;\n",
       "  gap: 0.5em;\n",
       "}\n",
       "\n",
       "#sk-container-id-7 label.sk-toggleable__label .caption {\n",
       "  font-size: 0.6rem;\n",
       "  font-weight: lighter;\n",
       "  color: var(--sklearn-color-text-muted);\n",
       "}\n",
       "\n",
       "#sk-container-id-7 label.sk-toggleable__label-arrow:before {\n",
       "  /* Arrow on the left of the label */\n",
       "  content: \"▸\";\n",
       "  float: left;\n",
       "  margin-right: 0.25em;\n",
       "  color: var(--sklearn-color-icon);\n",
       "}\n",
       "\n",
       "#sk-container-id-7 label.sk-toggleable__label-arrow:hover:before {\n",
       "  color: var(--sklearn-color-text);\n",
       "}\n",
       "\n",
       "/* Toggleable content - dropdown */\n",
       "\n",
       "#sk-container-id-7 div.sk-toggleable__content {\n",
       "  max-height: 0;\n",
       "  max-width: 0;\n",
       "  overflow: hidden;\n",
       "  text-align: left;\n",
       "  /* unfitted */\n",
       "  background-color: var(--sklearn-color-unfitted-level-0);\n",
       "}\n",
       "\n",
       "#sk-container-id-7 div.sk-toggleable__content.fitted {\n",
       "  /* fitted */\n",
       "  background-color: var(--sklearn-color-fitted-level-0);\n",
       "}\n",
       "\n",
       "#sk-container-id-7 div.sk-toggleable__content pre {\n",
       "  margin: 0.2em;\n",
       "  border-radius: 0.25em;\n",
       "  color: var(--sklearn-color-text);\n",
       "  /* unfitted */\n",
       "  background-color: var(--sklearn-color-unfitted-level-0);\n",
       "}\n",
       "\n",
       "#sk-container-id-7 div.sk-toggleable__content.fitted pre {\n",
       "  /* unfitted */\n",
       "  background-color: var(--sklearn-color-fitted-level-0);\n",
       "}\n",
       "\n",
       "#sk-container-id-7 input.sk-toggleable__control:checked~div.sk-toggleable__content {\n",
       "  /* Expand drop-down */\n",
       "  max-height: 200px;\n",
       "  max-width: 100%;\n",
       "  overflow: auto;\n",
       "}\n",
       "\n",
       "#sk-container-id-7 input.sk-toggleable__control:checked~label.sk-toggleable__label-arrow:before {\n",
       "  content: \"▾\";\n",
       "}\n",
       "\n",
       "/* Pipeline/ColumnTransformer-specific style */\n",
       "\n",
       "#sk-container-id-7 div.sk-label input.sk-toggleable__control:checked~label.sk-toggleable__label {\n",
       "  color: var(--sklearn-color-text);\n",
       "  background-color: var(--sklearn-color-unfitted-level-2);\n",
       "}\n",
       "\n",
       "#sk-container-id-7 div.sk-label.fitted input.sk-toggleable__control:checked~label.sk-toggleable__label {\n",
       "  background-color: var(--sklearn-color-fitted-level-2);\n",
       "}\n",
       "\n",
       "/* Estimator-specific style */\n",
       "\n",
       "/* Colorize estimator box */\n",
       "#sk-container-id-7 div.sk-estimator input.sk-toggleable__control:checked~label.sk-toggleable__label {\n",
       "  /* unfitted */\n",
       "  background-color: var(--sklearn-color-unfitted-level-2);\n",
       "}\n",
       "\n",
       "#sk-container-id-7 div.sk-estimator.fitted input.sk-toggleable__control:checked~label.sk-toggleable__label {\n",
       "  /* fitted */\n",
       "  background-color: var(--sklearn-color-fitted-level-2);\n",
       "}\n",
       "\n",
       "#sk-container-id-7 div.sk-label label.sk-toggleable__label,\n",
       "#sk-container-id-7 div.sk-label label {\n",
       "  /* The background is the default theme color */\n",
       "  color: var(--sklearn-color-text-on-default-background);\n",
       "}\n",
       "\n",
       "/* On hover, darken the color of the background */\n",
       "#sk-container-id-7 div.sk-label:hover label.sk-toggleable__label {\n",
       "  color: var(--sklearn-color-text);\n",
       "  background-color: var(--sklearn-color-unfitted-level-2);\n",
       "}\n",
       "\n",
       "/* Label box, darken color on hover, fitted */\n",
       "#sk-container-id-7 div.sk-label.fitted:hover label.sk-toggleable__label.fitted {\n",
       "  color: var(--sklearn-color-text);\n",
       "  background-color: var(--sklearn-color-fitted-level-2);\n",
       "}\n",
       "\n",
       "/* Estimator label */\n",
       "\n",
       "#sk-container-id-7 div.sk-label label {\n",
       "  font-family: monospace;\n",
       "  font-weight: bold;\n",
       "  display: inline-block;\n",
       "  line-height: 1.2em;\n",
       "}\n",
       "\n",
       "#sk-container-id-7 div.sk-label-container {\n",
       "  text-align: center;\n",
       "}\n",
       "\n",
       "/* Estimator-specific */\n",
       "#sk-container-id-7 div.sk-estimator {\n",
       "  font-family: monospace;\n",
       "  border: 1px dotted var(--sklearn-color-border-box);\n",
       "  border-radius: 0.25em;\n",
       "  box-sizing: border-box;\n",
       "  margin-bottom: 0.5em;\n",
       "  /* unfitted */\n",
       "  background-color: var(--sklearn-color-unfitted-level-0);\n",
       "}\n",
       "\n",
       "#sk-container-id-7 div.sk-estimator.fitted {\n",
       "  /* fitted */\n",
       "  background-color: var(--sklearn-color-fitted-level-0);\n",
       "}\n",
       "\n",
       "/* on hover */\n",
       "#sk-container-id-7 div.sk-estimator:hover {\n",
       "  /* unfitted */\n",
       "  background-color: var(--sklearn-color-unfitted-level-2);\n",
       "}\n",
       "\n",
       "#sk-container-id-7 div.sk-estimator.fitted:hover {\n",
       "  /* fitted */\n",
       "  background-color: var(--sklearn-color-fitted-level-2);\n",
       "}\n",
       "\n",
       "/* Specification for estimator info (e.g. \"i\" and \"?\") */\n",
       "\n",
       "/* Common style for \"i\" and \"?\" */\n",
       "\n",
       ".sk-estimator-doc-link,\n",
       "a:link.sk-estimator-doc-link,\n",
       "a:visited.sk-estimator-doc-link {\n",
       "  float: right;\n",
       "  font-size: smaller;\n",
       "  line-height: 1em;\n",
       "  font-family: monospace;\n",
       "  background-color: var(--sklearn-color-background);\n",
       "  border-radius: 1em;\n",
       "  height: 1em;\n",
       "  width: 1em;\n",
       "  text-decoration: none !important;\n",
       "  margin-left: 0.5em;\n",
       "  text-align: center;\n",
       "  /* unfitted */\n",
       "  border: var(--sklearn-color-unfitted-level-1) 1pt solid;\n",
       "  color: var(--sklearn-color-unfitted-level-1);\n",
       "}\n",
       "\n",
       ".sk-estimator-doc-link.fitted,\n",
       "a:link.sk-estimator-doc-link.fitted,\n",
       "a:visited.sk-estimator-doc-link.fitted {\n",
       "  /* fitted */\n",
       "  border: var(--sklearn-color-fitted-level-1) 1pt solid;\n",
       "  color: var(--sklearn-color-fitted-level-1);\n",
       "}\n",
       "\n",
       "/* On hover */\n",
       "div.sk-estimator:hover .sk-estimator-doc-link:hover,\n",
       ".sk-estimator-doc-link:hover,\n",
       "div.sk-label-container:hover .sk-estimator-doc-link:hover,\n",
       ".sk-estimator-doc-link:hover {\n",
       "  /* unfitted */\n",
       "  background-color: var(--sklearn-color-unfitted-level-3);\n",
       "  color: var(--sklearn-color-background);\n",
       "  text-decoration: none;\n",
       "}\n",
       "\n",
       "div.sk-estimator.fitted:hover .sk-estimator-doc-link.fitted:hover,\n",
       ".sk-estimator-doc-link.fitted:hover,\n",
       "div.sk-label-container:hover .sk-estimator-doc-link.fitted:hover,\n",
       ".sk-estimator-doc-link.fitted:hover {\n",
       "  /* fitted */\n",
       "  background-color: var(--sklearn-color-fitted-level-3);\n",
       "  color: var(--sklearn-color-background);\n",
       "  text-decoration: none;\n",
       "}\n",
       "\n",
       "/* Span, style for the box shown on hovering the info icon */\n",
       ".sk-estimator-doc-link span {\n",
       "  display: none;\n",
       "  z-index: 9999;\n",
       "  position: relative;\n",
       "  font-weight: normal;\n",
       "  right: .2ex;\n",
       "  padding: .5ex;\n",
       "  margin: .5ex;\n",
       "  width: min-content;\n",
       "  min-width: 20ex;\n",
       "  max-width: 50ex;\n",
       "  color: var(--sklearn-color-text);\n",
       "  box-shadow: 2pt 2pt 4pt #999;\n",
       "  /* unfitted */\n",
       "  background: var(--sklearn-color-unfitted-level-0);\n",
       "  border: .5pt solid var(--sklearn-color-unfitted-level-3);\n",
       "}\n",
       "\n",
       ".sk-estimator-doc-link.fitted span {\n",
       "  /* fitted */\n",
       "  background: var(--sklearn-color-fitted-level-0);\n",
       "  border: var(--sklearn-color-fitted-level-3);\n",
       "}\n",
       "\n",
       ".sk-estimator-doc-link:hover span {\n",
       "  display: block;\n",
       "}\n",
       "\n",
       "/* \"?\"-specific style due to the `<a>` HTML tag */\n",
       "\n",
       "#sk-container-id-7 a.estimator_doc_link {\n",
       "  float: right;\n",
       "  font-size: 1rem;\n",
       "  line-height: 1em;\n",
       "  font-family: monospace;\n",
       "  background-color: var(--sklearn-color-background);\n",
       "  border-radius: 1rem;\n",
       "  height: 1rem;\n",
       "  width: 1rem;\n",
       "  text-decoration: none;\n",
       "  /* unfitted */\n",
       "  color: var(--sklearn-color-unfitted-level-1);\n",
       "  border: var(--sklearn-color-unfitted-level-1) 1pt solid;\n",
       "}\n",
       "\n",
       "#sk-container-id-7 a.estimator_doc_link.fitted {\n",
       "  /* fitted */\n",
       "  border: var(--sklearn-color-fitted-level-1) 1pt solid;\n",
       "  color: var(--sklearn-color-fitted-level-1);\n",
       "}\n",
       "\n",
       "/* On hover */\n",
       "#sk-container-id-7 a.estimator_doc_link:hover {\n",
       "  /* unfitted */\n",
       "  background-color: var(--sklearn-color-unfitted-level-3);\n",
       "  color: var(--sklearn-color-background);\n",
       "  text-decoration: none;\n",
       "}\n",
       "\n",
       "#sk-container-id-7 a.estimator_doc_link.fitted:hover {\n",
       "  /* fitted */\n",
       "  background-color: var(--sklearn-color-fitted-level-3);\n",
       "}\n",
       "</style><div id=\"sk-container-id-7\" class=\"sk-top-container\"><div class=\"sk-text-repr-fallback\"><pre>GridSearchCV(cv=StratifiedKFold(n_splits=10, random_state=42, shuffle=True),\n",
       "             estimator=LGBMClassifier(categorical_feature=[&#x27;lang&#x27;],\n",
       "                                      colsample_bytree=0.8, device=&#x27;gpu&#x27;,\n",
       "                                      metric=&#x27;auc&#x27;, n_estimators=500, n_jobs=-1,\n",
       "                                      objective=&#x27;binary&#x27;, random_state=42,\n",
       "                                      subsample=0.8),\n",
       "             n_jobs=1,\n",
       "             param_grid={&#x27;learning_rate&#x27;: [0.001, 0.01, 0.02],\n",
       "                         &#x27;n_estimators&#x27;: [400, 500, 600],\n",
       "                         &#x27;num_leaves&#x27;: [15, 30, 45]},\n",
       "             scoring=&#x27;roc_auc&#x27;, verbose=2)</pre><b>In a Jupyter environment, please rerun this cell to show the HTML representation or trust the notebook. <br />On GitHub, the HTML representation is unable to render, please try loading this page with nbviewer.org.</b></div><div class=\"sk-container\" hidden><div class=\"sk-item sk-dashed-wrapped\"><div class=\"sk-label-container\"><div class=\"sk-label fitted sk-toggleable\"><input class=\"sk-toggleable__control sk-hidden--visually\" id=\"sk-estimator-id-19\" type=\"checkbox\" ><label for=\"sk-estimator-id-19\" class=\"sk-toggleable__label fitted sk-toggleable__label-arrow\"><div><div>GridSearchCV</div></div><div><a class=\"sk-estimator-doc-link fitted\" rel=\"noreferrer\" target=\"_blank\" href=\"https://scikit-learn.org/1.6/modules/generated/sklearn.model_selection.GridSearchCV.html\">?<span>Documentation for GridSearchCV</span></a><span class=\"sk-estimator-doc-link fitted\">i<span>Fitted</span></span></div></label><div class=\"sk-toggleable__content fitted\"><pre>GridSearchCV(cv=StratifiedKFold(n_splits=10, random_state=42, shuffle=True),\n",
       "             estimator=LGBMClassifier(categorical_feature=[&#x27;lang&#x27;],\n",
       "                                      colsample_bytree=0.8, device=&#x27;gpu&#x27;,\n",
       "                                      metric=&#x27;auc&#x27;, n_estimators=500, n_jobs=-1,\n",
       "                                      objective=&#x27;binary&#x27;, random_state=42,\n",
       "                                      subsample=0.8),\n",
       "             n_jobs=1,\n",
       "             param_grid={&#x27;learning_rate&#x27;: [0.001, 0.01, 0.02],\n",
       "                         &#x27;n_estimators&#x27;: [400, 500, 600],\n",
       "                         &#x27;num_leaves&#x27;: [15, 30, 45]},\n",
       "             scoring=&#x27;roc_auc&#x27;, verbose=2)</pre></div> </div></div><div class=\"sk-parallel\"><div class=\"sk-parallel-item\"><div class=\"sk-item\"><div class=\"sk-label-container\"><div class=\"sk-label fitted sk-toggleable\"><input class=\"sk-toggleable__control sk-hidden--visually\" id=\"sk-estimator-id-20\" type=\"checkbox\" ><label for=\"sk-estimator-id-20\" class=\"sk-toggleable__label fitted sk-toggleable__label-arrow\"><div><div>best_estimator_: LGBMClassifier</div></div></label><div class=\"sk-toggleable__content fitted\"><pre>LGBMClassifier(categorical_feature=[&#x27;lang&#x27;], colsample_bytree=0.8, device=&#x27;gpu&#x27;,\n",
       "               learning_rate=0.02, metric=&#x27;auc&#x27;, n_estimators=600, n_jobs=-1,\n",
       "               num_leaves=45, objective=&#x27;binary&#x27;, random_state=42,\n",
       "               subsample=0.8)</pre></div> </div></div><div class=\"sk-serial\"><div class=\"sk-item\"><div class=\"sk-estimator fitted sk-toggleable\"><input class=\"sk-toggleable__control sk-hidden--visually\" id=\"sk-estimator-id-21\" type=\"checkbox\" ><label for=\"sk-estimator-id-21\" class=\"sk-toggleable__label fitted sk-toggleable__label-arrow\"><div><div>LGBMClassifier</div></div></label><div class=\"sk-toggleable__content fitted\"><pre>LGBMClassifier(categorical_feature=[&#x27;lang&#x27;], colsample_bytree=0.8, device=&#x27;gpu&#x27;,\n",
       "               learning_rate=0.02, metric=&#x27;auc&#x27;, n_estimators=600, n_jobs=-1,\n",
       "               num_leaves=45, objective=&#x27;binary&#x27;, random_state=42,\n",
       "               subsample=0.8)</pre></div> </div></div></div></div></div></div></div></div></div>"
      ],
      "text/plain": [
       "GridSearchCV(cv=StratifiedKFold(n_splits=10, random_state=42, shuffle=True),\n",
       "             estimator=LGBMClassifier(categorical_feature=['lang'],\n",
       "                                      colsample_bytree=0.8, device='gpu',\n",
       "                                      metric='auc', n_estimators=500, n_jobs=-1,\n",
       "                                      objective='binary', random_state=42,\n",
       "                                      subsample=0.8),\n",
       "             n_jobs=1,\n",
       "             param_grid={'learning_rate': [0.001, 0.01, 0.02],\n",
       "                         'n_estimators': [400, 500, 600],\n",
       "                         'num_leaves': [15, 30, 45]},\n",
       "             scoring='roc_auc', verbose=2)"
      ]
     },
     "execution_count": 116,
     "metadata": {},
     "output_type": "execute_result"
    }
   ],
   "source": [
    "grid_search_lgb.fit(train_predictors, train_target)"
   ]
  },
  {
   "cell_type": "code",
   "execution_count": 117,
   "id": "QN25w_ZjnrOS",
   "metadata": {
    "colab": {
     "base_uri": "https://localhost:8080/"
    },
    "executionInfo": {
     "elapsed": 375,
     "status": "ok",
     "timestamp": 1747144620705,
     "user": {
      "displayName": "Ivan Ng",
      "userId": "04611729327448256593"
     },
     "user_tz": -480
    },
    "id": "QN25w_ZjnrOS",
    "outputId": "b75d3f81-ff58-4eb3-8879-8a4e5fb92699"
   },
   "outputs": [
    {
     "name": "stdout",
     "output_type": "stream",
     "text": [
      "Train AUC for tuned XGBoost: 0.9797\n"
     ]
    }
   ],
   "source": [
    "best_lgb_model = grid_search_lgb.best_estimator_\n",
    "train_target_proba = best_lgb_model.predict_proba(train_predictors)[:, 1]\n",
    "train_auc_lgb = metrics.roc_auc_score(train_target, train_target_proba)\n",
    "print(f\"Train AUC for tuned XGBoost: {train_auc_lgb:.4f}\")"
   ]
  },
  {
   "cell_type": "code",
   "execution_count": 119,
   "id": "xJ--zXHZ72ux",
   "metadata": {
    "executionInfo": {
     "elapsed": 5,
     "status": "ok",
     "timestamp": 1747144654967,
     "user": {
      "displayName": "Ivan Ng",
      "userId": "04611729327448256593"
     },
     "user_tz": -480
    },
    "id": "xJ--zXHZ72ux"
   },
   "outputs": [],
   "source": [
    "test_set = test_set.drop(columns=['default_profile_image'])"
   ]
  },
  {
   "cell_type": "code",
   "execution_count": 120,
   "id": "X2H9Bgo3o_kz",
   "metadata": {
    "executionInfo": {
     "elapsed": 233,
     "status": "ok",
     "timestamp": 1747144658427,
     "user": {
      "displayName": "Ivan Ng",
      "userId": "04611729327448256593"
     },
     "user_tz": -480
    },
    "id": "X2H9Bgo3o_kz"
   },
   "outputs": [],
   "source": [
    "test_set_predictors = test_set.drop(columns=['index'])\n",
    "test_set_target_proba = best_lgb_model.predict_proba(test_set_predictors)[:, 1]\n",
    "\n",
    "test_set_prob = pd.DataFrame({'index': test_set['index'], 'target': test_set_target_proba})\n",
    "test_set_prob.to_csv('/content/drive/MyDrive/10 Github/CS610_AML/01 Assignment 1/lgb_test_set_prob_7.csv', index=False)"
   ]
  }
 ],
 "metadata": {
  "accelerator": "GPU",
  "colab": {
   "collapsed_sections": [
    "QTJ2Z3uQZuFj"
   ],
   "gpuType": "T4",
   "machine_shape": "hm",
   "provenance": []
  },
  "kernelspec": {
   "display_name": "Python 3",
   "name": "python3"
  },
  "language_info": {
   "codemirror_mode": {
    "name": "ipython",
    "version": 3
   },
   "file_extension": ".py",
   "mimetype": "text/x-python",
   "name": "python",
   "nbconvert_exporter": "python",
   "pygments_lexer": "ipython3",
   "version": "3.13.3"
  }
 },
 "nbformat": 4,
 "nbformat_minor": 5
}
